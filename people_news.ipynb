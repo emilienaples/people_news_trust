{
  "nbformat": 4,
  "nbformat_minor": 0,
  "metadata": {
    "colab": {
      "provenance": [],
      "collapsed_sections": [],
      "authorship_tag": "ABX9TyOZhFGkIoGvPfAaEo/HGYJF",
      "include_colab_link": true
    },
    "kernelspec": {
      "name": "python3",
      "display_name": "Python 3"
    },
    "language_info": {
      "name": "python"
    }
  },
  "cells": [
    {
      "cell_type": "markdown",
      "metadata": {
        "id": "view-in-github",
        "colab_type": "text"
      },
      "source": [
        "<a href=\"https://colab.research.google.com/github/emilienaples/people_news_trust/blob/main/people_news.ipynb\" target=\"_parent\"><img src=\"https://colab.research.google.com/assets/colab-badge.svg\" alt=\"Open In Colab\"/></a>"
      ]
    },
    {
      "cell_type": "markdown",
      "source": [
        "##How many people trust the news? (num_reliable)\n",
        "\n",
        "##How many people agree with the news? (agree)\n"
      ],
      "metadata": {
        "id": "1r_moFo5Tqt_"
      }
    },
    {
      "cell_type": "code",
      "execution_count": 57,
      "metadata": {
        "id": "UlG1X1HlS9tN"
      },
      "outputs": [],
      "source": [
        "import pandas as pd\n",
        "import numpy as np\n",
        "import matplotlib.pyplot as plt\n",
        "import seaborn as sns\n",
        "\n",
        "#Makes graph display in notebook\n",
        "%matplotlib inline   \n",
        "\n",
        "#ignore warnings\n",
        "import warnings\n",
        "def ignore_warn(*args, **kwargs):\n",
        "    pass\n",
        "warnings.warn = ignore_warn()"
      ]
    },
    {
      "cell_type": "code",
      "source": [
        "news = pd.read_excel('PeopleNews.xlsx')\n",
        "news.head()"
      ],
      "metadata": {
        "colab": {
          "base_uri": "https://localhost:8080/",
          "height": 206
        },
        "id": "ACAQZzjoTnnY",
        "outputId": "65c5482a-8c17-4f36-cc56-9b2c00ebf1a2"
      },
      "execution_count": 58,
      "outputs": [
        {
          "output_type": "execute_result",
          "data": {
            "text/plain": [
              "   Age Country       Occupation  Annual Income Trusted Source  num_reliable  \\\n",
              "0   20     USA          Student          10000            CNN             2   \n",
              "1   20     USA          Student          15000       NY Times             3   \n",
              "2   21     USA          Student          10000       NY Times             2   \n",
              "3   25     USA       Accounting          60000           None             0   \n",
              "4   35     USA  Admin Assistant          55000            Fox             2   \n",
              "\n",
              "   agree  \n",
              "0      1  \n",
              "1      3  \n",
              "2      3  \n",
              "3      0  \n",
              "4      1  "
            ],
            "text/html": [
              "\n",
              "  <div id=\"df-9ab42a1b-5114-47a0-bef3-16c9839f9d35\">\n",
              "    <div class=\"colab-df-container\">\n",
              "      <div>\n",
              "<style scoped>\n",
              "    .dataframe tbody tr th:only-of-type {\n",
              "        vertical-align: middle;\n",
              "    }\n",
              "\n",
              "    .dataframe tbody tr th {\n",
              "        vertical-align: top;\n",
              "    }\n",
              "\n",
              "    .dataframe thead th {\n",
              "        text-align: right;\n",
              "    }\n",
              "</style>\n",
              "<table border=\"1\" class=\"dataframe\">\n",
              "  <thead>\n",
              "    <tr style=\"text-align: right;\">\n",
              "      <th></th>\n",
              "      <th>Age</th>\n",
              "      <th>Country</th>\n",
              "      <th>Occupation</th>\n",
              "      <th>Annual Income</th>\n",
              "      <th>Trusted Source</th>\n",
              "      <th>num_reliable</th>\n",
              "      <th>agree</th>\n",
              "    </tr>\n",
              "  </thead>\n",
              "  <tbody>\n",
              "    <tr>\n",
              "      <th>0</th>\n",
              "      <td>20</td>\n",
              "      <td>USA</td>\n",
              "      <td>Student</td>\n",
              "      <td>10000</td>\n",
              "      <td>CNN</td>\n",
              "      <td>2</td>\n",
              "      <td>1</td>\n",
              "    </tr>\n",
              "    <tr>\n",
              "      <th>1</th>\n",
              "      <td>20</td>\n",
              "      <td>USA</td>\n",
              "      <td>Student</td>\n",
              "      <td>15000</td>\n",
              "      <td>NY Times</td>\n",
              "      <td>3</td>\n",
              "      <td>3</td>\n",
              "    </tr>\n",
              "    <tr>\n",
              "      <th>2</th>\n",
              "      <td>21</td>\n",
              "      <td>USA</td>\n",
              "      <td>Student</td>\n",
              "      <td>10000</td>\n",
              "      <td>NY Times</td>\n",
              "      <td>2</td>\n",
              "      <td>3</td>\n",
              "    </tr>\n",
              "    <tr>\n",
              "      <th>3</th>\n",
              "      <td>25</td>\n",
              "      <td>USA</td>\n",
              "      <td>Accounting</td>\n",
              "      <td>60000</td>\n",
              "      <td>None</td>\n",
              "      <td>0</td>\n",
              "      <td>0</td>\n",
              "    </tr>\n",
              "    <tr>\n",
              "      <th>4</th>\n",
              "      <td>35</td>\n",
              "      <td>USA</td>\n",
              "      <td>Admin Assistant</td>\n",
              "      <td>55000</td>\n",
              "      <td>Fox</td>\n",
              "      <td>2</td>\n",
              "      <td>1</td>\n",
              "    </tr>\n",
              "  </tbody>\n",
              "</table>\n",
              "</div>\n",
              "      <button class=\"colab-df-convert\" onclick=\"convertToInteractive('df-9ab42a1b-5114-47a0-bef3-16c9839f9d35')\"\n",
              "              title=\"Convert this dataframe to an interactive table.\"\n",
              "              style=\"display:none;\">\n",
              "        \n",
              "  <svg xmlns=\"http://www.w3.org/2000/svg\" height=\"24px\"viewBox=\"0 0 24 24\"\n",
              "       width=\"24px\">\n",
              "    <path d=\"M0 0h24v24H0V0z\" fill=\"none\"/>\n",
              "    <path d=\"M18.56 5.44l.94 2.06.94-2.06 2.06-.94-2.06-.94-.94-2.06-.94 2.06-2.06.94zm-11 1L8.5 8.5l.94-2.06 2.06-.94-2.06-.94L8.5 2.5l-.94 2.06-2.06.94zm10 10l.94 2.06.94-2.06 2.06-.94-2.06-.94-.94-2.06-.94 2.06-2.06.94z\"/><path d=\"M17.41 7.96l-1.37-1.37c-.4-.4-.92-.59-1.43-.59-.52 0-1.04.2-1.43.59L10.3 9.45l-7.72 7.72c-.78.78-.78 2.05 0 2.83L4 21.41c.39.39.9.59 1.41.59.51 0 1.02-.2 1.41-.59l7.78-7.78 2.81-2.81c.8-.78.8-2.07 0-2.86zM5.41 20L4 18.59l7.72-7.72 1.47 1.35L5.41 20z\"/>\n",
              "  </svg>\n",
              "      </button>\n",
              "      \n",
              "  <style>\n",
              "    .colab-df-container {\n",
              "      display:flex;\n",
              "      flex-wrap:wrap;\n",
              "      gap: 12px;\n",
              "    }\n",
              "\n",
              "    .colab-df-convert {\n",
              "      background-color: #E8F0FE;\n",
              "      border: none;\n",
              "      border-radius: 50%;\n",
              "      cursor: pointer;\n",
              "      display: none;\n",
              "      fill: #1967D2;\n",
              "      height: 32px;\n",
              "      padding: 0 0 0 0;\n",
              "      width: 32px;\n",
              "    }\n",
              "\n",
              "    .colab-df-convert:hover {\n",
              "      background-color: #E2EBFA;\n",
              "      box-shadow: 0px 1px 2px rgba(60, 64, 67, 0.3), 0px 1px 3px 1px rgba(60, 64, 67, 0.15);\n",
              "      fill: #174EA6;\n",
              "    }\n",
              "\n",
              "    [theme=dark] .colab-df-convert {\n",
              "      background-color: #3B4455;\n",
              "      fill: #D2E3FC;\n",
              "    }\n",
              "\n",
              "    [theme=dark] .colab-df-convert:hover {\n",
              "      background-color: #434B5C;\n",
              "      box-shadow: 0px 1px 3px 1px rgba(0, 0, 0, 0.15);\n",
              "      filter: drop-shadow(0px 1px 2px rgba(0, 0, 0, 0.3));\n",
              "      fill: #FFFFFF;\n",
              "    }\n",
              "  </style>\n",
              "\n",
              "      <script>\n",
              "        const buttonEl =\n",
              "          document.querySelector('#df-9ab42a1b-5114-47a0-bef3-16c9839f9d35 button.colab-df-convert');\n",
              "        buttonEl.style.display =\n",
              "          google.colab.kernel.accessAllowed ? 'block' : 'none';\n",
              "\n",
              "        async function convertToInteractive(key) {\n",
              "          const element = document.querySelector('#df-9ab42a1b-5114-47a0-bef3-16c9839f9d35');\n",
              "          const dataTable =\n",
              "            await google.colab.kernel.invokeFunction('convertToInteractive',\n",
              "                                                     [key], {});\n",
              "          if (!dataTable) return;\n",
              "\n",
              "          const docLinkHtml = 'Like what you see? Visit the ' +\n",
              "            '<a target=\"_blank\" href=https://colab.research.google.com/notebooks/data_table.ipynb>data table notebook</a>'\n",
              "            + ' to learn more about interactive tables.';\n",
              "          element.innerHTML = '';\n",
              "          dataTable['output_type'] = 'display_data';\n",
              "          await google.colab.output.renderOutput(dataTable, element);\n",
              "          const docLink = document.createElement('div');\n",
              "          docLink.innerHTML = docLinkHtml;\n",
              "          element.appendChild(docLink);\n",
              "        }\n",
              "      </script>\n",
              "    </div>\n",
              "  </div>\n",
              "  "
            ]
          },
          "metadata": {},
          "execution_count": 58
        }
      ]
    },
    {
      "cell_type": "code",
      "source": [
        "news.shape"
      ],
      "metadata": {
        "colab": {
          "base_uri": "https://localhost:8080/"
        },
        "id": "CidVWqaUTnzY",
        "outputId": "fa1f7788-cd7e-4e1e-ca55-21e3130e2565"
      },
      "execution_count": 59,
      "outputs": [
        {
          "output_type": "execute_result",
          "data": {
            "text/plain": [
              "(87, 7)"
            ]
          },
          "metadata": {},
          "execution_count": 59
        }
      ]
    },
    {
      "cell_type": "code",
      "source": [
        "news.describe().round(3)"
      ],
      "metadata": {
        "colab": {
          "base_uri": "https://localhost:8080/",
          "height": 300
        },
        "id": "Y_X5EmBfTPUY",
        "outputId": "a7894f5a-ead1-4f73-aac8-3f8688582257"
      },
      "execution_count": 60,
      "outputs": [
        {
          "output_type": "execute_result",
          "data": {
            "text/plain": [
              "          Age  Annual Income  num_reliable   agree\n",
              "count  87.000         87.000        87.000  87.000\n",
              "mean   31.241      44965.517         1.851   1.793\n",
              "std    15.732      31099.782         1.244   1.183\n",
              "min    20.000       4000.000         0.000   0.000\n",
              "25%    21.000      10000.000         1.000   1.000\n",
              "50%    25.000      50000.000         2.000   2.000\n",
              "75%    33.000      60000.000         3.000   3.000\n",
              "max    79.000     129000.000         4.000   4.000"
            ],
            "text/html": [
              "\n",
              "  <div id=\"df-1abd653b-cda4-483a-b0ea-317e5d414ee4\">\n",
              "    <div class=\"colab-df-container\">\n",
              "      <div>\n",
              "<style scoped>\n",
              "    .dataframe tbody tr th:only-of-type {\n",
              "        vertical-align: middle;\n",
              "    }\n",
              "\n",
              "    .dataframe tbody tr th {\n",
              "        vertical-align: top;\n",
              "    }\n",
              "\n",
              "    .dataframe thead th {\n",
              "        text-align: right;\n",
              "    }\n",
              "</style>\n",
              "<table border=\"1\" class=\"dataframe\">\n",
              "  <thead>\n",
              "    <tr style=\"text-align: right;\">\n",
              "      <th></th>\n",
              "      <th>Age</th>\n",
              "      <th>Annual Income</th>\n",
              "      <th>num_reliable</th>\n",
              "      <th>agree</th>\n",
              "    </tr>\n",
              "  </thead>\n",
              "  <tbody>\n",
              "    <tr>\n",
              "      <th>count</th>\n",
              "      <td>87.000</td>\n",
              "      <td>87.000</td>\n",
              "      <td>87.000</td>\n",
              "      <td>87.000</td>\n",
              "    </tr>\n",
              "    <tr>\n",
              "      <th>mean</th>\n",
              "      <td>31.241</td>\n",
              "      <td>44965.517</td>\n",
              "      <td>1.851</td>\n",
              "      <td>1.793</td>\n",
              "    </tr>\n",
              "    <tr>\n",
              "      <th>std</th>\n",
              "      <td>15.732</td>\n",
              "      <td>31099.782</td>\n",
              "      <td>1.244</td>\n",
              "      <td>1.183</td>\n",
              "    </tr>\n",
              "    <tr>\n",
              "      <th>min</th>\n",
              "      <td>20.000</td>\n",
              "      <td>4000.000</td>\n",
              "      <td>0.000</td>\n",
              "      <td>0.000</td>\n",
              "    </tr>\n",
              "    <tr>\n",
              "      <th>25%</th>\n",
              "      <td>21.000</td>\n",
              "      <td>10000.000</td>\n",
              "      <td>1.000</td>\n",
              "      <td>1.000</td>\n",
              "    </tr>\n",
              "    <tr>\n",
              "      <th>50%</th>\n",
              "      <td>25.000</td>\n",
              "      <td>50000.000</td>\n",
              "      <td>2.000</td>\n",
              "      <td>2.000</td>\n",
              "    </tr>\n",
              "    <tr>\n",
              "      <th>75%</th>\n",
              "      <td>33.000</td>\n",
              "      <td>60000.000</td>\n",
              "      <td>3.000</td>\n",
              "      <td>3.000</td>\n",
              "    </tr>\n",
              "    <tr>\n",
              "      <th>max</th>\n",
              "      <td>79.000</td>\n",
              "      <td>129000.000</td>\n",
              "      <td>4.000</td>\n",
              "      <td>4.000</td>\n",
              "    </tr>\n",
              "  </tbody>\n",
              "</table>\n",
              "</div>\n",
              "      <button class=\"colab-df-convert\" onclick=\"convertToInteractive('df-1abd653b-cda4-483a-b0ea-317e5d414ee4')\"\n",
              "              title=\"Convert this dataframe to an interactive table.\"\n",
              "              style=\"display:none;\">\n",
              "        \n",
              "  <svg xmlns=\"http://www.w3.org/2000/svg\" height=\"24px\"viewBox=\"0 0 24 24\"\n",
              "       width=\"24px\">\n",
              "    <path d=\"M0 0h24v24H0V0z\" fill=\"none\"/>\n",
              "    <path d=\"M18.56 5.44l.94 2.06.94-2.06 2.06-.94-2.06-.94-.94-2.06-.94 2.06-2.06.94zm-11 1L8.5 8.5l.94-2.06 2.06-.94-2.06-.94L8.5 2.5l-.94 2.06-2.06.94zm10 10l.94 2.06.94-2.06 2.06-.94-2.06-.94-.94-2.06-.94 2.06-2.06.94z\"/><path d=\"M17.41 7.96l-1.37-1.37c-.4-.4-.92-.59-1.43-.59-.52 0-1.04.2-1.43.59L10.3 9.45l-7.72 7.72c-.78.78-.78 2.05 0 2.83L4 21.41c.39.39.9.59 1.41.59.51 0 1.02-.2 1.41-.59l7.78-7.78 2.81-2.81c.8-.78.8-2.07 0-2.86zM5.41 20L4 18.59l7.72-7.72 1.47 1.35L5.41 20z\"/>\n",
              "  </svg>\n",
              "      </button>\n",
              "      \n",
              "  <style>\n",
              "    .colab-df-container {\n",
              "      display:flex;\n",
              "      flex-wrap:wrap;\n",
              "      gap: 12px;\n",
              "    }\n",
              "\n",
              "    .colab-df-convert {\n",
              "      background-color: #E8F0FE;\n",
              "      border: none;\n",
              "      border-radius: 50%;\n",
              "      cursor: pointer;\n",
              "      display: none;\n",
              "      fill: #1967D2;\n",
              "      height: 32px;\n",
              "      padding: 0 0 0 0;\n",
              "      width: 32px;\n",
              "    }\n",
              "\n",
              "    .colab-df-convert:hover {\n",
              "      background-color: #E2EBFA;\n",
              "      box-shadow: 0px 1px 2px rgba(60, 64, 67, 0.3), 0px 1px 3px 1px rgba(60, 64, 67, 0.15);\n",
              "      fill: #174EA6;\n",
              "    }\n",
              "\n",
              "    [theme=dark] .colab-df-convert {\n",
              "      background-color: #3B4455;\n",
              "      fill: #D2E3FC;\n",
              "    }\n",
              "\n",
              "    [theme=dark] .colab-df-convert:hover {\n",
              "      background-color: #434B5C;\n",
              "      box-shadow: 0px 1px 3px 1px rgba(0, 0, 0, 0.15);\n",
              "      filter: drop-shadow(0px 1px 2px rgba(0, 0, 0, 0.3));\n",
              "      fill: #FFFFFF;\n",
              "    }\n",
              "  </style>\n",
              "\n",
              "      <script>\n",
              "        const buttonEl =\n",
              "          document.querySelector('#df-1abd653b-cda4-483a-b0ea-317e5d414ee4 button.colab-df-convert');\n",
              "        buttonEl.style.display =\n",
              "          google.colab.kernel.accessAllowed ? 'block' : 'none';\n",
              "\n",
              "        async function convertToInteractive(key) {\n",
              "          const element = document.querySelector('#df-1abd653b-cda4-483a-b0ea-317e5d414ee4');\n",
              "          const dataTable =\n",
              "            await google.colab.kernel.invokeFunction('convertToInteractive',\n",
              "                                                     [key], {});\n",
              "          if (!dataTable) return;\n",
              "\n",
              "          const docLinkHtml = 'Like what you see? Visit the ' +\n",
              "            '<a target=\"_blank\" href=https://colab.research.google.com/notebooks/data_table.ipynb>data table notebook</a>'\n",
              "            + ' to learn more about interactive tables.';\n",
              "          element.innerHTML = '';\n",
              "          dataTable['output_type'] = 'display_data';\n",
              "          await google.colab.output.renderOutput(dataTable, element);\n",
              "          const docLink = document.createElement('div');\n",
              "          docLink.innerHTML = docLinkHtml;\n",
              "          element.appendChild(docLink);\n",
              "        }\n",
              "      </script>\n",
              "    </div>\n",
              "  </div>\n",
              "  "
            ]
          },
          "metadata": {},
          "execution_count": 60
        }
      ]
    },
    {
      "cell_type": "code",
      "source": [
        "news.dtypes"
      ],
      "metadata": {
        "colab": {
          "base_uri": "https://localhost:8080/"
        },
        "id": "9CQRR2bbbbMg",
        "outputId": "d67d949b-4a05-493e-9921-1b8fcadd1ce5"
      },
      "execution_count": 61,
      "outputs": [
        {
          "output_type": "execute_result",
          "data": {
            "text/plain": [
              "Age                int64\n",
              "Country           object\n",
              "Occupation        object\n",
              "Annual Income      int64\n",
              "Trusted Source    object\n",
              "num_reliable       int64\n",
              "agree              int64\n",
              "dtype: object"
            ]
          },
          "metadata": {},
          "execution_count": 61
        }
      ]
    },
    {
      "cell_type": "code",
      "source": [
        "# age = continous both nominal & ordinal\n",
        "# country = discrete nominal\n",
        "# Occupation = discrete\n",
        "# Trusted Source = discrete\n",
        "# Annual Income = continous\n",
        "# num_reliable = discrete\n",
        "# agree = discrete"
      ],
      "metadata": {
        "id": "5DujJVEtMPd_"
      },
      "execution_count": 62,
      "outputs": []
    },
    {
      "cell_type": "code",
      "source": [
        "cat_cols = ['Country', 'Occupation', 'Trusted Source',  'num_reliable', 'agree']\n",
        "num_cols = ['Age', 'Annual Income']"
      ],
      "metadata": {
        "id": "GBwI-5wCbs_w"
      },
      "execution_count": 63,
      "outputs": []
    },
    {
      "cell_type": "markdown",
      "source": [
        "Discrete variables should be shown in barplots rather than histograms, scatterplots are only reasonable betwen pair of continuous variables rather than discrete, boxplots should be used to compare a conntinuous variable vs discretre or categorical.\n",
        "\n"
      ],
      "metadata": {
        "id": "O1dPgG5Ix1rt"
      }
    },
    {
      "cell_type": "markdown",
      "source": [
        "If you can count the items, then you are working with a discrete variable – e.g. counting the number of people in a stadium. But if you can measure the items, you are working with a continuous variable – e.g. measuring height, weight, time, etc."
      ],
      "metadata": {
        "id": "jSndKWTC1Gn4"
      }
    },
    {
      "cell_type": "markdown",
      "source": [
        "## Data Visualization"
      ],
      "metadata": {
        "id": "4WUgSwjBQLLl"
      }
    },
    {
      "cell_type": "markdown",
      "source": [
        "BAR PLOT FOR CATEGORICAL COLUMNS"
      ],
      "metadata": {
        "id": "v-RXkVoaAuN5"
      }
    },
    {
      "cell_type": "code",
      "source": [
        "for col in cat_cols:\n",
        "    fig = plt.figure(figsize=(4,4)) # define plot area\n",
        "    ax = fig.gca() # define axis  \n",
        "    \n",
        "    counts = news[col].value_counts() # find the counts for each unique category\n",
        "    counts.plot.bar(ax = ax) # Use the plot.bar method on the counts data frame\n",
        "    ax.set_title('Bar plot for ' + col)"
      ],
      "metadata": {
        "colab": {
          "base_uri": "https://localhost:8080/",
          "height": 1000
        },
        "id": "nAx37yFrcEOp",
        "outputId": "f113246b-73ac-4603-b732-fb66606d8731"
      },
      "execution_count": 64,
      "outputs": [
        {
          "output_type": "display_data",
          "data": {
            "text/plain": [
              "<Figure size 288x288 with 1 Axes>"
            ],
            "image/png": "[encoded data removed]"
          },
          "metadata": {
            "needs_background": "light"
          }
        },
        {
          "output_type": "display_data",
          "data": {
            "text/plain": [
              "<Figure size 288x288 with 1 Axes>"
            ],
            "image/png": "[encoded data removed]"
          },
          "metadata": {
            "needs_background": "light"
          }
        },
        {
          "output_type": "display_data",
          "data": {
            "text/plain": [
              "<Figure size 288x288 with 1 Axes>"
            ],
            "image/png": "[encoded data removed]"
          },
          "metadata": {
            "needs_background": "light"
          }
        },
        {
          "output_type": "display_data",
          "data": {
            "text/plain": [
              "<Figure size 288x288 with 1 Axes>"
            ],
            "image/png": "[encoded data removed]"
          },
          "metadata": {
            "needs_background": "light"
          }
        },
        {
          "output_type": "display_data",
          "data": {
            "text/plain": [
              "<Figure size 288x288 with 1 Axes>"
            ],
            "image/png": "[encoded data removed]"
          },
          "metadata": {
            "needs_background": "light"
          }
        }
      ]
    },
    {
      "cell_type": "markdown",
      "source": [
        "#Scatter Plot for Numerical Features"
      ],
      "metadata": {
        "id": "USTL99jRdtnF"
      }
    },
    {
      "cell_type": "markdown",
      "source": [
        "(Annual Income and Age)"
      ],
      "metadata": {
        "id": "7ZHMpqKK5vdj"
      }
    },
    {
      "cell_type": "code",
      "source": [
        "fig = plt.figure(figsize=(4,4)) # define plot area\n",
        "ax = fig.gca() # define axis  \n",
        "news.plot.scatter(x = 'Annual Income', y = 'Age', ax = ax)\n",
        "\n",
        "fig = plt.figure(figsize=(4,4)) # define plot area\n",
        "ax = fig.gca() # define axis  \n",
        "news.plot.scatter(x = 'Age', y = 'Annual Income', ax = ax)"
      ],
      "metadata": {
        "colab": {
          "base_uri": "https://localhost:8080/",
          "height": 558
        },
        "id": "4q0zAFUZ7XUR",
        "outputId": "d3b8074a-fb6e-4289-d87a-70ecff46d234"
      },
      "execution_count": 65,
      "outputs": [
        {
          "output_type": "execute_result",
          "data": {
            "text/plain": [
              "<matplotlib.axes._subplots.AxesSubplot at 0x7fb7da553710>"
            ]
          },
          "metadata": {},
          "execution_count": 65
        },
        {
          "output_type": "display_data",
          "data": {
            "text/plain": [
              "<Figure size 288x288 with 1 Axes>"
            ],
            "image/png": "[encoded data removed]"
          },
          "metadata": {
            "needs_background": "light"
          }
        },
        {
          "output_type": "display_data",
          "data": {
            "text/plain": [
              "<Figure size 288x288 with 1 Axes>"
            ],
            "image/png": "[encoded data removed]"
          },
          "metadata": {
            "needs_background": "light"
          }
        }
      ]
    },
    {
      "cell_type": "markdown",
      "source": [
        "**obtain the histogram whose area = 1  \n",
        "hist(Grade, freq = F) in R**"
      ],
      "metadata": {
        "id": "R_88HD5cy-BC"
      }
    },
    {
      "cell_type": "markdown",
      "source": [
        "**what is the ecdf??**"
      ],
      "metadata": {
        "id": "_kbJZi7tzNXI"
      }
    },
    {
      "cell_type": "markdown",
      "source": [
        "## BOX PLOTS OF CATEGORICAL COLUMNS AGAINST CONTINOUS VARIABLE AGE:"
      ],
      "metadata": {
        "id": "2Vs3ndLheAtR"
      }
    },
    {
      "cell_type": "code",
      "source": [
        "for col in cat_cols:\n",
        "  sns.boxplot(x=news[col], y='Age', data=news)\n",
        "  plt.xlabel(col) # Set text for the x axis\n",
        "  plt.xticks(rotation=45)\n",
        "  plt.ylabel('Age')# Set text for y axis\n",
        "  plt.show()"
      ],
      "metadata": {
        "colab": {
          "base_uri": "https://localhost:8080/",
          "height": 1000
        },
        "id": "P3qIMG338C4x",
        "outputId": "6e63f5ba-e7d5-4e6b-d805-5fe923f9875e"
      },
      "execution_count": 66,
      "outputs": [
        {
          "output_type": "display_data",
          "data": {
            "text/plain": [
              "<Figure size 432x288 with 1 Axes>"
            ],
            "image/png": "[encoded data removed]"
          },
          "metadata": {
            "needs_background": "light"
          }
        },
        {
          "output_type": "display_data",
          "data": {
            "text/plain": [
              "<Figure size 432x288 with 1 Axes>"
            ],
            "image/png": "[encoded data removed]"
          },
          "metadata": {
            "needs_background": "light"
          }
        },
        {
          "output_type": "display_data",
          "data": {
            "text/plain": [
              "<Figure size 432x288 with 1 Axes>"
            ],
            "image/png": "[encoded data removed]"
          },
          "metadata": {
            "needs_background": "light"
          }
        },
        {
          "output_type": "display_data",
          "data": {
            "text/plain": [
              "<Figure size 432x288 with 1 Axes>"
            ],
            "image/png": "[encoded data removed]"
          },
          "metadata": {
            "needs_background": "light"
          }
        },
        {
          "output_type": "display_data",
          "data": {
            "text/plain": [
              "<Figure size 432x288 with 1 Axes>"
            ],
            "image/png": "[encoded data removed]"
          },
          "metadata": {
            "needs_background": "light"
          }
        }
      ]
    },
    {
      "cell_type": "markdown",
      "source": [
        "## BOX PLOTS OF CATEGORICAL COLUMNS AGAINST CONTINOUS VARIABLE ANNUAL INCOME:"
      ],
      "metadata": {
        "id": "BEjtFUUZ8thx"
      }
    },
    {
      "cell_type": "code",
      "source": [
        "for col in cat_cols:\n",
        "  sns.boxplot(x=news[col], y='Annual Income', data=news)\n",
        "  plt.xlabel(col) # Set text for the x axis\n",
        "  plt.xticks(rotation=45)\n",
        "  plt.ylabel('Annual Income')# Set text for y axis\n",
        "  plt.show()"
      ],
      "metadata": {
        "colab": {
          "base_uri": "https://localhost:8080/",
          "height": 1000
        },
        "id": "wpbrFaKJd43L",
        "outputId": "c3dc20ea-33c8-4108-d95f-7bc4f9f3bd56"
      },
      "execution_count": 67,
      "outputs": [
        {
          "output_type": "display_data",
          "data": {
            "text/plain": [
              "<Figure size 432x288 with 1 Axes>"
            ],
            "image/png": "[encoded data removed]"
          },
          "metadata": {
            "needs_background": "light"
          }
        },
        {
          "output_type": "display_data",
          "data": {
            "text/plain": [
              "<Figure size 432x288 with 1 Axes>"
            ],
            "image/png": "[encoded data removed]"
          },
          "metadata": {
            "needs_background": "light"
          }
        },
        {
          "output_type": "display_data",
          "data": {
            "text/plain": [
              "<Figure size 432x288 with 1 Axes>"
            ],
            "image/png": "[encoded data removed]"
          },
          "metadata": {
            "needs_background": "light"
          }
        },
        {
          "output_type": "display_data",
          "data": {
            "text/plain": [
              "<Figure size 432x288 with 1 Axes>"
            ],
            "image/png": "[encoded data removed]"
          },
          "metadata": {
            "needs_background": "light"
          }
        },
        {
          "output_type": "display_data",
          "data": {
            "text/plain": [
              "<Figure size 432x288 with 1 Axes>"
            ],
            "image/png": "[encoded data removed]"
          },
          "metadata": {
            "needs_background": "light"
          }
        }
      ]
    },
    {
      "cell_type": "markdown",
      "source": [
        "## Transforming Skewed Features"
      ],
      "metadata": {
        "id": "pl8ZDTLUD1-s"
      }
    },
    {
      "cell_type": "markdown",
      "source": [
        "## Skew"
      ],
      "metadata": {
        "id": "Hl261_87QuJK"
      }
    },
    {
      "cell_type": "code",
      "source": [
        "num_feats = news.dtypes[news.dtypes != 'object'].index\n",
        "skew_feats=news[num_feats].skew().sort_values(ascending=False)\n",
        "skewness=pd.DataFrame({'Skew': skew_feats})\n",
        "\n",
        "skewness"
      ],
      "metadata": {
        "colab": {
          "base_uri": "https://localhost:8080/",
          "height": 175
        },
        "id": "J6RwLl80XDWc",
        "outputId": "773eb750-fc23-46b3-e0f4-553df1bff251"
      },
      "execution_count": 68,
      "outputs": [
        {
          "output_type": "execute_result",
          "data": {
            "text/plain": [
              "                   Skew\n",
              "Age            1.847848\n",
              "Annual Income  0.545060\n",
              "num_reliable  -0.043681\n",
              "agree         -0.061708"
            ],
            "text/html": [
              "\n",
              "  <div id=\"df-b9bf9f9b-f68a-4bd0-9c69-42f14c7544c5\">\n",
              "    <div class=\"colab-df-container\">\n",
              "      <div>\n",
              "<style scoped>\n",
              "    .dataframe tbody tr th:only-of-type {\n",
              "        vertical-align: middle;\n",
              "    }\n",
              "\n",
              "    .dataframe tbody tr th {\n",
              "        vertical-align: top;\n",
              "    }\n",
              "\n",
              "    .dataframe thead th {\n",
              "        text-align: right;\n",
              "    }\n",
              "</style>\n",
              "<table border=\"1\" class=\"dataframe\">\n",
              "  <thead>\n",
              "    <tr style=\"text-align: right;\">\n",
              "      <th></th>\n",
              "      <th>Skew</th>\n",
              "    </tr>\n",
              "  </thead>\n",
              "  <tbody>\n",
              "    <tr>\n",
              "      <th>Age</th>\n",
              "      <td>1.847848</td>\n",
              "    </tr>\n",
              "    <tr>\n",
              "      <th>Annual Income</th>\n",
              "      <td>0.545060</td>\n",
              "    </tr>\n",
              "    <tr>\n",
              "      <th>num_reliable</th>\n",
              "      <td>-0.043681</td>\n",
              "    </tr>\n",
              "    <tr>\n",
              "      <th>agree</th>\n",
              "      <td>-0.061708</td>\n",
              "    </tr>\n",
              "  </tbody>\n",
              "</table>\n",
              "</div>\n",
              "      <button class=\"colab-df-convert\" onclick=\"convertToInteractive('df-b9bf9f9b-f68a-4bd0-9c69-42f14c7544c5')\"\n",
              "              title=\"Convert this dataframe to an interactive table.\"\n",
              "              style=\"display:none;\">\n",
              "        \n",
              "  <svg xmlns=\"http://www.w3.org/2000/svg\" height=\"24px\"viewBox=\"0 0 24 24\"\n",
              "       width=\"24px\">\n",
              "    <path d=\"M0 0h24v24H0V0z\" fill=\"none\"/>\n",
              "    <path d=\"M18.56 5.44l.94 2.06.94-2.06 2.06-.94-2.06-.94-.94-2.06-.94 2.06-2.06.94zm-11 1L8.5 8.5l.94-2.06 2.06-.94-2.06-.94L8.5 2.5l-.94 2.06-2.06.94zm10 10l.94 2.06.94-2.06 2.06-.94-2.06-.94-.94-2.06-.94 2.06-2.06.94z\"/><path d=\"M17.41 7.96l-1.37-1.37c-.4-.4-.92-.59-1.43-.59-.52 0-1.04.2-1.43.59L10.3 9.45l-7.72 7.72c-.78.78-.78 2.05 0 2.83L4 21.41c.39.39.9.59 1.41.59.51 0 1.02-.2 1.41-.59l7.78-7.78 2.81-2.81c.8-.78.8-2.07 0-2.86zM5.41 20L4 18.59l7.72-7.72 1.47 1.35L5.41 20z\"/>\n",
              "  </svg>\n",
              "      </button>\n",
              "      \n",
              "  <style>\n",
              "    .colab-df-container {\n",
              "      display:flex;\n",
              "      flex-wrap:wrap;\n",
              "      gap: 12px;\n",
              "    }\n",
              "\n",
              "    .colab-df-convert {\n",
              "      background-color: #E8F0FE;\n",
              "      border: none;\n",
              "      border-radius: 50%;\n",
              "      cursor: pointer;\n",
              "      display: none;\n",
              "      fill: #1967D2;\n",
              "      height: 32px;\n",
              "      padding: 0 0 0 0;\n",
              "      width: 32px;\n",
              "    }\n",
              "\n",
              "    .colab-df-convert:hover {\n",
              "      background-color: #E2EBFA;\n",
              "      box-shadow: 0px 1px 2px rgba(60, 64, 67, 0.3), 0px 1px 3px 1px rgba(60, 64, 67, 0.15);\n",
              "      fill: #174EA6;\n",
              "    }\n",
              "\n",
              "    [theme=dark] .colab-df-convert {\n",
              "      background-color: #3B4455;\n",
              "      fill: #D2E3FC;\n",
              "    }\n",
              "\n",
              "    [theme=dark] .colab-df-convert:hover {\n",
              "      background-color: #434B5C;\n",
              "      box-shadow: 0px 1px 3px 1px rgba(0, 0, 0, 0.15);\n",
              "      filter: drop-shadow(0px 1px 2px rgba(0, 0, 0, 0.3));\n",
              "      fill: #FFFFFF;\n",
              "    }\n",
              "  </style>\n",
              "\n",
              "      <script>\n",
              "        const buttonEl =\n",
              "          document.querySelector('#df-b9bf9f9b-f68a-4bd0-9c69-42f14c7544c5 button.colab-df-convert');\n",
              "        buttonEl.style.display =\n",
              "          google.colab.kernel.accessAllowed ? 'block' : 'none';\n",
              "\n",
              "        async function convertToInteractive(key) {\n",
              "          const element = document.querySelector('#df-b9bf9f9b-f68a-4bd0-9c69-42f14c7544c5');\n",
              "          const dataTable =\n",
              "            await google.colab.kernel.invokeFunction('convertToInteractive',\n",
              "                                                     [key], {});\n",
              "          if (!dataTable) return;\n",
              "\n",
              "          const docLinkHtml = 'Like what you see? Visit the ' +\n",
              "            '<a target=\"_blank\" href=https://colab.research.google.com/notebooks/data_table.ipynb>data table notebook</a>'\n",
              "            + ' to learn more about interactive tables.';\n",
              "          element.innerHTML = '';\n",
              "          dataTable['output_type'] = 'display_data';\n",
              "          await google.colab.output.renderOutput(dataTable, element);\n",
              "          const docLink = document.createElement('div');\n",
              "          docLink.innerHTML = docLinkHtml;\n",
              "          element.appendChild(docLink);\n",
              "        }\n",
              "      </script>\n",
              "    </div>\n",
              "  </div>\n",
              "  "
            ]
          },
          "metadata": {},
          "execution_count": 68
        }
      ]
    },
    {
      "cell_type": "markdown",
      "source": [
        "We see that Age is very right skewed. There are also two populations for Occupation, 'Student' and 'Other'.\n",
        "\n",
        "\n",
        "Annual Income has gaps in the distribution. There are several populations.  "
      ],
      "metadata": {
        "id": "44jdtSlKQCgn"
      }
    },
    {
      "cell_type": "markdown",
      "source": [
        "## Test the transform"
      ],
      "metadata": {
        "id": "uNTlrmQ9wSjw"
      }
    },
    {
      "cell_type": "code",
      "source": [
        "sns.displot(news.Age)"
      ],
      "metadata": {
        "colab": {
          "base_uri": "https://localhost:8080/",
          "height": 386
        },
        "id": "LmZJpHS-KpHj",
        "outputId": "1fc64ce0-effa-47da-955f-1b67692449f0"
      },
      "execution_count": 90,
      "outputs": [
        {
          "output_type": "execute_result",
          "data": {
            "text/plain": [
              "<seaborn.axisgrid.FacetGrid at 0x7fb7da2cba10>"
            ]
          },
          "metadata": {},
          "execution_count": 90
        },
        {
          "output_type": "display_data",
          "data": {
            "text/plain": [
              "<Figure size 360x360 with 1 Axes>"
            ],
            "image/png": "[encoded data removed]"
          },
          "metadata": {
            "needs_background": "light"
          }
        }
      ]
    },
    {
      "cell_type": "code",
      "source": [
        "age_log = np.log(news.Age)\n",
        "sns.displot(data=age_log)"
      ],
      "metadata": {
        "colab": {
          "base_uri": "https://localhost:8080/",
          "height": 386
        },
        "id": "D7-Z27wIu6Ae",
        "outputId": "1da034f7-714e-49c1-c159-23cf1a35f84f"
      },
      "execution_count": 91,
      "outputs": [
        {
          "output_type": "execute_result",
          "data": {
            "text/plain": [
              "<seaborn.axisgrid.FacetGrid at 0x7fb7da277190>"
            ]
          },
          "metadata": {},
          "execution_count": 91
        },
        {
          "output_type": "display_data",
          "data": {
            "text/plain": [
              "<Figure size 360x360 with 1 Axes>"
            ],
            "image/png": "[encoded data removed]"
          },
          "metadata": {
            "needs_background": "light"
          }
        }
      ]
    },
    {
      "cell_type": "markdown",
      "source": [
        "We could directly fit a model with the log-transformed data or divide into subpopulations on the original Age variable"
      ],
      "metadata": {
        "id": "2DEKRo44xVq1"
      }
    },
    {
      "cell_type": "markdown",
      "source": [
        "# Divide subpopulations for Age"
      ],
      "metadata": {
        "id": "JZvbgfJfUjjN"
      }
    },
    {
      "cell_type": "code",
      "source": [
        "under_50 = news.loc[news['Age'] <= 50]\n",
        "over_50 = news.loc[news['Age'] > 50]\n",
        "\n",
        "sns.displot(under_50['Age'])\n",
        "sns.displot(over_50['Age'])"
      ],
      "metadata": {
        "colab": {
          "base_uri": "https://localhost:8080/",
          "height": 738
        },
        "id": "mxwnu3BdETLZ",
        "outputId": "2ef6f767-a79c-4fe7-9d67-968a6ba03165"
      },
      "execution_count": 92,
      "outputs": [
        {
          "output_type": "execute_result",
          "data": {
            "text/plain": [
              "<seaborn.axisgrid.FacetGrid at 0x7fb7dde27890>"
            ]
          },
          "metadata": {},
          "execution_count": 92
        },
        {
          "output_type": "display_data",
          "data": {
            "text/plain": [
              "<Figure size 360x360 with 1 Axes>"
            ],
            "image/png": "[encoded data removed]"
          },
          "metadata": {
            "needs_background": "light"
          }
        },
        {
          "output_type": "display_data",
          "data": {
            "text/plain": [
              "<Figure size 360x360 with 1 Axes>"
            ],
            "image/png": "[encoded data removed]"
          },
          "metadata": {
            "needs_background": "light"
          }
        }
      ]
    },
    {
      "cell_type": "markdown",
      "source": [
        "Let's try and transform the seperate subpopulations"
      ],
      "metadata": {
        "id": "4wRLLFDiyNeH"
      }
    },
    {
      "cell_type": "code",
      "source": [
        "under_50_log = np.log(under_50['Age'])\n",
        "sns.displot(data=under_50_log)\n",
        "\n",
        "over_50_log = np.log(over_50['Age'])\n",
        "sns.displot(data=over_50_log)"
      ],
      "metadata": {
        "colab": {
          "base_uri": "https://localhost:8080/",
          "height": 738
        },
        "id": "cFZjFBKByQaX",
        "outputId": "f549ed14-4d64-4323-b179-2a0d81d30a22"
      },
      "execution_count": 97,
      "outputs": [
        {
          "output_type": "execute_result",
          "data": {
            "text/plain": [
              "<seaborn.axisgrid.FacetGrid at 0x7fb7d9efcb10>"
            ]
          },
          "metadata": {},
          "execution_count": 97
        },
        {
          "output_type": "display_data",
          "data": {
            "text/plain": [
              "<Figure size 360x360 with 1 Axes>"
            ],
            "image/png": "[encoded data removed]"
          },
          "metadata": {
            "needs_background": "light"
          }
        },
        {
          "output_type": "display_data",
          "data": {
            "text/plain": [
              "<Figure size 360x360 with 1 Axes>"
            ],
            "image/png": "[encoded data removed]"
          },
          "metadata": {
            "needs_background": "light"
          }
        }
      ]
    },
    {
      "cell_type": "markdown",
      "source": [
        "**Conclusion for continous variable AGE:**,\n",
        "THERE ARE GAPS IN THE DISTRIBUTION WHEN SPLITTING THE POPULATIONS AND THEN TAKING THE LOG(UNDER_50) AND LOG(OVER_50) "
      ],
      "metadata": {
        "id": "7lblMDxEyqlg"
      }
    },
    {
      "cell_type": "markdown",
      "source": [
        "Do we stick with the non-transformed variable?"
      ],
      "metadata": {
        "id": "9LgnySzpDBdO"
      }
    },
    {
      "cell_type": "markdown",
      "source": [
        "## Divide Subpopulations for Annual Income\n",
        "\n"
      ],
      "metadata": {
        "id": "vdQvZ63FUeTZ"
      }
    },
    {
      "cell_type": "code",
      "source": [
        "# try 3 groups"
      ],
      "metadata": {
        "id": "Ez0LPU54Ueem"
      },
      "execution_count": null,
      "outputs": []
    },
    {
      "cell_type": "code",
      "source": [
        "sns.displot(news['Annual Income'])"
      ],
      "metadata": {
        "colab": {
          "base_uri": "https://localhost:8080/",
          "height": 386
        },
        "id": "mCJDOGI8UULA",
        "outputId": "50ebbf5f-b0e7-451f-ed14-94227243b1d6"
      },
      "execution_count": 93,
      "outputs": [
        {
          "output_type": "execute_result",
          "data": {
            "text/plain": [
              "<seaborn.axisgrid.FacetGrid at 0x7fb7dd338950>"
            ]
          },
          "metadata": {},
          "execution_count": 93
        },
        {
          "output_type": "display_data",
          "data": {
            "text/plain": [
              "<Figure size 360x360 with 1 Axes>"
            ],
            "image/png": "[encoded data removed]"
          },
          "metadata": {
            "needs_background": "light"
          }
        }
      ]
    },
    {
      "cell_type": "code",
      "source": [
        "income_log = np.log(news['Annual Income'])\n",
        "sns.displot(data=income_log)"
      ],
      "metadata": {
        "colab": {
          "base_uri": "https://localhost:8080/",
          "height": 386
        },
        "id": "Gam2T3C1xynB",
        "outputId": "ca3b04e4-e54a-4036-caba-1d636fa3b253"
      },
      "execution_count": 94,
      "outputs": [
        {
          "output_type": "execute_result",
          "data": {
            "text/plain": [
              "<seaborn.axisgrid.FacetGrid at 0x7fb7d9f72290>"
            ]
          },
          "metadata": {},
          "execution_count": 94
        },
        {
          "output_type": "display_data",
          "data": {
            "text/plain": [
              "<Figure size 360x360 with 1 Axes>"
            ],
            "image/png": "[encoded data removed]"
          },
          "metadata": {
            "needs_background": "light"
          }
        }
      ]
    },
    {
      "cell_type": "markdown",
      "source": [
        "taking the log of ANNUAL INCOME doesn't help.... so let's see how splitting into subpopulations helps us."
      ],
      "metadata": {
        "id": "K9aFb_2Xx41v"
      }
    },
    {
      "cell_type": "code",
      "source": [
        "under_40 = news.loc[news['Annual Income'] < 40000]\n",
        "between_40_80 = news.loc[news['Annual Income'].between(40000, 80000, 'both')]\n",
        "over_80 = news.loc[news['Annual Income'] >= 80000]\n",
        "\n",
        "sns.displot(under_40['Annual Income'], bins=4)\n",
        "sns.displot(between_40_80['Annual Income'])\n",
        "sns.displot(over_80['Annual Income'], bins=4)"
      ],
      "metadata": {
        "colab": {
          "base_uri": "https://localhost:8080/",
          "height": 1000
        },
        "id": "sNkJ5DV-U0L_",
        "outputId": "066fec3f-328b-4740-db86-1f49514b28ac"
      },
      "execution_count": 95,
      "outputs": [
        {
          "output_type": "execute_result",
          "data": {
            "text/plain": [
              "<seaborn.axisgrid.FacetGrid at 0x7fb7d9e03810>"
            ]
          },
          "metadata": {},
          "execution_count": 95
        },
        {
          "output_type": "display_data",
          "data": {
            "text/plain": [
              "<Figure size 360x360 with 1 Axes>"
            ],
            "image/png": "[encoded data removed]"
          },
          "metadata": {
            "needs_background": "light"
          }
        },
        {
          "output_type": "display_data",
          "data": {
            "text/plain": [
              "<Figure size 360x360 with 1 Axes>"
            ],
            "image/png": "[encoded data removed]"
          },
          "metadata": {
            "needs_background": "light"
          }
        },
        {
          "output_type": "display_data",
          "data": {
            "text/plain": [
              "<Figure size 360x360 with 1 Axes>"
            ],
            "image/png": "[encoded data removed]"
          },
          "metadata": {
            "needs_background": "light"
          }
        }
      ]
    },
    {
      "cell_type": "markdown",
      "source": [
        "## We could try a transformation now on the splitted subpopulation"
      ],
      "metadata": {
        "id": "0okLnajWUqiD"
      }
    },
    {
      "cell_type": "code",
      "source": [
        "under_40_log = np.log(under_40['Annual Income'])\n",
        "sns.displot(data=under_40_log, bins=4)\n",
        "\n",
        "between_40_80_log = np.log(between_40_80['Annual Income'])\n",
        "sns.displot(data=between_40_80_log)\n",
        "\n",
        "over_80_log = np.log(over_80['Annual Income'])\n",
        "sns.displot(data=over_80_log)"
      ],
      "metadata": {
        "colab": {
          "base_uri": "https://localhost:8080/",
          "height": 1000
        },
        "id": "DXSCqKm1zBUD",
        "outputId": "d092a264-1bbf-4941-e6c7-9b62218f864f"
      },
      "execution_count": 99,
      "outputs": [
        {
          "output_type": "execute_result",
          "data": {
            "text/plain": [
              "<seaborn.axisgrid.FacetGrid at 0x7fb7d9a4ed50>"
            ]
          },
          "metadata": {},
          "execution_count": 99
        },
        {
          "output_type": "display_data",
          "data": {
            "text/plain": [
              "<Figure size 360x360 with 1 Axes>"
            ],
            "image/png": "[encoded data removed]"
          },
          "metadata": {
            "needs_background": "light"
          }
        },
        {
          "output_type": "display_data",
          "data": {
            "text/plain": [
              "<Figure size 360x360 with 1 Axes>"
            ],
            "image/png": "[encoded data removed]"
          },
          "metadata": {
            "needs_background": "light"
          }
        },
        {
          "output_type": "display_data",
          "data": {
            "text/plain": [
              "<Figure size 360x360 with 1 Axes>"
            ],
            "image/png": "[encoded data removed]"
          },
          "metadata": {
            "needs_background": "light"
          }
        }
      ]
    },
    {
      "cell_type": "markdown",
      "source": [
        "Okay, same is also true for **continous variable ANNUAL INCOME:**,   \n",
        "\n",
        "**CONCLUSION**\n",
        "splitting into 3 subpopulations for income under 20,000, between 20,000 and 80,000, and over 80,000 and then log-transforming each variable seems to give a smoother distribution...  \n",
        "**But we may want to truncate upper bounded outliers**"
      ],
      "metadata": {
        "id": "PwTGLCpHzvO-"
      }
    },
    {
      "cell_type": "markdown",
      "source": [
        "## Model Fitting -- Age"
      ],
      "metadata": {
        "id": "CnQtiVHjUA33"
      }
    },
    {
      "cell_type": "markdown",
      "source": [
        "Fit a univariate distribution model for each continuous (possibly transformed) variable.  Select the best model using the AIC criteria"
      ],
      "metadata": {
        "id": "dXDyGp7QUD-P"
      }
    },
    {
      "cell_type": "code",
      "source": [
        "pip install fitter"
      ],
      "metadata": {
        "colab": {
          "base_uri": "https://localhost:8080/"
        },
        "id": "W4paVTwveH-B",
        "outputId": "05250b52-0023-4fc5-e7bb-9211a082e57a"
      },
      "execution_count": 101,
      "outputs": [
        {
          "output_type": "stream",
          "name": "stdout",
          "text": [
            "Looking in indexes: https://pypi.org/simple, https://us-python.pkg.dev/colab-wheels/public/simple/\n",
            "Collecting fitter\n",
            "  Downloading fitter-1.5.1.tar.gz (27 kB)\n",
            "Requirement already satisfied: click in /usr/local/lib/python3.7/dist-packages (from fitter) (7.1.2)\n",
            "Requirement already satisfied: joblib in /usr/local/lib/python3.7/dist-packages (from fitter) (1.1.0)\n",
            "Requirement already satisfied: matplotlib in /usr/local/lib/python3.7/dist-packages (from fitter) (3.2.2)\n",
            "Requirement already satisfied: numpy in /usr/local/lib/python3.7/dist-packages (from fitter) (1.21.6)\n",
            "Requirement already satisfied: pandas in /usr/local/lib/python3.7/dist-packages (from fitter) (1.3.5)\n",
            "Requirement already satisfied: scipy>=0.18 in /usr/local/lib/python3.7/dist-packages (from fitter) (1.7.3)\n",
            "Requirement already satisfied: tqdm in /usr/local/lib/python3.7/dist-packages (from fitter) (4.64.1)\n",
            "Requirement already satisfied: cycler>=0.10 in /usr/local/lib/python3.7/dist-packages (from matplotlib->fitter) (0.11.0)\n",
            "Requirement already satisfied: python-dateutil>=2.1 in /usr/local/lib/python3.7/dist-packages (from matplotlib->fitter) (2.8.2)\n",
            "Requirement already satisfied: kiwisolver>=1.0.1 in /usr/local/lib/python3.7/dist-packages (from matplotlib->fitter) (1.4.4)\n",
            "Requirement already satisfied: pyparsing!=2.0.4,!=2.1.2,!=2.1.6,>=2.0.1 in /usr/local/lib/python3.7/dist-packages (from matplotlib->fitter) (3.0.9)\n",
            "Requirement already satisfied: typing-extensions in /usr/local/lib/python3.7/dist-packages (from kiwisolver>=1.0.1->matplotlib->fitter) (4.1.1)\n",
            "Requirement already satisfied: six>=1.5 in /usr/local/lib/python3.7/dist-packages (from python-dateutil>=2.1->matplotlib->fitter) (1.15.0)\n",
            "Requirement already satisfied: pytz>=2017.3 in /usr/local/lib/python3.7/dist-packages (from pandas->fitter) (2022.2.1)\n",
            "Building wheels for collected packages: fitter\n",
            "  Building wheel for fitter (setup.py) ... \u001b[?25l\u001b[?25hdone\n",
            "  Created wheel for fitter: filename=fitter-1.5.1-py3-none-any.whl size=25596 sha256=1cf0a49f96566e4d6ec55b263100356471f4f05ea085fd4fa30b709e14df53b8\n",
            "  Stored in directory: /root/.cache/pip/wheels/40/65/62/57b872ba7af36e70111b1f67cffe76f97c747804aff7665ccb\n",
            "Successfully built fitter\n",
            "Installing collected packages: fitter\n",
            "Successfully installed fitter-1.5.1\n"
          ]
        }
      ]
    },
    {
      "cell_type": "markdown",
      "source": [
        "## We will attempt to fit a distribution for each of the transformed subpopulations within Age "
      ],
      "metadata": {
        "id": "wyk8lzeZeaYd"
      }
    },
    {
      "cell_type": "markdown",
      "source": [
        "## Subpopulation Under 50"
      ],
      "metadata": {
        "id": "Rfr6TKOPfj1h"
      }
    },
    {
      "cell_type": "markdown",
      "source": [
        "**we first fit the log values even though they seemed to mess up the distribution**"
      ],
      "metadata": {
        "id": "HC4Fv5LWB3sd"
      }
    },
    {
      "cell_type": "code",
      "source": [
        "from fitter import Fitter, get_common_distributions, get_distributions\n",
        "pop_under_50 = under_50_log.values\n",
        "f_50 = Fitter(pop_under_50,\n",
        "           distributions=['gamma',\n",
        "                          'lognorm',\n",
        "                          \"beta\",\n",
        "                          \"burr\",\n",
        "                          \"norm\"], bins=10)\n",
        "f_50.fit()\n",
        "f_50.summary()"
      ],
      "metadata": {
        "colab": {
          "base_uri": "https://localhost:8080/",
          "height": 471
        },
        "id": "LJGqvVBd00mN",
        "outputId": "19464481-59fb-4a0d-d072-e2ace1ddd9e2"
      },
      "execution_count": 112,
      "outputs": [
        {
          "output_type": "stream",
          "name": "stderr",
          "text": [
            "Fitting 5 distributions: 100%|██████████| 5/5 [00:00<00:00,  6.13it/s]\n"
          ]
        },
        {
          "output_type": "execute_result",
          "data": {
            "text/plain": [
              "         sumsquare_error        aic         bic    kl_div  ks_statistic  \\\n",
              "beta            4.244667  11.520511 -205.781723  0.128778      0.207792   \n",
              "gamma           6.769570  79.155986 -174.183913  0.520560      0.599467   \n",
              "burr            9.912090  14.477377 -140.478647  0.255656      0.177163   \n",
              "norm           14.696650   7.872884 -118.838702  0.391337      0.165018   \n",
              "lognorm        23.370587  54.791488  -78.777776  0.113227      0.420611   \n",
              "\n",
              "            ks_pvalue  \n",
              "beta     2.150513e-03  \n",
              "gamma    5.519756e-27  \n",
              "burr     1.384790e-02  \n",
              "norm     2.665807e-02  \n",
              "lognorm  7.293791e-13  "
            ],
            "text/html": [
              "\n",
              "  <div id=\"df-6778c464-367f-496d-b666-853d35c35774\">\n",
              "    <div class=\"colab-df-container\">\n",
              "      <div>\n",
              "<style scoped>\n",
              "    .dataframe tbody tr th:only-of-type {\n",
              "        vertical-align: middle;\n",
              "    }\n",
              "\n",
              "    .dataframe tbody tr th {\n",
              "        vertical-align: top;\n",
              "    }\n",
              "\n",
              "    .dataframe thead th {\n",
              "        text-align: right;\n",
              "    }\n",
              "</style>\n",
              "<table border=\"1\" class=\"dataframe\">\n",
              "  <thead>\n",
              "    <tr style=\"text-align: right;\">\n",
              "      <th></th>\n",
              "      <th>sumsquare_error</th>\n",
              "      <th>aic</th>\n",
              "      <th>bic</th>\n",
              "      <th>kl_div</th>\n",
              "      <th>ks_statistic</th>\n",
              "      <th>ks_pvalue</th>\n",
              "    </tr>\n",
              "  </thead>\n",
              "  <tbody>\n",
              "    <tr>\n",
              "      <th>beta</th>\n",
              "      <td>4.244667</td>\n",
              "      <td>11.520511</td>\n",
              "      <td>-205.781723</td>\n",
              "      <td>0.128778</td>\n",
              "      <td>0.207792</td>\n",
              "      <td>2.150513e-03</td>\n",
              "    </tr>\n",
              "    <tr>\n",
              "      <th>gamma</th>\n",
              "      <td>6.769570</td>\n",
              "      <td>79.155986</td>\n",
              "      <td>-174.183913</td>\n",
              "      <td>0.520560</td>\n",
              "      <td>0.599467</td>\n",
              "      <td>5.519756e-27</td>\n",
              "    </tr>\n",
              "    <tr>\n",
              "      <th>burr</th>\n",
              "      <td>9.912090</td>\n",
              "      <td>14.477377</td>\n",
              "      <td>-140.478647</td>\n",
              "      <td>0.255656</td>\n",
              "      <td>0.177163</td>\n",
              "      <td>1.384790e-02</td>\n",
              "    </tr>\n",
              "    <tr>\n",
              "      <th>norm</th>\n",
              "      <td>14.696650</td>\n",
              "      <td>7.872884</td>\n",
              "      <td>-118.838702</td>\n",
              "      <td>0.391337</td>\n",
              "      <td>0.165018</td>\n",
              "      <td>2.665807e-02</td>\n",
              "    </tr>\n",
              "    <tr>\n",
              "      <th>lognorm</th>\n",
              "      <td>23.370587</td>\n",
              "      <td>54.791488</td>\n",
              "      <td>-78.777776</td>\n",
              "      <td>0.113227</td>\n",
              "      <td>0.420611</td>\n",
              "      <td>7.293791e-13</td>\n",
              "    </tr>\n",
              "  </tbody>\n",
              "</table>\n",
              "</div>\n",
              "      <button class=\"colab-df-convert\" onclick=\"convertToInteractive('df-6778c464-367f-496d-b666-853d35c35774')\"\n",
              "              title=\"Convert this dataframe to an interactive table.\"\n",
              "              style=\"display:none;\">\n",
              "        \n",
              "  <svg xmlns=\"http://www.w3.org/2000/svg\" height=\"24px\"viewBox=\"0 0 24 24\"\n",
              "       width=\"24px\">\n",
              "    <path d=\"M0 0h24v24H0V0z\" fill=\"none\"/>\n",
              "    <path d=\"M18.56 5.44l.94 2.06.94-2.06 2.06-.94-2.06-.94-.94-2.06-.94 2.06-2.06.94zm-11 1L8.5 8.5l.94-2.06 2.06-.94-2.06-.94L8.5 2.5l-.94 2.06-2.06.94zm10 10l.94 2.06.94-2.06 2.06-.94-2.06-.94-.94-2.06-.94 2.06-2.06.94z\"/><path d=\"M17.41 7.96l-1.37-1.37c-.4-.4-.92-.59-1.43-.59-.52 0-1.04.2-1.43.59L10.3 9.45l-7.72 7.72c-.78.78-.78 2.05 0 2.83L4 21.41c.39.39.9.59 1.41.59.51 0 1.02-.2 1.41-.59l7.78-7.78 2.81-2.81c.8-.78.8-2.07 0-2.86zM5.41 20L4 18.59l7.72-7.72 1.47 1.35L5.41 20z\"/>\n",
              "  </svg>\n",
              "      </button>\n",
              "      \n",
              "  <style>\n",
              "    .colab-df-container {\n",
              "      display:flex;\n",
              "      flex-wrap:wrap;\n",
              "      gap: 12px;\n",
              "    }\n",
              "\n",
              "    .colab-df-convert {\n",
              "      background-color: #E8F0FE;\n",
              "      border: none;\n",
              "      border-radius: 50%;\n",
              "      cursor: pointer;\n",
              "      display: none;\n",
              "      fill: #1967D2;\n",
              "      height: 32px;\n",
              "      padding: 0 0 0 0;\n",
              "      width: 32px;\n",
              "    }\n",
              "\n",
              "    .colab-df-convert:hover {\n",
              "      background-color: #E2EBFA;\n",
              "      box-shadow: 0px 1px 2px rgba(60, 64, 67, 0.3), 0px 1px 3px 1px rgba(60, 64, 67, 0.15);\n",
              "      fill: #174EA6;\n",
              "    }\n",
              "\n",
              "    [theme=dark] .colab-df-convert {\n",
              "      background-color: #3B4455;\n",
              "      fill: #D2E3FC;\n",
              "    }\n",
              "\n",
              "    [theme=dark] .colab-df-convert:hover {\n",
              "      background-color: #434B5C;\n",
              "      box-shadow: 0px 1px 3px 1px rgba(0, 0, 0, 0.15);\n",
              "      filter: drop-shadow(0px 1px 2px rgba(0, 0, 0, 0.3));\n",
              "      fill: #FFFFFF;\n",
              "    }\n",
              "  </style>\n",
              "\n",
              "      <script>\n",
              "        const buttonEl =\n",
              "          document.querySelector('#df-6778c464-367f-496d-b666-853d35c35774 button.colab-df-convert');\n",
              "        buttonEl.style.display =\n",
              "          google.colab.kernel.accessAllowed ? 'block' : 'none';\n",
              "\n",
              "        async function convertToInteractive(key) {\n",
              "          const element = document.querySelector('#df-6778c464-367f-496d-b666-853d35c35774');\n",
              "          const dataTable =\n",
              "            await google.colab.kernel.invokeFunction('convertToInteractive',\n",
              "                                                     [key], {});\n",
              "          if (!dataTable) return;\n",
              "\n",
              "          const docLinkHtml = 'Like what you see? Visit the ' +\n",
              "            '<a target=\"_blank\" href=https://colab.research.google.com/notebooks/data_table.ipynb>data table notebook</a>'\n",
              "            + ' to learn more about interactive tables.';\n",
              "          element.innerHTML = '';\n",
              "          dataTable['output_type'] = 'display_data';\n",
              "          await google.colab.output.renderOutput(dataTable, element);\n",
              "          const docLink = document.createElement('div');\n",
              "          docLink.innerHTML = docLinkHtml;\n",
              "          element.appendChild(docLink);\n",
              "        }\n",
              "      </script>\n",
              "    </div>\n",
              "  </div>\n",
              "  "
            ]
          },
          "metadata": {},
          "execution_count": 112
        },
        {
          "output_type": "display_data",
          "data": {
            "text/plain": [
              "<Figure size 432x288 with 1 Axes>"
            ],
            "image/png": "[encoded data removed]"
          },
          "metadata": {
            "needs_background": "light"
          }
        }
      ]
    },
    {
      "cell_type": "code",
      "source": [
        "f_50.get_best(method = 'sumsquare_error')"
      ],
      "metadata": {
        "colab": {
          "base_uri": "https://localhost:8080/"
        },
        "id": "o9G49By8017X",
        "outputId": "c0d46d76-62fd-4905-c842-aa133db3441d"
      },
      "execution_count": 113,
      "outputs": [
        {
          "output_type": "execute_result",
          "data": {
            "text/plain": [
              "{'beta': {'a': 0.4618655150324036,\n",
              "  'b': 1.3276538064417807,\n",
              "  'loc': 2.9957322735539904,\n",
              "  'scale': 0.9587610001895304}}"
            ]
          },
          "metadata": {},
          "execution_count": 113
        }
      ]
    },
    {
      "cell_type": "markdown",
      "source": [
        "## Subpopulation Over 50"
      ],
      "metadata": {
        "id": "d36YDFujfp4g"
      }
    },
    {
      "cell_type": "code",
      "source": [
        "from fitter import Fitter, get_common_distributions, get_distributions\n",
        "pop_over_50 = over_50_log.values\n",
        "f_over50 = Fitter(pop_over_50,\n",
        "           distributions=['gamma',\n",
        "                          'lognorm',\n",
        "                          \"beta\",\n",
        "                          \"burr\",\n",
        "                          \"norm\"], bins=7)\n",
        "f_over50.fit()\n",
        "f_over50.summary()"
      ],
      "metadata": {
        "colab": {
          "base_uri": "https://localhost:8080/",
          "height": 471
        },
        "id": "46Y4T25W1hnK",
        "outputId": "78e13db2-8204-483a-fa20-b89031e94b1a"
      },
      "execution_count": 114,
      "outputs": [
        {
          "output_type": "stream",
          "name": "stderr",
          "text": [
            "Fitting 5 distributions: 100%|██████████| 5/5 [00:00<00:00,  6.16it/s]\n"
          ]
        },
        {
          "output_type": "execute_result",
          "data": {
            "text/plain": [
              "         sumsquare_error       aic        bic  kl_div  ks_statistic  ks_pvalue\n",
              "burr           18.691916  0.954719  15.465401     inf      0.207373   0.710250\n",
              "beta           19.193575 -0.529110  15.730246     inf      0.173370   0.876252\n",
              "norm           39.117907 -4.417600  18.245123     inf      0.199105   0.753312\n",
              "lognorm        39.301886 -2.422018  20.594629     inf      0.200263   0.747366\n",
              "gamma          40.702686 -2.596327  20.944845     inf      0.214642   0.671443"
            ],
            "text/html": [
              "\n",
              "  <div id=\"df-da489a01-d9a5-46bc-90fe-d623bfbdf6af\">\n",
              "    <div class=\"colab-df-container\">\n",
              "      <div>\n",
              "<style scoped>\n",
              "    .dataframe tbody tr th:only-of-type {\n",
              "        vertical-align: middle;\n",
              "    }\n",
              "\n",
              "    .dataframe tbody tr th {\n",
              "        vertical-align: top;\n",
              "    }\n",
              "\n",
              "    .dataframe thead th {\n",
              "        text-align: right;\n",
              "    }\n",
              "</style>\n",
              "<table border=\"1\" class=\"dataframe\">\n",
              "  <thead>\n",
              "    <tr style=\"text-align: right;\">\n",
              "      <th></th>\n",
              "      <th>sumsquare_error</th>\n",
              "      <th>aic</th>\n",
              "      <th>bic</th>\n",
              "      <th>kl_div</th>\n",
              "      <th>ks_statistic</th>\n",
              "      <th>ks_pvalue</th>\n",
              "    </tr>\n",
              "  </thead>\n",
              "  <tbody>\n",
              "    <tr>\n",
              "      <th>burr</th>\n",
              "      <td>18.691916</td>\n",
              "      <td>0.954719</td>\n",
              "      <td>15.465401</td>\n",
              "      <td>inf</td>\n",
              "      <td>0.207373</td>\n",
              "      <td>0.710250</td>\n",
              "    </tr>\n",
              "    <tr>\n",
              "      <th>beta</th>\n",
              "      <td>19.193575</td>\n",
              "      <td>-0.529110</td>\n",
              "      <td>15.730246</td>\n",
              "      <td>inf</td>\n",
              "      <td>0.173370</td>\n",
              "      <td>0.876252</td>\n",
              "    </tr>\n",
              "    <tr>\n",
              "      <th>norm</th>\n",
              "      <td>39.117907</td>\n",
              "      <td>-4.417600</td>\n",
              "      <td>18.245123</td>\n",
              "      <td>inf</td>\n",
              "      <td>0.199105</td>\n",
              "      <td>0.753312</td>\n",
              "    </tr>\n",
              "    <tr>\n",
              "      <th>lognorm</th>\n",
              "      <td>39.301886</td>\n",
              "      <td>-2.422018</td>\n",
              "      <td>20.594629</td>\n",
              "      <td>inf</td>\n",
              "      <td>0.200263</td>\n",
              "      <td>0.747366</td>\n",
              "    </tr>\n",
              "    <tr>\n",
              "      <th>gamma</th>\n",
              "      <td>40.702686</td>\n",
              "      <td>-2.596327</td>\n",
              "      <td>20.944845</td>\n",
              "      <td>inf</td>\n",
              "      <td>0.214642</td>\n",
              "      <td>0.671443</td>\n",
              "    </tr>\n",
              "  </tbody>\n",
              "</table>\n",
              "</div>\n",
              "      <button class=\"colab-df-convert\" onclick=\"convertToInteractive('df-da489a01-d9a5-46bc-90fe-d623bfbdf6af')\"\n",
              "              title=\"Convert this dataframe to an interactive table.\"\n",
              "              style=\"display:none;\">\n",
              "        \n",
              "  <svg xmlns=\"http://www.w3.org/2000/svg\" height=\"24px\"viewBox=\"0 0 24 24\"\n",
              "       width=\"24px\">\n",
              "    <path d=\"M0 0h24v24H0V0z\" fill=\"none\"/>\n",
              "    <path d=\"M18.56 5.44l.94 2.06.94-2.06 2.06-.94-2.06-.94-.94-2.06-.94 2.06-2.06.94zm-11 1L8.5 8.5l.94-2.06 2.06-.94-2.06-.94L8.5 2.5l-.94 2.06-2.06.94zm10 10l.94 2.06.94-2.06 2.06-.94-2.06-.94-.94-2.06-.94 2.06-2.06.94z\"/><path d=\"M17.41 7.96l-1.37-1.37c-.4-.4-.92-.59-1.43-.59-.52 0-1.04.2-1.43.59L10.3 9.45l-7.72 7.72c-.78.78-.78 2.05 0 2.83L4 21.41c.39.39.9.59 1.41.59.51 0 1.02-.2 1.41-.59l7.78-7.78 2.81-2.81c.8-.78.8-2.07 0-2.86zM5.41 20L4 18.59l7.72-7.72 1.47 1.35L5.41 20z\"/>\n",
              "  </svg>\n",
              "      </button>\n",
              "      \n",
              "  <style>\n",
              "    .colab-df-container {\n",
              "      display:flex;\n",
              "      flex-wrap:wrap;\n",
              "      gap: 12px;\n",
              "    }\n",
              "\n",
              "    .colab-df-convert {\n",
              "      background-color: #E8F0FE;\n",
              "      border: none;\n",
              "      border-radius: 50%;\n",
              "      cursor: pointer;\n",
              "      display: none;\n",
              "      fill: #1967D2;\n",
              "      height: 32px;\n",
              "      padding: 0 0 0 0;\n",
              "      width: 32px;\n",
              "    }\n",
              "\n",
              "    .colab-df-convert:hover {\n",
              "      background-color: #E2EBFA;\n",
              "      box-shadow: 0px 1px 2px rgba(60, 64, 67, 0.3), 0px 1px 3px 1px rgba(60, 64, 67, 0.15);\n",
              "      fill: #174EA6;\n",
              "    }\n",
              "\n",
              "    [theme=dark] .colab-df-convert {\n",
              "      background-color: #3B4455;\n",
              "      fill: #D2E3FC;\n",
              "    }\n",
              "\n",
              "    [theme=dark] .colab-df-convert:hover {\n",
              "      background-color: #434B5C;\n",
              "      box-shadow: 0px 1px 3px 1px rgba(0, 0, 0, 0.15);\n",
              "      filter: drop-shadow(0px 1px 2px rgba(0, 0, 0, 0.3));\n",
              "      fill: #FFFFFF;\n",
              "    }\n",
              "  </style>\n",
              "\n",
              "      <script>\n",
              "        const buttonEl =\n",
              "          document.querySelector('#df-da489a01-d9a5-46bc-90fe-d623bfbdf6af button.colab-df-convert');\n",
              "        buttonEl.style.display =\n",
              "          google.colab.kernel.accessAllowed ? 'block' : 'none';\n",
              "\n",
              "        async function convertToInteractive(key) {\n",
              "          const element = document.querySelector('#df-da489a01-d9a5-46bc-90fe-d623bfbdf6af');\n",
              "          const dataTable =\n",
              "            await google.colab.kernel.invokeFunction('convertToInteractive',\n",
              "                                                     [key], {});\n",
              "          if (!dataTable) return;\n",
              "\n",
              "          const docLinkHtml = 'Like what you see? Visit the ' +\n",
              "            '<a target=\"_blank\" href=https://colab.research.google.com/notebooks/data_table.ipynb>data table notebook</a>'\n",
              "            + ' to learn more about interactive tables.';\n",
              "          element.innerHTML = '';\n",
              "          dataTable['output_type'] = 'display_data';\n",
              "          await google.colab.output.renderOutput(dataTable, element);\n",
              "          const docLink = document.createElement('div');\n",
              "          docLink.innerHTML = docLinkHtml;\n",
              "          element.appendChild(docLink);\n",
              "        }\n",
              "      </script>\n",
              "    </div>\n",
              "  </div>\n",
              "  "
            ]
          },
          "metadata": {},
          "execution_count": 114
        },
        {
          "output_type": "display_data",
          "data": {
            "text/plain": [
              "<Figure size 432x288 with 1 Axes>"
            ],
            "image/png": "[encoded data removed]"
          },
          "metadata": {
            "needs_background": "light"
          }
        }
      ]
    },
    {
      "cell_type": "code",
      "source": [
        "f_over50.get_best(method = 'sumsquare_error')"
      ],
      "metadata": {
        "colab": {
          "base_uri": "https://localhost:8080/"
        },
        "id": "BucM0FMy1jMz",
        "outputId": "aeb18bdf-3ab7-4802-b5e4-b49f1f8d0f64"
      },
      "execution_count": 115,
      "outputs": [
        {
          "output_type": "execute_result",
          "data": {
            "text/plain": [
              "{'burr': {'c': 363479.413846183,\n",
              "  'd': 0.02952826763498609,\n",
              "  'loc': -1469.0486681465386,\n",
              "  'scale': 1473.4220494661176}}"
            ]
          },
          "metadata": {},
          "execution_count": 115
        }
      ]
    },
    {
      "cell_type": "markdown",
      "source": [
        "##Again, we have found a distribution model for the LOG of the split populations:   \n",
        "## over_50_log and under_50_log"
      ],
      "metadata": {
        "id": "iLruhiDj3Rte"
      }
    },
    {
      "cell_type": "markdown",
      "source": [
        "**This didn't turn out great... what if we find distributions just for the subpopulations without transforming them**"
      ],
      "metadata": {
        "id": "WHtyZ_FJ662o"
      }
    },
    {
      "cell_type": "markdown",
      "source": [
        "## Under 50 NOT TRANSFORMED"
      ],
      "metadata": {
        "id": "kMo3qJbT7Qxo"
      }
    },
    {
      "cell_type": "code",
      "source": [
        "from fitter import Fitter, get_common_distributions, get_distributions\n",
        "pop_under_50 = under_50['Age'].values\n",
        "f_50 = Fitter(pop_under_50,\n",
        "           distributions=['gamma',\n",
        "                          'lognorm',\n",
        "                          \"beta\",\n",
        "                          \"burr\",\n",
        "                          \"norm\"], bins=10)\n",
        "f_50.fit()\n",
        "f_50.summary()"
      ],
      "metadata": {
        "colab": {
          "base_uri": "https://localhost:8080/",
          "height": 471
        },
        "id": "vGv_uKX-7I7Y",
        "outputId": "35c6f32b-83ff-4649-a152-fa05ba0c0e67"
      },
      "execution_count": 135,
      "outputs": [
        {
          "output_type": "stream",
          "name": "stderr",
          "text": [
            "Fitting 5 distributions: 100%|██████████| 5/5 [00:00<00:00,  5.46it/s]\n"
          ]
        },
        {
          "output_type": "execute_result",
          "data": {
            "text/plain": [
              "         sumsquare_error         aic         bic  kl_div  ks_statistic  \\\n",
              "burr            0.004076   90.164780 -740.794735     inf      0.175222   \n",
              "gamma           0.004628  107.897654 -735.365880     inf      0.391130   \n",
              "beta            0.005996   83.254119 -711.085671     inf      0.207787   \n",
              "norm            0.016534   79.268487 -641.663956     inf      0.215639   \n",
              "lognorm         0.025479  117.660463 -604.025309     inf      0.453404   \n",
              "\n",
              "            ks_pvalue  \n",
              "burr     1.542514e-02  \n",
              "gamma    4.012846e-11  \n",
              "beta     2.151289e-03  \n",
              "norm     1.270699e-03  \n",
              "lognorm  5.601784e-15  "
            ],
            "text/html": [
              "\n",
              "  <div id=\"df-5b0f8604-7f98-4931-87a0-8b3e5d6dedd4\">\n",
              "    <div class=\"colab-df-container\">\n",
              "      <div>\n",
              "<style scoped>\n",
              "    .dataframe tbody tr th:only-of-type {\n",
              "        vertical-align: middle;\n",
              "    }\n",
              "\n",
              "    .dataframe tbody tr th {\n",
              "        vertical-align: top;\n",
              "    }\n",
              "\n",
              "    .dataframe thead th {\n",
              "        text-align: right;\n",
              "    }\n",
              "</style>\n",
              "<table border=\"1\" class=\"dataframe\">\n",
              "  <thead>\n",
              "    <tr style=\"text-align: right;\">\n",
              "      <th></th>\n",
              "      <th>sumsquare_error</th>\n",
              "      <th>aic</th>\n",
              "      <th>bic</th>\n",
              "      <th>kl_div</th>\n",
              "      <th>ks_statistic</th>\n",
              "      <th>ks_pvalue</th>\n",
              "    </tr>\n",
              "  </thead>\n",
              "  <tbody>\n",
              "    <tr>\n",
              "      <th>burr</th>\n",
              "      <td>0.004076</td>\n",
              "      <td>90.164780</td>\n",
              "      <td>-740.794735</td>\n",
              "      <td>inf</td>\n",
              "      <td>0.175222</td>\n",
              "      <td>1.542514e-02</td>\n",
              "    </tr>\n",
              "    <tr>\n",
              "      <th>gamma</th>\n",
              "      <td>0.004628</td>\n",
              "      <td>107.897654</td>\n",
              "      <td>-735.365880</td>\n",
              "      <td>inf</td>\n",
              "      <td>0.391130</td>\n",
              "      <td>4.012846e-11</td>\n",
              "    </tr>\n",
              "    <tr>\n",
              "      <th>beta</th>\n",
              "      <td>0.005996</td>\n",
              "      <td>83.254119</td>\n",
              "      <td>-711.085671</td>\n",
              "      <td>inf</td>\n",
              "      <td>0.207787</td>\n",
              "      <td>2.151289e-03</td>\n",
              "    </tr>\n",
              "    <tr>\n",
              "      <th>norm</th>\n",
              "      <td>0.016534</td>\n",
              "      <td>79.268487</td>\n",
              "      <td>-641.663956</td>\n",
              "      <td>inf</td>\n",
              "      <td>0.215639</td>\n",
              "      <td>1.270699e-03</td>\n",
              "    </tr>\n",
              "    <tr>\n",
              "      <th>lognorm</th>\n",
              "      <td>0.025479</td>\n",
              "      <td>117.660463</td>\n",
              "      <td>-604.025309</td>\n",
              "      <td>inf</td>\n",
              "      <td>0.453404</td>\n",
              "      <td>5.601784e-15</td>\n",
              "    </tr>\n",
              "  </tbody>\n",
              "</table>\n",
              "</div>\n",
              "      <button class=\"colab-df-convert\" onclick=\"convertToInteractive('df-5b0f8604-7f98-4931-87a0-8b3e5d6dedd4')\"\n",
              "              title=\"Convert this dataframe to an interactive table.\"\n",
              "              style=\"display:none;\">\n",
              "        \n",
              "  <svg xmlns=\"http://www.w3.org/2000/svg\" height=\"24px\"viewBox=\"0 0 24 24\"\n",
              "       width=\"24px\">\n",
              "    <path d=\"M0 0h24v24H0V0z\" fill=\"none\"/>\n",
              "    <path d=\"M18.56 5.44l.94 2.06.94-2.06 2.06-.94-2.06-.94-.94-2.06-.94 2.06-2.06.94zm-11 1L8.5 8.5l.94-2.06 2.06-.94-2.06-.94L8.5 2.5l-.94 2.06-2.06.94zm10 10l.94 2.06.94-2.06 2.06-.94-2.06-.94-.94-2.06-.94 2.06-2.06.94z\"/><path d=\"M17.41 7.96l-1.37-1.37c-.4-.4-.92-.59-1.43-.59-.52 0-1.04.2-1.43.59L10.3 9.45l-7.72 7.72c-.78.78-.78 2.05 0 2.83L4 21.41c.39.39.9.59 1.41.59.51 0 1.02-.2 1.41-.59l7.78-7.78 2.81-2.81c.8-.78.8-2.07 0-2.86zM5.41 20L4 18.59l7.72-7.72 1.47 1.35L5.41 20z\"/>\n",
              "  </svg>\n",
              "      </button>\n",
              "      \n",
              "  <style>\n",
              "    .colab-df-container {\n",
              "      display:flex;\n",
              "      flex-wrap:wrap;\n",
              "      gap: 12px;\n",
              "    }\n",
              "\n",
              "    .colab-df-convert {\n",
              "      background-color: #E8F0FE;\n",
              "      border: none;\n",
              "      border-radius: 50%;\n",
              "      cursor: pointer;\n",
              "      display: none;\n",
              "      fill: #1967D2;\n",
              "      height: 32px;\n",
              "      padding: 0 0 0 0;\n",
              "      width: 32px;\n",
              "    }\n",
              "\n",
              "    .colab-df-convert:hover {\n",
              "      background-color: #E2EBFA;\n",
              "      box-shadow: 0px 1px 2px rgba(60, 64, 67, 0.3), 0px 1px 3px 1px rgba(60, 64, 67, 0.15);\n",
              "      fill: #174EA6;\n",
              "    }\n",
              "\n",
              "    [theme=dark] .colab-df-convert {\n",
              "      background-color: #3B4455;\n",
              "      fill: #D2E3FC;\n",
              "    }\n",
              "\n",
              "    [theme=dark] .colab-df-convert:hover {\n",
              "      background-color: #434B5C;\n",
              "      box-shadow: 0px 1px 3px 1px rgba(0, 0, 0, 0.15);\n",
              "      filter: drop-shadow(0px 1px 2px rgba(0, 0, 0, 0.3));\n",
              "      fill: #FFFFFF;\n",
              "    }\n",
              "  </style>\n",
              "\n",
              "      <script>\n",
              "        const buttonEl =\n",
              "          document.querySelector('#df-5b0f8604-7f98-4931-87a0-8b3e5d6dedd4 button.colab-df-convert');\n",
              "        buttonEl.style.display =\n",
              "          google.colab.kernel.accessAllowed ? 'block' : 'none';\n",
              "\n",
              "        async function convertToInteractive(key) {\n",
              "          const element = document.querySelector('#df-5b0f8604-7f98-4931-87a0-8b3e5d6dedd4');\n",
              "          const dataTable =\n",
              "            await google.colab.kernel.invokeFunction('convertToInteractive',\n",
              "                                                     [key], {});\n",
              "          if (!dataTable) return;\n",
              "\n",
              "          const docLinkHtml = 'Like what you see? Visit the ' +\n",
              "            '<a target=\"_blank\" href=https://colab.research.google.com/notebooks/data_table.ipynb>data table notebook</a>'\n",
              "            + ' to learn more about interactive tables.';\n",
              "          element.innerHTML = '';\n",
              "          dataTable['output_type'] = 'display_data';\n",
              "          await google.colab.output.renderOutput(dataTable, element);\n",
              "          const docLink = document.createElement('div');\n",
              "          docLink.innerHTML = docLinkHtml;\n",
              "          element.appendChild(docLink);\n",
              "        }\n",
              "      </script>\n",
              "    </div>\n",
              "  </div>\n",
              "  "
            ]
          },
          "metadata": {},
          "execution_count": 135
        },
        {
          "output_type": "display_data",
          "data": {
            "text/plain": [
              "<Figure size 432x288 with 1 Axes>"
            ],
            "image/png": "[encoded data removed]"
          },
          "metadata": {
            "needs_background": "light"
          }
        }
      ]
    },
    {
      "cell_type": "markdown",
      "source": [
        "## Over 50 NOT TRANSFORMED"
      ],
      "metadata": {
        "id": "NFSTB7_j7Txd"
      }
    },
    {
      "cell_type": "code",
      "source": [
        "from fitter import Fitter, get_common_distributions, get_distributions\n",
        "pop_over_50 = over_50['Age'].values\n",
        "f_over50 = Fitter(pop_over_50,\n",
        "           distributions=['gamma',\n",
        "                          'lognorm',\n",
        "                          \"beta\",\n",
        "                          \"burr\",\n",
        "                          \"norm\"], bins=5)\n",
        "f_over50.fit()\n",
        "f_over50.summary()"
      ],
      "metadata": {
        "colab": {
          "base_uri": "https://localhost:8080/",
          "height": 473
        },
        "id": "raW5pRQG7Wfz",
        "outputId": "53156c7c-086d-422f-d2f4-d1ff0c0e5aed"
      },
      "execution_count": 137,
      "outputs": [
        {
          "output_type": "stream",
          "name": "stderr",
          "text": [
            "Fitting 5 distributions: 100%|██████████| 5/5 [00:00<00:00,  6.19it/s]\n"
          ]
        },
        {
          "output_type": "execute_result",
          "data": {
            "text/plain": [
              "         sumsquare_error        aic        bic    kl_div  ks_statistic  \\\n",
              "beta            0.001415  42.673590 -79.422111  0.106646      0.160840   \n",
              "norm            0.002952  39.221153 -76.672793  0.203292      0.188072   \n",
              "gamma           0.003011  41.160276 -74.173223  0.204056      0.187907   \n",
              "burr            0.003529  44.056283 -70.281752  0.206364      0.241048   \n",
              "lognorm         0.008918  59.105185 -63.314985  0.836358      0.428701   \n",
              "\n",
              "         ks_pvalue  \n",
              "beta      0.923056  \n",
              "norm      0.808983  \n",
              "gamma     0.809793  \n",
              "burr      0.530018  \n",
              "lognorm   0.034802  "
            ],
            "text/html": [
              "\n",
              "  <div id=\"df-76a4dae4-107c-4c67-94bd-b492e3b85bcb\">\n",
              "    <div class=\"colab-df-container\">\n",
              "      <div>\n",
              "<style scoped>\n",
              "    .dataframe tbody tr th:only-of-type {\n",
              "        vertical-align: middle;\n",
              "    }\n",
              "\n",
              "    .dataframe tbody tr th {\n",
              "        vertical-align: top;\n",
              "    }\n",
              "\n",
              "    .dataframe thead th {\n",
              "        text-align: right;\n",
              "    }\n",
              "</style>\n",
              "<table border=\"1\" class=\"dataframe\">\n",
              "  <thead>\n",
              "    <tr style=\"text-align: right;\">\n",
              "      <th></th>\n",
              "      <th>sumsquare_error</th>\n",
              "      <th>aic</th>\n",
              "      <th>bic</th>\n",
              "      <th>kl_div</th>\n",
              "      <th>ks_statistic</th>\n",
              "      <th>ks_pvalue</th>\n",
              "    </tr>\n",
              "  </thead>\n",
              "  <tbody>\n",
              "    <tr>\n",
              "      <th>beta</th>\n",
              "      <td>0.001415</td>\n",
              "      <td>42.673590</td>\n",
              "      <td>-79.422111</td>\n",
              "      <td>0.106646</td>\n",
              "      <td>0.160840</td>\n",
              "      <td>0.923056</td>\n",
              "    </tr>\n",
              "    <tr>\n",
              "      <th>norm</th>\n",
              "      <td>0.002952</td>\n",
              "      <td>39.221153</td>\n",
              "      <td>-76.672793</td>\n",
              "      <td>0.203292</td>\n",
              "      <td>0.188072</td>\n",
              "      <td>0.808983</td>\n",
              "    </tr>\n",
              "    <tr>\n",
              "      <th>gamma</th>\n",
              "      <td>0.003011</td>\n",
              "      <td>41.160276</td>\n",
              "      <td>-74.173223</td>\n",
              "      <td>0.204056</td>\n",
              "      <td>0.187907</td>\n",
              "      <td>0.809793</td>\n",
              "    </tr>\n",
              "    <tr>\n",
              "      <th>burr</th>\n",
              "      <td>0.003529</td>\n",
              "      <td>44.056283</td>\n",
              "      <td>-70.281752</td>\n",
              "      <td>0.206364</td>\n",
              "      <td>0.241048</td>\n",
              "      <td>0.530018</td>\n",
              "    </tr>\n",
              "    <tr>\n",
              "      <th>lognorm</th>\n",
              "      <td>0.008918</td>\n",
              "      <td>59.105185</td>\n",
              "      <td>-63.314985</td>\n",
              "      <td>0.836358</td>\n",
              "      <td>0.428701</td>\n",
              "      <td>0.034802</td>\n",
              "    </tr>\n",
              "  </tbody>\n",
              "</table>\n",
              "</div>\n",
              "      <button class=\"colab-df-convert\" onclick=\"convertToInteractive('df-76a4dae4-107c-4c67-94bd-b492e3b85bcb')\"\n",
              "              title=\"Convert this dataframe to an interactive table.\"\n",
              "              style=\"display:none;\">\n",
              "        \n",
              "  <svg xmlns=\"http://www.w3.org/2000/svg\" height=\"24px\"viewBox=\"0 0 24 24\"\n",
              "       width=\"24px\">\n",
              "    <path d=\"M0 0h24v24H0V0z\" fill=\"none\"/>\n",
              "    <path d=\"M18.56 5.44l.94 2.06.94-2.06 2.06-.94-2.06-.94-.94-2.06-.94 2.06-2.06.94zm-11 1L8.5 8.5l.94-2.06 2.06-.94-2.06-.94L8.5 2.5l-.94 2.06-2.06.94zm10 10l.94 2.06.94-2.06 2.06-.94-2.06-.94-.94-2.06-.94 2.06-2.06.94z\"/><path d=\"M17.41 7.96l-1.37-1.37c-.4-.4-.92-.59-1.43-.59-.52 0-1.04.2-1.43.59L10.3 9.45l-7.72 7.72c-.78.78-.78 2.05 0 2.83L4 21.41c.39.39.9.59 1.41.59.51 0 1.02-.2 1.41-.59l7.78-7.78 2.81-2.81c.8-.78.8-2.07 0-2.86zM5.41 20L4 18.59l7.72-7.72 1.47 1.35L5.41 20z\"/>\n",
              "  </svg>\n",
              "      </button>\n",
              "      \n",
              "  <style>\n",
              "    .colab-df-container {\n",
              "      display:flex;\n",
              "      flex-wrap:wrap;\n",
              "      gap: 12px;\n",
              "    }\n",
              "\n",
              "    .colab-df-convert {\n",
              "      background-color: #E8F0FE;\n",
              "      border: none;\n",
              "      border-radius: 50%;\n",
              "      cursor: pointer;\n",
              "      display: none;\n",
              "      fill: #1967D2;\n",
              "      height: 32px;\n",
              "      padding: 0 0 0 0;\n",
              "      width: 32px;\n",
              "    }\n",
              "\n",
              "    .colab-df-convert:hover {\n",
              "      background-color: #E2EBFA;\n",
              "      box-shadow: 0px 1px 2px rgba(60, 64, 67, 0.3), 0px 1px 3px 1px rgba(60, 64, 67, 0.15);\n",
              "      fill: #174EA6;\n",
              "    }\n",
              "\n",
              "    [theme=dark] .colab-df-convert {\n",
              "      background-color: #3B4455;\n",
              "      fill: #D2E3FC;\n",
              "    }\n",
              "\n",
              "    [theme=dark] .colab-df-convert:hover {\n",
              "      background-color: #434B5C;\n",
              "      box-shadow: 0px 1px 3px 1px rgba(0, 0, 0, 0.15);\n",
              "      filter: drop-shadow(0px 1px 2px rgba(0, 0, 0, 0.3));\n",
              "      fill: #FFFFFF;\n",
              "    }\n",
              "  </style>\n",
              "\n",
              "      <script>\n",
              "        const buttonEl =\n",
              "          document.querySelector('#df-76a4dae4-107c-4c67-94bd-b492e3b85bcb button.colab-df-convert');\n",
              "        buttonEl.style.display =\n",
              "          google.colab.kernel.accessAllowed ? 'block' : 'none';\n",
              "\n",
              "        async function convertToInteractive(key) {\n",
              "          const element = document.querySelector('#df-76a4dae4-107c-4c67-94bd-b492e3b85bcb');\n",
              "          const dataTable =\n",
              "            await google.colab.kernel.invokeFunction('convertToInteractive',\n",
              "                                                     [key], {});\n",
              "          if (!dataTable) return;\n",
              "\n",
              "          const docLinkHtml = 'Like what you see? Visit the ' +\n",
              "            '<a target=\"_blank\" href=https://colab.research.google.com/notebooks/data_table.ipynb>data table notebook</a>'\n",
              "            + ' to learn more about interactive tables.';\n",
              "          element.innerHTML = '';\n",
              "          dataTable['output_type'] = 'display_data';\n",
              "          await google.colab.output.renderOutput(dataTable, element);\n",
              "          const docLink = document.createElement('div');\n",
              "          docLink.innerHTML = docLinkHtml;\n",
              "          element.appendChild(docLink);\n",
              "        }\n",
              "      </script>\n",
              "    </div>\n",
              "  </div>\n",
              "  "
            ]
          },
          "metadata": {},
          "execution_count": 137
        },
        {
          "output_type": "display_data",
          "data": {
            "text/plain": [
              "<Figure size 432x288 with 1 Axes>"
            ],
            "image/png": "[encoded data removed]"
          },
          "metadata": {
            "needs_background": "light"
          }
        }
      ]
    },
    {
      "cell_type": "markdown",
      "source": [
        "## **The AICs are higher when we don't fit the transformed variable..**   \n",
        "## **BUT THE DISTRIBUTIONS ARE NICER....**  \n",
        "## **WHICH DO WE CHOOSE???**"
      ],
      "metadata": {
        "id": "WG8R3QBu7y4G"
      }
    },
    {
      "cell_type": "markdown",
      "source": [
        "moving on to income...."
      ],
      "metadata": {
        "id": "WUSUs8wv773d"
      }
    },
    {
      "cell_type": "markdown",
      "source": [
        "## Model Fitting: Annual Income -- Under 40,000"
      ],
      "metadata": {
        "id": "YBN11gCo2a_y"
      }
    },
    {
      "cell_type": "markdown",
      "source": [
        "Again, attempt to fit a distribution for each of the LOG TRANSFORMED  subpopulations within Annual Income... there are 3 groups"
      ],
      "metadata": {
        "id": "dNjYKNsu2scA"
      }
    },
    {
      "cell_type": "code",
      "source": [
        "from fitter import Fitter, get_common_distributions, get_distributions\n",
        "income_under_40 = under_40_log.values\n",
        "f_income_under_40 = Fitter(income_under_40,\n",
        "           distributions=['gamma',\n",
        "                          'lognorm',\n",
        "                          \"beta\",\n",
        "                          \"burr\",\n",
        "                          \"norm\"], bins=4)\n",
        "f_income_under_40.fit()\n",
        "f_income_under_40.summary()"
      ],
      "metadata": {
        "colab": {
          "base_uri": "https://localhost:8080/",
          "height": 506
        },
        "id": "zezp2eqs2hsh",
        "outputId": "786e8dea-e1b5-42a4-88d5-78e14d5b3b7a"
      },
      "execution_count": 145,
      "outputs": [
        {
          "output_type": "stream",
          "name": "stderr",
          "text": [
            "Fitting 5 distributions:  20%|██        | 1/5 [00:00<00:01,  3.86it/s]WARNING:root:SKIPPED beta distribution (taking more than 30 seconds)\n",
            "Fitting 5 distributions: 100%|██████████| 5/5 [00:00<00:00,  8.16it/s]\n",
            "WARNING:fitter.fitter:beta was not fitted. no parameters available\n"
          ]
        },
        {
          "output_type": "execute_result",
          "data": {
            "text/plain": [
              "         sumsquare_error        aic         bic    kl_div  ks_statistic  \\\n",
              "burr            0.064115  19.324469 -184.946908  0.065050      0.348554   \n",
              "gamma           0.078130  14.407517 -182.086528  0.036624      0.359060   \n",
              "lognorm         0.082964  14.436323 -180.165672  0.038814      0.356570   \n",
              "norm            0.093436  12.497812 -179.827310  0.043358      0.352437   \n",
              "beta                 inf        inf         inf       inf           NaN   \n",
              "\n",
              "         ks_pvalue  \n",
              "burr      0.000559  \n",
              "gamma     0.000336  \n",
              "lognorm   0.000380  \n",
              "norm      0.000464  \n",
              "beta           NaN  "
            ],
            "text/html": [
              "\n",
              "  <div id=\"df-457a7248-5993-4bb6-8286-2e02880cbef3\">\n",
              "    <div class=\"colab-df-container\">\n",
              "      <div>\n",
              "<style scoped>\n",
              "    .dataframe tbody tr th:only-of-type {\n",
              "        vertical-align: middle;\n",
              "    }\n",
              "\n",
              "    .dataframe tbody tr th {\n",
              "        vertical-align: top;\n",
              "    }\n",
              "\n",
              "    .dataframe thead th {\n",
              "        text-align: right;\n",
              "    }\n",
              "</style>\n",
              "<table border=\"1\" class=\"dataframe\">\n",
              "  <thead>\n",
              "    <tr style=\"text-align: right;\">\n",
              "      <th></th>\n",
              "      <th>sumsquare_error</th>\n",
              "      <th>aic</th>\n",
              "      <th>bic</th>\n",
              "      <th>kl_div</th>\n",
              "      <th>ks_statistic</th>\n",
              "      <th>ks_pvalue</th>\n",
              "    </tr>\n",
              "  </thead>\n",
              "  <tbody>\n",
              "    <tr>\n",
              "      <th>burr</th>\n",
              "      <td>0.064115</td>\n",
              "      <td>19.324469</td>\n",
              "      <td>-184.946908</td>\n",
              "      <td>0.065050</td>\n",
              "      <td>0.348554</td>\n",
              "      <td>0.000559</td>\n",
              "    </tr>\n",
              "    <tr>\n",
              "      <th>gamma</th>\n",
              "      <td>0.078130</td>\n",
              "      <td>14.407517</td>\n",
              "      <td>-182.086528</td>\n",
              "      <td>0.036624</td>\n",
              "      <td>0.359060</td>\n",
              "      <td>0.000336</td>\n",
              "    </tr>\n",
              "    <tr>\n",
              "      <th>lognorm</th>\n",
              "      <td>0.082964</td>\n",
              "      <td>14.436323</td>\n",
              "      <td>-180.165672</td>\n",
              "      <td>0.038814</td>\n",
              "      <td>0.356570</td>\n",
              "      <td>0.000380</td>\n",
              "    </tr>\n",
              "    <tr>\n",
              "      <th>norm</th>\n",
              "      <td>0.093436</td>\n",
              "      <td>12.497812</td>\n",
              "      <td>-179.827310</td>\n",
              "      <td>0.043358</td>\n",
              "      <td>0.352437</td>\n",
              "      <td>0.000464</td>\n",
              "    </tr>\n",
              "    <tr>\n",
              "      <th>beta</th>\n",
              "      <td>inf</td>\n",
              "      <td>inf</td>\n",
              "      <td>inf</td>\n",
              "      <td>inf</td>\n",
              "      <td>NaN</td>\n",
              "      <td>NaN</td>\n",
              "    </tr>\n",
              "  </tbody>\n",
              "</table>\n",
              "</div>\n",
              "      <button class=\"colab-df-convert\" onclick=\"convertToInteractive('df-457a7248-5993-4bb6-8286-2e02880cbef3')\"\n",
              "              title=\"Convert this dataframe to an interactive table.\"\n",
              "              style=\"display:none;\">\n",
              "        \n",
              "  <svg xmlns=\"http://www.w3.org/2000/svg\" height=\"24px\"viewBox=\"0 0 24 24\"\n",
              "       width=\"24px\">\n",
              "    <path d=\"M0 0h24v24H0V0z\" fill=\"none\"/>\n",
              "    <path d=\"M18.56 5.44l.94 2.06.94-2.06 2.06-.94-2.06-.94-.94-2.06-.94 2.06-2.06.94zm-11 1L8.5 8.5l.94-2.06 2.06-.94-2.06-.94L8.5 2.5l-.94 2.06-2.06.94zm10 10l.94 2.06.94-2.06 2.06-.94-2.06-.94-.94-2.06-.94 2.06-2.06.94z\"/><path d=\"M17.41 7.96l-1.37-1.37c-.4-.4-.92-.59-1.43-.59-.52 0-1.04.2-1.43.59L10.3 9.45l-7.72 7.72c-.78.78-.78 2.05 0 2.83L4 21.41c.39.39.9.59 1.41.59.51 0 1.02-.2 1.41-.59l7.78-7.78 2.81-2.81c.8-.78.8-2.07 0-2.86zM5.41 20L4 18.59l7.72-7.72 1.47 1.35L5.41 20z\"/>\n",
              "  </svg>\n",
              "      </button>\n",
              "      \n",
              "  <style>\n",
              "    .colab-df-container {\n",
              "      display:flex;\n",
              "      flex-wrap:wrap;\n",
              "      gap: 12px;\n",
              "    }\n",
              "\n",
              "    .colab-df-convert {\n",
              "      background-color: #E8F0FE;\n",
              "      border: none;\n",
              "      border-radius: 50%;\n",
              "      cursor: pointer;\n",
              "      display: none;\n",
              "      fill: #1967D2;\n",
              "      height: 32px;\n",
              "      padding: 0 0 0 0;\n",
              "      width: 32px;\n",
              "    }\n",
              "\n",
              "    .colab-df-convert:hover {\n",
              "      background-color: #E2EBFA;\n",
              "      box-shadow: 0px 1px 2px rgba(60, 64, 67, 0.3), 0px 1px 3px 1px rgba(60, 64, 67, 0.15);\n",
              "      fill: #174EA6;\n",
              "    }\n",
              "\n",
              "    [theme=dark] .colab-df-convert {\n",
              "      background-color: #3B4455;\n",
              "      fill: #D2E3FC;\n",
              "    }\n",
              "\n",
              "    [theme=dark] .colab-df-convert:hover {\n",
              "      background-color: #434B5C;\n",
              "      box-shadow: 0px 1px 3px 1px rgba(0, 0, 0, 0.15);\n",
              "      filter: drop-shadow(0px 1px 2px rgba(0, 0, 0, 0.3));\n",
              "      fill: #FFFFFF;\n",
              "    }\n",
              "  </style>\n",
              "\n",
              "      <script>\n",
              "        const buttonEl =\n",
              "          document.querySelector('#df-457a7248-5993-4bb6-8286-2e02880cbef3 button.colab-df-convert');\n",
              "        buttonEl.style.display =\n",
              "          google.colab.kernel.accessAllowed ? 'block' : 'none';\n",
              "\n",
              "        async function convertToInteractive(key) {\n",
              "          const element = document.querySelector('#df-457a7248-5993-4bb6-8286-2e02880cbef3');\n",
              "          const dataTable =\n",
              "            await google.colab.kernel.invokeFunction('convertToInteractive',\n",
              "                                                     [key], {});\n",
              "          if (!dataTable) return;\n",
              "\n",
              "          const docLinkHtml = 'Like what you see? Visit the ' +\n",
              "            '<a target=\"_blank\" href=https://colab.research.google.com/notebooks/data_table.ipynb>data table notebook</a>'\n",
              "            + ' to learn more about interactive tables.';\n",
              "          element.innerHTML = '';\n",
              "          dataTable['output_type'] = 'display_data';\n",
              "          await google.colab.output.renderOutput(dataTable, element);\n",
              "          const docLink = document.createElement('div');\n",
              "          docLink.innerHTML = docLinkHtml;\n",
              "          element.appendChild(docLink);\n",
              "        }\n",
              "      </script>\n",
              "    </div>\n",
              "  </div>\n",
              "  "
            ]
          },
          "metadata": {},
          "execution_count": 145
        },
        {
          "output_type": "display_data",
          "data": {
            "text/plain": [
              "<Figure size 432x288 with 1 Axes>"
            ],
            "image/png": "[encoded data removed]"
          },
          "metadata": {
            "needs_background": "light"
          }
        }
      ]
    },
    {
      "cell_type": "code",
      "source": [
        "f_income_under_40.get_best(method = 'sumsquare_error')"
      ],
      "metadata": {
        "colab": {
          "base_uri": "https://localhost:8080/"
        },
        "id": "vLWDT3Wh2hvO",
        "outputId": "b6c596a8-dfd6-448d-aa4d-09ba5f5aeb2a"
      },
      "execution_count": 120,
      "outputs": [
        {
          "output_type": "execute_result",
          "data": {
            "text/plain": [
              "{'burr': {'c': 60.57823574710625,\n",
              "  'd': 0.6116436572613504,\n",
              "  'loc': 0.28501362354293047,\n",
              "  'scale': 9.032268658605606}}"
            ]
          },
          "metadata": {},
          "execution_count": 120
        }
      ]
    },
    {
      "cell_type": "markdown",
      "source": [
        " This is not great but better than before. We could maybe fit the NON-TRANSFORMED data for INCOME.... but I think it would be worse"
      ],
      "metadata": {
        "id": "2yz0qFt74Emk"
      }
    },
    {
      "cell_type": "markdown",
      "source": [
        "## Model Fitting: Annual Income -- between 40,000 and 80,000"
      ],
      "metadata": {
        "id": "WNo765tx4m-E"
      }
    },
    {
      "cell_type": "code",
      "source": [
        "from fitter import Fitter, get_common_distributions, get_distributions\n",
        "income_bet_40_80 = between_40_80_log.values\n",
        "f_income_bet_40_80 = Fitter(income_bet_40_80,\n",
        "           distributions=['gamma',\n",
        "                          'lognorm',\n",
        "                          \"beta\",\n",
        "                          \"burr\",\n",
        "                          \"norm\"], bins=9)\n",
        "f_income_bet_40_80.fit()\n",
        "f_income_bet_40_80.summary()"
      ],
      "metadata": {
        "colab": {
          "base_uri": "https://localhost:8080/",
          "height": 471
        },
        "id": "eVVIP3Ni4Oyc",
        "outputId": "8480665b-c51f-4708-c061-60b107337040"
      },
      "execution_count": 125,
      "outputs": [
        {
          "output_type": "stream",
          "name": "stderr",
          "text": [
            "Fitting 5 distributions: 100%|██████████| 5/5 [00:00<00:00,  6.13it/s]\n"
          ]
        },
        {
          "output_type": "execute_result",
          "data": {
            "text/plain": [
              "         sumsquare_error       aic        bic    kl_div  ks_statistic  \\\n",
              "norm           12.240176 -2.123173 -60.184093  0.299269      0.168591   \n",
              "gamma          12.315863 -0.147739 -55.990215  0.301735      0.172213   \n",
              "lognorm        12.363164 -0.165363 -55.802385  0.303173      0.174033   \n",
              "beta           13.875896 -1.342610 -46.254404  0.285428      0.160536   \n",
              "burr           13.992410  2.016503 -45.844676  0.343972      0.212155   \n",
              "\n",
              "         ks_pvalue  \n",
              "norm      0.109636  \n",
              "gamma     0.096808  \n",
              "lognorm   0.090849  \n",
              "beta      0.143204  \n",
              "burr      0.020535  "
            ],
            "text/html": [
              "\n",
              "  <div id=\"df-951371a3-a542-4448-9bf7-8f1d09fd3d56\">\n",
              "    <div class=\"colab-df-container\">\n",
              "      <div>\n",
              "<style scoped>\n",
              "    .dataframe tbody tr th:only-of-type {\n",
              "        vertical-align: middle;\n",
              "    }\n",
              "\n",
              "    .dataframe tbody tr th {\n",
              "        vertical-align: top;\n",
              "    }\n",
              "\n",
              "    .dataframe thead th {\n",
              "        text-align: right;\n",
              "    }\n",
              "</style>\n",
              "<table border=\"1\" class=\"dataframe\">\n",
              "  <thead>\n",
              "    <tr style=\"text-align: right;\">\n",
              "      <th></th>\n",
              "      <th>sumsquare_error</th>\n",
              "      <th>aic</th>\n",
              "      <th>bic</th>\n",
              "      <th>kl_div</th>\n",
              "      <th>ks_statistic</th>\n",
              "      <th>ks_pvalue</th>\n",
              "    </tr>\n",
              "  </thead>\n",
              "  <tbody>\n",
              "    <tr>\n",
              "      <th>norm</th>\n",
              "      <td>12.240176</td>\n",
              "      <td>-2.123173</td>\n",
              "      <td>-60.184093</td>\n",
              "      <td>0.299269</td>\n",
              "      <td>0.168591</td>\n",
              "      <td>0.109636</td>\n",
              "    </tr>\n",
              "    <tr>\n",
              "      <th>gamma</th>\n",
              "      <td>12.315863</td>\n",
              "      <td>-0.147739</td>\n",
              "      <td>-55.990215</td>\n",
              "      <td>0.301735</td>\n",
              "      <td>0.172213</td>\n",
              "      <td>0.096808</td>\n",
              "    </tr>\n",
              "    <tr>\n",
              "      <th>lognorm</th>\n",
              "      <td>12.363164</td>\n",
              "      <td>-0.165363</td>\n",
              "      <td>-55.802385</td>\n",
              "      <td>0.303173</td>\n",
              "      <td>0.174033</td>\n",
              "      <td>0.090849</td>\n",
              "    </tr>\n",
              "    <tr>\n",
              "      <th>beta</th>\n",
              "      <td>13.875896</td>\n",
              "      <td>-1.342610</td>\n",
              "      <td>-46.254404</td>\n",
              "      <td>0.285428</td>\n",
              "      <td>0.160536</td>\n",
              "      <td>0.143204</td>\n",
              "    </tr>\n",
              "    <tr>\n",
              "      <th>burr</th>\n",
              "      <td>13.992410</td>\n",
              "      <td>2.016503</td>\n",
              "      <td>-45.844676</td>\n",
              "      <td>0.343972</td>\n",
              "      <td>0.212155</td>\n",
              "      <td>0.020535</td>\n",
              "    </tr>\n",
              "  </tbody>\n",
              "</table>\n",
              "</div>\n",
              "      <button class=\"colab-df-convert\" onclick=\"convertToInteractive('df-951371a3-a542-4448-9bf7-8f1d09fd3d56')\"\n",
              "              title=\"Convert this dataframe to an interactive table.\"\n",
              "              style=\"display:none;\">\n",
              "        \n",
              "  <svg xmlns=\"http://www.w3.org/2000/svg\" height=\"24px\"viewBox=\"0 0 24 24\"\n",
              "       width=\"24px\">\n",
              "    <path d=\"M0 0h24v24H0V0z\" fill=\"none\"/>\n",
              "    <path d=\"M18.56 5.44l.94 2.06.94-2.06 2.06-.94-2.06-.94-.94-2.06-.94 2.06-2.06.94zm-11 1L8.5 8.5l.94-2.06 2.06-.94-2.06-.94L8.5 2.5l-.94 2.06-2.06.94zm10 10l.94 2.06.94-2.06 2.06-.94-2.06-.94-.94-2.06-.94 2.06-2.06.94z\"/><path d=\"M17.41 7.96l-1.37-1.37c-.4-.4-.92-.59-1.43-.59-.52 0-1.04.2-1.43.59L10.3 9.45l-7.72 7.72c-.78.78-.78 2.05 0 2.83L4 21.41c.39.39.9.59 1.41.59.51 0 1.02-.2 1.41-.59l7.78-7.78 2.81-2.81c.8-.78.8-2.07 0-2.86zM5.41 20L4 18.59l7.72-7.72 1.47 1.35L5.41 20z\"/>\n",
              "  </svg>\n",
              "      </button>\n",
              "      \n",
              "  <style>\n",
              "    .colab-df-container {\n",
              "      display:flex;\n",
              "      flex-wrap:wrap;\n",
              "      gap: 12px;\n",
              "    }\n",
              "\n",
              "    .colab-df-convert {\n",
              "      background-color: #E8F0FE;\n",
              "      border: none;\n",
              "      border-radius: 50%;\n",
              "      cursor: pointer;\n",
              "      display: none;\n",
              "      fill: #1967D2;\n",
              "      height: 32px;\n",
              "      padding: 0 0 0 0;\n",
              "      width: 32px;\n",
              "    }\n",
              "\n",
              "    .colab-df-convert:hover {\n",
              "      background-color: #E2EBFA;\n",
              "      box-shadow: 0px 1px 2px rgba(60, 64, 67, 0.3), 0px 1px 3px 1px rgba(60, 64, 67, 0.15);\n",
              "      fill: #174EA6;\n",
              "    }\n",
              "\n",
              "    [theme=dark] .colab-df-convert {\n",
              "      background-color: #3B4455;\n",
              "      fill: #D2E3FC;\n",
              "    }\n",
              "\n",
              "    [theme=dark] .colab-df-convert:hover {\n",
              "      background-color: #434B5C;\n",
              "      box-shadow: 0px 1px 3px 1px rgba(0, 0, 0, 0.15);\n",
              "      filter: drop-shadow(0px 1px 2px rgba(0, 0, 0, 0.3));\n",
              "      fill: #FFFFFF;\n",
              "    }\n",
              "  </style>\n",
              "\n",
              "      <script>\n",
              "        const buttonEl =\n",
              "          document.querySelector('#df-951371a3-a542-4448-9bf7-8f1d09fd3d56 button.colab-df-convert');\n",
              "        buttonEl.style.display =\n",
              "          google.colab.kernel.accessAllowed ? 'block' : 'none';\n",
              "\n",
              "        async function convertToInteractive(key) {\n",
              "          const element = document.querySelector('#df-951371a3-a542-4448-9bf7-8f1d09fd3d56');\n",
              "          const dataTable =\n",
              "            await google.colab.kernel.invokeFunction('convertToInteractive',\n",
              "                                                     [key], {});\n",
              "          if (!dataTable) return;\n",
              "\n",
              "          const docLinkHtml = 'Like what you see? Visit the ' +\n",
              "            '<a target=\"_blank\" href=https://colab.research.google.com/notebooks/data_table.ipynb>data table notebook</a>'\n",
              "            + ' to learn more about interactive tables.';\n",
              "          element.innerHTML = '';\n",
              "          dataTable['output_type'] = 'display_data';\n",
              "          await google.colab.output.renderOutput(dataTable, element);\n",
              "          const docLink = document.createElement('div');\n",
              "          docLink.innerHTML = docLinkHtml;\n",
              "          element.appendChild(docLink);\n",
              "        }\n",
              "      </script>\n",
              "    </div>\n",
              "  </div>\n",
              "  "
            ]
          },
          "metadata": {},
          "execution_count": 125
        },
        {
          "output_type": "display_data",
          "data": {
            "text/plain": [
              "<Figure size 432x288 with 1 Axes>"
            ],
            "image/png": "[encoded data removed]"
          },
          "metadata": {
            "needs_background": "light"
          }
        }
      ]
    },
    {
      "cell_type": "code",
      "source": [
        "f_income_bet_40_80.get_best(method = 'sumsquare_error')"
      ],
      "metadata": {
        "colab": {
          "base_uri": "https://localhost:8080/"
        },
        "id": "CM9-WJip4O03",
        "outputId": "3c8bd954-55e9-498c-e6fb-fe5de650556c"
      },
      "execution_count": 129,
      "outputs": [
        {
          "output_type": "execute_result",
          "data": {
            "text/plain": [
              "{'norm': {'loc': 10.965571541301834, 'scale': 0.14848366325660692}}"
            ]
          },
          "metadata": {},
          "execution_count": 129
        }
      ]
    },
    {
      "cell_type": "markdown",
      "source": [
        "## Model Fitting: Annual Income -- over 80,000"
      ],
      "metadata": {
        "id": "-g7Ihau65jnX"
      }
    },
    {
      "cell_type": "code",
      "source": [
        "from fitter import Fitter, get_common_distributions, get_distributions\n",
        "income_over_80 = over_80_log.values\n",
        "f_income_over_80 = Fitter(income_over_80,\n",
        "           distributions=['gamma',\n",
        "                          'lognorm',\n",
        "                          \"beta\",\n",
        "                          \"burr\",\n",
        "                          \"norm\"], bins=5)\n",
        "f_income_over_80.fit()\n",
        "f_income_over_80.summary()"
      ],
      "metadata": {
        "colab": {
          "base_uri": "https://localhost:8080/",
          "height": 471
        },
        "id": "8PWRCbxe4O4C",
        "outputId": "5d2227e5-7a79-446c-83f2-47029c904f81"
      },
      "execution_count": 132,
      "outputs": [
        {
          "output_type": "stream",
          "name": "stderr",
          "text": [
            "Fitting 5 distributions: 100%|██████████| 5/5 [00:00<00:00,  6.12it/s]\n"
          ]
        },
        {
          "output_type": "execute_result",
          "data": {
            "text/plain": [
              "         sumsquare_error        aic        bic  kl_div  ks_statistic  \\\n",
              "beta           40.506614  13.265255  20.072526     inf      0.419795   \n",
              "lognorm        41.463580   1.830949  18.290068     inf      0.401929   \n",
              "norm           41.467679  -0.185221  16.344849     inf      0.402926   \n",
              "gamma          42.406260   1.689214  18.447431     inf      0.408953   \n",
              "burr           45.520683   3.846207  20.889437     inf      0.397490   \n",
              "\n",
              "         ks_pvalue  \n",
              "beta      0.124146  \n",
              "lognorm   0.155821  \n",
              "norm      0.153892  \n",
              "gamma     0.142655  \n",
              "burr      0.164648  "
            ],
            "text/html": [
              "\n",
              "  <div id=\"df-0be774b8-978e-4d81-9738-93dd4e2b3e7e\">\n",
              "    <div class=\"colab-df-container\">\n",
              "      <div>\n",
              "<style scoped>\n",
              "    .dataframe tbody tr th:only-of-type {\n",
              "        vertical-align: middle;\n",
              "    }\n",
              "\n",
              "    .dataframe tbody tr th {\n",
              "        vertical-align: top;\n",
              "    }\n",
              "\n",
              "    .dataframe thead th {\n",
              "        text-align: right;\n",
              "    }\n",
              "</style>\n",
              "<table border=\"1\" class=\"dataframe\">\n",
              "  <thead>\n",
              "    <tr style=\"text-align: right;\">\n",
              "      <th></th>\n",
              "      <th>sumsquare_error</th>\n",
              "      <th>aic</th>\n",
              "      <th>bic</th>\n",
              "      <th>kl_div</th>\n",
              "      <th>ks_statistic</th>\n",
              "      <th>ks_pvalue</th>\n",
              "    </tr>\n",
              "  </thead>\n",
              "  <tbody>\n",
              "    <tr>\n",
              "      <th>beta</th>\n",
              "      <td>40.506614</td>\n",
              "      <td>13.265255</td>\n",
              "      <td>20.072526</td>\n",
              "      <td>inf</td>\n",
              "      <td>0.419795</td>\n",
              "      <td>0.124146</td>\n",
              "    </tr>\n",
              "    <tr>\n",
              "      <th>lognorm</th>\n",
              "      <td>41.463580</td>\n",
              "      <td>1.830949</td>\n",
              "      <td>18.290068</td>\n",
              "      <td>inf</td>\n",
              "      <td>0.401929</td>\n",
              "      <td>0.155821</td>\n",
              "    </tr>\n",
              "    <tr>\n",
              "      <th>norm</th>\n",
              "      <td>41.467679</td>\n",
              "      <td>-0.185221</td>\n",
              "      <td>16.344849</td>\n",
              "      <td>inf</td>\n",
              "      <td>0.402926</td>\n",
              "      <td>0.153892</td>\n",
              "    </tr>\n",
              "    <tr>\n",
              "      <th>gamma</th>\n",
              "      <td>42.406260</td>\n",
              "      <td>1.689214</td>\n",
              "      <td>18.447431</td>\n",
              "      <td>inf</td>\n",
              "      <td>0.408953</td>\n",
              "      <td>0.142655</td>\n",
              "    </tr>\n",
              "    <tr>\n",
              "      <th>burr</th>\n",
              "      <td>45.520683</td>\n",
              "      <td>3.846207</td>\n",
              "      <td>20.889437</td>\n",
              "      <td>inf</td>\n",
              "      <td>0.397490</td>\n",
              "      <td>0.164648</td>\n",
              "    </tr>\n",
              "  </tbody>\n",
              "</table>\n",
              "</div>\n",
              "      <button class=\"colab-df-convert\" onclick=\"convertToInteractive('df-0be774b8-978e-4d81-9738-93dd4e2b3e7e')\"\n",
              "              title=\"Convert this dataframe to an interactive table.\"\n",
              "              style=\"display:none;\">\n",
              "        \n",
              "  <svg xmlns=\"http://www.w3.org/2000/svg\" height=\"24px\"viewBox=\"0 0 24 24\"\n",
              "       width=\"24px\">\n",
              "    <path d=\"M0 0h24v24H0V0z\" fill=\"none\"/>\n",
              "    <path d=\"M18.56 5.44l.94 2.06.94-2.06 2.06-.94-2.06-.94-.94-2.06-.94 2.06-2.06.94zm-11 1L8.5 8.5l.94-2.06 2.06-.94-2.06-.94L8.5 2.5l-.94 2.06-2.06.94zm10 10l.94 2.06.94-2.06 2.06-.94-2.06-.94-.94-2.06-.94 2.06-2.06.94z\"/><path d=\"M17.41 7.96l-1.37-1.37c-.4-.4-.92-.59-1.43-.59-.52 0-1.04.2-1.43.59L10.3 9.45l-7.72 7.72c-.78.78-.78 2.05 0 2.83L4 21.41c.39.39.9.59 1.41.59.51 0 1.02-.2 1.41-.59l7.78-7.78 2.81-2.81c.8-.78.8-2.07 0-2.86zM5.41 20L4 18.59l7.72-7.72 1.47 1.35L5.41 20z\"/>\n",
              "  </svg>\n",
              "      </button>\n",
              "      \n",
              "  <style>\n",
              "    .colab-df-container {\n",
              "      display:flex;\n",
              "      flex-wrap:wrap;\n",
              "      gap: 12px;\n",
              "    }\n",
              "\n",
              "    .colab-df-convert {\n",
              "      background-color: #E8F0FE;\n",
              "      border: none;\n",
              "      border-radius: 50%;\n",
              "      cursor: pointer;\n",
              "      display: none;\n",
              "      fill: #1967D2;\n",
              "      height: 32px;\n",
              "      padding: 0 0 0 0;\n",
              "      width: 32px;\n",
              "    }\n",
              "\n",
              "    .colab-df-convert:hover {\n",
              "      background-color: #E2EBFA;\n",
              "      box-shadow: 0px 1px 2px rgba(60, 64, 67, 0.3), 0px 1px 3px 1px rgba(60, 64, 67, 0.15);\n",
              "      fill: #174EA6;\n",
              "    }\n",
              "\n",
              "    [theme=dark] .colab-df-convert {\n",
              "      background-color: #3B4455;\n",
              "      fill: #D2E3FC;\n",
              "    }\n",
              "\n",
              "    [theme=dark] .colab-df-convert:hover {\n",
              "      background-color: #434B5C;\n",
              "      box-shadow: 0px 1px 3px 1px rgba(0, 0, 0, 0.15);\n",
              "      filter: drop-shadow(0px 1px 2px rgba(0, 0, 0, 0.3));\n",
              "      fill: #FFFFFF;\n",
              "    }\n",
              "  </style>\n",
              "\n",
              "      <script>\n",
              "        const buttonEl =\n",
              "          document.querySelector('#df-0be774b8-978e-4d81-9738-93dd4e2b3e7e button.colab-df-convert');\n",
              "        buttonEl.style.display =\n",
              "          google.colab.kernel.accessAllowed ? 'block' : 'none';\n",
              "\n",
              "        async function convertToInteractive(key) {\n",
              "          const element = document.querySelector('#df-0be774b8-978e-4d81-9738-93dd4e2b3e7e');\n",
              "          const dataTable =\n",
              "            await google.colab.kernel.invokeFunction('convertToInteractive',\n",
              "                                                     [key], {});\n",
              "          if (!dataTable) return;\n",
              "\n",
              "          const docLinkHtml = 'Like what you see? Visit the ' +\n",
              "            '<a target=\"_blank\" href=https://colab.research.google.com/notebooks/data_table.ipynb>data table notebook</a>'\n",
              "            + ' to learn more about interactive tables.';\n",
              "          element.innerHTML = '';\n",
              "          dataTable['output_type'] = 'display_data';\n",
              "          await google.colab.output.renderOutput(dataTable, element);\n",
              "          const docLink = document.createElement('div');\n",
              "          docLink.innerHTML = docLinkHtml;\n",
              "          element.appendChild(docLink);\n",
              "        }\n",
              "      </script>\n",
              "    </div>\n",
              "  </div>\n",
              "  "
            ]
          },
          "metadata": {},
          "execution_count": 132
        },
        {
          "output_type": "display_data",
          "data": {
            "text/plain": [
              "<Figure size 432x288 with 1 Axes>"
            ],
            "image/png": "[encoded data removed]"
          },
          "metadata": {
            "needs_background": "light"
          }
        }
      ]
    },
    {
      "cell_type": "code",
      "source": [
        "f_income_over_80.get_best(method = 'sumsquare_error')"
      ],
      "metadata": {
        "colab": {
          "base_uri": "https://localhost:8080/"
        },
        "id": "YP7YUFoe5roh",
        "outputId": "f159d463-8020-44a4-c927-072947aff9c5"
      },
      "execution_count": 133,
      "outputs": [
        {
          "output_type": "execute_result",
          "data": {
            "text/plain": [
              "{'beta': {'a': 0.2560684861762731,\n",
              "  'b': 0.10360116180931805,\n",
              "  'loc': 11.20482456904541,\n",
              "  'scale': 0.5627431142983995}}"
            ]
          },
          "metadata": {},
          "execution_count": 133
        }
      ]
    },
    {
      "cell_type": "markdown",
      "source": [
        "## **CONCLUSION: LET'S DIVIDE THE GROUPS DIFFERENTLY AND TRUNCATE, HONESTLY.... AND REFORM GROUPS**"
      ],
      "metadata": {
        "id": "qzM6c7Ez6F5S"
      }
    },
    {
      "cell_type": "markdown",
      "source": [
        "## Let's divide income into 2 groups and truncate the rest   \n",
        "Group 1: under 40,000   \n",
        "Group 2: between 40,000 and 90,000"
      ],
      "metadata": {
        "id": "rJHJZiQE8mMw"
      }
    },
    {
      "cell_type": "code",
      "source": [
        "under_40 = news.loc[news['Annual Income'] < 40000]\n",
        "between_40_90 = news.loc[news['Annual Income'].between(40000, 90000, 'both')]\n",
        "\n",
        "sns.displot(under_40['Annual Income'], bins=4)\n",
        "sns.displot(between_40_90['Annual Income'])"
      ],
      "metadata": {
        "colab": {
          "base_uri": "https://localhost:8080/",
          "height": 738
        },
        "id": "Pj82VCq-9iv5",
        "outputId": "3f3dbc8a-f3bb-4f15-cd86-487d6cfcb055"
      },
      "execution_count": 146,
      "outputs": [
        {
          "output_type": "execute_result",
          "data": {
            "text/plain": [
              "<seaborn.axisgrid.FacetGrid at 0x7fb7d8063610>"
            ]
          },
          "metadata": {},
          "execution_count": 146
        },
        {
          "output_type": "display_data",
          "data": {
            "text/plain": [
              "<Figure size 360x360 with 1 Axes>"
            ],
            "image/png": "[encoded data removed]"
          },
          "metadata": {
            "needs_background": "light"
          }
        },
        {
          "output_type": "display_data",
          "data": {
            "text/plain": [
              "<Figure size 360x360 with 1 Axes>"
            ],
            "image/png": "[encoded data removed]"
          },
          "metadata": {
            "needs_background": "light"
          }
        }
      ]
    },
    {
      "cell_type": "markdown",
      "source": [
        "Does log transformation help?"
      ],
      "metadata": {
        "id": "jKf1nqGV9z5k"
      }
    },
    {
      "cell_type": "code",
      "source": [
        "under_40_log = np.log(under_40['Annual Income'])\n",
        "sns.displot(data=under_40_log, bins=4)\n",
        "\n",
        "between_40_90_log = np.log(between_40_90['Annual Income'])\n",
        "sns.displot(data=between_40_90_log)"
      ],
      "metadata": {
        "colab": {
          "base_uri": "https://localhost:8080/",
          "height": 738
        },
        "id": "GWKpCFCR8uXe",
        "outputId": "75520660-0edb-4eb3-9bab-fa31933ca67e"
      },
      "execution_count": 147,
      "outputs": [
        {
          "output_type": "execute_result",
          "data": {
            "text/plain": [
              "<seaborn.axisgrid.FacetGrid at 0x7fb7d6e45d50>"
            ]
          },
          "metadata": {},
          "execution_count": 147
        },
        {
          "output_type": "display_data",
          "data": {
            "text/plain": [
              "<Figure size 360x360 with 1 Axes>"
            ],
            "image/png": "[encoded data removed]"
          },
          "metadata": {
            "needs_background": "light"
          }
        },
        {
          "output_type": "display_data",
          "data": {
            "text/plain": [
              "<Figure size 360x360 with 1 Axes>"
            ],
            "image/png": "[encoded data removed]"
          },
          "metadata": {
            "needs_background": "light"
          }
        }
      ]
    },
    {
      "cell_type": "markdown",
      "source": [
        "Yes it does.   \n",
        "## Conclusion: truncating the income variable at 90,000 for outliers higher than this value creates a better distribution."
      ],
      "metadata": {
        "id": "52aqxWhf9A6-"
      }
    },
    {
      "cell_type": "markdown",
      "source": [
        "Let's get a model"
      ],
      "metadata": {
        "id": "AYHKWPTZ-IVN"
      }
    },
    {
      "cell_type": "code",
      "source": [
        "from fitter import Fitter, get_common_distributions, get_distributions\n",
        "income_under_40 = under_40_log.values\n",
        "f_income_under_40 = Fitter(income_under_40,\n",
        "           distributions=['gamma',\n",
        "                          'lognorm',\n",
        "                          \"beta\",\n",
        "                          \"burr\",\n",
        "                          \"norm\"], bins=5)\n",
        "f_income_under_40.fit()\n",
        "f_income_under_40.summary()"
      ],
      "metadata": {
        "colab": {
          "base_uri": "https://localhost:8080/",
          "height": 506
        },
        "id": "mzxT8LXr808c",
        "outputId": "c4fee59b-4628-4f09-c387-d3d57c7e870e"
      },
      "execution_count": 150,
      "outputs": [
        {
          "output_type": "stream",
          "name": "stderr",
          "text": [
            "Fitting 5 distributions:  20%|██        | 1/5 [00:00<00:01,  2.11it/s]WARNING:root:SKIPPED beta distribution (taking more than 30 seconds)\n",
            "Fitting 5 distributions: 100%|██████████| 5/5 [00:00<00:00,  6.20it/s]\n",
            "WARNING:fitter.fitter:beta was not fitted. no parameters available\n"
          ]
        },
        {
          "output_type": "execute_result",
          "data": {
            "text/plain": [
              "         sumsquare_error        aic         bic    kl_div  ks_statistic  \\\n",
              "burr            0.595785  22.328565 -113.612645  0.449657      0.348554   \n",
              "norm            1.185211  14.876667  -98.534606  0.605110      0.352437   \n",
              "lognorm         1.212822  16.797070  -94.331935  0.616155      0.356570   \n",
              "gamma           1.228267  16.760349  -93.927013  0.621922      0.359060   \n",
              "beta                 inf        inf         inf       inf           NaN   \n",
              "\n",
              "         ks_pvalue  \n",
              "burr      0.000559  \n",
              "norm      0.000464  \n",
              "lognorm   0.000380  \n",
              "gamma     0.000336  \n",
              "beta           NaN  "
            ],
            "text/html": [
              "\n",
              "  <div id=\"df-8c6e022d-9c77-416b-9b1f-4bdcae36b9d3\">\n",
              "    <div class=\"colab-df-container\">\n",
              "      <div>\n",
              "<style scoped>\n",
              "    .dataframe tbody tr th:only-of-type {\n",
              "        vertical-align: middle;\n",
              "    }\n",
              "\n",
              "    .dataframe tbody tr th {\n",
              "        vertical-align: top;\n",
              "    }\n",
              "\n",
              "    .dataframe thead th {\n",
              "        text-align: right;\n",
              "    }\n",
              "</style>\n",
              "<table border=\"1\" class=\"dataframe\">\n",
              "  <thead>\n",
              "    <tr style=\"text-align: right;\">\n",
              "      <th></th>\n",
              "      <th>sumsquare_error</th>\n",
              "      <th>aic</th>\n",
              "      <th>bic</th>\n",
              "      <th>kl_div</th>\n",
              "      <th>ks_statistic</th>\n",
              "      <th>ks_pvalue</th>\n",
              "    </tr>\n",
              "  </thead>\n",
              "  <tbody>\n",
              "    <tr>\n",
              "      <th>burr</th>\n",
              "      <td>0.595785</td>\n",
              "      <td>22.328565</td>\n",
              "      <td>-113.612645</td>\n",
              "      <td>0.449657</td>\n",
              "      <td>0.348554</td>\n",
              "      <td>0.000559</td>\n",
              "    </tr>\n",
              "    <tr>\n",
              "      <th>norm</th>\n",
              "      <td>1.185211</td>\n",
              "      <td>14.876667</td>\n",
              "      <td>-98.534606</td>\n",
              "      <td>0.605110</td>\n",
              "      <td>0.352437</td>\n",
              "      <td>0.000464</td>\n",
              "    </tr>\n",
              "    <tr>\n",
              "      <th>lognorm</th>\n",
              "      <td>1.212822</td>\n",
              "      <td>16.797070</td>\n",
              "      <td>-94.331935</td>\n",
              "      <td>0.616155</td>\n",
              "      <td>0.356570</td>\n",
              "      <td>0.000380</td>\n",
              "    </tr>\n",
              "    <tr>\n",
              "      <th>gamma</th>\n",
              "      <td>1.228267</td>\n",
              "      <td>16.760349</td>\n",
              "      <td>-93.927013</td>\n",
              "      <td>0.621922</td>\n",
              "      <td>0.359060</td>\n",
              "      <td>0.000336</td>\n",
              "    </tr>\n",
              "    <tr>\n",
              "      <th>beta</th>\n",
              "      <td>inf</td>\n",
              "      <td>inf</td>\n",
              "      <td>inf</td>\n",
              "      <td>inf</td>\n",
              "      <td>NaN</td>\n",
              "      <td>NaN</td>\n",
              "    </tr>\n",
              "  </tbody>\n",
              "</table>\n",
              "</div>\n",
              "      <button class=\"colab-df-convert\" onclick=\"convertToInteractive('df-8c6e022d-9c77-416b-9b1f-4bdcae36b9d3')\"\n",
              "              title=\"Convert this dataframe to an interactive table.\"\n",
              "              style=\"display:none;\">\n",
              "        \n",
              "  <svg xmlns=\"http://www.w3.org/2000/svg\" height=\"24px\"viewBox=\"0 0 24 24\"\n",
              "       width=\"24px\">\n",
              "    <path d=\"M0 0h24v24H0V0z\" fill=\"none\"/>\n",
              "    <path d=\"M18.56 5.44l.94 2.06.94-2.06 2.06-.94-2.06-.94-.94-2.06-.94 2.06-2.06.94zm-11 1L8.5 8.5l.94-2.06 2.06-.94-2.06-.94L8.5 2.5l-.94 2.06-2.06.94zm10 10l.94 2.06.94-2.06 2.06-.94-2.06-.94-.94-2.06-.94 2.06-2.06.94z\"/><path d=\"M17.41 7.96l-1.37-1.37c-.4-.4-.92-.59-1.43-.59-.52 0-1.04.2-1.43.59L10.3 9.45l-7.72 7.72c-.78.78-.78 2.05 0 2.83L4 21.41c.39.39.9.59 1.41.59.51 0 1.02-.2 1.41-.59l7.78-7.78 2.81-2.81c.8-.78.8-2.07 0-2.86zM5.41 20L4 18.59l7.72-7.72 1.47 1.35L5.41 20z\"/>\n",
              "  </svg>\n",
              "      </button>\n",
              "      \n",
              "  <style>\n",
              "    .colab-df-container {\n",
              "      display:flex;\n",
              "      flex-wrap:wrap;\n",
              "      gap: 12px;\n",
              "    }\n",
              "\n",
              "    .colab-df-convert {\n",
              "      background-color: #E8F0FE;\n",
              "      border: none;\n",
              "      border-radius: 50%;\n",
              "      cursor: pointer;\n",
              "      display: none;\n",
              "      fill: #1967D2;\n",
              "      height: 32px;\n",
              "      padding: 0 0 0 0;\n",
              "      width: 32px;\n",
              "    }\n",
              "\n",
              "    .colab-df-convert:hover {\n",
              "      background-color: #E2EBFA;\n",
              "      box-shadow: 0px 1px 2px rgba(60, 64, 67, 0.3), 0px 1px 3px 1px rgba(60, 64, 67, 0.15);\n",
              "      fill: #174EA6;\n",
              "    }\n",
              "\n",
              "    [theme=dark] .colab-df-convert {\n",
              "      background-color: #3B4455;\n",
              "      fill: #D2E3FC;\n",
              "    }\n",
              "\n",
              "    [theme=dark] .colab-df-convert:hover {\n",
              "      background-color: #434B5C;\n",
              "      box-shadow: 0px 1px 3px 1px rgba(0, 0, 0, 0.15);\n",
              "      filter: drop-shadow(0px 1px 2px rgba(0, 0, 0, 0.3));\n",
              "      fill: #FFFFFF;\n",
              "    }\n",
              "  </style>\n",
              "\n",
              "      <script>\n",
              "        const buttonEl =\n",
              "          document.querySelector('#df-8c6e022d-9c77-416b-9b1f-4bdcae36b9d3 button.colab-df-convert');\n",
              "        buttonEl.style.display =\n",
              "          google.colab.kernel.accessAllowed ? 'block' : 'none';\n",
              "\n",
              "        async function convertToInteractive(key) {\n",
              "          const element = document.querySelector('#df-8c6e022d-9c77-416b-9b1f-4bdcae36b9d3');\n",
              "          const dataTable =\n",
              "            await google.colab.kernel.invokeFunction('convertToInteractive',\n",
              "                                                     [key], {});\n",
              "          if (!dataTable) return;\n",
              "\n",
              "          const docLinkHtml = 'Like what you see? Visit the ' +\n",
              "            '<a target=\"_blank\" href=https://colab.research.google.com/notebooks/data_table.ipynb>data table notebook</a>'\n",
              "            + ' to learn more about interactive tables.';\n",
              "          element.innerHTML = '';\n",
              "          dataTable['output_type'] = 'display_data';\n",
              "          await google.colab.output.renderOutput(dataTable, element);\n",
              "          const docLink = document.createElement('div');\n",
              "          docLink.innerHTML = docLinkHtml;\n",
              "          element.appendChild(docLink);\n",
              "        }\n",
              "      </script>\n",
              "    </div>\n",
              "  </div>\n",
              "  "
            ]
          },
          "metadata": {},
          "execution_count": 150
        },
        {
          "output_type": "display_data",
          "data": {
            "text/plain": [
              "<Figure size 432x288 with 1 Axes>"
            ],
            "image/png": "[encoded data removed]"
          },
          "metadata": {
            "needs_background": "light"
          }
        }
      ]
    },
    {
      "cell_type": "code",
      "source": [
        "f_income_under_40.get_best(method = 'sumsquare_error')"
      ],
      "metadata": {
        "id": "8pqpiJ98_Rmh"
      },
      "execution_count": null,
      "outputs": []
    },
    {
      "cell_type": "markdown",
      "source": [
        "Okay, this stays the same as before. But..."
      ],
      "metadata": {
        "id": "ADulLDsy-jnR"
      }
    },
    {
      "cell_type": "code",
      "source": [
        "from fitter import Fitter, get_common_distributions, get_distributions\n",
        "income_between_40_90 = between_40_90_log.values\n",
        "f_income_between_40_90 = Fitter(income_between_40_90 ,\n",
        "           distributions=['gamma',\n",
        "                          'lognorm',\n",
        "                          \"beta\",\n",
        "                          \"burr\",\n",
        "                          \"norm\"], bins=6)\n",
        "f_income_between_40_90.fit()\n",
        "f_income_between_40_90.summary()"
      ],
      "metadata": {
        "colab": {
          "base_uri": "https://localhost:8080/",
          "height": 471
        },
        "id": "Chq947P680_D",
        "outputId": "f7479d3d-fbfa-4be6-cc7c-062decb6d8da"
      },
      "execution_count": 152,
      "outputs": [
        {
          "output_type": "stream",
          "name": "stderr",
          "text": [
            "Fitting 5 distributions: 100%|██████████| 5/5 [00:00<00:00,  7.01it/s]\n"
          ]
        },
        {
          "output_type": "execute_result",
          "data": {
            "text/plain": [
              "         sumsquare_error       aic         bic    kl_div  ks_statistic  \\\n",
              "norm            3.516353  3.948058 -124.905883  0.123889      0.148915   \n",
              "gamma           3.831354  5.312071 -116.704173  0.136613      0.179251   \n",
              "lognorm         3.842081  5.426888 -116.564374  0.136520      0.175421   \n",
              "burr            4.128976  7.011970 -109.051592  0.152959      0.201211   \n",
              "beta            6.442360  9.301712  -86.808309  0.370753      0.378191   \n",
              "\n",
              "            ks_pvalue  \n",
              "norm     1.967019e-01  \n",
              "gamma    7.070703e-02  \n",
              "lognorm  8.131429e-02  \n",
              "burr     2.990207e-02  \n",
              "beta     6.180609e-07  "
            ],
            "text/html": [
              "\n",
              "  <div id=\"df-214fdfc9-11e2-4dd7-83ba-e45acf1a2280\">\n",
              "    <div class=\"colab-df-container\">\n",
              "      <div>\n",
              "<style scoped>\n",
              "    .dataframe tbody tr th:only-of-type {\n",
              "        vertical-align: middle;\n",
              "    }\n",
              "\n",
              "    .dataframe tbody tr th {\n",
              "        vertical-align: top;\n",
              "    }\n",
              "\n",
              "    .dataframe thead th {\n",
              "        text-align: right;\n",
              "    }\n",
              "</style>\n",
              "<table border=\"1\" class=\"dataframe\">\n",
              "  <thead>\n",
              "    <tr style=\"text-align: right;\">\n",
              "      <th></th>\n",
              "      <th>sumsquare_error</th>\n",
              "      <th>aic</th>\n",
              "      <th>bic</th>\n",
              "      <th>kl_div</th>\n",
              "      <th>ks_statistic</th>\n",
              "      <th>ks_pvalue</th>\n",
              "    </tr>\n",
              "  </thead>\n",
              "  <tbody>\n",
              "    <tr>\n",
              "      <th>norm</th>\n",
              "      <td>3.516353</td>\n",
              "      <td>3.948058</td>\n",
              "      <td>-124.905883</td>\n",
              "      <td>0.123889</td>\n",
              "      <td>0.148915</td>\n",
              "      <td>1.967019e-01</td>\n",
              "    </tr>\n",
              "    <tr>\n",
              "      <th>gamma</th>\n",
              "      <td>3.831354</td>\n",
              "      <td>5.312071</td>\n",
              "      <td>-116.704173</td>\n",
              "      <td>0.136613</td>\n",
              "      <td>0.179251</td>\n",
              "      <td>7.070703e-02</td>\n",
              "    </tr>\n",
              "    <tr>\n",
              "      <th>lognorm</th>\n",
              "      <td>3.842081</td>\n",
              "      <td>5.426888</td>\n",
              "      <td>-116.564374</td>\n",
              "      <td>0.136520</td>\n",
              "      <td>0.175421</td>\n",
              "      <td>8.131429e-02</td>\n",
              "    </tr>\n",
              "    <tr>\n",
              "      <th>burr</th>\n",
              "      <td>4.128976</td>\n",
              "      <td>7.011970</td>\n",
              "      <td>-109.051592</td>\n",
              "      <td>0.152959</td>\n",
              "      <td>0.201211</td>\n",
              "      <td>2.990207e-02</td>\n",
              "    </tr>\n",
              "    <tr>\n",
              "      <th>beta</th>\n",
              "      <td>6.442360</td>\n",
              "      <td>9.301712</td>\n",
              "      <td>-86.808309</td>\n",
              "      <td>0.370753</td>\n",
              "      <td>0.378191</td>\n",
              "      <td>6.180609e-07</td>\n",
              "    </tr>\n",
              "  </tbody>\n",
              "</table>\n",
              "</div>\n",
              "      <button class=\"colab-df-convert\" onclick=\"convertToInteractive('df-214fdfc9-11e2-4dd7-83ba-e45acf1a2280')\"\n",
              "              title=\"Convert this dataframe to an interactive table.\"\n",
              "              style=\"display:none;\">\n",
              "        \n",
              "  <svg xmlns=\"http://www.w3.org/2000/svg\" height=\"24px\"viewBox=\"0 0 24 24\"\n",
              "       width=\"24px\">\n",
              "    <path d=\"M0 0h24v24H0V0z\" fill=\"none\"/>\n",
              "    <path d=\"M18.56 5.44l.94 2.06.94-2.06 2.06-.94-2.06-.94-.94-2.06-.94 2.06-2.06.94zm-11 1L8.5 8.5l.94-2.06 2.06-.94-2.06-.94L8.5 2.5l-.94 2.06-2.06.94zm10 10l.94 2.06.94-2.06 2.06-.94-2.06-.94-.94-2.06-.94 2.06-2.06.94z\"/><path d=\"M17.41 7.96l-1.37-1.37c-.4-.4-.92-.59-1.43-.59-.52 0-1.04.2-1.43.59L10.3 9.45l-7.72 7.72c-.78.78-.78 2.05 0 2.83L4 21.41c.39.39.9.59 1.41.59.51 0 1.02-.2 1.41-.59l7.78-7.78 2.81-2.81c.8-.78.8-2.07 0-2.86zM5.41 20L4 18.59l7.72-7.72 1.47 1.35L5.41 20z\"/>\n",
              "  </svg>\n",
              "      </button>\n",
              "      \n",
              "  <style>\n",
              "    .colab-df-container {\n",
              "      display:flex;\n",
              "      flex-wrap:wrap;\n",
              "      gap: 12px;\n",
              "    }\n",
              "\n",
              "    .colab-df-convert {\n",
              "      background-color: #E8F0FE;\n",
              "      border: none;\n",
              "      border-radius: 50%;\n",
              "      cursor: pointer;\n",
              "      display: none;\n",
              "      fill: #1967D2;\n",
              "      height: 32px;\n",
              "      padding: 0 0 0 0;\n",
              "      width: 32px;\n",
              "    }\n",
              "\n",
              "    .colab-df-convert:hover {\n",
              "      background-color: #E2EBFA;\n",
              "      box-shadow: 0px 1px 2px rgba(60, 64, 67, 0.3), 0px 1px 3px 1px rgba(60, 64, 67, 0.15);\n",
              "      fill: #174EA6;\n",
              "    }\n",
              "\n",
              "    [theme=dark] .colab-df-convert {\n",
              "      background-color: #3B4455;\n",
              "      fill: #D2E3FC;\n",
              "    }\n",
              "\n",
              "    [theme=dark] .colab-df-convert:hover {\n",
              "      background-color: #434B5C;\n",
              "      box-shadow: 0px 1px 3px 1px rgba(0, 0, 0, 0.15);\n",
              "      filter: drop-shadow(0px 1px 2px rgba(0, 0, 0, 0.3));\n",
              "      fill: #FFFFFF;\n",
              "    }\n",
              "  </style>\n",
              "\n",
              "      <script>\n",
              "        const buttonEl =\n",
              "          document.querySelector('#df-214fdfc9-11e2-4dd7-83ba-e45acf1a2280 button.colab-df-convert');\n",
              "        buttonEl.style.display =\n",
              "          google.colab.kernel.accessAllowed ? 'block' : 'none';\n",
              "\n",
              "        async function convertToInteractive(key) {\n",
              "          const element = document.querySelector('#df-214fdfc9-11e2-4dd7-83ba-e45acf1a2280');\n",
              "          const dataTable =\n",
              "            await google.colab.kernel.invokeFunction('convertToInteractive',\n",
              "                                                     [key], {});\n",
              "          if (!dataTable) return;\n",
              "\n",
              "          const docLinkHtml = 'Like what you see? Visit the ' +\n",
              "            '<a target=\"_blank\" href=https://colab.research.google.com/notebooks/data_table.ipynb>data table notebook</a>'\n",
              "            + ' to learn more about interactive tables.';\n",
              "          element.innerHTML = '';\n",
              "          dataTable['output_type'] = 'display_data';\n",
              "          await google.colab.output.renderOutput(dataTable, element);\n",
              "          const docLink = document.createElement('div');\n",
              "          docLink.innerHTML = docLinkHtml;\n",
              "          element.appendChild(docLink);\n",
              "        }\n",
              "      </script>\n",
              "    </div>\n",
              "  </div>\n",
              "  "
            ]
          },
          "metadata": {},
          "execution_count": 152
        },
        {
          "output_type": "display_data",
          "data": {
            "text/plain": [
              "<Figure size 432x288 with 1 Axes>"
            ],
            "image/png": "[encoded data removed]"
          },
          "metadata": {
            "needs_background": "light"
          }
        }
      ]
    },
    {
      "cell_type": "code",
      "source": [
        "f_income_between_40_90.get_best(method = 'sumsquare_error')"
      ],
      "metadata": {
        "colab": {
          "base_uri": "https://localhost:8080/"
        },
        "id": "tkQsAMWn_WtY",
        "outputId": "1b9097b2-b042-44af-bd90-a3b2a5485878"
      },
      "execution_count": 153,
      "outputs": [
        {
          "output_type": "execute_result",
          "data": {
            "text/plain": [
              "{'norm': {'loc': 10.974411409462045, 'scale': 0.1594850164574259}}"
            ]
          },
          "metadata": {},
          "execution_count": 153
        }
      ]
    },
    {
      "cell_type": "markdown",
      "source": [
        "## TRUNCATING ANNUAL INCOME TO STOP AT 90,000 IS WAY BETTER FOR THE AIC AND DISTRIBUTION for the second subpopulation!!"
      ],
      "metadata": {
        "id": "ikABiTMK-8bQ"
      }
    },
    {
      "cell_type": "code",
      "source": [],
      "metadata": {
        "id": "b3F8bbIE_DOP"
      },
      "execution_count": null,
      "outputs": []
    },
    {
      "cell_type": "code",
      "source": [],
      "metadata": {
        "id": "ZC_Sgqdf_DQo"
      },
      "execution_count": null,
      "outputs": []
    },
    {
      "cell_type": "code",
      "source": [],
      "metadata": {
        "id": "Em9YOW1Y_DTH"
      },
      "execution_count": null,
      "outputs": []
    },
    {
      "cell_type": "code",
      "source": [],
      "metadata": {
        "id": "NpxT2_cZ_EC0"
      },
      "execution_count": null,
      "outputs": []
    },
    {
      "cell_type": "markdown",
      "source": [
        "## NOW, HOW DO WE FIND THE AIC FOR THE TRANSFORMED VARIABLES' BEST MODEL??"
      ],
      "metadata": {
        "id": "REiGpxjo_F-2"
      }
    },
    {
      "cell_type": "markdown",
      "source": [
        "## SAY WE HAVE:  \n",
        " AGE  \n",
        " \n",
        " log(ANNUAL INCOME)"
      ],
      "metadata": {
        "id": "tUGKrtJOEAB8"
      }
    },
    {
      "cell_type": "code",
      "source": [],
      "metadata": {
        "id": "7-71qVDd_EFI"
      },
      "execution_count": null,
      "outputs": []
    },
    {
      "cell_type": "code",
      "source": [],
      "metadata": {
        "id": "yYeZ8Lb0_EHt"
      },
      "execution_count": null,
      "outputs": []
    },
    {
      "cell_type": "code",
      "source": [],
      "metadata": {
        "id": "y0l6rUoJ_EJ4"
      },
      "execution_count": null,
      "outputs": []
    },
    {
      "cell_type": "markdown",
      "source": [
        "## Hypothesis tests -- STATISTICAL INFERENCE"
      ],
      "metadata": {
        "id": "bFq2sqAhJ3Qe"
      }
    },
    {
      "cell_type": "code",
      "source": [
        "# does this section meet all the requirements?"
      ],
      "metadata": {
        "id": "w1WnhqvMEdbo"
      },
      "execution_count": null,
      "outputs": []
    },
    {
      "cell_type": "markdown",
      "source": [
        "About 56% who say their news media are doing well at reporting:  \n",
        "  https://www.pewresearch.org/fact-tank/2020/01/24/qa-how-pew-research-center-evaluated-americans-trust-in-30-news-sources/"
      ],
      "metadata": {
        "id": "FCT4XelZjbWQ"
      }
    },
    {
      "cell_type": "markdown",
      "source": [
        "The Weather Channel, The Wall Street Journal and Public Service Broadcasting amoung the most reliable. NY Times in the middle and CNN and FoxNews last (included in repor)t:  \n",
        "  https://today.yougov.com/topics/politics/articles-reports/2022/04/05/trust-media-2022-where-americans-get-news-poll"
      ],
      "metadata": {
        "id": "T_DX4jk4kuDV"
      }
    },
    {
      "cell_type": "markdown",
      "source": [
        "## Statistical Inference of one variable  \n",
        "\n",
        "\n",
        "How many people trust the news?\n",
        "\n",
        "> Counts for variable **\"num_reliable\"**\n",
        "\n",
        "\n",
        "\n",
        "How many people agree with certain news channels?  \n",
        "\n",
        "\n",
        "> Counts for variable **\"agree\"** and its values\n",
        "\n"
      ],
      "metadata": {
        "id": "f7DeRitpJxJH"
      }
    },
    {
      "cell_type": "markdown",
      "source": [
        "Obtain and interpret confidence intervals for the population mean of the variables of interest (num_reliable, agree).  Moti-vate a hypothesis test using some information obtained from news about a mean population (include the source of information).  Test your hypothesis using your data set."
      ],
      "metadata": {
        "id": "kKvKT0xbhyxH"
      }
    },
    {
      "cell_type": "code",
      "source": [
        "cols = ['num_reliable', 'agree', 'Trusted Source']\n",
        "for col in cols:\n",
        "    fig = plt.figure(figsize=(4,4)) # define plot area\n",
        "    ax = fig.gca() # define axis  \n",
        "    \n",
        "    counts = news[col].value_counts() # find the counts for each unique category\n",
        "    counts.plot.bar(ax = ax) # Use the plot.bar method on the counts data frame\n",
        "    plt.xticks(rotation=20)\n",
        "    ax.set_title('Bar plot for ' + col)"
      ],
      "metadata": {
        "id": "KXIaxlFBJ-L1",
        "colab": {
          "base_uri": "https://localhost:8080/",
          "height": 852
        },
        "outputId": "ced0f8dc-7b20-424d-81c1-dba07fe229c0"
      },
      "execution_count": 154,
      "outputs": [
        {
          "output_type": "display_data",
          "data": {
            "text/plain": [
              "<Figure size 288x288 with 1 Axes>"
            ],
            "image/png": "[encoded data removed]"
          },
          "metadata": {
            "needs_background": "light"
          }
        },
        {
          "output_type": "display_data",
          "data": {
            "text/plain": [
              "<Figure size 288x288 with 1 Axes>"
            ],
            "image/png": "[encoded data removed]"
          },
          "metadata": {
            "needs_background": "light"
          }
        },
        {
          "output_type": "display_data",
          "data": {
            "text/plain": [
              "<Figure size 288x288 with 1 Axes>"
            ],
            "image/png": "[encoded data removed]"
          },
          "metadata": {
            "needs_background": "light"
          }
        }
      ]
    },
    {
      "cell_type": "markdown",
      "source": [
        "## Conclusions from UNIVARIATE hypothesis test:"
      ],
      "metadata": {
        "id": "FRINhfNBc1es"
      }
    },
    {
      "cell_type": "markdown",
      "source": [
        "**Most people trust Fox which is completely the opposite of evidence on the internet, and not many people trust CNN which is right along the lines with what Pew Research says.** **Very few people in the survey agree with 1 or all of the sources listed and most people agree with 2 or 3. They also mostly trust 2 or 3.**"
      ],
      "metadata": {
        "id": "WnYBnRpjl4qO"
      }
    },
    {
      "cell_type": "code",
      "source": [],
      "metadata": {
        "id": "rbLa68XQlPbN"
      },
      "execution_count": null,
      "outputs": []
    },
    {
      "cell_type": "code",
      "source": [],
      "metadata": {
        "id": "DsxKe6AWlPdI"
      },
      "execution_count": null,
      "outputs": []
    },
    {
      "cell_type": "code",
      "source": [],
      "metadata": {
        "id": "-d-zWJtslPf7"
      },
      "execution_count": null,
      "outputs": []
    },
    {
      "cell_type": "markdown",
      "source": [
        "## Statistical Inference of two variables  \n",
        "\n",
        "1) Does age influence trust? (age, num_reliable)   \n",
        "\n",
        "2) Does age influence the trusted source? (age, Trusted Source)  \n",
        "\n",
        "3) Does occupation influence trust (students vs other)? (occupation, num_reliable)  \n",
        "\n",
        "4) Does income affect the trusted news source? (income, num_reliable)   \n",
        "\n",
        "5) Does occupation influence agreement with certain news channels? (occupation, Trusted Source)"
      ],
      "metadata": {
        "id": "okFJL6BKJ-us"
      }
    },
    {
      "cell_type": "markdown",
      "source": [
        "*Perform interesting hypothesis test based on two variables.  These can be different depending on yourdata.  For example, you may want to test if two categorical variables are related to one another.  Oryou may want to compare if there are statistical differences in the mean of two (or more) populations.In case you have two paired continuous variables, you may want to test if there exist significant linearcorrelation between them.*"
      ],
      "metadata": {
        "id": "R8Li6dW9iHP_"
      }
    },
    {
      "cell_type": "markdown",
      "source": [
        "Correlation"
      ],
      "metadata": {
        "id": "N9FPcBTuf-T4"
      }
    },
    {
      "cell_type": "code",
      "source": [
        "#CORRELATION MATRIX AMONG FEATURES\n",
        "corrmat = news.corr()\n",
        "f,ax = plt.subplots(figsize=(5,4))\n",
        "sns.heatmap(corrmat, square=True)"
      ],
      "metadata": {
        "id": "_8CpUtDMKDpM",
        "colab": {
          "base_uri": "https://localhost:8080/",
          "height": 351
        },
        "outputId": "9f1e06a5-231e-428d-86a7-88af15637a77"
      },
      "execution_count": 155,
      "outputs": [
        {
          "output_type": "execute_result",
          "data": {
            "text/plain": [
              "<matplotlib.axes._subplots.AxesSubplot at 0x7fb7d8b8ef50>"
            ]
          },
          "metadata": {},
          "execution_count": 155
        },
        {
          "output_type": "display_data",
          "data": {
            "text/plain": [
              "<Figure size 360x288 with 2 Axes>"
            ],
            "image/png": "[encoded data removed]"
          },
          "metadata": {
            "needs_background": "light"
          }
        }
      ]
    },
    {
      "cell_type": "markdown",
      "source": [
        "It is easy to tell which variables could be related to one another when it comes to this multi-variate analysis. We could pretty much answer the above questions just by looking at this correlation matrix, but let's look closer at each of the two variable being compared in the questions"
      ],
      "metadata": {
        "id": "ZLy1TobigAOE"
      }
    },
    {
      "cell_type": "code",
      "source": [
        "# 1) Does age influence trust?\n",
        "# boxplot\n",
        "\n",
        "sns.boxplot(x=news['num_reliable'], y='Age', data=news)\n",
        "plt.xlabel('Number of trusted sources') # Set text for the x axis\n",
        "plt.xticks(rotation=45)\n",
        "plt.ylabel('Age')# Set text for y axis\n",
        "plt.show()"
      ],
      "metadata": {
        "colab": {
          "base_uri": "https://localhost:8080/",
          "height": 281
        },
        "id": "JwPb7IZQenY3",
        "outputId": "4d42480c-40e8-4ad8-cb58-375ef6147489"
      },
      "execution_count": null,
      "outputs": [
        {
          "output_type": "display_data",
          "data": {
            "text/plain": [
              "<Figure size 432x288 with 1 Axes>"
            ],
            "image/png": "[encoded data removed]"
          },
          "metadata": {
            "needs_background": "light"
          }
        }
      ]
    },
    {
      "cell_type": "markdown",
      "source": [
        "Conclusion:"
      ],
      "metadata": {
        "id": "-Dh8ymC__v4z"
      }
    },
    {
      "cell_type": "code",
      "source": [
        "# 2) Does age influence trusted source?\n",
        "# boxplot\n",
        "\n",
        "sns.boxplot(x=news['Trusted Source'], y='Age', data=news)\n",
        "plt.xlabel('Trusted news source') # Set text for the x axis\n",
        "plt.xticks(rotation=45)\n",
        "plt.ylabel('Age')# Set text for y axis\n",
        "plt.show()"
      ],
      "metadata": {
        "colab": {
          "base_uri": "https://localhost:8080/",
          "height": 357
        },
        "id": "xjC14aIwetsH",
        "outputId": "8a56a3c8-67bd-453e-dc68-ea489cfb6775"
      },
      "execution_count": null,
      "outputs": [
        {
          "output_type": "display_data",
          "data": {
            "text/plain": [
              "<Figure size 432x288 with 1 Axes>"
            ],
            "image/png": "[encoded data removed]"
          },
          "metadata": {
            "needs_background": "light"
          }
        }
      ]
    },
    {
      "cell_type": "markdown",
      "source": [
        "Conclusion:"
      ],
      "metadata": {
        "id": "VzwUCxJt_xSl"
      }
    },
    {
      "cell_type": "code",
      "source": [
        "# 3) Does occupation influence trust?\n",
        "# barplot\n",
        "\n",
        "fig = plt.figure(figsize = (6, 6))\n",
        "plt.bar(news['Occupation'], news['num_reliable'],\n",
        "        width = 0.4)\n",
        " \n",
        "plt.xlabel(\"Occupation\")\n",
        "plt.xticks(rotation=90)\n",
        "my_yticks = news['num_reliable'].values\n",
        "plt.yticks(my_yticks)\n",
        "plt.ylabel(\"Number of Sources Trusted\")\n",
        "plt.show()"
      ],
      "metadata": {
        "colab": {
          "base_uri": "https://localhost:8080/",
          "height": 473
        },
        "id": "m2Anh6zPeygi",
        "outputId": "63de413f-3efe-4568-f7f7-3259a230901d"
      },
      "execution_count": null,
      "outputs": [
        {
          "output_type": "display_data",
          "data": {
            "text/plain": [
              "<Figure size 432x432 with 1 Axes>"
            ],
            "image/png": "[encoded data removed]"
          },
          "metadata": {
            "needs_background": "light"
          }
        }
      ]
    },
    {
      "cell_type": "markdown",
      "source": [
        "Conclusion:"
      ],
      "metadata": {
        "id": "CxhLtSxg_ztf"
      }
    },
    {
      "cell_type": "code",
      "source": [
        "# 4) Does income level influence trusted news source?\n",
        "# boxplot\n",
        "\n",
        "sns.boxplot(x=news['Trusted Source'], y='Annual Income', data=news)\n",
        "plt.xlabel('Trusted News Source') # Set text for the x axis\n",
        "plt.xticks(rotation=45)\n",
        "plt.ylabel('Annual Income')# Set text for y axis\n",
        "plt.show()"
      ],
      "metadata": {
        "colab": {
          "base_uri": "https://localhost:8080/",
          "height": 357
        },
        "id": "u-BaptSGe7LT",
        "outputId": "4ae84570-4d98-49ce-fe89-4a99a1d80fac"
      },
      "execution_count": null,
      "outputs": [
        {
          "output_type": "display_data",
          "data": {
            "text/plain": [
              "<Figure size 432x288 with 1 Axes>"
            ],
            "image/png": "[encoded data removed]"
          },
          "metadata": {
            "needs_background": "light"
          }
        }
      ]
    },
    {
      "cell_type": "markdown",
      "source": [
        "Conclusion:"
      ],
      "metadata": {
        "id": "8jIBwei__09k"
      }
    },
    {
      "cell_type": "code",
      "source": [
        "# 5) Does occupation influence agreement?\n",
        "# barplot\n",
        "\n",
        "fig = plt.figure(figsize = (6, 6))\n",
        "plt.bar(news['Occupation'], news['agree'],\n",
        "        width = 0.4)\n",
        " \n",
        "plt.xlabel(\"Occupation\")\n",
        "plt.xticks(rotation=90)\n",
        "my_yticks = news['agree'].values\n",
        "plt.yticks(my_yticks)\n",
        "plt.ylabel(\"Number of Sources Agreed with\")\n",
        "plt.show()"
      ],
      "metadata": {
        "colab": {
          "base_uri": "https://localhost:8080/",
          "height": 473
        },
        "id": "SdkHCyhDfayV",
        "outputId": "36a329f7-317a-453a-da8c-e6d6b974d22e"
      },
      "execution_count": null,
      "outputs": [
        {
          "output_type": "display_data",
          "data": {
            "text/plain": [
              "<Figure size 432x432 with 1 Axes>"
            ],
            "image/png": "[encoded data removed]"
          },
          "metadata": {
            "needs_background": "light"
          }
        }
      ]
    },
    {
      "cell_type": "markdown",
      "source": [
        "Conclusion:"
      ],
      "metadata": {
        "id": "CTcYpgLO_5Kg"
      }
    },
    {
      "cell_type": "code",
      "source": [],
      "metadata": {
        "id": "t_R22B4Vf71E"
      },
      "execution_count": null,
      "outputs": []
    }
  ]
}