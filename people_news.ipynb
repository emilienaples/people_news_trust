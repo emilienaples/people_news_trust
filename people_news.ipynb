{
  "nbformat": 4,
  "nbformat_minor": 0,
  "metadata": {
    "colab": {
      "provenance": [],
      "collapsed_sections": [
        "PF-fIQk4IilE"
      ],
      "authorship_tag": "ABX9TyNkCmhFUKuGd3tPM6OmEO1r",
      "include_colab_link": true
    },
    "kernelspec": {
      "name": "python3",
      "display_name": "Python 3"
    },
    "language_info": {
      "name": "python"
    }
  },
  "cells": [
    {
      "cell_type": "markdown",
      "metadata": {
        "id": "view-in-github",
        "colab_type": "text"
      },
      "source": [
        "<a href=\"https://colab.research.google.com/github/emilienaples/people_news_trust/blob/main/people_news.ipynb\" target=\"_parent\"><img src=\"https://colab.research.google.com/assets/colab-badge.svg\" alt=\"Open In Colab\"/></a>"
      ]
    },
    {
      "cell_type": "markdown",
      "source": [
        "##How many people trust the news? (num_reliable)\n",
        "\n",
        "##How many people agree with the news? (agree)\n"
      ],
      "metadata": {
        "id": "1r_moFo5Tqt_"
      }
    },
    {
      "cell_type": "code",
      "source": [
        "!pip install bioinfokit"
      ],
      "metadata": {
        "id": "PQCEfkLzPz5l",
        "colab": {
          "base_uri": "https://localhost:8080/"
        },
        "outputId": "057b9c30-c48e-4e9e-f521-4a38836d4210"
      },
      "execution_count": null,
      "outputs": [
        {
          "output_type": "stream",
          "name": "stdout",
          "text": [
            "Looking in indexes: https://pypi.org/simple, https://us-python.pkg.dev/colab-wheels/public/simple/\n",
            "Requirement already satisfied: bioinfokit in /usr/local/lib/python3.7/dist-packages (2.1.0)\n",
            "Requirement already satisfied: numpy in /usr/local/lib/python3.7/dist-packages (from bioinfokit) (1.21.6)\n",
            "Requirement already satisfied: seaborn in /usr/local/lib/python3.7/dist-packages (from bioinfokit) (0.11.2)\n",
            "Requirement already satisfied: statsmodels in /usr/local/lib/python3.7/dist-packages (from bioinfokit) (0.12.2)\n",
            "Requirement already satisfied: scipy in /usr/local/lib/python3.7/dist-packages (from bioinfokit) (1.7.3)\n",
            "Requirement already satisfied: scikit-learn in /usr/local/lib/python3.7/dist-packages (from bioinfokit) (1.0.2)\n",
            "Requirement already satisfied: textwrap3 in /usr/local/lib/python3.7/dist-packages (from bioinfokit) (0.9.2)\n",
            "Requirement already satisfied: matplotlib in /usr/local/lib/python3.7/dist-packages (from bioinfokit) (3.2.2)\n",
            "Requirement already satisfied: adjustText in /usr/local/lib/python3.7/dist-packages (from bioinfokit) (0.7.3)\n",
            "Requirement already satisfied: tabulate in /usr/local/lib/python3.7/dist-packages (from bioinfokit) (0.8.10)\n",
            "Requirement already satisfied: matplotlib-venn in /usr/local/lib/python3.7/dist-packages (from bioinfokit) (0.11.7)\n",
            "Requirement already satisfied: pandas in /usr/local/lib/python3.7/dist-packages (from bioinfokit) (1.3.5)\n",
            "Requirement already satisfied: pyparsing!=2.0.4,!=2.1.2,!=2.1.6,>=2.0.1 in /usr/local/lib/python3.7/dist-packages (from matplotlib->bioinfokit) (3.0.9)\n",
            "Requirement already satisfied: kiwisolver>=1.0.1 in /usr/local/lib/python3.7/dist-packages (from matplotlib->bioinfokit) (1.4.4)\n",
            "Requirement already satisfied: cycler>=0.10 in /usr/local/lib/python3.7/dist-packages (from matplotlib->bioinfokit) (0.11.0)\n",
            "Requirement already satisfied: python-dateutil>=2.1 in /usr/local/lib/python3.7/dist-packages (from matplotlib->bioinfokit) (2.8.2)\n",
            "Requirement already satisfied: typing-extensions in /usr/local/lib/python3.7/dist-packages (from kiwisolver>=1.0.1->matplotlib->bioinfokit) (4.1.1)\n",
            "Requirement already satisfied: six>=1.5 in /usr/local/lib/python3.7/dist-packages (from python-dateutil>=2.1->matplotlib->bioinfokit) (1.15.0)\n",
            "Requirement already satisfied: pytz>=2017.3 in /usr/local/lib/python3.7/dist-packages (from pandas->bioinfokit) (2022.5)\n",
            "Requirement already satisfied: joblib>=0.11 in /usr/local/lib/python3.7/dist-packages (from scikit-learn->bioinfokit) (1.2.0)\n",
            "Requirement already satisfied: threadpoolctl>=2.0.0 in /usr/local/lib/python3.7/dist-packages (from scikit-learn->bioinfokit) (3.1.0)\n",
            "Requirement already satisfied: patsy>=0.5 in /usr/local/lib/python3.7/dist-packages (from statsmodels->bioinfokit) (0.5.3)\n"
          ]
        }
      ]
    },
    {
      "cell_type": "code",
      "source": [
        "!pip install association-metrics"
      ],
      "metadata": {
        "id": "Kpp3M81396hZ",
        "colab": {
          "base_uri": "https://localhost:8080/"
        },
        "outputId": "59273cf6-1390-490a-98a9-e5db7d578e8b"
      },
      "execution_count": null,
      "outputs": [
        {
          "output_type": "stream",
          "name": "stdout",
          "text": [
            "Looking in indexes: https://pypi.org/simple, https://us-python.pkg.dev/colab-wheels/public/simple/\n",
            "Requirement already satisfied: association-metrics in /usr/local/lib/python3.7/dist-packages (0.0.1)\n"
          ]
        }
      ]
    },
    {
      "cell_type": "code",
      "execution_count": null,
      "metadata": {
        "id": "UlG1X1HlS9tN"
      },
      "outputs": [],
      "source": [
        "import pandas as pd\n",
        "import numpy as np\n",
        "import matplotlib.pyplot as plt\n",
        "import seaborn as sns\n",
        "import scipy.stats as stats\n",
        "import math\n",
        "from bioinfokit.analys import stat\n",
        "\n",
        "#Makes graph display in notebook\n",
        "%matplotlib inline   \n",
        "\n",
        "#ignore warnings\n",
        "import warnings\n",
        "def ignore_warn(*args, **kwargs):\n",
        "    pass\n",
        "warnings.warn = ignore_warn()"
      ]
    },
    {
      "cell_type": "code",
      "source": [
        "news = pd.read_excel('PeopleNews.xlsx')\n",
        "news.head()"
      ],
      "metadata": {
        "colab": {
          "base_uri": "https://localhost:8080/",
          "height": 206
        },
        "id": "ACAQZzjoTnnY",
        "outputId": "c502b1b9-b796-42c0-ab44-af1d1ce15cb3"
      },
      "execution_count": null,
      "outputs": [
        {
          "output_type": "execute_result",
          "data": {
            "text/plain": [
              "   Age Country       Occupation  Annual Income Trusted Source  num_reliable  \\\n",
              "0   20     USA          Student          10000            CNN             2   \n",
              "1   20     USA          Student          15000       NY Times             3   \n",
              "2   21     USA          Student          10000       NY Times             2   \n",
              "3   25     USA       Accounting          60000           None             0   \n",
              "4   35     USA  Admin Assistant          55000            Fox             2   \n",
              "\n",
              "   agree  \n",
              "0      1  \n",
              "1      3  \n",
              "2      3  \n",
              "3      0  \n",
              "4      1  "
            ],
            "text/html": [
              "\n",
              "  <div id=\"df-3f915ac4-f1a1-4306-8e67-739e4c3730d8\">\n",
              "    <div class=\"colab-df-container\">\n",
              "      <div>\n",
              "<style scoped>\n",
              "    .dataframe tbody tr th:only-of-type {\n",
              "        vertical-align: middle;\n",
              "    }\n",
              "\n",
              "    .dataframe tbody tr th {\n",
              "        vertical-align: top;\n",
              "    }\n",
              "\n",
              "    .dataframe thead th {\n",
              "        text-align: right;\n",
              "    }\n",
              "</style>\n",
              "<table border=\"1\" class=\"dataframe\">\n",
              "  <thead>\n",
              "    <tr style=\"text-align: right;\">\n",
              "      <th></th>\n",
              "      <th>Age</th>\n",
              "      <th>Country</th>\n",
              "      <th>Occupation</th>\n",
              "      <th>Annual Income</th>\n",
              "      <th>Trusted Source</th>\n",
              "      <th>num_reliable</th>\n",
              "      <th>agree</th>\n",
              "    </tr>\n",
              "  </thead>\n",
              "  <tbody>\n",
              "    <tr>\n",
              "      <th>0</th>\n",
              "      <td>20</td>\n",
              "      <td>USA</td>\n",
              "      <td>Student</td>\n",
              "      <td>10000</td>\n",
              "      <td>CNN</td>\n",
              "      <td>2</td>\n",
              "      <td>1</td>\n",
              "    </tr>\n",
              "    <tr>\n",
              "      <th>1</th>\n",
              "      <td>20</td>\n",
              "      <td>USA</td>\n",
              "      <td>Student</td>\n",
              "      <td>15000</td>\n",
              "      <td>NY Times</td>\n",
              "      <td>3</td>\n",
              "      <td>3</td>\n",
              "    </tr>\n",
              "    <tr>\n",
              "      <th>2</th>\n",
              "      <td>21</td>\n",
              "      <td>USA</td>\n",
              "      <td>Student</td>\n",
              "      <td>10000</td>\n",
              "      <td>NY Times</td>\n",
              "      <td>2</td>\n",
              "      <td>3</td>\n",
              "    </tr>\n",
              "    <tr>\n",
              "      <th>3</th>\n",
              "      <td>25</td>\n",
              "      <td>USA</td>\n",
              "      <td>Accounting</td>\n",
              "      <td>60000</td>\n",
              "      <td>None</td>\n",
              "      <td>0</td>\n",
              "      <td>0</td>\n",
              "    </tr>\n",
              "    <tr>\n",
              "      <th>4</th>\n",
              "      <td>35</td>\n",
              "      <td>USA</td>\n",
              "      <td>Admin Assistant</td>\n",
              "      <td>55000</td>\n",
              "      <td>Fox</td>\n",
              "      <td>2</td>\n",
              "      <td>1</td>\n",
              "    </tr>\n",
              "  </tbody>\n",
              "</table>\n",
              "</div>\n",
              "      <button class=\"colab-df-convert\" onclick=\"convertToInteractive('df-3f915ac4-f1a1-4306-8e67-739e4c3730d8')\"\n",
              "              title=\"Convert this dataframe to an interactive table.\"\n",
              "              style=\"display:none;\">\n",
              "        \n",
              "  <svg xmlns=\"http://www.w3.org/2000/svg\" height=\"24px\"viewBox=\"0 0 24 24\"\n",
              "       width=\"24px\">\n",
              "    <path d=\"M0 0h24v24H0V0z\" fill=\"none\"/>\n",
              "    <path d=\"M18.56 5.44l.94 2.06.94-2.06 2.06-.94-2.06-.94-.94-2.06-.94 2.06-2.06.94zm-11 1L8.5 8.5l.94-2.06 2.06-.94-2.06-.94L8.5 2.5l-.94 2.06-2.06.94zm10 10l.94 2.06.94-2.06 2.06-.94-2.06-.94-.94-2.06-.94 2.06-2.06.94z\"/><path d=\"M17.41 7.96l-1.37-1.37c-.4-.4-.92-.59-1.43-.59-.52 0-1.04.2-1.43.59L10.3 9.45l-7.72 7.72c-.78.78-.78 2.05 0 2.83L4 21.41c.39.39.9.59 1.41.59.51 0 1.02-.2 1.41-.59l7.78-7.78 2.81-2.81c.8-.78.8-2.07 0-2.86zM5.41 20L4 18.59l7.72-7.72 1.47 1.35L5.41 20z\"/>\n",
              "  </svg>\n",
              "      </button>\n",
              "      \n",
              "  <style>\n",
              "    .colab-df-container {\n",
              "      display:flex;\n",
              "      flex-wrap:wrap;\n",
              "      gap: 12px;\n",
              "    }\n",
              "\n",
              "    .colab-df-convert {\n",
              "      background-color: #E8F0FE;\n",
              "      border: none;\n",
              "      border-radius: 50%;\n",
              "      cursor: pointer;\n",
              "      display: none;\n",
              "      fill: #1967D2;\n",
              "      height: 32px;\n",
              "      padding: 0 0 0 0;\n",
              "      width: 32px;\n",
              "    }\n",
              "\n",
              "    .colab-df-convert:hover {\n",
              "      background-color: #E2EBFA;\n",
              "      box-shadow: 0px 1px 2px rgba(60, 64, 67, 0.3), 0px 1px 3px 1px rgba(60, 64, 67, 0.15);\n",
              "      fill: #174EA6;\n",
              "    }\n",
              "\n",
              "    [theme=dark] .colab-df-convert {\n",
              "      background-color: #3B4455;\n",
              "      fill: #D2E3FC;\n",
              "    }\n",
              "\n",
              "    [theme=dark] .colab-df-convert:hover {\n",
              "      background-color: #434B5C;\n",
              "      box-shadow: 0px 1px 3px 1px rgba(0, 0, 0, 0.15);\n",
              "      filter: drop-shadow(0px 1px 2px rgba(0, 0, 0, 0.3));\n",
              "      fill: #FFFFFF;\n",
              "    }\n",
              "  </style>\n",
              "\n",
              "      <script>\n",
              "        const buttonEl =\n",
              "          document.querySelector('#df-3f915ac4-f1a1-4306-8e67-739e4c3730d8 button.colab-df-convert');\n",
              "        buttonEl.style.display =\n",
              "          google.colab.kernel.accessAllowed ? 'block' : 'none';\n",
              "\n",
              "        async function convertToInteractive(key) {\n",
              "          const element = document.querySelector('#df-3f915ac4-f1a1-4306-8e67-739e4c3730d8');\n",
              "          const dataTable =\n",
              "            await google.colab.kernel.invokeFunction('convertToInteractive',\n",
              "                                                     [key], {});\n",
              "          if (!dataTable) return;\n",
              "\n",
              "          const docLinkHtml = 'Like what you see? Visit the ' +\n",
              "            '<a target=\"_blank\" href=https://colab.research.google.com/notebooks/data_table.ipynb>data table notebook</a>'\n",
              "            + ' to learn more about interactive tables.';\n",
              "          element.innerHTML = '';\n",
              "          dataTable['output_type'] = 'display_data';\n",
              "          await google.colab.output.renderOutput(dataTable, element);\n",
              "          const docLink = document.createElement('div');\n",
              "          docLink.innerHTML = docLinkHtml;\n",
              "          element.appendChild(docLink);\n",
              "        }\n",
              "      </script>\n",
              "    </div>\n",
              "  </div>\n",
              "  "
            ]
          },
          "metadata": {},
          "execution_count": 4
        }
      ]
    },
    {
      "cell_type": "code",
      "source": [
        "news.shape"
      ],
      "metadata": {
        "colab": {
          "base_uri": "https://localhost:8080/"
        },
        "id": "CidVWqaUTnzY",
        "outputId": "b6c4cb2d-57a9-4181-99c3-805e1693e75c"
      },
      "execution_count": null,
      "outputs": [
        {
          "output_type": "execute_result",
          "data": {
            "text/plain": [
              "(87, 7)"
            ]
          },
          "metadata": {},
          "execution_count": 5
        }
      ]
    },
    {
      "cell_type": "code",
      "source": [
        "news.describe().round(3)"
      ],
      "metadata": {
        "colab": {
          "base_uri": "https://localhost:8080/",
          "height": 300
        },
        "id": "Y_X5EmBfTPUY",
        "outputId": "e27ab686-1c1e-4e17-88cd-3f2b3dfc2a26"
      },
      "execution_count": null,
      "outputs": [
        {
          "output_type": "execute_result",
          "data": {
            "text/plain": [
              "          Age  Annual Income  num_reliable   agree\n",
              "count  87.000         87.000        87.000  87.000\n",
              "mean   31.241      44965.517         1.851   1.793\n",
              "std    15.732      31099.782         1.244   1.183\n",
              "min    20.000       4000.000         0.000   0.000\n",
              "25%    21.000      10000.000         1.000   1.000\n",
              "50%    25.000      50000.000         2.000   2.000\n",
              "75%    33.000      60000.000         3.000   3.000\n",
              "max    79.000     129000.000         4.000   4.000"
            ],
            "text/html": [
              "\n",
              "  <div id=\"df-5b090fe5-5d4f-4475-8c5b-fa88f1b5062a\">\n",
              "    <div class=\"colab-df-container\">\n",
              "      <div>\n",
              "<style scoped>\n",
              "    .dataframe tbody tr th:only-of-type {\n",
              "        vertical-align: middle;\n",
              "    }\n",
              "\n",
              "    .dataframe tbody tr th {\n",
              "        vertical-align: top;\n",
              "    }\n",
              "\n",
              "    .dataframe thead th {\n",
              "        text-align: right;\n",
              "    }\n",
              "</style>\n",
              "<table border=\"1\" class=\"dataframe\">\n",
              "  <thead>\n",
              "    <tr style=\"text-align: right;\">\n",
              "      <th></th>\n",
              "      <th>Age</th>\n",
              "      <th>Annual Income</th>\n",
              "      <th>num_reliable</th>\n",
              "      <th>agree</th>\n",
              "    </tr>\n",
              "  </thead>\n",
              "  <tbody>\n",
              "    <tr>\n",
              "      <th>count</th>\n",
              "      <td>87.000</td>\n",
              "      <td>87.000</td>\n",
              "      <td>87.000</td>\n",
              "      <td>87.000</td>\n",
              "    </tr>\n",
              "    <tr>\n",
              "      <th>mean</th>\n",
              "      <td>31.241</td>\n",
              "      <td>44965.517</td>\n",
              "      <td>1.851</td>\n",
              "      <td>1.793</td>\n",
              "    </tr>\n",
              "    <tr>\n",
              "      <th>std</th>\n",
              "      <td>15.732</td>\n",
              "      <td>31099.782</td>\n",
              "      <td>1.244</td>\n",
              "      <td>1.183</td>\n",
              "    </tr>\n",
              "    <tr>\n",
              "      <th>min</th>\n",
              "      <td>20.000</td>\n",
              "      <td>4000.000</td>\n",
              "      <td>0.000</td>\n",
              "      <td>0.000</td>\n",
              "    </tr>\n",
              "    <tr>\n",
              "      <th>25%</th>\n",
              "      <td>21.000</td>\n",
              "      <td>10000.000</td>\n",
              "      <td>1.000</td>\n",
              "      <td>1.000</td>\n",
              "    </tr>\n",
              "    <tr>\n",
              "      <th>50%</th>\n",
              "      <td>25.000</td>\n",
              "      <td>50000.000</td>\n",
              "      <td>2.000</td>\n",
              "      <td>2.000</td>\n",
              "    </tr>\n",
              "    <tr>\n",
              "      <th>75%</th>\n",
              "      <td>33.000</td>\n",
              "      <td>60000.000</td>\n",
              "      <td>3.000</td>\n",
              "      <td>3.000</td>\n",
              "    </tr>\n",
              "    <tr>\n",
              "      <th>max</th>\n",
              "      <td>79.000</td>\n",
              "      <td>129000.000</td>\n",
              "      <td>4.000</td>\n",
              "      <td>4.000</td>\n",
              "    </tr>\n",
              "  </tbody>\n",
              "</table>\n",
              "</div>\n",
              "      <button class=\"colab-df-convert\" onclick=\"convertToInteractive('df-5b090fe5-5d4f-4475-8c5b-fa88f1b5062a')\"\n",
              "              title=\"Convert this dataframe to an interactive table.\"\n",
              "              style=\"display:none;\">\n",
              "        \n",
              "  <svg xmlns=\"http://www.w3.org/2000/svg\" height=\"24px\"viewBox=\"0 0 24 24\"\n",
              "       width=\"24px\">\n",
              "    <path d=\"M0 0h24v24H0V0z\" fill=\"none\"/>\n",
              "    <path d=\"M18.56 5.44l.94 2.06.94-2.06 2.06-.94-2.06-.94-.94-2.06-.94 2.06-2.06.94zm-11 1L8.5 8.5l.94-2.06 2.06-.94-2.06-.94L8.5 2.5l-.94 2.06-2.06.94zm10 10l.94 2.06.94-2.06 2.06-.94-2.06-.94-.94-2.06-.94 2.06-2.06.94z\"/><path d=\"M17.41 7.96l-1.37-1.37c-.4-.4-.92-.59-1.43-.59-.52 0-1.04.2-1.43.59L10.3 9.45l-7.72 7.72c-.78.78-.78 2.05 0 2.83L4 21.41c.39.39.9.59 1.41.59.51 0 1.02-.2 1.41-.59l7.78-7.78 2.81-2.81c.8-.78.8-2.07 0-2.86zM5.41 20L4 18.59l7.72-7.72 1.47 1.35L5.41 20z\"/>\n",
              "  </svg>\n",
              "      </button>\n",
              "      \n",
              "  <style>\n",
              "    .colab-df-container {\n",
              "      display:flex;\n",
              "      flex-wrap:wrap;\n",
              "      gap: 12px;\n",
              "    }\n",
              "\n",
              "    .colab-df-convert {\n",
              "      background-color: #E8F0FE;\n",
              "      border: none;\n",
              "      border-radius: 50%;\n",
              "      cursor: pointer;\n",
              "      display: none;\n",
              "      fill: #1967D2;\n",
              "      height: 32px;\n",
              "      padding: 0 0 0 0;\n",
              "      width: 32px;\n",
              "    }\n",
              "\n",
              "    .colab-df-convert:hover {\n",
              "      background-color: #E2EBFA;\n",
              "      box-shadow: 0px 1px 2px rgba(60, 64, 67, 0.3), 0px 1px 3px 1px rgba(60, 64, 67, 0.15);\n",
              "      fill: #174EA6;\n",
              "    }\n",
              "\n",
              "    [theme=dark] .colab-df-convert {\n",
              "      background-color: #3B4455;\n",
              "      fill: #D2E3FC;\n",
              "    }\n",
              "\n",
              "    [theme=dark] .colab-df-convert:hover {\n",
              "      background-color: #434B5C;\n",
              "      box-shadow: 0px 1px 3px 1px rgba(0, 0, 0, 0.15);\n",
              "      filter: drop-shadow(0px 1px 2px rgba(0, 0, 0, 0.3));\n",
              "      fill: #FFFFFF;\n",
              "    }\n",
              "  </style>\n",
              "\n",
              "      <script>\n",
              "        const buttonEl =\n",
              "          document.querySelector('#df-5b090fe5-5d4f-4475-8c5b-fa88f1b5062a button.colab-df-convert');\n",
              "        buttonEl.style.display =\n",
              "          google.colab.kernel.accessAllowed ? 'block' : 'none';\n",
              "\n",
              "        async function convertToInteractive(key) {\n",
              "          const element = document.querySelector('#df-5b090fe5-5d4f-4475-8c5b-fa88f1b5062a');\n",
              "          const dataTable =\n",
              "            await google.colab.kernel.invokeFunction('convertToInteractive',\n",
              "                                                     [key], {});\n",
              "          if (!dataTable) return;\n",
              "\n",
              "          const docLinkHtml = 'Like what you see? Visit the ' +\n",
              "            '<a target=\"_blank\" href=https://colab.research.google.com/notebooks/data_table.ipynb>data table notebook</a>'\n",
              "            + ' to learn more about interactive tables.';\n",
              "          element.innerHTML = '';\n",
              "          dataTable['output_type'] = 'display_data';\n",
              "          await google.colab.output.renderOutput(dataTable, element);\n",
              "          const docLink = document.createElement('div');\n",
              "          docLink.innerHTML = docLinkHtml;\n",
              "          element.appendChild(docLink);\n",
              "        }\n",
              "      </script>\n",
              "    </div>\n",
              "  </div>\n",
              "  "
            ]
          },
          "metadata": {},
          "execution_count": 6
        }
      ]
    },
    {
      "cell_type": "code",
      "source": [
        "news.dtypes"
      ],
      "metadata": {
        "colab": {
          "base_uri": "https://localhost:8080/"
        },
        "id": "9CQRR2bbbbMg",
        "outputId": "3b220a02-112a-4764-ef45-ed99fff357d9"
      },
      "execution_count": null,
      "outputs": [
        {
          "output_type": "execute_result",
          "data": {
            "text/plain": [
              "Age                int64\n",
              "Country           object\n",
              "Occupation        object\n",
              "Annual Income      int64\n",
              "Trusted Source    object\n",
              "num_reliable       int64\n",
              "agree              int64\n",
              "dtype: object"
            ]
          },
          "metadata": {},
          "execution_count": 7
        }
      ]
    },
    {
      "cell_type": "code",
      "source": [
        "# age = continous both nominal & ordinal\n",
        "# country = discrete nominal\n",
        "# Occupation = discrete\n",
        "# Trusted Source = discrete\n",
        "# Annual Income = continous\n",
        "# num_reliable = discrete\n",
        "# agree = discrete"
      ],
      "metadata": {
        "id": "5DujJVEtMPd_"
      },
      "execution_count": null,
      "outputs": []
    },
    {
      "cell_type": "code",
      "source": [
        "cat_cols = ['Occupation', 'Trusted Source',  'num_reliable', 'agree']\n",
        "num_cols = ['Age', 'Annual Income']"
      ],
      "metadata": {
        "id": "GBwI-5wCbs_w"
      },
      "execution_count": null,
      "outputs": []
    },
    {
      "cell_type": "markdown",
      "source": [
        "Discrete variables should be shown in barplots rather than histograms, scatterplots are only reasonable betwen pair of continuous variables rather than discrete, boxplots should be used to compare a conntinuous variable vs discretre or categorical.\n",
        "\n"
      ],
      "metadata": {
        "id": "O1dPgG5Ix1rt"
      }
    },
    {
      "cell_type": "markdown",
      "source": [
        "## Data Visualization"
      ],
      "metadata": {
        "id": "4WUgSwjBQLLl"
      }
    },
    {
      "cell_type": "markdown",
      "source": [
        "BAR PLOT FOR CATEGORICAL COLUMNS"
      ],
      "metadata": {
        "id": "v-RXkVoaAuN5"
      }
    },
    {
      "cell_type": "code",
      "source": [
        "# include comments"
      ],
      "metadata": {
        "id": "kYm7BmF-r2xX"
      },
      "execution_count": null,
      "outputs": []
    },
    {
      "cell_type": "code",
      "source": [
        "for col in cat_cols:\n",
        "    fig = plt.figure(figsize=(6,4)) # define plot area\n",
        "    ax = fig.gca() # define axis  \n",
        "    \n",
        "    counts = news[col].value_counts() # find the counts for each unique category\n",
        "    counts.plot.bar(ax = ax) # Use the plot.bar method on the counts data frame\n",
        "    ax.set_title('Bar plot for ' + col)\n",
        "    plt.xticks(rotation=45)"
      ],
      "metadata": {
        "colab": {
          "base_uri": "https://localhost:8080/",
          "height": 1000
        },
        "id": "nAx37yFrcEOp",
        "outputId": "b913bdde-1b9e-49a2-96f8-4341c2341f32"
      },
      "execution_count": null,
      "outputs": [
        {
          "output_type": "display_data",
          "data": {
            "text/plain": [
              "<Figure size 432x288 with 1 Axes>"
            ],
            "image/png": "[encoded data removed]"
          },
          "metadata": {
            "needs_background": "light"
          }
        },
        {
          "output_type": "display_data",
          "data": {
            "text/plain": [
              "<Figure size 432x288 with 1 Axes>"
            ],
            "image/png": "[encoded data removed]"
          },
          "metadata": {
            "needs_background": "light"
          }
        },
        {
          "output_type": "display_data",
          "data": {
            "text/plain": [
              "<Figure size 432x288 with 1 Axes>"
            ],
            "image/png": "[encoded data removed]"
          },
          "metadata": {
            "needs_background": "light"
          }
        },
        {
          "output_type": "display_data",
          "data": {
            "text/plain": [
              "<Figure size 432x288 with 1 Axes>"
            ],
            "image/png": "[encoded data removed]"
          },
          "metadata": {
            "needs_background": "light"
          }
        }
      ]
    },
    {
      "cell_type": "markdown",
      "source": [
        "#Scatter Plot for Numerical Features"
      ],
      "metadata": {
        "id": "USTL99jRdtnF"
      }
    },
    {
      "cell_type": "markdown",
      "source": [
        "(Annual Income and Age)"
      ],
      "metadata": {
        "id": "7ZHMpqKK5vdj"
      }
    },
    {
      "cell_type": "code",
      "source": [
        "fig = plt.figure(figsize=(4,4)) # define plot area\n",
        "ax = fig.gca() # define axis  \n",
        "news.plot.scatter(x = 'Age', y = 'Annual Income', ax = ax)"
      ],
      "metadata": {
        "colab": {
          "base_uri": "https://localhost:8080/",
          "height": 296
        },
        "id": "4q0zAFUZ7XUR",
        "outputId": "4881ff68-e4c4-470e-94a6-dc5ada1dd30f"
      },
      "execution_count": null,
      "outputs": [
        {
          "output_type": "execute_result",
          "data": {
            "text/plain": [
              "<matplotlib.axes._subplots.AxesSubplot at 0x7f203e04db50>"
            ]
          },
          "metadata": {},
          "execution_count": 12
        },
        {
          "output_type": "display_data",
          "data": {
            "text/plain": [
              "<Figure size 288x288 with 1 Axes>"
            ],
            "image/png": "[encoded data removed]"
          },
          "metadata": {
            "needs_background": "light"
          }
        }
      ]
    },
    {
      "cell_type": "markdown",
      "source": [
        "LOG(Annual Income and Age)"
      ],
      "metadata": {
        "id": "IF8pe-0cOn7r"
      }
    },
    {
      "cell_type": "code",
      "source": [
        "x = np.log(news['Age'], dtype='float64')\n",
        "y = np.log(news['Annual Income'], dtype='float64')\n",
        "fig = plt.figure(figsize=(4,4)) # define plot area \n",
        "plt.scatter(x=x, y=y)"
      ],
      "metadata": {
        "colab": {
          "base_uri": "https://localhost:8080/",
          "height": 282
        },
        "id": "X4bTj72fNKto",
        "outputId": "d5acfdfd-c174-4bd1-89d4-28b6b15c0770"
      },
      "execution_count": null,
      "outputs": [
        {
          "output_type": "execute_result",
          "data": {
            "text/plain": [
              "<matplotlib.collections.PathCollection at 0x7f203db55790>"
            ]
          },
          "metadata": {},
          "execution_count": 13
        },
        {
          "output_type": "display_data",
          "data": {
            "text/plain": [
              "<Figure size 288x288 with 1 Axes>"
            ],
            "image/png": "[encoded data removed]"
          },
          "metadata": {
            "needs_background": "light"
          }
        }
      ]
    },
    {
      "cell_type": "markdown",
      "source": [
        "## Pearson Corrleation Tests"
      ],
      "metadata": {
        "id": "1NnsJgF1Oube"
      }
    },
    {
      "cell_type": "markdown",
      "source": [
        "(Annual Income and Age)"
      ],
      "metadata": {
        "id": "OmUbZC5lPM96"
      }
    },
    {
      "cell_type": "code",
      "source": [
        "from scipy.stats import pearsonr\n",
        "x = news['Age']\n",
        "y = news['Annual Income']\n",
        "\n",
        "corr, _ = pearsonr(x,y)\n",
        "print('Pearsons correlation: %.3f' % corr)"
      ],
      "metadata": {
        "colab": {
          "base_uri": "https://localhost:8080/"
        },
        "id": "q0P3pUu2O1L0",
        "outputId": "a70d1d34-0a7b-420e-a085-27d16cf9330b"
      },
      "execution_count": null,
      "outputs": [
        {
          "output_type": "stream",
          "name": "stdout",
          "text": [
            "Pearsons correlation: 0.601\n"
          ]
        }
      ]
    },
    {
      "cell_type": "markdown",
      "source": [
        "LOG(Annual Income and Age)"
      ],
      "metadata": {
        "id": "vfxliSwSPN7w"
      }
    },
    {
      "cell_type": "code",
      "source": [
        "from scipy.stats import pearsonr\n",
        "x = np.log(news['Age'], dtype='float64')\n",
        "y = np.log(news['Annual Income'], dtype='float64')\n",
        "\n",
        "corr, _ = pearsonr(x,y)\n",
        "print('Pearsons correlation: %.3f' % corr)"
      ],
      "metadata": {
        "colab": {
          "base_uri": "https://localhost:8080/"
        },
        "id": "wpm6FCD7PQP0",
        "outputId": "e7763417-5ffb-4069-dc56-60acaf09a734"
      },
      "execution_count": null,
      "outputs": [
        {
          "output_type": "stream",
          "name": "stdout",
          "text": [
            "Pearsons correlation: 0.611\n"
          ]
        }
      ]
    },
    {
      "cell_type": "markdown",
      "source": [
        "## Conlusion: Both are moderately correlated"
      ],
      "metadata": {
        "id": "utsPSwrtP9Ly"
      }
    },
    {
      "cell_type": "markdown",
      "source": [
        "## BOX PLOTS OF CATEGORICAL COLUMNS AGAINST CONTINOUS VARIABLE AGE:"
      ],
      "metadata": {
        "id": "2Vs3ndLheAtR"
      }
    },
    {
      "cell_type": "code",
      "source": [
        "# some comments\n",
        "# which types of jobs for younger people vs. older"
      ],
      "metadata": {
        "id": "qSxZpSNJs5H8"
      },
      "execution_count": null,
      "outputs": []
    },
    {
      "cell_type": "code",
      "source": [
        "for col in cat_cols:\n",
        "  sns.boxplot(x=news[col], y='Age', data=news)\n",
        "  plt.xlabel(col) # Set text for the x axis\n",
        "  plt.xticks(rotation=45)\n",
        "  plt.ylabel('Age')# Set text for y axis\n",
        "  plt.show()"
      ],
      "metadata": {
        "colab": {
          "base_uri": "https://localhost:8080/",
          "height": 1000
        },
        "id": "P3qIMG338C4x",
        "outputId": "52766fb7-8f03-4b05-cc6f-8e2f26ec06c1"
      },
      "execution_count": null,
      "outputs": [
        {
          "output_type": "display_data",
          "data": {
            "text/plain": [
              "<Figure size 432x288 with 1 Axes>"
            ],
            "image/png": "[encoded data removed]"
          },
          "metadata": {
            "needs_background": "light"
          }
        },
        {
          "output_type": "display_data",
          "data": {
            "text/plain": [
              "<Figure size 432x288 with 1 Axes>"
            ],
            "image/png": "[encoded data removed]"
          },
          "metadata": {
            "needs_background": "light"
          }
        },
        {
          "output_type": "display_data",
          "data": {
            "text/plain": [
              "<Figure size 432x288 with 1 Axes>"
            ],
            "image/png": "[encoded data removed]"
          },
          "metadata": {
            "needs_background": "light"
          }
        },
        {
          "output_type": "display_data",
          "data": {
            "text/plain": [
              "<Figure size 432x288 with 1 Axes>"
            ],
            "image/png": "[encoded data removed]"
          },
          "metadata": {
            "needs_background": "light"
          }
        }
      ]
    },
    {
      "cell_type": "markdown",
      "source": [
        "## BOX PLOTS OF CATEGORICAL COLUMNS AGAINST CONTINOUS VARIABLE ANNUAL INCOME:"
      ],
      "metadata": {
        "id": "BEjtFUUZ8thx"
      }
    },
    {
      "cell_type": "code",
      "source": [
        "for col in cat_cols:\n",
        "  sns.boxplot(x=news[col], y='Annual Income', data=news)\n",
        "  plt.xlabel(col) # Set text for the x axis\n",
        "  plt.xticks(rotation=45)\n",
        "  plt.ylabel('Annual Income')# Set text for y axis\n",
        "  plt.show()"
      ],
      "metadata": {
        "colab": {
          "base_uri": "https://localhost:8080/",
          "height": 1000
        },
        "id": "wpbrFaKJd43L",
        "outputId": "b54459ce-5109-488e-d02f-0e7e9024d18d"
      },
      "execution_count": null,
      "outputs": [
        {
          "output_type": "display_data",
          "data": {
            "text/plain": [
              "<Figure size 432x288 with 1 Axes>"
            ],
            "image/png": "[encoded data removed]"
          },
          "metadata": {
            "needs_background": "light"
          }
        },
        {
          "output_type": "display_data",
          "data": {
            "text/plain": [
              "<Figure size 432x288 with 1 Axes>"
            ],
            "image/png": "[encoded data removed]"
          },
          "metadata": {
            "needs_background": "light"
          }
        },
        {
          "output_type": "display_data",
          "data": {
            "text/plain": [
              "<Figure size 432x288 with 1 Axes>"
            ],
            "image/png": "[encoded data removed]"
          },
          "metadata": {
            "needs_background": "light"
          }
        },
        {
          "output_type": "display_data",
          "data": {
            "text/plain": [
              "<Figure size 432x288 with 1 Axes>"
            ],
            "image/png": "[encoded data removed]"
          },
          "metadata": {
            "needs_background": "light"
          }
        }
      ]
    },
    {
      "cell_type": "markdown",
      "source": [
        "## Transforming Skewed Features"
      ],
      "metadata": {
        "id": "pl8ZDTLUD1-s"
      }
    },
    {
      "cell_type": "markdown",
      "source": [
        "## Skewness for numerical features:"
      ],
      "metadata": {
        "id": "Hl261_87QuJK"
      }
    },
    {
      "cell_type": "code",
      "source": [
        "num_feats = news.dtypes[news.dtypes != 'object'].index\n",
        "skew_feats=news[num_feats].skew().sort_values(ascending=False)\n",
        "skewness=pd.DataFrame({'Skew': skew_feats})\n",
        "\n",
        "skewness"
      ],
      "metadata": {
        "colab": {
          "base_uri": "https://localhost:8080/",
          "height": 175
        },
        "id": "J6RwLl80XDWc",
        "outputId": "ebd1c0ac-5b66-4e8c-e827-85957a08f7f5"
      },
      "execution_count": null,
      "outputs": [
        {
          "output_type": "execute_result",
          "data": {
            "text/plain": [
              "                   Skew\n",
              "Age            1.847848\n",
              "Annual Income  0.545060\n",
              "num_reliable  -0.043681\n",
              "agree         -0.061708"
            ],
            "text/html": [
              "\n",
              "  <div id=\"df-ec325691-2e9b-43aa-a999-39c189efd8d3\">\n",
              "    <div class=\"colab-df-container\">\n",
              "      <div>\n",
              "<style scoped>\n",
              "    .dataframe tbody tr th:only-of-type {\n",
              "        vertical-align: middle;\n",
              "    }\n",
              "\n",
              "    .dataframe tbody tr th {\n",
              "        vertical-align: top;\n",
              "    }\n",
              "\n",
              "    .dataframe thead th {\n",
              "        text-align: right;\n",
              "    }\n",
              "</style>\n",
              "<table border=\"1\" class=\"dataframe\">\n",
              "  <thead>\n",
              "    <tr style=\"text-align: right;\">\n",
              "      <th></th>\n",
              "      <th>Skew</th>\n",
              "    </tr>\n",
              "  </thead>\n",
              "  <tbody>\n",
              "    <tr>\n",
              "      <th>Age</th>\n",
              "      <td>1.847848</td>\n",
              "    </tr>\n",
              "    <tr>\n",
              "      <th>Annual Income</th>\n",
              "      <td>0.545060</td>\n",
              "    </tr>\n",
              "    <tr>\n",
              "      <th>num_reliable</th>\n",
              "      <td>-0.043681</td>\n",
              "    </tr>\n",
              "    <tr>\n",
              "      <th>agree</th>\n",
              "      <td>-0.061708</td>\n",
              "    </tr>\n",
              "  </tbody>\n",
              "</table>\n",
              "</div>\n",
              "      <button class=\"colab-df-convert\" onclick=\"convertToInteractive('df-ec325691-2e9b-43aa-a999-39c189efd8d3')\"\n",
              "              title=\"Convert this dataframe to an interactive table.\"\n",
              "              style=\"display:none;\">\n",
              "        \n",
              "  <svg xmlns=\"http://www.w3.org/2000/svg\" height=\"24px\"viewBox=\"0 0 24 24\"\n",
              "       width=\"24px\">\n",
              "    <path d=\"M0 0h24v24H0V0z\" fill=\"none\"/>\n",
              "    <path d=\"M18.56 5.44l.94 2.06.94-2.06 2.06-.94-2.06-.94-.94-2.06-.94 2.06-2.06.94zm-11 1L8.5 8.5l.94-2.06 2.06-.94-2.06-.94L8.5 2.5l-.94 2.06-2.06.94zm10 10l.94 2.06.94-2.06 2.06-.94-2.06-.94-.94-2.06-.94 2.06-2.06.94z\"/><path d=\"M17.41 7.96l-1.37-1.37c-.4-.4-.92-.59-1.43-.59-.52 0-1.04.2-1.43.59L10.3 9.45l-7.72 7.72c-.78.78-.78 2.05 0 2.83L4 21.41c.39.39.9.59 1.41.59.51 0 1.02-.2 1.41-.59l7.78-7.78 2.81-2.81c.8-.78.8-2.07 0-2.86zM5.41 20L4 18.59l7.72-7.72 1.47 1.35L5.41 20z\"/>\n",
              "  </svg>\n",
              "      </button>\n",
              "      \n",
              "  <style>\n",
              "    .colab-df-container {\n",
              "      display:flex;\n",
              "      flex-wrap:wrap;\n",
              "      gap: 12px;\n",
              "    }\n",
              "\n",
              "    .colab-df-convert {\n",
              "      background-color: #E8F0FE;\n",
              "      border: none;\n",
              "      border-radius: 50%;\n",
              "      cursor: pointer;\n",
              "      display: none;\n",
              "      fill: #1967D2;\n",
              "      height: 32px;\n",
              "      padding: 0 0 0 0;\n",
              "      width: 32px;\n",
              "    }\n",
              "\n",
              "    .colab-df-convert:hover {\n",
              "      background-color: #E2EBFA;\n",
              "      box-shadow: 0px 1px 2px rgba(60, 64, 67, 0.3), 0px 1px 3px 1px rgba(60, 64, 67, 0.15);\n",
              "      fill: #174EA6;\n",
              "    }\n",
              "\n",
              "    [theme=dark] .colab-df-convert {\n",
              "      background-color: #3B4455;\n",
              "      fill: #D2E3FC;\n",
              "    }\n",
              "\n",
              "    [theme=dark] .colab-df-convert:hover {\n",
              "      background-color: #434B5C;\n",
              "      box-shadow: 0px 1px 3px 1px rgba(0, 0, 0, 0.15);\n",
              "      filter: drop-shadow(0px 1px 2px rgba(0, 0, 0, 0.3));\n",
              "      fill: #FFFFFF;\n",
              "    }\n",
              "  </style>\n",
              "\n",
              "      <script>\n",
              "        const buttonEl =\n",
              "          document.querySelector('#df-ec325691-2e9b-43aa-a999-39c189efd8d3 button.colab-df-convert');\n",
              "        buttonEl.style.display =\n",
              "          google.colab.kernel.accessAllowed ? 'block' : 'none';\n",
              "\n",
              "        async function convertToInteractive(key) {\n",
              "          const element = document.querySelector('#df-ec325691-2e9b-43aa-a999-39c189efd8d3');\n",
              "          const dataTable =\n",
              "            await google.colab.kernel.invokeFunction('convertToInteractive',\n",
              "                                                     [key], {});\n",
              "          if (!dataTable) return;\n",
              "\n",
              "          const docLinkHtml = 'Like what you see? Visit the ' +\n",
              "            '<a target=\"_blank\" href=https://colab.research.google.com/notebooks/data_table.ipynb>data table notebook</a>'\n",
              "            + ' to learn more about interactive tables.';\n",
              "          element.innerHTML = '';\n",
              "          dataTable['output_type'] = 'display_data';\n",
              "          await google.colab.output.renderOutput(dataTable, element);\n",
              "          const docLink = document.createElement('div');\n",
              "          docLink.innerHTML = docLinkHtml;\n",
              "          element.appendChild(docLink);\n",
              "        }\n",
              "      </script>\n",
              "    </div>\n",
              "  </div>\n",
              "  "
            ]
          },
          "metadata": {},
          "execution_count": 19
        }
      ]
    },
    {
      "cell_type": "markdown",
      "source": [
        "We see that Age is very right skewed. There are also two populations for Occupation, 'Student' and 'Other'.\n",
        "  \n",
        "  \n",
        "\n",
        "Annual Income has gaps in the distribution. So for Annual Income there are also several populations.  "
      ],
      "metadata": {
        "id": "44jdtSlKQCgn"
      }
    },
    {
      "cell_type": "markdown",
      "source": [
        "## Annual Income\n",
        "\n"
      ],
      "metadata": {
        "id": "vdQvZ63FUeTZ"
      }
    },
    {
      "cell_type": "markdown",
      "source": [
        "Make Groups -- Mean Income by Job"
      ],
      "metadata": {
        "id": "7hOZEriU6Qf8"
      }
    },
    {
      "cell_type": "code",
      "source": [
        "mean_income_by_job = news.groupby('Occupation').agg({'Annual Income':'mean'}).round(2)\n",
        "mean_income_by_job = mean_income_by_job.sort_values(by='Annual Income', ascending=False).reset_index()\n",
        "mean_income_by_job"
      ],
      "metadata": {
        "colab": {
          "base_uri": "https://localhost:8080/",
          "height": 614
        },
        "id": "aekR2d9Yx8bp",
        "outputId": "d08a31e3-5fad-4265-a993-76dc099b5996"
      },
      "execution_count": null,
      "outputs": [
        {
          "output_type": "execute_result",
          "data": {
            "text/plain": [
              "          Occupation  Annual Income\n",
              "0             Lawyer      124000.00\n",
              "1             Doctor      123000.00\n",
              "2        Real Estate       80000.00\n",
              "3      Web Developer       73500.00\n",
              "4   Hotel Management       70000.00\n",
              "5          Education       69000.00\n",
              "6            Medical       67500.00\n",
              "7         Accounting       62400.00\n",
              "8            Finance       59700.00\n",
              "9    Admin Assistant       58333.33\n",
              "10           Laborer       55000.00\n",
              "11         Marketing       52500.00\n",
              "12             Sales       51111.11\n",
              "13      Construction       50000.00\n",
              "14             Nurse       50000.00\n",
              "15   Sales Associate       30000.00\n",
              "16           Cashier       23000.00\n",
              "17           Student        9666.67"
            ],
            "text/html": [
              "\n",
              "  <div id=\"df-203464d7-8622-418e-86ce-1bcad41f3aa2\">\n",
              "    <div class=\"colab-df-container\">\n",
              "      <div>\n",
              "<style scoped>\n",
              "    .dataframe tbody tr th:only-of-type {\n",
              "        vertical-align: middle;\n",
              "    }\n",
              "\n",
              "    .dataframe tbody tr th {\n",
              "        vertical-align: top;\n",
              "    }\n",
              "\n",
              "    .dataframe thead th {\n",
              "        text-align: right;\n",
              "    }\n",
              "</style>\n",
              "<table border=\"1\" class=\"dataframe\">\n",
              "  <thead>\n",
              "    <tr style=\"text-align: right;\">\n",
              "      <th></th>\n",
              "      <th>Occupation</th>\n",
              "      <th>Annual Income</th>\n",
              "    </tr>\n",
              "  </thead>\n",
              "  <tbody>\n",
              "    <tr>\n",
              "      <th>0</th>\n",
              "      <td>Lawyer</td>\n",
              "      <td>124000.00</td>\n",
              "    </tr>\n",
              "    <tr>\n",
              "      <th>1</th>\n",
              "      <td>Doctor</td>\n",
              "      <td>123000.00</td>\n",
              "    </tr>\n",
              "    <tr>\n",
              "      <th>2</th>\n",
              "      <td>Real Estate</td>\n",
              "      <td>80000.00</td>\n",
              "    </tr>\n",
              "    <tr>\n",
              "      <th>3</th>\n",
              "      <td>Web Developer</td>\n",
              "      <td>73500.00</td>\n",
              "    </tr>\n",
              "    <tr>\n",
              "      <th>4</th>\n",
              "      <td>Hotel Management</td>\n",
              "      <td>70000.00</td>\n",
              "    </tr>\n",
              "    <tr>\n",
              "      <th>5</th>\n",
              "      <td>Education</td>\n",
              "      <td>69000.00</td>\n",
              "    </tr>\n",
              "    <tr>\n",
              "      <th>6</th>\n",
              "      <td>Medical</td>\n",
              "      <td>67500.00</td>\n",
              "    </tr>\n",
              "    <tr>\n",
              "      <th>7</th>\n",
              "      <td>Accounting</td>\n",
              "      <td>62400.00</td>\n",
              "    </tr>\n",
              "    <tr>\n",
              "      <th>8</th>\n",
              "      <td>Finance</td>\n",
              "      <td>59700.00</td>\n",
              "    </tr>\n",
              "    <tr>\n",
              "      <th>9</th>\n",
              "      <td>Admin Assistant</td>\n",
              "      <td>58333.33</td>\n",
              "    </tr>\n",
              "    <tr>\n",
              "      <th>10</th>\n",
              "      <td>Laborer</td>\n",
              "      <td>55000.00</td>\n",
              "    </tr>\n",
              "    <tr>\n",
              "      <th>11</th>\n",
              "      <td>Marketing</td>\n",
              "      <td>52500.00</td>\n",
              "    </tr>\n",
              "    <tr>\n",
              "      <th>12</th>\n",
              "      <td>Sales</td>\n",
              "      <td>51111.11</td>\n",
              "    </tr>\n",
              "    <tr>\n",
              "      <th>13</th>\n",
              "      <td>Construction</td>\n",
              "      <td>50000.00</td>\n",
              "    </tr>\n",
              "    <tr>\n",
              "      <th>14</th>\n",
              "      <td>Nurse</td>\n",
              "      <td>50000.00</td>\n",
              "    </tr>\n",
              "    <tr>\n",
              "      <th>15</th>\n",
              "      <td>Sales Associate</td>\n",
              "      <td>30000.00</td>\n",
              "    </tr>\n",
              "    <tr>\n",
              "      <th>16</th>\n",
              "      <td>Cashier</td>\n",
              "      <td>23000.00</td>\n",
              "    </tr>\n",
              "    <tr>\n",
              "      <th>17</th>\n",
              "      <td>Student</td>\n",
              "      <td>9666.67</td>\n",
              "    </tr>\n",
              "  </tbody>\n",
              "</table>\n",
              "</div>\n",
              "      <button class=\"colab-df-convert\" onclick=\"convertToInteractive('df-203464d7-8622-418e-86ce-1bcad41f3aa2')\"\n",
              "              title=\"Convert this dataframe to an interactive table.\"\n",
              "              style=\"display:none;\">\n",
              "        \n",
              "  <svg xmlns=\"http://www.w3.org/2000/svg\" height=\"24px\"viewBox=\"0 0 24 24\"\n",
              "       width=\"24px\">\n",
              "    <path d=\"M0 0h24v24H0V0z\" fill=\"none\"/>\n",
              "    <path d=\"M18.56 5.44l.94 2.06.94-2.06 2.06-.94-2.06-.94-.94-2.06-.94 2.06-2.06.94zm-11 1L8.5 8.5l.94-2.06 2.06-.94-2.06-.94L8.5 2.5l-.94 2.06-2.06.94zm10 10l.94 2.06.94-2.06 2.06-.94-2.06-.94-.94-2.06-.94 2.06-2.06.94z\"/><path d=\"M17.41 7.96l-1.37-1.37c-.4-.4-.92-.59-1.43-.59-.52 0-1.04.2-1.43.59L10.3 9.45l-7.72 7.72c-.78.78-.78 2.05 0 2.83L4 21.41c.39.39.9.59 1.41.59.51 0 1.02-.2 1.41-.59l7.78-7.78 2.81-2.81c.8-.78.8-2.07 0-2.86zM5.41 20L4 18.59l7.72-7.72 1.47 1.35L5.41 20z\"/>\n",
              "  </svg>\n",
              "      </button>\n",
              "      \n",
              "  <style>\n",
              "    .colab-df-container {\n",
              "      display:flex;\n",
              "      flex-wrap:wrap;\n",
              "      gap: 12px;\n",
              "    }\n",
              "\n",
              "    .colab-df-convert {\n",
              "      background-color: #E8F0FE;\n",
              "      border: none;\n",
              "      border-radius: 50%;\n",
              "      cursor: pointer;\n",
              "      display: none;\n",
              "      fill: #1967D2;\n",
              "      height: 32px;\n",
              "      padding: 0 0 0 0;\n",
              "      width: 32px;\n",
              "    }\n",
              "\n",
              "    .colab-df-convert:hover {\n",
              "      background-color: #E2EBFA;\n",
              "      box-shadow: 0px 1px 2px rgba(60, 64, 67, 0.3), 0px 1px 3px 1px rgba(60, 64, 67, 0.15);\n",
              "      fill: #174EA6;\n",
              "    }\n",
              "\n",
              "    [theme=dark] .colab-df-convert {\n",
              "      background-color: #3B4455;\n",
              "      fill: #D2E3FC;\n",
              "    }\n",
              "\n",
              "    [theme=dark] .colab-df-convert:hover {\n",
              "      background-color: #434B5C;\n",
              "      box-shadow: 0px 1px 3px 1px rgba(0, 0, 0, 0.15);\n",
              "      filter: drop-shadow(0px 1px 2px rgba(0, 0, 0, 0.3));\n",
              "      fill: #FFFFFF;\n",
              "    }\n",
              "  </style>\n",
              "\n",
              "      <script>\n",
              "        const buttonEl =\n",
              "          document.querySelector('#df-203464d7-8622-418e-86ce-1bcad41f3aa2 button.colab-df-convert');\n",
              "        buttonEl.style.display =\n",
              "          google.colab.kernel.accessAllowed ? 'block' : 'none';\n",
              "\n",
              "        async function convertToInteractive(key) {\n",
              "          const element = document.querySelector('#df-203464d7-8622-418e-86ce-1bcad41f3aa2');\n",
              "          const dataTable =\n",
              "            await google.colab.kernel.invokeFunction('convertToInteractive',\n",
              "                                                     [key], {});\n",
              "          if (!dataTable) return;\n",
              "\n",
              "          const docLinkHtml = 'Like what you see? Visit the ' +\n",
              "            '<a target=\"_blank\" href=https://colab.research.google.com/notebooks/data_table.ipynb>data table notebook</a>'\n",
              "            + ' to learn more about interactive tables.';\n",
              "          element.innerHTML = '';\n",
              "          dataTable['output_type'] = 'display_data';\n",
              "          await google.colab.output.renderOutput(dataTable, element);\n",
              "          const docLink = document.createElement('div');\n",
              "          docLink.innerHTML = docLinkHtml;\n",
              "          element.appendChild(docLink);\n",
              "        }\n",
              "      </script>\n",
              "    </div>\n",
              "  </div>\n",
              "  "
            ]
          },
          "metadata": {},
          "execution_count": 20
        }
      ]
    },
    {
      "cell_type": "code",
      "source": [
        "sns.displot(news['Annual Income'])"
      ],
      "metadata": {
        "colab": {
          "base_uri": "https://localhost:8080/",
          "height": 386
        },
        "id": "mCJDOGI8UULA",
        "outputId": "53551fd3-bd14-4ccd-efaf-e07b6fbde9e0"
      },
      "execution_count": null,
      "outputs": [
        {
          "output_type": "execute_result",
          "data": {
            "text/plain": [
              "<seaborn.axisgrid.FacetGrid at 0x7f203dab7510>"
            ]
          },
          "metadata": {},
          "execution_count": 21
        },
        {
          "output_type": "display_data",
          "data": {
            "text/plain": [
              "<Figure size 360x360 with 1 Axes>"
            ],
            "image/png": "[encoded data removed]"
          },
          "metadata": {
            "needs_background": "light"
          }
        }
      ]
    },
    {
      "cell_type": "markdown",
      "source": [
        " ## Annual Income: Transformation: log(Annual Income)"
      ],
      "metadata": {
        "id": "PF-fIQk4IilE"
      }
    },
    {
      "cell_type": "code",
      "source": [
        "income_log = np.log(news['Annual Income'])\n",
        "sns.displot(data=income_log)"
      ],
      "metadata": {
        "colab": {
          "base_uri": "https://localhost:8080/"
        },
        "id": "Gam2T3C1xynB",
        "outputId": "e830a81b-cdb6-48b4-90f8-8a0713843a61"
      },
      "execution_count": null,
      "outputs": [
        {
          "output_type": "execute_result",
          "data": {
            "text/plain": [
              "<seaborn.axisgrid.FacetGrid at 0x7f203d6c6f90>"
            ]
          },
          "metadata": {},
          "execution_count": 22
        },
        {
          "output_type": "display_data",
          "data": {
            "text/plain": [
              "<Figure size 360x360 with 1 Axes>"
            ],
            "image/png": "[encoded data removed]"
          },
          "metadata": {
            "needs_background": "light"
          }
        }
      ]
    },
    {
      "cell_type": "markdown",
      "source": [
        "taking the log of ANNUAL INCOME doesn't help..."
      ],
      "metadata": {
        "id": "K9aFb_2Xx41v"
      }
    },
    {
      "cell_type": "markdown",
      "source": [
        "## Split Annual Income by Job into Groups\n",
        "\n"
      ],
      "metadata": {
        "id": "sBOtRkmZIqAj"
      }
    },
    {
      "cell_type": "code",
      "source": [
        "under_40 = news.loc[news['Annual Income'] < 40000]\n",
        "between_40_80 = news.loc[news['Annual Income'].between(40000, 80000, 'both')]\n",
        "over_80 = news.loc[news['Annual Income'] > 80000]"
      ],
      "metadata": {
        "id": "jThiXSZ8zfkH"
      },
      "execution_count": null,
      "outputs": []
    },
    {
      "cell_type": "code",
      "source": [
        "sns.displot(under_40['Annual Income'], bins=4)\n",
        "sns.displot(between_40_80['Annual Income'])\n",
        "sns.displot(over_80['Annual Income'])"
      ],
      "metadata": {
        "colab": {
          "base_uri": "https://localhost:8080/",
          "height": 1000
        },
        "id": "bOf-DbDvzfoU",
        "outputId": "4b90b535-e803-401e-b4c6-7871ef8e69a7"
      },
      "execution_count": null,
      "outputs": [
        {
          "output_type": "execute_result",
          "data": {
            "text/plain": [
              "<seaborn.axisgrid.FacetGrid at 0x7f203d79f990>"
            ]
          },
          "metadata": {},
          "execution_count": 24
        },
        {
          "output_type": "display_data",
          "data": {
            "text/plain": [
              "<Figure size 360x360 with 1 Axes>"
            ],
            "image/png": "[encoded data removed]"
          },
          "metadata": {
            "needs_background": "light"
          }
        },
        {
          "output_type": "display_data",
          "data": {
            "text/plain": [
              "<Figure size 360x360 with 1 Axes>"
            ],
            "image/png": "[encoded data removed]"
          },
          "metadata": {
            "needs_background": "light"
          }
        },
        {
          "output_type": "display_data",
          "data": {
            "text/plain": [
              "<Figure size 360x360 with 1 Axes>"
            ],
            "image/png": "[encoded data removed]"
          },
          "metadata": {
            "needs_background": "light"
          }
        }
      ]
    },
    {
      "cell_type": "code",
      "source": [
        "under_40_log = np.log(under_40['Annual Income'])\n",
        "sns.displot(data=under_40_log)\n",
        "\n",
        "between_40_80_log = np.log(between_40_80['Annual Income'])\n",
        "sns.displot(data=between_40_80_log)\n",
        "\n",
        "over_80_log = np.log(over_80['Annual Income'])\n",
        "sns.displot(data=over_80_log)"
      ],
      "metadata": {
        "colab": {
          "base_uri": "https://localhost:8080/",
          "height": 1000
        },
        "id": "W1qRvky2zfry",
        "outputId": "8df54b59-e8f0-45bb-dd6a-704f3fe6c3a7"
      },
      "execution_count": null,
      "outputs": [
        {
          "output_type": "execute_result",
          "data": {
            "text/plain": [
              "<seaborn.axisgrid.FacetGrid at 0x7f203acaea50>"
            ]
          },
          "metadata": {},
          "execution_count": 25
        },
        {
          "output_type": "display_data",
          "data": {
            "text/plain": [
              "<Figure size 360x360 with 1 Axes>"
            ],
            "image/png": "[encoded data removed]"
          },
          "metadata": {
            "needs_background": "light"
          }
        },
        {
          "output_type": "display_data",
          "data": {
            "text/plain": [
              "<Figure size 360x360 with 1 Axes>"
            ],
            "image/png": "[encoded data removed]"
          },
          "metadata": {
            "needs_background": "light"
          }
        },
        {
          "output_type": "display_data",
          "data": {
            "text/plain": [
              "<Figure size 360x360 with 1 Axes>"
            ],
            "image/png": "[encoded data removed]"
          },
          "metadata": {
            "needs_background": "light"
          }
        }
      ]
    },
    {
      "cell_type": "markdown",
      "source": [
        "## Model Fitting"
      ],
      "metadata": {
        "id": "CnQtiVHjUA33"
      }
    },
    {
      "cell_type": "markdown",
      "source": [
        "Fit a univariate distribution model for each continuous (possibly transformed) variable.  Select the best model using the AIC criteria"
      ],
      "metadata": {
        "id": "dXDyGp7QUD-P"
      }
    },
    {
      "cell_type": "code",
      "source": [
        "pip install fitter"
      ],
      "metadata": {
        "id": "W4paVTwveH-B",
        "colab": {
          "base_uri": "https://localhost:8080/"
        },
        "outputId": "31309e0c-e856-4602-9706-f9c2bf4925e8"
      },
      "execution_count": null,
      "outputs": [
        {
          "output_type": "stream",
          "name": "stdout",
          "text": [
            "Looking in indexes: https://pypi.org/simple, https://us-python.pkg.dev/colab-wheels/public/simple/\n",
            "Requirement already satisfied: fitter in /usr/local/lib/python3.7/dist-packages (1.5.1)\n",
            "Requirement already satisfied: click in /usr/local/lib/python3.7/dist-packages (from fitter) (7.1.2)\n",
            "Requirement already satisfied: pandas in /usr/local/lib/python3.7/dist-packages (from fitter) (1.3.5)\n",
            "Requirement already satisfied: numpy in /usr/local/lib/python3.7/dist-packages (from fitter) (1.21.6)\n",
            "Requirement already satisfied: scipy>=0.18 in /usr/local/lib/python3.7/dist-packages (from fitter) (1.7.3)\n",
            "Requirement already satisfied: tqdm in /usr/local/lib/python3.7/dist-packages (from fitter) (4.64.1)\n",
            "Requirement already satisfied: joblib in /usr/local/lib/python3.7/dist-packages (from fitter) (1.2.0)\n",
            "Requirement already satisfied: matplotlib in /usr/local/lib/python3.7/dist-packages (from fitter) (3.2.2)\n",
            "Requirement already satisfied: kiwisolver>=1.0.1 in /usr/local/lib/python3.7/dist-packages (from matplotlib->fitter) (1.4.4)\n",
            "Requirement already satisfied: pyparsing!=2.0.4,!=2.1.2,!=2.1.6,>=2.0.1 in /usr/local/lib/python3.7/dist-packages (from matplotlib->fitter) (3.0.9)\n",
            "Requirement already satisfied: python-dateutil>=2.1 in /usr/local/lib/python3.7/dist-packages (from matplotlib->fitter) (2.8.2)\n",
            "Requirement already satisfied: cycler>=0.10 in /usr/local/lib/python3.7/dist-packages (from matplotlib->fitter) (0.11.0)\n",
            "Requirement already satisfied: typing-extensions in /usr/local/lib/python3.7/dist-packages (from kiwisolver>=1.0.1->matplotlib->fitter) (4.1.1)\n",
            "Requirement already satisfied: six>=1.5 in /usr/local/lib/python3.7/dist-packages (from python-dateutil>=2.1->matplotlib->fitter) (1.15.0)\n",
            "Requirement already satisfied: pytz>=2017.3 in /usr/local/lib/python3.7/dist-packages (from pandas->fitter) (2022.5)\n"
          ]
        }
      ]
    },
    {
      "cell_type": "markdown",
      "source": [
        "## Model Fitting: Annual Income -- Under 40,000"
      ],
      "metadata": {
        "id": "YBN11gCo2a_y"
      }
    },
    {
      "cell_type": "code",
      "source": [
        "# how to increase the number of points to make the curve smoother"
      ],
      "metadata": {
        "id": "BnqzCSfsuJHl"
      },
      "execution_count": null,
      "outputs": []
    },
    {
      "cell_type": "code",
      "source": [
        "from fitter import Fitter, get_common_distributions, get_distributions\n",
        "income_under_40 = under_40['Annual Income']\n",
        "f_income_under_40 = Fitter(income_under_40,\n",
        "           distributions=['gamma',\n",
        "                          'lognorm',\n",
        "                          \"beta\",\n",
        "                          \"burr\",\n",
        "                          \"norm\"], bins=8)\n",
        "f_income_under_40.fit()\n",
        "f_income_under_40.summary()"
      ],
      "metadata": {
        "colab": {
          "base_uri": "https://localhost:8080/",
          "height": 526
        },
        "id": "zezp2eqs2hsh",
        "outputId": "b8959757-4bd2-4e1a-8a99-aec59b917d8b"
      },
      "execution_count": null,
      "outputs": [
        {
          "output_type": "stream",
          "name": "stderr",
          "text": [
            "Fitting 5 distributions:  20%|██        | 1/5 [00:00<00:01,  3.85it/s]WARNING:root:SKIPPED beta distribution (taking more than 30 seconds)\n",
            "Fitting 5 distributions: 100%|██████████| 5/5 [00:00<00:00,  6.98it/s]\n",
            "WARNING:fitter.fitter:beta was not fitted. no parameters available\n"
          ]
        },
        {
          "output_type": "execute_result",
          "data": {
            "text/plain": [
              "         sumsquare_error           aic         bic    kl_div  ks_statistic  \\\n",
              "burr        6.827224e-09  1.803589e+02 -698.715732       inf      0.386884   \n",
              "norm        1.176714e-08  1.875813e+02 -688.226646       inf      0.320247   \n",
              "lognorm     3.109726e-08  2.107975e+02 -653.663021       inf      0.720356   \n",
              "gamma       3.513314e-08  4.901854e+04 -649.758216  1.856298      0.968750   \n",
              "beta                 inf           inf         inf       inf           NaN   \n",
              "\n",
              "            ks_pvalue  \n",
              "burr     8.028159e-05  \n",
              "norm     2.028894e-03  \n",
              "lognorm  2.290567e-17  \n",
              "gamma    1.368456e-48  \n",
              "beta              NaN  "
            ],
            "text/html": [
              "\n",
              "  <div id=\"df-c220e3e6-93f6-4182-842d-a58d22a92ff9\">\n",
              "    <div class=\"colab-df-container\">\n",
              "      <div>\n",
              "<style scoped>\n",
              "    .dataframe tbody tr th:only-of-type {\n",
              "        vertical-align: middle;\n",
              "    }\n",
              "\n",
              "    .dataframe tbody tr th {\n",
              "        vertical-align: top;\n",
              "    }\n",
              "\n",
              "    .dataframe thead th {\n",
              "        text-align: right;\n",
              "    }\n",
              "</style>\n",
              "<table border=\"1\" class=\"dataframe\">\n",
              "  <thead>\n",
              "    <tr style=\"text-align: right;\">\n",
              "      <th></th>\n",
              "      <th>sumsquare_error</th>\n",
              "      <th>aic</th>\n",
              "      <th>bic</th>\n",
              "      <th>kl_div</th>\n",
              "      <th>ks_statistic</th>\n",
              "      <th>ks_pvalue</th>\n",
              "    </tr>\n",
              "  </thead>\n",
              "  <tbody>\n",
              "    <tr>\n",
              "      <th>burr</th>\n",
              "      <td>6.827224e-09</td>\n",
              "      <td>1.803589e+02</td>\n",
              "      <td>-698.715732</td>\n",
              "      <td>inf</td>\n",
              "      <td>0.386884</td>\n",
              "      <td>8.028159e-05</td>\n",
              "    </tr>\n",
              "    <tr>\n",
              "      <th>norm</th>\n",
              "      <td>1.176714e-08</td>\n",
              "      <td>1.875813e+02</td>\n",
              "      <td>-688.226646</td>\n",
              "      <td>inf</td>\n",
              "      <td>0.320247</td>\n",
              "      <td>2.028894e-03</td>\n",
              "    </tr>\n",
              "    <tr>\n",
              "      <th>lognorm</th>\n",
              "      <td>3.109726e-08</td>\n",
              "      <td>2.107975e+02</td>\n",
              "      <td>-653.663021</td>\n",
              "      <td>inf</td>\n",
              "      <td>0.720356</td>\n",
              "      <td>2.290567e-17</td>\n",
              "    </tr>\n",
              "    <tr>\n",
              "      <th>gamma</th>\n",
              "      <td>3.513314e-08</td>\n",
              "      <td>4.901854e+04</td>\n",
              "      <td>-649.758216</td>\n",
              "      <td>1.856298</td>\n",
              "      <td>0.968750</td>\n",
              "      <td>1.368456e-48</td>\n",
              "    </tr>\n",
              "    <tr>\n",
              "      <th>beta</th>\n",
              "      <td>inf</td>\n",
              "      <td>inf</td>\n",
              "      <td>inf</td>\n",
              "      <td>inf</td>\n",
              "      <td>NaN</td>\n",
              "      <td>NaN</td>\n",
              "    </tr>\n",
              "  </tbody>\n",
              "</table>\n",
              "</div>\n",
              "      <button class=\"colab-df-convert\" onclick=\"convertToInteractive('df-c220e3e6-93f6-4182-842d-a58d22a92ff9')\"\n",
              "              title=\"Convert this dataframe to an interactive table.\"\n",
              "              style=\"display:none;\">\n",
              "        \n",
              "  <svg xmlns=\"http://www.w3.org/2000/svg\" height=\"24px\"viewBox=\"0 0 24 24\"\n",
              "       width=\"24px\">\n",
              "    <path d=\"M0 0h24v24H0V0z\" fill=\"none\"/>\n",
              "    <path d=\"M18.56 5.44l.94 2.06.94-2.06 2.06-.94-2.06-.94-.94-2.06-.94 2.06-2.06.94zm-11 1L8.5 8.5l.94-2.06 2.06-.94-2.06-.94L8.5 2.5l-.94 2.06-2.06.94zm10 10l.94 2.06.94-2.06 2.06-.94-2.06-.94-.94-2.06-.94 2.06-2.06.94z\"/><path d=\"M17.41 7.96l-1.37-1.37c-.4-.4-.92-.59-1.43-.59-.52 0-1.04.2-1.43.59L10.3 9.45l-7.72 7.72c-.78.78-.78 2.05 0 2.83L4 21.41c.39.39.9.59 1.41.59.51 0 1.02-.2 1.41-.59l7.78-7.78 2.81-2.81c.8-.78.8-2.07 0-2.86zM5.41 20L4 18.59l7.72-7.72 1.47 1.35L5.41 20z\"/>\n",
              "  </svg>\n",
              "      </button>\n",
              "      \n",
              "  <style>\n",
              "    .colab-df-container {\n",
              "      display:flex;\n",
              "      flex-wrap:wrap;\n",
              "      gap: 12px;\n",
              "    }\n",
              "\n",
              "    .colab-df-convert {\n",
              "      background-color: #E8F0FE;\n",
              "      border: none;\n",
              "      border-radius: 50%;\n",
              "      cursor: pointer;\n",
              "      display: none;\n",
              "      fill: #1967D2;\n",
              "      height: 32px;\n",
              "      padding: 0 0 0 0;\n",
              "      width: 32px;\n",
              "    }\n",
              "\n",
              "    .colab-df-convert:hover {\n",
              "      background-color: #E2EBFA;\n",
              "      box-shadow: 0px 1px 2px rgba(60, 64, 67, 0.3), 0px 1px 3px 1px rgba(60, 64, 67, 0.15);\n",
              "      fill: #174EA6;\n",
              "    }\n",
              "\n",
              "    [theme=dark] .colab-df-convert {\n",
              "      background-color: #3B4455;\n",
              "      fill: #D2E3FC;\n",
              "    }\n",
              "\n",
              "    [theme=dark] .colab-df-convert:hover {\n",
              "      background-color: #434B5C;\n",
              "      box-shadow: 0px 1px 3px 1px rgba(0, 0, 0, 0.15);\n",
              "      filter: drop-shadow(0px 1px 2px rgba(0, 0, 0, 0.3));\n",
              "      fill: #FFFFFF;\n",
              "    }\n",
              "  </style>\n",
              "\n",
              "      <script>\n",
              "        const buttonEl =\n",
              "          document.querySelector('#df-c220e3e6-93f6-4182-842d-a58d22a92ff9 button.colab-df-convert');\n",
              "        buttonEl.style.display =\n",
              "          google.colab.kernel.accessAllowed ? 'block' : 'none';\n",
              "\n",
              "        async function convertToInteractive(key) {\n",
              "          const element = document.querySelector('#df-c220e3e6-93f6-4182-842d-a58d22a92ff9');\n",
              "          const dataTable =\n",
              "            await google.colab.kernel.invokeFunction('convertToInteractive',\n",
              "                                                     [key], {});\n",
              "          if (!dataTable) return;\n",
              "\n",
              "          const docLinkHtml = 'Like what you see? Visit the ' +\n",
              "            '<a target=\"_blank\" href=https://colab.research.google.com/notebooks/data_table.ipynb>data table notebook</a>'\n",
              "            + ' to learn more about interactive tables.';\n",
              "          element.innerHTML = '';\n",
              "          dataTable['output_type'] = 'display_data';\n",
              "          await google.colab.output.renderOutput(dataTable, element);\n",
              "          const docLink = document.createElement('div');\n",
              "          docLink.innerHTML = docLinkHtml;\n",
              "          element.appendChild(docLink);\n",
              "        }\n",
              "      </script>\n",
              "    </div>\n",
              "  </div>\n",
              "  "
            ]
          },
          "metadata": {},
          "execution_count": 28
        },
        {
          "output_type": "display_data",
          "data": {
            "text/plain": [
              "<Figure size 432x288 with 1 Axes>"
            ],
            "image/png": "[encoded data removed]"
          },
          "metadata": {
            "needs_background": "light"
          }
        }
      ]
    },
    {
      "cell_type": "code",
      "source": [
        "f_income_under_40.get_best(method = 'aic')"
      ],
      "metadata": {
        "colab": {
          "base_uri": "https://localhost:8080/"
        },
        "id": "vLWDT3Wh2hvO",
        "outputId": "27224b0f-d722-4f3b-8612-a7dde805b1af"
      },
      "execution_count": null,
      "outputs": [
        {
          "output_type": "execute_result",
          "data": {
            "text/plain": [
              "{'burr': {'c': 2.540189247099204,\n",
              "  'd': 46.42807298647203,\n",
              "  'loc': -5.327740114733151,\n",
              "  'scale': 1823.0331549360062}}"
            ]
          },
          "metadata": {},
          "execution_count": 29
        }
      ]
    },
    {
      "cell_type": "markdown",
      "source": [
        "## Model Fitting: Annual Income -- between 40,000 and 80,000"
      ],
      "metadata": {
        "id": "WNo765tx4m-E"
      }
    },
    {
      "cell_type": "code",
      "source": [
        "from fitter import Fitter, get_common_distributions, get_distributions\n",
        "income_bet_40_80 = between_40_80['Annual Income']\n",
        "f_income_bet_40_80 = Fitter(income_bet_40_80,\n",
        "           distributions=['gamma',\n",
        "                          'lognorm',\n",
        "                          \"beta\",\n",
        "                          \"burr\",\n",
        "                          \"norm\"], bins=10)\n",
        "f_income_bet_40_80.fit()\n",
        "f_income_bet_40_80.summary()"
      ],
      "metadata": {
        "colab": {
          "base_uri": "https://localhost:8080/",
          "height": 483
        },
        "id": "eVVIP3Ni4Oyc",
        "outputId": "6b08536a-1f34-46e8-93eb-9bfde0251c19"
      },
      "execution_count": null,
      "outputs": [
        {
          "output_type": "stream",
          "name": "stderr",
          "text": [
            "Fitting 5 distributions: 100%|██████████| 5/5 [00:00<00:00,  7.04it/s]\n"
          ]
        },
        {
          "output_type": "execute_result",
          "data": {
            "text/plain": [
              "         sumsquare_error         aic          bic  kl_div  ks_statistic  \\\n",
              "gamma       4.672792e-09  220.570367 -1118.917683     inf      0.187115   \n",
              "norm        4.766760e-09  219.245876 -1121.833910     inf      0.145577   \n",
              "burr        4.809612e-09  223.299082 -1113.611734     inf      0.210886   \n",
              "beta        5.252635e-09  222.035217 -1109.294181     inf      0.233295   \n",
              "lognorm     1.215422e-08  275.749948 -1072.077617     inf      0.823922   \n",
              "\n",
              "            ks_pvalue  \n",
              "gamma    5.640393e-02  \n",
              "norm     2.269837e-01  \n",
              "burr     2.168157e-02  \n",
              "beta     7.907199e-03  \n",
              "lognorm  3.807849e-37  "
            ],
            "text/html": [
              "\n",
              "  <div id=\"df-b749733e-7f21-4f93-818e-e6c84a370d94\">\n",
              "    <div class=\"colab-df-container\">\n",
              "      <div>\n",
              "<style scoped>\n",
              "    .dataframe tbody tr th:only-of-type {\n",
              "        vertical-align: middle;\n",
              "    }\n",
              "\n",
              "    .dataframe tbody tr th {\n",
              "        vertical-align: top;\n",
              "    }\n",
              "\n",
              "    .dataframe thead th {\n",
              "        text-align: right;\n",
              "    }\n",
              "</style>\n",
              "<table border=\"1\" class=\"dataframe\">\n",
              "  <thead>\n",
              "    <tr style=\"text-align: right;\">\n",
              "      <th></th>\n",
              "      <th>sumsquare_error</th>\n",
              "      <th>aic</th>\n",
              "      <th>bic</th>\n",
              "      <th>kl_div</th>\n",
              "      <th>ks_statistic</th>\n",
              "      <th>ks_pvalue</th>\n",
              "    </tr>\n",
              "  </thead>\n",
              "  <tbody>\n",
              "    <tr>\n",
              "      <th>gamma</th>\n",
              "      <td>4.672792e-09</td>\n",
              "      <td>220.570367</td>\n",
              "      <td>-1118.917683</td>\n",
              "      <td>inf</td>\n",
              "      <td>0.187115</td>\n",
              "      <td>5.640393e-02</td>\n",
              "    </tr>\n",
              "    <tr>\n",
              "      <th>norm</th>\n",
              "      <td>4.766760e-09</td>\n",
              "      <td>219.245876</td>\n",
              "      <td>-1121.833910</td>\n",
              "      <td>inf</td>\n",
              "      <td>0.145577</td>\n",
              "      <td>2.269837e-01</td>\n",
              "    </tr>\n",
              "    <tr>\n",
              "      <th>burr</th>\n",
              "      <td>4.809612e-09</td>\n",
              "      <td>223.299082</td>\n",
              "      <td>-1113.611734</td>\n",
              "      <td>inf</td>\n",
              "      <td>0.210886</td>\n",
              "      <td>2.168157e-02</td>\n",
              "    </tr>\n",
              "    <tr>\n",
              "      <th>beta</th>\n",
              "      <td>5.252635e-09</td>\n",
              "      <td>222.035217</td>\n",
              "      <td>-1109.294181</td>\n",
              "      <td>inf</td>\n",
              "      <td>0.233295</td>\n",
              "      <td>7.907199e-03</td>\n",
              "    </tr>\n",
              "    <tr>\n",
              "      <th>lognorm</th>\n",
              "      <td>1.215422e-08</td>\n",
              "      <td>275.749948</td>\n",
              "      <td>-1072.077617</td>\n",
              "      <td>inf</td>\n",
              "      <td>0.823922</td>\n",
              "      <td>3.807849e-37</td>\n",
              "    </tr>\n",
              "  </tbody>\n",
              "</table>\n",
              "</div>\n",
              "      <button class=\"colab-df-convert\" onclick=\"convertToInteractive('df-b749733e-7f21-4f93-818e-e6c84a370d94')\"\n",
              "              title=\"Convert this dataframe to an interactive table.\"\n",
              "              style=\"display:none;\">\n",
              "        \n",
              "  <svg xmlns=\"http://www.w3.org/2000/svg\" height=\"24px\"viewBox=\"0 0 24 24\"\n",
              "       width=\"24px\">\n",
              "    <path d=\"M0 0h24v24H0V0z\" fill=\"none\"/>\n",
              "    <path d=\"M18.56 5.44l.94 2.06.94-2.06 2.06-.94-2.06-.94-.94-2.06-.94 2.06-2.06.94zm-11 1L8.5 8.5l.94-2.06 2.06-.94-2.06-.94L8.5 2.5l-.94 2.06-2.06.94zm10 10l.94 2.06.94-2.06 2.06-.94-2.06-.94-.94-2.06-.94 2.06-2.06.94z\"/><path d=\"M17.41 7.96l-1.37-1.37c-.4-.4-.92-.59-1.43-.59-.52 0-1.04.2-1.43.59L10.3 9.45l-7.72 7.72c-.78.78-.78 2.05 0 2.83L4 21.41c.39.39.9.59 1.41.59.51 0 1.02-.2 1.41-.59l7.78-7.78 2.81-2.81c.8-.78.8-2.07 0-2.86zM5.41 20L4 18.59l7.72-7.72 1.47 1.35L5.41 20z\"/>\n",
              "  </svg>\n",
              "      </button>\n",
              "      \n",
              "  <style>\n",
              "    .colab-df-container {\n",
              "      display:flex;\n",
              "      flex-wrap:wrap;\n",
              "      gap: 12px;\n",
              "    }\n",
              "\n",
              "    .colab-df-convert {\n",
              "      background-color: #E8F0FE;\n",
              "      border: none;\n",
              "      border-radius: 50%;\n",
              "      cursor: pointer;\n",
              "      display: none;\n",
              "      fill: #1967D2;\n",
              "      height: 32px;\n",
              "      padding: 0 0 0 0;\n",
              "      width: 32px;\n",
              "    }\n",
              "\n",
              "    .colab-df-convert:hover {\n",
              "      background-color: #E2EBFA;\n",
              "      box-shadow: 0px 1px 2px rgba(60, 64, 67, 0.3), 0px 1px 3px 1px rgba(60, 64, 67, 0.15);\n",
              "      fill: #174EA6;\n",
              "    }\n",
              "\n",
              "    [theme=dark] .colab-df-convert {\n",
              "      background-color: #3B4455;\n",
              "      fill: #D2E3FC;\n",
              "    }\n",
              "\n",
              "    [theme=dark] .colab-df-convert:hover {\n",
              "      background-color: #434B5C;\n",
              "      box-shadow: 0px 1px 3px 1px rgba(0, 0, 0, 0.15);\n",
              "      filter: drop-shadow(0px 1px 2px rgba(0, 0, 0, 0.3));\n",
              "      fill: #FFFFFF;\n",
              "    }\n",
              "  </style>\n",
              "\n",
              "      <script>\n",
              "        const buttonEl =\n",
              "          document.querySelector('#df-b749733e-7f21-4f93-818e-e6c84a370d94 button.colab-df-convert');\n",
              "        buttonEl.style.display =\n",
              "          google.colab.kernel.accessAllowed ? 'block' : 'none';\n",
              "\n",
              "        async function convertToInteractive(key) {\n",
              "          const element = document.querySelector('#df-b749733e-7f21-4f93-818e-e6c84a370d94');\n",
              "          const dataTable =\n",
              "            await google.colab.kernel.invokeFunction('convertToInteractive',\n",
              "                                                     [key], {});\n",
              "          if (!dataTable) return;\n",
              "\n",
              "          const docLinkHtml = 'Like what you see? Visit the ' +\n",
              "            '<a target=\"_blank\" href=https://colab.research.google.com/notebooks/data_table.ipynb>data table notebook</a>'\n",
              "            + ' to learn more about interactive tables.';\n",
              "          element.innerHTML = '';\n",
              "          dataTable['output_type'] = 'display_data';\n",
              "          await google.colab.output.renderOutput(dataTable, element);\n",
              "          const docLink = document.createElement('div');\n",
              "          docLink.innerHTML = docLinkHtml;\n",
              "          element.appendChild(docLink);\n",
              "        }\n",
              "      </script>\n",
              "    </div>\n",
              "  </div>\n",
              "  "
            ]
          },
          "metadata": {},
          "execution_count": 30
        },
        {
          "output_type": "display_data",
          "data": {
            "text/plain": [
              "<Figure size 432x288 with 1 Axes>"
            ],
            "image/png": "[encoded data removed]"
          },
          "metadata": {
            "needs_background": "light"
          }
        }
      ]
    },
    {
      "cell_type": "code",
      "source": [
        "f_income_bet_40_80.get_best(method = 'aic')"
      ],
      "metadata": {
        "colab": {
          "base_uri": "https://localhost:8080/"
        },
        "id": "CM9-WJip4O03",
        "outputId": "18f3009c-8e68-4c23-e99b-cdeefa186365"
      },
      "execution_count": null,
      "outputs": [
        {
          "output_type": "execute_result",
          "data": {
            "text/plain": [
              "{'norm': {'loc': 58489.795918367345, 'scale': 8725.104406087425}}"
            ]
          },
          "metadata": {},
          "execution_count": 31
        }
      ]
    },
    {
      "cell_type": "markdown",
      "source": [
        "## Model Fitting -- LOG(between 40,000 and 80,000)"
      ],
      "metadata": {
        "id": "bJ9XNHsf-F8Q"
      }
    },
    {
      "cell_type": "code",
      "source": [
        "from fitter import Fitter, get_common_distributions, get_distributions\n",
        "b = between_40_80_log.values\n",
        "model = Fitter(b,\n",
        "           distributions=['gamma',\n",
        "                          'lognorm',\n",
        "                          \"beta\",\n",
        "                          \"burr\",\n",
        "                          \"norm\"], bins=9)\n",
        "model.fit()\n",
        "model.summary()"
      ],
      "metadata": {
        "colab": {
          "base_uri": "https://localhost:8080/",
          "height": 472
        },
        "id": "Inog11RR-MWk",
        "outputId": "c05fab84-499f-451b-b39f-331075280619"
      },
      "execution_count": null,
      "outputs": [
        {
          "output_type": "stream",
          "name": "stderr",
          "text": [
            "Fitting 5 distributions: 100%|██████████| 5/5 [00:00<00:00,  5.47it/s]\n"
          ]
        },
        {
          "output_type": "execute_result",
          "data": {
            "text/plain": [
              "         sumsquare_error       aic        bic    kl_div  ks_statistic  \\\n",
              "norm           12.240176 -2.123173 -60.184093  0.299269      0.168591   \n",
              "gamma          12.315863 -0.147739 -55.990215  0.301735      0.172213   \n",
              "lognorm        12.363164 -0.165363 -55.802385  0.303173      0.174033   \n",
              "beta           13.875896 -1.342610 -46.254404  0.285428      0.160536   \n",
              "burr           13.992410  2.016503 -45.844676  0.343972      0.212155   \n",
              "\n",
              "         ks_pvalue  \n",
              "norm      0.109636  \n",
              "gamma     0.096808  \n",
              "lognorm   0.090849  \n",
              "beta      0.143204  \n",
              "burr      0.020535  "
            ],
            "text/html": [
              "\n",
              "  <div id=\"df-98b8fb13-8f1d-40c4-8c95-d0f2c38268d0\">\n",
              "    <div class=\"colab-df-container\">\n",
              "      <div>\n",
              "<style scoped>\n",
              "    .dataframe tbody tr th:only-of-type {\n",
              "        vertical-align: middle;\n",
              "    }\n",
              "\n",
              "    .dataframe tbody tr th {\n",
              "        vertical-align: top;\n",
              "    }\n",
              "\n",
              "    .dataframe thead th {\n",
              "        text-align: right;\n",
              "    }\n",
              "</style>\n",
              "<table border=\"1\" class=\"dataframe\">\n",
              "  <thead>\n",
              "    <tr style=\"text-align: right;\">\n",
              "      <th></th>\n",
              "      <th>sumsquare_error</th>\n",
              "      <th>aic</th>\n",
              "      <th>bic</th>\n",
              "      <th>kl_div</th>\n",
              "      <th>ks_statistic</th>\n",
              "      <th>ks_pvalue</th>\n",
              "    </tr>\n",
              "  </thead>\n",
              "  <tbody>\n",
              "    <tr>\n",
              "      <th>norm</th>\n",
              "      <td>12.240176</td>\n",
              "      <td>-2.123173</td>\n",
              "      <td>-60.184093</td>\n",
              "      <td>0.299269</td>\n",
              "      <td>0.168591</td>\n",
              "      <td>0.109636</td>\n",
              "    </tr>\n",
              "    <tr>\n",
              "      <th>gamma</th>\n",
              "      <td>12.315863</td>\n",
              "      <td>-0.147739</td>\n",
              "      <td>-55.990215</td>\n",
              "      <td>0.301735</td>\n",
              "      <td>0.172213</td>\n",
              "      <td>0.096808</td>\n",
              "    </tr>\n",
              "    <tr>\n",
              "      <th>lognorm</th>\n",
              "      <td>12.363164</td>\n",
              "      <td>-0.165363</td>\n",
              "      <td>-55.802385</td>\n",
              "      <td>0.303173</td>\n",
              "      <td>0.174033</td>\n",
              "      <td>0.090849</td>\n",
              "    </tr>\n",
              "    <tr>\n",
              "      <th>beta</th>\n",
              "      <td>13.875896</td>\n",
              "      <td>-1.342610</td>\n",
              "      <td>-46.254404</td>\n",
              "      <td>0.285428</td>\n",
              "      <td>0.160536</td>\n",
              "      <td>0.143204</td>\n",
              "    </tr>\n",
              "    <tr>\n",
              "      <th>burr</th>\n",
              "      <td>13.992410</td>\n",
              "      <td>2.016503</td>\n",
              "      <td>-45.844676</td>\n",
              "      <td>0.343972</td>\n",
              "      <td>0.212155</td>\n",
              "      <td>0.020535</td>\n",
              "    </tr>\n",
              "  </tbody>\n",
              "</table>\n",
              "</div>\n",
              "      <button class=\"colab-df-convert\" onclick=\"convertToInteractive('df-98b8fb13-8f1d-40c4-8c95-d0f2c38268d0')\"\n",
              "              title=\"Convert this dataframe to an interactive table.\"\n",
              "              style=\"display:none;\">\n",
              "        \n",
              "  <svg xmlns=\"http://www.w3.org/2000/svg\" height=\"24px\"viewBox=\"0 0 24 24\"\n",
              "       width=\"24px\">\n",
              "    <path d=\"M0 0h24v24H0V0z\" fill=\"none\"/>\n",
              "    <path d=\"M18.56 5.44l.94 2.06.94-2.06 2.06-.94-2.06-.94-.94-2.06-.94 2.06-2.06.94zm-11 1L8.5 8.5l.94-2.06 2.06-.94-2.06-.94L8.5 2.5l-.94 2.06-2.06.94zm10 10l.94 2.06.94-2.06 2.06-.94-2.06-.94-.94-2.06-.94 2.06-2.06.94z\"/><path d=\"M17.41 7.96l-1.37-1.37c-.4-.4-.92-.59-1.43-.59-.52 0-1.04.2-1.43.59L10.3 9.45l-7.72 7.72c-.78.78-.78 2.05 0 2.83L4 21.41c.39.39.9.59 1.41.59.51 0 1.02-.2 1.41-.59l7.78-7.78 2.81-2.81c.8-.78.8-2.07 0-2.86zM5.41 20L4 18.59l7.72-7.72 1.47 1.35L5.41 20z\"/>\n",
              "  </svg>\n",
              "      </button>\n",
              "      \n",
              "  <style>\n",
              "    .colab-df-container {\n",
              "      display:flex;\n",
              "      flex-wrap:wrap;\n",
              "      gap: 12px;\n",
              "    }\n",
              "\n",
              "    .colab-df-convert {\n",
              "      background-color: #E8F0FE;\n",
              "      border: none;\n",
              "      border-radius: 50%;\n",
              "      cursor: pointer;\n",
              "      display: none;\n",
              "      fill: #1967D2;\n",
              "      height: 32px;\n",
              "      padding: 0 0 0 0;\n",
              "      width: 32px;\n",
              "    }\n",
              "\n",
              "    .colab-df-convert:hover {\n",
              "      background-color: #E2EBFA;\n",
              "      box-shadow: 0px 1px 2px rgba(60, 64, 67, 0.3), 0px 1px 3px 1px rgba(60, 64, 67, 0.15);\n",
              "      fill: #174EA6;\n",
              "    }\n",
              "\n",
              "    [theme=dark] .colab-df-convert {\n",
              "      background-color: #3B4455;\n",
              "      fill: #D2E3FC;\n",
              "    }\n",
              "\n",
              "    [theme=dark] .colab-df-convert:hover {\n",
              "      background-color: #434B5C;\n",
              "      box-shadow: 0px 1px 3px 1px rgba(0, 0, 0, 0.15);\n",
              "      filter: drop-shadow(0px 1px 2px rgba(0, 0, 0, 0.3));\n",
              "      fill: #FFFFFF;\n",
              "    }\n",
              "  </style>\n",
              "\n",
              "      <script>\n",
              "        const buttonEl =\n",
              "          document.querySelector('#df-98b8fb13-8f1d-40c4-8c95-d0f2c38268d0 button.colab-df-convert');\n",
              "        buttonEl.style.display =\n",
              "          google.colab.kernel.accessAllowed ? 'block' : 'none';\n",
              "\n",
              "        async function convertToInteractive(key) {\n",
              "          const element = document.querySelector('#df-98b8fb13-8f1d-40c4-8c95-d0f2c38268d0');\n",
              "          const dataTable =\n",
              "            await google.colab.kernel.invokeFunction('convertToInteractive',\n",
              "                                                     [key], {});\n",
              "          if (!dataTable) return;\n",
              "\n",
              "          const docLinkHtml = 'Like what you see? Visit the ' +\n",
              "            '<a target=\"_blank\" href=https://colab.research.google.com/notebooks/data_table.ipynb>data table notebook</a>'\n",
              "            + ' to learn more about interactive tables.';\n",
              "          element.innerHTML = '';\n",
              "          dataTable['output_type'] = 'display_data';\n",
              "          await google.colab.output.renderOutput(dataTable, element);\n",
              "          const docLink = document.createElement('div');\n",
              "          docLink.innerHTML = docLinkHtml;\n",
              "          element.appendChild(docLink);\n",
              "        }\n",
              "      </script>\n",
              "    </div>\n",
              "  </div>\n",
              "  "
            ]
          },
          "metadata": {},
          "execution_count": 32
        },
        {
          "output_type": "display_data",
          "data": {
            "text/plain": [
              "<Figure size 432x288 with 1 Axes>"
            ],
            "image/png": "[encoded data removed]"
          },
          "metadata": {
            "needs_background": "light"
          }
        }
      ]
    },
    {
      "cell_type": "code",
      "source": [
        "model.get_best(method = 'aic')"
      ],
      "metadata": {
        "colab": {
          "base_uri": "https://localhost:8080/"
        },
        "id": "g0B-cZmk-l64",
        "outputId": "5513be5e-ac1a-42dd-b6af-5b08acfe8b3d"
      },
      "execution_count": null,
      "outputs": [
        {
          "output_type": "execute_result",
          "data": {
            "text/plain": [
              "{'norm': {'loc': 10.965571541301834, 'scale': 0.14848366325660692}}"
            ]
          },
          "metadata": {},
          "execution_count": 33
        }
      ]
    },
    {
      "cell_type": "markdown",
      "source": [
        "## Model Fitting: Annual Income -- over 80,000"
      ],
      "metadata": {
        "id": "-g7Ihau65jnX"
      }
    },
    {
      "cell_type": "code",
      "source": [
        "'''\n",
        "from fitter import Fitter, get_common_distributions, get_distributions\n",
        "income_over_80 = over_80['Annual Income']\n",
        "f_income_over_80 = Fitter(income_over_80,\n",
        "           distributions=['gamma',\n",
        "                          'lognorm',\n",
        "                          \"beta\",\n",
        "                          \"burr\",\n",
        "                          \"norm\"],bins=3)\n",
        "f_income_over_80.fit()\n",
        "f_income_over_80.summary()\n",
        "'''"
      ],
      "metadata": {
        "colab": {
          "base_uri": "https://localhost:8080/",
          "height": 87
        },
        "id": "8PWRCbxe4O4C",
        "outputId": "3ae060de-b44c-48aa-823e-444cf629db2d"
      },
      "execution_count": null,
      "outputs": [
        {
          "output_type": "execute_result",
          "data": {
            "text/plain": [
              "'\\nfrom fitter import Fitter, get_common_distributions, get_distributions\\nincome_over_80 = over_80[\\'Annual Income\\']\\nf_income_over_80 = Fitter(income_over_80,\\n           distributions=[\\'gamma\\',\\n                          \\'lognorm\\',\\n                          \"beta\",\\n                          \"burr\",\\n                          \"norm\"],bins=3)\\nf_income_over_80.fit()\\nf_income_over_80.summary()\\n'"
            ],
            "application/vnd.google.colaboratory.intrinsic+json": {
              "type": "string"
            }
          },
          "metadata": {},
          "execution_count": 34
        }
      ]
    },
    {
      "cell_type": "code",
      "source": [
        "#f_income_over_80.get_best(method = 'sumsquare_error')"
      ],
      "metadata": {
        "id": "YP7YUFoe5roh"
      },
      "execution_count": null,
      "outputs": []
    },
    {
      "cell_type": "markdown",
      "source": [
        "## CONCLUSION: MODELS FOR AGE GROUPS WERE FOUND:   \n",
        "1) Annual Income under 40,000  \n",
        "\n",
        "2) Annual Income between 40,000 and 80,000  \n",
        "\n",
        "3) LOG(Annual Income between 40,000 and 80,000)   "
      ],
      "metadata": {
        "id": "qzM6c7Ez6F5S"
      }
    },
    {
      "cell_type": "code",
      "source": [
        "# include best models"
      ],
      "metadata": {
        "id": "WqAjnZITvtSc"
      },
      "execution_count": null,
      "outputs": []
    },
    {
      "cell_type": "markdown",
      "source": [
        "\n",
        "LET'S NOW DIVIDE THE GROUPS DIFFERENTLY AND TRUNCATE, HONESTLY.... AND REFORM GROUPS"
      ],
      "metadata": {
        "id": "Mv44WjLI_vpa"
      }
    },
    {
      "cell_type": "markdown",
      "source": [
        "## Let's divide income differently into 2 groups and truncate the rest   \n",
        "Group 1: LOG(under 40,000)   \n",
        "Group 2: LOG(between 40,000 and 90,000)"
      ],
      "metadata": {
        "id": "rJHJZiQE8mMw"
      }
    },
    {
      "cell_type": "code",
      "source": [
        "under_40 = news.loc[news['Annual Income'] < 40000]\n",
        "between_40_90 = news.loc[news['Annual Income'].between(40000, 90000, 'both')]\n",
        "\n",
        "sns.displot(under_40['Annual Income'], bins=4)\n",
        "sns.displot(between_40_90['Annual Income'])"
      ],
      "metadata": {
        "colab": {
          "base_uri": "https://localhost:8080/",
          "height": 738
        },
        "id": "Pj82VCq-9iv5",
        "outputId": "4e9162d0-0140-44a6-951e-a3eab27cc2e4"
      },
      "execution_count": null,
      "outputs": [
        {
          "output_type": "execute_result",
          "data": {
            "text/plain": [
              "<seaborn.axisgrid.FacetGrid at 0x7f203e3ffd50>"
            ]
          },
          "metadata": {},
          "execution_count": 37
        },
        {
          "output_type": "display_data",
          "data": {
            "text/plain": [
              "<Figure size 360x360 with 1 Axes>"
            ],
            "image/png": "[encoded data removed]"
          },
          "metadata": {
            "needs_background": "light"
          }
        },
        {
          "output_type": "display_data",
          "data": {
            "text/plain": [
              "<Figure size 360x360 with 1 Axes>"
            ],
            "image/png": "[encoded data removed]"
          },
          "metadata": {
            "needs_background": "light"
          }
        }
      ]
    },
    {
      "cell_type": "markdown",
      "source": [
        "Does log transformation help?"
      ],
      "metadata": {
        "id": "jKf1nqGV9z5k"
      }
    },
    {
      "cell_type": "code",
      "source": [
        "under_40_log = np.log(under_40['Annual Income'])\n",
        "sns.displot(data=under_40_log, bins=4)\n",
        "\n",
        "between_40_90_log = np.log(between_40_90['Annual Income'])\n",
        "sns.displot(data=between_40_90_log)"
      ],
      "metadata": {
        "colab": {
          "base_uri": "https://localhost:8080/",
          "height": 738
        },
        "id": "GWKpCFCR8uXe",
        "outputId": "bf253973-6636-4831-9813-f3a4e80e3c33"
      },
      "execution_count": null,
      "outputs": [
        {
          "output_type": "execute_result",
          "data": {
            "text/plain": [
              "<seaborn.axisgrid.FacetGrid at 0x7f203d76b490>"
            ]
          },
          "metadata": {},
          "execution_count": 38
        },
        {
          "output_type": "display_data",
          "data": {
            "text/plain": [
              "<Figure size 360x360 with 1 Axes>"
            ],
            "image/png": "[encoded data removed]"
          },
          "metadata": {
            "needs_background": "light"
          }
        },
        {
          "output_type": "display_data",
          "data": {
            "text/plain": [
              "<Figure size 360x360 with 1 Axes>"
            ],
            "image/png": "[encoded data removed]"
          },
          "metadata": {
            "needs_background": "light"
          }
        }
      ]
    },
    {
      "cell_type": "markdown",
      "source": [
        "Yes it does.   \n",
        "## Conclusion: truncating the income variable at 90,000 for outliers higher than this value creates a better distribution."
      ],
      "metadata": {
        "id": "52aqxWhf9A6-"
      }
    },
    {
      "cell_type": "markdown",
      "source": [
        "Let's get a model -- LOG(Annual Income under 40,000)"
      ],
      "metadata": {
        "id": "AYHKWPTZ-IVN"
      }
    },
    {
      "cell_type": "code",
      "source": [
        "from fitter import Fitter, get_common_distributions, get_distributions\n",
        "income_under_40_log = under_40_log.values\n",
        "f_income_under_40_log = Fitter(income_under_40_log,\n",
        "           distributions=['gamma',\n",
        "                          'lognorm',\n",
        "                          \"beta\",\n",
        "                          \"burr\",\n",
        "                          \"norm\"], bins=8)\n",
        "f_income_under_40_log.fit()\n",
        "f_income_under_40_log.summary()"
      ],
      "metadata": {
        "colab": {
          "base_uri": "https://localhost:8080/",
          "height": 526
        },
        "id": "mzxT8LXr808c",
        "outputId": "86d7a1dd-de9a-4a07-d969-65dab60a6f5d"
      },
      "execution_count": null,
      "outputs": [
        {
          "output_type": "stream",
          "name": "stderr",
          "text": [
            "Fitting 5 distributions:  20%|██        | 1/5 [00:00<00:01,  3.81it/s]WARNING:root:SKIPPED beta distribution (taking more than 30 seconds)\n",
            "Fitting 5 distributions: 100%|██████████| 5/5 [00:00<00:00,  8.12it/s]\n",
            "WARNING:fitter.fitter:beta was not fitted. no parameters available\n"
          ]
        },
        {
          "output_type": "execute_result",
          "data": {
            "text/plain": [
              "         sumsquare_error        aic        bic  kl_div  ks_statistic  \\\n",
              "burr            1.608318  31.280535 -81.834562     inf      0.348554   \n",
              "norm            2.447028  21.843631 -75.336103     inf      0.352437   \n",
              "lognorm         2.461049  23.711609 -71.687540     inf      0.356570   \n",
              "gamma           2.471165  23.651736 -71.556276     inf      0.359060   \n",
              "beta                 inf        inf        inf     inf           NaN   \n",
              "\n",
              "         ks_pvalue  \n",
              "burr      0.000559  \n",
              "norm      0.000464  \n",
              "lognorm   0.000380  \n",
              "gamma     0.000336  \n",
              "beta           NaN  "
            ],
            "text/html": [
              "\n",
              "  <div id=\"df-7391bc67-d0ff-41cc-8871-797eb0853786\">\n",
              "    <div class=\"colab-df-container\">\n",
              "      <div>\n",
              "<style scoped>\n",
              "    .dataframe tbody tr th:only-of-type {\n",
              "        vertical-align: middle;\n",
              "    }\n",
              "\n",
              "    .dataframe tbody tr th {\n",
              "        vertical-align: top;\n",
              "    }\n",
              "\n",
              "    .dataframe thead th {\n",
              "        text-align: right;\n",
              "    }\n",
              "</style>\n",
              "<table border=\"1\" class=\"dataframe\">\n",
              "  <thead>\n",
              "    <tr style=\"text-align: right;\">\n",
              "      <th></th>\n",
              "      <th>sumsquare_error</th>\n",
              "      <th>aic</th>\n",
              "      <th>bic</th>\n",
              "      <th>kl_div</th>\n",
              "      <th>ks_statistic</th>\n",
              "      <th>ks_pvalue</th>\n",
              "    </tr>\n",
              "  </thead>\n",
              "  <tbody>\n",
              "    <tr>\n",
              "      <th>burr</th>\n",
              "      <td>1.608318</td>\n",
              "      <td>31.280535</td>\n",
              "      <td>-81.834562</td>\n",
              "      <td>inf</td>\n",
              "      <td>0.348554</td>\n",
              "      <td>0.000559</td>\n",
              "    </tr>\n",
              "    <tr>\n",
              "      <th>norm</th>\n",
              "      <td>2.447028</td>\n",
              "      <td>21.843631</td>\n",
              "      <td>-75.336103</td>\n",
              "      <td>inf</td>\n",
              "      <td>0.352437</td>\n",
              "      <td>0.000464</td>\n",
              "    </tr>\n",
              "    <tr>\n",
              "      <th>lognorm</th>\n",
              "      <td>2.461049</td>\n",
              "      <td>23.711609</td>\n",
              "      <td>-71.687540</td>\n",
              "      <td>inf</td>\n",
              "      <td>0.356570</td>\n",
              "      <td>0.000380</td>\n",
              "    </tr>\n",
              "    <tr>\n",
              "      <th>gamma</th>\n",
              "      <td>2.471165</td>\n",
              "      <td>23.651736</td>\n",
              "      <td>-71.556276</td>\n",
              "      <td>inf</td>\n",
              "      <td>0.359060</td>\n",
              "      <td>0.000336</td>\n",
              "    </tr>\n",
              "    <tr>\n",
              "      <th>beta</th>\n",
              "      <td>inf</td>\n",
              "      <td>inf</td>\n",
              "      <td>inf</td>\n",
              "      <td>inf</td>\n",
              "      <td>NaN</td>\n",
              "      <td>NaN</td>\n",
              "    </tr>\n",
              "  </tbody>\n",
              "</table>\n",
              "</div>\n",
              "      <button class=\"colab-df-convert\" onclick=\"convertToInteractive('df-7391bc67-d0ff-41cc-8871-797eb0853786')\"\n",
              "              title=\"Convert this dataframe to an interactive table.\"\n",
              "              style=\"display:none;\">\n",
              "        \n",
              "  <svg xmlns=\"http://www.w3.org/2000/svg\" height=\"24px\"viewBox=\"0 0 24 24\"\n",
              "       width=\"24px\">\n",
              "    <path d=\"M0 0h24v24H0V0z\" fill=\"none\"/>\n",
              "    <path d=\"M18.56 5.44l.94 2.06.94-2.06 2.06-.94-2.06-.94-.94-2.06-.94 2.06-2.06.94zm-11 1L8.5 8.5l.94-2.06 2.06-.94-2.06-.94L8.5 2.5l-.94 2.06-2.06.94zm10 10l.94 2.06.94-2.06 2.06-.94-2.06-.94-.94-2.06-.94 2.06-2.06.94z\"/><path d=\"M17.41 7.96l-1.37-1.37c-.4-.4-.92-.59-1.43-.59-.52 0-1.04.2-1.43.59L10.3 9.45l-7.72 7.72c-.78.78-.78 2.05 0 2.83L4 21.41c.39.39.9.59 1.41.59.51 0 1.02-.2 1.41-.59l7.78-7.78 2.81-2.81c.8-.78.8-2.07 0-2.86zM5.41 20L4 18.59l7.72-7.72 1.47 1.35L5.41 20z\"/>\n",
              "  </svg>\n",
              "      </button>\n",
              "      \n",
              "  <style>\n",
              "    .colab-df-container {\n",
              "      display:flex;\n",
              "      flex-wrap:wrap;\n",
              "      gap: 12px;\n",
              "    }\n",
              "\n",
              "    .colab-df-convert {\n",
              "      background-color: #E8F0FE;\n",
              "      border: none;\n",
              "      border-radius: 50%;\n",
              "      cursor: pointer;\n",
              "      display: none;\n",
              "      fill: #1967D2;\n",
              "      height: 32px;\n",
              "      padding: 0 0 0 0;\n",
              "      width: 32px;\n",
              "    }\n",
              "\n",
              "    .colab-df-convert:hover {\n",
              "      background-color: #E2EBFA;\n",
              "      box-shadow: 0px 1px 2px rgba(60, 64, 67, 0.3), 0px 1px 3px 1px rgba(60, 64, 67, 0.15);\n",
              "      fill: #174EA6;\n",
              "    }\n",
              "\n",
              "    [theme=dark] .colab-df-convert {\n",
              "      background-color: #3B4455;\n",
              "      fill: #D2E3FC;\n",
              "    }\n",
              "\n",
              "    [theme=dark] .colab-df-convert:hover {\n",
              "      background-color: #434B5C;\n",
              "      box-shadow: 0px 1px 3px 1px rgba(0, 0, 0, 0.15);\n",
              "      filter: drop-shadow(0px 1px 2px rgba(0, 0, 0, 0.3));\n",
              "      fill: #FFFFFF;\n",
              "    }\n",
              "  </style>\n",
              "\n",
              "      <script>\n",
              "        const buttonEl =\n",
              "          document.querySelector('#df-7391bc67-d0ff-41cc-8871-797eb0853786 button.colab-df-convert');\n",
              "        buttonEl.style.display =\n",
              "          google.colab.kernel.accessAllowed ? 'block' : 'none';\n",
              "\n",
              "        async function convertToInteractive(key) {\n",
              "          const element = document.querySelector('#df-7391bc67-d0ff-41cc-8871-797eb0853786');\n",
              "          const dataTable =\n",
              "            await google.colab.kernel.invokeFunction('convertToInteractive',\n",
              "                                                     [key], {});\n",
              "          if (!dataTable) return;\n",
              "\n",
              "          const docLinkHtml = 'Like what you see? Visit the ' +\n",
              "            '<a target=\"_blank\" href=https://colab.research.google.com/notebooks/data_table.ipynb>data table notebook</a>'\n",
              "            + ' to learn more about interactive tables.';\n",
              "          element.innerHTML = '';\n",
              "          dataTable['output_type'] = 'display_data';\n",
              "          await google.colab.output.renderOutput(dataTable, element);\n",
              "          const docLink = document.createElement('div');\n",
              "          docLink.innerHTML = docLinkHtml;\n",
              "          element.appendChild(docLink);\n",
              "        }\n",
              "      </script>\n",
              "    </div>\n",
              "  </div>\n",
              "  "
            ]
          },
          "metadata": {},
          "execution_count": 39
        },
        {
          "output_type": "display_data",
          "data": {
            "text/plain": [
              "<Figure size 432x288 with 1 Axes>"
            ],
            "image/png": "[encoded data removed]"
          },
          "metadata": {
            "needs_background": "light"
          }
        }
      ]
    },
    {
      "cell_type": "code",
      "source": [
        "f_income_under_40_log.get_best(method = 'aic')"
      ],
      "metadata": {
        "id": "8pqpiJ98_Rmh",
        "colab": {
          "base_uri": "https://localhost:8080/"
        },
        "outputId": "57772649-05b4-49d6-b290-6a6213d1835e"
      },
      "execution_count": null,
      "outputs": [
        {
          "output_type": "execute_result",
          "data": {
            "text/plain": [
              "{'norm': {'loc': 9.201917344945679, 'scale': 0.38679369533503555}}"
            ]
          },
          "metadata": {},
          "execution_count": 40
        }
      ]
    },
    {
      "cell_type": "markdown",
      "source": [
        "LOG(between 40,000 and 90,000)"
      ],
      "metadata": {
        "id": "ADulLDsy-jnR"
      }
    },
    {
      "cell_type": "code",
      "source": [
        "from fitter import Fitter, get_common_distributions, get_distributions\n",
        "income_between_40_90 = between_40_90_log.values\n",
        "f_income_between_40_90 = Fitter(income_between_40_90 ,\n",
        "           distributions=['gamma',\n",
        "                          'lognorm',\n",
        "                          \"beta\",\n",
        "                          \"burr\",\n",
        "                          \"norm\"], bins=9)\n",
        "f_income_between_40_90.fit()\n",
        "f_income_between_40_90.summary()"
      ],
      "metadata": {
        "colab": {
          "base_uri": "https://localhost:8080/",
          "height": 472
        },
        "id": "Chq947P680_D",
        "outputId": "4f59b6f5-1f65-4dbf-c731-4c1005aa4b2c"
      },
      "execution_count": null,
      "outputs": [
        {
          "output_type": "stream",
          "name": "stderr",
          "text": [
            "Fitting 5 distributions: 100%|██████████| 5/5 [00:00<00:00,  6.14it/s]\n"
          ]
        },
        {
          "output_type": "execute_result",
          "data": {
            "text/plain": [
              "         sumsquare_error       aic         bic    kl_div  ks_statistic  \\\n",
              "gamma           3.313308  5.167405 -123.967729  0.063474      0.179251   \n",
              "lognorm         3.338257  5.337875 -123.592639  0.064889      0.175421   \n",
              "burr            3.584656  6.712158 -116.119933  0.064181      0.201211   \n",
              "norm            3.679293  4.140710 -122.641070  0.076626      0.148915   \n",
              "beta           14.045943  9.687901  -47.836377  0.416780      0.378191   \n",
              "\n",
              "            ks_pvalue  \n",
              "gamma    7.070703e-02  \n",
              "lognorm  8.131429e-02  \n",
              "burr     2.990207e-02  \n",
              "norm     1.967019e-01  \n",
              "beta     6.180609e-07  "
            ],
            "text/html": [
              "\n",
              "  <div id=\"df-2b075c9c-f089-4f3d-bf6b-5f6483d6fdf0\">\n",
              "    <div class=\"colab-df-container\">\n",
              "      <div>\n",
              "<style scoped>\n",
              "    .dataframe tbody tr th:only-of-type {\n",
              "        vertical-align: middle;\n",
              "    }\n",
              "\n",
              "    .dataframe tbody tr th {\n",
              "        vertical-align: top;\n",
              "    }\n",
              "\n",
              "    .dataframe thead th {\n",
              "        text-align: right;\n",
              "    }\n",
              "</style>\n",
              "<table border=\"1\" class=\"dataframe\">\n",
              "  <thead>\n",
              "    <tr style=\"text-align: right;\">\n",
              "      <th></th>\n",
              "      <th>sumsquare_error</th>\n",
              "      <th>aic</th>\n",
              "      <th>bic</th>\n",
              "      <th>kl_div</th>\n",
              "      <th>ks_statistic</th>\n",
              "      <th>ks_pvalue</th>\n",
              "    </tr>\n",
              "  </thead>\n",
              "  <tbody>\n",
              "    <tr>\n",
              "      <th>gamma</th>\n",
              "      <td>3.313308</td>\n",
              "      <td>5.167405</td>\n",
              "      <td>-123.967729</td>\n",
              "      <td>0.063474</td>\n",
              "      <td>0.179251</td>\n",
              "      <td>7.070703e-02</td>\n",
              "    </tr>\n",
              "    <tr>\n",
              "      <th>lognorm</th>\n",
              "      <td>3.338257</td>\n",
              "      <td>5.337875</td>\n",
              "      <td>-123.592639</td>\n",
              "      <td>0.064889</td>\n",
              "      <td>0.175421</td>\n",
              "      <td>8.131429e-02</td>\n",
              "    </tr>\n",
              "    <tr>\n",
              "      <th>burr</th>\n",
              "      <td>3.584656</td>\n",
              "      <td>6.712158</td>\n",
              "      <td>-116.119933</td>\n",
              "      <td>0.064181</td>\n",
              "      <td>0.201211</td>\n",
              "      <td>2.990207e-02</td>\n",
              "    </tr>\n",
              "    <tr>\n",
              "      <th>norm</th>\n",
              "      <td>3.679293</td>\n",
              "      <td>4.140710</td>\n",
              "      <td>-122.641070</td>\n",
              "      <td>0.076626</td>\n",
              "      <td>0.148915</td>\n",
              "      <td>1.967019e-01</td>\n",
              "    </tr>\n",
              "    <tr>\n",
              "      <th>beta</th>\n",
              "      <td>14.045943</td>\n",
              "      <td>9.687901</td>\n",
              "      <td>-47.836377</td>\n",
              "      <td>0.416780</td>\n",
              "      <td>0.378191</td>\n",
              "      <td>6.180609e-07</td>\n",
              "    </tr>\n",
              "  </tbody>\n",
              "</table>\n",
              "</div>\n",
              "      <button class=\"colab-df-convert\" onclick=\"convertToInteractive('df-2b075c9c-f089-4f3d-bf6b-5f6483d6fdf0')\"\n",
              "              title=\"Convert this dataframe to an interactive table.\"\n",
              "              style=\"display:none;\">\n",
              "        \n",
              "  <svg xmlns=\"http://www.w3.org/2000/svg\" height=\"24px\"viewBox=\"0 0 24 24\"\n",
              "       width=\"24px\">\n",
              "    <path d=\"M0 0h24v24H0V0z\" fill=\"none\"/>\n",
              "    <path d=\"M18.56 5.44l.94 2.06.94-2.06 2.06-.94-2.06-.94-.94-2.06-.94 2.06-2.06.94zm-11 1L8.5 8.5l.94-2.06 2.06-.94-2.06-.94L8.5 2.5l-.94 2.06-2.06.94zm10 10l.94 2.06.94-2.06 2.06-.94-2.06-.94-.94-2.06-.94 2.06-2.06.94z\"/><path d=\"M17.41 7.96l-1.37-1.37c-.4-.4-.92-.59-1.43-.59-.52 0-1.04.2-1.43.59L10.3 9.45l-7.72 7.72c-.78.78-.78 2.05 0 2.83L4 21.41c.39.39.9.59 1.41.59.51 0 1.02-.2 1.41-.59l7.78-7.78 2.81-2.81c.8-.78.8-2.07 0-2.86zM5.41 20L4 18.59l7.72-7.72 1.47 1.35L5.41 20z\"/>\n",
              "  </svg>\n",
              "      </button>\n",
              "      \n",
              "  <style>\n",
              "    .colab-df-container {\n",
              "      display:flex;\n",
              "      flex-wrap:wrap;\n",
              "      gap: 12px;\n",
              "    }\n",
              "\n",
              "    .colab-df-convert {\n",
              "      background-color: #E8F0FE;\n",
              "      border: none;\n",
              "      border-radius: 50%;\n",
              "      cursor: pointer;\n",
              "      display: none;\n",
              "      fill: #1967D2;\n",
              "      height: 32px;\n",
              "      padding: 0 0 0 0;\n",
              "      width: 32px;\n",
              "    }\n",
              "\n",
              "    .colab-df-convert:hover {\n",
              "      background-color: #E2EBFA;\n",
              "      box-shadow: 0px 1px 2px rgba(60, 64, 67, 0.3), 0px 1px 3px 1px rgba(60, 64, 67, 0.15);\n",
              "      fill: #174EA6;\n",
              "    }\n",
              "\n",
              "    [theme=dark] .colab-df-convert {\n",
              "      background-color: #3B4455;\n",
              "      fill: #D2E3FC;\n",
              "    }\n",
              "\n",
              "    [theme=dark] .colab-df-convert:hover {\n",
              "      background-color: #434B5C;\n",
              "      box-shadow: 0px 1px 3px 1px rgba(0, 0, 0, 0.15);\n",
              "      filter: drop-shadow(0px 1px 2px rgba(0, 0, 0, 0.3));\n",
              "      fill: #FFFFFF;\n",
              "    }\n",
              "  </style>\n",
              "\n",
              "      <script>\n",
              "        const buttonEl =\n",
              "          document.querySelector('#df-2b075c9c-f089-4f3d-bf6b-5f6483d6fdf0 button.colab-df-convert');\n",
              "        buttonEl.style.display =\n",
              "          google.colab.kernel.accessAllowed ? 'block' : 'none';\n",
              "\n",
              "        async function convertToInteractive(key) {\n",
              "          const element = document.querySelector('#df-2b075c9c-f089-4f3d-bf6b-5f6483d6fdf0');\n",
              "          const dataTable =\n",
              "            await google.colab.kernel.invokeFunction('convertToInteractive',\n",
              "                                                     [key], {});\n",
              "          if (!dataTable) return;\n",
              "\n",
              "          const docLinkHtml = 'Like what you see? Visit the ' +\n",
              "            '<a target=\"_blank\" href=https://colab.research.google.com/notebooks/data_table.ipynb>data table notebook</a>'\n",
              "            + ' to learn more about interactive tables.';\n",
              "          element.innerHTML = '';\n",
              "          dataTable['output_type'] = 'display_data';\n",
              "          await google.colab.output.renderOutput(dataTable, element);\n",
              "          const docLink = document.createElement('div');\n",
              "          docLink.innerHTML = docLinkHtml;\n",
              "          element.appendChild(docLink);\n",
              "        }\n",
              "      </script>\n",
              "    </div>\n",
              "  </div>\n",
              "  "
            ]
          },
          "metadata": {},
          "execution_count": 41
        },
        {
          "output_type": "display_data",
          "data": {
            "text/plain": [
              "<Figure size 432x288 with 1 Axes>"
            ],
            "image/png": "[encoded data removed]"
          },
          "metadata": {
            "needs_background": "light"
          }
        }
      ]
    },
    {
      "cell_type": "code",
      "source": [
        "# best model for this same group of data"
      ],
      "metadata": {
        "id": "WMmYMMhSwRsI"
      },
      "execution_count": null,
      "outputs": []
    },
    {
      "cell_type": "code",
      "source": [
        "f_income_between_40_90.get_best(method = 'aic')"
      ],
      "metadata": {
        "colab": {
          "base_uri": "https://localhost:8080/"
        },
        "id": "tkQsAMWn_WtY",
        "outputId": "c2b93568-886e-43f4-ef02-d22d58f4f14f"
      },
      "execution_count": null,
      "outputs": [
        {
          "output_type": "execute_result",
          "data": {
            "text/plain": [
              "{'norm': {'loc': 10.974411409462045, 'scale': 0.1594850164574259}}"
            ]
          },
          "metadata": {},
          "execution_count": 43
        }
      ]
    },
    {
      "cell_type": "markdown",
      "source": [
        "## TRUNCATING ANNUAL INCOME TO STOP AT 90,000 IS WAY BETTER FOR THE AIC AND DISTRIBUTION for the second subpopulation!!"
      ],
      "metadata": {
        "id": "ikABiTMK-8bQ"
      }
    },
    {
      "cell_type": "markdown",
      "source": [
        "## CONCLUSION: Models for the following group distributions were found: \n",
        "1: LOG(under 40,000)   \n",
        "2: LOG(between 40,000 and 90,000) -- the model for this group of data (norm) has the lowest AIC out of other models that fit this group of data"
      ],
      "metadata": {
        "id": "zi0XTgB9AOpX"
      }
    },
    {
      "cell_type": "markdown",
      "source": [
        "## FINAL CONCLUSION: And in total we have found models for the following distributions for ANNUAL INCOME:\n",
        "1. Annual Income under 40,000 -- BAD\n",
        "\n",
        "\n",
        "> best model: burr with 180.35\n",
        "\n",
        "\n",
        "2. Annual Income between 40,000 and 80,000 -- BAD\n",
        "\n",
        "\n",
        "> best model: norm with 219.14\n",
        "\n",
        "\n",
        "3. LOG(Annual Income between 40,000 and 80,000) -- BEST\n",
        "\n",
        "\n",
        "> best model: norm with AIC -2.12\n",
        "\n",
        "\n",
        "4. LOG(under 40,000) -- FINE\n",
        "\n",
        "\n",
        "> best model: norm with AIC 21.84\n",
        "\n",
        "\n",
        "5. LOG(between 40,000 and 90,000) -- GOOD\n",
        "\n",
        "\n",
        "> best model: norm with AIC 4.14\n",
        "\n"
      ],
      "metadata": {
        "id": "33Ey-IihAzBT"
      }
    },
    {
      "cell_type": "code",
      "source": [
        "# only compare aics for the same groups"
      ],
      "metadata": {
        "id": "FmA3W0ZGx5Xq"
      },
      "execution_count": null,
      "outputs": []
    },
    {
      "cell_type": "code",
      "source": [],
      "metadata": {
        "id": "NpxT2_cZ_EC0"
      },
      "execution_count": null,
      "outputs": []
    },
    {
      "cell_type": "code",
      "source": [],
      "metadata": {
        "id": "wXCg6Ng58Vj1"
      },
      "execution_count": null,
      "outputs": []
    },
    {
      "cell_type": "markdown",
      "source": [
        "## Hypothesis tests -- STATISTICAL INFERENCE"
      ],
      "metadata": {
        "id": "bFq2sqAhJ3Qe"
      }
    },
    {
      "cell_type": "markdown",
      "source": [
        "## Statistical Inference of one variable  \n",
        "\n",
        "\n",
        "\n"
      ],
      "metadata": {
        "id": "f7DeRitpJxJH"
      }
    },
    {
      "cell_type": "markdown",
      "source": [
        "## NUM_RELIABLE  \n",
        "According to the news given in https://www.pewresearch.org/journalism/2019/03/26/americans-give-fairly-high-marks-to-their-local-news-media-especially-when-journalists-are-seen-as-connected-to-the-community/, about 71% of adult Americans think that the media reports news accurately. However, it is known that people usually only trust 1 or none of the sources listed out of 4 if 2 are left leaning and 2 are right leaning. (This is different from the number of sources they agree with). So, using data from the survey, I will perform a hypothesis test to see if there is statistical evidence that the true population mean for the variable NUM_RELIABLE is equal to an expected value 1.  \n",
        "  \n",
        "   If the p-value is smaller than alpha, we can reject the test with a level of significance alpha.   \n",
        "     \n",
        "  **Note: We are able to use a t-test here because of the CENTRAL LIMIT THEOREM which states that if the sample size is large enough, the sample distribution of the MEAN will always be normally distributed or APPROACH A NORMAL DISTRIBUTION. Regardless of whether the population has a normal, Poisson, binomial, or any other distribution, the sampling distribution of the mean will be normal [1].**"
      ],
      "metadata": {
        "id": "lW4URGjzv9W5"
      }
    },
    {
      "cell_type": "code",
      "source": [
        "news[['num_reliable']].agg([np.mean,np.std]).round(2)"
      ],
      "metadata": {
        "colab": {
          "base_uri": "https://localhost:8080/",
          "height": 112
        },
        "id": "yFNBwodHnSKx",
        "outputId": "f46dccfe-b524-4b88-db49-d64a34716d2e"
      },
      "execution_count": null,
      "outputs": [
        {
          "output_type": "execute_result",
          "data": {
            "text/plain": [
              "      num_reliable\n",
              "mean          1.85\n",
              "std           1.24"
            ],
            "text/html": [
              "\n",
              "  <div id=\"df-4d5a2d5a-4a87-4ad4-8ac8-a802774d58e6\">\n",
              "    <div class=\"colab-df-container\">\n",
              "      <div>\n",
              "<style scoped>\n",
              "    .dataframe tbody tr th:only-of-type {\n",
              "        vertical-align: middle;\n",
              "    }\n",
              "\n",
              "    .dataframe tbody tr th {\n",
              "        vertical-align: top;\n",
              "    }\n",
              "\n",
              "    .dataframe thead th {\n",
              "        text-align: right;\n",
              "    }\n",
              "</style>\n",
              "<table border=\"1\" class=\"dataframe\">\n",
              "  <thead>\n",
              "    <tr style=\"text-align: right;\">\n",
              "      <th></th>\n",
              "      <th>num_reliable</th>\n",
              "    </tr>\n",
              "  </thead>\n",
              "  <tbody>\n",
              "    <tr>\n",
              "      <th>mean</th>\n",
              "      <td>1.85</td>\n",
              "    </tr>\n",
              "    <tr>\n",
              "      <th>std</th>\n",
              "      <td>1.24</td>\n",
              "    </tr>\n",
              "  </tbody>\n",
              "</table>\n",
              "</div>\n",
              "      <button class=\"colab-df-convert\" onclick=\"convertToInteractive('df-4d5a2d5a-4a87-4ad4-8ac8-a802774d58e6')\"\n",
              "              title=\"Convert this dataframe to an interactive table.\"\n",
              "              style=\"display:none;\">\n",
              "        \n",
              "  <svg xmlns=\"http://www.w3.org/2000/svg\" height=\"24px\"viewBox=\"0 0 24 24\"\n",
              "       width=\"24px\">\n",
              "    <path d=\"M0 0h24v24H0V0z\" fill=\"none\"/>\n",
              "    <path d=\"M18.56 5.44l.94 2.06.94-2.06 2.06-.94-2.06-.94-.94-2.06-.94 2.06-2.06.94zm-11 1L8.5 8.5l.94-2.06 2.06-.94-2.06-.94L8.5 2.5l-.94 2.06-2.06.94zm10 10l.94 2.06.94-2.06 2.06-.94-2.06-.94-.94-2.06-.94 2.06-2.06.94z\"/><path d=\"M17.41 7.96l-1.37-1.37c-.4-.4-.92-.59-1.43-.59-.52 0-1.04.2-1.43.59L10.3 9.45l-7.72 7.72c-.78.78-.78 2.05 0 2.83L4 21.41c.39.39.9.59 1.41.59.51 0 1.02-.2 1.41-.59l7.78-7.78 2.81-2.81c.8-.78.8-2.07 0-2.86zM5.41 20L4 18.59l7.72-7.72 1.47 1.35L5.41 20z\"/>\n",
              "  </svg>\n",
              "      </button>\n",
              "      \n",
              "  <style>\n",
              "    .colab-df-container {\n",
              "      display:flex;\n",
              "      flex-wrap:wrap;\n",
              "      gap: 12px;\n",
              "    }\n",
              "\n",
              "    .colab-df-convert {\n",
              "      background-color: #E8F0FE;\n",
              "      border: none;\n",
              "      border-radius: 50%;\n",
              "      cursor: pointer;\n",
              "      display: none;\n",
              "      fill: #1967D2;\n",
              "      height: 32px;\n",
              "      padding: 0 0 0 0;\n",
              "      width: 32px;\n",
              "    }\n",
              "\n",
              "    .colab-df-convert:hover {\n",
              "      background-color: #E2EBFA;\n",
              "      box-shadow: 0px 1px 2px rgba(60, 64, 67, 0.3), 0px 1px 3px 1px rgba(60, 64, 67, 0.15);\n",
              "      fill: #174EA6;\n",
              "    }\n",
              "\n",
              "    [theme=dark] .colab-df-convert {\n",
              "      background-color: #3B4455;\n",
              "      fill: #D2E3FC;\n",
              "    }\n",
              "\n",
              "    [theme=dark] .colab-df-convert:hover {\n",
              "      background-color: #434B5C;\n",
              "      box-shadow: 0px 1px 3px 1px rgba(0, 0, 0, 0.15);\n",
              "      filter: drop-shadow(0px 1px 2px rgba(0, 0, 0, 0.3));\n",
              "      fill: #FFFFFF;\n",
              "    }\n",
              "  </style>\n",
              "\n",
              "      <script>\n",
              "        const buttonEl =\n",
              "          document.querySelector('#df-4d5a2d5a-4a87-4ad4-8ac8-a802774d58e6 button.colab-df-convert');\n",
              "        buttonEl.style.display =\n",
              "          google.colab.kernel.accessAllowed ? 'block' : 'none';\n",
              "\n",
              "        async function convertToInteractive(key) {\n",
              "          const element = document.querySelector('#df-4d5a2d5a-4a87-4ad4-8ac8-a802774d58e6');\n",
              "          const dataTable =\n",
              "            await google.colab.kernel.invokeFunction('convertToInteractive',\n",
              "                                                     [key], {});\n",
              "          if (!dataTable) return;\n",
              "\n",
              "          const docLinkHtml = 'Like what you see? Visit the ' +\n",
              "            '<a target=\"_blank\" href=https://colab.research.google.com/notebooks/data_table.ipynb>data table notebook</a>'\n",
              "            + ' to learn more about interactive tables.';\n",
              "          element.innerHTML = '';\n",
              "          dataTable['output_type'] = 'display_data';\n",
              "          await google.colab.output.renderOutput(dataTable, element);\n",
              "          const docLink = document.createElement('div');\n",
              "          docLink.innerHTML = docLinkHtml;\n",
              "          element.appendChild(docLink);\n",
              "        }\n",
              "      </script>\n",
              "    </div>\n",
              "  </div>\n",
              "  "
            ]
          },
          "metadata": {},
          "execution_count": 45
        }
      ]
    },
    {
      "cell_type": "markdown",
      "source": [
        "We now examine the true population mean, which in the real world is 1, because out of 4 sources (two right leaning and two left leaning), people on average tend to trust only 1 OR 0.  \n",
        "We are interested in rejecting the null hypothesis and finding statistical evidence for the alternative."
      ],
      "metadata": {
        "id": "P2VCU3TUZg7F"
      }
    },
    {
      "cell_type": "markdown",
      "source": [
        "In our sample, on average, people trust 1.85 sources listed.   \n",
        "\n",
        "This is half the number of sources listed in the survey. **We form several hypotheses.**   \n",
        "\n",
        "\n",
        "> **Hypothesis 0:** True population mean is equal to the hypothesized mean of 1:   \n",
        "**POPULATION MEAN MU (num_reliable_sources) = 1**\n",
        "\n",
        "\n",
        "> **Hypothesis 1:** True population mean is less than the hypothesized mean of 1:  \n",
        "**POPULATION MEAN MU (num_reliable_sources) < 1**   \n",
        "\n",
        "> **Hypothesis 2:** True population mean is greater than the hypothesized population mean:   \n",
        "**POPULATION MEAN MU (num_reliable_sources) > 1**  "
      ],
      "metadata": {
        "id": "soT7wUMpGuFz"
      }
    },
    {
      "cell_type": "markdown",
      "source": [
        "The sample t-test formula is:\n"
      ],
      "metadata": {
        "id": "L5GivUl4bo96"
      }
    },
    {
      "cell_type": "markdown",
      "source": [
        "![image.png](data:image/png;base64,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)"
      ],
      "metadata": {
        "id": "43dUwYtObk9c"
      }
    },
    {
      "cell_type": "markdown",
      "source": [
        "and follows approximately a t-distribution with n-1 degrees of freedom. x bar is the sample mean, u is the known mean, s is the sample standard deviation (an estimate of the population standard deviation), and n is the sample size.     \n",
        "  \n",
        "  Our t test also calculates a confidence interval for mu, the true (unknown) population mean, for which the formula is:"
      ],
      "metadata": {
        "id": "oL-9W2ODbsUY"
      }
    },
    {
      "cell_type": "markdown",
      "source": [
        "![image.png](data:image/png;base64,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)"
      ],
      "metadata": {
        "id": "4x3rXt5BcTxf"
      }
    },
    {
      "cell_type": "markdown",
      "source": [
        "## Hypothesis 0 and Hypothesis 1"
      ],
      "metadata": {
        "id": "LoyorvVj56L3"
      }
    },
    {
      "cell_type": "code",
      "source": [
        "# We are testing if the true means are different than the values we obtain from the news."
      ],
      "metadata": {
        "id": "jWQH-0mhHHOr"
      },
      "execution_count": null,
      "outputs": []
    },
    {
      "cell_type": "code",
      "source": [
        "# This is a test for the null hypothesis that the expected value (hypothesized mean) of a sample of \n",
        "# independent observations a is equal to the given (true, unknown) population mean, popmean."
      ],
      "metadata": {
        "id": "8JvIHg7nGNEu"
      },
      "execution_count": null,
      "outputs": []
    },
    {
      "cell_type": "code",
      "source": [
        "# is the true population mean equal to the expected value of 1?\n",
        "a = news['num_reliable'].to_numpy()\n",
        "stats.ttest_1samp(a=a, popmean=1, alternative='less') # defines the alternative hypothesis"
      ],
      "metadata": {
        "colab": {
          "base_uri": "https://localhost:8080/"
        },
        "id": "tyLkrGNAPBvx",
        "outputId": "a7668b40-2836-48b7-a026-46a28c4d7b82"
      },
      "execution_count": null,
      "outputs": [
        {
          "output_type": "execute_result",
          "data": {
            "text/plain": [
              "Ttest_1sampResult(statistic=6.378252182095851, pvalue=0.9999999956763631)"
            ]
          },
          "metadata": {},
          "execution_count": 48
        }
      ]
    },
    {
      "cell_type": "markdown",
      "source": [
        "The test is not significant. We can not reject Hypothesis 0. This also does not mean that Hypothesis 0 is true."
      ],
      "metadata": {
        "id": "VFVQMU7TIMc2"
      }
    },
    {
      "cell_type": "markdown",
      "source": [
        "## Hypothesis 0 and 2"
      ],
      "metadata": {
        "id": "IbaKpHDs6dGP"
      }
    },
    {
      "cell_type": "code",
      "source": [
        "# is the true population mean equal to the expected value of 1\n",
        "a = news['num_reliable'].to_numpy()\n",
        "stats.ttest_1samp(a=a, popmean=1, alternative='greater') # alternative hypothesis: greater"
      ],
      "metadata": {
        "colab": {
          "base_uri": "https://localhost:8080/"
        },
        "id": "lmDcP9F36hYw",
        "outputId": "d48cf1f6-3e99-44c6-c5d9-1b4afe66c93f"
      },
      "execution_count": null,
      "outputs": [
        {
          "output_type": "execute_result",
          "data": {
            "text/plain": [
              "Ttest_1sampResult(statistic=6.378252182095851, pvalue=4.323636951486357e-09)"
            ]
          },
          "metadata": {},
          "execution_count": 49
        }
      ]
    },
    {
      "cell_type": "markdown",
      "source": [
        "**Conclusion:**  \n",
        "\n",
        "The first test is not significant but the second test is significant. We have p < 0.05, so when comparing H_2 and H_0, we can reject the Hypothesis 0. This implies that the mean of the true population is NOT equal to the expected value of 1. HYPOTHESIS 2 IS TRUE. The true population mean is greater than the expected value 1."
      ],
      "metadata": {
        "id": "xEB25_hYQMlZ"
      }
    },
    {
      "cell_type": "markdown",
      "source": [
        "**Confidence Intervals** : Also, we see a confidence interval for the mean of this variable should be between 1.58 and 2.11. This is NOT the actual variable or its distribution. But we can conclude that 95% of samples will produce an interval that contains the true value. In other words, 95% of intervals will contain the true value."
      ],
      "metadata": {
        "id": "yJU1_yV9kT5t"
      }
    },
    {
      "cell_type": "code",
      "source": [
        "res = stat()\n",
        "res.ttest(df=news, test_type=1, res='num_reliable', mu=1)\n",
        "print(res.summary)"
      ],
      "metadata": {
        "colab": {
          "base_uri": "https://localhost:8080/"
        },
        "id": "AV5C5oD1tOHU",
        "outputId": "edf262bb-6175-4dba-c1ff-8c0b1cb68623"
      },
      "execution_count": null,
      "outputs": [
        {
          "output_type": "stream",
          "name": "stdout",
          "text": [
            "\n",
            "One Sample t-test \n",
            "\n",
            "------------------  ------------\n",
            "Sample size         87\n",
            "Mean                 1.85057\n",
            "t                    6.37825\n",
            "Df                  86\n",
            "p value (one-tail)   4.32364e-09\n",
            "p value (two-tail)   8.64727e-09\n",
            "Lower 95.0%          1.58547\n",
            "Upper 95.0%          2.11568\n",
            "------------------  ------------\n"
          ]
        }
      ]
    },
    {
      "cell_type": "markdown",
      "source": [
        "## ANNUAL INCOME "
      ],
      "metadata": {
        "id": "UgazbnwNf_Oe"
      }
    },
    {
      "cell_type": "code",
      "source": [
        "sns.displot(news['Annual Income'])"
      ],
      "metadata": {
        "colab": {
          "base_uri": "https://localhost:8080/",
          "height": 386
        },
        "id": "tnfyyBr1f8qR",
        "outputId": "d70120c7-83a6-4e5a-a6cc-2352c8cabb53"
      },
      "execution_count": null,
      "outputs": [
        {
          "output_type": "execute_result",
          "data": {
            "text/plain": [
              "<seaborn.axisgrid.FacetGrid at 0x7f203aaee650>"
            ]
          },
          "metadata": {},
          "execution_count": 51
        },
        {
          "output_type": "display_data",
          "data": {
            "text/plain": [
              "<Figure size 360x360 with 1 Axes>"
            ],
            "image/png": "[encoded data removed]"
          },
          "metadata": {
            "needs_background": "light"
          }
        }
      ]
    },
    {
      "cell_type": "markdown",
      "source": [
        "It was NOT POSSIBLE to find research on income level and media trust directly (and surprisingly). The only thing I did find was the comparison between higher (or lower) education and trust in the news. Higher education is related to higher income, but they do not always imply each other. Later in the multivariate analysis, I am using this relationship between higher/lower education and trust in the media to explore a possible relationship between income and trust in the media.\n",
        "  \n",
        "According to the news given in https://www.pewresearch.org/journalism/2019/12/12/factors-beyond-party-affiliation-also-connect-with-trust-in-the-news-media/, an average of about 33% of people with at least a college degree (more education) say they trust the news (verses 17% of those with some college or less) [3].\n",
        "   \n",
        "   Here though, using data from the survey, I will perform a hypothesis test to see if there is statistical evidence that the true population mean (unknown) ANNUAL INCOME is equal to the hypothesized mean for ANNUAL INCOME for adults in the US: $54,132."
      ],
      "metadata": {
        "id": "X29oYdRTLME3"
      }
    },
    {
      "cell_type": "code",
      "source": [],
      "metadata": {
        "id": "fNRDc5w1u3Qk"
      },
      "execution_count": null,
      "outputs": []
    },
    {
      "cell_type": "markdown",
      "source": [
        "We form 3 hypotheses:"
      ],
      "metadata": {
        "id": "KspPMt2PHP5_"
      }
    },
    {
      "cell_type": "markdown",
      "source": [
        "> **Hypothesis 0:**   \n",
        "Population mean is equal to the hypothesized mean of 54132:   \n",
        "**POPULATION MEAN MU (Annual Income) = 54132**\n",
        "\n",
        "\n",
        "\n",
        "> **Hypothesis 1:**   \n",
        "Population mean is less than the hypothesized mean of 54132:   \n",
        "**POPULATION MEAN MU (Annual Income) < 54132**\n",
        "\n",
        "\n",
        "\n",
        "> \n",
        "> **Hypothesis 2:**   \n",
        "Population mean is greater than the hypothesized mean of 54132:   \n",
        "**POPULATION MEAN MU (Annual Income) > 54132**\n",
        "\n",
        "\n"
      ],
      "metadata": {
        "id": "61Oa1ZueUdkF"
      }
    },
    {
      "cell_type": "code",
      "source": [
        "news[['Annual Income']].agg([np.mean,np.std]).round(2)"
      ],
      "metadata": {
        "id": "foNhsrnYL4KW",
        "colab": {
          "base_uri": "https://localhost:8080/",
          "height": 112
        },
        "outputId": "5d3d5647-3f34-4a2f-8c0d-4bd29c46ea58"
      },
      "execution_count": null,
      "outputs": [
        {
          "output_type": "execute_result",
          "data": {
            "text/plain": [
              "      Annual Income\n",
              "mean       44965.52\n",
              "std        31099.78"
            ],
            "text/html": [
              "\n",
              "  <div id=\"df-56550f80-5838-4ae4-bc37-ab7a01b818ae\">\n",
              "    <div class=\"colab-df-container\">\n",
              "      <div>\n",
              "<style scoped>\n",
              "    .dataframe tbody tr th:only-of-type {\n",
              "        vertical-align: middle;\n",
              "    }\n",
              "\n",
              "    .dataframe tbody tr th {\n",
              "        vertical-align: top;\n",
              "    }\n",
              "\n",
              "    .dataframe thead th {\n",
              "        text-align: right;\n",
              "    }\n",
              "</style>\n",
              "<table border=\"1\" class=\"dataframe\">\n",
              "  <thead>\n",
              "    <tr style=\"text-align: right;\">\n",
              "      <th></th>\n",
              "      <th>Annual Income</th>\n",
              "    </tr>\n",
              "  </thead>\n",
              "  <tbody>\n",
              "    <tr>\n",
              "      <th>mean</th>\n",
              "      <td>44965.52</td>\n",
              "    </tr>\n",
              "    <tr>\n",
              "      <th>std</th>\n",
              "      <td>31099.78</td>\n",
              "    </tr>\n",
              "  </tbody>\n",
              "</table>\n",
              "</div>\n",
              "      <button class=\"colab-df-convert\" onclick=\"convertToInteractive('df-56550f80-5838-4ae4-bc37-ab7a01b818ae')\"\n",
              "              title=\"Convert this dataframe to an interactive table.\"\n",
              "              style=\"display:none;\">\n",
              "        \n",
              "  <svg xmlns=\"http://www.w3.org/2000/svg\" height=\"24px\"viewBox=\"0 0 24 24\"\n",
              "       width=\"24px\">\n",
              "    <path d=\"M0 0h24v24H0V0z\" fill=\"none\"/>\n",
              "    <path d=\"M18.56 5.44l.94 2.06.94-2.06 2.06-.94-2.06-.94-.94-2.06-.94 2.06-2.06.94zm-11 1L8.5 8.5l.94-2.06 2.06-.94-2.06-.94L8.5 2.5l-.94 2.06-2.06.94zm10 10l.94 2.06.94-2.06 2.06-.94-2.06-.94-.94-2.06-.94 2.06-2.06.94z\"/><path d=\"M17.41 7.96l-1.37-1.37c-.4-.4-.92-.59-1.43-.59-.52 0-1.04.2-1.43.59L10.3 9.45l-7.72 7.72c-.78.78-.78 2.05 0 2.83L4 21.41c.39.39.9.59 1.41.59.51 0 1.02-.2 1.41-.59l7.78-7.78 2.81-2.81c.8-.78.8-2.07 0-2.86zM5.41 20L4 18.59l7.72-7.72 1.47 1.35L5.41 20z\"/>\n",
              "  </svg>\n",
              "      </button>\n",
              "      \n",
              "  <style>\n",
              "    .colab-df-container {\n",
              "      display:flex;\n",
              "      flex-wrap:wrap;\n",
              "      gap: 12px;\n",
              "    }\n",
              "\n",
              "    .colab-df-convert {\n",
              "      background-color: #E8F0FE;\n",
              "      border: none;\n",
              "      border-radius: 50%;\n",
              "      cursor: pointer;\n",
              "      display: none;\n",
              "      fill: #1967D2;\n",
              "      height: 32px;\n",
              "      padding: 0 0 0 0;\n",
              "      width: 32px;\n",
              "    }\n",
              "\n",
              "    .colab-df-convert:hover {\n",
              "      background-color: #E2EBFA;\n",
              "      box-shadow: 0px 1px 2px rgba(60, 64, 67, 0.3), 0px 1px 3px 1px rgba(60, 64, 67, 0.15);\n",
              "      fill: #174EA6;\n",
              "    }\n",
              "\n",
              "    [theme=dark] .colab-df-convert {\n",
              "      background-color: #3B4455;\n",
              "      fill: #D2E3FC;\n",
              "    }\n",
              "\n",
              "    [theme=dark] .colab-df-convert:hover {\n",
              "      background-color: #434B5C;\n",
              "      box-shadow: 0px 1px 3px 1px rgba(0, 0, 0, 0.15);\n",
              "      filter: drop-shadow(0px 1px 2px rgba(0, 0, 0, 0.3));\n",
              "      fill: #FFFFFF;\n",
              "    }\n",
              "  </style>\n",
              "\n",
              "      <script>\n",
              "        const buttonEl =\n",
              "          document.querySelector('#df-56550f80-5838-4ae4-bc37-ab7a01b818ae button.colab-df-convert');\n",
              "        buttonEl.style.display =\n",
              "          google.colab.kernel.accessAllowed ? 'block' : 'none';\n",
              "\n",
              "        async function convertToInteractive(key) {\n",
              "          const element = document.querySelector('#df-56550f80-5838-4ae4-bc37-ab7a01b818ae');\n",
              "          const dataTable =\n",
              "            await google.colab.kernel.invokeFunction('convertToInteractive',\n",
              "                                                     [key], {});\n",
              "          if (!dataTable) return;\n",
              "\n",
              "          const docLinkHtml = 'Like what you see? Visit the ' +\n",
              "            '<a target=\"_blank\" href=https://colab.research.google.com/notebooks/data_table.ipynb>data table notebook</a>'\n",
              "            + ' to learn more about interactive tables.';\n",
              "          element.innerHTML = '';\n",
              "          dataTable['output_type'] = 'display_data';\n",
              "          await google.colab.output.renderOutput(dataTable, element);\n",
              "          const docLink = document.createElement('div');\n",
              "          docLink.innerHTML = docLinkHtml;\n",
              "          element.appendChild(docLink);\n",
              "        }\n",
              "      </script>\n",
              "    </div>\n",
              "  </div>\n",
              "  "
            ]
          },
          "metadata": {},
          "execution_count": 52
        }
      ]
    },
    {
      "cell_type": "markdown",
      "source": [
        "## Hypothesis 0 and 1"
      ],
      "metadata": {
        "id": "y57dJ5r7unq4"
      }
    },
    {
      "cell_type": "code",
      "source": [
        "# is the true population mean equal to the expected value?\n",
        "a = news['Annual Income'].to_numpy()\n",
        "stats.ttest_1samp(a=a, popmean=54132, alternative='less')"
      ],
      "metadata": {
        "colab": {
          "base_uri": "https://localhost:8080/"
        },
        "id": "zqs0U0_dA5ed",
        "outputId": "8c0e9433-3913-4cbe-ffd5-9ee5b3717724"
      },
      "execution_count": null,
      "outputs": [
        {
          "output_type": "execute_result",
          "data": {
            "text/plain": [
              "Ttest_1sampResult(statistic=-2.749191550582362, pvalue=0.0036401082704117455)"
            ]
          },
          "metadata": {},
          "execution_count": 53
        }
      ]
    },
    {
      "cell_type": "markdown",
      "source": [
        "Okay, the test is significant. It looks like we can reject the null hypothesis. The true population mean is NOT equal to the expected value of 54,132. Because we can reject Hypothesis 0, this implies Hypothesis 1 WHEN COMPARING H0 anad H1."
      ],
      "metadata": {
        "id": "I1yOlQAWA8yp"
      }
    },
    {
      "cell_type": "markdown",
      "source": [
        "## Hypothesis 0 and 2"
      ],
      "metadata": {
        "id": "RYOTd1_Ju4Pq"
      }
    },
    {
      "cell_type": "code",
      "source": [
        "# is the true population mean equal to the expected value for the mean?\n",
        "a = news['Annual Income'].to_numpy()\n",
        "stats.ttest_1samp(a=a, popmean=54132, alternative='greater')"
      ],
      "metadata": {
        "colab": {
          "base_uri": "https://localhost:8080/"
        },
        "id": "2HfnEPVzT4CU",
        "outputId": "026ff370-a12f-4bfc-bd61-210ba3a7e75c"
      },
      "execution_count": null,
      "outputs": [
        {
          "output_type": "execute_result",
          "data": {
            "text/plain": [
              "Ttest_1sampResult(statistic=-2.749191550582362, pvalue=0.9963598917295883)"
            ]
          },
          "metadata": {},
          "execution_count": 54
        }
      ]
    },
    {
      "cell_type": "markdown",
      "source": [
        "The test is not significant, so we can not say anything when comparing Hypothesis 0 and 2.\n",
        "\n",
        "\n"
      ],
      "metadata": {
        "id": "v6T6OYGluSZA"
      }
    },
    {
      "cell_type": "markdown",
      "source": [
        "**CONCLUSION:** **Hypohesis 1 is valid. The true population mean is something less than the expected value of 54132.**"
      ],
      "metadata": {
        "id": "XfITzdgkv07v"
      }
    },
    {
      "cell_type": "code",
      "source": [
        "res = stat()\n",
        "res.ttest(df=news, test_type=1, res='Annual Income', mu=54132)\n",
        "print(res.summary)"
      ],
      "metadata": {
        "colab": {
          "base_uri": "https://localhost:8080/"
        },
        "id": "qbYBmgITVgIU",
        "outputId": "0e532aea-daaf-44ea-8eb4-d0aa9b1b65a3"
      },
      "execution_count": null,
      "outputs": [
        {
          "output_type": "stream",
          "name": "stdout",
          "text": [
            "\n",
            "One Sample t-test \n",
            "\n",
            "------------------  --------------\n",
            "Sample size            87\n",
            "Mean                44965.5\n",
            "t                      -2.74919\n",
            "Df                     86\n",
            "p value (one-tail)      0.00364011\n",
            "p value (two-tail)      0.00728022\n",
            "Lower 95.0%         38337.3\n",
            "Upper 95.0%         51593.8\n",
            "------------------  --------------\n"
          ]
        }
      ]
    },
    {
      "cell_type": "markdown",
      "source": [
        "**Confidenece Interval:**  It appears that a confidence interval for the mean of this variable should be between about 38,337 USD and 51,593 USD, **meaning that 95% of samples will produce an interval that contains the true value. In other words, 95% of intervals will contain the true value.**"
      ],
      "metadata": {
        "id": "Y1nN8QGHUGUx"
      }
    },
    {
      "cell_type": "markdown",
      "source": [
        "## AGREE  \n",
        "According to the news given in https://www.pewresearch.org/fact-tank/2021/08/30/partisan-divides-in-media-trust-widen-driven-by-a-decline-among-republicans/, AND from what we know already, most people agree with 2 sources out of 4 listed if 2 are from the right and 2 are from the left.   \n",
        "  \n",
        "  Using data from the survey, I will perform a hypothesis test to see if there is statistical evidence that the true population mean is equal to or smaller than the hypothesized mean (expected value) for the variable AGREE.\n",
        "\n",
        "  We can do this because of the CENTRAL LIMIT THEOREM which states that if the sample size is large enough, the sample distribution of the MEAN will always be normally distributed or APPROACH A NORMAL DISTRIBUTION.\n",
        "  \n",
        "   If the p-value is smaller than alpha, we can reject the test with a level of significance alpha."
      ],
      "metadata": {
        "id": "1kEO9PmpBnY2"
      }
    },
    {
      "cell_type": "code",
      "source": [
        "news[['agree']].agg([np.mean,np.std]).round(2)"
      ],
      "metadata": {
        "colab": {
          "base_uri": "https://localhost:8080/",
          "height": 112
        },
        "id": "DjGRudD6W2fD",
        "outputId": "9f7e5a38-304e-4f8b-feb5-d194939a8291"
      },
      "execution_count": null,
      "outputs": [
        {
          "output_type": "execute_result",
          "data": {
            "text/plain": [
              "      agree\n",
              "mean   1.79\n",
              "std    1.18"
            ],
            "text/html": [
              "\n",
              "  <div id=\"df-6f026252-85f7-42a4-b8ad-047df377a443\">\n",
              "    <div class=\"colab-df-container\">\n",
              "      <div>\n",
              "<style scoped>\n",
              "    .dataframe tbody tr th:only-of-type {\n",
              "        vertical-align: middle;\n",
              "    }\n",
              "\n",
              "    .dataframe tbody tr th {\n",
              "        vertical-align: top;\n",
              "    }\n",
              "\n",
              "    .dataframe thead th {\n",
              "        text-align: right;\n",
              "    }\n",
              "</style>\n",
              "<table border=\"1\" class=\"dataframe\">\n",
              "  <thead>\n",
              "    <tr style=\"text-align: right;\">\n",
              "      <th></th>\n",
              "      <th>agree</th>\n",
              "    </tr>\n",
              "  </thead>\n",
              "  <tbody>\n",
              "    <tr>\n",
              "      <th>mean</th>\n",
              "      <td>1.79</td>\n",
              "    </tr>\n",
              "    <tr>\n",
              "      <th>std</th>\n",
              "      <td>1.18</td>\n",
              "    </tr>\n",
              "  </tbody>\n",
              "</table>\n",
              "</div>\n",
              "      <button class=\"colab-df-convert\" onclick=\"convertToInteractive('df-6f026252-85f7-42a4-b8ad-047df377a443')\"\n",
              "              title=\"Convert this dataframe to an interactive table.\"\n",
              "              style=\"display:none;\">\n",
              "        \n",
              "  <svg xmlns=\"http://www.w3.org/2000/svg\" height=\"24px\"viewBox=\"0 0 24 24\"\n",
              "       width=\"24px\">\n",
              "    <path d=\"M0 0h24v24H0V0z\" fill=\"none\"/>\n",
              "    <path d=\"M18.56 5.44l.94 2.06.94-2.06 2.06-.94-2.06-.94-.94-2.06-.94 2.06-2.06.94zm-11 1L8.5 8.5l.94-2.06 2.06-.94-2.06-.94L8.5 2.5l-.94 2.06-2.06.94zm10 10l.94 2.06.94-2.06 2.06-.94-2.06-.94-.94-2.06-.94 2.06-2.06.94z\"/><path d=\"M17.41 7.96l-1.37-1.37c-.4-.4-.92-.59-1.43-.59-.52 0-1.04.2-1.43.59L10.3 9.45l-7.72 7.72c-.78.78-.78 2.05 0 2.83L4 21.41c.39.39.9.59 1.41.59.51 0 1.02-.2 1.41-.59l7.78-7.78 2.81-2.81c.8-.78.8-2.07 0-2.86zM5.41 20L4 18.59l7.72-7.72 1.47 1.35L5.41 20z\"/>\n",
              "  </svg>\n",
              "      </button>\n",
              "      \n",
              "  <style>\n",
              "    .colab-df-container {\n",
              "      display:flex;\n",
              "      flex-wrap:wrap;\n",
              "      gap: 12px;\n",
              "    }\n",
              "\n",
              "    .colab-df-convert {\n",
              "      background-color: #E8F0FE;\n",
              "      border: none;\n",
              "      border-radius: 50%;\n",
              "      cursor: pointer;\n",
              "      display: none;\n",
              "      fill: #1967D2;\n",
              "      height: 32px;\n",
              "      padding: 0 0 0 0;\n",
              "      width: 32px;\n",
              "    }\n",
              "\n",
              "    .colab-df-convert:hover {\n",
              "      background-color: #E2EBFA;\n",
              "      box-shadow: 0px 1px 2px rgba(60, 64, 67, 0.3), 0px 1px 3px 1px rgba(60, 64, 67, 0.15);\n",
              "      fill: #174EA6;\n",
              "    }\n",
              "\n",
              "    [theme=dark] .colab-df-convert {\n",
              "      background-color: #3B4455;\n",
              "      fill: #D2E3FC;\n",
              "    }\n",
              "\n",
              "    [theme=dark] .colab-df-convert:hover {\n",
              "      background-color: #434B5C;\n",
              "      box-shadow: 0px 1px 3px 1px rgba(0, 0, 0, 0.15);\n",
              "      filter: drop-shadow(0px 1px 2px rgba(0, 0, 0, 0.3));\n",
              "      fill: #FFFFFF;\n",
              "    }\n",
              "  </style>\n",
              "\n",
              "      <script>\n",
              "        const buttonEl =\n",
              "          document.querySelector('#df-6f026252-85f7-42a4-b8ad-047df377a443 button.colab-df-convert');\n",
              "        buttonEl.style.display =\n",
              "          google.colab.kernel.accessAllowed ? 'block' : 'none';\n",
              "\n",
              "        async function convertToInteractive(key) {\n",
              "          const element = document.querySelector('#df-6f026252-85f7-42a4-b8ad-047df377a443');\n",
              "          const dataTable =\n",
              "            await google.colab.kernel.invokeFunction('convertToInteractive',\n",
              "                                                     [key], {});\n",
              "          if (!dataTable) return;\n",
              "\n",
              "          const docLinkHtml = 'Like what you see? Visit the ' +\n",
              "            '<a target=\"_blank\" href=https://colab.research.google.com/notebooks/data_table.ipynb>data table notebook</a>'\n",
              "            + ' to learn more about interactive tables.';\n",
              "          element.innerHTML = '';\n",
              "          dataTable['output_type'] = 'display_data';\n",
              "          await google.colab.output.renderOutput(dataTable, element);\n",
              "          const docLink = document.createElement('div');\n",
              "          docLink.innerHTML = docLinkHtml;\n",
              "          element.appendChild(docLink);\n",
              "        }\n",
              "      </script>\n",
              "    </div>\n",
              "  </div>\n",
              "  "
            ]
          },
          "metadata": {},
          "execution_count": 56
        }
      ]
    },
    {
      "cell_type": "code",
      "source": [],
      "metadata": {
        "id": "JuoSZaSBLU0x"
      },
      "execution_count": null,
      "outputs": []
    },
    {
      "cell_type": "markdown",
      "source": [
        "In our sample, on average, people agree with 1.79 sources listed in the sample.   \n",
        "\n",
        "**We form two hypotheses.**   \n",
        "\n",
        "\n",
        "> **Hypothesis 0:** Population mean is equal to the hypothesized mean of 2:   \n",
        "**POPULATION MEAN MU (agree) = 2**\n",
        "\n",
        "\n",
        "\n",
        "\n",
        "> **Hypothesis 1:** Population mean is less than the hypothesized mean of 2:   \n",
        "**POPULATION MEAN MU (agree) < 2**  \n",
        "\n",
        "\n",
        ">**Hypothesis 2:** Population mean is greater than the hypothesized mean of 2:   \n",
        "**POPULATION MEAN MU (agree) > 2**\n",
        "\n"
      ],
      "metadata": {
        "id": "JGdJWNwtnMq0"
      }
    },
    {
      "cell_type": "markdown",
      "source": [
        "We examine the true population mean, which in the real world is 2, because out of 4 sources (two right leaning and two left leaning), people on average tend to AGREE with the 2 that align with their political options.  \n",
        "We are interested in rejecting the null hypothesis and finding statistical evidence for the alternative."
      ],
      "metadata": {
        "id": "8Z6wf0eXm715"
      }
    },
    {
      "cell_type": "markdown",
      "source": [
        "## Hypothesis 0 and 1"
      ],
      "metadata": {
        "id": "-fFbvZ7Qx66T"
      }
    },
    {
      "cell_type": "code",
      "source": [
        "# is the true population mean equal to the expected value for the mean of this variable?\n",
        "a = news['agree'].to_numpy()\n",
        "stats.ttest_1samp(a=a, popmean=2, alternative='less')"
      ],
      "metadata": {
        "colab": {
          "base_uri": "https://localhost:8080/"
        },
        "id": "ygrLUcXqx5XB",
        "outputId": "2654262c-d09a-459a-e9c2-09bf3273858e"
      },
      "execution_count": null,
      "outputs": [
        {
          "output_type": "execute_result",
          "data": {
            "text/plain": [
              "Ttest_1sampResult(statistic=-1.6318223054907808, pvalue=0.05318680118040103)"
            ]
          },
          "metadata": {},
          "execution_count": 57
        }
      ]
    },
    {
      "cell_type": "markdown",
      "source": [
        "P is exactly equal to 0.053. The test could be considered significant, or it could be ruled out. For now, we will consider it insignificant, since it is not quite equal to 0.05000. However, we may want to consider it significant, because when comparing H1 and H2, the test is not significant."
      ],
      "metadata": {
        "id": "Zd6zvS00zQrN"
      }
    },
    {
      "cell_type": "markdown",
      "source": [
        "# Hypothesis 1 and 2"
      ],
      "metadata": {
        "id": "_-SRPdFFy3ul"
      }
    },
    {
      "cell_type": "code",
      "source": [
        "# is the true population mean equal to the expected value ?\n",
        "a = news['agree'].to_numpy()\n",
        "stats.ttest_1samp(a=a, popmean=2, alternative='greater')"
      ],
      "metadata": {
        "colab": {
          "base_uri": "https://localhost:8080/"
        },
        "id": "FHDFTRaax5Zb",
        "outputId": "6bd7e00d-d0a5-4e53-f815-ebf0314ee4cf"
      },
      "execution_count": null,
      "outputs": [
        {
          "output_type": "execute_result",
          "data": {
            "text/plain": [
              "Ttest_1sampResult(statistic=-1.6318223054907808, pvalue=0.9468131988195989)"
            ]
          },
          "metadata": {},
          "execution_count": 58
        }
      ]
    },
    {
      "cell_type": "markdown",
      "source": [
        "The test is not significant. We can not reject Hypothesis 1, which also doesn't make it true either. We can not say anything about Hypothesis 2."
      ],
      "metadata": {
        "id": "-ou7C1olyAmp"
      }
    },
    {
      "cell_type": "code",
      "source": [
        "res = stat()\n",
        "res.ttest(df=news, test_type=1, res='agree', mu=2)\n",
        "print(res.summary)"
      ],
      "metadata": {
        "colab": {
          "base_uri": "https://localhost:8080/"
        },
        "id": "3JWLKAtxx5cc",
        "outputId": "21281296-3b80-441b-838e-f0ff0a7fdb41"
      },
      "execution_count": null,
      "outputs": [
        {
          "output_type": "stream",
          "name": "stdout",
          "text": [
            "\n",
            "One Sample t-test \n",
            "\n",
            "------------------  ----------\n",
            "Sample size         87\n",
            "Mean                 1.7931\n",
            "t                   -1.63182\n",
            "Df                  86\n",
            "p value (one-tail)   0.0531868\n",
            "p value (two-tail)   0.106374\n",
            "Lower 95.0%          1.54106\n",
            "Upper 95.0%          2.04515\n",
            "------------------  ----------\n"
          ]
        }
      ]
    },
    {
      "cell_type": "markdown",
      "source": [
        "**Confidence Interval:** An appropriate confidence interval for the mean of this variable is (1.54, 2.04). **meaning that 95% of samples will produce an interval that contains the true value. In other words, 95% of intervals will contain the true value.**"
      ],
      "metadata": {
        "id": "P-NaF5v7zwcs"
      }
    },
    {
      "cell_type": "markdown",
      "source": [
        "## AGE"
      ],
      "metadata": {
        "id": "V3Q_15ysXLu1"
      }
    },
    {
      "cell_type": "markdown",
      "source": [
        "According to the National Census Bureau, the average age in the US is 38.8 years old.\n",
        "  \n",
        "  Using data from the survey, I will perform a hypothesis test to see if there is statistical evidence that the true population mean is equal to he expected value for the mean AGE. We will assume that AGE, again, follows a normal distribution with unknown variance, just like we have for the last three variables.   \n",
        "\n",
        "  We can do this because of the CENTRAL LIMIT THEOREM which states that if the sample size is large enough, the sample distribution of the MEAN will always be normally distributed or APPROACH A NORMAL DISTRIBUTION.\n",
        "  \n",
        "  Again, if the p-value is smaller than alpha, we can reject the test with a level of significance alpha."
      ],
      "metadata": {
        "id": "f7iyYQx11Bmx"
      }
    },
    {
      "cell_type": "markdown",
      "source": [
        "** Hypothesis 0:** Population mean is equal to the hypothesized mean of 38.8:   \n",
        "**POPULATION MEAN MU (Age) = 38.8**  \n",
        "  \n",
        "  ** Hypothesis 1:** Population mean is less than the hypothesized mean of 38.8:   \n",
        "**POPULATION MEAN MU (Age) < 38.8**  \n",
        "  \n",
        "  ** Hypothesis 2:** Population mean is greater than the hypothesized mean of 38.8:   \n",
        "**POPULATION MEAN MU (Age) > 38.8**"
      ],
      "metadata": {
        "id": "mLC-odb-C_-8"
      }
    },
    {
      "cell_type": "code",
      "source": [
        "news[['Age']].agg([np.mean,np.std])"
      ],
      "metadata": {
        "id": "jKL4uM1m4hJk",
        "colab": {
          "base_uri": "https://localhost:8080/",
          "height": 112
        },
        "outputId": "71cca4a7-5132-4fa2-f803-b7ff6f47bf37"
      },
      "execution_count": null,
      "outputs": [
        {
          "output_type": "execute_result",
          "data": {
            "text/plain": [
              "            Age\n",
              "mean  31.241379\n",
              "std   15.731738"
            ],
            "text/html": [
              "\n",
              "  <div id=\"df-b1f9561e-b7bc-41b5-8460-cc6b06d5de20\">\n",
              "    <div class=\"colab-df-container\">\n",
              "      <div>\n",
              "<style scoped>\n",
              "    .dataframe tbody tr th:only-of-type {\n",
              "        vertical-align: middle;\n",
              "    }\n",
              "\n",
              "    .dataframe tbody tr th {\n",
              "        vertical-align: top;\n",
              "    }\n",
              "\n",
              "    .dataframe thead th {\n",
              "        text-align: right;\n",
              "    }\n",
              "</style>\n",
              "<table border=\"1\" class=\"dataframe\">\n",
              "  <thead>\n",
              "    <tr style=\"text-align: right;\">\n",
              "      <th></th>\n",
              "      <th>Age</th>\n",
              "    </tr>\n",
              "  </thead>\n",
              "  <tbody>\n",
              "    <tr>\n",
              "      <th>mean</th>\n",
              "      <td>31.241379</td>\n",
              "    </tr>\n",
              "    <tr>\n",
              "      <th>std</th>\n",
              "      <td>15.731738</td>\n",
              "    </tr>\n",
              "  </tbody>\n",
              "</table>\n",
              "</div>\n",
              "      <button class=\"colab-df-convert\" onclick=\"convertToInteractive('df-b1f9561e-b7bc-41b5-8460-cc6b06d5de20')\"\n",
              "              title=\"Convert this dataframe to an interactive table.\"\n",
              "              style=\"display:none;\">\n",
              "        \n",
              "  <svg xmlns=\"http://www.w3.org/2000/svg\" height=\"24px\"viewBox=\"0 0 24 24\"\n",
              "       width=\"24px\">\n",
              "    <path d=\"M0 0h24v24H0V0z\" fill=\"none\"/>\n",
              "    <path d=\"M18.56 5.44l.94 2.06.94-2.06 2.06-.94-2.06-.94-.94-2.06-.94 2.06-2.06.94zm-11 1L8.5 8.5l.94-2.06 2.06-.94-2.06-.94L8.5 2.5l-.94 2.06-2.06.94zm10 10l.94 2.06.94-2.06 2.06-.94-2.06-.94-.94-2.06-.94 2.06-2.06.94z\"/><path d=\"M17.41 7.96l-1.37-1.37c-.4-.4-.92-.59-1.43-.59-.52 0-1.04.2-1.43.59L10.3 9.45l-7.72 7.72c-.78.78-.78 2.05 0 2.83L4 21.41c.39.39.9.59 1.41.59.51 0 1.02-.2 1.41-.59l7.78-7.78 2.81-2.81c.8-.78.8-2.07 0-2.86zM5.41 20L4 18.59l7.72-7.72 1.47 1.35L5.41 20z\"/>\n",
              "  </svg>\n",
              "      </button>\n",
              "      \n",
              "  <style>\n",
              "    .colab-df-container {\n",
              "      display:flex;\n",
              "      flex-wrap:wrap;\n",
              "      gap: 12px;\n",
              "    }\n",
              "\n",
              "    .colab-df-convert {\n",
              "      background-color: #E8F0FE;\n",
              "      border: none;\n",
              "      border-radius: 50%;\n",
              "      cursor: pointer;\n",
              "      display: none;\n",
              "      fill: #1967D2;\n",
              "      height: 32px;\n",
              "      padding: 0 0 0 0;\n",
              "      width: 32px;\n",
              "    }\n",
              "\n",
              "    .colab-df-convert:hover {\n",
              "      background-color: #E2EBFA;\n",
              "      box-shadow: 0px 1px 2px rgba(60, 64, 67, 0.3), 0px 1px 3px 1px rgba(60, 64, 67, 0.15);\n",
              "      fill: #174EA6;\n",
              "    }\n",
              "\n",
              "    [theme=dark] .colab-df-convert {\n",
              "      background-color: #3B4455;\n",
              "      fill: #D2E3FC;\n",
              "    }\n",
              "\n",
              "    [theme=dark] .colab-df-convert:hover {\n",
              "      background-color: #434B5C;\n",
              "      box-shadow: 0px 1px 3px 1px rgba(0, 0, 0, 0.15);\n",
              "      filter: drop-shadow(0px 1px 2px rgba(0, 0, 0, 0.3));\n",
              "      fill: #FFFFFF;\n",
              "    }\n",
              "  </style>\n",
              "\n",
              "      <script>\n",
              "        const buttonEl =\n",
              "          document.querySelector('#df-b1f9561e-b7bc-41b5-8460-cc6b06d5de20 button.colab-df-convert');\n",
              "        buttonEl.style.display =\n",
              "          google.colab.kernel.accessAllowed ? 'block' : 'none';\n",
              "\n",
              "        async function convertToInteractive(key) {\n",
              "          const element = document.querySelector('#df-b1f9561e-b7bc-41b5-8460-cc6b06d5de20');\n",
              "          const dataTable =\n",
              "            await google.colab.kernel.invokeFunction('convertToInteractive',\n",
              "                                                     [key], {});\n",
              "          if (!dataTable) return;\n",
              "\n",
              "          const docLinkHtml = 'Like what you see? Visit the ' +\n",
              "            '<a target=\"_blank\" href=https://colab.research.google.com/notebooks/data_table.ipynb>data table notebook</a>'\n",
              "            + ' to learn more about interactive tables.';\n",
              "          element.innerHTML = '';\n",
              "          dataTable['output_type'] = 'display_data';\n",
              "          await google.colab.output.renderOutput(dataTable, element);\n",
              "          const docLink = document.createElement('div');\n",
              "          docLink.innerHTML = docLinkHtml;\n",
              "          element.appendChild(docLink);\n",
              "        }\n",
              "      </script>\n",
              "    </div>\n",
              "  </div>\n",
              "  "
            ]
          },
          "metadata": {},
          "execution_count": 60
        }
      ]
    },
    {
      "cell_type": "markdown",
      "source": [
        "## Hypothesis 0 and 1"
      ],
      "metadata": {
        "id": "Ihn14w_z2_yM"
      }
    },
    {
      "cell_type": "code",
      "source": [
        "# is the true population mean equal to the expected value for the mean of this variable?\n",
        "a = news['Age'].to_numpy()\n",
        "stats.ttest_1samp(a=a, popmean=38.8, alternative='less')"
      ],
      "metadata": {
        "colab": {
          "base_uri": "https://localhost:8080/"
        },
        "id": "nDMgQ8di1wZ3",
        "outputId": "5d4e684e-6dd2-4d59-f17d-a13402d3b64d"
      },
      "execution_count": null,
      "outputs": [
        {
          "output_type": "execute_result",
          "data": {
            "text/plain": [
              "Ttest_1sampResult(statistic=-4.481521479865284, pvalue=1.1355640190743495e-05)"
            ]
          },
          "metadata": {},
          "execution_count": 61
        }
      ]
    },
    {
      "cell_type": "markdown",
      "source": [
        "Okay, this test is definitely significant. We can reject Hypothesis 0 which implies Hypothesis 1. In other words, yes. The sample mean is less than the true population mean."
      ],
      "metadata": {
        "id": "1n0JPgBF2YHI"
      }
    },
    {
      "cell_type": "markdown",
      "source": [
        "## Hypothesis 0 and 2"
      ],
      "metadata": {
        "id": "TvzLL5lh3GFc"
      }
    },
    {
      "cell_type": "code",
      "source": [
        "a = news['Age'].to_numpy()\n",
        "stats.ttest_1samp(a=a, popmean=38.8, alternative='greater')"
      ],
      "metadata": {
        "colab": {
          "base_uri": "https://localhost:8080/"
        },
        "id": "CtjE2stz3I3v",
        "outputId": "d2505cce-4ce0-4efe-ca83-bbcf749b7d25"
      },
      "execution_count": null,
      "outputs": [
        {
          "output_type": "execute_result",
          "data": {
            "text/plain": [
              "Ttest_1sampResult(statistic=-4.481521479865284, pvalue=0.9999886443598093)"
            ]
          },
          "metadata": {},
          "execution_count": 62
        }
      ]
    },
    {
      "cell_type": "markdown",
      "source": [
        "This test is not significant."
      ],
      "metadata": {
        "id": "hK3PCP5022rt"
      }
    },
    {
      "cell_type": "markdown",
      "source": [
        "**Conclusion: Hypothesis 1 seems to be correct.**"
      ],
      "metadata": {
        "id": "g7qtodQQ3vQL"
      }
    },
    {
      "cell_type": "code",
      "source": [
        "res = stat()\n",
        "res.ttest(df=news, test_type=1, res='Age', mu=38.8)\n",
        "print(res.summary)"
      ],
      "metadata": {
        "colab": {
          "base_uri": "https://localhost:8080/"
        },
        "id": "jJkfgVxX31bj",
        "outputId": "c4dfd47a-2d4f-4806-dba0-4209af094251"
      },
      "execution_count": null,
      "outputs": [
        {
          "output_type": "stream",
          "name": "stdout",
          "text": [
            "\n",
            "One Sample t-test \n",
            "\n",
            "------------------  ------------\n",
            "Sample size         87\n",
            "Mean                31.2414\n",
            "t                   -4.48152\n",
            "Df                  86\n",
            "p value (one-tail)   1.13556e-05\n",
            "p value (two-tail)   2.27113e-05\n",
            "Lower 95.0%         27.8885\n",
            "Upper 95.0%         34.5943\n",
            "------------------  ------------\n"
          ]
        }
      ]
    },
    {
      "cell_type": "markdown",
      "source": [
        "**Confidence Interval:** So, 95% of samples will produce an interval that contains the true value. In other words, 95% of intervals will contain the true value. The true value of the true population mean for this variable (Age) will be found between 27.88 and 34.59 (?)."
      ],
      "metadata": {
        "id": "50WH1OFK3-mk"
      }
    },
    {
      "cell_type": "markdown",
      "source": [
        "## Hypothesis tests -- STATISTICAL INFERENCE"
      ],
      "metadata": {
        "id": "GnOEv4lRYLh2"
      }
    },
    {
      "cell_type": "markdown",
      "source": [
        "## Statistical Inference of two variables  \n"
      ],
      "metadata": {
        "id": "O5jD6pLhYOQ7"
      }
    },
    {
      "cell_type": "markdown",
      "source": [
        "**In this section I will explore the dependence between certain variables and the following questions:**  \n",
        "   \n",
        "1) Is Age related to Annual Income?  \n",
        "2) Is num_reliable related to Annual Income?  \n",
        "3) Does occupation influence trust?   \n",
        "4) Does occupation influence agreement?  \n",
        "5) Does occupation influence agreement with certain news channels? (occupation, Trusted Source)"
      ],
      "metadata": {
        "id": "okFJL6BKJ-us"
      }
    },
    {
      "cell_type": "markdown",
      "source": [
        "*Perform interesting hypothesis test based on two variables.   \n",
        " These can be different depending on yourdata.    \n",
        " For example, you may want to test if two categorical variables are related to one another.   \n",
        "  Oryou may want to compare if there are statistical differences in the mean of two (or more) populations.  \n",
        "  In case you have two paired continuous variables, you may want to test if there exist significant linearcorrelation between them.*"
      ],
      "metadata": {
        "id": "R8Li6dW9iHP_"
      }
    },
    {
      "cell_type": "markdown",
      "source": [
        "## Statistical Testing"
      ],
      "metadata": {
        "id": "96IrzzqJnyeS"
      }
    },
    {
      "cell_type": "markdown",
      "source": [
        "Inference methods for two qualitative variables:   \n",
        "\n",
        "contingency table  \n",
        "Chi-square distribution \n",
        "  \n",
        "    \n",
        "Methods for two quantitative (continous):  \n",
        "correlation  \n",
        "mean comparison  \n",
        "regression\n"
      ],
      "metadata": {
        "id": "YDQLNiYNw5V0"
      }
    },
    {
      "cell_type": "markdown",
      "source": [
        "## Two continuous variables"
      ],
      "metadata": {
        "id": "sA49Izm9CofA"
      }
    },
    {
      "cell_type": "markdown",
      "source": [
        "## 1) Is Age related to Annual Income ?"
      ],
      "metadata": {
        "id": "G3BU3SeI3m5H"
      }
    },
    {
      "cell_type": "markdown",
      "source": [
        "## Correlation\n",
        "Although a pearson correlation matrix only measures linear correlation, we will look at it here anyways because both of the variables are continuous:"
      ],
      "metadata": {
        "id": "Vz4heDDz5Mlg"
      }
    },
    {
      "cell_type": "code",
      "source": [
        "# choose two variables maybe age and income and perform a pearson correlation TEST"
      ],
      "metadata": {
        "id": "8SWjVITe17C2"
      },
      "execution_count": null,
      "outputs": []
    },
    {
      "cell_type": "code",
      "source": [
        "corrmat = news.corr(method='pearson')\n",
        "f,ax = plt.subplots(figsize=(5,4))\n",
        "sns.heatmap(corrmat, square=True)"
      ],
      "metadata": {
        "id": "_8CpUtDMKDpM",
        "colab": {
          "base_uri": "https://localhost:8080/",
          "height": 351
        },
        "outputId": "9a7c658c-6475-4c6d-9378-c0786f3592ae"
      },
      "execution_count": null,
      "outputs": [
        {
          "output_type": "execute_result",
          "data": {
            "text/plain": [
              "<matplotlib.axes._subplots.AxesSubplot at 0x7f203aa433d0>"
            ]
          },
          "metadata": {},
          "execution_count": 65
        },
        {
          "output_type": "display_data",
          "data": {
            "text/plain": [
              "<Figure size 360x288 with 2 Axes>"
            ],
            "image/png": "[encoded data removed]"
          },
          "metadata": {
            "needs_background": "light"
          }
        }
      ]
    },
    {
      "cell_type": "code",
      "source": [
        "# Is Age related to Annual Income\n",
        "x = news['Age']\n",
        "y = news['Annual Income']\n",
        "plt.scatter(x,y)\n",
        "plt.show()"
      ],
      "metadata": {
        "id": "PTHL2qbbt8ri",
        "colab": {
          "base_uri": "https://localhost:8080/",
          "height": 265
        },
        "outputId": "46d0eb02-e000-4aa2-cc44-afcd1f68a203"
      },
      "execution_count": null,
      "outputs": [
        {
          "output_type": "display_data",
          "data": {
            "text/plain": [
              "<Figure size 432x288 with 1 Axes>"
            ],
            "image/png": "[encoded data removed]"
          },
          "metadata": {
            "needs_background": "light"
          }
        }
      ]
    },
    {
      "cell_type": "code",
      "source": [
        "# check the log... could have a more linear relationship\n",
        "# a polynomial function"
      ],
      "metadata": {
        "id": "z2eICBfqydVf"
      },
      "execution_count": null,
      "outputs": []
    },
    {
      "cell_type": "code",
      "source": [
        "slope, intercept, r, p, std_error = stats.linregress(x,y)\n",
        "\n",
        "\n",
        "# get new values the represent where on the y axis the corresponding x value is placed\n",
        "def myfunc(x):\n",
        "  return slope * x + intercept\n",
        "\n",
        "# run each x through the funcion, will result in news array w/ new vals for y axis\n",
        "mymodel = list(map(myfunc, x))\n",
        "\n",
        "plt.scatter(x,y)\n",
        "plt.plot(x, mymodel) # draw regression line\n",
        "plt.show()"
      ],
      "metadata": {
        "colab": {
          "base_uri": "https://localhost:8080/",
          "height": 265
        },
        "id": "Am_q2cvXFsY3",
        "outputId": "c8d664b6-934c-4f64-d5dd-6eebb3d747a2"
      },
      "execution_count": null,
      "outputs": [
        {
          "output_type": "display_data",
          "data": {
            "text/plain": [
              "<Figure size 432x288 with 1 Axes>"
            ],
            "image/png": "[encoded data removed]"
          },
          "metadata": {
            "needs_background": "light"
          }
        }
      ]
    },
    {
      "cell_type": "code",
      "source": [
        "print(slope, intercept, r, p, std_error)"
      ],
      "metadata": {
        "colab": {
          "base_uri": "https://localhost:8080/"
        },
        "id": "0AHZdLBHGkXV",
        "outputId": "153cf0e7-90fa-4db1-a983-1eaa16eff8ea"
      },
      "execution_count": null,
      "outputs": [
        {
          "output_type": "stream",
          "name": "stdout",
          "text": [
            "1189.0530981767047 7817.858381100188 0.6014791717043076 7.238485924868574e-10 171.2999958791366\n"
          ]
        }
      ]
    },
    {
      "cell_type": "markdown",
      "source": [
        "Correlation coefficient r = 0.6 tells us that there is quite a relationship between these two variables, although there is also lots of variation. It's not perfect but indicates that we could use linear regression to predict future values, and that there is also a slightly linear upward trend between Age and Income."
      ],
      "metadata": {
        "id": "DRqjQJj0GtjK"
      }
    },
    {
      "cell_type": "markdown",
      "source": [
        "## One qualitative and one quantitative"
      ],
      "metadata": {
        "id": "sFdgOk1JHyP0"
      }
    },
    {
      "cell_type": "markdown",
      "source": [
        "ANOVA (Analysis of Variance) checks if the means of two or more groups are significantly different from each other. It checks the impact of one or more factors by comparing the means of different samples."
      ],
      "metadata": {
        "id": "T5w3ae4uH65p"
      }
    },
    {
      "cell_type": "markdown",
      "source": [
        "# 2) Is num_reliable related to Annual Income?\n",
        "\n",
        "\n"
      ],
      "metadata": {
        "id": "jVDCZJ5G3qvt"
      }
    },
    {
      "cell_type": "markdown",
      "source": [
        "IF THE MEAN OF THE INCOME IS DIFFERENT FOR THE NUMBER OF SOURCES YOUR REPLY ON. IN OTHER WORDS DOES INCOME AFFECT NUMBER OF RELIABLE SOURCES"
      ],
      "metadata": {
        "id": "ZbtyhuS05gRb"
      }
    },
    {
      "cell_type": "markdown",
      "source": [
        "  \n",
        "\n",
        "Use a one-way **ANOVA when you have collected data about one categorical independent variable and one quantitative dependent variable**. The independent variable should have at least three levels  \n",
        "  \n",
        "  RETURNS:  \n",
        "\n",
        ">   f1 score: ANOVA assumes the means of all groups are the same, calculates how much the actual means deviate from the assumption and reports it as the F-test score. A larger score means there is a larger difference between the means.\n",
        "\n",
        "> p-value: P-value tells how statistically significant our calculated score value is."
      ],
      "metadata": {
        "id": "3oh-w4y4JlLN"
      }
    },
    {
      "cell_type": "markdown",
      "source": [
        "Variance is the measurement of the spread between numbers in a variable. It measures how far a number is from the mean and every number in a variable.\n",
        "\n",
        "The **variance of a feature determines how much it is impacting the response variable. If the variance is low, it implies there is no impact of this feature on response** and vice-versa."
      ],
      "metadata": {
        "id": "ShJ2DEapKs2E"
      }
    },
    {
      "cell_type": "markdown",
      "source": [
        "One Way ANOVA tests the relationship between categorical predictor vs continuous response.  \n",
        "\n",
        "1. Here we will check whether there is equal variance between groups of categorical feature wrt continuous response.  \n",
        "\n",
        "2. If there is equal variance between groups, it means this feature has no impact on response and it can not be considered for model training."
      ],
      "metadata": {
        "id": "OG6F8GqyKx-e"
      }
    },
    {
      "cell_type": "markdown",
      "source": [
        "**Try an ANOVA test to examnie if the means of income of the different responses to num_reliable are different.**  \n",
        "> H0: All levels or groups in num_reliable have equal mean\n",
        "\n",
        "\n",
        "> H1: At least one group's mean is different."
      ],
      "metadata": {
        "id": "mUxuYLE3K6zD"
      }
    },
    {
      "cell_type": "code",
      "source": [
        "grouped = news[[\"num_reliable\", \"Annual Income\"]].groupby([\"num_reliable\"])\n",
        "grouped.head(2)"
      ],
      "metadata": {
        "colab": {
          "base_uri": "https://localhost:8080/",
          "height": 363
        },
        "id": "AiRgTUQGLVXM",
        "outputId": "d539c533-acb3-47d4-8607-3bfb28269aed"
      },
      "execution_count": null,
      "outputs": [
        {
          "output_type": "execute_result",
          "data": {
            "text/plain": [
              "    num_reliable  Annual Income\n",
              "0              2          10000\n",
              "1              3          15000\n",
              "2              2          10000\n",
              "3              0          60000\n",
              "6              0          55000\n",
              "7              4           4000\n",
              "9              1         120000\n",
              "11             3          90000\n",
              "17             1          50000\n",
              "28             4          65000"
            ],
            "text/html": [
              "\n",
              "  <div id=\"df-21d74268-ff82-4176-a139-516139d7654a\">\n",
              "    <div class=\"colab-df-container\">\n",
              "      <div>\n",
              "<style scoped>\n",
              "    .dataframe tbody tr th:only-of-type {\n",
              "        vertical-align: middle;\n",
              "    }\n",
              "\n",
              "    .dataframe tbody tr th {\n",
              "        vertical-align: top;\n",
              "    }\n",
              "\n",
              "    .dataframe thead th {\n",
              "        text-align: right;\n",
              "    }\n",
              "</style>\n",
              "<table border=\"1\" class=\"dataframe\">\n",
              "  <thead>\n",
              "    <tr style=\"text-align: right;\">\n",
              "      <th></th>\n",
              "      <th>num_reliable</th>\n",
              "      <th>Annual Income</th>\n",
              "    </tr>\n",
              "  </thead>\n",
              "  <tbody>\n",
              "    <tr>\n",
              "      <th>0</th>\n",
              "      <td>2</td>\n",
              "      <td>10000</td>\n",
              "    </tr>\n",
              "    <tr>\n",
              "      <th>1</th>\n",
              "      <td>3</td>\n",
              "      <td>15000</td>\n",
              "    </tr>\n",
              "    <tr>\n",
              "      <th>2</th>\n",
              "      <td>2</td>\n",
              "      <td>10000</td>\n",
              "    </tr>\n",
              "    <tr>\n",
              "      <th>3</th>\n",
              "      <td>0</td>\n",
              "      <td>60000</td>\n",
              "    </tr>\n",
              "    <tr>\n",
              "      <th>6</th>\n",
              "      <td>0</td>\n",
              "      <td>55000</td>\n",
              "    </tr>\n",
              "    <tr>\n",
              "      <th>7</th>\n",
              "      <td>4</td>\n",
              "      <td>4000</td>\n",
              "    </tr>\n",
              "    <tr>\n",
              "      <th>9</th>\n",
              "      <td>1</td>\n",
              "      <td>120000</td>\n",
              "    </tr>\n",
              "    <tr>\n",
              "      <th>11</th>\n",
              "      <td>3</td>\n",
              "      <td>90000</td>\n",
              "    </tr>\n",
              "    <tr>\n",
              "      <th>17</th>\n",
              "      <td>1</td>\n",
              "      <td>50000</td>\n",
              "    </tr>\n",
              "    <tr>\n",
              "      <th>28</th>\n",
              "      <td>4</td>\n",
              "      <td>65000</td>\n",
              "    </tr>\n",
              "  </tbody>\n",
              "</table>\n",
              "</div>\n",
              "      <button class=\"colab-df-convert\" onclick=\"convertToInteractive('df-21d74268-ff82-4176-a139-516139d7654a')\"\n",
              "              title=\"Convert this dataframe to an interactive table.\"\n",
              "              style=\"display:none;\">\n",
              "        \n",
              "  <svg xmlns=\"http://www.w3.org/2000/svg\" height=\"24px\"viewBox=\"0 0 24 24\"\n",
              "       width=\"24px\">\n",
              "    <path d=\"M0 0h24v24H0V0z\" fill=\"none\"/>\n",
              "    <path d=\"M18.56 5.44l.94 2.06.94-2.06 2.06-.94-2.06-.94-.94-2.06-.94 2.06-2.06.94zm-11 1L8.5 8.5l.94-2.06 2.06-.94-2.06-.94L8.5 2.5l-.94 2.06-2.06.94zm10 10l.94 2.06.94-2.06 2.06-.94-2.06-.94-.94-2.06-.94 2.06-2.06.94z\"/><path d=\"M17.41 7.96l-1.37-1.37c-.4-.4-.92-.59-1.43-.59-.52 0-1.04.2-1.43.59L10.3 9.45l-7.72 7.72c-.78.78-.78 2.05 0 2.83L4 21.41c.39.39.9.59 1.41.59.51 0 1.02-.2 1.41-.59l7.78-7.78 2.81-2.81c.8-.78.8-2.07 0-2.86zM5.41 20L4 18.59l7.72-7.72 1.47 1.35L5.41 20z\"/>\n",
              "  </svg>\n",
              "      </button>\n",
              "      \n",
              "  <style>\n",
              "    .colab-df-container {\n",
              "      display:flex;\n",
              "      flex-wrap:wrap;\n",
              "      gap: 12px;\n",
              "    }\n",
              "\n",
              "    .colab-df-convert {\n",
              "      background-color: #E8F0FE;\n",
              "      border: none;\n",
              "      border-radius: 50%;\n",
              "      cursor: pointer;\n",
              "      display: none;\n",
              "      fill: #1967D2;\n",
              "      height: 32px;\n",
              "      padding: 0 0 0 0;\n",
              "      width: 32px;\n",
              "    }\n",
              "\n",
              "    .colab-df-convert:hover {\n",
              "      background-color: #E2EBFA;\n",
              "      box-shadow: 0px 1px 2px rgba(60, 64, 67, 0.3), 0px 1px 3px 1px rgba(60, 64, 67, 0.15);\n",
              "      fill: #174EA6;\n",
              "    }\n",
              "\n",
              "    [theme=dark] .colab-df-convert {\n",
              "      background-color: #3B4455;\n",
              "      fill: #D2E3FC;\n",
              "    }\n",
              "\n",
              "    [theme=dark] .colab-df-convert:hover {\n",
              "      background-color: #434B5C;\n",
              "      box-shadow: 0px 1px 3px 1px rgba(0, 0, 0, 0.15);\n",
              "      filter: drop-shadow(0px 1px 2px rgba(0, 0, 0, 0.3));\n",
              "      fill: #FFFFFF;\n",
              "    }\n",
              "  </style>\n",
              "\n",
              "      <script>\n",
              "        const buttonEl =\n",
              "          document.querySelector('#df-21d74268-ff82-4176-a139-516139d7654a button.colab-df-convert');\n",
              "        buttonEl.style.display =\n",
              "          google.colab.kernel.accessAllowed ? 'block' : 'none';\n",
              "\n",
              "        async function convertToInteractive(key) {\n",
              "          const element = document.querySelector('#df-21d74268-ff82-4176-a139-516139d7654a');\n",
              "          const dataTable =\n",
              "            await google.colab.kernel.invokeFunction('convertToInteractive',\n",
              "                                                     [key], {});\n",
              "          if (!dataTable) return;\n",
              "\n",
              "          const docLinkHtml = 'Like what you see? Visit the ' +\n",
              "            '<a target=\"_blank\" href=https://colab.research.google.com/notebooks/data_table.ipynb>data table notebook</a>'\n",
              "            + ' to learn more about interactive tables.';\n",
              "          element.innerHTML = '';\n",
              "          dataTable['output_type'] = 'display_data';\n",
              "          await google.colab.output.renderOutput(dataTable, element);\n",
              "          const docLink = document.createElement('div');\n",
              "          docLink.innerHTML = docLinkHtml;\n",
              "          element.appendChild(docLink);\n",
              "        }\n",
              "      </script>\n",
              "    </div>\n",
              "  </div>\n",
              "  "
            ]
          },
          "metadata": {},
          "execution_count": 70
        }
      ]
    },
    {
      "cell_type": "code",
      "source": [
        "grouped.get_group(0)[\"Annual Income\"]"
      ],
      "metadata": {
        "colab": {
          "base_uri": "https://localhost:8080/"
        },
        "id": "EPtFnwtMLXW5",
        "outputId": "70926f8c-5b16-45fe-acc7-028946097e89"
      },
      "execution_count": null,
      "outputs": [
        {
          "output_type": "execute_result",
          "data": {
            "text/plain": [
              "3     60000\n",
              "6     55000\n",
              "10    55000\n",
              "13    10000\n",
              "14    11000\n",
              "15    23000\n",
              "22    10000\n",
              "35    65000\n",
              "40    10000\n",
              "44    60000\n",
              "47    12000\n",
              "57    11000\n",
              "65    50000\n",
              "68    10000\n",
              "69     5000\n",
              "70    60000\n",
              "76     5000\n",
              "84    10000\n",
              "Name: Annual Income, dtype: int64"
            ]
          },
          "metadata": {},
          "execution_count": 71
        }
      ]
    },
    {
      "cell_type": "code",
      "source": [
        "# include the box plot\n",
        "# include the ANOVA table"
      ],
      "metadata": {
        "id": "mtq_12T6z2ux"
      },
      "execution_count": null,
      "outputs": []
    },
    {
      "cell_type": "code",
      "source": [
        "# ANOVA\n",
        "from scipy.stats import f_oneway\n",
        "f_val, p_val = f_oneway(grouped.get_group(0)[\"Annual Income\"], \n",
        "                        grouped.get_group(1)[\"Annual Income\"], \n",
        "                        grouped.get_group(2)[\"Annual Income\"],\n",
        "                        grouped.get_group(3)[\"Annual Income\"],\n",
        "                        grouped.get_group(4)[\"Annual Income\"])\n",
        "print(\"ANOVA results: F=\", f_val, \", P=\", p_val)"
      ],
      "metadata": {
        "colab": {
          "base_uri": "https://localhost:8080/"
        },
        "id": "NZUfMHmSOEP6",
        "outputId": "5221f66f-eb06-4bf4-8b90-5a1642b6701f"
      },
      "execution_count": null,
      "outputs": [
        {
          "output_type": "stream",
          "name": "stdout",
          "text": [
            "ANOVA results: F= 2.3644394697420847 , P= 0.059654753414701896\n"
          ]
        }
      ]
    },
    {
      "cell_type": "markdown",
      "source": [
        "Our p value indicates that the test very close to significant. But we will consider it not, because p is not less than or equal to 0.05. It is actaully a bit more. So we can not reject the null hypothesis that all levels or groups in num_reliable have equal mean. This also doesn't mean that they do not."
      ],
      "metadata": {
        "id": "CeeKoYgXOUn2"
      }
    },
    {
      "cell_type": "markdown",
      "source": [
        "## COMPLETE ANOVA TABLE"
      ],
      "metadata": {
        "id": "DbWcrT3u0EeV"
      }
    },
    {
      "cell_type": "code",
      "source": [
        "import statsmodels.api as sm\n",
        "from statsmodels.formula.api import ols\n",
        "\n",
        "annual_income = news['Annual Income']\n",
        "model = ols('annual_income ~ C(num_reliable)', data=news).fit()\n",
        "aov_table = sm.stats.anova_lm(model, typ=2)\n",
        "aov_table"
      ],
      "metadata": {
        "colab": {
          "base_uri": "https://localhost:8080/",
          "height": 112
        },
        "id": "4L7gPeesBLHZ",
        "outputId": "2312d8f5-483d-4749-83aa-385266d4fd7e"
      },
      "execution_count": null,
      "outputs": [
        {
          "output_type": "execute_result",
          "data": {
            "text/plain": [
              "                       sum_sq    df         F    PR(>F)\n",
              "C(num_reliable)  8.601631e+09   4.0  2.364439  0.059655\n",
              "Residual         7.457727e+10  82.0       NaN       NaN"
            ],
            "text/html": [
              "\n",
              "  <div id=\"df-693ff954-0a89-420d-b2da-4efd3ab3a3e3\">\n",
              "    <div class=\"colab-df-container\">\n",
              "      <div>\n",
              "<style scoped>\n",
              "    .dataframe tbody tr th:only-of-type {\n",
              "        vertical-align: middle;\n",
              "    }\n",
              "\n",
              "    .dataframe tbody tr th {\n",
              "        vertical-align: top;\n",
              "    }\n",
              "\n",
              "    .dataframe thead th {\n",
              "        text-align: right;\n",
              "    }\n",
              "</style>\n",
              "<table border=\"1\" class=\"dataframe\">\n",
              "  <thead>\n",
              "    <tr style=\"text-align: right;\">\n",
              "      <th></th>\n",
              "      <th>sum_sq</th>\n",
              "      <th>df</th>\n",
              "      <th>F</th>\n",
              "      <th>PR(&gt;F)</th>\n",
              "    </tr>\n",
              "  </thead>\n",
              "  <tbody>\n",
              "    <tr>\n",
              "      <th>C(num_reliable)</th>\n",
              "      <td>8.601631e+09</td>\n",
              "      <td>4.0</td>\n",
              "      <td>2.364439</td>\n",
              "      <td>0.059655</td>\n",
              "    </tr>\n",
              "    <tr>\n",
              "      <th>Residual</th>\n",
              "      <td>7.457727e+10</td>\n",
              "      <td>82.0</td>\n",
              "      <td>NaN</td>\n",
              "      <td>NaN</td>\n",
              "    </tr>\n",
              "  </tbody>\n",
              "</table>\n",
              "</div>\n",
              "      <button class=\"colab-df-convert\" onclick=\"convertToInteractive('df-693ff954-0a89-420d-b2da-4efd3ab3a3e3')\"\n",
              "              title=\"Convert this dataframe to an interactive table.\"\n",
              "              style=\"display:none;\">\n",
              "        \n",
              "  <svg xmlns=\"http://www.w3.org/2000/svg\" height=\"24px\"viewBox=\"0 0 24 24\"\n",
              "       width=\"24px\">\n",
              "    <path d=\"M0 0h24v24H0V0z\" fill=\"none\"/>\n",
              "    <path d=\"M18.56 5.44l.94 2.06.94-2.06 2.06-.94-2.06-.94-.94-2.06-.94 2.06-2.06.94zm-11 1L8.5 8.5l.94-2.06 2.06-.94-2.06-.94L8.5 2.5l-.94 2.06-2.06.94zm10 10l.94 2.06.94-2.06 2.06-.94-2.06-.94-.94-2.06-.94 2.06-2.06.94z\"/><path d=\"M17.41 7.96l-1.37-1.37c-.4-.4-.92-.59-1.43-.59-.52 0-1.04.2-1.43.59L10.3 9.45l-7.72 7.72c-.78.78-.78 2.05 0 2.83L4 21.41c.39.39.9.59 1.41.59.51 0 1.02-.2 1.41-.59l7.78-7.78 2.81-2.81c.8-.78.8-2.07 0-2.86zM5.41 20L4 18.59l7.72-7.72 1.47 1.35L5.41 20z\"/>\n",
              "  </svg>\n",
              "      </button>\n",
              "      \n",
              "  <style>\n",
              "    .colab-df-container {\n",
              "      display:flex;\n",
              "      flex-wrap:wrap;\n",
              "      gap: 12px;\n",
              "    }\n",
              "\n",
              "    .colab-df-convert {\n",
              "      background-color: #E8F0FE;\n",
              "      border: none;\n",
              "      border-radius: 50%;\n",
              "      cursor: pointer;\n",
              "      display: none;\n",
              "      fill: #1967D2;\n",
              "      height: 32px;\n",
              "      padding: 0 0 0 0;\n",
              "      width: 32px;\n",
              "    }\n",
              "\n",
              "    .colab-df-convert:hover {\n",
              "      background-color: #E2EBFA;\n",
              "      box-shadow: 0px 1px 2px rgba(60, 64, 67, 0.3), 0px 1px 3px 1px rgba(60, 64, 67, 0.15);\n",
              "      fill: #174EA6;\n",
              "    }\n",
              "\n",
              "    [theme=dark] .colab-df-convert {\n",
              "      background-color: #3B4455;\n",
              "      fill: #D2E3FC;\n",
              "    }\n",
              "\n",
              "    [theme=dark] .colab-df-convert:hover {\n",
              "      background-color: #434B5C;\n",
              "      box-shadow: 0px 1px 3px 1px rgba(0, 0, 0, 0.15);\n",
              "      filter: drop-shadow(0px 1px 2px rgba(0, 0, 0, 0.3));\n",
              "      fill: #FFFFFF;\n",
              "    }\n",
              "  </style>\n",
              "\n",
              "      <script>\n",
              "        const buttonEl =\n",
              "          document.querySelector('#df-693ff954-0a89-420d-b2da-4efd3ab3a3e3 button.colab-df-convert');\n",
              "        buttonEl.style.display =\n",
              "          google.colab.kernel.accessAllowed ? 'block' : 'none';\n",
              "\n",
              "        async function convertToInteractive(key) {\n",
              "          const element = document.querySelector('#df-693ff954-0a89-420d-b2da-4efd3ab3a3e3');\n",
              "          const dataTable =\n",
              "            await google.colab.kernel.invokeFunction('convertToInteractive',\n",
              "                                                     [key], {});\n",
              "          if (!dataTable) return;\n",
              "\n",
              "          const docLinkHtml = 'Like what you see? Visit the ' +\n",
              "            '<a target=\"_blank\" href=https://colab.research.google.com/notebooks/data_table.ipynb>data table notebook</a>'\n",
              "            + ' to learn more about interactive tables.';\n",
              "          element.innerHTML = '';\n",
              "          dataTable['output_type'] = 'display_data';\n",
              "          await google.colab.output.renderOutput(dataTable, element);\n",
              "          const docLink = document.createElement('div');\n",
              "          docLink.innerHTML = docLinkHtml;\n",
              "          element.appendChild(docLink);\n",
              "        }\n",
              "      </script>\n",
              "    </div>\n",
              "  </div>\n",
              "  "
            ]
          },
          "metadata": {},
          "execution_count": 77
        }
      ]
    },
    {
      "cell_type": "code",
      "source": [
        "def anova_table(aov):\n",
        "    aov['mean_sq'] = aov[:]['sum_sq']/aov[:]['df']\n",
        "\n",
        "    aov['eta_sq'] = aov[:-1]['sum_sq']/sum(aov['sum_sq'])\n",
        "\n",
        "    aov['omega_sq'] = (aov[:-1]['sum_sq']-(aov[:-1]['df']*aov['mean_sq'][-1]))/(sum(aov['sum_sq'])+aov['mean_sq'][-1])\n",
        "\n",
        "    cols = ['sum_sq', 'df', 'mean_sq', 'F', 'PR(>F)', 'eta_sq', 'omega_sq']\n",
        "    aov = aov[cols]\n",
        "    return aov\n",
        "\n",
        "anova_table(aov_table)"
      ],
      "metadata": {
        "colab": {
          "base_uri": "https://localhost:8080/",
          "height": 112
        },
        "id": "vvVQVB6nzoVE",
        "outputId": "d8432d44-9bc9-4177-d878-e6927c74393f"
      },
      "execution_count": null,
      "outputs": [
        {
          "output_type": "execute_result",
          "data": {
            "text/plain": [
              "                       sum_sq    df       mean_sq         F    PR(>F)  \\\n",
              "C(num_reliable)  8.601631e+09   4.0  2.150408e+09  2.364439  0.059655   \n",
              "Residual         7.457727e+10  82.0  9.094789e+08       NaN       NaN   \n",
              "\n",
              "                   eta_sq  omega_sq  \n",
              "C(num_reliable)  0.103411   0.05903  \n",
              "Residual              NaN       NaN  "
            ],
            "text/html": [
              "\n",
              "  <div id=\"df-917c5b36-0b30-4127-b0e6-295c9c9cbb56\">\n",
              "    <div class=\"colab-df-container\">\n",
              "      <div>\n",
              "<style scoped>\n",
              "    .dataframe tbody tr th:only-of-type {\n",
              "        vertical-align: middle;\n",
              "    }\n",
              "\n",
              "    .dataframe tbody tr th {\n",
              "        vertical-align: top;\n",
              "    }\n",
              "\n",
              "    .dataframe thead th {\n",
              "        text-align: right;\n",
              "    }\n",
              "</style>\n",
              "<table border=\"1\" class=\"dataframe\">\n",
              "  <thead>\n",
              "    <tr style=\"text-align: right;\">\n",
              "      <th></th>\n",
              "      <th>sum_sq</th>\n",
              "      <th>df</th>\n",
              "      <th>mean_sq</th>\n",
              "      <th>F</th>\n",
              "      <th>PR(&gt;F)</th>\n",
              "      <th>eta_sq</th>\n",
              "      <th>omega_sq</th>\n",
              "    </tr>\n",
              "  </thead>\n",
              "  <tbody>\n",
              "    <tr>\n",
              "      <th>C(num_reliable)</th>\n",
              "      <td>8.601631e+09</td>\n",
              "      <td>4.0</td>\n",
              "      <td>2.150408e+09</td>\n",
              "      <td>2.364439</td>\n",
              "      <td>0.059655</td>\n",
              "      <td>0.103411</td>\n",
              "      <td>0.05903</td>\n",
              "    </tr>\n",
              "    <tr>\n",
              "      <th>Residual</th>\n",
              "      <td>7.457727e+10</td>\n",
              "      <td>82.0</td>\n",
              "      <td>9.094789e+08</td>\n",
              "      <td>NaN</td>\n",
              "      <td>NaN</td>\n",
              "      <td>NaN</td>\n",
              "      <td>NaN</td>\n",
              "    </tr>\n",
              "  </tbody>\n",
              "</table>\n",
              "</div>\n",
              "      <button class=\"colab-df-convert\" onclick=\"convertToInteractive('df-917c5b36-0b30-4127-b0e6-295c9c9cbb56')\"\n",
              "              title=\"Convert this dataframe to an interactive table.\"\n",
              "              style=\"display:none;\">\n",
              "        \n",
              "  <svg xmlns=\"http://www.w3.org/2000/svg\" height=\"24px\"viewBox=\"0 0 24 24\"\n",
              "       width=\"24px\">\n",
              "    <path d=\"M0 0h24v24H0V0z\" fill=\"none\"/>\n",
              "    <path d=\"M18.56 5.44l.94 2.06.94-2.06 2.06-.94-2.06-.94-.94-2.06-.94 2.06-2.06.94zm-11 1L8.5 8.5l.94-2.06 2.06-.94-2.06-.94L8.5 2.5l-.94 2.06-2.06.94zm10 10l.94 2.06.94-2.06 2.06-.94-2.06-.94-.94-2.06-.94 2.06-2.06.94z\"/><path d=\"M17.41 7.96l-1.37-1.37c-.4-.4-.92-.59-1.43-.59-.52 0-1.04.2-1.43.59L10.3 9.45l-7.72 7.72c-.78.78-.78 2.05 0 2.83L4 21.41c.39.39.9.59 1.41.59.51 0 1.02-.2 1.41-.59l7.78-7.78 2.81-2.81c.8-.78.8-2.07 0-2.86zM5.41 20L4 18.59l7.72-7.72 1.47 1.35L5.41 20z\"/>\n",
              "  </svg>\n",
              "      </button>\n",
              "      \n",
              "  <style>\n",
              "    .colab-df-container {\n",
              "      display:flex;\n",
              "      flex-wrap:wrap;\n",
              "      gap: 12px;\n",
              "    }\n",
              "\n",
              "    .colab-df-convert {\n",
              "      background-color: #E8F0FE;\n",
              "      border: none;\n",
              "      border-radius: 50%;\n",
              "      cursor: pointer;\n",
              "      display: none;\n",
              "      fill: #1967D2;\n",
              "      height: 32px;\n",
              "      padding: 0 0 0 0;\n",
              "      width: 32px;\n",
              "    }\n",
              "\n",
              "    .colab-df-convert:hover {\n",
              "      background-color: #E2EBFA;\n",
              "      box-shadow: 0px 1px 2px rgba(60, 64, 67, 0.3), 0px 1px 3px 1px rgba(60, 64, 67, 0.15);\n",
              "      fill: #174EA6;\n",
              "    }\n",
              "\n",
              "    [theme=dark] .colab-df-convert {\n",
              "      background-color: #3B4455;\n",
              "      fill: #D2E3FC;\n",
              "    }\n",
              "\n",
              "    [theme=dark] .colab-df-convert:hover {\n",
              "      background-color: #434B5C;\n",
              "      box-shadow: 0px 1px 3px 1px rgba(0, 0, 0, 0.15);\n",
              "      filter: drop-shadow(0px 1px 2px rgba(0, 0, 0, 0.3));\n",
              "      fill: #FFFFFF;\n",
              "    }\n",
              "  </style>\n",
              "\n",
              "      <script>\n",
              "        const buttonEl =\n",
              "          document.querySelector('#df-917c5b36-0b30-4127-b0e6-295c9c9cbb56 button.colab-df-convert');\n",
              "        buttonEl.style.display =\n",
              "          google.colab.kernel.accessAllowed ? 'block' : 'none';\n",
              "\n",
              "        async function convertToInteractive(key) {\n",
              "          const element = document.querySelector('#df-917c5b36-0b30-4127-b0e6-295c9c9cbb56');\n",
              "          const dataTable =\n",
              "            await google.colab.kernel.invokeFunction('convertToInteractive',\n",
              "                                                     [key], {});\n",
              "          if (!dataTable) return;\n",
              "\n",
              "          const docLinkHtml = 'Like what you see? Visit the ' +\n",
              "            '<a target=\"_blank\" href=https://colab.research.google.com/notebooks/data_table.ipynb>data table notebook</a>'\n",
              "            + ' to learn more about interactive tables.';\n",
              "          element.innerHTML = '';\n",
              "          dataTable['output_type'] = 'display_data';\n",
              "          await google.colab.output.renderOutput(dataTable, element);\n",
              "          const docLink = document.createElement('div');\n",
              "          docLink.innerHTML = docLinkHtml;\n",
              "          element.appendChild(docLink);\n",
              "        }\n",
              "      </script>\n",
              "    </div>\n",
              "  </div>\n",
              "  "
            ]
          },
          "metadata": {},
          "execution_count": 79
        }
      ]
    },
    {
      "cell_type": "markdown",
      "source": [
        "## Multiple Mean Comparison"
      ],
      "metadata": {
        "id": "fWxNsjbyBmYD"
      }
    },
    {
      "cell_type": "code",
      "source": [
        "# FWER = familywise error rate (value of alpha)\n",
        "# group 1 and 2 for groups compared\n",
        "# p-adj is the adjusted p value taking into account the multiple comparisons\n",
        "# lower = lower band of the confidence interval\n",
        "# reject is the decision rule based on the corrected p-value\n",
        "\n",
        "import statsmodels.stats.multicomp as mc\n",
        "\n",
        "comp = mc.MultiComparison(news['num_reliable'], news['Annual Income'])\n",
        "post_hoc_res = comp.tukeyhsd()\n",
        "post_hoc_res.summary()"
      ],
      "metadata": {
        "colab": {
          "base_uri": "https://localhost:8080/",
          "height": 1000
        },
        "id": "t8UGpMWo2y3e",
        "outputId": "4b864cec-baed-4cbe-f1df-2fe383b3bbfc"
      },
      "execution_count": null,
      "outputs": [
        {
          "output_type": "execute_result",
          "data": {
            "text/plain": [
              "<class 'statsmodels.iolib.table.SimpleTable'>"
            ],
            "text/html": [
              "<table class=\"simpletable\">\n",
              "<caption>Multiple Comparison of Means - Tukey HSD, FWER=0.05</caption>\n",
              "<tr>\n",
              "  <th>group1</th> <th>group2</th> <th>meandiff</th>  <th>p-adj</th>   <th>lower</th>   <th>upper</th>  <th>reject</th>\n",
              "</tr>\n",
              "<tr>\n",
              "   <td>4000</td>   <td>5000</td>   <td>-3.6667</td> <td>0.6128</td>  <td>-9.1082</td> <td>1.7749</td>   <td>False</td>\n",
              "</tr>\n",
              "<tr>\n",
              "   <td>4000</td>   <td>6000</td>    <td>-2.0</td>     <td>0.9</td>   <td>-8.6645</td> <td>4.6645</td>   <td>False</td>\n",
              "</tr>\n",
              "<tr>\n",
              "   <td>4000</td>   <td>10000</td>  <td>-2.2222</td>   <td>0.9</td>   <td>-7.0639</td> <td>2.6194</td>   <td>False</td>\n",
              "</tr>\n",
              "<tr>\n",
              "   <td>4000</td>   <td>11000</td>   <td>-2.75</td>    <td>0.9</td>   <td>-8.0187</td> <td>2.5187</td>   <td>False</td>\n",
              "</tr>\n",
              "<tr>\n",
              "   <td>4000</td>   <td>12000</td>   <td>-4.0</td>    <td>0.785</td> <td>-10.6645</td> <td>2.6645</td>   <td>False</td>\n",
              "</tr>\n",
              "<tr>\n",
              "   <td>4000</td>   <td>14000</td>    <td>0.0</td>     <td>0.9</td>   <td>-6.6645</td> <td>6.6645</td>   <td>False</td>\n",
              "</tr>\n",
              "<tr>\n",
              "   <td>4000</td>   <td>15000</td>   <td>-1.0</td>     <td>0.9</td>   <td>-7.6645</td> <td>5.6645</td>   <td>False</td>\n",
              "</tr>\n",
              "<tr>\n",
              "   <td>4000</td>   <td>23000</td>   <td>-4.0</td>    <td>0.785</td> <td>-10.6645</td> <td>2.6645</td>   <td>False</td>\n",
              "</tr>\n",
              "<tr>\n",
              "   <td>4000</td>   <td>30000</td>   <td>-2.0</td>     <td>0.9</td>   <td>-8.6645</td> <td>4.6645</td>   <td>False</td>\n",
              "</tr>\n",
              "<tr>\n",
              "   <td>4000</td>   <td>45000</td>   <td>-2.0</td>     <td>0.9</td>   <td>-7.1623</td> <td>3.1623</td>   <td>False</td>\n",
              "</tr>\n",
              "<tr>\n",
              "   <td>4000</td>   <td>50000</td>   <td>-2.2</td>     <td>0.9</td>   <td>-7.1425</td> <td>2.7425</td>   <td>False</td>\n",
              "</tr>\n",
              "<tr>\n",
              "   <td>4000</td>   <td>54000</td>   <td>-2.0</td>     <td>0.9</td>   <td>-8.6645</td> <td>4.6645</td>   <td>False</td>\n",
              "</tr>\n",
              "<tr>\n",
              "   <td>4000</td>   <td>55000</td>   <td>-2.8</td>     <td>0.9</td>   <td>-7.9623</td> <td>2.3623</td>   <td>False</td>\n",
              "</tr>\n",
              "<tr>\n",
              "   <td>4000</td>   <td>60000</td>  <td>-2.2143</td>   <td>0.9</td>   <td>-7.0922</td> <td>2.6636</td>   <td>False</td>\n",
              "</tr>\n",
              "<tr>\n",
              "   <td>4000</td>   <td>65000</td>   <td>-2.0</td>     <td>0.9</td>   <td>-7.1623</td> <td>3.1623</td>   <td>False</td>\n",
              "</tr>\n",
              "<tr>\n",
              "   <td>4000</td>   <td>67000</td>   <td>-1.0</td>     <td>0.9</td>   <td>-6.7716</td> <td>4.7716</td>   <td>False</td>\n",
              "</tr>\n",
              "<tr>\n",
              "   <td>4000</td>   <td>70000</td>  <td>-1.6667</td>   <td>0.9</td>   <td>-7.1082</td> <td>3.7749</td>   <td>False</td>\n",
              "</tr>\n",
              "<tr>\n",
              "   <td>4000</td>   <td>71000</td>   <td>-2.0</td>     <td>0.9</td>   <td>-8.6645</td> <td>4.6645</td>   <td>False</td>\n",
              "</tr>\n",
              "<tr>\n",
              "   <td>4000</td>   <td>76000</td>   <td>-2.0</td>     <td>0.9</td>   <td>-7.7716</td> <td>3.7716</td>   <td>False</td>\n",
              "</tr>\n",
              "<tr>\n",
              "   <td>4000</td>   <td>80000</td>    <td>0.0</td>     <td>0.9</td>   <td>-6.6645</td> <td>6.6645</td>   <td>False</td>\n",
              "</tr>\n",
              "<tr>\n",
              "   <td>4000</td>   <td>90000</td>   <td>-1.0</td>     <td>0.9</td>   <td>-7.6645</td> <td>5.6645</td>   <td>False</td>\n",
              "</tr>\n",
              "<tr>\n",
              "   <td>4000</td>  <td>120000</td>   <td>-2.0</td>     <td>0.9</td>   <td>-7.4415</td> <td>3.4415</td>   <td>False</td>\n",
              "</tr>\n",
              "<tr>\n",
              "   <td>4000</td>  <td>124000</td>   <td>-1.0</td>     <td>0.9</td>   <td>-7.6645</td> <td>5.6645</td>   <td>False</td>\n",
              "</tr>\n",
              "<tr>\n",
              "   <td>4000</td>  <td>129000</td>   <td>-2.0</td>     <td>0.9</td>   <td>-8.6645</td> <td>4.6645</td>   <td>False</td>\n",
              "</tr>\n",
              "<tr>\n",
              "   <td>5000</td>   <td>6000</td>   <td>1.6667</td>    <td>0.9</td>   <td>-3.7749</td> <td>7.1082</td>   <td>False</td>\n",
              "</tr>\n",
              "<tr>\n",
              "   <td>5000</td>   <td>10000</td>  <td>1.4444</td>    <td>0.9</td>   <td>-1.4943</td> <td>4.3832</td>   <td>False</td>\n",
              "</tr>\n",
              "<tr>\n",
              "   <td>5000</td>   <td>11000</td>  <td>0.9167</td>    <td>0.9</td>   <td>-2.6826</td> <td>4.5159</td>   <td>False</td>\n",
              "</tr>\n",
              "<tr>\n",
              "   <td>5000</td>   <td>12000</td>  <td>-0.3333</td>   <td>0.9</td>   <td>-5.7749</td> <td>5.1082</td>   <td>False</td>\n",
              "</tr>\n",
              "<tr>\n",
              "   <td>5000</td>   <td>14000</td>  <td>3.6667</td>  <td>0.6128</td>  <td>-1.7749</td> <td>9.1082</td>   <td>False</td>\n",
              "</tr>\n",
              "<tr>\n",
              "   <td>5000</td>   <td>15000</td>  <td>2.6667</td>    <td>0.9</td>   <td>-2.7749</td> <td>8.1082</td>   <td>False</td>\n",
              "</tr>\n",
              "<tr>\n",
              "   <td>5000</td>   <td>23000</td>  <td>-0.3333</td>   <td>0.9</td>   <td>-5.7749</td> <td>5.1082</td>   <td>False</td>\n",
              "</tr>\n",
              "<tr>\n",
              "   <td>5000</td>   <td>30000</td>  <td>1.6667</td>    <td>0.9</td>   <td>-3.7749</td> <td>7.1082</td>   <td>False</td>\n",
              "</tr>\n",
              "<tr>\n",
              "   <td>5000</td>   <td>45000</td>  <td>1.6667</td>    <td>0.9</td>   <td>-1.7749</td> <td>5.1082</td>   <td>False</td>\n",
              "</tr>\n",
              "<tr>\n",
              "   <td>5000</td>   <td>50000</td>  <td>1.4667</td>    <td>0.9</td>   <td>-1.6355</td> <td>4.5688</td>   <td>False</td>\n",
              "</tr>\n",
              "<tr>\n",
              "   <td>5000</td>   <td>54000</td>  <td>1.6667</td>    <td>0.9</td>   <td>-3.7749</td> <td>7.1082</td>   <td>False</td>\n",
              "</tr>\n",
              "<tr>\n",
              "   <td>5000</td>   <td>55000</td>  <td>0.8667</td>    <td>0.9</td>   <td>-2.5749</td> <td>4.3082</td>   <td>False</td>\n",
              "</tr>\n",
              "<tr>\n",
              "   <td>5000</td>   <td>60000</td>  <td>1.4524</td>    <td>0.9</td>   <td>-1.5458</td> <td>4.4505</td>   <td>False</td>\n",
              "</tr>\n",
              "<tr>\n",
              "   <td>5000</td>   <td>65000</td>  <td>1.6667</td>    <td>0.9</td>   <td>-1.7749</td> <td>5.1082</td>   <td>False</td>\n",
              "</tr>\n",
              "<tr>\n",
              "   <td>5000</td>   <td>67000</td>  <td>2.6667</td>   <td>0.739</td>  <td>-1.6352</td> <td>6.9686</td>   <td>False</td>\n",
              "</tr>\n",
              "<tr>\n",
              "   <td>5000</td>   <td>70000</td>    <td>2.0</td>     <td>0.9</td>   <td>-1.8477</td> <td>5.8477</td>   <td>False</td>\n",
              "</tr>\n",
              "<tr>\n",
              "   <td>5000</td>   <td>71000</td>  <td>1.6667</td>    <td>0.9</td>   <td>-3.7749</td> <td>7.1082</td>   <td>False</td>\n",
              "</tr>\n",
              "<tr>\n",
              "   <td>5000</td>   <td>76000</td>  <td>1.6667</td>    <td>0.9</td>   <td>-2.6352</td> <td>5.9686</td>   <td>False</td>\n",
              "</tr>\n",
              "<tr>\n",
              "   <td>5000</td>   <td>80000</td>  <td>3.6667</td>  <td>0.6128</td>  <td>-1.7749</td> <td>9.1082</td>   <td>False</td>\n",
              "</tr>\n",
              "<tr>\n",
              "   <td>5000</td>   <td>90000</td>  <td>2.6667</td>    <td>0.9</td>   <td>-2.7749</td> <td>8.1082</td>   <td>False</td>\n",
              "</tr>\n",
              "<tr>\n",
              "   <td>5000</td>  <td>120000</td>  <td>1.6667</td>    <td>0.9</td>   <td>-2.1811</td> <td>5.5144</td>   <td>False</td>\n",
              "</tr>\n",
              "<tr>\n",
              "   <td>5000</td>  <td>124000</td>  <td>2.6667</td>    <td>0.9</td>   <td>-2.7749</td> <td>8.1082</td>   <td>False</td>\n",
              "</tr>\n",
              "<tr>\n",
              "   <td>5000</td>  <td>129000</td>  <td>1.6667</td>    <td>0.9</td>   <td>-3.7749</td> <td>7.1082</td>   <td>False</td>\n",
              "</tr>\n",
              "<tr>\n",
              "   <td>6000</td>   <td>10000</td>  <td>-0.2222</td>   <td>0.9</td>   <td>-5.0639</td> <td>4.6194</td>   <td>False</td>\n",
              "</tr>\n",
              "<tr>\n",
              "   <td>6000</td>   <td>11000</td>   <td>-0.75</td>    <td>0.9</td>   <td>-6.0187</td> <td>4.5187</td>   <td>False</td>\n",
              "</tr>\n",
              "<tr>\n",
              "   <td>6000</td>   <td>12000</td>   <td>-2.0</td>     <td>0.9</td>   <td>-8.6645</td> <td>4.6645</td>   <td>False</td>\n",
              "</tr>\n",
              "<tr>\n",
              "   <td>6000</td>   <td>14000</td>    <td>2.0</td>     <td>0.9</td>   <td>-4.6645</td> <td>8.6645</td>   <td>False</td>\n",
              "</tr>\n",
              "<tr>\n",
              "   <td>6000</td>   <td>15000</td>    <td>1.0</td>     <td>0.9</td>   <td>-5.6645</td> <td>7.6645</td>   <td>False</td>\n",
              "</tr>\n",
              "<tr>\n",
              "   <td>6000</td>   <td>23000</td>   <td>-2.0</td>     <td>0.9</td>   <td>-8.6645</td> <td>4.6645</td>   <td>False</td>\n",
              "</tr>\n",
              "<tr>\n",
              "   <td>6000</td>   <td>30000</td>    <td>0.0</td>     <td>0.9</td>   <td>-6.6645</td> <td>6.6645</td>   <td>False</td>\n",
              "</tr>\n",
              "<tr>\n",
              "   <td>6000</td>   <td>45000</td>    <td>0.0</td>     <td>0.9</td>   <td>-5.1623</td> <td>5.1623</td>   <td>False</td>\n",
              "</tr>\n",
              "<tr>\n",
              "   <td>6000</td>   <td>50000</td>   <td>-0.2</td>     <td>0.9</td>   <td>-5.1425</td> <td>4.7425</td>   <td>False</td>\n",
              "</tr>\n",
              "<tr>\n",
              "   <td>6000</td>   <td>54000</td>    <td>0.0</td>     <td>0.9</td>   <td>-6.6645</td> <td>6.6645</td>   <td>False</td>\n",
              "</tr>\n",
              "<tr>\n",
              "   <td>6000</td>   <td>55000</td>   <td>-0.8</td>     <td>0.9</td>   <td>-5.9623</td> <td>4.3623</td>   <td>False</td>\n",
              "</tr>\n",
              "<tr>\n",
              "   <td>6000</td>   <td>60000</td>  <td>-0.2143</td>   <td>0.9</td>   <td>-5.0922</td> <td>4.6636</td>   <td>False</td>\n",
              "</tr>\n",
              "<tr>\n",
              "   <td>6000</td>   <td>65000</td>    <td>0.0</td>     <td>0.9</td>   <td>-5.1623</td> <td>5.1623</td>   <td>False</td>\n",
              "</tr>\n",
              "<tr>\n",
              "   <td>6000</td>   <td>67000</td>    <td>1.0</td>     <td>0.9</td>   <td>-4.7716</td> <td>6.7716</td>   <td>False</td>\n",
              "</tr>\n",
              "<tr>\n",
              "   <td>6000</td>   <td>70000</td>  <td>0.3333</td>    <td>0.9</td>   <td>-5.1082</td> <td>5.7749</td>   <td>False</td>\n",
              "</tr>\n",
              "<tr>\n",
              "   <td>6000</td>   <td>71000</td>    <td>0.0</td>     <td>0.9</td>   <td>-6.6645</td> <td>6.6645</td>   <td>False</td>\n",
              "</tr>\n",
              "<tr>\n",
              "   <td>6000</td>   <td>76000</td>    <td>0.0</td>     <td>0.9</td>   <td>-5.7716</td> <td>5.7716</td>   <td>False</td>\n",
              "</tr>\n",
              "<tr>\n",
              "   <td>6000</td>   <td>80000</td>    <td>2.0</td>     <td>0.9</td>   <td>-4.6645</td> <td>8.6645</td>   <td>False</td>\n",
              "</tr>\n",
              "<tr>\n",
              "   <td>6000</td>   <td>90000</td>    <td>1.0</td>     <td>0.9</td>   <td>-5.6645</td> <td>7.6645</td>   <td>False</td>\n",
              "</tr>\n",
              "<tr>\n",
              "   <td>6000</td>  <td>120000</td>    <td>0.0</td>     <td>0.9</td>   <td>-5.4415</td> <td>5.4415</td>   <td>False</td>\n",
              "</tr>\n",
              "<tr>\n",
              "   <td>6000</td>  <td>124000</td>    <td>1.0</td>     <td>0.9</td>   <td>-5.6645</td> <td>7.6645</td>   <td>False</td>\n",
              "</tr>\n",
              "<tr>\n",
              "   <td>6000</td>  <td>129000</td>    <td>0.0</td>     <td>0.9</td>   <td>-6.6645</td> <td>6.6645</td>   <td>False</td>\n",
              "</tr>\n",
              "<tr>\n",
              "   <td>10000</td>  <td>11000</td>  <td>-0.5278</td>   <td>0.9</td>   <td>-3.1327</td> <td>2.0772</td>   <td>False</td>\n",
              "</tr>\n",
              "<tr>\n",
              "   <td>10000</td>  <td>12000</td>  <td>-1.7778</td>   <td>0.9</td>   <td>-6.6194</td> <td>3.0639</td>   <td>False</td>\n",
              "</tr>\n",
              "<tr>\n",
              "   <td>10000</td>  <td>14000</td>  <td>2.2222</td>    <td>0.9</td>   <td>-2.6194</td> <td>7.0639</td>   <td>False</td>\n",
              "</tr>\n",
              "<tr>\n",
              "   <td>10000</td>  <td>15000</td>  <td>1.2222</td>    <td>0.9</td>   <td>-3.6194</td> <td>6.0639</td>   <td>False</td>\n",
              "</tr>\n",
              "<tr>\n",
              "   <td>10000</td>  <td>23000</td>  <td>-1.7778</td>   <td>0.9</td>   <td>-6.6194</td> <td>3.0639</td>   <td>False</td>\n",
              "</tr>\n",
              "<tr>\n",
              "   <td>10000</td>  <td>30000</td>  <td>0.2222</td>    <td>0.9</td>   <td>-4.6194</td> <td>5.0639</td>   <td>False</td>\n",
              "</tr>\n",
              "<tr>\n",
              "   <td>10000</td>  <td>45000</td>  <td>0.2222</td>    <td>0.9</td>   <td>-2.1601</td> <td>2.6045</td>   <td>False</td>\n",
              "</tr>\n",
              "<tr>\n",
              "   <td>10000</td>  <td>50000</td>  <td>0.0222</td>    <td>0.9</td>   <td>-1.8364</td> <td>1.8809</td>   <td>False</td>\n",
              "</tr>\n",
              "<tr>\n",
              "   <td>10000</td>  <td>54000</td>  <td>0.2222</td>    <td>0.9</td>   <td>-4.6194</td> <td>5.0639</td>   <td>False</td>\n",
              "</tr>\n",
              "<tr>\n",
              "   <td>10000</td>  <td>55000</td>  <td>-0.5778</td>   <td>0.9</td>   <td>-2.9601</td> <td>1.8045</td>   <td>False</td>\n",
              "</tr>\n",
              "<tr>\n",
              "   <td>10000</td>  <td>60000</td>  <td>0.0079</td>    <td>0.9</td>   <td>-1.6714</td> <td>1.6872</td>   <td>False</td>\n",
              "</tr>\n",
              "<tr>\n",
              "   <td>10000</td>  <td>65000</td>  <td>0.2222</td>    <td>0.9</td>   <td>-2.1601</td> <td>2.6045</td>   <td>False</td>\n",
              "</tr>\n",
              "<tr>\n",
              "   <td>10000</td>  <td>67000</td>  <td>1.2222</td>    <td>0.9</td>   <td>-2.2903</td> <td>4.7347</td>   <td>False</td>\n",
              "</tr>\n",
              "<tr>\n",
              "   <td>10000</td>  <td>70000</td>  <td>0.5556</td>    <td>0.9</td>   <td>-2.3832</td> <td>3.4943</td>   <td>False</td>\n",
              "</tr>\n",
              "<tr>\n",
              "   <td>10000</td>  <td>71000</td>  <td>0.2222</td>    <td>0.9</td>   <td>-4.6194</td> <td>5.0639</td>   <td>False</td>\n",
              "</tr>\n",
              "<tr>\n",
              "   <td>10000</td>  <td>76000</td>  <td>0.2222</td>    <td>0.9</td>   <td>-3.2903</td> <td>3.7347</td>   <td>False</td>\n",
              "</tr>\n",
              "<tr>\n",
              "   <td>10000</td>  <td>80000</td>  <td>2.2222</td>    <td>0.9</td>   <td>-2.6194</td> <td>7.0639</td>   <td>False</td>\n",
              "</tr>\n",
              "<tr>\n",
              "   <td>10000</td>  <td>90000</td>  <td>1.2222</td>    <td>0.9</td>   <td>-3.6194</td> <td>6.0639</td>   <td>False</td>\n",
              "</tr>\n",
              "<tr>\n",
              "   <td>10000</td> <td>120000</td>  <td>0.2222</td>    <td>0.9</td>   <td>-2.7165</td>  <td>3.161</td>   <td>False</td>\n",
              "</tr>\n",
              "<tr>\n",
              "   <td>10000</td> <td>124000</td>  <td>1.2222</td>    <td>0.9</td>   <td>-3.6194</td> <td>6.0639</td>   <td>False</td>\n",
              "</tr>\n",
              "<tr>\n",
              "   <td>10000</td> <td>129000</td>  <td>0.2222</td>    <td>0.9</td>   <td>-4.6194</td> <td>5.0639</td>   <td>False</td>\n",
              "</tr>\n",
              "<tr>\n",
              "   <td>11000</td>  <td>12000</td>   <td>-1.25</td>    <td>0.9</td>   <td>-6.5187</td> <td>4.0187</td>   <td>False</td>\n",
              "</tr>\n",
              "<tr>\n",
              "   <td>11000</td>  <td>14000</td>   <td>2.75</td>     <td>0.9</td>   <td>-2.5187</td> <td>8.0187</td>   <td>False</td>\n",
              "</tr>\n",
              "<tr>\n",
              "   <td>11000</td>  <td>15000</td>   <td>1.75</td>     <td>0.9</td>   <td>-3.5187</td> <td>7.0187</td>   <td>False</td>\n",
              "</tr>\n",
              "<tr>\n",
              "   <td>11000</td>  <td>23000</td>   <td>-1.25</td>    <td>0.9</td>   <td>-6.5187</td> <td>4.0187</td>   <td>False</td>\n",
              "</tr>\n",
              "<tr>\n",
              "   <td>11000</td>  <td>30000</td>   <td>0.75</td>     <td>0.9</td>   <td>-4.5187</td> <td>6.0187</td>   <td>False</td>\n",
              "</tr>\n",
              "<tr>\n",
              "   <td>11000</td>  <td>45000</td>   <td>0.75</td>     <td>0.9</td>   <td>-2.4112</td> <td>3.9112</td>   <td>False</td>\n",
              "</tr>\n",
              "<tr>\n",
              "   <td>11000</td>  <td>50000</td>   <td>0.55</td>     <td>0.9</td>   <td>-2.238</td>   <td>3.338</td>   <td>False</td>\n",
              "</tr>\n",
              "<tr>\n",
              "   <td>11000</td>  <td>54000</td>   <td>0.75</td>     <td>0.9</td>   <td>-4.5187</td> <td>6.0187</td>   <td>False</td>\n",
              "</tr>\n",
              "<tr>\n",
              "   <td>11000</td>  <td>55000</td>   <td>-0.05</td>    <td>0.9</td>   <td>-3.2112</td> <td>3.1112</td>   <td>False</td>\n",
              "</tr>\n",
              "<tr>\n",
              "   <td>11000</td>  <td>60000</td>  <td>0.5357</td>    <td>0.9</td>   <td>-2.136</td>  <td>3.2074</td>   <td>False</td>\n",
              "</tr>\n",
              "<tr>\n",
              "   <td>11000</td>  <td>65000</td>   <td>0.75</td>     <td>0.9</td>   <td>-2.4112</td> <td>3.9112</td>   <td>False</td>\n",
              "</tr>\n",
              "<tr>\n",
              "   <td>11000</td>  <td>67000</td>   <td>1.75</td>     <td>0.9</td>   <td>-2.3311</td> <td>5.8311</td>   <td>False</td>\n",
              "</tr>\n",
              "<tr>\n",
              "   <td>11000</td>  <td>70000</td>  <td>1.0833</td>    <td>0.9</td>   <td>-2.5159</td> <td>4.6826</td>   <td>False</td>\n",
              "</tr>\n",
              "<tr>\n",
              "   <td>11000</td>  <td>71000</td>   <td>0.75</td>     <td>0.9</td>   <td>-4.5187</td> <td>6.0187</td>   <td>False</td>\n",
              "</tr>\n",
              "<tr>\n",
              "   <td>11000</td>  <td>76000</td>   <td>0.75</td>     <td>0.9</td>   <td>-3.3311</td> <td>4.8311</td>   <td>False</td>\n",
              "</tr>\n",
              "<tr>\n",
              "   <td>11000</td>  <td>80000</td>   <td>2.75</td>     <td>0.9</td>   <td>-2.5187</td> <td>8.0187</td>   <td>False</td>\n",
              "</tr>\n",
              "<tr>\n",
              "   <td>11000</td>  <td>90000</td>   <td>1.75</td>     <td>0.9</td>   <td>-3.5187</td> <td>7.0187</td>   <td>False</td>\n",
              "</tr>\n",
              "<tr>\n",
              "   <td>11000</td> <td>120000</td>   <td>0.75</td>     <td>0.9</td>   <td>-2.8492</td> <td>4.3492</td>   <td>False</td>\n",
              "</tr>\n",
              "<tr>\n",
              "   <td>11000</td> <td>124000</td>   <td>1.75</td>     <td>0.9</td>   <td>-3.5187</td> <td>7.0187</td>   <td>False</td>\n",
              "</tr>\n",
              "<tr>\n",
              "   <td>11000</td> <td>129000</td>   <td>0.75</td>     <td>0.9</td>   <td>-4.5187</td> <td>6.0187</td>   <td>False</td>\n",
              "</tr>\n",
              "<tr>\n",
              "   <td>12000</td>  <td>14000</td>    <td>4.0</td>    <td>0.785</td>  <td>-2.6645</td> <td>10.6645</td>  <td>False</td>\n",
              "</tr>\n",
              "<tr>\n",
              "   <td>12000</td>  <td>15000</td>    <td>3.0</td>     <td>0.9</td>   <td>-3.6645</td> <td>9.6645</td>   <td>False</td>\n",
              "</tr>\n",
              "<tr>\n",
              "   <td>12000</td>  <td>23000</td>    <td>0.0</td>     <td>0.9</td>   <td>-6.6645</td> <td>6.6645</td>   <td>False</td>\n",
              "</tr>\n",
              "<tr>\n",
              "   <td>12000</td>  <td>30000</td>    <td>2.0</td>     <td>0.9</td>   <td>-4.6645</td> <td>8.6645</td>   <td>False</td>\n",
              "</tr>\n",
              "<tr>\n",
              "   <td>12000</td>  <td>45000</td>    <td>2.0</td>     <td>0.9</td>   <td>-3.1623</td> <td>7.1623</td>   <td>False</td>\n",
              "</tr>\n",
              "<tr>\n",
              "   <td>12000</td>  <td>50000</td>    <td>1.8</td>     <td>0.9</td>   <td>-3.1425</td> <td>6.7425</td>   <td>False</td>\n",
              "</tr>\n",
              "<tr>\n",
              "   <td>12000</td>  <td>54000</td>    <td>2.0</td>     <td>0.9</td>   <td>-4.6645</td> <td>8.6645</td>   <td>False</td>\n",
              "</tr>\n",
              "<tr>\n",
              "   <td>12000</td>  <td>55000</td>    <td>1.2</td>     <td>0.9</td>   <td>-3.9623</td> <td>6.3623</td>   <td>False</td>\n",
              "</tr>\n",
              "<tr>\n",
              "   <td>12000</td>  <td>60000</td>  <td>1.7857</td>    <td>0.9</td>   <td>-3.0922</td> <td>6.6636</td>   <td>False</td>\n",
              "</tr>\n",
              "<tr>\n",
              "   <td>12000</td>  <td>65000</td>    <td>2.0</td>     <td>0.9</td>   <td>-3.1623</td> <td>7.1623</td>   <td>False</td>\n",
              "</tr>\n",
              "<tr>\n",
              "   <td>12000</td>  <td>67000</td>    <td>3.0</td>     <td>0.9</td>   <td>-2.7716</td> <td>8.7716</td>   <td>False</td>\n",
              "</tr>\n",
              "<tr>\n",
              "   <td>12000</td>  <td>70000</td>  <td>2.3333</td>    <td>0.9</td>   <td>-3.1082</td> <td>7.7749</td>   <td>False</td>\n",
              "</tr>\n",
              "<tr>\n",
              "   <td>12000</td>  <td>71000</td>    <td>2.0</td>     <td>0.9</td>   <td>-4.6645</td> <td>8.6645</td>   <td>False</td>\n",
              "</tr>\n",
              "<tr>\n",
              "   <td>12000</td>  <td>76000</td>    <td>2.0</td>     <td>0.9</td>   <td>-3.7716</td> <td>7.7716</td>   <td>False</td>\n",
              "</tr>\n",
              "<tr>\n",
              "   <td>12000</td>  <td>80000</td>    <td>4.0</td>    <td>0.785</td>  <td>-2.6645</td> <td>10.6645</td>  <td>False</td>\n",
              "</tr>\n",
              "<tr>\n",
              "   <td>12000</td>  <td>90000</td>    <td>3.0</td>     <td>0.9</td>   <td>-3.6645</td> <td>9.6645</td>   <td>False</td>\n",
              "</tr>\n",
              "<tr>\n",
              "   <td>12000</td> <td>120000</td>    <td>2.0</td>     <td>0.9</td>   <td>-3.4415</td> <td>7.4415</td>   <td>False</td>\n",
              "</tr>\n",
              "<tr>\n",
              "   <td>12000</td> <td>124000</td>    <td>3.0</td>     <td>0.9</td>   <td>-3.6645</td> <td>9.6645</td>   <td>False</td>\n",
              "</tr>\n",
              "<tr>\n",
              "   <td>12000</td> <td>129000</td>    <td>2.0</td>     <td>0.9</td>   <td>-4.6645</td> <td>8.6645</td>   <td>False</td>\n",
              "</tr>\n",
              "<tr>\n",
              "   <td>14000</td>  <td>15000</td>   <td>-1.0</td>     <td>0.9</td>   <td>-7.6645</td> <td>5.6645</td>   <td>False</td>\n",
              "</tr>\n",
              "<tr>\n",
              "   <td>14000</td>  <td>23000</td>   <td>-4.0</td>    <td>0.785</td> <td>-10.6645</td> <td>2.6645</td>   <td>False</td>\n",
              "</tr>\n",
              "<tr>\n",
              "   <td>14000</td>  <td>30000</td>   <td>-2.0</td>     <td>0.9</td>   <td>-8.6645</td> <td>4.6645</td>   <td>False</td>\n",
              "</tr>\n",
              "<tr>\n",
              "   <td>14000</td>  <td>45000</td>   <td>-2.0</td>     <td>0.9</td>   <td>-7.1623</td> <td>3.1623</td>   <td>False</td>\n",
              "</tr>\n",
              "<tr>\n",
              "   <td>14000</td>  <td>50000</td>   <td>-2.2</td>     <td>0.9</td>   <td>-7.1425</td> <td>2.7425</td>   <td>False</td>\n",
              "</tr>\n",
              "<tr>\n",
              "   <td>14000</td>  <td>54000</td>   <td>-2.0</td>     <td>0.9</td>   <td>-8.6645</td> <td>4.6645</td>   <td>False</td>\n",
              "</tr>\n",
              "<tr>\n",
              "   <td>14000</td>  <td>55000</td>   <td>-2.8</td>     <td>0.9</td>   <td>-7.9623</td> <td>2.3623</td>   <td>False</td>\n",
              "</tr>\n",
              "<tr>\n",
              "   <td>14000</td>  <td>60000</td>  <td>-2.2143</td>   <td>0.9</td>   <td>-7.0922</td> <td>2.6636</td>   <td>False</td>\n",
              "</tr>\n",
              "<tr>\n",
              "   <td>14000</td>  <td>65000</td>   <td>-2.0</td>     <td>0.9</td>   <td>-7.1623</td> <td>3.1623</td>   <td>False</td>\n",
              "</tr>\n",
              "<tr>\n",
              "   <td>14000</td>  <td>67000</td>   <td>-1.0</td>     <td>0.9</td>   <td>-6.7716</td> <td>4.7716</td>   <td>False</td>\n",
              "</tr>\n",
              "<tr>\n",
              "   <td>14000</td>  <td>70000</td>  <td>-1.6667</td>   <td>0.9</td>   <td>-7.1082</td> <td>3.7749</td>   <td>False</td>\n",
              "</tr>\n",
              "<tr>\n",
              "   <td>14000</td>  <td>71000</td>   <td>-2.0</td>     <td>0.9</td>   <td>-8.6645</td> <td>4.6645</td>   <td>False</td>\n",
              "</tr>\n",
              "<tr>\n",
              "   <td>14000</td>  <td>76000</td>   <td>-2.0</td>     <td>0.9</td>   <td>-7.7716</td> <td>3.7716</td>   <td>False</td>\n",
              "</tr>\n",
              "<tr>\n",
              "   <td>14000</td>  <td>80000</td>    <td>0.0</td>     <td>0.9</td>   <td>-6.6645</td> <td>6.6645</td>   <td>False</td>\n",
              "</tr>\n",
              "<tr>\n",
              "   <td>14000</td>  <td>90000</td>   <td>-1.0</td>     <td>0.9</td>   <td>-7.6645</td> <td>5.6645</td>   <td>False</td>\n",
              "</tr>\n",
              "<tr>\n",
              "   <td>14000</td> <td>120000</td>   <td>-2.0</td>     <td>0.9</td>   <td>-7.4415</td> <td>3.4415</td>   <td>False</td>\n",
              "</tr>\n",
              "<tr>\n",
              "   <td>14000</td> <td>124000</td>   <td>-1.0</td>     <td>0.9</td>   <td>-7.6645</td> <td>5.6645</td>   <td>False</td>\n",
              "</tr>\n",
              "<tr>\n",
              "   <td>14000</td> <td>129000</td>   <td>-2.0</td>     <td>0.9</td>   <td>-8.6645</td> <td>4.6645</td>   <td>False</td>\n",
              "</tr>\n",
              "<tr>\n",
              "   <td>15000</td>  <td>23000</td>   <td>-3.0</td>     <td>0.9</td>   <td>-9.6645</td> <td>3.6645</td>   <td>False</td>\n",
              "</tr>\n",
              "<tr>\n",
              "   <td>15000</td>  <td>30000</td>   <td>-1.0</td>     <td>0.9</td>   <td>-7.6645</td> <td>5.6645</td>   <td>False</td>\n",
              "</tr>\n",
              "<tr>\n",
              "   <td>15000</td>  <td>45000</td>   <td>-1.0</td>     <td>0.9</td>   <td>-6.1623</td> <td>4.1623</td>   <td>False</td>\n",
              "</tr>\n",
              "<tr>\n",
              "   <td>15000</td>  <td>50000</td>   <td>-1.2</td>     <td>0.9</td>   <td>-6.1425</td> <td>3.7425</td>   <td>False</td>\n",
              "</tr>\n",
              "<tr>\n",
              "   <td>15000</td>  <td>54000</td>   <td>-1.0</td>     <td>0.9</td>   <td>-7.6645</td> <td>5.6645</td>   <td>False</td>\n",
              "</tr>\n",
              "<tr>\n",
              "   <td>15000</td>  <td>55000</td>   <td>-1.8</td>     <td>0.9</td>   <td>-6.9623</td> <td>3.3623</td>   <td>False</td>\n",
              "</tr>\n",
              "<tr>\n",
              "   <td>15000</td>  <td>60000</td>  <td>-1.2143</td>   <td>0.9</td>   <td>-6.0922</td> <td>3.6636</td>   <td>False</td>\n",
              "</tr>\n",
              "<tr>\n",
              "   <td>15000</td>  <td>65000</td>   <td>-1.0</td>     <td>0.9</td>   <td>-6.1623</td> <td>4.1623</td>   <td>False</td>\n",
              "</tr>\n",
              "<tr>\n",
              "   <td>15000</td>  <td>67000</td>    <td>0.0</td>     <td>0.9</td>   <td>-5.7716</td> <td>5.7716</td>   <td>False</td>\n",
              "</tr>\n",
              "<tr>\n",
              "   <td>15000</td>  <td>70000</td>  <td>-0.6667</td>   <td>0.9</td>   <td>-6.1082</td> <td>4.7749</td>   <td>False</td>\n",
              "</tr>\n",
              "<tr>\n",
              "   <td>15000</td>  <td>71000</td>   <td>-1.0</td>     <td>0.9</td>   <td>-7.6645</td> <td>5.6645</td>   <td>False</td>\n",
              "</tr>\n",
              "<tr>\n",
              "   <td>15000</td>  <td>76000</td>   <td>-1.0</td>     <td>0.9</td>   <td>-6.7716</td> <td>4.7716</td>   <td>False</td>\n",
              "</tr>\n",
              "<tr>\n",
              "   <td>15000</td>  <td>80000</td>    <td>1.0</td>     <td>0.9</td>   <td>-5.6645</td> <td>7.6645</td>   <td>False</td>\n",
              "</tr>\n",
              "<tr>\n",
              "   <td>15000</td>  <td>90000</td>    <td>0.0</td>     <td>0.9</td>   <td>-6.6645</td> <td>6.6645</td>   <td>False</td>\n",
              "</tr>\n",
              "<tr>\n",
              "   <td>15000</td> <td>120000</td>   <td>-1.0</td>     <td>0.9</td>   <td>-6.4415</td> <td>4.4415</td>   <td>False</td>\n",
              "</tr>\n",
              "<tr>\n",
              "   <td>15000</td> <td>124000</td>    <td>0.0</td>     <td>0.9</td>   <td>-6.6645</td> <td>6.6645</td>   <td>False</td>\n",
              "</tr>\n",
              "<tr>\n",
              "   <td>15000</td> <td>129000</td>   <td>-1.0</td>     <td>0.9</td>   <td>-7.6645</td> <td>5.6645</td>   <td>False</td>\n",
              "</tr>\n",
              "<tr>\n",
              "   <td>23000</td>  <td>30000</td>    <td>2.0</td>     <td>0.9</td>   <td>-4.6645</td> <td>8.6645</td>   <td>False</td>\n",
              "</tr>\n",
              "<tr>\n",
              "   <td>23000</td>  <td>45000</td>    <td>2.0</td>     <td>0.9</td>   <td>-3.1623</td> <td>7.1623</td>   <td>False</td>\n",
              "</tr>\n",
              "<tr>\n",
              "   <td>23000</td>  <td>50000</td>    <td>1.8</td>     <td>0.9</td>   <td>-3.1425</td> <td>6.7425</td>   <td>False</td>\n",
              "</tr>\n",
              "<tr>\n",
              "   <td>23000</td>  <td>54000</td>    <td>2.0</td>     <td>0.9</td>   <td>-4.6645</td> <td>8.6645</td>   <td>False</td>\n",
              "</tr>\n",
              "<tr>\n",
              "   <td>23000</td>  <td>55000</td>    <td>1.2</td>     <td>0.9</td>   <td>-3.9623</td> <td>6.3623</td>   <td>False</td>\n",
              "</tr>\n",
              "<tr>\n",
              "   <td>23000</td>  <td>60000</td>  <td>1.7857</td>    <td>0.9</td>   <td>-3.0922</td> <td>6.6636</td>   <td>False</td>\n",
              "</tr>\n",
              "<tr>\n",
              "   <td>23000</td>  <td>65000</td>    <td>2.0</td>     <td>0.9</td>   <td>-3.1623</td> <td>7.1623</td>   <td>False</td>\n",
              "</tr>\n",
              "<tr>\n",
              "   <td>23000</td>  <td>67000</td>    <td>3.0</td>     <td>0.9</td>   <td>-2.7716</td> <td>8.7716</td>   <td>False</td>\n",
              "</tr>\n",
              "<tr>\n",
              "   <td>23000</td>  <td>70000</td>  <td>2.3333</td>    <td>0.9</td>   <td>-3.1082</td> <td>7.7749</td>   <td>False</td>\n",
              "</tr>\n",
              "<tr>\n",
              "   <td>23000</td>  <td>71000</td>    <td>2.0</td>     <td>0.9</td>   <td>-4.6645</td> <td>8.6645</td>   <td>False</td>\n",
              "</tr>\n",
              "<tr>\n",
              "   <td>23000</td>  <td>76000</td>    <td>2.0</td>     <td>0.9</td>   <td>-3.7716</td> <td>7.7716</td>   <td>False</td>\n",
              "</tr>\n",
              "<tr>\n",
              "   <td>23000</td>  <td>80000</td>    <td>4.0</td>    <td>0.785</td>  <td>-2.6645</td> <td>10.6645</td>  <td>False</td>\n",
              "</tr>\n",
              "<tr>\n",
              "   <td>23000</td>  <td>90000</td>    <td>3.0</td>     <td>0.9</td>   <td>-3.6645</td> <td>9.6645</td>   <td>False</td>\n",
              "</tr>\n",
              "<tr>\n",
              "   <td>23000</td> <td>120000</td>    <td>2.0</td>     <td>0.9</td>   <td>-3.4415</td> <td>7.4415</td>   <td>False</td>\n",
              "</tr>\n",
              "<tr>\n",
              "   <td>23000</td> <td>124000</td>    <td>3.0</td>     <td>0.9</td>   <td>-3.6645</td> <td>9.6645</td>   <td>False</td>\n",
              "</tr>\n",
              "<tr>\n",
              "   <td>23000</td> <td>129000</td>    <td>2.0</td>     <td>0.9</td>   <td>-4.6645</td> <td>8.6645</td>   <td>False</td>\n",
              "</tr>\n",
              "<tr>\n",
              "   <td>30000</td>  <td>45000</td>    <td>0.0</td>     <td>0.9</td>   <td>-5.1623</td> <td>5.1623</td>   <td>False</td>\n",
              "</tr>\n",
              "<tr>\n",
              "   <td>30000</td>  <td>50000</td>   <td>-0.2</td>     <td>0.9</td>   <td>-5.1425</td> <td>4.7425</td>   <td>False</td>\n",
              "</tr>\n",
              "<tr>\n",
              "   <td>30000</td>  <td>54000</td>    <td>0.0</td>     <td>0.9</td>   <td>-6.6645</td> <td>6.6645</td>   <td>False</td>\n",
              "</tr>\n",
              "<tr>\n",
              "   <td>30000</td>  <td>55000</td>   <td>-0.8</td>     <td>0.9</td>   <td>-5.9623</td> <td>4.3623</td>   <td>False</td>\n",
              "</tr>\n",
              "<tr>\n",
              "   <td>30000</td>  <td>60000</td>  <td>-0.2143</td>   <td>0.9</td>   <td>-5.0922</td> <td>4.6636</td>   <td>False</td>\n",
              "</tr>\n",
              "<tr>\n",
              "   <td>30000</td>  <td>65000</td>    <td>0.0</td>     <td>0.9</td>   <td>-5.1623</td> <td>5.1623</td>   <td>False</td>\n",
              "</tr>\n",
              "<tr>\n",
              "   <td>30000</td>  <td>67000</td>    <td>1.0</td>     <td>0.9</td>   <td>-4.7716</td> <td>6.7716</td>   <td>False</td>\n",
              "</tr>\n",
              "<tr>\n",
              "   <td>30000</td>  <td>70000</td>  <td>0.3333</td>    <td>0.9</td>   <td>-5.1082</td> <td>5.7749</td>   <td>False</td>\n",
              "</tr>\n",
              "<tr>\n",
              "   <td>30000</td>  <td>71000</td>    <td>0.0</td>     <td>0.9</td>   <td>-6.6645</td> <td>6.6645</td>   <td>False</td>\n",
              "</tr>\n",
              "<tr>\n",
              "   <td>30000</td>  <td>76000</td>    <td>0.0</td>     <td>0.9</td>   <td>-5.7716</td> <td>5.7716</td>   <td>False</td>\n",
              "</tr>\n",
              "<tr>\n",
              "   <td>30000</td>  <td>80000</td>    <td>2.0</td>     <td>0.9</td>   <td>-4.6645</td> <td>8.6645</td>   <td>False</td>\n",
              "</tr>\n",
              "<tr>\n",
              "   <td>30000</td>  <td>90000</td>    <td>1.0</td>     <td>0.9</td>   <td>-5.6645</td> <td>7.6645</td>   <td>False</td>\n",
              "</tr>\n",
              "<tr>\n",
              "   <td>30000</td> <td>120000</td>    <td>0.0</td>     <td>0.9</td>   <td>-5.4415</td> <td>5.4415</td>   <td>False</td>\n",
              "</tr>\n",
              "<tr>\n",
              "   <td>30000</td> <td>124000</td>    <td>1.0</td>     <td>0.9</td>   <td>-5.6645</td> <td>7.6645</td>   <td>False</td>\n",
              "</tr>\n",
              "<tr>\n",
              "   <td>30000</td> <td>129000</td>    <td>0.0</td>     <td>0.9</td>   <td>-6.6645</td> <td>6.6645</td>   <td>False</td>\n",
              "</tr>\n",
              "<tr>\n",
              "   <td>45000</td>  <td>50000</td>   <td>-0.2</td>     <td>0.9</td>   <td>-2.7811</td> <td>2.3811</td>   <td>False</td>\n",
              "</tr>\n",
              "<tr>\n",
              "   <td>45000</td>  <td>54000</td>    <td>0.0</td>     <td>0.9</td>   <td>-5.1623</td> <td>5.1623</td>   <td>False</td>\n",
              "</tr>\n",
              "<tr>\n",
              "   <td>45000</td>  <td>55000</td>   <td>-0.8</td>     <td>0.9</td>   <td>-3.7804</td> <td>2.1804</td>   <td>False</td>\n",
              "</tr>\n",
              "<tr>\n",
              "   <td>45000</td>  <td>60000</td>  <td>-0.2143</td>   <td>0.9</td>   <td>-2.6694</td> <td>2.2409</td>   <td>False</td>\n",
              "</tr>\n",
              "<tr>\n",
              "   <td>45000</td>  <td>65000</td>    <td>0.0</td>     <td>0.9</td>   <td>-2.9804</td> <td>2.9804</td>   <td>False</td>\n",
              "</tr>\n",
              "<tr>\n",
              "   <td>45000</td>  <td>67000</td>    <td>1.0</td>     <td>0.9</td>   <td>-2.9428</td> <td>4.9428</td>   <td>False</td>\n",
              "</tr>\n",
              "<tr>\n",
              "   <td>45000</td>  <td>70000</td>  <td>0.3333</td>    <td>0.9</td>   <td>-3.1082</td> <td>3.7749</td>   <td>False</td>\n",
              "</tr>\n",
              "<tr>\n",
              "   <td>45000</td>  <td>71000</td>    <td>0.0</td>     <td>0.9</td>   <td>-5.1623</td> <td>5.1623</td>   <td>False</td>\n",
              "</tr>\n",
              "<tr>\n",
              "   <td>45000</td>  <td>76000</td>    <td>0.0</td>     <td>0.9</td>   <td>-3.9428</td> <td>3.9428</td>   <td>False</td>\n",
              "</tr>\n",
              "<tr>\n",
              "   <td>45000</td>  <td>80000</td>    <td>2.0</td>     <td>0.9</td>   <td>-3.1623</td> <td>7.1623</td>   <td>False</td>\n",
              "</tr>\n",
              "<tr>\n",
              "   <td>45000</td>  <td>90000</td>    <td>1.0</td>     <td>0.9</td>   <td>-4.1623</td> <td>6.1623</td>   <td>False</td>\n",
              "</tr>\n",
              "<tr>\n",
              "   <td>45000</td> <td>120000</td>    <td>0.0</td>     <td>0.9</td>   <td>-3.4415</td> <td>3.4415</td>   <td>False</td>\n",
              "</tr>\n",
              "<tr>\n",
              "   <td>45000</td> <td>124000</td>    <td>1.0</td>     <td>0.9</td>   <td>-4.1623</td> <td>6.1623</td>   <td>False</td>\n",
              "</tr>\n",
              "<tr>\n",
              "   <td>45000</td> <td>129000</td>    <td>0.0</td>     <td>0.9</td>   <td>-5.1623</td> <td>5.1623</td>   <td>False</td>\n",
              "</tr>\n",
              "<tr>\n",
              "   <td>50000</td>  <td>54000</td>    <td>0.2</td>     <td>0.9</td>   <td>-4.7425</td> <td>5.1425</td>   <td>False</td>\n",
              "</tr>\n",
              "<tr>\n",
              "   <td>50000</td>  <td>55000</td>   <td>-0.6</td>     <td>0.9</td>   <td>-3.1811</td> <td>1.9811</td>   <td>False</td>\n",
              "</tr>\n",
              "<tr>\n",
              "   <td>50000</td>  <td>60000</td>  <td>-0.0143</td>   <td>0.9</td>   <td>-1.9654</td> <td>1.9369</td>   <td>False</td>\n",
              "</tr>\n",
              "<tr>\n",
              "   <td>50000</td>  <td>65000</td>    <td>0.2</td>     <td>0.9</td>   <td>-2.3811</td> <td>2.7811</td>   <td>False</td>\n",
              "</tr>\n",
              "<tr>\n",
              "   <td>50000</td>  <td>67000</td>    <td>1.2</td>     <td>0.9</td>   <td>-2.4503</td> <td>4.8503</td>   <td>False</td>\n",
              "</tr>\n",
              "<tr>\n",
              "   <td>50000</td>  <td>70000</td>  <td>0.5333</td>    <td>0.9</td>   <td>-2.5688</td> <td>3.6355</td>   <td>False</td>\n",
              "</tr>\n",
              "<tr>\n",
              "   <td>50000</td>  <td>71000</td>    <td>0.2</td>     <td>0.9</td>   <td>-4.7425</td> <td>5.1425</td>   <td>False</td>\n",
              "</tr>\n",
              "<tr>\n",
              "   <td>50000</td>  <td>76000</td>    <td>0.2</td>     <td>0.9</td>   <td>-3.4503</td> <td>3.8503</td>   <td>False</td>\n",
              "</tr>\n",
              "<tr>\n",
              "   <td>50000</td>  <td>80000</td>    <td>2.2</td>     <td>0.9</td>   <td>-2.7425</td> <td>7.1425</td>   <td>False</td>\n",
              "</tr>\n",
              "<tr>\n",
              "   <td>50000</td>  <td>90000</td>    <td>1.2</td>     <td>0.9</td>   <td>-3.7425</td> <td>6.1425</td>   <td>False</td>\n",
              "</tr>\n",
              "<tr>\n",
              "   <td>50000</td> <td>120000</td>    <td>0.2</td>     <td>0.9</td>   <td>-2.9021</td> <td>3.3021</td>   <td>False</td>\n",
              "</tr>\n",
              "<tr>\n",
              "   <td>50000</td> <td>124000</td>    <td>1.2</td>     <td>0.9</td>   <td>-3.7425</td> <td>6.1425</td>   <td>False</td>\n",
              "</tr>\n",
              "<tr>\n",
              "   <td>50000</td> <td>129000</td>    <td>0.2</td>     <td>0.9</td>   <td>-4.7425</td> <td>5.1425</td>   <td>False</td>\n",
              "</tr>\n",
              "<tr>\n",
              "   <td>54000</td>  <td>55000</td>   <td>-0.8</td>     <td>0.9</td>   <td>-5.9623</td> <td>4.3623</td>   <td>False</td>\n",
              "</tr>\n",
              "<tr>\n",
              "   <td>54000</td>  <td>60000</td>  <td>-0.2143</td>   <td>0.9</td>   <td>-5.0922</td> <td>4.6636</td>   <td>False</td>\n",
              "</tr>\n",
              "<tr>\n",
              "   <td>54000</td>  <td>65000</td>    <td>0.0</td>     <td>0.9</td>   <td>-5.1623</td> <td>5.1623</td>   <td>False</td>\n",
              "</tr>\n",
              "<tr>\n",
              "   <td>54000</td>  <td>67000</td>    <td>1.0</td>     <td>0.9</td>   <td>-4.7716</td> <td>6.7716</td>   <td>False</td>\n",
              "</tr>\n",
              "<tr>\n",
              "   <td>54000</td>  <td>70000</td>  <td>0.3333</td>    <td>0.9</td>   <td>-5.1082</td> <td>5.7749</td>   <td>False</td>\n",
              "</tr>\n",
              "<tr>\n",
              "   <td>54000</td>  <td>71000</td>    <td>0.0</td>     <td>0.9</td>   <td>-6.6645</td> <td>6.6645</td>   <td>False</td>\n",
              "</tr>\n",
              "<tr>\n",
              "   <td>54000</td>  <td>76000</td>    <td>0.0</td>     <td>0.9</td>   <td>-5.7716</td> <td>5.7716</td>   <td>False</td>\n",
              "</tr>\n",
              "<tr>\n",
              "   <td>54000</td>  <td>80000</td>    <td>2.0</td>     <td>0.9</td>   <td>-4.6645</td> <td>8.6645</td>   <td>False</td>\n",
              "</tr>\n",
              "<tr>\n",
              "   <td>54000</td>  <td>90000</td>    <td>1.0</td>     <td>0.9</td>   <td>-5.6645</td> <td>7.6645</td>   <td>False</td>\n",
              "</tr>\n",
              "<tr>\n",
              "   <td>54000</td> <td>120000</td>    <td>0.0</td>     <td>0.9</td>   <td>-5.4415</td> <td>5.4415</td>   <td>False</td>\n",
              "</tr>\n",
              "<tr>\n",
              "   <td>54000</td> <td>124000</td>    <td>1.0</td>     <td>0.9</td>   <td>-5.6645</td> <td>7.6645</td>   <td>False</td>\n",
              "</tr>\n",
              "<tr>\n",
              "   <td>54000</td> <td>129000</td>    <td>0.0</td>     <td>0.9</td>   <td>-6.6645</td> <td>6.6645</td>   <td>False</td>\n",
              "</tr>\n",
              "<tr>\n",
              "   <td>55000</td>  <td>60000</td>  <td>0.5857</td>    <td>0.9</td>   <td>-1.8694</td> <td>3.0409</td>   <td>False</td>\n",
              "</tr>\n",
              "<tr>\n",
              "   <td>55000</td>  <td>65000</td>    <td>0.8</td>     <td>0.9</td>   <td>-2.1804</td> <td>3.7804</td>   <td>False</td>\n",
              "</tr>\n",
              "<tr>\n",
              "   <td>55000</td>  <td>67000</td>    <td>1.8</td>     <td>0.9</td>   <td>-2.1428</td> <td>5.7428</td>   <td>False</td>\n",
              "</tr>\n",
              "<tr>\n",
              "   <td>55000</td>  <td>70000</td>  <td>1.1333</td>    <td>0.9</td>   <td>-2.3082</td> <td>4.5749</td>   <td>False</td>\n",
              "</tr>\n",
              "<tr>\n",
              "   <td>55000</td>  <td>71000</td>    <td>0.8</td>     <td>0.9</td>   <td>-4.3623</td> <td>5.9623</td>   <td>False</td>\n",
              "</tr>\n",
              "<tr>\n",
              "   <td>55000</td>  <td>76000</td>    <td>0.8</td>     <td>0.9</td>   <td>-3.1428</td> <td>4.7428</td>   <td>False</td>\n",
              "</tr>\n",
              "<tr>\n",
              "   <td>55000</td>  <td>80000</td>    <td>2.8</td>     <td>0.9</td>   <td>-2.3623</td> <td>7.9623</td>   <td>False</td>\n",
              "</tr>\n",
              "<tr>\n",
              "   <td>55000</td>  <td>90000</td>    <td>1.8</td>     <td>0.9</td>   <td>-3.3623</td> <td>6.9623</td>   <td>False</td>\n",
              "</tr>\n",
              "<tr>\n",
              "   <td>55000</td> <td>120000</td>    <td>0.8</td>     <td>0.9</td>   <td>-2.6415</td> <td>4.2415</td>   <td>False</td>\n",
              "</tr>\n",
              "<tr>\n",
              "   <td>55000</td> <td>124000</td>    <td>1.8</td>     <td>0.9</td>   <td>-3.3623</td> <td>6.9623</td>   <td>False</td>\n",
              "</tr>\n",
              "<tr>\n",
              "   <td>55000</td> <td>129000</td>    <td>0.8</td>     <td>0.9</td>   <td>-4.3623</td> <td>5.9623</td>   <td>False</td>\n",
              "</tr>\n",
              "<tr>\n",
              "   <td>60000</td>  <td>65000</td>  <td>0.2143</td>    <td>0.9</td>   <td>-2.2409</td> <td>2.6694</td>   <td>False</td>\n",
              "</tr>\n",
              "<tr>\n",
              "   <td>60000</td>  <td>67000</td>  <td>1.2143</td>    <td>0.9</td>   <td>-2.348</td>  <td>4.7766</td>   <td>False</td>\n",
              "</tr>\n",
              "<tr>\n",
              "   <td>60000</td>  <td>70000</td>  <td>0.5476</td>    <td>0.9</td>   <td>-2.4505</td> <td>3.5458</td>   <td>False</td>\n",
              "</tr>\n",
              "<tr>\n",
              "   <td>60000</td>  <td>71000</td>  <td>0.2143</td>    <td>0.9</td>   <td>-4.6636</td> <td>5.0922</td>   <td>False</td>\n",
              "</tr>\n",
              "<tr>\n",
              "   <td>60000</td>  <td>76000</td>  <td>0.2143</td>    <td>0.9</td>   <td>-3.348</td>  <td>3.7766</td>   <td>False</td>\n",
              "</tr>\n",
              "<tr>\n",
              "   <td>60000</td>  <td>80000</td>  <td>2.2143</td>    <td>0.9</td>   <td>-2.6636</td> <td>7.0922</td>   <td>False</td>\n",
              "</tr>\n",
              "<tr>\n",
              "   <td>60000</td>  <td>90000</td>  <td>1.2143</td>    <td>0.9</td>   <td>-3.6636</td> <td>6.0922</td>   <td>False</td>\n",
              "</tr>\n",
              "<tr>\n",
              "   <td>60000</td> <td>120000</td>  <td>0.2143</td>    <td>0.9</td>   <td>-2.7838</td> <td>3.2124</td>   <td>False</td>\n",
              "</tr>\n",
              "<tr>\n",
              "   <td>60000</td> <td>124000</td>  <td>1.2143</td>    <td>0.9</td>   <td>-3.6636</td> <td>6.0922</td>   <td>False</td>\n",
              "</tr>\n",
              "<tr>\n",
              "   <td>60000</td> <td>129000</td>  <td>0.2143</td>    <td>0.9</td>   <td>-4.6636</td> <td>5.0922</td>   <td>False</td>\n",
              "</tr>\n",
              "<tr>\n",
              "   <td>65000</td>  <td>67000</td>    <td>1.0</td>     <td>0.9</td>   <td>-2.9428</td> <td>4.9428</td>   <td>False</td>\n",
              "</tr>\n",
              "<tr>\n",
              "   <td>65000</td>  <td>70000</td>  <td>0.3333</td>    <td>0.9</td>   <td>-3.1082</td> <td>3.7749</td>   <td>False</td>\n",
              "</tr>\n",
              "<tr>\n",
              "   <td>65000</td>  <td>71000</td>    <td>0.0</td>     <td>0.9</td>   <td>-5.1623</td> <td>5.1623</td>   <td>False</td>\n",
              "</tr>\n",
              "<tr>\n",
              "   <td>65000</td>  <td>76000</td>    <td>0.0</td>     <td>0.9</td>   <td>-3.9428</td> <td>3.9428</td>   <td>False</td>\n",
              "</tr>\n",
              "<tr>\n",
              "   <td>65000</td>  <td>80000</td>    <td>2.0</td>     <td>0.9</td>   <td>-3.1623</td> <td>7.1623</td>   <td>False</td>\n",
              "</tr>\n",
              "<tr>\n",
              "   <td>65000</td>  <td>90000</td>    <td>1.0</td>     <td>0.9</td>   <td>-4.1623</td> <td>6.1623</td>   <td>False</td>\n",
              "</tr>\n",
              "<tr>\n",
              "   <td>65000</td> <td>120000</td>    <td>0.0</td>     <td>0.9</td>   <td>-3.4415</td> <td>3.4415</td>   <td>False</td>\n",
              "</tr>\n",
              "<tr>\n",
              "   <td>65000</td> <td>124000</td>    <td>1.0</td>     <td>0.9</td>   <td>-4.1623</td> <td>6.1623</td>   <td>False</td>\n",
              "</tr>\n",
              "<tr>\n",
              "   <td>65000</td> <td>129000</td>    <td>0.0</td>     <td>0.9</td>   <td>-5.1623</td> <td>5.1623</td>   <td>False</td>\n",
              "</tr>\n",
              "<tr>\n",
              "   <td>67000</td>  <td>70000</td>  <td>-0.6667</td>   <td>0.9</td>   <td>-4.9686</td> <td>3.6352</td>   <td>False</td>\n",
              "</tr>\n",
              "<tr>\n",
              "   <td>67000</td>  <td>71000</td>   <td>-1.0</td>     <td>0.9</td>   <td>-6.7716</td> <td>4.7716</td>   <td>False</td>\n",
              "</tr>\n",
              "<tr>\n",
              "   <td>67000</td>  <td>76000</td>   <td>-1.0</td>     <td>0.9</td>   <td>-5.7125</td> <td>3.7125</td>   <td>False</td>\n",
              "</tr>\n",
              "<tr>\n",
              "   <td>67000</td>  <td>80000</td>    <td>1.0</td>     <td>0.9</td>   <td>-4.7716</td> <td>6.7716</td>   <td>False</td>\n",
              "</tr>\n",
              "<tr>\n",
              "   <td>67000</td>  <td>90000</td>    <td>0.0</td>     <td>0.9</td>   <td>-5.7716</td> <td>5.7716</td>   <td>False</td>\n",
              "</tr>\n",
              "<tr>\n",
              "   <td>67000</td> <td>120000</td>   <td>-1.0</td>     <td>0.9</td>   <td>-5.3019</td> <td>3.3019</td>   <td>False</td>\n",
              "</tr>\n",
              "<tr>\n",
              "   <td>67000</td> <td>124000</td>    <td>0.0</td>     <td>0.9</td>   <td>-5.7716</td> <td>5.7716</td>   <td>False</td>\n",
              "</tr>\n",
              "<tr>\n",
              "   <td>67000</td> <td>129000</td>   <td>-1.0</td>     <td>0.9</td>   <td>-6.7716</td> <td>4.7716</td>   <td>False</td>\n",
              "</tr>\n",
              "<tr>\n",
              "   <td>70000</td>  <td>71000</td>  <td>-0.3333</td>   <td>0.9</td>   <td>-5.7749</td> <td>5.1082</td>   <td>False</td>\n",
              "</tr>\n",
              "<tr>\n",
              "   <td>70000</td>  <td>76000</td>  <td>-0.3333</td>   <td>0.9</td>   <td>-4.6352</td> <td>3.9686</td>   <td>False</td>\n",
              "</tr>\n",
              "<tr>\n",
              "   <td>70000</td>  <td>80000</td>  <td>1.6667</td>    <td>0.9</td>   <td>-3.7749</td> <td>7.1082</td>   <td>False</td>\n",
              "</tr>\n",
              "<tr>\n",
              "   <td>70000</td>  <td>90000</td>  <td>0.6667</td>    <td>0.9</td>   <td>-4.7749</td> <td>6.1082</td>   <td>False</td>\n",
              "</tr>\n",
              "<tr>\n",
              "   <td>70000</td> <td>120000</td>  <td>-0.3333</td>   <td>0.9</td>   <td>-4.1811</td> <td>3.5144</td>   <td>False</td>\n",
              "</tr>\n",
              "<tr>\n",
              "   <td>70000</td> <td>124000</td>  <td>0.6667</td>    <td>0.9</td>   <td>-4.7749</td> <td>6.1082</td>   <td>False</td>\n",
              "</tr>\n",
              "<tr>\n",
              "   <td>70000</td> <td>129000</td>  <td>-0.3333</td>   <td>0.9</td>   <td>-5.7749</td> <td>5.1082</td>   <td>False</td>\n",
              "</tr>\n",
              "<tr>\n",
              "   <td>71000</td>  <td>76000</td>    <td>0.0</td>     <td>0.9</td>   <td>-5.7716</td> <td>5.7716</td>   <td>False</td>\n",
              "</tr>\n",
              "<tr>\n",
              "   <td>71000</td>  <td>80000</td>    <td>2.0</td>     <td>0.9</td>   <td>-4.6645</td> <td>8.6645</td>   <td>False</td>\n",
              "</tr>\n",
              "<tr>\n",
              "   <td>71000</td>  <td>90000</td>    <td>1.0</td>     <td>0.9</td>   <td>-5.6645</td> <td>7.6645</td>   <td>False</td>\n",
              "</tr>\n",
              "<tr>\n",
              "   <td>71000</td> <td>120000</td>    <td>0.0</td>     <td>0.9</td>   <td>-5.4415</td> <td>5.4415</td>   <td>False</td>\n",
              "</tr>\n",
              "<tr>\n",
              "   <td>71000</td> <td>124000</td>    <td>1.0</td>     <td>0.9</td>   <td>-5.6645</td> <td>7.6645</td>   <td>False</td>\n",
              "</tr>\n",
              "<tr>\n",
              "   <td>71000</td> <td>129000</td>    <td>0.0</td>     <td>0.9</td>   <td>-6.6645</td> <td>6.6645</td>   <td>False</td>\n",
              "</tr>\n",
              "<tr>\n",
              "   <td>76000</td>  <td>80000</td>    <td>2.0</td>     <td>0.9</td>   <td>-3.7716</td> <td>7.7716</td>   <td>False</td>\n",
              "</tr>\n",
              "<tr>\n",
              "   <td>76000</td>  <td>90000</td>    <td>1.0</td>     <td>0.9</td>   <td>-4.7716</td> <td>6.7716</td>   <td>False</td>\n",
              "</tr>\n",
              "<tr>\n",
              "   <td>76000</td> <td>120000</td>    <td>0.0</td>     <td>0.9</td>   <td>-4.3019</td> <td>4.3019</td>   <td>False</td>\n",
              "</tr>\n",
              "<tr>\n",
              "   <td>76000</td> <td>124000</td>    <td>1.0</td>     <td>0.9</td>   <td>-4.7716</td> <td>6.7716</td>   <td>False</td>\n",
              "</tr>\n",
              "<tr>\n",
              "   <td>76000</td> <td>129000</td>    <td>0.0</td>     <td>0.9</td>   <td>-5.7716</td> <td>5.7716</td>   <td>False</td>\n",
              "</tr>\n",
              "<tr>\n",
              "   <td>80000</td>  <td>90000</td>   <td>-1.0</td>     <td>0.9</td>   <td>-7.6645</td> <td>5.6645</td>   <td>False</td>\n",
              "</tr>\n",
              "<tr>\n",
              "   <td>80000</td> <td>120000</td>   <td>-2.0</td>     <td>0.9</td>   <td>-7.4415</td> <td>3.4415</td>   <td>False</td>\n",
              "</tr>\n",
              "<tr>\n",
              "   <td>80000</td> <td>124000</td>   <td>-1.0</td>     <td>0.9</td>   <td>-7.6645</td> <td>5.6645</td>   <td>False</td>\n",
              "</tr>\n",
              "<tr>\n",
              "   <td>80000</td> <td>129000</td>   <td>-2.0</td>     <td>0.9</td>   <td>-8.6645</td> <td>4.6645</td>   <td>False</td>\n",
              "</tr>\n",
              "<tr>\n",
              "   <td>90000</td> <td>120000</td>   <td>-1.0</td>     <td>0.9</td>   <td>-6.4415</td> <td>4.4415</td>   <td>False</td>\n",
              "</tr>\n",
              "<tr>\n",
              "   <td>90000</td> <td>124000</td>    <td>0.0</td>     <td>0.9</td>   <td>-6.6645</td> <td>6.6645</td>   <td>False</td>\n",
              "</tr>\n",
              "<tr>\n",
              "   <td>90000</td> <td>129000</td>   <td>-1.0</td>     <td>0.9</td>   <td>-7.6645</td> <td>5.6645</td>   <td>False</td>\n",
              "</tr>\n",
              "<tr>\n",
              "  <td>120000</td> <td>124000</td>    <td>1.0</td>     <td>0.9</td>   <td>-4.4415</td> <td>6.4415</td>   <td>False</td>\n",
              "</tr>\n",
              "<tr>\n",
              "  <td>120000</td> <td>129000</td>    <td>0.0</td>     <td>0.9</td>   <td>-5.4415</td> <td>5.4415</td>   <td>False</td>\n",
              "</tr>\n",
              "<tr>\n",
              "  <td>124000</td> <td>129000</td>   <td>-1.0</td>     <td>0.9</td>   <td>-7.6645</td> <td>5.6645</td>   <td>False</td>\n",
              "</tr>\n",
              "</table>"
            ]
          },
          "metadata": {},
          "execution_count": 80
        }
      ]
    },
    {
      "cell_type": "code",
      "source": [
        "# using variance to test mean equality"
      ],
      "metadata": {
        "id": "ovR_KiEq0EZM"
      },
      "execution_count": null,
      "outputs": []
    },
    {
      "cell_type": "markdown",
      "source": [
        "## Two qualitative variables"
      ],
      "metadata": {
        "id": "xNfaEg6dCs9Z"
      }
    },
    {
      "cell_type": "markdown",
      "source": [
        "## 3) Does occupation influence trust?  \n",
        "To examine this relationship I will use a chi-square test. This method is used to make an assumption about the distribution of a variable or to decide if a relationship between 2 variabes exists. When performing this test, an X^2 distribution curve is formed, which directly depends on the **number of degrees of freedom.** This is how an inference is able to be made.  \n",
        "\n",
        "\n",
        "> Hypothesis 0: Num_reliable and Occupation have no relationship.\n",
        "\n",
        "\n",
        "> Hypothesis 1: Num_reliable and Occupation have a relationship.\n",
        "\n",
        "Degrees of freedom for X^2 independence test statistics = (# rows-1)*(# columns-1)  \n",
        "  \n",
        "  So if Hypothesis 0 is true, the statistic will approximate a Chi-square distribution with (# rows-1)*(# columns-1) degress of freedom, if the sample size is large enough. \n",
        "\n",
        "\n",
        "\n"
      ],
      "metadata": {
        "id": "TXdZfNJp0xLy"
      }
    },
    {
      "cell_type": "code",
      "source": [
        "# CHI SQUARE TEST\n",
        "# two qualitative\n",
        "# create contingency table\n",
        "data_crosstab = pd.crosstab(news['Occupation'],\n",
        "                            news['num_reliable'],\n",
        "                           margins=True, margins_name=\"Total\")\n",
        "\n",
        "# significance level\n",
        "alpha = 0.05\n",
        "\n",
        "# Calcualtion of Chisquare\n",
        "chi_square = 0\n",
        "rows = news['Occupation'].unique()\n",
        "columns = news['num_reliable'].unique()\n",
        "for i in columns:\n",
        "    for j in rows:\n",
        "        O = data_crosstab[i][j]\n",
        "        E = data_crosstab[i]['Total'] * data_crosstab['Total'][j] / data_crosstab['Total']['Total']\n",
        "        chi_square += (O-E)**2/E\n",
        "\n",
        "# The p-value approach\n",
        "print(\"Approach 1: The p-value approach to hypothesis testing in the decision rule\")\n",
        "p_value = 1 - stats.chi2.cdf(chi_square, (len(rows)-1)*(len(columns)-1))\n",
        "conclusion = \"Failed to reject the null hypothesis.\"\n",
        "if p_value <= alpha:\n",
        "    conclusion = \"Null Hypothesis is rejected.\"\n",
        "        \n",
        "print(\"chisquare-score is:\", chi_square, \" and p value is:\", p_value)\n",
        "print(conclusion)\n",
        "    \n",
        "# The critical value approach\n",
        "print(\"\\n--------------------------------------------------------------------------------------\")\n",
        "print(\"Approach 2: The critical value approach to hypothesis testing in the decision rule\")\n",
        "critical_value = stats.chi2.ppf(1-alpha, (len(rows)-1)*(len(columns)-1))\n",
        "conclusion = \"Failed to reject the null hypothesis.\"\n",
        "if chi_square > critical_value:\n",
        "    conclusion = \"Null Hypothesis is rejected.\"\n",
        "        \n",
        "print(\"chisquare-score is:\", chi_square, \" and critical value is:\", critical_value)\n",
        "print(conclusion)\n"
      ],
      "metadata": {
        "colab": {
          "base_uri": "https://localhost:8080/"
        },
        "id": "m2Anh6zPeygi",
        "outputId": "866a5733-7a63-4ee9-f949-933f99c569e5"
      },
      "execution_count": null,
      "outputs": [
        {
          "output_type": "stream",
          "name": "stdout",
          "text": [
            "Approach 1: The p-value approach to hypothesis testing in the decision rule\n",
            "chisquare-score is: 74.71527777777779  and p value is: 0.2693935265817633\n",
            "Failed to reject the null hypothesis.\n",
            "\n",
            "--------------------------------------------------------------------------------------\n",
            "Approach 2: The critical value approach to hypothesis testing in the decision rule\n",
            "chisquare-score is: 74.71527777777779  and critical value is: 88.25016442187412\n",
            "Failed to reject the null hypothesis.\n"
          ]
        }
      ]
    },
    {
      "cell_type": "markdown",
      "source": [
        "We have failed to reject the null hypothesis in both cases. But again, this doesn't mean we can find evidence for Hypothesis 1. And THIS fact doesn't mean there is evidence that Hypothesis 0 is true either, as we have seen from the test. It is not significant."
      ],
      "metadata": {
        "id": "PgVayOsj2iz5"
      }
    },
    {
      "cell_type": "markdown",
      "source": [
        "## Observed Frequencies"
      ],
      "metadata": {
        "id": "TI42djTk8TjO"
      }
    },
    {
      "cell_type": "code",
      "source": [
        "data_crosstab"
      ],
      "metadata": {
        "colab": {
          "base_uri": "https://localhost:8080/",
          "height": 677
        },
        "id": "5yIKAAu68WOx",
        "outputId": "12155bb1-a20b-44db-bff7-cf7735385089"
      },
      "execution_count": null,
      "outputs": [
        {
          "output_type": "execute_result",
          "data": {
            "text/plain": [
              "num_reliable       0   1   2   3  4  Total\n",
              "Occupation                                \n",
              "Accounting         2   0   0   1  2      5\n",
              "Admin Assistant    0   1   1   1  0      3\n",
              "Cashier            1   0   0   0  0      1\n",
              "Construction       2   0   2   0  0      4\n",
              "Doctor             0   1   1   1  0      3\n",
              "Education          0   0   3   2  0      5\n",
              "Finance            2   3   4   1  0     10\n",
              "Hotel Management   0   0   1   0  0      1\n",
              "Laborer            0   0   0   2  0      2\n",
              "Lawyer             0   0   0   1  0      1\n",
              "Marketing          0   0   2   0  0      2\n",
              "Medical            0   0   2   0  0      2\n",
              "Nurse              1   0   0   1  0      2\n",
              "Real Estate        0   1   1   0  2      4\n",
              "Sales              0   2   5   2  0      9\n",
              "Sales Associate    0   0   1   0  0      1\n",
              "Student           10   3   8   4  5     30\n",
              "Web Developer      0   0   2   0  0      2\n",
              "Total             18  11  33  16  9     87"
            ],
            "text/html": [
              "\n",
              "  <div id=\"df-45355068-6403-4a7f-9dac-74a0ab67e8d6\">\n",
              "    <div class=\"colab-df-container\">\n",
              "      <div>\n",
              "<style scoped>\n",
              "    .dataframe tbody tr th:only-of-type {\n",
              "        vertical-align: middle;\n",
              "    }\n",
              "\n",
              "    .dataframe tbody tr th {\n",
              "        vertical-align: top;\n",
              "    }\n",
              "\n",
              "    .dataframe thead th {\n",
              "        text-align: right;\n",
              "    }\n",
              "</style>\n",
              "<table border=\"1\" class=\"dataframe\">\n",
              "  <thead>\n",
              "    <tr style=\"text-align: right;\">\n",
              "      <th>num_reliable</th>\n",
              "      <th>0</th>\n",
              "      <th>1</th>\n",
              "      <th>2</th>\n",
              "      <th>3</th>\n",
              "      <th>4</th>\n",
              "      <th>Total</th>\n",
              "    </tr>\n",
              "    <tr>\n",
              "      <th>Occupation</th>\n",
              "      <th></th>\n",
              "      <th></th>\n",
              "      <th></th>\n",
              "      <th></th>\n",
              "      <th></th>\n",
              "      <th></th>\n",
              "    </tr>\n",
              "  </thead>\n",
              "  <tbody>\n",
              "    <tr>\n",
              "      <th>Accounting</th>\n",
              "      <td>2</td>\n",
              "      <td>0</td>\n",
              "      <td>0</td>\n",
              "      <td>1</td>\n",
              "      <td>2</td>\n",
              "      <td>5</td>\n",
              "    </tr>\n",
              "    <tr>\n",
              "      <th>Admin Assistant</th>\n",
              "      <td>0</td>\n",
              "      <td>1</td>\n",
              "      <td>1</td>\n",
              "      <td>1</td>\n",
              "      <td>0</td>\n",
              "      <td>3</td>\n",
              "    </tr>\n",
              "    <tr>\n",
              "      <th>Cashier</th>\n",
              "      <td>1</td>\n",
              "      <td>0</td>\n",
              "      <td>0</td>\n",
              "      <td>0</td>\n",
              "      <td>0</td>\n",
              "      <td>1</td>\n",
              "    </tr>\n",
              "    <tr>\n",
              "      <th>Construction</th>\n",
              "      <td>2</td>\n",
              "      <td>0</td>\n",
              "      <td>2</td>\n",
              "      <td>0</td>\n",
              "      <td>0</td>\n",
              "      <td>4</td>\n",
              "    </tr>\n",
              "    <tr>\n",
              "      <th>Doctor</th>\n",
              "      <td>0</td>\n",
              "      <td>1</td>\n",
              "      <td>1</td>\n",
              "      <td>1</td>\n",
              "      <td>0</td>\n",
              "      <td>3</td>\n",
              "    </tr>\n",
              "    <tr>\n",
              "      <th>Education</th>\n",
              "      <td>0</td>\n",
              "      <td>0</td>\n",
              "      <td>3</td>\n",
              "      <td>2</td>\n",
              "      <td>0</td>\n",
              "      <td>5</td>\n",
              "    </tr>\n",
              "    <tr>\n",
              "      <th>Finance</th>\n",
              "      <td>2</td>\n",
              "      <td>3</td>\n",
              "      <td>4</td>\n",
              "      <td>1</td>\n",
              "      <td>0</td>\n",
              "      <td>10</td>\n",
              "    </tr>\n",
              "    <tr>\n",
              "      <th>Hotel Management</th>\n",
              "      <td>0</td>\n",
              "      <td>0</td>\n",
              "      <td>1</td>\n",
              "      <td>0</td>\n",
              "      <td>0</td>\n",
              "      <td>1</td>\n",
              "    </tr>\n",
              "    <tr>\n",
              "      <th>Laborer</th>\n",
              "      <td>0</td>\n",
              "      <td>0</td>\n",
              "      <td>0</td>\n",
              "      <td>2</td>\n",
              "      <td>0</td>\n",
              "      <td>2</td>\n",
              "    </tr>\n",
              "    <tr>\n",
              "      <th>Lawyer</th>\n",
              "      <td>0</td>\n",
              "      <td>0</td>\n",
              "      <td>0</td>\n",
              "      <td>1</td>\n",
              "      <td>0</td>\n",
              "      <td>1</td>\n",
              "    </tr>\n",
              "    <tr>\n",
              "      <th>Marketing</th>\n",
              "      <td>0</td>\n",
              "      <td>0</td>\n",
              "      <td>2</td>\n",
              "      <td>0</td>\n",
              "      <td>0</td>\n",
              "      <td>2</td>\n",
              "    </tr>\n",
              "    <tr>\n",
              "      <th>Medical</th>\n",
              "      <td>0</td>\n",
              "      <td>0</td>\n",
              "      <td>2</td>\n",
              "      <td>0</td>\n",
              "      <td>0</td>\n",
              "      <td>2</td>\n",
              "    </tr>\n",
              "    <tr>\n",
              "      <th>Nurse</th>\n",
              "      <td>1</td>\n",
              "      <td>0</td>\n",
              "      <td>0</td>\n",
              "      <td>1</td>\n",
              "      <td>0</td>\n",
              "      <td>2</td>\n",
              "    </tr>\n",
              "    <tr>\n",
              "      <th>Real Estate</th>\n",
              "      <td>0</td>\n",
              "      <td>1</td>\n",
              "      <td>1</td>\n",
              "      <td>0</td>\n",
              "      <td>2</td>\n",
              "      <td>4</td>\n",
              "    </tr>\n",
              "    <tr>\n",
              "      <th>Sales</th>\n",
              "      <td>0</td>\n",
              "      <td>2</td>\n",
              "      <td>5</td>\n",
              "      <td>2</td>\n",
              "      <td>0</td>\n",
              "      <td>9</td>\n",
              "    </tr>\n",
              "    <tr>\n",
              "      <th>Sales Associate</th>\n",
              "      <td>0</td>\n",
              "      <td>0</td>\n",
              "      <td>1</td>\n",
              "      <td>0</td>\n",
              "      <td>0</td>\n",
              "      <td>1</td>\n",
              "    </tr>\n",
              "    <tr>\n",
              "      <th>Student</th>\n",
              "      <td>10</td>\n",
              "      <td>3</td>\n",
              "      <td>8</td>\n",
              "      <td>4</td>\n",
              "      <td>5</td>\n",
              "      <td>30</td>\n",
              "    </tr>\n",
              "    <tr>\n",
              "      <th>Web Developer</th>\n",
              "      <td>0</td>\n",
              "      <td>0</td>\n",
              "      <td>2</td>\n",
              "      <td>0</td>\n",
              "      <td>0</td>\n",
              "      <td>2</td>\n",
              "    </tr>\n",
              "    <tr>\n",
              "      <th>Total</th>\n",
              "      <td>18</td>\n",
              "      <td>11</td>\n",
              "      <td>33</td>\n",
              "      <td>16</td>\n",
              "      <td>9</td>\n",
              "      <td>87</td>\n",
              "    </tr>\n",
              "  </tbody>\n",
              "</table>\n",
              "</div>\n",
              "      <button class=\"colab-df-convert\" onclick=\"convertToInteractive('df-45355068-6403-4a7f-9dac-74a0ab67e8d6')\"\n",
              "              title=\"Convert this dataframe to an interactive table.\"\n",
              "              style=\"display:none;\">\n",
              "        \n",
              "  <svg xmlns=\"http://www.w3.org/2000/svg\" height=\"24px\"viewBox=\"0 0 24 24\"\n",
              "       width=\"24px\">\n",
              "    <path d=\"M0 0h24v24H0V0z\" fill=\"none\"/>\n",
              "    <path d=\"M18.56 5.44l.94 2.06.94-2.06 2.06-.94-2.06-.94-.94-2.06-.94 2.06-2.06.94zm-11 1L8.5 8.5l.94-2.06 2.06-.94-2.06-.94L8.5 2.5l-.94 2.06-2.06.94zm10 10l.94 2.06.94-2.06 2.06-.94-2.06-.94-.94-2.06-.94 2.06-2.06.94z\"/><path d=\"M17.41 7.96l-1.37-1.37c-.4-.4-.92-.59-1.43-.59-.52 0-1.04.2-1.43.59L10.3 9.45l-7.72 7.72c-.78.78-.78 2.05 0 2.83L4 21.41c.39.39.9.59 1.41.59.51 0 1.02-.2 1.41-.59l7.78-7.78 2.81-2.81c.8-.78.8-2.07 0-2.86zM5.41 20L4 18.59l7.72-7.72 1.47 1.35L5.41 20z\"/>\n",
              "  </svg>\n",
              "      </button>\n",
              "      \n",
              "  <style>\n",
              "    .colab-df-container {\n",
              "      display:flex;\n",
              "      flex-wrap:wrap;\n",
              "      gap: 12px;\n",
              "    }\n",
              "\n",
              "    .colab-df-convert {\n",
              "      background-color: #E8F0FE;\n",
              "      border: none;\n",
              "      border-radius: 50%;\n",
              "      cursor: pointer;\n",
              "      display: none;\n",
              "      fill: #1967D2;\n",
              "      height: 32px;\n",
              "      padding: 0 0 0 0;\n",
              "      width: 32px;\n",
              "    }\n",
              "\n",
              "    .colab-df-convert:hover {\n",
              "      background-color: #E2EBFA;\n",
              "      box-shadow: 0px 1px 2px rgba(60, 64, 67, 0.3), 0px 1px 3px 1px rgba(60, 64, 67, 0.15);\n",
              "      fill: #174EA6;\n",
              "    }\n",
              "\n",
              "    [theme=dark] .colab-df-convert {\n",
              "      background-color: #3B4455;\n",
              "      fill: #D2E3FC;\n",
              "    }\n",
              "\n",
              "    [theme=dark] .colab-df-convert:hover {\n",
              "      background-color: #434B5C;\n",
              "      box-shadow: 0px 1px 3px 1px rgba(0, 0, 0, 0.15);\n",
              "      filter: drop-shadow(0px 1px 2px rgba(0, 0, 0, 0.3));\n",
              "      fill: #FFFFFF;\n",
              "    }\n",
              "  </style>\n",
              "\n",
              "      <script>\n",
              "        const buttonEl =\n",
              "          document.querySelector('#df-45355068-6403-4a7f-9dac-74a0ab67e8d6 button.colab-df-convert');\n",
              "        buttonEl.style.display =\n",
              "          google.colab.kernel.accessAllowed ? 'block' : 'none';\n",
              "\n",
              "        async function convertToInteractive(key) {\n",
              "          const element = document.querySelector('#df-45355068-6403-4a7f-9dac-74a0ab67e8d6');\n",
              "          const dataTable =\n",
              "            await google.colab.kernel.invokeFunction('convertToInteractive',\n",
              "                                                     [key], {});\n",
              "          if (!dataTable) return;\n",
              "\n",
              "          const docLinkHtml = 'Like what you see? Visit the ' +\n",
              "            '<a target=\"_blank\" href=https://colab.research.google.com/notebooks/data_table.ipynb>data table notebook</a>'\n",
              "            + ' to learn more about interactive tables.';\n",
              "          element.innerHTML = '';\n",
              "          dataTable['output_type'] = 'display_data';\n",
              "          await google.colab.output.renderOutput(dataTable, element);\n",
              "          const docLink = document.createElement('div');\n",
              "          docLink.innerHTML = docLinkHtml;\n",
              "          element.appendChild(docLink);\n",
              "        }\n",
              "      </script>\n",
              "    </div>\n",
              "  </div>\n",
              "  "
            ]
          },
          "metadata": {},
          "execution_count": 90
        }
      ]
    },
    {
      "cell_type": "markdown",
      "source": [
        "## Expected frequencies\n",
        "(are all less than 5)"
      ],
      "metadata": {
        "id": "0uDJmICP78I7"
      }
    },
    {
      "cell_type": "code",
      "source": [
        "# chi square value\n",
        "# p-value\n",
        "# degrees of freedom\n",
        "# expected frequencies as an array\n",
        "results = stats.chi2_contingency(data_crosstab)\n",
        "results\n",
        "expected_frequencies = pd.DataFrame(results[3],columns=['0','1','2','3','4','total'],index=data_crosstab.index)\n",
        "expected_frequencies"
      ],
      "metadata": {
        "colab": {
          "base_uri": "https://localhost:8080/",
          "height": 677
        },
        "id": "hMInwxXI6noe",
        "outputId": "01560810-7b01-4f2d-cb65-967173871b54"
      },
      "execution_count": null,
      "outputs": [
        {
          "output_type": "execute_result",
          "data": {
            "text/plain": [
              "                          0          1          2          3         4  total\n",
              "Occupation                                                                   \n",
              "Accounting         1.034483   0.632184   1.896552   0.919540  0.517241    5.0\n",
              "Admin Assistant    0.620690   0.379310   1.137931   0.551724  0.310345    3.0\n",
              "Cashier            0.206897   0.126437   0.379310   0.183908  0.103448    1.0\n",
              "Construction       0.827586   0.505747   1.517241   0.735632  0.413793    4.0\n",
              "Doctor             0.620690   0.379310   1.137931   0.551724  0.310345    3.0\n",
              "Education          1.034483   0.632184   1.896552   0.919540  0.517241    5.0\n",
              "Finance            2.068966   1.264368   3.793103   1.839080  1.034483   10.0\n",
              "Hotel Management   0.206897   0.126437   0.379310   0.183908  0.103448    1.0\n",
              "Laborer            0.413793   0.252874   0.758621   0.367816  0.206897    2.0\n",
              "Lawyer             0.206897   0.126437   0.379310   0.183908  0.103448    1.0\n",
              "Marketing          0.413793   0.252874   0.758621   0.367816  0.206897    2.0\n",
              "Medical            0.413793   0.252874   0.758621   0.367816  0.206897    2.0\n",
              "Nurse              0.413793   0.252874   0.758621   0.367816  0.206897    2.0\n",
              "Real Estate        0.827586   0.505747   1.517241   0.735632  0.413793    4.0\n",
              "Sales              1.862069   1.137931   3.413793   1.655172  0.931034    9.0\n",
              "Sales Associate    0.206897   0.126437   0.379310   0.183908  0.103448    1.0\n",
              "Student            6.206897   3.793103  11.379310   5.517241  3.103448   30.0\n",
              "Web Developer      0.413793   0.252874   0.758621   0.367816  0.206897    2.0\n",
              "Total             18.000000  11.000000  33.000000  16.000000  9.000000   87.0"
            ],
            "text/html": [
              "\n",
              "  <div id=\"df-e249735e-bdf2-4da7-8baf-d35c8b80f08f\">\n",
              "    <div class=\"colab-df-container\">\n",
              "      <div>\n",
              "<style scoped>\n",
              "    .dataframe tbody tr th:only-of-type {\n",
              "        vertical-align: middle;\n",
              "    }\n",
              "\n",
              "    .dataframe tbody tr th {\n",
              "        vertical-align: top;\n",
              "    }\n",
              "\n",
              "    .dataframe thead th {\n",
              "        text-align: right;\n",
              "    }\n",
              "</style>\n",
              "<table border=\"1\" class=\"dataframe\">\n",
              "  <thead>\n",
              "    <tr style=\"text-align: right;\">\n",
              "      <th></th>\n",
              "      <th>0</th>\n",
              "      <th>1</th>\n",
              "      <th>2</th>\n",
              "      <th>3</th>\n",
              "      <th>4</th>\n",
              "      <th>total</th>\n",
              "    </tr>\n",
              "    <tr>\n",
              "      <th>Occupation</th>\n",
              "      <th></th>\n",
              "      <th></th>\n",
              "      <th></th>\n",
              "      <th></th>\n",
              "      <th></th>\n",
              "      <th></th>\n",
              "    </tr>\n",
              "  </thead>\n",
              "  <tbody>\n",
              "    <tr>\n",
              "      <th>Accounting</th>\n",
              "      <td>1.034483</td>\n",
              "      <td>0.632184</td>\n",
              "      <td>1.896552</td>\n",
              "      <td>0.919540</td>\n",
              "      <td>0.517241</td>\n",
              "      <td>5.0</td>\n",
              "    </tr>\n",
              "    <tr>\n",
              "      <th>Admin Assistant</th>\n",
              "      <td>0.620690</td>\n",
              "      <td>0.379310</td>\n",
              "      <td>1.137931</td>\n",
              "      <td>0.551724</td>\n",
              "      <td>0.310345</td>\n",
              "      <td>3.0</td>\n",
              "    </tr>\n",
              "    <tr>\n",
              "      <th>Cashier</th>\n",
              "      <td>0.206897</td>\n",
              "      <td>0.126437</td>\n",
              "      <td>0.379310</td>\n",
              "      <td>0.183908</td>\n",
              "      <td>0.103448</td>\n",
              "      <td>1.0</td>\n",
              "    </tr>\n",
              "    <tr>\n",
              "      <th>Construction</th>\n",
              "      <td>0.827586</td>\n",
              "      <td>0.505747</td>\n",
              "      <td>1.517241</td>\n",
              "      <td>0.735632</td>\n",
              "      <td>0.413793</td>\n",
              "      <td>4.0</td>\n",
              "    </tr>\n",
              "    <tr>\n",
              "      <th>Doctor</th>\n",
              "      <td>0.620690</td>\n",
              "      <td>0.379310</td>\n",
              "      <td>1.137931</td>\n",
              "      <td>0.551724</td>\n",
              "      <td>0.310345</td>\n",
              "      <td>3.0</td>\n",
              "    </tr>\n",
              "    <tr>\n",
              "      <th>Education</th>\n",
              "      <td>1.034483</td>\n",
              "      <td>0.632184</td>\n",
              "      <td>1.896552</td>\n",
              "      <td>0.919540</td>\n",
              "      <td>0.517241</td>\n",
              "      <td>5.0</td>\n",
              "    </tr>\n",
              "    <tr>\n",
              "      <th>Finance</th>\n",
              "      <td>2.068966</td>\n",
              "      <td>1.264368</td>\n",
              "      <td>3.793103</td>\n",
              "      <td>1.839080</td>\n",
              "      <td>1.034483</td>\n",
              "      <td>10.0</td>\n",
              "    </tr>\n",
              "    <tr>\n",
              "      <th>Hotel Management</th>\n",
              "      <td>0.206897</td>\n",
              "      <td>0.126437</td>\n",
              "      <td>0.379310</td>\n",
              "      <td>0.183908</td>\n",
              "      <td>0.103448</td>\n",
              "      <td>1.0</td>\n",
              "    </tr>\n",
              "    <tr>\n",
              "      <th>Laborer</th>\n",
              "      <td>0.413793</td>\n",
              "      <td>0.252874</td>\n",
              "      <td>0.758621</td>\n",
              "      <td>0.367816</td>\n",
              "      <td>0.206897</td>\n",
              "      <td>2.0</td>\n",
              "    </tr>\n",
              "    <tr>\n",
              "      <th>Lawyer</th>\n",
              "      <td>0.206897</td>\n",
              "      <td>0.126437</td>\n",
              "      <td>0.379310</td>\n",
              "      <td>0.183908</td>\n",
              "      <td>0.103448</td>\n",
              "      <td>1.0</td>\n",
              "    </tr>\n",
              "    <tr>\n",
              "      <th>Marketing</th>\n",
              "      <td>0.413793</td>\n",
              "      <td>0.252874</td>\n",
              "      <td>0.758621</td>\n",
              "      <td>0.367816</td>\n",
              "      <td>0.206897</td>\n",
              "      <td>2.0</td>\n",
              "    </tr>\n",
              "    <tr>\n",
              "      <th>Medical</th>\n",
              "      <td>0.413793</td>\n",
              "      <td>0.252874</td>\n",
              "      <td>0.758621</td>\n",
              "      <td>0.367816</td>\n",
              "      <td>0.206897</td>\n",
              "      <td>2.0</td>\n",
              "    </tr>\n",
              "    <tr>\n",
              "      <th>Nurse</th>\n",
              "      <td>0.413793</td>\n",
              "      <td>0.252874</td>\n",
              "      <td>0.758621</td>\n",
              "      <td>0.367816</td>\n",
              "      <td>0.206897</td>\n",
              "      <td>2.0</td>\n",
              "    </tr>\n",
              "    <tr>\n",
              "      <th>Real Estate</th>\n",
              "      <td>0.827586</td>\n",
              "      <td>0.505747</td>\n",
              "      <td>1.517241</td>\n",
              "      <td>0.735632</td>\n",
              "      <td>0.413793</td>\n",
              "      <td>4.0</td>\n",
              "    </tr>\n",
              "    <tr>\n",
              "      <th>Sales</th>\n",
              "      <td>1.862069</td>\n",
              "      <td>1.137931</td>\n",
              "      <td>3.413793</td>\n",
              "      <td>1.655172</td>\n",
              "      <td>0.931034</td>\n",
              "      <td>9.0</td>\n",
              "    </tr>\n",
              "    <tr>\n",
              "      <th>Sales Associate</th>\n",
              "      <td>0.206897</td>\n",
              "      <td>0.126437</td>\n",
              "      <td>0.379310</td>\n",
              "      <td>0.183908</td>\n",
              "      <td>0.103448</td>\n",
              "      <td>1.0</td>\n",
              "    </tr>\n",
              "    <tr>\n",
              "      <th>Student</th>\n",
              "      <td>6.206897</td>\n",
              "      <td>3.793103</td>\n",
              "      <td>11.379310</td>\n",
              "      <td>5.517241</td>\n",
              "      <td>3.103448</td>\n",
              "      <td>30.0</td>\n",
              "    </tr>\n",
              "    <tr>\n",
              "      <th>Web Developer</th>\n",
              "      <td>0.413793</td>\n",
              "      <td>0.252874</td>\n",
              "      <td>0.758621</td>\n",
              "      <td>0.367816</td>\n",
              "      <td>0.206897</td>\n",
              "      <td>2.0</td>\n",
              "    </tr>\n",
              "    <tr>\n",
              "      <th>Total</th>\n",
              "      <td>18.000000</td>\n",
              "      <td>11.000000</td>\n",
              "      <td>33.000000</td>\n",
              "      <td>16.000000</td>\n",
              "      <td>9.000000</td>\n",
              "      <td>87.0</td>\n",
              "    </tr>\n",
              "  </tbody>\n",
              "</table>\n",
              "</div>\n",
              "      <button class=\"colab-df-convert\" onclick=\"convertToInteractive('df-e249735e-bdf2-4da7-8baf-d35c8b80f08f')\"\n",
              "              title=\"Convert this dataframe to an interactive table.\"\n",
              "              style=\"display:none;\">\n",
              "        \n",
              "  <svg xmlns=\"http://www.w3.org/2000/svg\" height=\"24px\"viewBox=\"0 0 24 24\"\n",
              "       width=\"24px\">\n",
              "    <path d=\"M0 0h24v24H0V0z\" fill=\"none\"/>\n",
              "    <path d=\"M18.56 5.44l.94 2.06.94-2.06 2.06-.94-2.06-.94-.94-2.06-.94 2.06-2.06.94zm-11 1L8.5 8.5l.94-2.06 2.06-.94-2.06-.94L8.5 2.5l-.94 2.06-2.06.94zm10 10l.94 2.06.94-2.06 2.06-.94-2.06-.94-.94-2.06-.94 2.06-2.06.94z\"/><path d=\"M17.41 7.96l-1.37-1.37c-.4-.4-.92-.59-1.43-.59-.52 0-1.04.2-1.43.59L10.3 9.45l-7.72 7.72c-.78.78-.78 2.05 0 2.83L4 21.41c.39.39.9.59 1.41.59.51 0 1.02-.2 1.41-.59l7.78-7.78 2.81-2.81c.8-.78.8-2.07 0-2.86zM5.41 20L4 18.59l7.72-7.72 1.47 1.35L5.41 20z\"/>\n",
              "  </svg>\n",
              "      </button>\n",
              "      \n",
              "  <style>\n",
              "    .colab-df-container {\n",
              "      display:flex;\n",
              "      flex-wrap:wrap;\n",
              "      gap: 12px;\n",
              "    }\n",
              "\n",
              "    .colab-df-convert {\n",
              "      background-color: #E8F0FE;\n",
              "      border: none;\n",
              "      border-radius: 50%;\n",
              "      cursor: pointer;\n",
              "      display: none;\n",
              "      fill: #1967D2;\n",
              "      height: 32px;\n",
              "      padding: 0 0 0 0;\n",
              "      width: 32px;\n",
              "    }\n",
              "\n",
              "    .colab-df-convert:hover {\n",
              "      background-color: #E2EBFA;\n",
              "      box-shadow: 0px 1px 2px rgba(60, 64, 67, 0.3), 0px 1px 3px 1px rgba(60, 64, 67, 0.15);\n",
              "      fill: #174EA6;\n",
              "    }\n",
              "\n",
              "    [theme=dark] .colab-df-convert {\n",
              "      background-color: #3B4455;\n",
              "      fill: #D2E3FC;\n",
              "    }\n",
              "\n",
              "    [theme=dark] .colab-df-convert:hover {\n",
              "      background-color: #434B5C;\n",
              "      box-shadow: 0px 1px 3px 1px rgba(0, 0, 0, 0.15);\n",
              "      filter: drop-shadow(0px 1px 2px rgba(0, 0, 0, 0.3));\n",
              "      fill: #FFFFFF;\n",
              "    }\n",
              "  </style>\n",
              "\n",
              "      <script>\n",
              "        const buttonEl =\n",
              "          document.querySelector('#df-e249735e-bdf2-4da7-8baf-d35c8b80f08f button.colab-df-convert');\n",
              "        buttonEl.style.display =\n",
              "          google.colab.kernel.accessAllowed ? 'block' : 'none';\n",
              "\n",
              "        async function convertToInteractive(key) {\n",
              "          const element = document.querySelector('#df-e249735e-bdf2-4da7-8baf-d35c8b80f08f');\n",
              "          const dataTable =\n",
              "            await google.colab.kernel.invokeFunction('convertToInteractive',\n",
              "                                                     [key], {});\n",
              "          if (!dataTable) return;\n",
              "\n",
              "          const docLinkHtml = 'Like what you see? Visit the ' +\n",
              "            '<a target=\"_blank\" href=https://colab.research.google.com/notebooks/data_table.ipynb>data table notebook</a>'\n",
              "            + ' to learn more about interactive tables.';\n",
              "          element.innerHTML = '';\n",
              "          dataTable['output_type'] = 'display_data';\n",
              "          await google.colab.output.renderOutput(dataTable, element);\n",
              "          const docLink = document.createElement('div');\n",
              "          docLink.innerHTML = docLinkHtml;\n",
              "          element.appendChild(docLink);\n",
              "        }\n",
              "      </script>\n",
              "    </div>\n",
              "  </div>\n",
              "  "
            ]
          },
          "metadata": {},
          "execution_count": 91
        }
      ]
    },
    {
      "cell_type": "markdown",
      "source": [
        "**Cramer's V coefficient**  "
      ],
      "metadata": {
        "id": "whE1Xeob-wro"
      }
    },
    {
      "cell_type": "markdown",
      "source": [
        "Cramer’s V is a measure of the strength of association (or dependence) between two categorical variables.  \n",
        "It ranges from 0 to 1 where:  \n",
        "0 indicates no association  \n",
        "1 indicates total association"
      ],
      "metadata": {
        "id": "heIWaOmRPvwg"
      }
    },
    {
      "cell_type": "markdown",
      "source": [
        "![image.png](data:image/png;base64,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)"
      ],
      "metadata": {
        "id": "r-1c_M2NNzOt"
      }
    },
    {
      "cell_type": "markdown",
      "source": [
        "![image.png](data:image/png;base64,iVBORw0KGgoAAAANSUhEUgAAAmYAAAFqCAYAAACwBpZsAAAAAXNSR0IArs4c6QAAAARnQU1BAACxjwv8YQUAAAAJcEhZcwAAHYcAAB2HAY/l8WUAAGdCSURBVHhe7d1vaBtX3j78bx5acCALDnRhzHYhCim7MilE4VewzPZFJqQQhd4QGRcik0Iqp+DKLbRyAl07ZUnl3pDIKaTWBlo7hQYp0CAVuliBBqsvciMFskiBFqtLg1RIFglakCEBG1I4zxn52J4ZzUgjW7LH9vWB046i0XjmzJ9zzf9djCMAAAAA2HT/n/g/AAAAAGwyBDMAAAAAm0AwAwAAALAJBDMAAAAAm0AwAwAAALAJBDMAAAAAm0AwAwAAALAJBDMAAAAAm0AwAwAAALAJBDMAAAAAm0AwAwAAALAJBDMAAAAAm0AwAwAAALAJBDMAAAAAm0AwAwAAALAJBDMAAAAAm0AwAwAAALAJBDMAAAAAm0AwAwAAALAJBDMAAAAAm0AwAwAAALAJBDMAAAAAm0AwAwAAALAJBDMAAAAAm0AwAwAAALAJBDMAAAAAm0AwAwAAALAJBDMAAAAAm0AwAwAAALAJBDMAAAAAm0AwAwAAALAJBLN2WixT5uY4Db52lLq7dtGuXUrpom65j4YvxyjzeFH0CAAAAEC0i3GiG1qo+M0IDb4zQamy+AdDEskXohS/KFOn+BcAAADYuRDM2qB4c4B6fTGqm8lUHGfilL7u5TENAAAAdjIEs1Z7OE0nXhqkpPhojUSBb/M0+TqOmwEAAOxkuMaspRYpdX1MF8ok8nwyS4UnjJQMzJ4UaPYTj+7oWJki1+JUFJ8AAABgZ0Iwa6kcZb7UncA8E6HohzI59ojPexwkfxilyBnxedntHOXnRTcAAADsSAhmrfRLkbK6XBY4aXRhfyf1HvOK7mUlmn8qOgEAAGBHQjBrpd954LoUpuAZmeRjMrkPyORyWr1uzEHSC6ITAAAAdiRc/L9JcpcP0+HzOfGJ649S6Wsf7swEAADYwbbtEbPyrQHqqj7Q1aB4ppu60D73aa/xcHjpOp+iph8T+1uSpq+oQhnnOe7e+FD2OEZ9BtPU0vKG7rEh98a133+cEV/scItlyt2OUeT8IB19rZf2q+uoq5v/2yCNXJ6mxINy08tb5mPVsHgZvye+aJkMjauGXzPPAWDL0G4v+ij2WHxhU1ttfK3YtsFM6p+gyGmTqHObN3I3LEazBxMU+MAkPEhBin4kU4f4aE2RYh/4KaJuuQ6FaOyUQ3yAnWT+YZImfN3UtbuLDnsGaJiHr9SdjHbHoZzn/zZNEzy09bm6aPdLfTT+TZ5wrwiAjZVTNPFxwlY7KeXvJ/i2Y+vsNm218W2VbXyNmUTeixOkv8R+WeLNEYr9Ij6YKtL030fIOJZJFPh8jOTluy0tKVLyvQEauKFe0NwUuhYkd3PpDra6p3ke0I+S86UTNHIz39zG+2GCxrzd5JTHKPWb+DcAsIffy5S63Ef7u47SyA82ee2eEhLf2E9d8ghlt8KbALfa+LbYtr/GrPjFCdr/tvHjXqXTUUp/5SOzY1XFG3zlejMhPmlJp+OU+6qZp/UvhbITn6ljnkS+WJqim3W0bD5D01+kLRx5qVA2Nk6xB+Ij5xkKk2xltF/oJf8Z9+qdqcqpTPeY+MBdTBO74BYfdohfkjR86gRFjE4pSk6SX+4l1zEndYl/KuWTlL6bosxD8Q9qB/wUvzNF3n3iswHlUH/vR+IDF8owGu0RH1pCOZXZSytzFddLwo6Vo4mXDtPI8rpqh3Xh3xO0/5WRlaPw3liJ4qfMx0i7vfBS9FGcfC+Kjxthq41vOyjBbHsrsKnjpIRPgyIx39cl0Z9OMcq8hr/hRfKx+CPRnxXPCix6xqEbDv/bn8+xBdGLvZVYtF897sR44742mZBmODyYiS92iGKc+Q+opl8UR3+IRTOlusvDQnGWhfv1yxEvPSGWfiJ6MpC+qO1/zfMOABpIs5BqXePBjG89N5lum8uDjvjCprba+LbBDnhchoP8n4TJ+JhMmWLvBSlRc7FgkWIf8X8Xn/S8l0LktZrIn+Zp+q1eGvhSddWQJNPod3mKnnU2eX0abGmLORo/1UfTmiNfbgokClT4epR8PVLd5aFjn0zBr3m/Mb/2KO+9MfKeT+KaMwCAbWBnPMfsUIAin5icLivHKPCJtlEr3xqjoOY6MJX+KIVPWzz1+DRHEz6ZBtXD6glQPDNLoWN4L+ZOk7sWoDHN6Us3hTIpmjzZ3Klsx6kpmv1Ke/Vk+doYRe7twIsxAAC2mZ0RzKiDXO9HKGRyXU35mp9Cd0Sj9jhBwffMbvf30NQn5tekaShHyt7x0Mi/VocknZ6iuTuTda8Hgm3qcYxCmrt7lesLozTas7Zjpo7TYZo6Lj5U5Wjscxw1AwDY6nZIMOM6XBS8PEou8VGrTBNvjlHq6TwlPwlQzORgmftKiPwHxIe6ihR7R3ukzP3hLOW/8pOzqbs4YbvI3QxrT40fD1FoXTd9OGjg3Kj2ouIvo5TcBs/wAQDY0cS1ZjvEAps9J2kuLFQXV4+b8YbO8DvqCbOsGEp9Cyx90a35rXQ6ygri2+bVXni/XDbuIu4Nuvj/1zk2cz3I/MfcjEcW0Y+DuY/5WfD6DJv7VfS3BpX8DJu6EGBezbAl5jwiM/+5yYYX3q/LwiwblZb/5lLxJyriy/XIsvARN/MOjbKpRJrNlYynoN7F/9V6Oednco/qpoIDbiafCbKp5ByrPBM91rXBFzxXl5NRFuiXmVt9IwUf7+q4K8vL1ShLP1rjHF0osXQsXB2+c2W+LS2HoVialVR1oqlbs+l+pLuRqIkbXkox7+rveLG+3i2wUi4ulnn1dChlabmvLjdW57FuGlbGozTLJoc8K8OXDirr0xSbyddfvhcepVn0qrKua8fN0dPkeLWA2bgo0yL3B9how22P+Ta6pjSc9y2ab/plrk7RL1Pa7YWXRRve6MbHORNlk8p25IhT1YbadXyFZxU2l5xio0NeJh9U5QJlG8Lnezg2ywqt2EyvwQ4LZtyTWRbULOxWipuF7lvbyC/cDzG34TAaFbMFaicEswpLX/KqApNZcTDvpTTv27qFfJQFj5iHcU054GXhu21YE/k0awN/gM1s4ApvGMx+TRvf4akvlupkg4LZkzkWfV8233kyKI7+MJu1PDJ8Qx0LMrnR9oHXyeT9pTqxXzBbmgaPwZ2/pkWSWTDW4A5xg2C2wJdr07qSRtms0QCtLndKsTJe69HMuPCQIb8fZXOGq0IrglmL59sGBZ3K3TDzWh1nMb6GVbihwUxpb3y60GtWeJtzNWs8zm2084IZV/k20NTG3XUhbXHjUO/RHI3KDg1m706yqdMWg5Mo7nOzllaUQsxvIezpC98Af2J1fltT+FzW/o0NvoVeH8wC/5xivqZ2TtwsmKpX4xsQzJ7wv2E1YOsLbxBCmUZztMBm3tUe6a5f+M4aH6a9glmBxWsey2O1SMwXq3NcXzcNo19F6y5Drku15xcqd+sEuTrFcSa+jjMOJkweW9OwHPCzeFEMY8V6g1kb5tsGBJ3C12vZvprMz40KZmvcjrRlGaxjRwYzZUWKWw0Dh0brPiNKIxdmLqNhWCo7NJipywEPC1yNs3S+xCqVCquU5lg6Mcn8NSuSxILf1W9oCzFfTfiWjvhZODbDskU+7OXhJ6MsdEp9+H2puPkGtDXhTDl9rh2264q1k+Ktog9m6uI4HmCT1dOgS3VSyqdZ/Kq/tgGVgmzWdD1odzCrvQRBOuhjIT4vV5YVMe6m498TYlnTGVp7+YFSqs+WS2ZZoTr8Assqy4r6CIvkYz71erGpwcxoGvje/rkpFk8tT4NSSmwuM8OilwzqiDxs6mcxOD3ThtPN/FdnxPKzXEf+mm2ZcnSt5kzCAS8LXlet78rvU/HqqVF9g7++y0H0anegl9aD2dVtAy+FHK+ni7VH8qXT8Zr5vLBSvzNsVN3/ySk2t/IdLzXrULvm28Lq30yOavr3fj63+h0vC7pTjJaCzs9TzKMapjLOnqFJ3TgbrDPVYvT80DaPr2Ihy0I96n6VIjHnKfV6rsx3vgyerT0y37o2obEdGsy4Yv09vqXSOACo1RwZaars7GDmfpfvkZhdg6A8oFcfpPkejOkxnJqNhpsFEvU365Uf9EeRrJ++rq+27kwfatwmxsGsQZ0YrB/m18W1OZjpQkG1ka53vYqiwsdJtxEOfGs8/kpo0O5QOZi/ztGjQiJgfLnCZgYzvlOoGSceGqM1R3Z0KnM1R6vlz02m2zCYLR01bKjm8hGJefjOSd2j3iUecDTzr87DwJvF57e60VUa3LrjUrMuuFg4J76r0eS60O75ptBtcxs9sNVK0ElfVP99vhw0uNyh8JVuR/lQnWu22zC+iuwVXQCWPCwsLkkwohzh1a7n7jrzvbU2JJjFYjE2ODjIZFmuFqVb+bfNVvhKu9HTF2lopolzy8pROOPhWCs7N5hZ2hv+Nc78mt8Fja9h4XMsfkbdn4uN1j0Np6J/28PxqRbspes21Lxs3HxbUhvMGpy2EioJv/Z352ZN9hjbG8yUSw9Wx0OyXn/6I9iG469fXnhD8FXjujE6Irt5wWyBzX6obigl0xBaQ19HZts8g2BmdLrSSPaSS/M773WLa9WTNBs9pPqbZtetNSl7RT0+dY6wqOjXBfMg1My6sAHzTdHyoJNlYfV8sbS+69cz2fzobDuCWU37YS1k6TOC9KHZNrC12vq4jP/+97909uxZunbtGv3nP/+hZ8+eVYvSrfyb8p3Sz2bpeumwyeMzlhx2OVff8diQRN6vqkF3jcXs/V4S+b426r/V7zvcLDKN/d3Cs+FekMk7JLqrilQ2eoH3wzhNfym6OWkoRCNHLM7FfT4au6RaIm5HKKF6P+i2cWyMxiw8qqPziJcCorvql/KmPCdt8WlJdDXpkEwDPU6Sj8nkPxemsHM31TyCV7e88D15GrPwAGnHqQhND/FoZgs5ynypesbPoRHyv25xmT/USx7RWfXbfG0dGXLRwLF6W09hMUXxKznxgevh9Xumcf1W7XHTyEe8OV1WHqfEnfUvgYtPVeNjUXVdOODmyxL//4UweVoy6zdjvrXCIi02vV3sJPlkgBw9Msn9ARq95Fl5F/BGKN+J0rToVrguRSh4SHyow3F6jHgIXVH+MsPnWvu1NZj94x//qIYwM8p3Sj+bI0eR98fqVnLy7WHd63Og5Y75yPNX0V1XJw/S6oYgQUWDZ3YVv4+R+pX1AyflJsI1X2Ff7VM9GyxHyfuqV2ltE3K/h5yiu67OLnKoN163iisvFt5InS+oG/IyTf5zmvKW2mcXBTNzNPvdLE1dClJQ/TJ9oXw/qVle5He8dXfWVnWS5+0Ri/22Ga8L6YMwnz7e6B1xksPb29R47Rb/b46Hei00bIt3kzSuyh7yW1brd0nnK3yHTHQrInez6w4gkiSLLkWCL09JKv8uPprp9NDkz2m+LMVp8iJfll63GC7r2ZT51goSScdEp+LWJE3eNnn4p0rn65NUyMzS7NeTFDoXJI+lZ4K2QpnSt9VPkZQpcNJqTbuo1+sg5xHlwMAohT9xk2MDEnDbgtnNmzfrhrJlSj9Kvxst92mARjSvxzGSpMG/xzalMdoxDjks7zl1SY02hvOUz6VEt8JLzq5Fmp+ft172SNQrfq1I5fLrPEqk24jZgGuf5RrnYVh0bqIOVy+pjptQ+cYgdTu7aeD8NCUeFGl+zRvKRZrLqTfYLvK80kSDqz9qsVk63eTnDV34Om/0UnNUuOAWX5h4Ok/FBylKfDlCg+4BGhP/3JST3aodGHP5H9XrI5H7xb3G651Z2dOp3Ym4k6O86FwrxyseTQDK/O8J6nKeoOHLMUr9VKbFRiGtVTZjvrWEgw5rjpZmaNzTRfs9wzRxM0X58sYdu7OmSNkbolPBg/nhJkKh+0KB5lKzFP9nqBqipQ14wXXbglkqpV0h62mm35Z4OE1jmtfj1HFrgEZuIJq1zR92t/BF7kXKa2ZrggZf3kt79zZRXh7UPqH/YYkqonNtdtNu3WGabLHx3mU77f3DFnt1/gteClzRNVrlPMUuD1Kfaz/t3d1F3fIgjXwWq5bUT1ZP68xT+RfRWcV3El4QnZY4qLtfdNrQ4nyRct8rDfkETXw0TH2vHaXurl206w97ab/rKPW9NUHT99a4bZM6aa/oNDdPpZ+15yTGPQbrXN1ygsbFb6se8PVxve3+IT+F9KehHyYpcn6Ajjq7aPfz+6n3jWEa+zJBuV82PmS0db61iOtMiAK6KizejtCITxnX3bTrpV7qe2eMpr/JUfGp6GGzPObtguisetX6wYDN0rZgVigURFdjzfS7fkWafm9Qc/qikcT5MUrgVTdbwFqufWjgTtnkvalWSeR4WXQK6V/WeM3UllWm2Bu8YdlltfRRTLe+ud6P0sy7ZkcUypT/fpom3huolqPOvbS7q5tOvDNBse/zNG96BKRExbuis+owOQyv8zTD562l0/Ab6LccJT4eqDbku/fup8Oy0pCP0MjHEUrcUY5miP7Wq2uvhUsEFmne6DrQdTG5trQpneS5lKTw62bH/IqUuRWh8bf66LBjKWQMVo/Oltd9GtXURs23VnnBQ+Hbda61e5ihxLVxGvQepv1/2EX73XzHSQm6jzfhaNpvfD0XnVUvOywd7d1Mbb3GzI6KN0Zo8Lb4YFU5RoG/J9bZQMNO5firT3QtKefyWJaa5iDP1TSVUpMUOG7hdGM5T8lrIzQgd9Ne5wka+cboCANvJNY7I54X/7eB4jfD1PvHw9T3UaxhQy4dVG6ImKRoJkqj4t92lD0uCn6bp7lEiHwHGzTTPGRMV4/OdvGdrAGK/Hv9NyCobdX51nEoSDP5OYpf9JGzQRUW7/EdJyXo/tlB3b4I5VpbhfUtLm7IBfut1LZgtn//ftHVWDP9rssvMRp5U3OiSsVN4bszFDRZwMo3AhT610YuTbB+IUob3M3aXBnlS8b6SC6Z1Jcb0600ZVu0KM3/a5i6/2fptEvG8im8rUs6EqDJZIEWfp2j2ViYAq87G+/9PkzShLeXBm7qw5n9rv9bq+LNAer1RqjmAg3lTsLqXXC8MU/OUjpfosoTRqUflBsiAuTrcWzgReReij4yWseaKWZ3r69FJzlPjlL0hxItFLMUvx4kP6+Peso/xmj4FQ+N32vNmrY15lsdnU7yXojS3KMFKuTiNHXOT+6612+VKX9zmA4fH6fMRp3ifE5Z07eWtgUzWdY0RXU10+/aFSn2UVB7/ZCK+5MIBf7mobHPAyYzsUyRt8co2fJD89A6Hbo1kG/M7JClD8jk0wSACCW+b8WILVL2boTy/1o67dKrnMI7n9r24UzR8YKT5FNBmvx2jkrPFqiUT1cb1mrjesQorJUp5hugCc2pbv31f1nDO33NzVOlzWelS2UL1xI95jucvpjm4J/jzCSliwvElDsJq3fB8cb8uEzuv0rUuUf0JCyI/7dDh+ZyxiKVbLr97NjnIu+ZME1lCsQWKjxkzFCUByCvYVDL0NjJkfW3BTaeb017roMch7zkvzRF6Z8ZLVQKlE1GKTzkNQ5q98bIez65zhurLJIcmhu66Ieips7tqG3B7NSpU/SXv/xFfDKn9KP0227lW2MUvGEyO3pCNPGuq3oReufrIfPnE5UjfMHbGQ3f1tRFTk0AilPuJ9G5qRw8RGjv35v+Iq697mEtHicocll0C8FjvS28maJVzJ/FZ1yaPCrCGwXpr+5qw1ptXFM8rC2UKM1DmqxZlTMU/V59UkMip0vdQ5qauy+jQqU2P07HyjO3crfCmh1O6XSUZq8HyL3PwpKgvzC6pSRyaM5x5Shtu4ulDHR08pDhId+5SYorQe3XOZq55OVrsQpvC5KZ9cUK+8639evodJDruI+C/4xXg1olP0Phfm3ILV9LUnojktkLfDkUnVU/l/guexMeTFDvy0fp6GuDNHJ5giLft38Zbus1ZsozyuqFM+W7DXmOGW/Agu9p90xWuWj0cpDcK3sjneT5e4R8Ztns8gCN3UE0sye+ArrUt3GXKX7XHlcXOF73ax75QLfHaKzm1FozFil1VXcEWBolz6v2i2XrslimzM0ITZwf5BvGXtr/jsW97A6J3DykzXwV1Bw9y+W0e8uOg32iS8GXF01wa+BxhpJ3RHczLO+xF2lOc3OCkTLlM9qwOfyOhQc2C4v5rOlZhFbQ1i9R4k56Y46SmPktX73bceydPjoqd1Pvpxbm9wtO8pyL0+zn2p2r+I/rWX/tPd/qmf8pQdOXx2j4DR5WXu7VHYU21vlXDwW/nqWp4+IfqviO80Y8J7Sjmw6r755+kKRsE3+3nE9T5scUpe5M8+3QCBV/b+bJmGvT1mD2pz/9ib744gsaGhqqhrDnn3++WpRu5d+U75R+2muekp8EKGayJZTOhWnsb7rG7EUvhfgekrEynzmhjTs/Dk1xHRnQPKMod2W6qVMOi3dGqKurm4cAvtF5a4QmbuRac4S05pEPS6fW1nqtSvGmnwYuaxdq75VhkrdZLqOOEqUvDfM91Wm+YcxQ8Zs0ZZuosg7nYe1pDJ3OVz2atxvkrkQpZXHdLt6OWmsc93Rqb8+fX7B2GuphigcZ0W1ZLzlMdiprzVPqm6jobo9Ot6zdIfkyTNPN3Dn9cJpO7NpPvcr6qDzC4tPk+o40P1ekFF+vx68lKPV9njJ3spaH5+AhpH3sNd/q+jlFg+fHKXKLh5UfM5TiOzvWOKh7vRfsrgnfSTuuDtUpmv6X1R2wIs3cUK/lAZJfaf9Gtq3BbJlyqlIJYbOzs9WidG/E6UvF4p0Q+a+ZpbIATZ+XDU/9OE6HKWr2jKIH4xT8NLNBpzTNHzUw3vABuTvQIR6A1HtlyunnDyw+JPhphiY+mqByOc9DAN/o8D3r/B5Hy04Nus5OUEjzGq0MjfGGa9jwjkEz85T/cpCO6q5Nqb7q5pTlLfsW4iLZp4raZaVBsF5fypGFtOhWuFy6W+U7ZRq4qB7+BG/8Lazbv8Ro7COLD93Rv0GB73k3ftXXIqU+H2vqsT5LeOCweMtb8Wagdtt4t9jcaZ5GXvCQ70N1jWdoZMjqhd9Fil1U6qDIAxRfH29FKPk7r0vx7Zp09pJ8RnQrbkdo+v+sbcmLP6iXJKK+g+saEx2bzbc69GE7eXXa8vyc09zl0EeuDXr6v/6MReaDEMU0zzA0tngnQmOqpzhIH3pJbv8BM1Ku6di+nsyyoKR+cam6WHhh7M9TjOdsg98qxc1C9zfidabb/CXmLX+hM2ML90OM75hp+nWcmWJz9WZ3JcvCr6tfKMxLT5hZe01zE4pR5jNYJh3Hg2wqU6rzgtwFVspMseBxR81vSfKxaFH0ZkD/EnPr804/30PMeG619yXmteuhm40mLfyFYpwFerS/M3xx8a8zLKCZJxKTL8yavxSaz0P/AXX/ophOt/5l1bz08Lp8Ir7We1ZiMx+6tf2LYjTvtC/l5qVnlM3+Kr40woc/+4mn9iXs1WIyj9fxInb2KF6zzEtHRtlMvVn4rMDi7+rqQAqwmXrTZdHCd0HttPP1Z+qH+m1B5X6YedTTYDouunVBCrJZk/m8IfNNodvmSoYv81/V+KXgfHk+p12epdMNtq98bcpe0Y67ZPbi9ZaP75LsFd3ydMDPpvLmQ66Z5+Qxf/F6i23jYLbA0hd0C76qSKfjlhqPmpmpLnzjmm17NkMwW2Y1mCnzPntJrt2ASTLzX4qymVyBVSoVXkpsLhNnU+d8zFkTlnjwzrRn5i7wOpBr/t5ycTD3MT8LXgqzcLWMskC/bDB+okgeHjbqj+eWD2bK/Pykdj109PMwm0izuZIyL5fm59I8nWHRi7Xz1HUhbbqBV+aJPsxLB30sFJtdGX4hpwzXyxy6/lZKvenOhWuGTwe8fPgzLFtcGn4pn2bxqwHmUYU+92kfk1W/MZx3RjuQyrJ+Nc7SeaVOlpd1Pv6XtMNXljeH5nMbghlXSvgN6s3BvOemWDwzx0rVcRR1XDOOSpGYL1YQQ1uvEouf1gVlJYyfDbNoMssKYlwqlQLLpuJscshTM+7er8zGpcCiJ7X9KvN5ZX3+dk70x23EfFPwHQnNvONFWXeWti9hNpMX/QmWgo5B2K7dvvJSzLLZxCQL1OxQ8uGa7Uy2Y3yrsmzyiH6+O5hnaFK1DC61CZNn9e1HK5e/xrZtMFu4O8pcmopVlzoLRY0sC2v2urXFfaXlx1R0EMyWWQ9mCt6Y6/bQLBe+gQndrb8HvW7FOAvWbCSaK9KRIItbWI63fjBT8AavpjG1XqTTUVZ4JgZlovLdaG14Mi0S81wNs6D63+pOt8nOQp3iOBNnBV0jZTbvCjFf88s6DwyT95UjGeodWJNt4zqDmaLwbaCJ+lUXB/O3ulF8wpfZOtv1esXNp73e1qHmSJi66JaRts+3Kt6GHVL9Xle8Me1SazXoGO3MWCt8p7fu9rU941v1xODMSMPCQ/sn5jt17bA9g1mDlc58b8eY0amx1WJyeqRlEMyWNRfMllR+iDYVgBz9YTbb+lRhosLmYkGDowMNygEPC8bm6jYOatsjmCkqLH2pzhEroyI5me9q1nJdWQrMPLgHE8o2pNnpXqjOb/OjpcvFwbzL46wLRPXmXSFhZdhK4cO/GGdz4hRbhQcm9feGl3i0IJhVlWZZuN/gdLxJUXY+og1OM67ZkzkWfb+JsKysd9X53kDd9qd2HWrrfBPqhijdvGwm6Czkm9y+Hre2M9mu8V3SxHaEh+BwasMahBXbMJgZn/ZYKcen+L53s+qfFl3bMK1CMFu2lmC2rJKfYVMXAsx7zK1dIQ+4mdwfYKPX4yz7aCP3idQW+PilWfz60mlLuUfXcCnjqJzevBpls/lK03tu2yeYCQsllo5NsuAZg7rixdEjM+/QKJtK8vC6xllaykRZeMjL5IPLjY7EnEf4PLg+wwor7d8ap7s6/mHdKWpxCpsPf059nVETwayqUmCzNcNWTsvyujoTZJOxNCvp6+TXOPOr/obh9qxVwUxYeJRm0atB5j+mO03Pg7R6Wd8Qv86xmeV1b2V+K0WZ5zLzn5tk0UyBLTQ44qqhXA92lW9vjjh1wc8kOLRrvqnxUDypWaZF0S23zQcd9fbVfH6mi02ujG0c3yr1dkT9N5TtLa/z6vajmXneQruU//CRAQCApmRofFcvjYlPvMGg0tc+7V2fAABN2pDHZQAAAABAYwhmAAAAADaBYAYAAABgEwhmAAAAADaBYAYAAABgEwhmAAAAADaBYAYAAABgEwhmAAAAADaBB8wCAAAA2ASOmAEAAADYBIIZAAAAgE0gmAEAAADYBIIZAAAAgE0gmAEAAADYBIIZAAAAgE0gmAEAAADYBIIZAAAAgE0gmAEAAADYBIIZAAAAgE0gmAEAAADYBIIZAAAAgE0gmAEAAADYBIIZAAAAgE0gmAEAAADYBIIZAAAAgE0gmAEAAADYBIIZAAAAgE0gmAEAAADYBIIZAAAAgE0gmAEAAADYBIIZAAAAgE0gmAEAAADYBIIZAAAAgE0gmAEAAADYBIIZAAAAgE0gmAEAAADYBIIZAAAAgE0gmAEAAADYBIIZAAAAgE0gmAEAAADYBIIZAAAAgE0gmAEAAADYBIIZAAAAgE0gmAEAAADYBIIZAAAAgE0gmAEAAADYBILZlpGh8V27aFdbyzj/KztJmWJv7OTphxX3xlXLwS7qu1kWX+xcmY/V60YfxR6LLwCgrRDMYHPM5yn2QYRy4iMAAAAgmMGGm6f8zRE66uymgU/naVH8KwAAABDtYpzoBlsrUvJygvLiUz3F70coclt84FynR2ng5b3iUz1O8p7zkEN8ar0yJd5yUd+Xy6eJQpRmo+QWnzaeciqziwZuiY+bPj6waZRTme4x8YHIGytR/JQkPu1MyqnM3o/EB/JS9FGcfC+KjwDQNghm25B2g2qnRsZuQQjBDAQEMwCwCZzKBAAAALAJBDMAAAAAm0AwAwAAALAJBDPFb3lKfjZMfXI3dS0/t+elXjr61jjF7pVx5yAAAABsiG0ezEweyvrx8mNE5yn3WR/t/2M3nXgvQonv87TyWMmHGUp9OUYD7i5yyCMU+8laPNM+lHG1bMkHVi6WKXMzQiNvHaWjL3etTk9XNx19bZBGvkxQ7nHjelmtE/WF9oox6l0eplLeiK3Wv4nFxzlK8Pky/IZunHjpepn/2xvDNPZlkvK/iR/YwOLjDMU+G6HB145Sd1eLx/f3ecp/H6PI+UE+T3ppv6o+du3aT738bw6ej1jewdAsv5r5sUjlezGaeKePel9a7We/mw//4xhlzGbcfJGSX/JpV+/0KMsPn+7I7SJfAxvRPQRYPU6/K8vnOK9X3XSL4U/cTFGx8R9YN7P5q9RN3ztjNH07T/O/i57brJXLmnZbZvCAWd1DeddTxu+JYdajLOu3p2mML4NH3ftXf7+8PfqML4cWtkcAtqfclbl9pVmIT6IymZpyMc2/K7D4GUftd2ZF8rCp/NJQ60lfNPgtL95YSfTRfvpxaPpvPyux2Ute5lANw7xIzHkqzGbr/AmzOqkp/VFmNpjKD1EWPN7E/OLjJb8fZXNPxAAMlVi0X/2bEF9iWujXNAv3Wx1nMb4V8dtGqvPIx5yS0bBMygEvC9+t/wc082p5fhTjLHhE0g6rpjiY92qWLVSHolhgc7EgkxuMn3QkyGaK4ieGdPNIjFPl/iTzHlD9u2lZGq+G1ZoJaX5naZ1pZv5KMgvG5lT102JtWNa0662XRR+JL5bp6mw9JZQRwzRkbVlaLo7+MEv/Kn4KsAXt0GA2wzc67tp/b1SOT/E4V9+WD2bFGRbo0f7eUuENT8ik0V9vMCt87bcYEmuLdDpaZ561MZjxMOO3FBx05YCfxesGFe4JX64bBiWz4uaNoHk80AezuVyYeSyHP4n5YkptL7D0JzKTDPsxKD283k0DdG0wm+OBwK3+vYXiOBOvv+42Gcwqd0OWg4K6NByPtWjTsrZxwczNJn8Qw9R7VmDRZnagl4uyPaqznAPY2c4MZpJkvdHQFKnBnp15CNkSwUxp8GtCGd+7Phtm0WSWFSoVVuGlkJth0YtGR2tMGv0nS7+rVObY1El1/6NsRgxzqdT+dsGgEXb0B9lUYpZli6u/LeXTbCYWZn6DwOK5btYUtiuYFdjUcfVw+TgfD7BJ3Tgv1WPtkUnpdNwwoC7hDdVp3TTyRsh/KcpmMnOsJIZdqRRYNhVnU+cMjnxKo2zWpM3SLDuH3My9Mo+V5WCSxVf+Bh9+YrK2viU+bz73raxf0kEfC8Vm2VxpdZqn3q8Nbe4rWTEGerp5pBknpV7531tZNgtL45WMspDB0SP3xbT5EasmgpnRMqkcjQxej7N0vlSdzuX6nxzyGMzfejsLzWrfstYwmD1bWBm+5cJ3/EY125jlMG/EYFk32B4trfsh5juo77f+TgiAXe3MYLZSlEP6UyxdXF15K/k4G61zNMJl2oAs2brBrMTi+o0g36Oe+qHO+Q4laNWEhACbMT2N0GwQyrKwfiP+VaMmrcLmVMGgWo6ZHelsUzDjDbf67yuBoO5Zo2KU+TQh18XCOfGdTuXbgHbalKNNjc7TlfSNIbHgd8YNluHyK3lY+L7JHzEM80vF/eGs6XQXYrp5dCjM57YR/TxaLnxZ+Lz+qcFCIqALUJLpdFsOZk9mWVAzryTm4duEurOgpv75uH/dou1BG5e1hsGsabVBq15YLnzu0fRLPYEGR5MN1n2+fmTrLSQANrQhwSwWi7HBwUEmy3K1KN3Kv7VfvWBWp5Hnjc3oIaPf8HJutm5jsFWD2UJqVLtBk3ws2uiUWlXtxtZlurFtLgjpx0kamqnf6KzggU4z/3hYNPxhe4JZ9opLNUxrDVol4Vf9hpj8udGyqT864jZtVPX0wzfbwahdfiUW+LZ+reuHXS39jY4K8Wk5pv6NWT0ZBbN6R1m0agKg2eUIFoNZ9pJ63vL+TI/G6ui3KXWOWjajfctaq4PZAh+e9vKRukcOf40zv6pfOsTry9rKzwpfeTV/x/yIOYA9tfWuzP/+97909uxZunbtGv3nP/+hZ8+eVYvSrfyb8p3Sz6Y4HqLQaYf4oLPHTf53ZPFB55dy3TvJ3BeqYbem2Pv1LvOUujWuuSPSe2WCfPvEh7oc5Ls4QV7xSZH7KEqpFtwNl/u/adU4uWjkbQ91ik/1uaj3ddFZVaL5p6JzAyw+zYku6zqPeClwwE3yMf7/C2HyGC0ujzOUVL0Dlc6MkP+Q6G6g0yVr59FTi3evHQtR8PX6ta4fNg9ONDrkbfDOVQd1vyo6q9JUNLuzU69/gkKn6g99meMUX8+Piw+K2xFKPBDdzVpMUfyKat72hGnsjLXxULYpIx/xqLGsPE6JO+tfSdq2rLVY8aafvB8t3w3P9YQo8U+f6TJS/Nc0TYtuZXkKXBwh2drKT47TY8R3zFYkryao+VoC2DxtDWb/+Mc/qiHMjPKd0s9m8J4+Ubfh6NrnEl07wGKWUtdEt0IapcDJJrbW+/gG/pzoropQ6v56b1vnjdaLIxQ+5+cNiEzOA33UazGEVD0v/r8JJEkd6hM0+c8klRs9LqHTQ5M/p2n2uzhNXgzyMGSwdC52Uu8lPm/6ZZJ7HOQ91msxqHLPif83yXX8cIOAxUmSrp8Bkt0dotucxJebVTyVWXykRPBso9Cn5qC+s6pAxJvo5P2i6G7O4t0kjavCo/yWl+8CWNf5ijbARu5m1/2MxLYtay00/3/jNOBTPeZE8lH05ii594jPNYqUupkU3YoBvqxbXtI5vmPmVW2/HiQp+1B0A2wBbQtmN2/erBvKlin9KP1utMOO+sGj4w97RdcO8GOGoqKz6rRMvY3bVZUOOvxqQHQvif47L7rWqpPcZ3ijcWmKNyCzNPdzg5eL/75I87/kKPXNNI281UsDqpe4bzTHKx5Ng5353xPU5TxBw5djlPqpTItrfabVAQ8Fz4Vo8utZms0UGh6FXZwvU/5ekmKXh+nE8SBvtpvXe8BCo92xmzRryzEnOSwsP7vXFBYDJL/S1MJZc0QvdTenOTpsVf7HlOha4n5xL83Pz1svezrJKX5bdSdH611L2rastcjivXHyvDpGq8fK3BTi62jdo/HzecrdEd2Kk07qWjSozzqlU+oVP1akKJffgAfaAbRI24JZKqXdiNXTTL+twfe4N+Dw/VYxXyppGir5JQePWs3p/LND00CUH5UsPDx0DZ7OU/FBqhrAJi6rHjT7PA8HjsN01DtIE19m+D73Jjrkp9CQbgF7mKTI+QE66uyi3c/vp97qwz4TlPtlvcdMeCAt5ynzPQ9gn03QhOpBs7v3dlG3+wQNnI9Q8se1RBGirj82c6RC6NxNu0Vnyx1zkbPZUdrnoMOis+qHIpVEp3XzVPpZe0Js3LOX9u5tppygcfHbqgclqqx39m/ostakX2LkP6kOZRL5YlEa7WmwdfklT2nRWfXNIHUb1qd56X5buxuSL1dEF4D9tS2YFQoF0dVYM/22zBpP7WxHi0+1zVTnnjU0qy90aU8v/TbfuldZ/T5PuW/GaUAJYH/YS/tdPIzxADZyfpwit3hIW2PoaJ9O8lxKUvh1s/RfpMytCI2/1UeHHburr/8aPD9NiQfWX/+1+DhFkXdO8ADGA2lXN/XKPIC9N0Ijl6cpdWeTg2k7tSL0PVhcw7LJA3DL3yZRpPK6h9n+ZW1NnmZo/NQAxVSrpvtigqatXBu4uNjya8JSZbttIwDMtfUaM4B1+yVBw6/upcPeMYo1CmCSk+QzQZqMpSn6ofi3zbLHRcFv8zSXCJHvYIPDsw8zNH15kPpcPNy+PECRf9c71shD6qcnyPHnozR8LdkwgDl6lAu8p2jmu0ndBfpb1MsOalCbO0/blrW1KlLsHS+NqV6zJJ2OUvSCu+kj8QA7UduC2f79+0VXY830CzvILzEacPdRpOY9eg5yizvKJmMzNJuZo1JlgVhpjmavhylwyk2Otp1La0YnOU+OUvSHEi0UsxS/HiR/T/0jBuUfYzT8iofG7xkdz1ikzMceOvxBsuYaKemgXA2l4UtTFE/NUrZYocoCo0JGucDbTx7nNrlmslRpzynypnkp+sj4DmzrJU6+F8Xg1q3Vy9paKcvoAA3cUC2hDe7AbOhi2qDumiw8FAJsFW0LZrJs8rgJA830C63XsadLdC2Zf7oguppQLmqvC9kn8aZiPcoUO689FUIH/DSZKdDCswKlxR1lgVMeknucJHXq9sWfif/bRMc+F3nPhGmKjz9bqFAhN0PRSwHyGjaeGRo7OUJJ3WmuxXsTFFA/coAkki/Eae7XBSr9MFsNpcFzfvIekcm1r5M0VbLJF4G3zBpPkWuW6GPSmo66dWgWsSKVWn5qszVasaytVc1jMRregWngOWXJVrFNGAfYGG0LZqdOnaK//OUv4pM5pR+lX9g8+gv3Uz8Xm2789DcQuLr2ru+0xYMohW+JboWygb8zRQHeuHQ0vD6wTMWfRKcddXSS45CHfOcmKa40nr/O0cwl3SMgyhFKZtTN0TylvhrTXHujXLMzc9FLzhcs1DQPzmu5K9N2bhUbnr6t8XBOdQE6d8hB2l0RKyRyONVxIUfpfINT63awpmVtbYq3Bumo+rEYVu7ANPKikzS76t+s/+5VgK2krdeYKc8oqxfOlO826zlmoPJXl3ZDeCNF6aaS2Tylb0dE9xL5oObBAE0r59OaECK9M2x9A784R1l1qNtIv+Up8eUEjb3TR0flbur91MJlzC84yXMuTrOfe8Q/LIn/qI4gecqpnzVHXho+Y/2aneIPG33nc7ukaK7JZ1KV7yf5r1Z5Xd1r2mlwHOwTXUsSd9KbeySnbcta85THYgy8Ma0KzRbvwDQiOeiw+pmF5Til1/pQYIAtqK3B7E9/+hN98cUXNDQ0VA1hzz//fLUo3cq/Kd8p/cAm6zhM8pDoVpTHKfJNE0cDHsYpogkNzT9rqpHefdZPPs3fSWify7aRnitS6q0RGr+WoNT3ecrcyVo+wuN4Wf3spUac5LB8fVKOEte3TzCLfNPMPXtFmrmhPlbopb5X13Iik6jTLZP6UbX0ZZimmwkMD6fpxK791PvaUTqqPMLi08Y3b9S1YctaAzWPxWjiDkxDfEfRpz6Gn6Pw58kmQvAipc53UdfLvJ55XQ+en6DYv1t5HR1Ae7U1mC1TTlUqIWx2drZalO7tevoy8/Eu2rWrtvTdtPNpj06S+0c113UkPghS7Bfxoa4ixS6Okfo53dKHXsuvT7Eq8X3O2oaZNxKBtyO6i+ObeN3PenX2knxGdCtuR2j6/6w1CsUfNFfpUd/Beg1b0uJRBOVi7ACN6G+g+Fl76nkryZ0PWL5gvXhjhAZVr7GSzgXIu9YL7l/wkO9D9VqSoZGhccpYet3X8npS5AEqRalbEUr+rnvETLM2bFmrw+CxGK24A9N1MkDqY3rla34K3LQWO5VrMccul6n8I69nXtfTl/PUsa+1O4oA7bQhwQzsr+PIMEVOqxqdcowGjg3S9I914tB8nqbf7NXegSX5KPKObHGjnDY9LSU5ezXXvSlHJ8IN3i1Y/n6cTrh1NwxU8X/YsIvfO8lzKqgKuTka7/fXr0du/t8TNPyRKt5KvGFyq9Otk1zqo5rKUYQr05SvFwr4/Im9J1Ov5oYBYXErH0FQLlhvVKeLlP9igHrfVB8t81DobavLppEOkt+JkE+dze6Nkfd/eOCql3J/L1LiPd2dinz+hs5olvA1aNeyZlXtYzHWfQfmsgMDFPpEfSdlmWK+ozT4Zb7uDpoybX36o3dXeBh/QXwA2ArYtpZmIT6JymRqi5dFH4lezGRCBr/jpT/KSqIXI+mLBr/hxRur96vW0o+D5b/9hNdXj/a3fKvN5LNhFk1mWaFSYRVeCrkZFr3kZ7Kk79fNQpkFMTBj6Qu630gy818Is/AlXj5Ps4roj7ECmzqu67c6LpMsnpljJTEupXyazcTCLHDcoenXcUD7OZQRg9UosWj/aj9EIb7EtEKJxU9LquEqpbYeK5UCy6bibHLIw3hDpunf+1VBDGvVQmqU8UZY0x8d8LJQbIZli9phTp3zMad6/kgO5lB/NlmO9cuOcb3p6dazBuvIslLMa+Fv6eeRuojlIVdYmfbq9Ccma5YHpV9frLZOV+jW93rrTCnhr5lfRA7mPTelWTaX1pMA8xzQ99tgXJrSnmVNoV0W9NvMBf69W/U9Lz18/XnCv1n5m80Ug+3GQpaFj+injZh0xM/C6mW+NMfSiSkWPOWsXT/EOAFsJQhmZnZiMFMUZ1igJpxZKDxgjX63GqvMVL4NGP++WnTBqBhlvprw16jwBvJqllVyYeZS/btx49OuYMYZhlxrxX1RHVDVDBpDC0U6EmTxYonNDKn/fdRwWu0fzLxs9KKvtgGuW3gQ+nyO114dTQQzRYEvx25V/9aLg/lbFsqEtixr+mVBt818FGVe1XDWX0zWvSc8nL1eG86sFOkIH2bjTRKA7eBUJmjt89Dk3RLN6m+pNyWR81SYZnOzFDrW+HRI5+tBiqpPmWpkqfhYdCr2+SiaiVPwiFn/Wo7+EMXzcxR/10Wd+5ykvrw5kal/CqTl9rhp9M4cRd+XNdfu1aW8pDxRoPQFt8kz4DrIfSFJ2asW540kk/9qmvKpMHn3SdT1kvrUmdVr1Oyn+0yU0okgyRYqlodSiv6Qp+hZ57quedJzvD5J6dIshfutrSWKpXHJ0tSaL4o30ZZlzSaW32oQsza/lzjIe2mWct+N0prO0AJsMgQzqPWcRPK5OBUWSpSOTVLwjEyy+lUvyquP+gM0en2G5n4tNb3R9H219PoY/zG3LmAktMFMsc9L4VSeCqkohYe8teNxzE/Bq7yhfrRAha9HyftX0fzqL4y+FqF4k49ZWLc9TvJdmaWS8uyo66MU6NfVoxJqj/DwdG6SB9ACLeRnKHyyUaPdSa53+bwpiae76+rQ0SOTd2iUppJzVHk0S1Pvrja8riMDquv2chT+OrWmh7XageMk3xnIF2jmaoC8R5yaQKK8BcE7FOZ1WqIiD6W+g21qnXnwDX7N59ujNEWvKvNCJs2jzlTL52y+QqV2jktbljW76Fza+XtUobnkFI0q2wHdw3JXlvtElkoLBYqf4yEV70OGLWqXcthMdAMA2EyZYm900cDKc+mUVyG18lVGAAD2giNmAAAAADaBYAYAAABgEwhmAAAAADaBYAYAAABgEwhmAAAAADaBYAYAAABgEwhmAAAAADaBYAYAAABgE3jALAAAAIBN4IgZAAAAgE0gmAEAAADYBIIZAAAAgE0gmAEAAADYBIIZAAAAgE0gmAEAAADYBIIZAAAAgE0gmAEAAADYBIIZAAAAgE0gmAEAAADYBIIZAAAAgE0gmAEAAADYBIIZAAAAgE0gmAEAAADYBIIZAAAAgE0gmAEAAADYBIIZAAAAgE0gmAEAAADYBIIZAAAAgE0gmAEAAADYBIIZAAAAgE0gmAEAAADYBIIZAAAAgE0gmAEAAADYBIIZAAAAgE0gmAEAAADYBIIZAAAAgE0gmAEAAADYBIIZAAAAgE0gmAEAAADYBIIZAAAAgE0gmAEAAADYBIIZAAAAgE0gmAEAAADYBIIZAAAAgE0gmAEAAADYBIIZAAAAgE0gmAEAAADYBIKZzWQ+3kW7dqmKe5xyi+LLNSlT7A31MPso9lh8BUSPY9Snru83YrzGwDbmi5T8coQGX+ul/SvzqYu65aN09K0YFUVvAADbBYKZ3d0bo8C1nPgAsHMs/jRNg6/spxNvTdD0nYwqhJUp/32KUo8XxGcAgO0DwWwLyHwQoIkH4gPATvA0Q6FTgzT9UHw2cshBXaITAGC7QDDbEjI0MjRBOG4GO0X5X2Ea1+2MOHr8FLwUprBSLgQo8LKDOsR3AADbBYLZVnFvhAKfIprBzlDMJ0TXEs8/56iQmaLwuSAFlXJxkiZPO8S3AADbB4LZFpL5YKz+qR2AbaFMxZ9EZ5WXBl53im4AgO0NwWxLSdLge9O4Ew12mMPkeFF0AgBscwhmNjf6+RR5RHfV7UEa/gLRDAAAYDva8cFs8acYjfxPN3Upz0fq6qajb43Q9PdlWtejw1po98t+mvxcE80o+fYwTmkCAABsQ9s8mGVofOWhlKrycab67eK9cZKdAzTxr/zSQ0XLeUp9OUGDchfJn+Wr/SyrefCrKH032/84UsfZEIV7xIeqJA3+vQ0P1+T1sdZp09aP2UNsdQ+7FfOh6vd5yt+eppG3jlJ313I/yoNE+2j4syQV50V/euUMxS4PU597/+pwX+rlAXucYvfWOW8Mht318lHqe2eiOuz1hPfFx3zYnykPTlVP7y7a71aGP0bTt/M0/7vouRHNfFut+/kfEzT+1uqDWfe7eV1ejlHmcYt3O37LU/LLMRp+4yj1vrQ6LdX58MYwTdxMUf430a8ZzTR00cAt8e9VY9S78t1SWfd619I6W6TyvRhFzg/SUVns5FXL0oNwB89PU+JBo+WlSNOvLf9OKcOUNFvm1fQPSPZa2S7MU/Id1W+6xvmW0kS9efvaII181oblCWCnY9tamoX4JCqTqSkX04wVo8wnGXxXLR429bMYhJC+aNQfMW+sJPpoDf3fCWXEF7kwc6v+XSnerwriy3pKLNqv/p2XRR+Jr/QyIVV/zU2bdrzN/oZuXJT5wFXuTzLvAdW/GxVJZsFv1dNbYelLXuYw6ldVHP2TLPtE/MTIoyjzqn/TH+VjWWHZq42HLR30scn7FTEgi35Ns3C/w3B4NUWZ5tgcWxA/NaWZb0t1X/jabz7+x6eYlSWnococi74vM8nob9QUB/Oci7I5s+rSLXuNyrrXuxbVWSkVbrzsiqIsL+GU+Xhnr7g0/Qe/azjnWeXbgOY3RAE202iRXJhlQdVvJLEeajxpZt4q61mYzbZ2UwiwY+3MYHZhik0dN/j35XImzptmrU0PZlz2ilvzXbVBKYovTdk7mBV4w6IPnObFzetDaawKLH7GYrjhRTodNQ8i+mB2cpJFL+rruV5xMP/X1mJO5W6IyaY7A+bFwZfHun9BFzImY6G6depPNBkmDSzwHQXPGqaFDviNl9lNDmbN11mBzbzbzHKyXCQmf5Ku2b5U8Tp1qfp1XcmKL8wssNlz6mEvldG74msTC6lRVeCS2GhKFwCf8O3mEUkzTEuF70gsrZ8AsB47M5g1KEYNlx2CGY9mLNyj/V45wlM/Ftg4mPW4VY2hg3kvRtlMrsAqlQqrlObYLG8sa45GHA+zKVVwchwPsMlElhWU31RKbC4TNzgiJbHAtyZhRB/MNGVpnGbzpaVxKmbZjNE4rQRGcwu8bmsa/gNeFrweZ+nl4VcKLJuKs8khT82Rm7rh0izUSB42GuPhV9RnOjHJ/P0hll5v22l4tJnX1bkpFs/MsZJqXhhNC0m+2nD2bEHUgVLm2NRJ9W9G2czKd6KsdxrWVWcLfHmvDWXSET8Lx2ZYtijGUSwvvoO1IcfNd0pqJ4Fvr9T1eqzBkU3dka/l0ijQpS+qxyfIZnXTNntOO77Kkb4Qn67V5bTCSvk0i1/11+5o9IRYdr3zBmCHQzDTF2lUt6FaYo9gxjeb92sb+PqnNG0czJZLT4DFzY78mZ5ylpjvc7PTfAYN59CM8VEKs2DWw8OA2eQ/K7C4/mjJoTqB5wlvQDXTIDEPbzxNouKS0gwb1YRwPr1fm4yQUcgwCj+tsJBlId3OgXSkTl0paqaFl54w380wo19OeN2Kb1pmHXVW+tqnO8XnYP7rc3XmZ4XNfa7/jdHOAg9FH6pDUZ11VcGnwfBU48l6O2t85+6Qqt9zs9p1SLc+VHcInonvjFT4NlY3b013ggDAkg0JZrFYjA0ODjJZlqtF6Vb+rf0aBDO+IZ7MlFQbJmWv3bh1tUswU8Yx+4kuFNRtUOwezNwsnBNfm8he0l57oxTXBaMjDio1RxNMGnejYGapgS6w6GntkQXPdePmUD/+XpP+ajxJs1F1I2qy02AUMlpxutJI4bpH+7d6eL3Wu4ZvmXJ6TNeAmy9fmxPMLNUZX65GdSHbF7M2PwsxXTgzCPML3wVVw64fctTXpHmOq+dLnevMdKdL9cPXXrMmGWx/DOiGWRP2AKApbb0r87///S+dPXuWrl27Rv/5z3/o2bNn1aJ0K/+mfKf0szlcFPpmmgI9kup9ex3U2Wn89j33hWqIrSnxU3xTu6E6yPV+hHgjt6oco+BHbbhLcyOcC1HgkOg24XJrHxdC5KHAm+7670ns6KbD/aK7ao5Klm7kkyjweYR8+8RHUw7yfRTSPGMueTVR+z7TxRTFr6j+tSdMY2cc4kMDe9w08pFffODK45S4Y+VWvQB5j3SK7lbKUeJqUnQr+Dr0aZDce8THevi0BC+P8l+sSlyK2uj9r9bqbP5OgsbVy1H/BE2csjY/HadCNKFeJh+MUVQ3PztekfmYrIrczZrczVmk7O3l2pPJ+/4A8R0MIU45zZsTVhXvJ1V1HiDPq9ppXnxaEl1NOCTTQI+T5GMy+c+FKezcbZvHDQFsRW0NZv/4xz+qIcyM8p3Sz6Y4HiBfzxZ9BXKHi4KfhcgtPirKN4I0dnPrRbPAq4cbv4hacvCmR+WYl+QDotuURI6/is6qRVq08vgJaZgGXrcYag6coAFNQ5ukrO75cot3k5qGXH7LqwknjXTyhnq1wa3XUKuc7CVnO3LZwywl1S8Wb3Id6vibnwLHxAeFQX1tGkt1tkjZuxHRrZBodMjL/2uVg7xng6J7Sc387Owl+YzoVtzIGIfXxxlK3hHdhzx0+JiTeld2cMoUzxj9qkyZOynRzfX30mHdNHe+oA6ZZZr85zTlG+4L8O1RZo5mv5ulqUtBCp5xUzsWP4Cdom3B7ObNm3VD2TKlH6XfjSaflPlmcuvq+H9BinyiiWYU+2CMEobPD7MrFzn+bGET3rFbu6E/5KAu0VnX8+L/zTjtbiI4SeQ+po6MKcrpWrH8j6qGkHO/uJfm5+etlz2dpHlL5J0caZ+wZ+Cgoy3LdjmX4lO4qvl1yEGHj6trlw8vt87nkbWKpTrLU+aG6KwaINnd3M6d/oiYEry087OTevmOx4pynNLqMCzM59K0/Jp3ydvLl1knuVShN5cRz2ZUe5yiuOr5cF4+//ShssPVS6pjtHyHb5C6nd00UH0WW5HmcSgMoO3aFsxSKW2DVE8z/baKa5+lpt3GOsj17kTNKc3A3xO1G2Tb4gHrBdHZjD/sbnyUbY28LzuaGnbXPm2MSz9UH7Wcp9LP2iMX4569tHdvM+UEjYvfVj0oUaVB4+ja257aKT3WRoi1rEOOA72ia0n+8RpOnbWBpTqbL2lPhx9zkqPZqu7sIof61H2ZD1N3REp6xaM6Qpyj5H39kXDtkbuBHmUZ7KDuV3xL/6C4laU53XKiDnPK5QCeVwyO9b3gpcAV9Q4fV85T7PIg9bn2097dykNzlx4sm/ppvvHRWwBoWtuCWaFQEF2NNdNvq+z9Q7ua9g2kXLfzqf6UZoCCt7ZONLOd53aLDms6/rBXdC3JPVU3VYs03+iJ900rUrnBMB1Se3Y6Fp9qQ+Za1qHOP2rHTVtfm8dSnT3lQVt0VnXupuaWFkUXdb0kOqtKNP9UdC47IJNPdfQrdTen29nKqY7cBUh+ZWk+SC5ZFeiilNEcadOdhq1zOYDr/SjNvKsLZyvKlP9+mibeG6Cjzr20u6ubTihvwvi+iTdVAEBdbb3GzL685HhRdG5xHT1BmrioO6X5XnCLndIEgFW6U7430tqjXw/SFF9OaurrxA4cJnnlIFiZUj+ojrQtpil5WXRzcn+909AO8lxNUyk1SYHjDU7wlvOUvDZCA3I37XWeoJFvtuQtSAC20rZgtn//ftHVWDP9gl4Hud+foFHN6ZEYBT5JkpX792AjeSn6yPjuXuslTr5tslMB5lzuPtX1X9qjX+o7K11up6o/J7lPi04udSezeqTtQYYPZZmLPK80vqJOOhKgyWSBFn6do9lYmAKvq/+WgYdJmvD20sAWvAkJwE7aFsxkWXMfXV3N9AsG9rhp7DPtowjK1/w09q+NimbzVLHHpUIbbvFJRXQt8e7TNl0dmrN9RSq1/NTmxunYo72ervKk+dOQ5UdzomuJLNVt6u1lT6f2ppP5BVoQndaVqHhXdFY5SDK6zrJHpuGVqlHfZam+s1KiPrd6nnTQ4VdVtxaorjPL3Y2vhrRDAyQ3eESNWscLTpJPBWny2zkqPVugUj5N8etB8h8xCmplivkGaMLghgUAsKZtwezUqVP0l7/8RXwyp/Sj9Avr0/G3MYpc0EQzirw9RskNCQLtuJZqcyQ0F+83pr/rUnutkkQOp7rpylE6v3Wv/9NfuJ/7pfk0rr+BwClpr9GzNf2F+3fyVGw2m+pvIDjURcb3Hbg0R79yt7NLzymcz1J65c7KAXLrAlan06W9zuxH5f85SsVWrw90+eQm7jzWea6DpL+6yXsmTFMpHtQWSpTmIW31FKoiQ9HvtdcjAoB1bb3GTHlGWb1wpny3ac8x23Y6yH0+ojulGSH/R1HtBctNsBxSFucoq7oNf0u7O9fEg3qLlL2jboC8dNipbWUdB/tE15LEnfSWPcWsbfSJUt+kmqgrBQ8IX6nriweEtjxwrV20j6RQgk8q01wym7+bJPWT0OiY8qALI7qjX3eSlHnMV7X7qdXfD8l0WB/qDhwmz8o2oEypHJ9DmufPSdT3qkksWyxT5maEJs4P0tHXemn/OxYuh+iQyM1D2sxXQc3Rsxz/u1t3FwRgc7U1mP3pT3+iL774goaGhqoh7Pnnn68WpVv5N+U7pR9oEeWU5iXtBrJ8bYRGrIamjg7tnvSTBUu3wy9mUqrrV7a4OxFKWD0N8yBBkduiW9HfR7Lu+q9Ot6x5LhR9GabpZk7zPJymE7v2U+9rR+noG8M09mmyyTDUQppGn7sdodg968Fk8U6UwuppVx6M2vBBwXaiC0s8eoxfa+bxNEWKX9PEsroPWO581aN65lmC0rl5yt1bXdO8/Le1sVYbHpU7OnP3k6vPn5OGSVY/Yketo0TpS8M0cnm6en1a8Zs0ZS3O3g7nYdIeTwWAtWprMFumnKpUQtjs7Gy1KN1b7fRl5uNdtGtXbem7aa/9wo5jIYqeq73yw5J9Tu3G9UaCUg1PURYpenl8G+0d52hkaIJyjW79f5qh8aGRlYuwlSMRgdMeTSiuesFDvg/V/5rhwx+njP4RCYaKFLs4RkoUU64rSt2KUPL3rjp307Wbi7zvqV9ClaOx9yesTQuvr4mPJjTLiee95t6CYAedx7w0qp6dt4IUtHixe/HmGI2pg7w0St5jdY4YdvKwo3qzROTuNKXvLtegbPwcMn14vDFNY3w9XiadqfcAZRfJPtW35XGK3LI2bYv5LKVFt8LlctSuCwBgyYYEM9hIHSR/FKXgWraKnXxv+7joViinQj+o8w7O+TxNv9lLg+rGZju4N0Ket6YpbxY45nM04fPS2D3xWdE/QUHDVznx+fFOhHzq+XFvjLz/wwNXvTT7e5ES7w3QwA1VT1KAQmc2N8oo73vUPNTYyrSUkzR2rFdbXz18OBbfMWkrHTINX/WpQodysftRGvwyX+e03zzlvxigXl9MFUwl8l0dJtnscFmVRO7jqiB8I0xh9WuYTI42ak85JympWj8HjvSaHqFTuE4GNO9/Tbw5wMNkvZnL/ZKgEU3odvO/s9UiN4B9IJhtR3tkCumu+bDGQX1DAc3vyjd4gyIPUuSbDOXLS68JKj5IUuzjgeqrWgarwYE3MqfVb3TcuiRxl2D1VTSuEzT8WYIyP5Wr013+KUOJzwbpqPMwjfxL1VhJPope8pkfyXrRSxP/9Gu+L38/Tie69lOf8qqbe3kqi1cwVev28jCdcPLvPsuIvhW8jq8EybOWNyW0UoeLRm9GNUHTeFrKlL+XoOnzfbS/6wSNq0OZUl83R8lVN5TYl9TPp1Pz7MAiTb/VTU6+nkzcTFLuF/E6rV9ylLw5QYOyk7rfVocyHl0u8rrpb7yGOl71roascnllGEuvYTKhP+W8gi8/rzao9AMDFNK86i1D454u2v/GCE2rtgFL81dsB9x9FFHNX9eFCQoY/n0AsIRta2kW4pOoTKa2eFn0kejFovRFo+EQ88ZKoo/W0P+dUEZ80bQKmxmSNMNaKo2mvcTiZxwGvzMrEpM/SbOFTEj1b2Z/o8Si/erfWpwPj6KMx77V311Miy/q09alyd/SDdv7VZpFTxvVm0k54GfRohhWA4VvA4w3ecbDqVsczB8riKEY0NR965dJIwu5MPNI6nG0WHh9TeUXxFDM6JeTEF+TW2zddVZgM++6NcOwVvj6cmGWr51WZVn4UO1wgt/Vq8MFNnuu9jc0NGPx7xaaWwdURTodZYVnYjAAsCY4YrZtdZLn4jQFmj5sJpH3epbSl7yNr2WSZAom0jT7obvu6ZEt5TkH+a6nKf5+7QuetSRynp2iuftT5Nsn/qkBx+uTlC7NUrjf+ik86UiQoj9kacpmp/06DgVpJj9H0Yb1tMxBnnPRan35/7odlpblp+OHyWvxBgbpoI/CqRzNXpQNLto34yL5Tf2xsdXXMBnT36SwJHC81+Lf5evAV3lr24BlkpN8V7OU/8pHjufEvwHAmiCYbWcveCj0ufbUpDWd5D4Xp8KvczSjPEjymHt1A803wHJ/gMIx3igVecg4aa/A0BI8nHmvzFL+5xmaHPKSfHC5BnkYO+KlwKUopR8Vae5zPzX9tAclzH5doIVHaYpeVepWJs2jzpT6Pean4NUozeYr1Ybfd7DZP7JBOnljzOupVF1ORinQL5NbHVIOuEk+E6RJZVlZKNDMJV/z9WVzSnCO/7xApUyUJs/5SdY8dFUsLxemeIjl8/KHKAWPNL82at8CwKlfw2RC/2gTIj5u7mYqX2wDlOeUxSYpeEYmuUe7rjt6ZPIOjdJUco4qRR7S33U1ETgBwMwu5bCZ6AYAAACATYQjZgAAAAA2gWAGAAAAYBMIZgAAAAA2gWAGAAAAYBMIZgAAAAA2gWAGAAAAYBMIZgAAAAA2gWAGAAAAYBMIZgAAAAA2gWAGAAAAYBMIZgAAAAA2gWAGAAAAYBMIZgAAAAA2gWAGAAAAYBMIZgAAAAA2gWAGAAAAYBMIZgAAAAA2gWAGAAAAYBMIZgAAAAA2gWAGAAAAYBMIZgAAAAA2gWAGAAAAYBMIZgAAAAA2gWAGAAAAYBMIZgAAAAA2gWAGAAAAYBMIZgAAAAA2gWAGAAAAYBMIZgAAAAA2gWAGAAAAYBMIZgAAAAA2gWAGAAAAYBMIZgAAAAA2gWAGAAAAYBMIZgAAAAA2gWAGAAAAYBMIZgAAAAA2gWAGAAAAYBMIZgAAAAA2gWAGAAAAYBMIZgAAAAA2gWAGAAAAYBMIZgAAAAA2gWAGAAAAYBMIZgAAAAA2gWAGAAAAYBMIZlvJvXHatWuXqvTS+L8XxZdrU77Zpxlm382y+AZ47VDsDXV991HssfgKNt/vZcrcnKDhN45Sd5d6Pu2i/e6jdPSNcUrNi353iMzH6nrA8gqwFSGYbWkZGns3QjnxCWDH+C1FY6+5qNc3QpFbKcrr9ieK91KUulUh6hD/AACwRSCYbXX3RijwKaIZ7CRFir1zlMa/b3B095iTHAhmALDFIJhtA5kPAjTxQHwA2O7uxSh4S3QL0kEPBS6EqyV8SSlB8h/ppi7xPQDAVoFgti1kaGRoAqc0YUco/pwl9bEy6dwM5X+YocmLwWoJnlNKmKY+dONMJgBsOQhm28W9ERr7oig+AGxf5V8Soksh0bDXQ53iEwDAVodgto0k3x6m6YfiA8CO0EuOF0UnAMA2gGC2lV2YoqnjorsqSYPvTROOmwEAAGxNOzKYLT7OUOyzERp8Tff8o5d66egbwzT2ZZLyv4me7ez5bvJfnSKP+Fh1e5CGcUoTAABgS9pZwaycook39tPuP/fSwHsTNH1H9/yjhxlK3YrQ+FsnqPuPXXT0gxjln4rv6nkco76VhzqqyzhlRC9tc8BPoStu8WFJ8u0Riv0iPrSM/mGrTUybvn4+Nv6l5uGYb8RUF3gvUvlejCbe6aPel1b7UR4iOvhxjDJmT02YL1LySx7A5W7qWh5uV3c1fEduF2ldzx5debhpL+3XDXviZobK63nu76Iy7AiNvHWUjr7ctTK9a9tx0M235brn45/6bJhOLA9fGfe3Rmj6dp7mf1/qpSXMpkX5e68N0siXCco9blBZuuWn9yPx71UJGvjz6ncrxWQZW7Pf5yl/e5rG+DJoNE8mbqaouJYFqhX107T2r8vah2FrH3Rb3TG+PEx97v2r/Sj1+NY4xe6ZrsxU5PWv1NPqznQXdct9NPxZ0kLdm6wHVXzY3y9tX9TzoOvlo9T3zkR1nJqeA+rlRT2du/ZT72t8u3U+srbhws7AdojKd6NMlogpk9xU6Qmx9BMxEDOPosxr9FvivxW9tEQmpB3+xeWhZ1m4R/XvSumPsoL4tp5SzKv5nTdWEt/olVi0XzX8ZqZNXz8r462Vvqjqh49/dUyKcRY8Iq3+u2FxMO/VLFuoDkWxwOZiwYbzWzoSZDNF8RND+mn2sugjvizdn2TeA+p/NyiSk/n4OFXEkKypsPQlL3MYDa+mSEx+P8rmGi2b+mlQ6v5JmoVM61Rio6nVmlyzZyU228S0OE+F2azZome6ftUpJstY85R54mNOS9uOpeXQ0jxvZf2oaNYhsbzWav+6rN1WifF4VmDx92UmqX9vUBz9kyyrWq4X8tHG2wBJZsFv623xDNYDbiE/xfyN1mVelG1FNG9lvbC27VkpB7wsnLIwY2FH2RHBbIFvJNxGK4XV0ijkbHow43Lhmmn0ftU4mtk5mM3xafJYDtMS88WU6V1g6U8ab/xXSt3gXRvMJr9qbllynIlbCsisUi8s1SkH/CzeTLi8EGXR03X+zqEwj/nrVJxhAf2OgpXCG9fQXYNYs1nBrG6ANS8N53mr60fFtsEsz3ceX7del9LppW2usu22vkPtZqGMWXiqDWZNtwu8/idzYnCGmtz2rBS+k/UJHx8xFIDtH8x+5RtByyu2efF8XmdTa4dgxmWvuLXfKxvEuo0231zZNZgdcjP3ynzjG66zkyyemWOlSoVVKgWWTUwyv77RlIJs6nPfyoZROuhjodgsmyspv6mwQm6GTRnssbuvmEUR/TRri6M/xKIp1TgloyzU76jpz600AmKIhpQAUNNQO5j33JRqmpXxn2XxqwHm0e/hS74689l8GtxnJtlMvrRSN9GLXuY3nf8WGU6LMv/CLJrMssLKtCh/z+hIlFHjulD9zXKZ+VDdv5dN/bD63UppeCSxgYWs4XQ4T/F5rpmOOJs8a7BMmc3zttTPKnsGMxdz96yuq9IRP5tMpFXrpVEdSiz4+RTzLU+/5GS+i1E2K5bXSjHLZq4bHJnqMdux0E1zv2912DX1X2JzGeP5SsenTEP3wndBbf9inGdU63ClNMfSRtsuZb7eRzSDJds8mPE9mIsu3QqwXHjDd2mGzf26vDLwjX8uar4nK42yWbP1xibBzLAxaXC0z7bBbLlIHha+b3KUwLCRWyruD2dNTykVYqvhrVpMjxKZhRo3G02aB5hCIqDbE3fVaUwX2Ow57UZaep2PT70DI89KPJxoQ7h0Os7H1ojxNDQMi2tSYnH90bgD/mpwMlWZY1P630gBNvOr+N6AtfCxPjU7OfWWQ65yV3/0xc3CNUdX2l8/9gxmy0ViHr4TZDy1yrZav2MpSg/f9potD8WoKmApxWVQ7wqTdblB/dfOV4vDr7uzpKjUTu/QjLXT4LDtbUgwi8VibHBwkMmyXC1Kt/JvbVeZYQH1gr9Slk97GXgyy4I1e6lLxZ8wWW3sEsy4hfv6DUmdaeXsHcwkFvi2/qaqkvDrfsNLw+vrCmzqmPo3VhswpdSvz2U14c9sTzsXZi51f/28v2fiu7p4Q3ZBvdNhdm2YwTS04nSlgYXUqO6IQaPGaVmh5vSqq05wbHsw+zXO/KpxMQ5ZtQpfadclie8cqKdhI+rHzsFMahQ8aupdKXwaGtRR4XNZ8xvjbZjRuuxhUz+Lr03V7tzLRmdPdG2NZFYvGlkWPrT6G6Kg+c4/7ChtvSvzv//9L509e5auXbtG//nPf+jZs2fVonQr/6Z8p/TTLvN3kxQR3Rr9EzRxyiE+6OyRKXBRFh+0pu+kje/ke9FH8aWQqyujxEPShur4f0GKfKL+q2WKfTDWhrs0N8CxEAVfr/9M906XTLyhUJFodMhLJnNXcFD3q6KzKk1Fs5vBdKShaYqYLTsqjlMhCqmfMXc7Qoma95kuUurrsOpVWm4K/91PjufEx7o6yP3eGPGGTCjT+K2UpTtNXW/KxMNgi81T6tY4H4tV3isT5NsnPtTlIN/FCc18zH0UpdS6bptdu/KdKE2LboXrUoSCh8SHOhynx4g3tCvKX2ZU83b71M/ayBT6oMEbGl5wkXxSdAvShwHyNqgjx8va7XX6l5Loqk/6MEgDB8QHU3w9O9bHtyqrUmWDjcXTebL2V9X49L7pJucRmeQzQQpfctJu3KYJXFuD2T/+8Y9qCDOjfKf00y75B4axjLwnZc2Kpud4xUPug2JluRqlmVSa5koVWri6FV790kGu9yMU6hEfFeUYBT+KbbkHz7qOH24QsDhJ0vUzQLK78RsSpX3qZo5vaC09IkKi4TetLgMOOnFa05RS8r5uDiymKfm/qo38MT95LQSAFS/0ktwvuhXXUpS1sGH3vNL6WEaLWUpdE90KaZQCJ+utZTp8fgTOie6qCKXub0YrVab0bfUrn/iO2kmr9eWiXq+j2tB6h0YpzHeQHMuTsG3qZ40OeehwwxDURZKun4EjvY3fdyo5NKG1/Lu1erE0bMWLDuoVnVVPFmofc/GCdjtU/uckTf/YODm73udtS2qWZq+HKXjOT268Wwy4tgWzmzdv1g1ly5R+lH5br0zFH0SnBt94OhtsEA8FKf2DWFne9ZHnCN+rkTqpw9KRDBvocFHws5DmaF35RpDGbhns6dlY74HGR6aoYzftFZ1Vx5zksLC13b2meTlA7iaCk8QDvnpfPpXLa49o/ZSjlOis+n9dtHd+nuYtlw7q1DRkKcr9JDpNeam7Ha8w+jFDUdFZdVqm3qbeIN5Bh18NiO4l0X/nRddGKlL2huhUSLKFQLHKfaFQbWjj/wxR8AzfAVyug21TP2vk5uul6DTXQbv/IDqrZHJaWZnXtC5bHLaRX8q1R6Y7DlPvGdGt4DvDgy87qds3QtPf5Kg4v4VCNGy6tgWzVErT5NTVTL/Wlah4V3RqOKjrBdG5jSmnNCcu6k5pvhekhOpBj3bX9cc17D527qbdorPlTh62FPpW8D1tzbGWTF5z1HL+UVF1qov73xO0d+/epsqJ/xW/rcpR6ddGDUAXdbZhr3y+VNKcppNfclg7GqHS+WdtfZUflSydmm2px0XSxJ1X+fZCdK7Htqmfterau4azDZ20e43ZqbFWD7uTvO+FdZeulCl/c4IGvYdp/97d1QfWVh8s+z3fQUNOgzraFswKhYLoaqyZfq3jS/7WOkDUYh3kfn+i5pRm4O+JnV0t68H3zJsKffqjeQ8WNadAFp82f1VKI8XfGjXVXbS3DcFMPy2de9YQj1/o0h5V4dOy4e3Xb3yHTnRWveyoe9mDVdumfsDcoSBFvw2YXldc/jFF05eHaUDupr27u6j7f5beGLElXv8HG6qt15jBJtvjpuCn+lOaAQpusVOaABtmcVF7FBOgCY7XJyldmqXJIU+DU7dlyv8rQiO+o9T9x/104nyCiq18FRpsaW0LZvv37xddjTXTr3Ud1JJd3S2uoydIExc0J0Ao9l6IkthLsx1vrGRwZ29zJX4KC/26PIfNBqyTJFPgnzNUWKjQXCpKYR7S6l/WXKTk5T7qfWvr3aAF7dG2YCbLxo+cMNJMv9Z1kUPzSIRlfM9kC11ntX4d5D4foVH1RevlCPk/Sm7c9Sn600M7xeICVURn1UndabHntBe5FMutP7W5UTr2aK/Emn+6ILqaUC5SWnRW7ZPWcF3SOkm6O/B+KLbk1P+2qZ+dui6vRUcnOY/4KMhD2lyJ0UJpjtKJqepNIUZBrXxjgAY+xfFaaGMwO3XqFP3lL38Rn8wp/Sj9tp5EjpdFp06Kb2zrK1LsjW46+lofDX80QdPfpCjzU5nmt+oVm3vcNPbZqPbC4Wt+GvvXBkWz7XJ66FaxuUZJf9flAUlzIbnk6NYEtVwmv2Wv/9NfmJ76udj09U/6C+RdXXubvkB+3XSPPaCfS809n+rBBPW+fJRvOwZp5PIERb5fmqJtUz841btmHZKT3Cf9FL4+y4PaApUyPKQd0Sa0zFcp1C+09xoz5Rll9cKZ8l07n2PmPKS9vXxZ6p+J+gv/wxRFb+UpdSdBkY9HaNB7lHqdXbR37wmafij62WI6/jZGEd0pzcjbYxRd89HDrOUjj8Uf2nHX7WZI0VwT87+Y025kva5ubUN6wEV9orPqVorSW/UU819dmkeD0A0+LU0lj3lK39Y+d1A+6BRdG6ijmw6rnw33IEnZJuZ5OZ+mzI8pvu2YponzI1T8XRzTsnX97MR1uZUWqfx/MYpc5m3Fa7yteGmYkg33eTtI6uEh7dsoBdXZ7AGfF1t17wxapq3B7E9/+hN98cUXNDQ0VA1hzz//fLUo3cq/Kd8p/bRL56seMoxmD0Yo8HHGZI91ke+1RCgpPmlYekiiXSmnNMPajUA5QiPn1Q/TrKeDOjWPGZmnBUsNS5FS32yfYBb5xur+bI4SV9VLkZf6XtWdv+jsJVn97COapvCNZvaXizTt2UX73coRmqWju8nNesNDx2GSh0S3ojzO66qJFuZhnCLqB7DyNVd+ZcOPB3ESuY97RLciRdP/sjpPijRzQ70+qabBVvWDdbm1Oqh0P0zD5ydo+k6KMnxepXMWU/ceviNgeMkN7GRtDWbLlFOVSgibnZ2tFqW7PacvdTplGrioPkq0KvORl058ME2ZX1ZXoMVfMjT9nky9HxtviD3veTWnI1Y8jlHfrl20q6aMU0b0Ygt7ZAp9FVzjxc2d1PWS5mSMpQZr8U6Exm6LD9tA7nyAJmperaTHw/3HARpR9ScN+clT82DXTvKcHtXMj8wHARq/Z22jXrw5Vq3b4j3lCE2CIv8i6rL0ip926CS5XzstiQ+CFl8FVqTYxTHNzpD0oZfkDb+Aaonjdb/qVVfKPAlZmg79sq6dBjvVD9blVnMdGVC1DWUav5bgc82Cp3OUVT9v89BhcqxtAw3byIYEs82jPMtLd5RoRZlSnw5Sr2P3SpDa7eilwc9MotShEI1ZeEei3XUcC1H03NrWfOchT1Mhonx7jOTXJjTXxWx9GRo5PkDTP5lN9zzlPu0j70fq5chLE+eNX+XUcWSYIqc1tUpjJ0/wBrB+rRW/GaYBX0xVtxIFLvqNdxw2SM20lGM0cGyw/qtp5vM0/WYvDdxQTa/ko8g7Ml97N8kLXgpcUT9kJrE0HabznE/Gvyeo7031su6h0FvaabBT/WBdbrFDfJlRvxv31gAN/D1J5XqPwPi9SIm/j9GEqlLdbXmPLWw5bAdYyIQY38yq3uLfbHGzUKbOa/8fRZnX8Hchlha9tASfDs3wL65x6E9mGQ+r2mGJ4o2VRE9Gsizco/+Ng3kvRtlMrsAqlQqrlOZYOjHJAscdq/30+JjvmOo3JuOdvqjqh5dQRnxRV5qFVL+h/iirNwXLSjGvhb9VYtF+1bAlifHGTHx2MM/QJItn5lhJNd3+I9Jq/9UiMV+sIIZn4lGc+Q+of7NUHP1BNpVIs7kSH77yN4pZNhMLa+tWFOl0lBn/Fd00tHqZ1HvC50fNMiIx+WyYRZNZVlCmg5dCboZFL/mZXLMcNljXOO1y4mXRR+KLlsqyyZp5qZvnlRKby8TZ5FlZtVwopc48b3P9WK+b9q7La91WrWne6re/hn9Lvx40sdzoh2+yjVm4b9DOHPCy4PU4S+dLS3XKSymf5utxiPkO6pavQ6Ms/UQMDHa0HRHMFJW7IYONnJXiZqPfVcRQTGy1YMZVvg3oGpOlUj+YKRufcHP1eMDP4sWCdqO4VYMZH3Y65jOsN+PiYP5GoWxZcYYFahpKa8VxhoeyZ2I4NTY4mCnWOi2S3Hhd4zYmmHFPeHh5XR/OGhUesj5Js7rRso3100zdtHNd3onBTFFoavugKpKPRYtiILDjbfNTmas6/zZKs7lZCvdbPx3p6A/RTDFNoWObdLFLG3W+HqLpIb4JaZLyDs6Z76Okv83biKN/krL3p8i7r21vr9xwjlNRSieCxBu0uqSDfpr6IUtTVk9/7/PQ5N0SzV7yNnhiuIokUzA2R9nrPnLY6QX7TU+LRM5T4er6aat1bY+Lgt/mKW11Og54KZzK0eyH7vqnGW1SPzt9XW4HZfuQvxsmr+WbxJR5y+s2HyXfpl0fCnazY4JZldKQfV2ghUdZil8Pkv+Y7kF/B9wkH/NT8CpvfIsLVPh6lDzbdmXpJM/FaQo0n82o468+3gAVqZRRnmrtJfng6kAcPTL5z03RTL7C6y9Aru2XaclxkjeS+QLNXA2Q94hz5Vod6aBM3qEwRTMlKv4wRf6DTU78cxLJ5+JUWChROjZZfRClum6rG/EjSv1OUjQ1R5VHfEfjlNPw2rVN12haJCfJ/QEavT5Dc7+WaC7WOOxujk5y15sOZZtxJkhTST4/8nFLIafKJvWz09flduj8W5DiPyvPKYvS5Dk/b1Pc2gCuLDMr87bI5y3qFrR2KYfNRDcAAAAAbKKddcQMAAAAwMYQzAAAAABsAsEMAAAAwCYQzAAAAABsAsEMAAAAwCYQzAAAAABsAsEMAAAAwCYQzAAAAABsAsEMAAAAwCYQzAAAAABsAsEMAAAAwCYQzAAAAABsAsEMAAAAwCYQzAAAAABsAsEMAAAAwCYQzAAAAABsAsEMAAAAwCYQzAAAAABsAsEMAAAAwCYQzAAAAABsAsEMAAAAwCYQzAAAAABsAsEMAAAAwCYQzAAAAABsAsEMAAAAwCYQzAAAAABsAsEMAAAAwCYQzAAAAABsAsEMAAAAwCYQzAAAAABsAsEMAAAAwCYQzAAAAABsAsEMAAAAwCYQzAAAAABsAsEMAAAAwCYQzAAAAABsAsEMAAAAwCYQzAAAAABsAsEMAAAAwCYQzAAAAABsAsEMAAAAwCYQzAAAAABsAsEMAAAAwCYQzAAAAABsAsEMAAAAwCYQzAAAAABsAsEMAAAAwCYQzAAAAABsAsEMAAAAwCYQzAAAAABsgej/B0ih0SqJYZ+wAAAAAElFTkSuQmCC)"
      ],
      "metadata": {
        "id": "sgvztXf1N517"
      }
    },
    {
      "cell_type": "code",
      "source": [
        "# if unable to reject, not useful to compute this coefficient"
      ],
      "metadata": {
        "id": "3C_RVsi41Nk9"
      },
      "execution_count": null,
      "outputs": []
    },
    {
      "cell_type": "code",
      "source": [
        "# the crosstable should include both variables\n",
        "# cross table of expected frequencies vs table of observed frequencies\n",
        "# if the variables are independent"
      ],
      "metadata": {
        "id": "VPz6-Eiz0trr"
      },
      "execution_count": null,
      "outputs": []
    },
    {
      "cell_type": "markdown",
      "source": [
        "## 4) Does occupation influence agreement?\n",
        "\n",
        "\n",
        "> Hypothesis 0: The two variables have no relationship.\n",
        "\n",
        "\n",
        "> Hypothesis 1: The two variables have a relationship.\n",
        "\n"
      ],
      "metadata": {
        "id": "IN7coCw93Hre"
      }
    },
    {
      "cell_type": "code",
      "source": [
        "# CHI SQUARE TEST\n",
        "# two qualitative\n",
        "# create contingency table\n",
        "data_crosstab = pd.crosstab(news['Occupation'],\n",
        "                            news['agree'],\n",
        "                           margins=True, margins_name=\"Total\")\n",
        "\n",
        "# significance level\n",
        "alpha = 0.05\n",
        "\n",
        "# Calcualtion of Chisquare\n",
        "chi_square = 0\n",
        "rows = news['Occupation'].unique()\n",
        "columns = news['agree'].unique()\n",
        "for i in columns:\n",
        "    for j in rows:\n",
        "        O = data_crosstab[i][j]\n",
        "        E = data_crosstab[i]['Total'] * data_crosstab['Total'][j] / data_crosstab['Total']['Total']\n",
        "        chi_square += (O-E)**2/E\n",
        "\n",
        "# The p-value approach\n",
        "print(\"Approach 1: The p-value approach to hypothesis testing in the decision rule\")\n",
        "p_value = 1 - stats.chi2.cdf(chi_square, (len(rows)-1)*(len(columns)-1))\n",
        "conclusion = \"Failed to reject the null hypothesis.\"\n",
        "if p_value <= alpha:\n",
        "    conclusion = \"Null Hypothesis is rejected.\"\n",
        "        \n",
        "print(\"chisquare-score is:\", chi_square, \" and p value is:\", p_value)\n",
        "print(conclusion)\n",
        "    \n",
        "# The critical value approach\n",
        "print(\"\\n--------------------------------------------------------------------------------------\")\n",
        "print(\"Approach 2: The critical value approach to hypothesis testing in the decision rule\")\n",
        "critical_value = stats.chi2.ppf(1-alpha, (len(rows)-1)*(len(columns)-1))\n",
        "conclusion = \"Failed to reject the null hypothesis.\"\n",
        "if chi_square > critical_value:\n",
        "    conclusion = \"Null Hypothesis is rejected.\"\n",
        "        \n",
        "print(\"chisquare-score is:\", chi_square, \" and critical value is:\", critical_value)\n",
        "print(conclusion)"
      ],
      "metadata": {
        "colab": {
          "base_uri": "https://localhost:8080/"
        },
        "id": "SdkHCyhDfayV",
        "outputId": "168fd889-04f9-4b5b-f968-c1edb4ac2145"
      },
      "execution_count": null,
      "outputs": [
        {
          "output_type": "stream",
          "name": "stdout",
          "text": [
            "Approach 1: The p-value approach to hypothesis testing in the decision rule\n",
            "chisquare-score is: 75.97458268583266  and p value is: 0.23716738582727404\n",
            "Failed to reject the null hypothesis.\n",
            "\n",
            "--------------------------------------------------------------------------------------\n",
            "Approach 2: The critical value approach to hypothesis testing in the decision rule\n",
            "chisquare-score is: 75.97458268583266  and critical value is: 88.25016442187412\n",
            "Failed to reject the null hypothesis.\n"
          ]
        }
      ]
    },
    {
      "cell_type": "markdown",
      "source": [
        "This test is not significant either. Our p value is too high. We have failed to reject the null hypothesis.  \n",
        "But we can still look at Cramer's coefficient with takes values in the interval (0,1) such that values closer to one indicate strong relationship between the variables [5]."
      ],
      "metadata": {
        "id": "PkssPW3I3Xxx"
      }
    },
    {
      "cell_type": "markdown",
      "source": [
        "## Observed Frequencies"
      ],
      "metadata": {
        "id": "l1jSb1NS_orH"
      }
    },
    {
      "cell_type": "code",
      "source": [
        "data_crosstab"
      ],
      "metadata": {
        "colab": {
          "base_uri": "https://localhost:8080/",
          "height": 677
        },
        "id": "Stt_Y4cX_nNE",
        "outputId": "fa084da7-4764-4b2d-ee15-449336139acd"
      },
      "execution_count": null,
      "outputs": [
        {
          "output_type": "execute_result",
          "data": {
            "text/plain": [
              "agree              0   1   2   3  4  Total\n",
              "Occupation                                \n",
              "Accounting         2   1   2   0  0      5\n",
              "Admin Assistant    0   2   0   1  0      3\n",
              "Cashier            1   0   0   0  0      1\n",
              "Construction       2   1   1   0  0      4\n",
              "Doctor             0   1   1   1  0      3\n",
              "Education          0   1   3   1  0      5\n",
              "Finance            2   1   3   4  0     10\n",
              "Hotel Management   0   0   1   0  0      1\n",
              "Laborer            0   0   2   0  0      2\n",
              "Lawyer             0   0   0   1  0      1\n",
              "Marketing          0   0   2   0  0      2\n",
              "Medical            0   0   0   2  0      2\n",
              "Nurse              1   0   0   1  0      2\n",
              "Real Estate        0   1   0   1  2      4\n",
              "Sales              0   5   3   1  0      9\n",
              "Sales Associate    0   0   0   1  0      1\n",
              "Student            8   5   7   7  3     30\n",
              "Web Developer      0   0   1   1  0      2\n",
              "Total             16  18  26  22  5     87"
            ],
            "text/html": [
              "\n",
              "  <div id=\"df-7048b2e3-e145-4c83-b2d3-553009db7710\">\n",
              "    <div class=\"colab-df-container\">\n",
              "      <div>\n",
              "<style scoped>\n",
              "    .dataframe tbody tr th:only-of-type {\n",
              "        vertical-align: middle;\n",
              "    }\n",
              "\n",
              "    .dataframe tbody tr th {\n",
              "        vertical-align: top;\n",
              "    }\n",
              "\n",
              "    .dataframe thead th {\n",
              "        text-align: right;\n",
              "    }\n",
              "</style>\n",
              "<table border=\"1\" class=\"dataframe\">\n",
              "  <thead>\n",
              "    <tr style=\"text-align: right;\">\n",
              "      <th>agree</th>\n",
              "      <th>0</th>\n",
              "      <th>1</th>\n",
              "      <th>2</th>\n",
              "      <th>3</th>\n",
              "      <th>4</th>\n",
              "      <th>Total</th>\n",
              "    </tr>\n",
              "    <tr>\n",
              "      <th>Occupation</th>\n",
              "      <th></th>\n",
              "      <th></th>\n",
              "      <th></th>\n",
              "      <th></th>\n",
              "      <th></th>\n",
              "      <th></th>\n",
              "    </tr>\n",
              "  </thead>\n",
              "  <tbody>\n",
              "    <tr>\n",
              "      <th>Accounting</th>\n",
              "      <td>2</td>\n",
              "      <td>1</td>\n",
              "      <td>2</td>\n",
              "      <td>0</td>\n",
              "      <td>0</td>\n",
              "      <td>5</td>\n",
              "    </tr>\n",
              "    <tr>\n",
              "      <th>Admin Assistant</th>\n",
              "      <td>0</td>\n",
              "      <td>2</td>\n",
              "      <td>0</td>\n",
              "      <td>1</td>\n",
              "      <td>0</td>\n",
              "      <td>3</td>\n",
              "    </tr>\n",
              "    <tr>\n",
              "      <th>Cashier</th>\n",
              "      <td>1</td>\n",
              "      <td>0</td>\n",
              "      <td>0</td>\n",
              "      <td>0</td>\n",
              "      <td>0</td>\n",
              "      <td>1</td>\n",
              "    </tr>\n",
              "    <tr>\n",
              "      <th>Construction</th>\n",
              "      <td>2</td>\n",
              "      <td>1</td>\n",
              "      <td>1</td>\n",
              "      <td>0</td>\n",
              "      <td>0</td>\n",
              "      <td>4</td>\n",
              "    </tr>\n",
              "    <tr>\n",
              "      <th>Doctor</th>\n",
              "      <td>0</td>\n",
              "      <td>1</td>\n",
              "      <td>1</td>\n",
              "      <td>1</td>\n",
              "      <td>0</td>\n",
              "      <td>3</td>\n",
              "    </tr>\n",
              "    <tr>\n",
              "      <th>Education</th>\n",
              "      <td>0</td>\n",
              "      <td>1</td>\n",
              "      <td>3</td>\n",
              "      <td>1</td>\n",
              "      <td>0</td>\n",
              "      <td>5</td>\n",
              "    </tr>\n",
              "    <tr>\n",
              "      <th>Finance</th>\n",
              "      <td>2</td>\n",
              "      <td>1</td>\n",
              "      <td>3</td>\n",
              "      <td>4</td>\n",
              "      <td>0</td>\n",
              "      <td>10</td>\n",
              "    </tr>\n",
              "    <tr>\n",
              "      <th>Hotel Management</th>\n",
              "      <td>0</td>\n",
              "      <td>0</td>\n",
              "      <td>1</td>\n",
              "      <td>0</td>\n",
              "      <td>0</td>\n",
              "      <td>1</td>\n",
              "    </tr>\n",
              "    <tr>\n",
              "      <th>Laborer</th>\n",
              "      <td>0</td>\n",
              "      <td>0</td>\n",
              "      <td>2</td>\n",
              "      <td>0</td>\n",
              "      <td>0</td>\n",
              "      <td>2</td>\n",
              "    </tr>\n",
              "    <tr>\n",
              "      <th>Lawyer</th>\n",
              "      <td>0</td>\n",
              "      <td>0</td>\n",
              "      <td>0</td>\n",
              "      <td>1</td>\n",
              "      <td>0</td>\n",
              "      <td>1</td>\n",
              "    </tr>\n",
              "    <tr>\n",
              "      <th>Marketing</th>\n",
              "      <td>0</td>\n",
              "      <td>0</td>\n",
              "      <td>2</td>\n",
              "      <td>0</td>\n",
              "      <td>0</td>\n",
              "      <td>2</td>\n",
              "    </tr>\n",
              "    <tr>\n",
              "      <th>Medical</th>\n",
              "      <td>0</td>\n",
              "      <td>0</td>\n",
              "      <td>0</td>\n",
              "      <td>2</td>\n",
              "      <td>0</td>\n",
              "      <td>2</td>\n",
              "    </tr>\n",
              "    <tr>\n",
              "      <th>Nurse</th>\n",
              "      <td>1</td>\n",
              "      <td>0</td>\n",
              "      <td>0</td>\n",
              "      <td>1</td>\n",
              "      <td>0</td>\n",
              "      <td>2</td>\n",
              "    </tr>\n",
              "    <tr>\n",
              "      <th>Real Estate</th>\n",
              "      <td>0</td>\n",
              "      <td>1</td>\n",
              "      <td>0</td>\n",
              "      <td>1</td>\n",
              "      <td>2</td>\n",
              "      <td>4</td>\n",
              "    </tr>\n",
              "    <tr>\n",
              "      <th>Sales</th>\n",
              "      <td>0</td>\n",
              "      <td>5</td>\n",
              "      <td>3</td>\n",
              "      <td>1</td>\n",
              "      <td>0</td>\n",
              "      <td>9</td>\n",
              "    </tr>\n",
              "    <tr>\n",
              "      <th>Sales Associate</th>\n",
              "      <td>0</td>\n",
              "      <td>0</td>\n",
              "      <td>0</td>\n",
              "      <td>1</td>\n",
              "      <td>0</td>\n",
              "      <td>1</td>\n",
              "    </tr>\n",
              "    <tr>\n",
              "      <th>Student</th>\n",
              "      <td>8</td>\n",
              "      <td>5</td>\n",
              "      <td>7</td>\n",
              "      <td>7</td>\n",
              "      <td>3</td>\n",
              "      <td>30</td>\n",
              "    </tr>\n",
              "    <tr>\n",
              "      <th>Web Developer</th>\n",
              "      <td>0</td>\n",
              "      <td>0</td>\n",
              "      <td>1</td>\n",
              "      <td>1</td>\n",
              "      <td>0</td>\n",
              "      <td>2</td>\n",
              "    </tr>\n",
              "    <tr>\n",
              "      <th>Total</th>\n",
              "      <td>16</td>\n",
              "      <td>18</td>\n",
              "      <td>26</td>\n",
              "      <td>22</td>\n",
              "      <td>5</td>\n",
              "      <td>87</td>\n",
              "    </tr>\n",
              "  </tbody>\n",
              "</table>\n",
              "</div>\n",
              "      <button class=\"colab-df-convert\" onclick=\"convertToInteractive('df-7048b2e3-e145-4c83-b2d3-553009db7710')\"\n",
              "              title=\"Convert this dataframe to an interactive table.\"\n",
              "              style=\"display:none;\">\n",
              "        \n",
              "  <svg xmlns=\"http://www.w3.org/2000/svg\" height=\"24px\"viewBox=\"0 0 24 24\"\n",
              "       width=\"24px\">\n",
              "    <path d=\"M0 0h24v24H0V0z\" fill=\"none\"/>\n",
              "    <path d=\"M18.56 5.44l.94 2.06.94-2.06 2.06-.94-2.06-.94-.94-2.06-.94 2.06-2.06.94zm-11 1L8.5 8.5l.94-2.06 2.06-.94-2.06-.94L8.5 2.5l-.94 2.06-2.06.94zm10 10l.94 2.06.94-2.06 2.06-.94-2.06-.94-.94-2.06-.94 2.06-2.06.94z\"/><path d=\"M17.41 7.96l-1.37-1.37c-.4-.4-.92-.59-1.43-.59-.52 0-1.04.2-1.43.59L10.3 9.45l-7.72 7.72c-.78.78-.78 2.05 0 2.83L4 21.41c.39.39.9.59 1.41.59.51 0 1.02-.2 1.41-.59l7.78-7.78 2.81-2.81c.8-.78.8-2.07 0-2.86zM5.41 20L4 18.59l7.72-7.72 1.47 1.35L5.41 20z\"/>\n",
              "  </svg>\n",
              "      </button>\n",
              "      \n",
              "  <style>\n",
              "    .colab-df-container {\n",
              "      display:flex;\n",
              "      flex-wrap:wrap;\n",
              "      gap: 12px;\n",
              "    }\n",
              "\n",
              "    .colab-df-convert {\n",
              "      background-color: #E8F0FE;\n",
              "      border: none;\n",
              "      border-radius: 50%;\n",
              "      cursor: pointer;\n",
              "      display: none;\n",
              "      fill: #1967D2;\n",
              "      height: 32px;\n",
              "      padding: 0 0 0 0;\n",
              "      width: 32px;\n",
              "    }\n",
              "\n",
              "    .colab-df-convert:hover {\n",
              "      background-color: #E2EBFA;\n",
              "      box-shadow: 0px 1px 2px rgba(60, 64, 67, 0.3), 0px 1px 3px 1px rgba(60, 64, 67, 0.15);\n",
              "      fill: #174EA6;\n",
              "    }\n",
              "\n",
              "    [theme=dark] .colab-df-convert {\n",
              "      background-color: #3B4455;\n",
              "      fill: #D2E3FC;\n",
              "    }\n",
              "\n",
              "    [theme=dark] .colab-df-convert:hover {\n",
              "      background-color: #434B5C;\n",
              "      box-shadow: 0px 1px 3px 1px rgba(0, 0, 0, 0.15);\n",
              "      filter: drop-shadow(0px 1px 2px rgba(0, 0, 0, 0.3));\n",
              "      fill: #FFFFFF;\n",
              "    }\n",
              "  </style>\n",
              "\n",
              "      <script>\n",
              "        const buttonEl =\n",
              "          document.querySelector('#df-7048b2e3-e145-4c83-b2d3-553009db7710 button.colab-df-convert');\n",
              "        buttonEl.style.display =\n",
              "          google.colab.kernel.accessAllowed ? 'block' : 'none';\n",
              "\n",
              "        async function convertToInteractive(key) {\n",
              "          const element = document.querySelector('#df-7048b2e3-e145-4c83-b2d3-553009db7710');\n",
              "          const dataTable =\n",
              "            await google.colab.kernel.invokeFunction('convertToInteractive',\n",
              "                                                     [key], {});\n",
              "          if (!dataTable) return;\n",
              "\n",
              "          const docLinkHtml = 'Like what you see? Visit the ' +\n",
              "            '<a target=\"_blank\" href=https://colab.research.google.com/notebooks/data_table.ipynb>data table notebook</a>'\n",
              "            + ' to learn more about interactive tables.';\n",
              "          element.innerHTML = '';\n",
              "          dataTable['output_type'] = 'display_data';\n",
              "          await google.colab.output.renderOutput(dataTable, element);\n",
              "          const docLink = document.createElement('div');\n",
              "          docLink.innerHTML = docLinkHtml;\n",
              "          element.appendChild(docLink);\n",
              "        }\n",
              "      </script>\n",
              "    </div>\n",
              "  </div>\n",
              "  "
            ]
          },
          "metadata": {},
          "execution_count": 93
        }
      ]
    },
    {
      "cell_type": "markdown",
      "source": [
        "## Expected Frequencies"
      ],
      "metadata": {
        "id": "EScMqyKL_0_K"
      }
    },
    {
      "cell_type": "code",
      "source": [
        "# chi square value\n",
        "# p-value\n",
        "# degrees of freedom\n",
        "# expected frequencies as an array\n",
        "results = stats.chi2_contingency(data_crosstab)\n",
        "expected_frequencies = pd.DataFrame(results[3],columns=['0','1','2','3','4','total'],index=data_crosstab.index)\n",
        "expected_frequencies"
      ],
      "metadata": {
        "id": "io6WjoDAC9t2",
        "colab": {
          "base_uri": "https://localhost:8080/",
          "height": 677
        },
        "outputId": "99f23ed1-1771-408f-a989-0ac6087142d0"
      },
      "execution_count": null,
      "outputs": [
        {
          "output_type": "execute_result",
          "data": {
            "text/plain": [
              "                          0          1          2          3         4  total\n",
              "Occupation                                                                   \n",
              "Accounting         0.919540   1.034483   1.494253   1.264368  0.287356    5.0\n",
              "Admin Assistant    0.551724   0.620690   0.896552   0.758621  0.172414    3.0\n",
              "Cashier            0.183908   0.206897   0.298851   0.252874  0.057471    1.0\n",
              "Construction       0.735632   0.827586   1.195402   1.011494  0.229885    4.0\n",
              "Doctor             0.551724   0.620690   0.896552   0.758621  0.172414    3.0\n",
              "Education          0.919540   1.034483   1.494253   1.264368  0.287356    5.0\n",
              "Finance            1.839080   2.068966   2.988506   2.528736  0.574713   10.0\n",
              "Hotel Management   0.183908   0.206897   0.298851   0.252874  0.057471    1.0\n",
              "Laborer            0.367816   0.413793   0.597701   0.505747  0.114943    2.0\n",
              "Lawyer             0.183908   0.206897   0.298851   0.252874  0.057471    1.0\n",
              "Marketing          0.367816   0.413793   0.597701   0.505747  0.114943    2.0\n",
              "Medical            0.367816   0.413793   0.597701   0.505747  0.114943    2.0\n",
              "Nurse              0.367816   0.413793   0.597701   0.505747  0.114943    2.0\n",
              "Real Estate        0.735632   0.827586   1.195402   1.011494  0.229885    4.0\n",
              "Sales              1.655172   1.862069   2.689655   2.275862  0.517241    9.0\n",
              "Sales Associate    0.183908   0.206897   0.298851   0.252874  0.057471    1.0\n",
              "Student            5.517241   6.206897   8.965517   7.586207  1.724138   30.0\n",
              "Web Developer      0.367816   0.413793   0.597701   0.505747  0.114943    2.0\n",
              "Total             16.000000  18.000000  26.000000  22.000000  5.000000   87.0"
            ],
            "text/html": [
              "\n",
              "  <div id=\"df-4f873845-9605-4952-bda5-fed2bfa87a96\">\n",
              "    <div class=\"colab-df-container\">\n",
              "      <div>\n",
              "<style scoped>\n",
              "    .dataframe tbody tr th:only-of-type {\n",
              "        vertical-align: middle;\n",
              "    }\n",
              "\n",
              "    .dataframe tbody tr th {\n",
              "        vertical-align: top;\n",
              "    }\n",
              "\n",
              "    .dataframe thead th {\n",
              "        text-align: right;\n",
              "    }\n",
              "</style>\n",
              "<table border=\"1\" class=\"dataframe\">\n",
              "  <thead>\n",
              "    <tr style=\"text-align: right;\">\n",
              "      <th></th>\n",
              "      <th>0</th>\n",
              "      <th>1</th>\n",
              "      <th>2</th>\n",
              "      <th>3</th>\n",
              "      <th>4</th>\n",
              "      <th>total</th>\n",
              "    </tr>\n",
              "    <tr>\n",
              "      <th>Occupation</th>\n",
              "      <th></th>\n",
              "      <th></th>\n",
              "      <th></th>\n",
              "      <th></th>\n",
              "      <th></th>\n",
              "      <th></th>\n",
              "    </tr>\n",
              "  </thead>\n",
              "  <tbody>\n",
              "    <tr>\n",
              "      <th>Accounting</th>\n",
              "      <td>0.919540</td>\n",
              "      <td>1.034483</td>\n",
              "      <td>1.494253</td>\n",
              "      <td>1.264368</td>\n",
              "      <td>0.287356</td>\n",
              "      <td>5.0</td>\n",
              "    </tr>\n",
              "    <tr>\n",
              "      <th>Admin Assistant</th>\n",
              "      <td>0.551724</td>\n",
              "      <td>0.620690</td>\n",
              "      <td>0.896552</td>\n",
              "      <td>0.758621</td>\n",
              "      <td>0.172414</td>\n",
              "      <td>3.0</td>\n",
              "    </tr>\n",
              "    <tr>\n",
              "      <th>Cashier</th>\n",
              "      <td>0.183908</td>\n",
              "      <td>0.206897</td>\n",
              "      <td>0.298851</td>\n",
              "      <td>0.252874</td>\n",
              "      <td>0.057471</td>\n",
              "      <td>1.0</td>\n",
              "    </tr>\n",
              "    <tr>\n",
              "      <th>Construction</th>\n",
              "      <td>0.735632</td>\n",
              "      <td>0.827586</td>\n",
              "      <td>1.195402</td>\n",
              "      <td>1.011494</td>\n",
              "      <td>0.229885</td>\n",
              "      <td>4.0</td>\n",
              "    </tr>\n",
              "    <tr>\n",
              "      <th>Doctor</th>\n",
              "      <td>0.551724</td>\n",
              "      <td>0.620690</td>\n",
              "      <td>0.896552</td>\n",
              "      <td>0.758621</td>\n",
              "      <td>0.172414</td>\n",
              "      <td>3.0</td>\n",
              "    </tr>\n",
              "    <tr>\n",
              "      <th>Education</th>\n",
              "      <td>0.919540</td>\n",
              "      <td>1.034483</td>\n",
              "      <td>1.494253</td>\n",
              "      <td>1.264368</td>\n",
              "      <td>0.287356</td>\n",
              "      <td>5.0</td>\n",
              "    </tr>\n",
              "    <tr>\n",
              "      <th>Finance</th>\n",
              "      <td>1.839080</td>\n",
              "      <td>2.068966</td>\n",
              "      <td>2.988506</td>\n",
              "      <td>2.528736</td>\n",
              "      <td>0.574713</td>\n",
              "      <td>10.0</td>\n",
              "    </tr>\n",
              "    <tr>\n",
              "      <th>Hotel Management</th>\n",
              "      <td>0.183908</td>\n",
              "      <td>0.206897</td>\n",
              "      <td>0.298851</td>\n",
              "      <td>0.252874</td>\n",
              "      <td>0.057471</td>\n",
              "      <td>1.0</td>\n",
              "    </tr>\n",
              "    <tr>\n",
              "      <th>Laborer</th>\n",
              "      <td>0.367816</td>\n",
              "      <td>0.413793</td>\n",
              "      <td>0.597701</td>\n",
              "      <td>0.505747</td>\n",
              "      <td>0.114943</td>\n",
              "      <td>2.0</td>\n",
              "    </tr>\n",
              "    <tr>\n",
              "      <th>Lawyer</th>\n",
              "      <td>0.183908</td>\n",
              "      <td>0.206897</td>\n",
              "      <td>0.298851</td>\n",
              "      <td>0.252874</td>\n",
              "      <td>0.057471</td>\n",
              "      <td>1.0</td>\n",
              "    </tr>\n",
              "    <tr>\n",
              "      <th>Marketing</th>\n",
              "      <td>0.367816</td>\n",
              "      <td>0.413793</td>\n",
              "      <td>0.597701</td>\n",
              "      <td>0.505747</td>\n",
              "      <td>0.114943</td>\n",
              "      <td>2.0</td>\n",
              "    </tr>\n",
              "    <tr>\n",
              "      <th>Medical</th>\n",
              "      <td>0.367816</td>\n",
              "      <td>0.413793</td>\n",
              "      <td>0.597701</td>\n",
              "      <td>0.505747</td>\n",
              "      <td>0.114943</td>\n",
              "      <td>2.0</td>\n",
              "    </tr>\n",
              "    <tr>\n",
              "      <th>Nurse</th>\n",
              "      <td>0.367816</td>\n",
              "      <td>0.413793</td>\n",
              "      <td>0.597701</td>\n",
              "      <td>0.505747</td>\n",
              "      <td>0.114943</td>\n",
              "      <td>2.0</td>\n",
              "    </tr>\n",
              "    <tr>\n",
              "      <th>Real Estate</th>\n",
              "      <td>0.735632</td>\n",
              "      <td>0.827586</td>\n",
              "      <td>1.195402</td>\n",
              "      <td>1.011494</td>\n",
              "      <td>0.229885</td>\n",
              "      <td>4.0</td>\n",
              "    </tr>\n",
              "    <tr>\n",
              "      <th>Sales</th>\n",
              "      <td>1.655172</td>\n",
              "      <td>1.862069</td>\n",
              "      <td>2.689655</td>\n",
              "      <td>2.275862</td>\n",
              "      <td>0.517241</td>\n",
              "      <td>9.0</td>\n",
              "    </tr>\n",
              "    <tr>\n",
              "      <th>Sales Associate</th>\n",
              "      <td>0.183908</td>\n",
              "      <td>0.206897</td>\n",
              "      <td>0.298851</td>\n",
              "      <td>0.252874</td>\n",
              "      <td>0.057471</td>\n",
              "      <td>1.0</td>\n",
              "    </tr>\n",
              "    <tr>\n",
              "      <th>Student</th>\n",
              "      <td>5.517241</td>\n",
              "      <td>6.206897</td>\n",
              "      <td>8.965517</td>\n",
              "      <td>7.586207</td>\n",
              "      <td>1.724138</td>\n",
              "      <td>30.0</td>\n",
              "    </tr>\n",
              "    <tr>\n",
              "      <th>Web Developer</th>\n",
              "      <td>0.367816</td>\n",
              "      <td>0.413793</td>\n",
              "      <td>0.597701</td>\n",
              "      <td>0.505747</td>\n",
              "      <td>0.114943</td>\n",
              "      <td>2.0</td>\n",
              "    </tr>\n",
              "    <tr>\n",
              "      <th>Total</th>\n",
              "      <td>16.000000</td>\n",
              "      <td>18.000000</td>\n",
              "      <td>26.000000</td>\n",
              "      <td>22.000000</td>\n",
              "      <td>5.000000</td>\n",
              "      <td>87.0</td>\n",
              "    </tr>\n",
              "  </tbody>\n",
              "</table>\n",
              "</div>\n",
              "      <button class=\"colab-df-convert\" onclick=\"convertToInteractive('df-4f873845-9605-4952-bda5-fed2bfa87a96')\"\n",
              "              title=\"Convert this dataframe to an interactive table.\"\n",
              "              style=\"display:none;\">\n",
              "        \n",
              "  <svg xmlns=\"http://www.w3.org/2000/svg\" height=\"24px\"viewBox=\"0 0 24 24\"\n",
              "       width=\"24px\">\n",
              "    <path d=\"M0 0h24v24H0V0z\" fill=\"none\"/>\n",
              "    <path d=\"M18.56 5.44l.94 2.06.94-2.06 2.06-.94-2.06-.94-.94-2.06-.94 2.06-2.06.94zm-11 1L8.5 8.5l.94-2.06 2.06-.94-2.06-.94L8.5 2.5l-.94 2.06-2.06.94zm10 10l.94 2.06.94-2.06 2.06-.94-2.06-.94-.94-2.06-.94 2.06-2.06.94z\"/><path d=\"M17.41 7.96l-1.37-1.37c-.4-.4-.92-.59-1.43-.59-.52 0-1.04.2-1.43.59L10.3 9.45l-7.72 7.72c-.78.78-.78 2.05 0 2.83L4 21.41c.39.39.9.59 1.41.59.51 0 1.02-.2 1.41-.59l7.78-7.78 2.81-2.81c.8-.78.8-2.07 0-2.86zM5.41 20L4 18.59l7.72-7.72 1.47 1.35L5.41 20z\"/>\n",
              "  </svg>\n",
              "      </button>\n",
              "      \n",
              "  <style>\n",
              "    .colab-df-container {\n",
              "      display:flex;\n",
              "      flex-wrap:wrap;\n",
              "      gap: 12px;\n",
              "    }\n",
              "\n",
              "    .colab-df-convert {\n",
              "      background-color: #E8F0FE;\n",
              "      border: none;\n",
              "      border-radius: 50%;\n",
              "      cursor: pointer;\n",
              "      display: none;\n",
              "      fill: #1967D2;\n",
              "      height: 32px;\n",
              "      padding: 0 0 0 0;\n",
              "      width: 32px;\n",
              "    }\n",
              "\n",
              "    .colab-df-convert:hover {\n",
              "      background-color: #E2EBFA;\n",
              "      box-shadow: 0px 1px 2px rgba(60, 64, 67, 0.3), 0px 1px 3px 1px rgba(60, 64, 67, 0.15);\n",
              "      fill: #174EA6;\n",
              "    }\n",
              "\n",
              "    [theme=dark] .colab-df-convert {\n",
              "      background-color: #3B4455;\n",
              "      fill: #D2E3FC;\n",
              "    }\n",
              "\n",
              "    [theme=dark] .colab-df-convert:hover {\n",
              "      background-color: #434B5C;\n",
              "      box-shadow: 0px 1px 3px 1px rgba(0, 0, 0, 0.15);\n",
              "      filter: drop-shadow(0px 1px 2px rgba(0, 0, 0, 0.3));\n",
              "      fill: #FFFFFF;\n",
              "    }\n",
              "  </style>\n",
              "\n",
              "      <script>\n",
              "        const buttonEl =\n",
              "          document.querySelector('#df-4f873845-9605-4952-bda5-fed2bfa87a96 button.colab-df-convert');\n",
              "        buttonEl.style.display =\n",
              "          google.colab.kernel.accessAllowed ? 'block' : 'none';\n",
              "\n",
              "        async function convertToInteractive(key) {\n",
              "          const element = document.querySelector('#df-4f873845-9605-4952-bda5-fed2bfa87a96');\n",
              "          const dataTable =\n",
              "            await google.colab.kernel.invokeFunction('convertToInteractive',\n",
              "                                                     [key], {});\n",
              "          if (!dataTable) return;\n",
              "\n",
              "          const docLinkHtml = 'Like what you see? Visit the ' +\n",
              "            '<a target=\"_blank\" href=https://colab.research.google.com/notebooks/data_table.ipynb>data table notebook</a>'\n",
              "            + ' to learn more about interactive tables.';\n",
              "          element.innerHTML = '';\n",
              "          dataTable['output_type'] = 'display_data';\n",
              "          await google.colab.output.renderOutput(dataTable, element);\n",
              "          const docLink = document.createElement('div');\n",
              "          docLink.innerHTML = docLinkHtml;\n",
              "          element.appendChild(docLink);\n",
              "        }\n",
              "      </script>\n",
              "    </div>\n",
              "  </div>\n",
              "  "
            ]
          },
          "metadata": {},
          "execution_count": 94
        }
      ]
    },
    {
      "cell_type": "markdown",
      "source": [
        "## 5) Does occupation influence agreement with a certain Trusted Source?  \n",
        "\n",
        "> Hypothesis 0: The two variables have no relationship.\n",
        "\n",
        "\n",
        "> Hypothesis 1: The two variables have a relationship."
      ],
      "metadata": {
        "id": "U2b7Mzfi4OYD"
      }
    },
    {
      "cell_type": "code",
      "source": [
        "# CHI SQUARE TEST\n",
        "# two qualitative\n",
        "# create contingency table\n",
        "data_crosstab = pd.crosstab(news['Occupation'],\n",
        "                            news['Trusted Source'],\n",
        "                           margins=True, margins_name=\"Total\")\n",
        "\n",
        "# significance level\n",
        "alpha = 0.05\n",
        "\n",
        "# Calcualtion of Chisquare\n",
        "chi_square = 0\n",
        "rows = news['Occupation'].unique()\n",
        "columns = news['Trusted Source'].unique()\n",
        "for i in columns:\n",
        "    for j in rows:\n",
        "        O = data_crosstab[i][j]\n",
        "        E = data_crosstab[i]['Total'] * data_crosstab['Total'][j] / data_crosstab['Total']['Total']\n",
        "        chi_square += (O-E)**2/E\n",
        "\n",
        "# The p-value approach\n",
        "print(\"Approach 1: The p-value approach to hypothesis testing in the decision rule\")\n",
        "p_value = 1 - stats.chi2.cdf(chi_square, (len(rows)-1)*(len(columns)-1))\n",
        "conclusion = \"Failed to reject the null hypothesis.\"\n",
        "if p_value <= alpha:\n",
        "    conclusion = \"Null Hypothesis is rejected.\"\n",
        "        \n",
        "print(\"chisquare-score is:\", chi_square, \" and p value is:\", p_value)\n",
        "print(conclusion)\n",
        "    \n",
        "# The critical value approach\n",
        "print(\"\\n--------------------------------------------------------------------------------------\")\n",
        "print(\"Approach 2: The critical value approach to hypothesis testing in the decision rule\")\n",
        "critical_value = stats.chi2.ppf(1-alpha, (len(rows)-1)*(len(columns)-1))\n",
        "conclusion = \"Failed to reject the null hypothesis.\"\n",
        "if chi_square > critical_value:\n",
        "    conclusion = \"Null Hypothesis is rejected.\"\n",
        "        \n",
        "print(\"chisquare-score is:\", chi_square, \" and critical value is:\", critical_value)\n",
        "print(conclusion)"
      ],
      "metadata": {
        "colab": {
          "base_uri": "https://localhost:8080/"
        },
        "id": "DYlx5WSr4RH3",
        "outputId": "89651775-bd75-4137-dd15-2618d18174ae"
      },
      "execution_count": null,
      "outputs": [
        {
          "output_type": "stream",
          "name": "stdout",
          "text": [
            "Approach 1: The p-value approach to hypothesis testing in the decision rule\n",
            "chisquare-score is: 85.900992063492  and p value is: 0.45225147085751005\n",
            "Failed to reject the null hypothesis.\n",
            "\n",
            "--------------------------------------------------------------------------------------\n",
            "Approach 2: The critical value approach to hypothesis testing in the decision rule\n",
            "chisquare-score is: 85.900992063492  and critical value is: 107.52174097071946\n",
            "Failed to reject the null hypothesis.\n"
          ]
        }
      ]
    },
    {
      "cell_type": "markdown",
      "source": [
        "The test is not significant. The p value is too large just like the other cases. We can not reject the null hypothesis, which does not imply that it is true either. We also can not say anything about Hypothesis 1."
      ],
      "metadata": {
        "id": "bDphgvZA4c0G"
      }
    },
    {
      "cell_type": "markdown",
      "source": [
        "## Observed Frequencies"
      ],
      "metadata": {
        "id": "a1f7oGvSCmo2"
      }
    },
    {
      "cell_type": "code",
      "source": [
        "data_crosstab"
      ],
      "metadata": {
        "colab": {
          "base_uri": "https://localhost:8080/",
          "height": 677
        },
        "id": "YI8hwesHCpLF",
        "outputId": "156102bf-32cb-4991-c34b-a7f6b90de000"
      },
      "execution_count": null,
      "outputs": [
        {
          "output_type": "execute_result",
          "data": {
            "text/plain": [
              "Trusted Source    CNN  Fox  NY Times  None  Russian Media  \\\n",
              "Occupation                                                  \n",
              "Accounting          0    3         0     2              0   \n",
              "Admin Assistant     1    2         0     0              0   \n",
              "Cashier             0    0         0     1              0   \n",
              "Construction        1    1         0     2              0   \n",
              "Doctor              0    3         0     0              0   \n",
              "Education           0    2         0     1              0   \n",
              "Finance             0    3         1     2              0   \n",
              "Hotel Management    0    1         0     0              0   \n",
              "Laborer             0    2         0     0              0   \n",
              "Lawyer              0    0         1     0              0   \n",
              "Marketing           0    0         1     0              0   \n",
              "Medical             0    0         2     0              0   \n",
              "Nurse               0    0         0     1              0   \n",
              "Real Estate         1    2         1     0              0   \n",
              "Sales               0    6         1     0              0   \n",
              "Sales Associate     0    0         1     0              0   \n",
              "Student             2    4         4     9              1   \n",
              "Web Developer       0    1         0     0              0   \n",
              "Total               5   30        12    18              1   \n",
              "\n",
              "Trusted Source    The Wall Street Journal  Total  \n",
              "Occupation                                        \n",
              "Accounting                              0      5  \n",
              "Admin Assistant                         0      3  \n",
              "Cashier                                 0      1  \n",
              "Construction                            0      4  \n",
              "Doctor                                  0      3  \n",
              "Education                               2      5  \n",
              "Finance                                 4     10  \n",
              "Hotel Management                        0      1  \n",
              "Laborer                                 0      2  \n",
              "Lawyer                                  0      1  \n",
              "Marketing                               1      2  \n",
              "Medical                                 0      2  \n",
              "Nurse                                   1      2  \n",
              "Real Estate                             0      4  \n",
              "Sales                                   2      9  \n",
              "Sales Associate                         0      1  \n",
              "Student                                10     30  \n",
              "Web Developer                           1      2  \n",
              "Total                                  21     87  "
            ],
            "text/html": [
              "\n",
              "  <div id=\"df-713d9cef-2083-4180-a552-20cb4b49276b\">\n",
              "    <div class=\"colab-df-container\">\n",
              "      <div>\n",
              "<style scoped>\n",
              "    .dataframe tbody tr th:only-of-type {\n",
              "        vertical-align: middle;\n",
              "    }\n",
              "\n",
              "    .dataframe tbody tr th {\n",
              "        vertical-align: top;\n",
              "    }\n",
              "\n",
              "    .dataframe thead th {\n",
              "        text-align: right;\n",
              "    }\n",
              "</style>\n",
              "<table border=\"1\" class=\"dataframe\">\n",
              "  <thead>\n",
              "    <tr style=\"text-align: right;\">\n",
              "      <th>Trusted Source</th>\n",
              "      <th>CNN</th>\n",
              "      <th>Fox</th>\n",
              "      <th>NY Times</th>\n",
              "      <th>None</th>\n",
              "      <th>Russian Media</th>\n",
              "      <th>The Wall Street Journal</th>\n",
              "      <th>Total</th>\n",
              "    </tr>\n",
              "    <tr>\n",
              "      <th>Occupation</th>\n",
              "      <th></th>\n",
              "      <th></th>\n",
              "      <th></th>\n",
              "      <th></th>\n",
              "      <th></th>\n",
              "      <th></th>\n",
              "      <th></th>\n",
              "    </tr>\n",
              "  </thead>\n",
              "  <tbody>\n",
              "    <tr>\n",
              "      <th>Accounting</th>\n",
              "      <td>0</td>\n",
              "      <td>3</td>\n",
              "      <td>0</td>\n",
              "      <td>2</td>\n",
              "      <td>0</td>\n",
              "      <td>0</td>\n",
              "      <td>5</td>\n",
              "    </tr>\n",
              "    <tr>\n",
              "      <th>Admin Assistant</th>\n",
              "      <td>1</td>\n",
              "      <td>2</td>\n",
              "      <td>0</td>\n",
              "      <td>0</td>\n",
              "      <td>0</td>\n",
              "      <td>0</td>\n",
              "      <td>3</td>\n",
              "    </tr>\n",
              "    <tr>\n",
              "      <th>Cashier</th>\n",
              "      <td>0</td>\n",
              "      <td>0</td>\n",
              "      <td>0</td>\n",
              "      <td>1</td>\n",
              "      <td>0</td>\n",
              "      <td>0</td>\n",
              "      <td>1</td>\n",
              "    </tr>\n",
              "    <tr>\n",
              "      <th>Construction</th>\n",
              "      <td>1</td>\n",
              "      <td>1</td>\n",
              "      <td>0</td>\n",
              "      <td>2</td>\n",
              "      <td>0</td>\n",
              "      <td>0</td>\n",
              "      <td>4</td>\n",
              "    </tr>\n",
              "    <tr>\n",
              "      <th>Doctor</th>\n",
              "      <td>0</td>\n",
              "      <td>3</td>\n",
              "      <td>0</td>\n",
              "      <td>0</td>\n",
              "      <td>0</td>\n",
              "      <td>0</td>\n",
              "      <td>3</td>\n",
              "    </tr>\n",
              "    <tr>\n",
              "      <th>Education</th>\n",
              "      <td>0</td>\n",
              "      <td>2</td>\n",
              "      <td>0</td>\n",
              "      <td>1</td>\n",
              "      <td>0</td>\n",
              "      <td>2</td>\n",
              "      <td>5</td>\n",
              "    </tr>\n",
              "    <tr>\n",
              "      <th>Finance</th>\n",
              "      <td>0</td>\n",
              "      <td>3</td>\n",
              "      <td>1</td>\n",
              "      <td>2</td>\n",
              "      <td>0</td>\n",
              "      <td>4</td>\n",
              "      <td>10</td>\n",
              "    </tr>\n",
              "    <tr>\n",
              "      <th>Hotel Management</th>\n",
              "      <td>0</td>\n",
              "      <td>1</td>\n",
              "      <td>0</td>\n",
              "      <td>0</td>\n",
              "      <td>0</td>\n",
              "      <td>0</td>\n",
              "      <td>1</td>\n",
              "    </tr>\n",
              "    <tr>\n",
              "      <th>Laborer</th>\n",
              "      <td>0</td>\n",
              "      <td>2</td>\n",
              "      <td>0</td>\n",
              "      <td>0</td>\n",
              "      <td>0</td>\n",
              "      <td>0</td>\n",
              "      <td>2</td>\n",
              "    </tr>\n",
              "    <tr>\n",
              "      <th>Lawyer</th>\n",
              "      <td>0</td>\n",
              "      <td>0</td>\n",
              "      <td>1</td>\n",
              "      <td>0</td>\n",
              "      <td>0</td>\n",
              "      <td>0</td>\n",
              "      <td>1</td>\n",
              "    </tr>\n",
              "    <tr>\n",
              "      <th>Marketing</th>\n",
              "      <td>0</td>\n",
              "      <td>0</td>\n",
              "      <td>1</td>\n",
              "      <td>0</td>\n",
              "      <td>0</td>\n",
              "      <td>1</td>\n",
              "      <td>2</td>\n",
              "    </tr>\n",
              "    <tr>\n",
              "      <th>Medical</th>\n",
              "      <td>0</td>\n",
              "      <td>0</td>\n",
              "      <td>2</td>\n",
              "      <td>0</td>\n",
              "      <td>0</td>\n",
              "      <td>0</td>\n",
              "      <td>2</td>\n",
              "    </tr>\n",
              "    <tr>\n",
              "      <th>Nurse</th>\n",
              "      <td>0</td>\n",
              "      <td>0</td>\n",
              "      <td>0</td>\n",
              "      <td>1</td>\n",
              "      <td>0</td>\n",
              "      <td>1</td>\n",
              "      <td>2</td>\n",
              "    </tr>\n",
              "    <tr>\n",
              "      <th>Real Estate</th>\n",
              "      <td>1</td>\n",
              "      <td>2</td>\n",
              "      <td>1</td>\n",
              "      <td>0</td>\n",
              "      <td>0</td>\n",
              "      <td>0</td>\n",
              "      <td>4</td>\n",
              "    </tr>\n",
              "    <tr>\n",
              "      <th>Sales</th>\n",
              "      <td>0</td>\n",
              "      <td>6</td>\n",
              "      <td>1</td>\n",
              "      <td>0</td>\n",
              "      <td>0</td>\n",
              "      <td>2</td>\n",
              "      <td>9</td>\n",
              "    </tr>\n",
              "    <tr>\n",
              "      <th>Sales Associate</th>\n",
              "      <td>0</td>\n",
              "      <td>0</td>\n",
              "      <td>1</td>\n",
              "      <td>0</td>\n",
              "      <td>0</td>\n",
              "      <td>0</td>\n",
              "      <td>1</td>\n",
              "    </tr>\n",
              "    <tr>\n",
              "      <th>Student</th>\n",
              "      <td>2</td>\n",
              "      <td>4</td>\n",
              "      <td>4</td>\n",
              "      <td>9</td>\n",
              "      <td>1</td>\n",
              "      <td>10</td>\n",
              "      <td>30</td>\n",
              "    </tr>\n",
              "    <tr>\n",
              "      <th>Web Developer</th>\n",
              "      <td>0</td>\n",
              "      <td>1</td>\n",
              "      <td>0</td>\n",
              "      <td>0</td>\n",
              "      <td>0</td>\n",
              "      <td>1</td>\n",
              "      <td>2</td>\n",
              "    </tr>\n",
              "    <tr>\n",
              "      <th>Total</th>\n",
              "      <td>5</td>\n",
              "      <td>30</td>\n",
              "      <td>12</td>\n",
              "      <td>18</td>\n",
              "      <td>1</td>\n",
              "      <td>21</td>\n",
              "      <td>87</td>\n",
              "    </tr>\n",
              "  </tbody>\n",
              "</table>\n",
              "</div>\n",
              "      <button class=\"colab-df-convert\" onclick=\"convertToInteractive('df-713d9cef-2083-4180-a552-20cb4b49276b')\"\n",
              "              title=\"Convert this dataframe to an interactive table.\"\n",
              "              style=\"display:none;\">\n",
              "        \n",
              "  <svg xmlns=\"http://www.w3.org/2000/svg\" height=\"24px\"viewBox=\"0 0 24 24\"\n",
              "       width=\"24px\">\n",
              "    <path d=\"M0 0h24v24H0V0z\" fill=\"none\"/>\n",
              "    <path d=\"M18.56 5.44l.94 2.06.94-2.06 2.06-.94-2.06-.94-.94-2.06-.94 2.06-2.06.94zm-11 1L8.5 8.5l.94-2.06 2.06-.94-2.06-.94L8.5 2.5l-.94 2.06-2.06.94zm10 10l.94 2.06.94-2.06 2.06-.94-2.06-.94-.94-2.06-.94 2.06-2.06.94z\"/><path d=\"M17.41 7.96l-1.37-1.37c-.4-.4-.92-.59-1.43-.59-.52 0-1.04.2-1.43.59L10.3 9.45l-7.72 7.72c-.78.78-.78 2.05 0 2.83L4 21.41c.39.39.9.59 1.41.59.51 0 1.02-.2 1.41-.59l7.78-7.78 2.81-2.81c.8-.78.8-2.07 0-2.86zM5.41 20L4 18.59l7.72-7.72 1.47 1.35L5.41 20z\"/>\n",
              "  </svg>\n",
              "      </button>\n",
              "      \n",
              "  <style>\n",
              "    .colab-df-container {\n",
              "      display:flex;\n",
              "      flex-wrap:wrap;\n",
              "      gap: 12px;\n",
              "    }\n",
              "\n",
              "    .colab-df-convert {\n",
              "      background-color: #E8F0FE;\n",
              "      border: none;\n",
              "      border-radius: 50%;\n",
              "      cursor: pointer;\n",
              "      display: none;\n",
              "      fill: #1967D2;\n",
              "      height: 32px;\n",
              "      padding: 0 0 0 0;\n",
              "      width: 32px;\n",
              "    }\n",
              "\n",
              "    .colab-df-convert:hover {\n",
              "      background-color: #E2EBFA;\n",
              "      box-shadow: 0px 1px 2px rgba(60, 64, 67, 0.3), 0px 1px 3px 1px rgba(60, 64, 67, 0.15);\n",
              "      fill: #174EA6;\n",
              "    }\n",
              "\n",
              "    [theme=dark] .colab-df-convert {\n",
              "      background-color: #3B4455;\n",
              "      fill: #D2E3FC;\n",
              "    }\n",
              "\n",
              "    [theme=dark] .colab-df-convert:hover {\n",
              "      background-color: #434B5C;\n",
              "      box-shadow: 0px 1px 3px 1px rgba(0, 0, 0, 0.15);\n",
              "      filter: drop-shadow(0px 1px 2px rgba(0, 0, 0, 0.3));\n",
              "      fill: #FFFFFF;\n",
              "    }\n",
              "  </style>\n",
              "\n",
              "      <script>\n",
              "        const buttonEl =\n",
              "          document.querySelector('#df-713d9cef-2083-4180-a552-20cb4b49276b button.colab-df-convert');\n",
              "        buttonEl.style.display =\n",
              "          google.colab.kernel.accessAllowed ? 'block' : 'none';\n",
              "\n",
              "        async function convertToInteractive(key) {\n",
              "          const element = document.querySelector('#df-713d9cef-2083-4180-a552-20cb4b49276b');\n",
              "          const dataTable =\n",
              "            await google.colab.kernel.invokeFunction('convertToInteractive',\n",
              "                                                     [key], {});\n",
              "          if (!dataTable) return;\n",
              "\n",
              "          const docLinkHtml = 'Like what you see? Visit the ' +\n",
              "            '<a target=\"_blank\" href=https://colab.research.google.com/notebooks/data_table.ipynb>data table notebook</a>'\n",
              "            + ' to learn more about interactive tables.';\n",
              "          element.innerHTML = '';\n",
              "          dataTable['output_type'] = 'display_data';\n",
              "          await google.colab.output.renderOutput(dataTable, element);\n",
              "          const docLink = document.createElement('div');\n",
              "          docLink.innerHTML = docLinkHtml;\n",
              "          element.appendChild(docLink);\n",
              "        }\n",
              "      </script>\n",
              "    </div>\n",
              "  </div>\n",
              "  "
            ]
          },
          "metadata": {},
          "execution_count": 96
        }
      ]
    },
    {
      "cell_type": "markdown",
      "source": [
        "## Expected Frequencies"
      ],
      "metadata": {
        "id": "haybZq9kCr76"
      }
    },
    {
      "cell_type": "code",
      "source": [
        "# chi square value\n",
        "# p-value\n",
        "# degrees of freedom\n",
        "# expected frequencies as an array\n",
        "results = stats.chi2_contingency(data_crosstab)\n",
        "expected_frequencies = pd.DataFrame(results[3], columns=data_crosstab.columns, index=data_crosstab.index)\n",
        "#,columns=['0','1','2','3','4','total'],index=data_crosstab.index)\n",
        "expected_frequencies"
      ],
      "metadata": {
        "colab": {
          "base_uri": "https://localhost:8080/",
          "height": 677
        },
        "id": "bGilAoboCuzy",
        "outputId": "3e2dd225-4eab-4ff0-a0fe-4fb81bfffbdf"
      },
      "execution_count": null,
      "outputs": [
        {
          "output_type": "execute_result",
          "data": {
            "text/plain": [
              "Trusted Source         CNN        Fox   NY Times       None  Russian Media  \\\n",
              "Occupation                                                                   \n",
              "Accounting        0.287356   1.724138   0.689655   1.034483       0.057471   \n",
              "Admin Assistant   0.172414   1.034483   0.413793   0.620690       0.034483   \n",
              "Cashier           0.057471   0.344828   0.137931   0.206897       0.011494   \n",
              "Construction      0.229885   1.379310   0.551724   0.827586       0.045977   \n",
              "Doctor            0.172414   1.034483   0.413793   0.620690       0.034483   \n",
              "Education         0.287356   1.724138   0.689655   1.034483       0.057471   \n",
              "Finance           0.574713   3.448276   1.379310   2.068966       0.114943   \n",
              "Hotel Management  0.057471   0.344828   0.137931   0.206897       0.011494   \n",
              "Laborer           0.114943   0.689655   0.275862   0.413793       0.022989   \n",
              "Lawyer            0.057471   0.344828   0.137931   0.206897       0.011494   \n",
              "Marketing         0.114943   0.689655   0.275862   0.413793       0.022989   \n",
              "Medical           0.114943   0.689655   0.275862   0.413793       0.022989   \n",
              "Nurse             0.114943   0.689655   0.275862   0.413793       0.022989   \n",
              "Real Estate       0.229885   1.379310   0.551724   0.827586       0.045977   \n",
              "Sales             0.517241   3.103448   1.241379   1.862069       0.103448   \n",
              "Sales Associate   0.057471   0.344828   0.137931   0.206897       0.011494   \n",
              "Student           1.724138  10.344828   4.137931   6.206897       0.344828   \n",
              "Web Developer     0.114943   0.689655   0.275862   0.413793       0.022989   \n",
              "Total             5.000000  30.000000  12.000000  18.000000       1.000000   \n",
              "\n",
              "Trusted Source    The Wall Street Journal  Total  \n",
              "Occupation                                        \n",
              "Accounting                       1.206897    5.0  \n",
              "Admin Assistant                  0.724138    3.0  \n",
              "Cashier                          0.241379    1.0  \n",
              "Construction                     0.965517    4.0  \n",
              "Doctor                           0.724138    3.0  \n",
              "Education                        1.206897    5.0  \n",
              "Finance                          2.413793   10.0  \n",
              "Hotel Management                 0.241379    1.0  \n",
              "Laborer                          0.482759    2.0  \n",
              "Lawyer                           0.241379    1.0  \n",
              "Marketing                        0.482759    2.0  \n",
              "Medical                          0.482759    2.0  \n",
              "Nurse                            0.482759    2.0  \n",
              "Real Estate                      0.965517    4.0  \n",
              "Sales                            2.172414    9.0  \n",
              "Sales Associate                  0.241379    1.0  \n",
              "Student                          7.241379   30.0  \n",
              "Web Developer                    0.482759    2.0  \n",
              "Total                           21.000000   87.0  "
            ],
            "text/html": [
              "\n",
              "  <div id=\"df-a9234f12-4b25-4017-9adf-b745e42fb583\">\n",
              "    <div class=\"colab-df-container\">\n",
              "      <div>\n",
              "<style scoped>\n",
              "    .dataframe tbody tr th:only-of-type {\n",
              "        vertical-align: middle;\n",
              "    }\n",
              "\n",
              "    .dataframe tbody tr th {\n",
              "        vertical-align: top;\n",
              "    }\n",
              "\n",
              "    .dataframe thead th {\n",
              "        text-align: right;\n",
              "    }\n",
              "</style>\n",
              "<table border=\"1\" class=\"dataframe\">\n",
              "  <thead>\n",
              "    <tr style=\"text-align: right;\">\n",
              "      <th>Trusted Source</th>\n",
              "      <th>CNN</th>\n",
              "      <th>Fox</th>\n",
              "      <th>NY Times</th>\n",
              "      <th>None</th>\n",
              "      <th>Russian Media</th>\n",
              "      <th>The Wall Street Journal</th>\n",
              "      <th>Total</th>\n",
              "    </tr>\n",
              "    <tr>\n",
              "      <th>Occupation</th>\n",
              "      <th></th>\n",
              "      <th></th>\n",
              "      <th></th>\n",
              "      <th></th>\n",
              "      <th></th>\n",
              "      <th></th>\n",
              "      <th></th>\n",
              "    </tr>\n",
              "  </thead>\n",
              "  <tbody>\n",
              "    <tr>\n",
              "      <th>Accounting</th>\n",
              "      <td>0.287356</td>\n",
              "      <td>1.724138</td>\n",
              "      <td>0.689655</td>\n",
              "      <td>1.034483</td>\n",
              "      <td>0.057471</td>\n",
              "      <td>1.206897</td>\n",
              "      <td>5.0</td>\n",
              "    </tr>\n",
              "    <tr>\n",
              "      <th>Admin Assistant</th>\n",
              "      <td>0.172414</td>\n",
              "      <td>1.034483</td>\n",
              "      <td>0.413793</td>\n",
              "      <td>0.620690</td>\n",
              "      <td>0.034483</td>\n",
              "      <td>0.724138</td>\n",
              "      <td>3.0</td>\n",
              "    </tr>\n",
              "    <tr>\n",
              "      <th>Cashier</th>\n",
              "      <td>0.057471</td>\n",
              "      <td>0.344828</td>\n",
              "      <td>0.137931</td>\n",
              "      <td>0.206897</td>\n",
              "      <td>0.011494</td>\n",
              "      <td>0.241379</td>\n",
              "      <td>1.0</td>\n",
              "    </tr>\n",
              "    <tr>\n",
              "      <th>Construction</th>\n",
              "      <td>0.229885</td>\n",
              "      <td>1.379310</td>\n",
              "      <td>0.551724</td>\n",
              "      <td>0.827586</td>\n",
              "      <td>0.045977</td>\n",
              "      <td>0.965517</td>\n",
              "      <td>4.0</td>\n",
              "    </tr>\n",
              "    <tr>\n",
              "      <th>Doctor</th>\n",
              "      <td>0.172414</td>\n",
              "      <td>1.034483</td>\n",
              "      <td>0.413793</td>\n",
              "      <td>0.620690</td>\n",
              "      <td>0.034483</td>\n",
              "      <td>0.724138</td>\n",
              "      <td>3.0</td>\n",
              "    </tr>\n",
              "    <tr>\n",
              "      <th>Education</th>\n",
              "      <td>0.287356</td>\n",
              "      <td>1.724138</td>\n",
              "      <td>0.689655</td>\n",
              "      <td>1.034483</td>\n",
              "      <td>0.057471</td>\n",
              "      <td>1.206897</td>\n",
              "      <td>5.0</td>\n",
              "    </tr>\n",
              "    <tr>\n",
              "      <th>Finance</th>\n",
              "      <td>0.574713</td>\n",
              "      <td>3.448276</td>\n",
              "      <td>1.379310</td>\n",
              "      <td>2.068966</td>\n",
              "      <td>0.114943</td>\n",
              "      <td>2.413793</td>\n",
              "      <td>10.0</td>\n",
              "    </tr>\n",
              "    <tr>\n",
              "      <th>Hotel Management</th>\n",
              "      <td>0.057471</td>\n",
              "      <td>0.344828</td>\n",
              "      <td>0.137931</td>\n",
              "      <td>0.206897</td>\n",
              "      <td>0.011494</td>\n",
              "      <td>0.241379</td>\n",
              "      <td>1.0</td>\n",
              "    </tr>\n",
              "    <tr>\n",
              "      <th>Laborer</th>\n",
              "      <td>0.114943</td>\n",
              "      <td>0.689655</td>\n",
              "      <td>0.275862</td>\n",
              "      <td>0.413793</td>\n",
              "      <td>0.022989</td>\n",
              "      <td>0.482759</td>\n",
              "      <td>2.0</td>\n",
              "    </tr>\n",
              "    <tr>\n",
              "      <th>Lawyer</th>\n",
              "      <td>0.057471</td>\n",
              "      <td>0.344828</td>\n",
              "      <td>0.137931</td>\n",
              "      <td>0.206897</td>\n",
              "      <td>0.011494</td>\n",
              "      <td>0.241379</td>\n",
              "      <td>1.0</td>\n",
              "    </tr>\n",
              "    <tr>\n",
              "      <th>Marketing</th>\n",
              "      <td>0.114943</td>\n",
              "      <td>0.689655</td>\n",
              "      <td>0.275862</td>\n",
              "      <td>0.413793</td>\n",
              "      <td>0.022989</td>\n",
              "      <td>0.482759</td>\n",
              "      <td>2.0</td>\n",
              "    </tr>\n",
              "    <tr>\n",
              "      <th>Medical</th>\n",
              "      <td>0.114943</td>\n",
              "      <td>0.689655</td>\n",
              "      <td>0.275862</td>\n",
              "      <td>0.413793</td>\n",
              "      <td>0.022989</td>\n",
              "      <td>0.482759</td>\n",
              "      <td>2.0</td>\n",
              "    </tr>\n",
              "    <tr>\n",
              "      <th>Nurse</th>\n",
              "      <td>0.114943</td>\n",
              "      <td>0.689655</td>\n",
              "      <td>0.275862</td>\n",
              "      <td>0.413793</td>\n",
              "      <td>0.022989</td>\n",
              "      <td>0.482759</td>\n",
              "      <td>2.0</td>\n",
              "    </tr>\n",
              "    <tr>\n",
              "      <th>Real Estate</th>\n",
              "      <td>0.229885</td>\n",
              "      <td>1.379310</td>\n",
              "      <td>0.551724</td>\n",
              "      <td>0.827586</td>\n",
              "      <td>0.045977</td>\n",
              "      <td>0.965517</td>\n",
              "      <td>4.0</td>\n",
              "    </tr>\n",
              "    <tr>\n",
              "      <th>Sales</th>\n",
              "      <td>0.517241</td>\n",
              "      <td>3.103448</td>\n",
              "      <td>1.241379</td>\n",
              "      <td>1.862069</td>\n",
              "      <td>0.103448</td>\n",
              "      <td>2.172414</td>\n",
              "      <td>9.0</td>\n",
              "    </tr>\n",
              "    <tr>\n",
              "      <th>Sales Associate</th>\n",
              "      <td>0.057471</td>\n",
              "      <td>0.344828</td>\n",
              "      <td>0.137931</td>\n",
              "      <td>0.206897</td>\n",
              "      <td>0.011494</td>\n",
              "      <td>0.241379</td>\n",
              "      <td>1.0</td>\n",
              "    </tr>\n",
              "    <tr>\n",
              "      <th>Student</th>\n",
              "      <td>1.724138</td>\n",
              "      <td>10.344828</td>\n",
              "      <td>4.137931</td>\n",
              "      <td>6.206897</td>\n",
              "      <td>0.344828</td>\n",
              "      <td>7.241379</td>\n",
              "      <td>30.0</td>\n",
              "    </tr>\n",
              "    <tr>\n",
              "      <th>Web Developer</th>\n",
              "      <td>0.114943</td>\n",
              "      <td>0.689655</td>\n",
              "      <td>0.275862</td>\n",
              "      <td>0.413793</td>\n",
              "      <td>0.022989</td>\n",
              "      <td>0.482759</td>\n",
              "      <td>2.0</td>\n",
              "    </tr>\n",
              "    <tr>\n",
              "      <th>Total</th>\n",
              "      <td>5.000000</td>\n",
              "      <td>30.000000</td>\n",
              "      <td>12.000000</td>\n",
              "      <td>18.000000</td>\n",
              "      <td>1.000000</td>\n",
              "      <td>21.000000</td>\n",
              "      <td>87.0</td>\n",
              "    </tr>\n",
              "  </tbody>\n",
              "</table>\n",
              "</div>\n",
              "      <button class=\"colab-df-convert\" onclick=\"convertToInteractive('df-a9234f12-4b25-4017-9adf-b745e42fb583')\"\n",
              "              title=\"Convert this dataframe to an interactive table.\"\n",
              "              style=\"display:none;\">\n",
              "        \n",
              "  <svg xmlns=\"http://www.w3.org/2000/svg\" height=\"24px\"viewBox=\"0 0 24 24\"\n",
              "       width=\"24px\">\n",
              "    <path d=\"M0 0h24v24H0V0z\" fill=\"none\"/>\n",
              "    <path d=\"M18.56 5.44l.94 2.06.94-2.06 2.06-.94-2.06-.94-.94-2.06-.94 2.06-2.06.94zm-11 1L8.5 8.5l.94-2.06 2.06-.94-2.06-.94L8.5 2.5l-.94 2.06-2.06.94zm10 10l.94 2.06.94-2.06 2.06-.94-2.06-.94-.94-2.06-.94 2.06-2.06.94z\"/><path d=\"M17.41 7.96l-1.37-1.37c-.4-.4-.92-.59-1.43-.59-.52 0-1.04.2-1.43.59L10.3 9.45l-7.72 7.72c-.78.78-.78 2.05 0 2.83L4 21.41c.39.39.9.59 1.41.59.51 0 1.02-.2 1.41-.59l7.78-7.78 2.81-2.81c.8-.78.8-2.07 0-2.86zM5.41 20L4 18.59l7.72-7.72 1.47 1.35L5.41 20z\"/>\n",
              "  </svg>\n",
              "      </button>\n",
              "      \n",
              "  <style>\n",
              "    .colab-df-container {\n",
              "      display:flex;\n",
              "      flex-wrap:wrap;\n",
              "      gap: 12px;\n",
              "    }\n",
              "\n",
              "    .colab-df-convert {\n",
              "      background-color: #E8F0FE;\n",
              "      border: none;\n",
              "      border-radius: 50%;\n",
              "      cursor: pointer;\n",
              "      display: none;\n",
              "      fill: #1967D2;\n",
              "      height: 32px;\n",
              "      padding: 0 0 0 0;\n",
              "      width: 32px;\n",
              "    }\n",
              "\n",
              "    .colab-df-convert:hover {\n",
              "      background-color: #E2EBFA;\n",
              "      box-shadow: 0px 1px 2px rgba(60, 64, 67, 0.3), 0px 1px 3px 1px rgba(60, 64, 67, 0.15);\n",
              "      fill: #174EA6;\n",
              "    }\n",
              "\n",
              "    [theme=dark] .colab-df-convert {\n",
              "      background-color: #3B4455;\n",
              "      fill: #D2E3FC;\n",
              "    }\n",
              "\n",
              "    [theme=dark] .colab-df-convert:hover {\n",
              "      background-color: #434B5C;\n",
              "      box-shadow: 0px 1px 3px 1px rgba(0, 0, 0, 0.15);\n",
              "      filter: drop-shadow(0px 1px 2px rgba(0, 0, 0, 0.3));\n",
              "      fill: #FFFFFF;\n",
              "    }\n",
              "  </style>\n",
              "\n",
              "      <script>\n",
              "        const buttonEl =\n",
              "          document.querySelector('#df-a9234f12-4b25-4017-9adf-b745e42fb583 button.colab-df-convert');\n",
              "        buttonEl.style.display =\n",
              "          google.colab.kernel.accessAllowed ? 'block' : 'none';\n",
              "\n",
              "        async function convertToInteractive(key) {\n",
              "          const element = document.querySelector('#df-a9234f12-4b25-4017-9adf-b745e42fb583');\n",
              "          const dataTable =\n",
              "            await google.colab.kernel.invokeFunction('convertToInteractive',\n",
              "                                                     [key], {});\n",
              "          if (!dataTable) return;\n",
              "\n",
              "          const docLinkHtml = 'Like what you see? Visit the ' +\n",
              "            '<a target=\"_blank\" href=https://colab.research.google.com/notebooks/data_table.ipynb>data table notebook</a>'\n",
              "            + ' to learn more about interactive tables.';\n",
              "          element.innerHTML = '';\n",
              "          dataTable['output_type'] = 'display_data';\n",
              "          await google.colab.output.renderOutput(dataTable, element);\n",
              "          const docLink = document.createElement('div');\n",
              "          docLink.innerHTML = docLinkHtml;\n",
              "          element.appendChild(docLink);\n",
              "        }\n",
              "      </script>\n",
              "    </div>\n",
              "  </div>\n",
              "  "
            ]
          },
          "metadata": {},
          "execution_count": 106
        }
      ]
    },
    {
      "cell_type": "markdown",
      "source": [
        "This ends our statistical testing for 2 variables.\n",
        "\n"
      ],
      "metadata": {
        "id": "JqyDhKUOA1p8"
      }
    },
    {
      "cell_type": "markdown",
      "source": [
        "## Final Remarks:\n"
      ],
      "metadata": {
        "id": "FRINhfNBc1es"
      }
    },
    {
      "cell_type": "markdown",
      "source": [
        "References:  \n",
        "[1] scribbr.com/statistics/central-limit-theorem/#:~:text=The%20central%20limit%20theorem%20says,the%20mean%20will%20be%20normal  \n",
        "\n",
        "[2] https://www.reneshbedre.com/blog/ttest.html    \n",
        "\n",
        "[3] https://www.pewresearch.org/journalism/2019/12/12/factors-beyond-party-affiliation-also-connect-with-trust-in-the-news-media/  \n",
        "[4] https://towardsdatascience.com/chi-square-test-with-python-d8ba98117626  \n",
        "[5] https://aulaglobal.uc3m.es/pluginfile.php/5788186/mod_resource/content/5/T3Inference.pdf\n",
        "\n",
        "[6] https://www.statology.org/cramers-v-in-python/\n",
        "\n",
        "[7] https://www.pewresearch.org/fact-tank/2021/08/30/partisan-divides-in-media-trust-widen-driven-by-a-decline-among-republicans/  \n",
        "\n",
        "[8] https://www.pewresearch.org/journalism/2019/03/26/americans-give-fairly-high-marks-to-their-local-news-media-especially-when-journalists-are-seen-as-connected-to-the-community/\n",
        "\n",
        "[9]  https://today.yougov.com/topics/politics/articles-reports/2022/04/05/trust-media-2022-where-americans-get-news-poll"
      ],
      "metadata": {
        "id": "2Y9Mw4TCzqEc"
      }
    },
    {
      "cell_type": "code",
      "source": [],
      "metadata": {
        "id": "t_R22B4Vf71E"
      },
      "execution_count": null,
      "outputs": []
    }
  ]
}