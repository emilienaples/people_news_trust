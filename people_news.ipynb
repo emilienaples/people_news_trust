{
  "nbformat": 4,
  "nbformat_minor": 0,
  "metadata": {
    "colab": {
      "provenance": [],
      "collapsed_sections": [],
      "authorship_tag": "ABX9TyNZAaUgIx8qC10tYbZfqWYz",
      "include_colab_link": true
    },
    "kernelspec": {
      "name": "python3",
      "display_name": "Python 3"
    },
    "language_info": {
      "name": "python"
    }
  },
  "cells": [
    {
      "cell_type": "markdown",
      "metadata": {
        "id": "view-in-github",
        "colab_type": "text"
      },
      "source": [
        "<a href=\"https://colab.research.google.com/github/emilienaples/people_news_trust/blob/main/people_news.ipynb\" target=\"_parent\"><img src=\"https://colab.research.google.com/assets/colab-badge.svg\" alt=\"Open In Colab\"/></a>"
      ]
    },
    {
      "cell_type": "markdown",
      "source": [
        "##How many people trust the news? (num_reliable)\n",
        "\n",
        "##How many people agree with the news? (agree)\n"
      ],
      "metadata": {
        "id": "1r_moFo5Tqt_"
      }
    },
    {
      "cell_type": "code",
      "source": [
        "!pip install bioinfokit"
      ],
      "metadata": {
        "colab": {
          "base_uri": "https://localhost:8080/"
        },
        "id": "PQCEfkLzPz5l",
        "outputId": "6a99e7ec-85cd-47c2-a8e8-c1c34b6dbfa1"
      },
      "execution_count": 1,
      "outputs": [
        {
          "output_type": "stream",
          "name": "stdout",
          "text": [
            "Looking in indexes: https://pypi.org/simple, https://us-python.pkg.dev/colab-wheels/public/simple/\n",
            "Collecting bioinfokit\n",
            "  Downloading bioinfokit-2.1.0.tar.gz (86 kB)\n",
            "\u001b[K     |████████████████████████████████| 86 kB 3.4 MB/s \n",
            "\u001b[?25hRequirement already satisfied: pandas in /usr/local/lib/python3.7/dist-packages (from bioinfokit) (1.3.5)\n",
            "Requirement already satisfied: numpy in /usr/local/lib/python3.7/dist-packages (from bioinfokit) (1.21.6)\n",
            "Requirement already satisfied: matplotlib in /usr/local/lib/python3.7/dist-packages (from bioinfokit) (3.2.2)\n",
            "Requirement already satisfied: scipy in /usr/local/lib/python3.7/dist-packages (from bioinfokit) (1.7.3)\n",
            "Requirement already satisfied: scikit-learn in /usr/local/lib/python3.7/dist-packages (from bioinfokit) (1.0.2)\n",
            "Requirement already satisfied: seaborn in /usr/local/lib/python3.7/dist-packages (from bioinfokit) (0.11.2)\n",
            "Requirement already satisfied: matplotlib-venn in /usr/local/lib/python3.7/dist-packages (from bioinfokit) (0.11.7)\n",
            "Requirement already satisfied: tabulate in /usr/local/lib/python3.7/dist-packages (from bioinfokit) (0.8.10)\n",
            "Requirement already satisfied: statsmodels in /usr/local/lib/python3.7/dist-packages (from bioinfokit) (0.12.2)\n",
            "Collecting textwrap3\n",
            "  Downloading textwrap3-0.9.2-py2.py3-none-any.whl (12 kB)\n",
            "Collecting adjustText\n",
            "  Downloading adjustText-0.7.3.tar.gz (7.5 kB)\n",
            "Requirement already satisfied: kiwisolver>=1.0.1 in /usr/local/lib/python3.7/dist-packages (from matplotlib->bioinfokit) (1.4.4)\n",
            "Requirement already satisfied: pyparsing!=2.0.4,!=2.1.2,!=2.1.6,>=2.0.1 in /usr/local/lib/python3.7/dist-packages (from matplotlib->bioinfokit) (3.0.9)\n",
            "Requirement already satisfied: cycler>=0.10 in /usr/local/lib/python3.7/dist-packages (from matplotlib->bioinfokit) (0.11.0)\n",
            "Requirement already satisfied: python-dateutil>=2.1 in /usr/local/lib/python3.7/dist-packages (from matplotlib->bioinfokit) (2.8.2)\n",
            "Requirement already satisfied: typing-extensions in /usr/local/lib/python3.7/dist-packages (from kiwisolver>=1.0.1->matplotlib->bioinfokit) (4.1.1)\n",
            "Requirement already satisfied: six>=1.5 in /usr/local/lib/python3.7/dist-packages (from python-dateutil>=2.1->matplotlib->bioinfokit) (1.15.0)\n",
            "Requirement already satisfied: pytz>=2017.3 in /usr/local/lib/python3.7/dist-packages (from pandas->bioinfokit) (2022.4)\n",
            "Requirement already satisfied: threadpoolctl>=2.0.0 in /usr/local/lib/python3.7/dist-packages (from scikit-learn->bioinfokit) (3.1.0)\n",
            "Requirement already satisfied: joblib>=0.11 in /usr/local/lib/python3.7/dist-packages (from scikit-learn->bioinfokit) (1.2.0)\n",
            "Requirement already satisfied: patsy>=0.5 in /usr/local/lib/python3.7/dist-packages (from statsmodels->bioinfokit) (0.5.3)\n",
            "Building wheels for collected packages: bioinfokit, adjustText\n",
            "  Building wheel for bioinfokit (setup.py) ... \u001b[?25l\u001b[?25hdone\n",
            "  Created wheel for bioinfokit: filename=bioinfokit-2.1.0-py3-none-any.whl size=58665 sha256=af7a0dfc08092d6ae8465fc08d7eca0717be005b1584937dc0507d71fac1f4a6\n",
            "  Stored in directory: /root/.cache/pip/wheels/81/e6/c8/a378f0c300eba657e42ae0df674e32e6d434d96a7eb765b067\n",
            "  Building wheel for adjustText (setup.py) ... \u001b[?25l\u001b[?25hdone\n",
            "  Created wheel for adjustText: filename=adjustText-0.7.3-py3-none-any.whl size=7097 sha256=196e8a7046b433ed2961a178e0e402201e3b0b79b84f4d6fb38550d749e2f0f6\n",
            "  Stored in directory: /root/.cache/pip/wheels/2f/98/32/afbf902d8f040fadfdf0a44357e4ab750afe165d873bf5893d\n",
            "Successfully built bioinfokit adjustText\n",
            "Installing collected packages: textwrap3, adjustText, bioinfokit\n",
            "Successfully installed adjustText-0.7.3 bioinfokit-2.1.0 textwrap3-0.9.2\n"
          ]
        }
      ]
    },
    {
      "cell_type": "code",
      "execution_count": 2,
      "metadata": {
        "id": "UlG1X1HlS9tN"
      },
      "outputs": [],
      "source": [
        "import pandas as pd\n",
        "import numpy as np\n",
        "import matplotlib.pyplot as plt\n",
        "import seaborn as sns\n",
        "import scipy.stats as stats\n",
        "import math\n",
        "from bioinfokit.analys import stat\n",
        "\n",
        "#Makes graph display in notebook\n",
        "%matplotlib inline   \n",
        "\n",
        "#ignore warnings\n",
        "import warnings\n",
        "def ignore_warn(*args, **kwargs):\n",
        "    pass\n",
        "warnings.warn = ignore_warn()"
      ]
    },
    {
      "cell_type": "code",
      "source": [
        "news = pd.read_excel('PeopleNews.xlsx')\n",
        "news.head()"
      ],
      "metadata": {
        "colab": {
          "base_uri": "https://localhost:8080/",
          "height": 206
        },
        "id": "ACAQZzjoTnnY",
        "outputId": "a40c54cc-bfdb-4553-8a7c-117f787cf043"
      },
      "execution_count": 3,
      "outputs": [
        {
          "output_type": "execute_result",
          "data": {
            "text/plain": [
              "   Age Country       Occupation  Annual Income Trusted Source  num_reliable  \\\n",
              "0   20     USA          Student          10000            CNN             2   \n",
              "1   20     USA          Student          15000       NY Times             3   \n",
              "2   21     USA          Student          10000       NY Times             2   \n",
              "3   25     USA       Accounting          60000           None             0   \n",
              "4   35     USA  Admin Assistant          55000            Fox             2   \n",
              "\n",
              "   agree  \n",
              "0      1  \n",
              "1      3  \n",
              "2      3  \n",
              "3      0  \n",
              "4      1  "
            ],
            "text/html": [
              "\n",
              "  <div id=\"df-595bf666-b0c7-4ed4-8a7d-57c458d6ffc4\">\n",
              "    <div class=\"colab-df-container\">\n",
              "      <div>\n",
              "<style scoped>\n",
              "    .dataframe tbody tr th:only-of-type {\n",
              "        vertical-align: middle;\n",
              "    }\n",
              "\n",
              "    .dataframe tbody tr th {\n",
              "        vertical-align: top;\n",
              "    }\n",
              "\n",
              "    .dataframe thead th {\n",
              "        text-align: right;\n",
              "    }\n",
              "</style>\n",
              "<table border=\"1\" class=\"dataframe\">\n",
              "  <thead>\n",
              "    <tr style=\"text-align: right;\">\n",
              "      <th></th>\n",
              "      <th>Age</th>\n",
              "      <th>Country</th>\n",
              "      <th>Occupation</th>\n",
              "      <th>Annual Income</th>\n",
              "      <th>Trusted Source</th>\n",
              "      <th>num_reliable</th>\n",
              "      <th>agree</th>\n",
              "    </tr>\n",
              "  </thead>\n",
              "  <tbody>\n",
              "    <tr>\n",
              "      <th>0</th>\n",
              "      <td>20</td>\n",
              "      <td>USA</td>\n",
              "      <td>Student</td>\n",
              "      <td>10000</td>\n",
              "      <td>CNN</td>\n",
              "      <td>2</td>\n",
              "      <td>1</td>\n",
              "    </tr>\n",
              "    <tr>\n",
              "      <th>1</th>\n",
              "      <td>20</td>\n",
              "      <td>USA</td>\n",
              "      <td>Student</td>\n",
              "      <td>15000</td>\n",
              "      <td>NY Times</td>\n",
              "      <td>3</td>\n",
              "      <td>3</td>\n",
              "    </tr>\n",
              "    <tr>\n",
              "      <th>2</th>\n",
              "      <td>21</td>\n",
              "      <td>USA</td>\n",
              "      <td>Student</td>\n",
              "      <td>10000</td>\n",
              "      <td>NY Times</td>\n",
              "      <td>2</td>\n",
              "      <td>3</td>\n",
              "    </tr>\n",
              "    <tr>\n",
              "      <th>3</th>\n",
              "      <td>25</td>\n",
              "      <td>USA</td>\n",
              "      <td>Accounting</td>\n",
              "      <td>60000</td>\n",
              "      <td>None</td>\n",
              "      <td>0</td>\n",
              "      <td>0</td>\n",
              "    </tr>\n",
              "    <tr>\n",
              "      <th>4</th>\n",
              "      <td>35</td>\n",
              "      <td>USA</td>\n",
              "      <td>Admin Assistant</td>\n",
              "      <td>55000</td>\n",
              "      <td>Fox</td>\n",
              "      <td>2</td>\n",
              "      <td>1</td>\n",
              "    </tr>\n",
              "  </tbody>\n",
              "</table>\n",
              "</div>\n",
              "      <button class=\"colab-df-convert\" onclick=\"convertToInteractive('df-595bf666-b0c7-4ed4-8a7d-57c458d6ffc4')\"\n",
              "              title=\"Convert this dataframe to an interactive table.\"\n",
              "              style=\"display:none;\">\n",
              "        \n",
              "  <svg xmlns=\"http://www.w3.org/2000/svg\" height=\"24px\"viewBox=\"0 0 24 24\"\n",
              "       width=\"24px\">\n",
              "    <path d=\"M0 0h24v24H0V0z\" fill=\"none\"/>\n",
              "    <path d=\"M18.56 5.44l.94 2.06.94-2.06 2.06-.94-2.06-.94-.94-2.06-.94 2.06-2.06.94zm-11 1L8.5 8.5l.94-2.06 2.06-.94-2.06-.94L8.5 2.5l-.94 2.06-2.06.94zm10 10l.94 2.06.94-2.06 2.06-.94-2.06-.94-.94-2.06-.94 2.06-2.06.94z\"/><path d=\"M17.41 7.96l-1.37-1.37c-.4-.4-.92-.59-1.43-.59-.52 0-1.04.2-1.43.59L10.3 9.45l-7.72 7.72c-.78.78-.78 2.05 0 2.83L4 21.41c.39.39.9.59 1.41.59.51 0 1.02-.2 1.41-.59l7.78-7.78 2.81-2.81c.8-.78.8-2.07 0-2.86zM5.41 20L4 18.59l7.72-7.72 1.47 1.35L5.41 20z\"/>\n",
              "  </svg>\n",
              "      </button>\n",
              "      \n",
              "  <style>\n",
              "    .colab-df-container {\n",
              "      display:flex;\n",
              "      flex-wrap:wrap;\n",
              "      gap: 12px;\n",
              "    }\n",
              "\n",
              "    .colab-df-convert {\n",
              "      background-color: #E8F0FE;\n",
              "      border: none;\n",
              "      border-radius: 50%;\n",
              "      cursor: pointer;\n",
              "      display: none;\n",
              "      fill: #1967D2;\n",
              "      height: 32px;\n",
              "      padding: 0 0 0 0;\n",
              "      width: 32px;\n",
              "    }\n",
              "\n",
              "    .colab-df-convert:hover {\n",
              "      background-color: #E2EBFA;\n",
              "      box-shadow: 0px 1px 2px rgba(60, 64, 67, 0.3), 0px 1px 3px 1px rgba(60, 64, 67, 0.15);\n",
              "      fill: #174EA6;\n",
              "    }\n",
              "\n",
              "    [theme=dark] .colab-df-convert {\n",
              "      background-color: #3B4455;\n",
              "      fill: #D2E3FC;\n",
              "    }\n",
              "\n",
              "    [theme=dark] .colab-df-convert:hover {\n",
              "      background-color: #434B5C;\n",
              "      box-shadow: 0px 1px 3px 1px rgba(0, 0, 0, 0.15);\n",
              "      filter: drop-shadow(0px 1px 2px rgba(0, 0, 0, 0.3));\n",
              "      fill: #FFFFFF;\n",
              "    }\n",
              "  </style>\n",
              "\n",
              "      <script>\n",
              "        const buttonEl =\n",
              "          document.querySelector('#df-595bf666-b0c7-4ed4-8a7d-57c458d6ffc4 button.colab-df-convert');\n",
              "        buttonEl.style.display =\n",
              "          google.colab.kernel.accessAllowed ? 'block' : 'none';\n",
              "\n",
              "        async function convertToInteractive(key) {\n",
              "          const element = document.querySelector('#df-595bf666-b0c7-4ed4-8a7d-57c458d6ffc4');\n",
              "          const dataTable =\n",
              "            await google.colab.kernel.invokeFunction('convertToInteractive',\n",
              "                                                     [key], {});\n",
              "          if (!dataTable) return;\n",
              "\n",
              "          const docLinkHtml = 'Like what you see? Visit the ' +\n",
              "            '<a target=\"_blank\" href=https://colab.research.google.com/notebooks/data_table.ipynb>data table notebook</a>'\n",
              "            + ' to learn more about interactive tables.';\n",
              "          element.innerHTML = '';\n",
              "          dataTable['output_type'] = 'display_data';\n",
              "          await google.colab.output.renderOutput(dataTable, element);\n",
              "          const docLink = document.createElement('div');\n",
              "          docLink.innerHTML = docLinkHtml;\n",
              "          element.appendChild(docLink);\n",
              "        }\n",
              "      </script>\n",
              "    </div>\n",
              "  </div>\n",
              "  "
            ]
          },
          "metadata": {},
          "execution_count": 3
        }
      ]
    },
    {
      "cell_type": "code",
      "source": [
        "news.shape"
      ],
      "metadata": {
        "colab": {
          "base_uri": "https://localhost:8080/"
        },
        "id": "CidVWqaUTnzY",
        "outputId": "9115ca7f-c94a-4373-b16e-5284b2770d2d"
      },
      "execution_count": 4,
      "outputs": [
        {
          "output_type": "execute_result",
          "data": {
            "text/plain": [
              "(87, 7)"
            ]
          },
          "metadata": {},
          "execution_count": 4
        }
      ]
    },
    {
      "cell_type": "code",
      "source": [
        "news.describe().round(3)"
      ],
      "metadata": {
        "colab": {
          "base_uri": "https://localhost:8080/",
          "height": 300
        },
        "id": "Y_X5EmBfTPUY",
        "outputId": "07407ca0-5547-43d4-e9ed-6d227dbf6c13"
      },
      "execution_count": 5,
      "outputs": [
        {
          "output_type": "execute_result",
          "data": {
            "text/plain": [
              "          Age  Annual Income  num_reliable   agree\n",
              "count  87.000         87.000        87.000  87.000\n",
              "mean   31.241      44965.517         1.851   1.793\n",
              "std    15.732      31099.782         1.244   1.183\n",
              "min    20.000       4000.000         0.000   0.000\n",
              "25%    21.000      10000.000         1.000   1.000\n",
              "50%    25.000      50000.000         2.000   2.000\n",
              "75%    33.000      60000.000         3.000   3.000\n",
              "max    79.000     129000.000         4.000   4.000"
            ],
            "text/html": [
              "\n",
              "  <div id=\"df-f4e00ae0-bc70-4e16-88e9-5e501a51d1e8\">\n",
              "    <div class=\"colab-df-container\">\n",
              "      <div>\n",
              "<style scoped>\n",
              "    .dataframe tbody tr th:only-of-type {\n",
              "        vertical-align: middle;\n",
              "    }\n",
              "\n",
              "    .dataframe tbody tr th {\n",
              "        vertical-align: top;\n",
              "    }\n",
              "\n",
              "    .dataframe thead th {\n",
              "        text-align: right;\n",
              "    }\n",
              "</style>\n",
              "<table border=\"1\" class=\"dataframe\">\n",
              "  <thead>\n",
              "    <tr style=\"text-align: right;\">\n",
              "      <th></th>\n",
              "      <th>Age</th>\n",
              "      <th>Annual Income</th>\n",
              "      <th>num_reliable</th>\n",
              "      <th>agree</th>\n",
              "    </tr>\n",
              "  </thead>\n",
              "  <tbody>\n",
              "    <tr>\n",
              "      <th>count</th>\n",
              "      <td>87.000</td>\n",
              "      <td>87.000</td>\n",
              "      <td>87.000</td>\n",
              "      <td>87.000</td>\n",
              "    </tr>\n",
              "    <tr>\n",
              "      <th>mean</th>\n",
              "      <td>31.241</td>\n",
              "      <td>44965.517</td>\n",
              "      <td>1.851</td>\n",
              "      <td>1.793</td>\n",
              "    </tr>\n",
              "    <tr>\n",
              "      <th>std</th>\n",
              "      <td>15.732</td>\n",
              "      <td>31099.782</td>\n",
              "      <td>1.244</td>\n",
              "      <td>1.183</td>\n",
              "    </tr>\n",
              "    <tr>\n",
              "      <th>min</th>\n",
              "      <td>20.000</td>\n",
              "      <td>4000.000</td>\n",
              "      <td>0.000</td>\n",
              "      <td>0.000</td>\n",
              "    </tr>\n",
              "    <tr>\n",
              "      <th>25%</th>\n",
              "      <td>21.000</td>\n",
              "      <td>10000.000</td>\n",
              "      <td>1.000</td>\n",
              "      <td>1.000</td>\n",
              "    </tr>\n",
              "    <tr>\n",
              "      <th>50%</th>\n",
              "      <td>25.000</td>\n",
              "      <td>50000.000</td>\n",
              "      <td>2.000</td>\n",
              "      <td>2.000</td>\n",
              "    </tr>\n",
              "    <tr>\n",
              "      <th>75%</th>\n",
              "      <td>33.000</td>\n",
              "      <td>60000.000</td>\n",
              "      <td>3.000</td>\n",
              "      <td>3.000</td>\n",
              "    </tr>\n",
              "    <tr>\n",
              "      <th>max</th>\n",
              "      <td>79.000</td>\n",
              "      <td>129000.000</td>\n",
              "      <td>4.000</td>\n",
              "      <td>4.000</td>\n",
              "    </tr>\n",
              "  </tbody>\n",
              "</table>\n",
              "</div>\n",
              "      <button class=\"colab-df-convert\" onclick=\"convertToInteractive('df-f4e00ae0-bc70-4e16-88e9-5e501a51d1e8')\"\n",
              "              title=\"Convert this dataframe to an interactive table.\"\n",
              "              style=\"display:none;\">\n",
              "        \n",
              "  <svg xmlns=\"http://www.w3.org/2000/svg\" height=\"24px\"viewBox=\"0 0 24 24\"\n",
              "       width=\"24px\">\n",
              "    <path d=\"M0 0h24v24H0V0z\" fill=\"none\"/>\n",
              "    <path d=\"M18.56 5.44l.94 2.06.94-2.06 2.06-.94-2.06-.94-.94-2.06-.94 2.06-2.06.94zm-11 1L8.5 8.5l.94-2.06 2.06-.94-2.06-.94L8.5 2.5l-.94 2.06-2.06.94zm10 10l.94 2.06.94-2.06 2.06-.94-2.06-.94-.94-2.06-.94 2.06-2.06.94z\"/><path d=\"M17.41 7.96l-1.37-1.37c-.4-.4-.92-.59-1.43-.59-.52 0-1.04.2-1.43.59L10.3 9.45l-7.72 7.72c-.78.78-.78 2.05 0 2.83L4 21.41c.39.39.9.59 1.41.59.51 0 1.02-.2 1.41-.59l7.78-7.78 2.81-2.81c.8-.78.8-2.07 0-2.86zM5.41 20L4 18.59l7.72-7.72 1.47 1.35L5.41 20z\"/>\n",
              "  </svg>\n",
              "      </button>\n",
              "      \n",
              "  <style>\n",
              "    .colab-df-container {\n",
              "      display:flex;\n",
              "      flex-wrap:wrap;\n",
              "      gap: 12px;\n",
              "    }\n",
              "\n",
              "    .colab-df-convert {\n",
              "      background-color: #E8F0FE;\n",
              "      border: none;\n",
              "      border-radius: 50%;\n",
              "      cursor: pointer;\n",
              "      display: none;\n",
              "      fill: #1967D2;\n",
              "      height: 32px;\n",
              "      padding: 0 0 0 0;\n",
              "      width: 32px;\n",
              "    }\n",
              "\n",
              "    .colab-df-convert:hover {\n",
              "      background-color: #E2EBFA;\n",
              "      box-shadow: 0px 1px 2px rgba(60, 64, 67, 0.3), 0px 1px 3px 1px rgba(60, 64, 67, 0.15);\n",
              "      fill: #174EA6;\n",
              "    }\n",
              "\n",
              "    [theme=dark] .colab-df-convert {\n",
              "      background-color: #3B4455;\n",
              "      fill: #D2E3FC;\n",
              "    }\n",
              "\n",
              "    [theme=dark] .colab-df-convert:hover {\n",
              "      background-color: #434B5C;\n",
              "      box-shadow: 0px 1px 3px 1px rgba(0, 0, 0, 0.15);\n",
              "      filter: drop-shadow(0px 1px 2px rgba(0, 0, 0, 0.3));\n",
              "      fill: #FFFFFF;\n",
              "    }\n",
              "  </style>\n",
              "\n",
              "      <script>\n",
              "        const buttonEl =\n",
              "          document.querySelector('#df-f4e00ae0-bc70-4e16-88e9-5e501a51d1e8 button.colab-df-convert');\n",
              "        buttonEl.style.display =\n",
              "          google.colab.kernel.accessAllowed ? 'block' : 'none';\n",
              "\n",
              "        async function convertToInteractive(key) {\n",
              "          const element = document.querySelector('#df-f4e00ae0-bc70-4e16-88e9-5e501a51d1e8');\n",
              "          const dataTable =\n",
              "            await google.colab.kernel.invokeFunction('convertToInteractive',\n",
              "                                                     [key], {});\n",
              "          if (!dataTable) return;\n",
              "\n",
              "          const docLinkHtml = 'Like what you see? Visit the ' +\n",
              "            '<a target=\"_blank\" href=https://colab.research.google.com/notebooks/data_table.ipynb>data table notebook</a>'\n",
              "            + ' to learn more about interactive tables.';\n",
              "          element.innerHTML = '';\n",
              "          dataTable['output_type'] = 'display_data';\n",
              "          await google.colab.output.renderOutput(dataTable, element);\n",
              "          const docLink = document.createElement('div');\n",
              "          docLink.innerHTML = docLinkHtml;\n",
              "          element.appendChild(docLink);\n",
              "        }\n",
              "      </script>\n",
              "    </div>\n",
              "  </div>\n",
              "  "
            ]
          },
          "metadata": {},
          "execution_count": 5
        }
      ]
    },
    {
      "cell_type": "code",
      "source": [
        "news.dtypes"
      ],
      "metadata": {
        "colab": {
          "base_uri": "https://localhost:8080/"
        },
        "id": "9CQRR2bbbbMg",
        "outputId": "f0cbb9f8-c0cc-40e3-dc30-aeed3849bbaf"
      },
      "execution_count": 6,
      "outputs": [
        {
          "output_type": "execute_result",
          "data": {
            "text/plain": [
              "Age                int64\n",
              "Country           object\n",
              "Occupation        object\n",
              "Annual Income      int64\n",
              "Trusted Source    object\n",
              "num_reliable       int64\n",
              "agree              int64\n",
              "dtype: object"
            ]
          },
          "metadata": {},
          "execution_count": 6
        }
      ]
    },
    {
      "cell_type": "code",
      "source": [
        "# age = continous both nominal & ordinal\n",
        "# country = discrete nominal\n",
        "# Occupation = discrete\n",
        "# Trusted Source = discrete\n",
        "# Annual Income = continous\n",
        "# num_reliable = discrete\n",
        "# agree = discrete"
      ],
      "metadata": {
        "id": "5DujJVEtMPd_"
      },
      "execution_count": 7,
      "outputs": []
    },
    {
      "cell_type": "code",
      "source": [
        "cat_cols = ['Occupation', 'Trusted Source',  'num_reliable', 'agree']\n",
        "num_cols = ['Age', 'Annual Income']"
      ],
      "metadata": {
        "id": "GBwI-5wCbs_w"
      },
      "execution_count": 8,
      "outputs": []
    },
    {
      "cell_type": "markdown",
      "source": [
        "Discrete variables should be shown in barplots rather than histograms, scatterplots are only reasonable betwen pair of continuous variables rather than discrete, boxplots should be used to compare a conntinuous variable vs discretre or categorical.\n",
        "\n"
      ],
      "metadata": {
        "id": "O1dPgG5Ix1rt"
      }
    },
    {
      "cell_type": "markdown",
      "source": [
        "## Data Visualization"
      ],
      "metadata": {
        "id": "4WUgSwjBQLLl"
      }
    },
    {
      "cell_type": "markdown",
      "source": [
        "BAR PLOT FOR CATEGORICAL COLUMNS"
      ],
      "metadata": {
        "id": "v-RXkVoaAuN5"
      }
    },
    {
      "cell_type": "code",
      "source": [
        "for col in cat_cols:\n",
        "    fig = plt.figure(figsize=(6,4)) # define plot area\n",
        "    ax = fig.gca() # define axis  \n",
        "    \n",
        "    counts = news[col].value_counts() # find the counts for each unique category\n",
        "    counts.plot.bar(ax = ax) # Use the plot.bar method on the counts data frame\n",
        "    ax.set_title('Bar plot for ' + col)\n",
        "    plt.xticks(rotation=45)"
      ],
      "metadata": {
        "colab": {
          "base_uri": "https://localhost:8080/",
          "height": 1000
        },
        "id": "nAx37yFrcEOp",
        "outputId": "708199a2-a18f-4565-aa6b-0ebd721b3a91"
      },
      "execution_count": 9,
      "outputs": [
        {
          "output_type": "display_data",
          "data": {
            "text/plain": [
              "<Figure size 432x288 with 1 Axes>"
            ],
            "image/png": "[encoded data removed]"
          },
          "metadata": {
            "needs_background": "light"
          }
        },
        {
          "output_type": "display_data",
          "data": {
            "text/plain": [
              "<Figure size 432x288 with 1 Axes>"
            ],
            "image/png": "[encoded data removed]"
          },
          "metadata": {
            "needs_background": "light"
          }
        },
        {
          "output_type": "display_data",
          "data": {
            "text/plain": [
              "<Figure size 432x288 with 1 Axes>"
            ],
            "image/png": "[encoded data removed]"
          },
          "metadata": {
            "needs_background": "light"
          }
        },
        {
          "output_type": "display_data",
          "data": {
            "text/plain": [
              "<Figure size 432x288 with 1 Axes>"
            ],
            "image/png": "[encoded data removed]"
          },
          "metadata": {
            "needs_background": "light"
          }
        }
      ]
    },
    {
      "cell_type": "markdown",
      "source": [
        "#Scatter Plot for Numerical Features"
      ],
      "metadata": {
        "id": "USTL99jRdtnF"
      }
    },
    {
      "cell_type": "markdown",
      "source": [
        "(Annual Income and Age)"
      ],
      "metadata": {
        "id": "7ZHMpqKK5vdj"
      }
    },
    {
      "cell_type": "code",
      "source": [
        "fig = plt.figure(figsize=(4,4)) # define plot area\n",
        "ax = fig.gca() # define axis  \n",
        "news.plot.scatter(x = 'Annual Income', y = 'Age', ax = ax)\n",
        "\n",
        "fig = plt.figure(figsize=(4,4)) # define plot area\n",
        "ax = fig.gca() # define axis  \n",
        "news.plot.scatter(x = 'Age', y = 'Annual Income', ax = ax)"
      ],
      "metadata": {
        "colab": {
          "base_uri": "https://localhost:8080/",
          "height": 558
        },
        "id": "4q0zAFUZ7XUR",
        "outputId": "8d5781ed-c3f5-4289-b5dc-7a8f4a3934f3"
      },
      "execution_count": 10,
      "outputs": [
        {
          "output_type": "execute_result",
          "data": {
            "text/plain": [
              "<matplotlib.axes._subplots.AxesSubplot at 0x7fa606e2ea10>"
            ]
          },
          "metadata": {},
          "execution_count": 10
        },
        {
          "output_type": "display_data",
          "data": {
            "text/plain": [
              "<Figure size 288x288 with 1 Axes>"
            ],
            "image/png": "[encoded data removed]"
          },
          "metadata": {
            "needs_background": "light"
          }
        },
        {
          "output_type": "display_data",
          "data": {
            "text/plain": [
              "<Figure size 288x288 with 1 Axes>"
            ],
            "image/png": "[encoded data removed]"
          },
          "metadata": {
            "needs_background": "light"
          }
        }
      ]
    },
    {
      "cell_type": "markdown",
      "source": [
        "**obtain the histogram whose area = 1  \n",
        "hist(Grade, freq = F) in R**"
      ],
      "metadata": {
        "id": "R_88HD5cy-BC"
      }
    },
    {
      "cell_type": "markdown",
      "source": [
        "**what is the ecdf??**"
      ],
      "metadata": {
        "id": "_kbJZi7tzNXI"
      }
    },
    {
      "cell_type": "markdown",
      "source": [
        "## BOX PLOTS OF CATEGORICAL COLUMNS AGAINST CONTINOUS VARIABLE AGE:"
      ],
      "metadata": {
        "id": "2Vs3ndLheAtR"
      }
    },
    {
      "cell_type": "code",
      "source": [
        "for col in cat_cols:\n",
        "  sns.boxplot(x=news[col], y='Age', data=news)\n",
        "  plt.xlabel(col) # Set text for the x axis\n",
        "  plt.xticks(rotation=45)\n",
        "  plt.ylabel('Age')# Set text for y axis\n",
        "  plt.show()"
      ],
      "metadata": {
        "colab": {
          "base_uri": "https://localhost:8080/",
          "height": 1000
        },
        "id": "P3qIMG338C4x",
        "outputId": "901274db-2680-4b0a-cdde-5fb09017b6f6"
      },
      "execution_count": 11,
      "outputs": [
        {
          "output_type": "display_data",
          "data": {
            "text/plain": [
              "<Figure size 432x288 with 1 Axes>"
            ],
            "image/png": "[encoded data removed]"
          },
          "metadata": {
            "needs_background": "light"
          }
        },
        {
          "output_type": "display_data",
          "data": {
            "text/plain": [
              "<Figure size 432x288 with 1 Axes>"
            ],
            "image/png": "[encoded data removed]"
          },
          "metadata": {
            "needs_background": "light"
          }
        },
        {
          "output_type": "display_data",
          "data": {
            "text/plain": [
              "<Figure size 432x288 with 1 Axes>"
            ],
            "image/png": "[encoded data removed]"
          },
          "metadata": {
            "needs_background": "light"
          }
        },
        {
          "output_type": "display_data",
          "data": {
            "text/plain": [
              "<Figure size 432x288 with 1 Axes>"
            ],
            "image/png": "[encoded data removed]"
          },
          "metadata": {
            "needs_background": "light"
          }
        }
      ]
    },
    {
      "cell_type": "markdown",
      "source": [
        "## BOX PLOTS OF CATEGORICAL COLUMNS AGAINST CONTINOUS VARIABLE ANNUAL INCOME:"
      ],
      "metadata": {
        "id": "BEjtFUUZ8thx"
      }
    },
    {
      "cell_type": "code",
      "source": [
        "for col in cat_cols:\n",
        "  sns.boxplot(x=news[col], y='Annual Income', data=news)\n",
        "  plt.xlabel(col) # Set text for the x axis\n",
        "  plt.xticks(rotation=45)\n",
        "  plt.ylabel('Annual Income')# Set text for y axis\n",
        "  plt.show()"
      ],
      "metadata": {
        "colab": {
          "base_uri": "https://localhost:8080/",
          "height": 1000
        },
        "id": "wpbrFaKJd43L",
        "outputId": "87e96059-a8aa-4e64-fa27-82bb7a8caa9d"
      },
      "execution_count": 12,
      "outputs": [
        {
          "output_type": "display_data",
          "data": {
            "text/plain": [
              "<Figure size 432x288 with 1 Axes>"
            ],
            "image/png": "[encoded data removed]"
          },
          "metadata": {
            "needs_background": "light"
          }
        },
        {
          "output_type": "display_data",
          "data": {
            "text/plain": [
              "<Figure size 432x288 with 1 Axes>"
            ],
            "image/png": "[encoded data removed]"
          },
          "metadata": {
            "needs_background": "light"
          }
        },
        {
          "output_type": "display_data",
          "data": {
            "text/plain": [
              "<Figure size 432x288 with 1 Axes>"
            ],
            "image/png": "[encoded data removed]"
          },
          "metadata": {
            "needs_background": "light"
          }
        },
        {
          "output_type": "display_data",
          "data": {
            "text/plain": [
              "<Figure size 432x288 with 1 Axes>"
            ],
            "image/png": "[encoded data removed]"
          },
          "metadata": {
            "needs_background": "light"
          }
        }
      ]
    },
    {
      "cell_type": "markdown",
      "source": [
        "## Transforming Skewed Features"
      ],
      "metadata": {
        "id": "pl8ZDTLUD1-s"
      }
    },
    {
      "cell_type": "markdown",
      "source": [
        "## Skewness for numerical features:"
      ],
      "metadata": {
        "id": "Hl261_87QuJK"
      }
    },
    {
      "cell_type": "code",
      "source": [
        "num_feats = news.dtypes[news.dtypes != 'object'].index\n",
        "skew_feats=news[num_feats].skew().sort_values(ascending=False)\n",
        "skewness=pd.DataFrame({'Skew': skew_feats})\n",
        "\n",
        "skewness"
      ],
      "metadata": {
        "colab": {
          "base_uri": "https://localhost:8080/",
          "height": 175
        },
        "id": "J6RwLl80XDWc",
        "outputId": "c6b63b0e-43c9-4d46-fe08-03b5d834be75"
      },
      "execution_count": 13,
      "outputs": [
        {
          "output_type": "execute_result",
          "data": {
            "text/plain": [
              "                   Skew\n",
              "Age            1.847848\n",
              "Annual Income  0.545060\n",
              "num_reliable  -0.043681\n",
              "agree         -0.061708"
            ],
            "text/html": [
              "\n",
              "  <div id=\"df-24356e52-7f9b-4c7c-9b18-6f8a33f9560a\">\n",
              "    <div class=\"colab-df-container\">\n",
              "      <div>\n",
              "<style scoped>\n",
              "    .dataframe tbody tr th:only-of-type {\n",
              "        vertical-align: middle;\n",
              "    }\n",
              "\n",
              "    .dataframe tbody tr th {\n",
              "        vertical-align: top;\n",
              "    }\n",
              "\n",
              "    .dataframe thead th {\n",
              "        text-align: right;\n",
              "    }\n",
              "</style>\n",
              "<table border=\"1\" class=\"dataframe\">\n",
              "  <thead>\n",
              "    <tr style=\"text-align: right;\">\n",
              "      <th></th>\n",
              "      <th>Skew</th>\n",
              "    </tr>\n",
              "  </thead>\n",
              "  <tbody>\n",
              "    <tr>\n",
              "      <th>Age</th>\n",
              "      <td>1.847848</td>\n",
              "    </tr>\n",
              "    <tr>\n",
              "      <th>Annual Income</th>\n",
              "      <td>0.545060</td>\n",
              "    </tr>\n",
              "    <tr>\n",
              "      <th>num_reliable</th>\n",
              "      <td>-0.043681</td>\n",
              "    </tr>\n",
              "    <tr>\n",
              "      <th>agree</th>\n",
              "      <td>-0.061708</td>\n",
              "    </tr>\n",
              "  </tbody>\n",
              "</table>\n",
              "</div>\n",
              "      <button class=\"colab-df-convert\" onclick=\"convertToInteractive('df-24356e52-7f9b-4c7c-9b18-6f8a33f9560a')\"\n",
              "              title=\"Convert this dataframe to an interactive table.\"\n",
              "              style=\"display:none;\">\n",
              "        \n",
              "  <svg xmlns=\"http://www.w3.org/2000/svg\" height=\"24px\"viewBox=\"0 0 24 24\"\n",
              "       width=\"24px\">\n",
              "    <path d=\"M0 0h24v24H0V0z\" fill=\"none\"/>\n",
              "    <path d=\"M18.56 5.44l.94 2.06.94-2.06 2.06-.94-2.06-.94-.94-2.06-.94 2.06-2.06.94zm-11 1L8.5 8.5l.94-2.06 2.06-.94-2.06-.94L8.5 2.5l-.94 2.06-2.06.94zm10 10l.94 2.06.94-2.06 2.06-.94-2.06-.94-.94-2.06-.94 2.06-2.06.94z\"/><path d=\"M17.41 7.96l-1.37-1.37c-.4-.4-.92-.59-1.43-.59-.52 0-1.04.2-1.43.59L10.3 9.45l-7.72 7.72c-.78.78-.78 2.05 0 2.83L4 21.41c.39.39.9.59 1.41.59.51 0 1.02-.2 1.41-.59l7.78-7.78 2.81-2.81c.8-.78.8-2.07 0-2.86zM5.41 20L4 18.59l7.72-7.72 1.47 1.35L5.41 20z\"/>\n",
              "  </svg>\n",
              "      </button>\n",
              "      \n",
              "  <style>\n",
              "    .colab-df-container {\n",
              "      display:flex;\n",
              "      flex-wrap:wrap;\n",
              "      gap: 12px;\n",
              "    }\n",
              "\n",
              "    .colab-df-convert {\n",
              "      background-color: #E8F0FE;\n",
              "      border: none;\n",
              "      border-radius: 50%;\n",
              "      cursor: pointer;\n",
              "      display: none;\n",
              "      fill: #1967D2;\n",
              "      height: 32px;\n",
              "      padding: 0 0 0 0;\n",
              "      width: 32px;\n",
              "    }\n",
              "\n",
              "    .colab-df-convert:hover {\n",
              "      background-color: #E2EBFA;\n",
              "      box-shadow: 0px 1px 2px rgba(60, 64, 67, 0.3), 0px 1px 3px 1px rgba(60, 64, 67, 0.15);\n",
              "      fill: #174EA6;\n",
              "    }\n",
              "\n",
              "    [theme=dark] .colab-df-convert {\n",
              "      background-color: #3B4455;\n",
              "      fill: #D2E3FC;\n",
              "    }\n",
              "\n",
              "    [theme=dark] .colab-df-convert:hover {\n",
              "      background-color: #434B5C;\n",
              "      box-shadow: 0px 1px 3px 1px rgba(0, 0, 0, 0.15);\n",
              "      filter: drop-shadow(0px 1px 2px rgba(0, 0, 0, 0.3));\n",
              "      fill: #FFFFFF;\n",
              "    }\n",
              "  </style>\n",
              "\n",
              "      <script>\n",
              "        const buttonEl =\n",
              "          document.querySelector('#df-24356e52-7f9b-4c7c-9b18-6f8a33f9560a button.colab-df-convert');\n",
              "        buttonEl.style.display =\n",
              "          google.colab.kernel.accessAllowed ? 'block' : 'none';\n",
              "\n",
              "        async function convertToInteractive(key) {\n",
              "          const element = document.querySelector('#df-24356e52-7f9b-4c7c-9b18-6f8a33f9560a');\n",
              "          const dataTable =\n",
              "            await google.colab.kernel.invokeFunction('convertToInteractive',\n",
              "                                                     [key], {});\n",
              "          if (!dataTable) return;\n",
              "\n",
              "          const docLinkHtml = 'Like what you see? Visit the ' +\n",
              "            '<a target=\"_blank\" href=https://colab.research.google.com/notebooks/data_table.ipynb>data table notebook</a>'\n",
              "            + ' to learn more about interactive tables.';\n",
              "          element.innerHTML = '';\n",
              "          dataTable['output_type'] = 'display_data';\n",
              "          await google.colab.output.renderOutput(dataTable, element);\n",
              "          const docLink = document.createElement('div');\n",
              "          docLink.innerHTML = docLinkHtml;\n",
              "          element.appendChild(docLink);\n",
              "        }\n",
              "      </script>\n",
              "    </div>\n",
              "  </div>\n",
              "  "
            ]
          },
          "metadata": {},
          "execution_count": 13
        }
      ]
    },
    {
      "cell_type": "markdown",
      "source": [
        "We see that Age is very right skewed. There are also two populations for Occupation, 'Student' and 'Other'.\n",
        "  \n",
        "  \n",
        "\n",
        "Annual Income has gaps in the distribution. So for Annual Income there are also several populations.  "
      ],
      "metadata": {
        "id": "44jdtSlKQCgn"
      }
    },
    {
      "cell_type": "markdown",
      "source": [
        "## AGE"
      ],
      "metadata": {
        "id": "uNTlrmQ9wSjw"
      }
    },
    {
      "cell_type": "code",
      "source": [
        "sns.displot(news.Age)"
      ],
      "metadata": {
        "colab": {
          "base_uri": "https://localhost:8080/",
          "height": 386
        },
        "id": "LmZJpHS-KpHj",
        "outputId": "e376d7e7-e7c3-4d7f-9e57-dcc69c27fb63"
      },
      "execution_count": 14,
      "outputs": [
        {
          "output_type": "execute_result",
          "data": {
            "text/plain": [
              "<seaborn.axisgrid.FacetGrid at 0x7fa6071340d0>"
            ]
          },
          "metadata": {},
          "execution_count": 14
        },
        {
          "output_type": "display_data",
          "data": {
            "text/plain": [
              "<Figure size 360x360 with 1 Axes>"
            ],
            "image/png": "[encoded data removed]"
          },
          "metadata": {
            "needs_background": "light"
          }
        }
      ]
    },
    {
      "cell_type": "markdown",
      "source": [
        "## AGE -- TRANSFORMATION: LOG(AGE)"
      ],
      "metadata": {
        "id": "TKYbALMaH5Ka"
      }
    },
    {
      "cell_type": "code",
      "source": [
        "age_log = np.log(news.Age)\n",
        "sns.displot(data=age_log)"
      ],
      "metadata": {
        "colab": {
          "base_uri": "https://localhost:8080/",
          "height": 386
        },
        "id": "D7-Z27wIu6Ae",
        "outputId": "2b1841d9-b083-41a9-9d2e-29e37f7b0eb1"
      },
      "execution_count": 15,
      "outputs": [
        {
          "output_type": "execute_result",
          "data": {
            "text/plain": [
              "<seaborn.axisgrid.FacetGrid at 0x7fa6064ebcd0>"
            ]
          },
          "metadata": {},
          "execution_count": 15
        },
        {
          "output_type": "display_data",
          "data": {
            "text/plain": [
              "<Figure size 360x360 with 1 Axes>"
            ],
            "image/png": "[encoded data removed]"
          },
          "metadata": {
            "needs_background": "light"
          }
        }
      ]
    },
    {
      "cell_type": "markdown",
      "source": [
        "We could directly fit a model with the log-transformed data or divide into subpopulations on the original Age variable"
      ],
      "metadata": {
        "id": "2DEKRo44xVq1"
      }
    },
    {
      "cell_type": "markdown",
      "source": [
        "# Divide subpopulations for Age"
      ],
      "metadata": {
        "id": "JZvbgfJfUjjN"
      }
    },
    {
      "cell_type": "code",
      "source": [
        "under_50 = news.loc[news['Age'] <= 50]\n",
        "over_50 = news.loc[news['Age'] > 50]\n",
        "\n",
        "sns.displot(under_50['Age'])\n",
        "sns.displot(over_50['Age'])"
      ],
      "metadata": {
        "colab": {
          "base_uri": "https://localhost:8080/",
          "height": 738
        },
        "id": "mxwnu3BdETLZ",
        "outputId": "88f77997-5400-4187-d9a7-b36360631aa2"
      },
      "execution_count": 16,
      "outputs": [
        {
          "output_type": "execute_result",
          "data": {
            "text/plain": [
              "<seaborn.axisgrid.FacetGrid at 0x7fa6065abf10>"
            ]
          },
          "metadata": {},
          "execution_count": 16
        },
        {
          "output_type": "display_data",
          "data": {
            "text/plain": [
              "<Figure size 360x360 with 1 Axes>"
            ],
            "image/png": "[encoded data removed]"
          },
          "metadata": {
            "needs_background": "light"
          }
        },
        {
          "output_type": "display_data",
          "data": {
            "text/plain": [
              "<Figure size 360x360 with 1 Axes>"
            ],
            "image/png": "[encoded data removed]"
          },
          "metadata": {
            "needs_background": "light"
          }
        }
      ]
    },
    {
      "cell_type": "markdown",
      "source": [
        "## Log-transform subpopulations"
      ],
      "metadata": {
        "id": "4wRLLFDiyNeH"
      }
    },
    {
      "cell_type": "code",
      "source": [
        "under_50_log = np.log(under_50['Age'])\n",
        "sns.displot(data=under_50_log)\n",
        "\n",
        "over_50_log = np.log(over_50['Age'])\n",
        "sns.displot(data=over_50_log)"
      ],
      "metadata": {
        "colab": {
          "base_uri": "https://localhost:8080/",
          "height": 738
        },
        "id": "cFZjFBKByQaX",
        "outputId": "405de691-d79c-4c7b-af39-8620f26c0b99"
      },
      "execution_count": 17,
      "outputs": [
        {
          "output_type": "execute_result",
          "data": {
            "text/plain": [
              "<seaborn.axisgrid.FacetGrid at 0x7fa606f01250>"
            ]
          },
          "metadata": {},
          "execution_count": 17
        },
        {
          "output_type": "display_data",
          "data": {
            "text/plain": [
              "<Figure size 360x360 with 1 Axes>"
            ],
            "image/png": "[encoded data removed]"
          },
          "metadata": {
            "needs_background": "light"
          }
        },
        {
          "output_type": "display_data",
          "data": {
            "text/plain": [
              "<Figure size 360x360 with 1 Axes>"
            ],
            "image/png": "[encoded data removed]"
          },
          "metadata": {
            "needs_background": "light"
          }
        }
      ]
    },
    {
      "cell_type": "markdown",
      "source": [
        "**Conclusion for continous variable AGE:**,\n",
        "THERE ARE GAPS IN THE DISTRIBUTION WHEN SPLITTING THE POPULATIONS AND THEN TAKING THE LOG(UNDER_50) AND LOG(OVER_50) "
      ],
      "metadata": {
        "id": "7lblMDxEyqlg"
      }
    },
    {
      "cell_type": "markdown",
      "source": [
        "Do we stick with the non-transformed variable?"
      ],
      "metadata": {
        "id": "9LgnySzpDBdO"
      }
    },
    {
      "cell_type": "markdown",
      "source": [
        "## Annual Income\n",
        "\n"
      ],
      "metadata": {
        "id": "vdQvZ63FUeTZ"
      }
    },
    {
      "cell_type": "code",
      "source": [
        "sns.displot(news['Annual Income'])"
      ],
      "metadata": {
        "colab": {
          "base_uri": "https://localhost:8080/",
          "height": 386
        },
        "id": "mCJDOGI8UULA",
        "outputId": "c1d2f5c7-89f6-4700-b924-5f5107ee0ede"
      },
      "execution_count": 18,
      "outputs": [
        {
          "output_type": "execute_result",
          "data": {
            "text/plain": [
              "<seaborn.axisgrid.FacetGrid at 0x7fa606755dd0>"
            ]
          },
          "metadata": {},
          "execution_count": 18
        },
        {
          "output_type": "display_data",
          "data": {
            "text/plain": [
              "<Figure size 360x360 with 1 Axes>"
            ],
            "image/png": "[encoded data removed]"
          },
          "metadata": {
            "needs_background": "light"
          }
        }
      ]
    },
    {
      "cell_type": "markdown",
      "source": [
        " ## Annual Income: Transformation: log(Annual Income)"
      ],
      "metadata": {
        "id": "PF-fIQk4IilE"
      }
    },
    {
      "cell_type": "code",
      "source": [
        "income_log = np.log(news['Annual Income'])\n",
        "sns.displot(data=income_log)"
      ],
      "metadata": {
        "colab": {
          "base_uri": "https://localhost:8080/",
          "height": 386
        },
        "id": "Gam2T3C1xynB",
        "outputId": "e7b4cd4d-ec41-4745-df72-61393637e829"
      },
      "execution_count": 19,
      "outputs": [
        {
          "output_type": "execute_result",
          "data": {
            "text/plain": [
              "<seaborn.axisgrid.FacetGrid at 0x7fa6067701d0>"
            ]
          },
          "metadata": {},
          "execution_count": 19
        },
        {
          "output_type": "display_data",
          "data": {
            "text/plain": [
              "<Figure size 360x360 with 1 Axes>"
            ],
            "image/png": "[encoded data removed]"
          },
          "metadata": {
            "needs_background": "light"
          }
        }
      ]
    },
    {
      "cell_type": "markdown",
      "source": [
        "taking the log of ANNUAL INCOME doesn't help..."
      ],
      "metadata": {
        "id": "K9aFb_2Xx41v"
      }
    },
    {
      "cell_type": "markdown",
      "source": [
        "## Split Annual Income into subpopulations"
      ],
      "metadata": {
        "id": "sBOtRkmZIqAj"
      }
    },
    {
      "cell_type": "code",
      "source": [
        "under_40 = news.loc[news['Annual Income'] < 40000]\n",
        "between_40_80 = news.loc[news['Annual Income'].between(40000, 80000, 'both')]\n",
        "over_80 = news.loc[news['Annual Income'] >= 80000]\n",
        "\n",
        "sns.displot(under_40['Annual Income'], bins=4)\n",
        "sns.displot(between_40_80['Annual Income'])\n",
        "sns.displot(over_80['Annual Income'], bins=4)"
      ],
      "metadata": {
        "colab": {
          "base_uri": "https://localhost:8080/",
          "height": 1000
        },
        "id": "sNkJ5DV-U0L_",
        "outputId": "f64a3ce2-0204-4772-a94b-88adc94f0db5"
      },
      "execution_count": 20,
      "outputs": [
        {
          "output_type": "execute_result",
          "data": {
            "text/plain": [
              "<seaborn.axisgrid.FacetGrid at 0x7fa60675f7d0>"
            ]
          },
          "metadata": {},
          "execution_count": 20
        },
        {
          "output_type": "display_data",
          "data": {
            "text/plain": [
              "<Figure size 360x360 with 1 Axes>"
            ],
            "image/png": "[encoded data removed]"
          },
          "metadata": {
            "needs_background": "light"
          }
        },
        {
          "output_type": "display_data",
          "data": {
            "text/plain": [
              "<Figure size 360x360 with 1 Axes>"
            ],
            "image/png": "[encoded data removed]"
          },
          "metadata": {
            "needs_background": "light"
          }
        },
        {
          "output_type": "display_data",
          "data": {
            "text/plain": [
              "<Figure size 360x360 with 1 Axes>"
            ],
            "image/png": "[encoded data removed]"
          },
          "metadata": {
            "needs_background": "light"
          }
        }
      ]
    },
    {
      "cell_type": "markdown",
      "source": [
        "## LOG Transformation on Annual Income subpopulations"
      ],
      "metadata": {
        "id": "0okLnajWUqiD"
      }
    },
    {
      "cell_type": "code",
      "source": [
        "under_40_log = np.log(under_40['Annual Income'])\n",
        "sns.displot(data=under_40_log, bins=4)\n",
        "\n",
        "between_40_80_log = np.log(between_40_80['Annual Income'])\n",
        "sns.displot(data=between_40_80_log)\n",
        "\n",
        "over_80_log = np.log(over_80['Annual Income'])\n",
        "sns.displot(data=over_80_log)"
      ],
      "metadata": {
        "colab": {
          "base_uri": "https://localhost:8080/",
          "height": 1000
        },
        "id": "DXSCqKm1zBUD",
        "outputId": "822afd0a-4f2c-4252-c537-e6a8c26aca6b"
      },
      "execution_count": 21,
      "outputs": [
        {
          "output_type": "execute_result",
          "data": {
            "text/plain": [
              "<seaborn.axisgrid.FacetGrid at 0x7fa6063d21d0>"
            ]
          },
          "metadata": {},
          "execution_count": 21
        },
        {
          "output_type": "display_data",
          "data": {
            "text/plain": [
              "<Figure size 360x360 with 1 Axes>"
            ],
            "image/png": "[encoded data removed]"
          },
          "metadata": {
            "needs_background": "light"
          }
        },
        {
          "output_type": "display_data",
          "data": {
            "text/plain": [
              "<Figure size 360x360 with 1 Axes>"
            ],
            "image/png": "[encoded data removed]"
          },
          "metadata": {
            "needs_background": "light"
          }
        },
        {
          "output_type": "display_data",
          "data": {
            "text/plain": [
              "<Figure size 360x360 with 1 Axes>"
            ],
            "image/png": "[encoded data removed]"
          },
          "metadata": {
            "needs_background": "light"
          }
        }
      ]
    },
    {
      "cell_type": "markdown",
      "source": [
        "Okay, same is also true for **continous variable ANNUAL INCOME:**,   \n",
        "\n",
        "**CONCLUSION**\n",
        "splitting into 3 subpopulations for groups: \n",
        "\n",
        "1.   under 20,000\n",
        "2.   between 20,000 and 80,000\n",
        "3.   and over 80,000    \n",
        "  \n",
        "    \n",
        "and then log-transforming each variable seems to give a smoother distribution...  \n",
        "**But we may want to truncate upper bounded outliers**"
      ],
      "metadata": {
        "id": "PwTGLCpHzvO-"
      }
    },
    {
      "cell_type": "markdown",
      "source": [
        "## Model Fitting -- Age"
      ],
      "metadata": {
        "id": "CnQtiVHjUA33"
      }
    },
    {
      "cell_type": "markdown",
      "source": [
        "Fit a univariate distribution model for each continuous (possibly transformed) variable.  Select the best model using the AIC criteria"
      ],
      "metadata": {
        "id": "dXDyGp7QUD-P"
      }
    },
    {
      "cell_type": "code",
      "source": [
        "pip install fitter"
      ],
      "metadata": {
        "colab": {
          "base_uri": "https://localhost:8080/"
        },
        "id": "W4paVTwveH-B",
        "outputId": "08942c01-c733-476b-f3ee-418d60be5f4f"
      },
      "execution_count": 22,
      "outputs": [
        {
          "output_type": "stream",
          "name": "stdout",
          "text": [
            "Looking in indexes: https://pypi.org/simple, https://us-python.pkg.dev/colab-wheels/public/simple/\n",
            "Collecting fitter\n",
            "  Downloading fitter-1.5.1.tar.gz (27 kB)\n",
            "Requirement already satisfied: click in /usr/local/lib/python3.7/dist-packages (from fitter) (7.1.2)\n",
            "Requirement already satisfied: joblib in /usr/local/lib/python3.7/dist-packages (from fitter) (1.2.0)\n",
            "Requirement already satisfied: matplotlib in /usr/local/lib/python3.7/dist-packages (from fitter) (3.2.2)\n",
            "Requirement already satisfied: numpy in /usr/local/lib/python3.7/dist-packages (from fitter) (1.21.6)\n",
            "Requirement already satisfied: pandas in /usr/local/lib/python3.7/dist-packages (from fitter) (1.3.5)\n",
            "Requirement already satisfied: scipy>=0.18 in /usr/local/lib/python3.7/dist-packages (from fitter) (1.7.3)\n",
            "Requirement already satisfied: tqdm in /usr/local/lib/python3.7/dist-packages (from fitter) (4.64.1)\n",
            "Requirement already satisfied: python-dateutil>=2.1 in /usr/local/lib/python3.7/dist-packages (from matplotlib->fitter) (2.8.2)\n",
            "Requirement already satisfied: kiwisolver>=1.0.1 in /usr/local/lib/python3.7/dist-packages (from matplotlib->fitter) (1.4.4)\n",
            "Requirement already satisfied: cycler>=0.10 in /usr/local/lib/python3.7/dist-packages (from matplotlib->fitter) (0.11.0)\n",
            "Requirement already satisfied: pyparsing!=2.0.4,!=2.1.2,!=2.1.6,>=2.0.1 in /usr/local/lib/python3.7/dist-packages (from matplotlib->fitter) (3.0.9)\n",
            "Requirement already satisfied: typing-extensions in /usr/local/lib/python3.7/dist-packages (from kiwisolver>=1.0.1->matplotlib->fitter) (4.1.1)\n",
            "Requirement already satisfied: six>=1.5 in /usr/local/lib/python3.7/dist-packages (from python-dateutil>=2.1->matplotlib->fitter) (1.15.0)\n",
            "Requirement already satisfied: pytz>=2017.3 in /usr/local/lib/python3.7/dist-packages (from pandas->fitter) (2022.4)\n",
            "Building wheels for collected packages: fitter\n",
            "  Building wheel for fitter (setup.py) ... \u001b[?25l\u001b[?25hdone\n",
            "  Created wheel for fitter: filename=fitter-1.5.1-py3-none-any.whl size=25596 sha256=1144ed15546e5fb84e391396e71d04dfc087c0039bdfa2e105a50e87434e8eca\n",
            "  Stored in directory: /root/.cache/pip/wheels/40/65/62/57b872ba7af36e70111b1f67cffe76f97c747804aff7665ccb\n",
            "Successfully built fitter\n",
            "Installing collected packages: fitter\n",
            "Successfully installed fitter-1.5.1\n"
          ]
        }
      ]
    },
    {
      "cell_type": "markdown",
      "source": [
        "## We will attempt to fit a distribution for each of the   \n",
        "## transformed subpopulations within AGE"
      ],
      "metadata": {
        "id": "wyk8lzeZeaYd"
      }
    },
    {
      "cell_type": "markdown",
      "source": [
        "## LOG(Subpopulation Under 50)"
      ],
      "metadata": {
        "id": "Rfr6TKOPfj1h"
      }
    },
    {
      "cell_type": "markdown",
      "source": [
        "**we first fit the log values even though they seemed to mess up the distribution**"
      ],
      "metadata": {
        "id": "HC4Fv5LWB3sd"
      }
    },
    {
      "cell_type": "code",
      "source": [
        "from fitter import Fitter, get_common_distributions, get_distributions\n",
        "pop_under_50 = under_50_log.values\n",
        "f_50 = Fitter(pop_under_50,\n",
        "           distributions=['gamma',\n",
        "                          'lognorm',\n",
        "                          \"beta\",\n",
        "                          \"burr\",\n",
        "                          \"norm\"], bins=10)\n",
        "f_50.fit()\n",
        "f_50.summary()"
      ],
      "metadata": {
        "colab": {
          "base_uri": "https://localhost:8080/",
          "height": 471
        },
        "id": "LJGqvVBd00mN",
        "outputId": "fc99d623-97ce-4adf-b46f-2df4b0bd5080"
      },
      "execution_count": 23,
      "outputs": [
        {
          "output_type": "stream",
          "name": "stderr",
          "text": [
            "Fitting 5 distributions: 100%|██████████| 5/5 [00:00<00:00,  5.41it/s]\n"
          ]
        },
        {
          "output_type": "execute_result",
          "data": {
            "text/plain": [
              "         sumsquare_error        aic         bic    kl_div  ks_statistic  \\\n",
              "beta            4.244667  11.520511 -205.781723  0.128778      0.207792   \n",
              "gamma           6.769570  79.155986 -174.183913  0.520560      0.599467   \n",
              "burr            9.912090  14.477377 -140.478647  0.255656      0.177163   \n",
              "norm           14.696650   7.872884 -118.838702  0.391337      0.165018   \n",
              "lognorm        23.370587  54.791488  -78.777776  0.113227      0.420611   \n",
              "\n",
              "            ks_pvalue  \n",
              "beta     2.150513e-03  \n",
              "gamma    5.519756e-27  \n",
              "burr     1.384790e-02  \n",
              "norm     2.665807e-02  \n",
              "lognorm  7.293791e-13  "
            ],
            "text/html": [
              "\n",
              "  <div id=\"df-7b6b7490-ee6e-43c4-b3dc-a4b95bf446c0\">\n",
              "    <div class=\"colab-df-container\">\n",
              "      <div>\n",
              "<style scoped>\n",
              "    .dataframe tbody tr th:only-of-type {\n",
              "        vertical-align: middle;\n",
              "    }\n",
              "\n",
              "    .dataframe tbody tr th {\n",
              "        vertical-align: top;\n",
              "    }\n",
              "\n",
              "    .dataframe thead th {\n",
              "        text-align: right;\n",
              "    }\n",
              "</style>\n",
              "<table border=\"1\" class=\"dataframe\">\n",
              "  <thead>\n",
              "    <tr style=\"text-align: right;\">\n",
              "      <th></th>\n",
              "      <th>sumsquare_error</th>\n",
              "      <th>aic</th>\n",
              "      <th>bic</th>\n",
              "      <th>kl_div</th>\n",
              "      <th>ks_statistic</th>\n",
              "      <th>ks_pvalue</th>\n",
              "    </tr>\n",
              "  </thead>\n",
              "  <tbody>\n",
              "    <tr>\n",
              "      <th>beta</th>\n",
              "      <td>4.244667</td>\n",
              "      <td>11.520511</td>\n",
              "      <td>-205.781723</td>\n",
              "      <td>0.128778</td>\n",
              "      <td>0.207792</td>\n",
              "      <td>2.150513e-03</td>\n",
              "    </tr>\n",
              "    <tr>\n",
              "      <th>gamma</th>\n",
              "      <td>6.769570</td>\n",
              "      <td>79.155986</td>\n",
              "      <td>-174.183913</td>\n",
              "      <td>0.520560</td>\n",
              "      <td>0.599467</td>\n",
              "      <td>5.519756e-27</td>\n",
              "    </tr>\n",
              "    <tr>\n",
              "      <th>burr</th>\n",
              "      <td>9.912090</td>\n",
              "      <td>14.477377</td>\n",
              "      <td>-140.478647</td>\n",
              "      <td>0.255656</td>\n",
              "      <td>0.177163</td>\n",
              "      <td>1.384790e-02</td>\n",
              "    </tr>\n",
              "    <tr>\n",
              "      <th>norm</th>\n",
              "      <td>14.696650</td>\n",
              "      <td>7.872884</td>\n",
              "      <td>-118.838702</td>\n",
              "      <td>0.391337</td>\n",
              "      <td>0.165018</td>\n",
              "      <td>2.665807e-02</td>\n",
              "    </tr>\n",
              "    <tr>\n",
              "      <th>lognorm</th>\n",
              "      <td>23.370587</td>\n",
              "      <td>54.791488</td>\n",
              "      <td>-78.777776</td>\n",
              "      <td>0.113227</td>\n",
              "      <td>0.420611</td>\n",
              "      <td>7.293791e-13</td>\n",
              "    </tr>\n",
              "  </tbody>\n",
              "</table>\n",
              "</div>\n",
              "      <button class=\"colab-df-convert\" onclick=\"convertToInteractive('df-7b6b7490-ee6e-43c4-b3dc-a4b95bf446c0')\"\n",
              "              title=\"Convert this dataframe to an interactive table.\"\n",
              "              style=\"display:none;\">\n",
              "        \n",
              "  <svg xmlns=\"http://www.w3.org/2000/svg\" height=\"24px\"viewBox=\"0 0 24 24\"\n",
              "       width=\"24px\">\n",
              "    <path d=\"M0 0h24v24H0V0z\" fill=\"none\"/>\n",
              "    <path d=\"M18.56 5.44l.94 2.06.94-2.06 2.06-.94-2.06-.94-.94-2.06-.94 2.06-2.06.94zm-11 1L8.5 8.5l.94-2.06 2.06-.94-2.06-.94L8.5 2.5l-.94 2.06-2.06.94zm10 10l.94 2.06.94-2.06 2.06-.94-2.06-.94-.94-2.06-.94 2.06-2.06.94z\"/><path d=\"M17.41 7.96l-1.37-1.37c-.4-.4-.92-.59-1.43-.59-.52 0-1.04.2-1.43.59L10.3 9.45l-7.72 7.72c-.78.78-.78 2.05 0 2.83L4 21.41c.39.39.9.59 1.41.59.51 0 1.02-.2 1.41-.59l7.78-7.78 2.81-2.81c.8-.78.8-2.07 0-2.86zM5.41 20L4 18.59l7.72-7.72 1.47 1.35L5.41 20z\"/>\n",
              "  </svg>\n",
              "      </button>\n",
              "      \n",
              "  <style>\n",
              "    .colab-df-container {\n",
              "      display:flex;\n",
              "      flex-wrap:wrap;\n",
              "      gap: 12px;\n",
              "    }\n",
              "\n",
              "    .colab-df-convert {\n",
              "      background-color: #E8F0FE;\n",
              "      border: none;\n",
              "      border-radius: 50%;\n",
              "      cursor: pointer;\n",
              "      display: none;\n",
              "      fill: #1967D2;\n",
              "      height: 32px;\n",
              "      padding: 0 0 0 0;\n",
              "      width: 32px;\n",
              "    }\n",
              "\n",
              "    .colab-df-convert:hover {\n",
              "      background-color: #E2EBFA;\n",
              "      box-shadow: 0px 1px 2px rgba(60, 64, 67, 0.3), 0px 1px 3px 1px rgba(60, 64, 67, 0.15);\n",
              "      fill: #174EA6;\n",
              "    }\n",
              "\n",
              "    [theme=dark] .colab-df-convert {\n",
              "      background-color: #3B4455;\n",
              "      fill: #D2E3FC;\n",
              "    }\n",
              "\n",
              "    [theme=dark] .colab-df-convert:hover {\n",
              "      background-color: #434B5C;\n",
              "      box-shadow: 0px 1px 3px 1px rgba(0, 0, 0, 0.15);\n",
              "      filter: drop-shadow(0px 1px 2px rgba(0, 0, 0, 0.3));\n",
              "      fill: #FFFFFF;\n",
              "    }\n",
              "  </style>\n",
              "\n",
              "      <script>\n",
              "        const buttonEl =\n",
              "          document.querySelector('#df-7b6b7490-ee6e-43c4-b3dc-a4b95bf446c0 button.colab-df-convert');\n",
              "        buttonEl.style.display =\n",
              "          google.colab.kernel.accessAllowed ? 'block' : 'none';\n",
              "\n",
              "        async function convertToInteractive(key) {\n",
              "          const element = document.querySelector('#df-7b6b7490-ee6e-43c4-b3dc-a4b95bf446c0');\n",
              "          const dataTable =\n",
              "            await google.colab.kernel.invokeFunction('convertToInteractive',\n",
              "                                                     [key], {});\n",
              "          if (!dataTable) return;\n",
              "\n",
              "          const docLinkHtml = 'Like what you see? Visit the ' +\n",
              "            '<a target=\"_blank\" href=https://colab.research.google.com/notebooks/data_table.ipynb>data table notebook</a>'\n",
              "            + ' to learn more about interactive tables.';\n",
              "          element.innerHTML = '';\n",
              "          dataTable['output_type'] = 'display_data';\n",
              "          await google.colab.output.renderOutput(dataTable, element);\n",
              "          const docLink = document.createElement('div');\n",
              "          docLink.innerHTML = docLinkHtml;\n",
              "          element.appendChild(docLink);\n",
              "        }\n",
              "      </script>\n",
              "    </div>\n",
              "  </div>\n",
              "  "
            ]
          },
          "metadata": {},
          "execution_count": 23
        },
        {
          "output_type": "display_data",
          "data": {
            "text/plain": [
              "<Figure size 432x288 with 1 Axes>"
            ],
            "image/png": "[encoded data removed]"
          },
          "metadata": {
            "needs_background": "light"
          }
        }
      ]
    },
    {
      "cell_type": "code",
      "source": [
        "f_50.get_best(method = 'sumsquare_error')"
      ],
      "metadata": {
        "colab": {
          "base_uri": "https://localhost:8080/"
        },
        "id": "o9G49By8017X",
        "outputId": "fac325f3-2069-4ce1-8d41-3f3f4a082f36"
      },
      "execution_count": 24,
      "outputs": [
        {
          "output_type": "execute_result",
          "data": {
            "text/plain": [
              "{'beta': {'a': 0.4618655150324036,\n",
              "  'b': 1.3276538064417807,\n",
              "  'loc': 2.9957322735539904,\n",
              "  'scale': 0.9587610001895304}}"
            ]
          },
          "metadata": {},
          "execution_count": 24
        }
      ]
    },
    {
      "cell_type": "markdown",
      "source": [
        "## LOG(Subpopulation Over 50)"
      ],
      "metadata": {
        "id": "d36YDFujfp4g"
      }
    },
    {
      "cell_type": "code",
      "source": [
        "from fitter import Fitter, get_common_distributions, get_distributions\n",
        "pop_over_50 = over_50_log.values\n",
        "f_over50 = Fitter(pop_over_50,\n",
        "           distributions=['gamma',\n",
        "                          'lognorm',\n",
        "                          \"beta\",\n",
        "                          \"burr\",\n",
        "                          \"norm\"], bins=7)\n",
        "f_over50.fit()\n",
        "f_over50.summary()"
      ],
      "metadata": {
        "colab": {
          "base_uri": "https://localhost:8080/",
          "height": 471
        },
        "id": "46Y4T25W1hnK",
        "outputId": "6b514c1a-4b0c-42b6-cf1f-2571b0be2d47"
      },
      "execution_count": 25,
      "outputs": [
        {
          "output_type": "stream",
          "name": "stderr",
          "text": [
            "Fitting 5 distributions: 100%|██████████| 5/5 [00:00<00:00,  6.13it/s]\n"
          ]
        },
        {
          "output_type": "execute_result",
          "data": {
            "text/plain": [
              "         sumsquare_error       aic        bic  kl_div  ks_statistic  ks_pvalue\n",
              "burr           18.691916  0.954719  15.465401     inf      0.207373   0.710250\n",
              "beta           19.193575 -0.529110  15.730246     inf      0.173370   0.876252\n",
              "norm           39.117907 -4.417600  18.245123     inf      0.199105   0.753312\n",
              "lognorm        39.301886 -2.422018  20.594629     inf      0.200263   0.747366\n",
              "gamma          40.702686 -2.596327  20.944845     inf      0.214642   0.671443"
            ],
            "text/html": [
              "\n",
              "  <div id=\"df-81589ca0-8a3d-47bb-a648-7b2977e65690\">\n",
              "    <div class=\"colab-df-container\">\n",
              "      <div>\n",
              "<style scoped>\n",
              "    .dataframe tbody tr th:only-of-type {\n",
              "        vertical-align: middle;\n",
              "    }\n",
              "\n",
              "    .dataframe tbody tr th {\n",
              "        vertical-align: top;\n",
              "    }\n",
              "\n",
              "    .dataframe thead th {\n",
              "        text-align: right;\n",
              "    }\n",
              "</style>\n",
              "<table border=\"1\" class=\"dataframe\">\n",
              "  <thead>\n",
              "    <tr style=\"text-align: right;\">\n",
              "      <th></th>\n",
              "      <th>sumsquare_error</th>\n",
              "      <th>aic</th>\n",
              "      <th>bic</th>\n",
              "      <th>kl_div</th>\n",
              "      <th>ks_statistic</th>\n",
              "      <th>ks_pvalue</th>\n",
              "    </tr>\n",
              "  </thead>\n",
              "  <tbody>\n",
              "    <tr>\n",
              "      <th>burr</th>\n",
              "      <td>18.691916</td>\n",
              "      <td>0.954719</td>\n",
              "      <td>15.465401</td>\n",
              "      <td>inf</td>\n",
              "      <td>0.207373</td>\n",
              "      <td>0.710250</td>\n",
              "    </tr>\n",
              "    <tr>\n",
              "      <th>beta</th>\n",
              "      <td>19.193575</td>\n",
              "      <td>-0.529110</td>\n",
              "      <td>15.730246</td>\n",
              "      <td>inf</td>\n",
              "      <td>0.173370</td>\n",
              "      <td>0.876252</td>\n",
              "    </tr>\n",
              "    <tr>\n",
              "      <th>norm</th>\n",
              "      <td>39.117907</td>\n",
              "      <td>-4.417600</td>\n",
              "      <td>18.245123</td>\n",
              "      <td>inf</td>\n",
              "      <td>0.199105</td>\n",
              "      <td>0.753312</td>\n",
              "    </tr>\n",
              "    <tr>\n",
              "      <th>lognorm</th>\n",
              "      <td>39.301886</td>\n",
              "      <td>-2.422018</td>\n",
              "      <td>20.594629</td>\n",
              "      <td>inf</td>\n",
              "      <td>0.200263</td>\n",
              "      <td>0.747366</td>\n",
              "    </tr>\n",
              "    <tr>\n",
              "      <th>gamma</th>\n",
              "      <td>40.702686</td>\n",
              "      <td>-2.596327</td>\n",
              "      <td>20.944845</td>\n",
              "      <td>inf</td>\n",
              "      <td>0.214642</td>\n",
              "      <td>0.671443</td>\n",
              "    </tr>\n",
              "  </tbody>\n",
              "</table>\n",
              "</div>\n",
              "      <button class=\"colab-df-convert\" onclick=\"convertToInteractive('df-81589ca0-8a3d-47bb-a648-7b2977e65690')\"\n",
              "              title=\"Convert this dataframe to an interactive table.\"\n",
              "              style=\"display:none;\">\n",
              "        \n",
              "  <svg xmlns=\"http://www.w3.org/2000/svg\" height=\"24px\"viewBox=\"0 0 24 24\"\n",
              "       width=\"24px\">\n",
              "    <path d=\"M0 0h24v24H0V0z\" fill=\"none\"/>\n",
              "    <path d=\"M18.56 5.44l.94 2.06.94-2.06 2.06-.94-2.06-.94-.94-2.06-.94 2.06-2.06.94zm-11 1L8.5 8.5l.94-2.06 2.06-.94-2.06-.94L8.5 2.5l-.94 2.06-2.06.94zm10 10l.94 2.06.94-2.06 2.06-.94-2.06-.94-.94-2.06-.94 2.06-2.06.94z\"/><path d=\"M17.41 7.96l-1.37-1.37c-.4-.4-.92-.59-1.43-.59-.52 0-1.04.2-1.43.59L10.3 9.45l-7.72 7.72c-.78.78-.78 2.05 0 2.83L4 21.41c.39.39.9.59 1.41.59.51 0 1.02-.2 1.41-.59l7.78-7.78 2.81-2.81c.8-.78.8-2.07 0-2.86zM5.41 20L4 18.59l7.72-7.72 1.47 1.35L5.41 20z\"/>\n",
              "  </svg>\n",
              "      </button>\n",
              "      \n",
              "  <style>\n",
              "    .colab-df-container {\n",
              "      display:flex;\n",
              "      flex-wrap:wrap;\n",
              "      gap: 12px;\n",
              "    }\n",
              "\n",
              "    .colab-df-convert {\n",
              "      background-color: #E8F0FE;\n",
              "      border: none;\n",
              "      border-radius: 50%;\n",
              "      cursor: pointer;\n",
              "      display: none;\n",
              "      fill: #1967D2;\n",
              "      height: 32px;\n",
              "      padding: 0 0 0 0;\n",
              "      width: 32px;\n",
              "    }\n",
              "\n",
              "    .colab-df-convert:hover {\n",
              "      background-color: #E2EBFA;\n",
              "      box-shadow: 0px 1px 2px rgba(60, 64, 67, 0.3), 0px 1px 3px 1px rgba(60, 64, 67, 0.15);\n",
              "      fill: #174EA6;\n",
              "    }\n",
              "\n",
              "    [theme=dark] .colab-df-convert {\n",
              "      background-color: #3B4455;\n",
              "      fill: #D2E3FC;\n",
              "    }\n",
              "\n",
              "    [theme=dark] .colab-df-convert:hover {\n",
              "      background-color: #434B5C;\n",
              "      box-shadow: 0px 1px 3px 1px rgba(0, 0, 0, 0.15);\n",
              "      filter: drop-shadow(0px 1px 2px rgba(0, 0, 0, 0.3));\n",
              "      fill: #FFFFFF;\n",
              "    }\n",
              "  </style>\n",
              "\n",
              "      <script>\n",
              "        const buttonEl =\n",
              "          document.querySelector('#df-81589ca0-8a3d-47bb-a648-7b2977e65690 button.colab-df-convert');\n",
              "        buttonEl.style.display =\n",
              "          google.colab.kernel.accessAllowed ? 'block' : 'none';\n",
              "\n",
              "        async function convertToInteractive(key) {\n",
              "          const element = document.querySelector('#df-81589ca0-8a3d-47bb-a648-7b2977e65690');\n",
              "          const dataTable =\n",
              "            await google.colab.kernel.invokeFunction('convertToInteractive',\n",
              "                                                     [key], {});\n",
              "          if (!dataTable) return;\n",
              "\n",
              "          const docLinkHtml = 'Like what you see? Visit the ' +\n",
              "            '<a target=\"_blank\" href=https://colab.research.google.com/notebooks/data_table.ipynb>data table notebook</a>'\n",
              "            + ' to learn more about interactive tables.';\n",
              "          element.innerHTML = '';\n",
              "          dataTable['output_type'] = 'display_data';\n",
              "          await google.colab.output.renderOutput(dataTable, element);\n",
              "          const docLink = document.createElement('div');\n",
              "          docLink.innerHTML = docLinkHtml;\n",
              "          element.appendChild(docLink);\n",
              "        }\n",
              "      </script>\n",
              "    </div>\n",
              "  </div>\n",
              "  "
            ]
          },
          "metadata": {},
          "execution_count": 25
        },
        {
          "output_type": "display_data",
          "data": {
            "text/plain": [
              "<Figure size 432x288 with 1 Axes>"
            ],
            "image/png": "[encoded data removed]"
          },
          "metadata": {
            "needs_background": "light"
          }
        }
      ]
    },
    {
      "cell_type": "code",
      "source": [
        "f_over50.get_best(method = 'sumsquare_error')"
      ],
      "metadata": {
        "colab": {
          "base_uri": "https://localhost:8080/"
        },
        "id": "BucM0FMy1jMz",
        "outputId": "56ea0fc9-c031-4cda-85ef-28a35f994e2f"
      },
      "execution_count": 26,
      "outputs": [
        {
          "output_type": "execute_result",
          "data": {
            "text/plain": [
              "{'burr': {'c': 363479.413846183,\n",
              "  'd': 0.02952826763498609,\n",
              "  'loc': -1469.0486681465386,\n",
              "  'scale': 1473.4220494661176}}"
            ]
          },
          "metadata": {},
          "execution_count": 26
        }
      ]
    },
    {
      "cell_type": "markdown",
      "source": [
        "##Again, we have found a distribution model for the LOG of the split populations:   \n",
        "## over_50_log and under_50_log"
      ],
      "metadata": {
        "id": "iLruhiDj3Rte"
      }
    },
    {
      "cell_type": "markdown",
      "source": [
        "**This didn't turn out great... what if we find distributions just for the subpopulations without transforming them**"
      ],
      "metadata": {
        "id": "WHtyZ_FJ662o"
      }
    },
    {
      "cell_type": "markdown",
      "source": [
        "## Under 50 NOT TRANSFORMED"
      ],
      "metadata": {
        "id": "kMo3qJbT7Qxo"
      }
    },
    {
      "cell_type": "code",
      "source": [
        "from fitter import Fitter, get_common_distributions, get_distributions\n",
        "pop_under_50 = under_50['Age'].values\n",
        "f_50 = Fitter(pop_under_50,\n",
        "           distributions=['gamma',\n",
        "                          'lognorm',\n",
        "                          \"beta\",\n",
        "                          \"burr\",\n",
        "                          \"norm\"], bins=10)\n",
        "f_50.fit()\n",
        "f_50.summary()"
      ],
      "metadata": {
        "colab": {
          "base_uri": "https://localhost:8080/",
          "height": 471
        },
        "id": "vGv_uKX-7I7Y",
        "outputId": "c48d8175-0fc9-4ca9-df10-7a3991f8c62b"
      },
      "execution_count": 27,
      "outputs": [
        {
          "output_type": "stream",
          "name": "stderr",
          "text": [
            "Fitting 5 distributions: 100%|██████████| 5/5 [00:00<00:00,  5.48it/s]\n"
          ]
        },
        {
          "output_type": "execute_result",
          "data": {
            "text/plain": [
              "         sumsquare_error         aic         bic  kl_div  ks_statistic  \\\n",
              "burr            0.004076   90.164780 -740.794735     inf      0.175222   \n",
              "gamma           0.004628  107.897654 -735.365880     inf      0.391130   \n",
              "beta            0.005996   83.254119 -711.085671     inf      0.207787   \n",
              "norm            0.016534   79.268487 -641.663956     inf      0.215639   \n",
              "lognorm         0.025479  117.660463 -604.025309     inf      0.453404   \n",
              "\n",
              "            ks_pvalue  \n",
              "burr     1.542514e-02  \n",
              "gamma    4.012846e-11  \n",
              "beta     2.151289e-03  \n",
              "norm     1.270699e-03  \n",
              "lognorm  5.601784e-15  "
            ],
            "text/html": [
              "\n",
              "  <div id=\"df-f50ad1ba-2d1f-4422-8f3e-c4592ca92d43\">\n",
              "    <div class=\"colab-df-container\">\n",
              "      <div>\n",
              "<style scoped>\n",
              "    .dataframe tbody tr th:only-of-type {\n",
              "        vertical-align: middle;\n",
              "    }\n",
              "\n",
              "    .dataframe tbody tr th {\n",
              "        vertical-align: top;\n",
              "    }\n",
              "\n",
              "    .dataframe thead th {\n",
              "        text-align: right;\n",
              "    }\n",
              "</style>\n",
              "<table border=\"1\" class=\"dataframe\">\n",
              "  <thead>\n",
              "    <tr style=\"text-align: right;\">\n",
              "      <th></th>\n",
              "      <th>sumsquare_error</th>\n",
              "      <th>aic</th>\n",
              "      <th>bic</th>\n",
              "      <th>kl_div</th>\n",
              "      <th>ks_statistic</th>\n",
              "      <th>ks_pvalue</th>\n",
              "    </tr>\n",
              "  </thead>\n",
              "  <tbody>\n",
              "    <tr>\n",
              "      <th>burr</th>\n",
              "      <td>0.004076</td>\n",
              "      <td>90.164780</td>\n",
              "      <td>-740.794735</td>\n",
              "      <td>inf</td>\n",
              "      <td>0.175222</td>\n",
              "      <td>1.542514e-02</td>\n",
              "    </tr>\n",
              "    <tr>\n",
              "      <th>gamma</th>\n",
              "      <td>0.004628</td>\n",
              "      <td>107.897654</td>\n",
              "      <td>-735.365880</td>\n",
              "      <td>inf</td>\n",
              "      <td>0.391130</td>\n",
              "      <td>4.012846e-11</td>\n",
              "    </tr>\n",
              "    <tr>\n",
              "      <th>beta</th>\n",
              "      <td>0.005996</td>\n",
              "      <td>83.254119</td>\n",
              "      <td>-711.085671</td>\n",
              "      <td>inf</td>\n",
              "      <td>0.207787</td>\n",
              "      <td>2.151289e-03</td>\n",
              "    </tr>\n",
              "    <tr>\n",
              "      <th>norm</th>\n",
              "      <td>0.016534</td>\n",
              "      <td>79.268487</td>\n",
              "      <td>-641.663956</td>\n",
              "      <td>inf</td>\n",
              "      <td>0.215639</td>\n",
              "      <td>1.270699e-03</td>\n",
              "    </tr>\n",
              "    <tr>\n",
              "      <th>lognorm</th>\n",
              "      <td>0.025479</td>\n",
              "      <td>117.660463</td>\n",
              "      <td>-604.025309</td>\n",
              "      <td>inf</td>\n",
              "      <td>0.453404</td>\n",
              "      <td>5.601784e-15</td>\n",
              "    </tr>\n",
              "  </tbody>\n",
              "</table>\n",
              "</div>\n",
              "      <button class=\"colab-df-convert\" onclick=\"convertToInteractive('df-f50ad1ba-2d1f-4422-8f3e-c4592ca92d43')\"\n",
              "              title=\"Convert this dataframe to an interactive table.\"\n",
              "              style=\"display:none;\">\n",
              "        \n",
              "  <svg xmlns=\"http://www.w3.org/2000/svg\" height=\"24px\"viewBox=\"0 0 24 24\"\n",
              "       width=\"24px\">\n",
              "    <path d=\"M0 0h24v24H0V0z\" fill=\"none\"/>\n",
              "    <path d=\"M18.56 5.44l.94 2.06.94-2.06 2.06-.94-2.06-.94-.94-2.06-.94 2.06-2.06.94zm-11 1L8.5 8.5l.94-2.06 2.06-.94-2.06-.94L8.5 2.5l-.94 2.06-2.06.94zm10 10l.94 2.06.94-2.06 2.06-.94-2.06-.94-.94-2.06-.94 2.06-2.06.94z\"/><path d=\"M17.41 7.96l-1.37-1.37c-.4-.4-.92-.59-1.43-.59-.52 0-1.04.2-1.43.59L10.3 9.45l-7.72 7.72c-.78.78-.78 2.05 0 2.83L4 21.41c.39.39.9.59 1.41.59.51 0 1.02-.2 1.41-.59l7.78-7.78 2.81-2.81c.8-.78.8-2.07 0-2.86zM5.41 20L4 18.59l7.72-7.72 1.47 1.35L5.41 20z\"/>\n",
              "  </svg>\n",
              "      </button>\n",
              "      \n",
              "  <style>\n",
              "    .colab-df-container {\n",
              "      display:flex;\n",
              "      flex-wrap:wrap;\n",
              "      gap: 12px;\n",
              "    }\n",
              "\n",
              "    .colab-df-convert {\n",
              "      background-color: #E8F0FE;\n",
              "      border: none;\n",
              "      border-radius: 50%;\n",
              "      cursor: pointer;\n",
              "      display: none;\n",
              "      fill: #1967D2;\n",
              "      height: 32px;\n",
              "      padding: 0 0 0 0;\n",
              "      width: 32px;\n",
              "    }\n",
              "\n",
              "    .colab-df-convert:hover {\n",
              "      background-color: #E2EBFA;\n",
              "      box-shadow: 0px 1px 2px rgba(60, 64, 67, 0.3), 0px 1px 3px 1px rgba(60, 64, 67, 0.15);\n",
              "      fill: #174EA6;\n",
              "    }\n",
              "\n",
              "    [theme=dark] .colab-df-convert {\n",
              "      background-color: #3B4455;\n",
              "      fill: #D2E3FC;\n",
              "    }\n",
              "\n",
              "    [theme=dark] .colab-df-convert:hover {\n",
              "      background-color: #434B5C;\n",
              "      box-shadow: 0px 1px 3px 1px rgba(0, 0, 0, 0.15);\n",
              "      filter: drop-shadow(0px 1px 2px rgba(0, 0, 0, 0.3));\n",
              "      fill: #FFFFFF;\n",
              "    }\n",
              "  </style>\n",
              "\n",
              "      <script>\n",
              "        const buttonEl =\n",
              "          document.querySelector('#df-f50ad1ba-2d1f-4422-8f3e-c4592ca92d43 button.colab-df-convert');\n",
              "        buttonEl.style.display =\n",
              "          google.colab.kernel.accessAllowed ? 'block' : 'none';\n",
              "\n",
              "        async function convertToInteractive(key) {\n",
              "          const element = document.querySelector('#df-f50ad1ba-2d1f-4422-8f3e-c4592ca92d43');\n",
              "          const dataTable =\n",
              "            await google.colab.kernel.invokeFunction('convertToInteractive',\n",
              "                                                     [key], {});\n",
              "          if (!dataTable) return;\n",
              "\n",
              "          const docLinkHtml = 'Like what you see? Visit the ' +\n",
              "            '<a target=\"_blank\" href=https://colab.research.google.com/notebooks/data_table.ipynb>data table notebook</a>'\n",
              "            + ' to learn more about interactive tables.';\n",
              "          element.innerHTML = '';\n",
              "          dataTable['output_type'] = 'display_data';\n",
              "          await google.colab.output.renderOutput(dataTable, element);\n",
              "          const docLink = document.createElement('div');\n",
              "          docLink.innerHTML = docLinkHtml;\n",
              "          element.appendChild(docLink);\n",
              "        }\n",
              "      </script>\n",
              "    </div>\n",
              "  </div>\n",
              "  "
            ]
          },
          "metadata": {},
          "execution_count": 27
        },
        {
          "output_type": "display_data",
          "data": {
            "text/plain": [
              "<Figure size 432x288 with 1 Axes>"
            ],
            "image/png": "[encoded data removed]"
          },
          "metadata": {
            "needs_background": "light"
          }
        }
      ]
    },
    {
      "cell_type": "markdown",
      "source": [
        "## Over 50 NOT TRANSFORMED"
      ],
      "metadata": {
        "id": "NFSTB7_j7Txd"
      }
    },
    {
      "cell_type": "code",
      "source": [
        "from fitter import Fitter, get_common_distributions, get_distributions\n",
        "pop_over_50 = over_50['Age'].values\n",
        "f_over50 = Fitter(pop_over_50,\n",
        "           distributions=['gamma',\n",
        "                          'lognorm',\n",
        "                          \"beta\",\n",
        "                          \"burr\",\n",
        "                          \"norm\"], bins=5)\n",
        "f_over50.fit()\n",
        "f_over50.summary()"
      ],
      "metadata": {
        "colab": {
          "base_uri": "https://localhost:8080/",
          "height": 473
        },
        "id": "raW5pRQG7Wfz",
        "outputId": "f18e6b92-8841-4ac9-e26b-cc27e525f687"
      },
      "execution_count": 28,
      "outputs": [
        {
          "output_type": "stream",
          "name": "stderr",
          "text": [
            "Fitting 5 distributions: 100%|██████████| 5/5 [00:00<00:00,  5.46it/s]\n"
          ]
        },
        {
          "output_type": "execute_result",
          "data": {
            "text/plain": [
              "         sumsquare_error        aic        bic    kl_div  ks_statistic  \\\n",
              "beta            0.001415  42.673590 -79.422111  0.106646      0.160840   \n",
              "norm            0.002952  39.221153 -76.672793  0.203292      0.188072   \n",
              "gamma           0.003011  41.160276 -74.173223  0.204056      0.187907   \n",
              "burr            0.003529  44.056283 -70.281752  0.206364      0.241048   \n",
              "lognorm         0.008918  59.105185 -63.314985  0.836358      0.428701   \n",
              "\n",
              "         ks_pvalue  \n",
              "beta      0.923056  \n",
              "norm      0.808983  \n",
              "gamma     0.809793  \n",
              "burr      0.530018  \n",
              "lognorm   0.034802  "
            ],
            "text/html": [
              "\n",
              "  <div id=\"df-93e76545-fc19-438c-b3ec-f1a0cb49e723\">\n",
              "    <div class=\"colab-df-container\">\n",
              "      <div>\n",
              "<style scoped>\n",
              "    .dataframe tbody tr th:only-of-type {\n",
              "        vertical-align: middle;\n",
              "    }\n",
              "\n",
              "    .dataframe tbody tr th {\n",
              "        vertical-align: top;\n",
              "    }\n",
              "\n",
              "    .dataframe thead th {\n",
              "        text-align: right;\n",
              "    }\n",
              "</style>\n",
              "<table border=\"1\" class=\"dataframe\">\n",
              "  <thead>\n",
              "    <tr style=\"text-align: right;\">\n",
              "      <th></th>\n",
              "      <th>sumsquare_error</th>\n",
              "      <th>aic</th>\n",
              "      <th>bic</th>\n",
              "      <th>kl_div</th>\n",
              "      <th>ks_statistic</th>\n",
              "      <th>ks_pvalue</th>\n",
              "    </tr>\n",
              "  </thead>\n",
              "  <tbody>\n",
              "    <tr>\n",
              "      <th>beta</th>\n",
              "      <td>0.001415</td>\n",
              "      <td>42.673590</td>\n",
              "      <td>-79.422111</td>\n",
              "      <td>0.106646</td>\n",
              "      <td>0.160840</td>\n",
              "      <td>0.923056</td>\n",
              "    </tr>\n",
              "    <tr>\n",
              "      <th>norm</th>\n",
              "      <td>0.002952</td>\n",
              "      <td>39.221153</td>\n",
              "      <td>-76.672793</td>\n",
              "      <td>0.203292</td>\n",
              "      <td>0.188072</td>\n",
              "      <td>0.808983</td>\n",
              "    </tr>\n",
              "    <tr>\n",
              "      <th>gamma</th>\n",
              "      <td>0.003011</td>\n",
              "      <td>41.160276</td>\n",
              "      <td>-74.173223</td>\n",
              "      <td>0.204056</td>\n",
              "      <td>0.187907</td>\n",
              "      <td>0.809793</td>\n",
              "    </tr>\n",
              "    <tr>\n",
              "      <th>burr</th>\n",
              "      <td>0.003529</td>\n",
              "      <td>44.056283</td>\n",
              "      <td>-70.281752</td>\n",
              "      <td>0.206364</td>\n",
              "      <td>0.241048</td>\n",
              "      <td>0.530018</td>\n",
              "    </tr>\n",
              "    <tr>\n",
              "      <th>lognorm</th>\n",
              "      <td>0.008918</td>\n",
              "      <td>59.105185</td>\n",
              "      <td>-63.314985</td>\n",
              "      <td>0.836358</td>\n",
              "      <td>0.428701</td>\n",
              "      <td>0.034802</td>\n",
              "    </tr>\n",
              "  </tbody>\n",
              "</table>\n",
              "</div>\n",
              "      <button class=\"colab-df-convert\" onclick=\"convertToInteractive('df-93e76545-fc19-438c-b3ec-f1a0cb49e723')\"\n",
              "              title=\"Convert this dataframe to an interactive table.\"\n",
              "              style=\"display:none;\">\n",
              "        \n",
              "  <svg xmlns=\"http://www.w3.org/2000/svg\" height=\"24px\"viewBox=\"0 0 24 24\"\n",
              "       width=\"24px\">\n",
              "    <path d=\"M0 0h24v24H0V0z\" fill=\"none\"/>\n",
              "    <path d=\"M18.56 5.44l.94 2.06.94-2.06 2.06-.94-2.06-.94-.94-2.06-.94 2.06-2.06.94zm-11 1L8.5 8.5l.94-2.06 2.06-.94-2.06-.94L8.5 2.5l-.94 2.06-2.06.94zm10 10l.94 2.06.94-2.06 2.06-.94-2.06-.94-.94-2.06-.94 2.06-2.06.94z\"/><path d=\"M17.41 7.96l-1.37-1.37c-.4-.4-.92-.59-1.43-.59-.52 0-1.04.2-1.43.59L10.3 9.45l-7.72 7.72c-.78.78-.78 2.05 0 2.83L4 21.41c.39.39.9.59 1.41.59.51 0 1.02-.2 1.41-.59l7.78-7.78 2.81-2.81c.8-.78.8-2.07 0-2.86zM5.41 20L4 18.59l7.72-7.72 1.47 1.35L5.41 20z\"/>\n",
              "  </svg>\n",
              "      </button>\n",
              "      \n",
              "  <style>\n",
              "    .colab-df-container {\n",
              "      display:flex;\n",
              "      flex-wrap:wrap;\n",
              "      gap: 12px;\n",
              "    }\n",
              "\n",
              "    .colab-df-convert {\n",
              "      background-color: #E8F0FE;\n",
              "      border: none;\n",
              "      border-radius: 50%;\n",
              "      cursor: pointer;\n",
              "      display: none;\n",
              "      fill: #1967D2;\n",
              "      height: 32px;\n",
              "      padding: 0 0 0 0;\n",
              "      width: 32px;\n",
              "    }\n",
              "\n",
              "    .colab-df-convert:hover {\n",
              "      background-color: #E2EBFA;\n",
              "      box-shadow: 0px 1px 2px rgba(60, 64, 67, 0.3), 0px 1px 3px 1px rgba(60, 64, 67, 0.15);\n",
              "      fill: #174EA6;\n",
              "    }\n",
              "\n",
              "    [theme=dark] .colab-df-convert {\n",
              "      background-color: #3B4455;\n",
              "      fill: #D2E3FC;\n",
              "    }\n",
              "\n",
              "    [theme=dark] .colab-df-convert:hover {\n",
              "      background-color: #434B5C;\n",
              "      box-shadow: 0px 1px 3px 1px rgba(0, 0, 0, 0.15);\n",
              "      filter: drop-shadow(0px 1px 2px rgba(0, 0, 0, 0.3));\n",
              "      fill: #FFFFFF;\n",
              "    }\n",
              "  </style>\n",
              "\n",
              "      <script>\n",
              "        const buttonEl =\n",
              "          document.querySelector('#df-93e76545-fc19-438c-b3ec-f1a0cb49e723 button.colab-df-convert');\n",
              "        buttonEl.style.display =\n",
              "          google.colab.kernel.accessAllowed ? 'block' : 'none';\n",
              "\n",
              "        async function convertToInteractive(key) {\n",
              "          const element = document.querySelector('#df-93e76545-fc19-438c-b3ec-f1a0cb49e723');\n",
              "          const dataTable =\n",
              "            await google.colab.kernel.invokeFunction('convertToInteractive',\n",
              "                                                     [key], {});\n",
              "          if (!dataTable) return;\n",
              "\n",
              "          const docLinkHtml = 'Like what you see? Visit the ' +\n",
              "            '<a target=\"_blank\" href=https://colab.research.google.com/notebooks/data_table.ipynb>data table notebook</a>'\n",
              "            + ' to learn more about interactive tables.';\n",
              "          element.innerHTML = '';\n",
              "          dataTable['output_type'] = 'display_data';\n",
              "          await google.colab.output.renderOutput(dataTable, element);\n",
              "          const docLink = document.createElement('div');\n",
              "          docLink.innerHTML = docLinkHtml;\n",
              "          element.appendChild(docLink);\n",
              "        }\n",
              "      </script>\n",
              "    </div>\n",
              "  </div>\n",
              "  "
            ]
          },
          "metadata": {},
          "execution_count": 28
        },
        {
          "output_type": "display_data",
          "data": {
            "text/plain": [
              "<Figure size 432x288 with 1 Axes>"
            ],
            "image/png": "[encoded data removed]"
          },
          "metadata": {
            "needs_background": "light"
          }
        }
      ]
    },
    {
      "cell_type": "markdown",
      "source": [
        "## **The AICs are higher when we don't fit the transformed variable..**   \n",
        "## **BUT THE DISTRIBUTIONS ARE NICER....**  \n",
        "## **WHICH DO WE CHOOSE???**"
      ],
      "metadata": {
        "id": "WG8R3QBu7y4G"
      }
    },
    {
      "cell_type": "markdown",
      "source": [
        "moving on to income...."
      ],
      "metadata": {
        "id": "WUSUs8wv773d"
      }
    },
    {
      "cell_type": "markdown",
      "source": [
        "## Model Fitting: LOG(Annual Income -- Under 40,000)"
      ],
      "metadata": {
        "id": "YBN11gCo2a_y"
      }
    },
    {
      "cell_type": "markdown",
      "source": [
        "Again, attempt to fit a distribution for each of the LOG TRANSFORMED  subpopulations within Annual Income... there are 3 groups"
      ],
      "metadata": {
        "id": "dNjYKNsu2scA"
      }
    },
    {
      "cell_type": "code",
      "source": [
        "from fitter import Fitter, get_common_distributions, get_distributions\n",
        "income_under_40 = under_40_log.values\n",
        "f_income_under_40 = Fitter(income_under_40,\n",
        "           distributions=['gamma',\n",
        "                          'lognorm',\n",
        "                          \"beta\",\n",
        "                          \"burr\",\n",
        "                          \"norm\"], bins=4)\n",
        "f_income_under_40.fit()\n",
        "f_income_under_40.summary()"
      ],
      "metadata": {
        "colab": {
          "base_uri": "https://localhost:8080/",
          "height": 506
        },
        "id": "zezp2eqs2hsh",
        "outputId": "a4a25931-1968-4b64-fe38-2588b918c5fc"
      },
      "execution_count": 29,
      "outputs": [
        {
          "output_type": "stream",
          "name": "stderr",
          "text": [
            "Fitting 5 distributions:   0%|          | 0/5 [00:00<?, ?it/s]WARNING:root:SKIPPED beta distribution (taking more than 30 seconds)\n",
            "Fitting 5 distributions: 100%|██████████| 5/5 [00:00<00:00,  8.18it/s]\n",
            "WARNING:fitter.fitter:beta was not fitted. no parameters available\n"
          ]
        },
        {
          "output_type": "execute_result",
          "data": {
            "text/plain": [
              "         sumsquare_error        aic         bic    kl_div  ks_statistic  \\\n",
              "burr            0.064115  19.324469 -184.946908  0.065050      0.348554   \n",
              "gamma           0.078130  14.407517 -182.086528  0.036624      0.359060   \n",
              "lognorm         0.082964  14.436323 -180.165672  0.038814      0.356570   \n",
              "norm            0.093436  12.497812 -179.827310  0.043358      0.352437   \n",
              "beta                 inf        inf         inf       inf           NaN   \n",
              "\n",
              "         ks_pvalue  \n",
              "burr      0.000559  \n",
              "gamma     0.000336  \n",
              "lognorm   0.000380  \n",
              "norm      0.000464  \n",
              "beta           NaN  "
            ],
            "text/html": [
              "\n",
              "  <div id=\"df-9e68dab9-3732-4678-9801-95c16b926a7f\">\n",
              "    <div class=\"colab-df-container\">\n",
              "      <div>\n",
              "<style scoped>\n",
              "    .dataframe tbody tr th:only-of-type {\n",
              "        vertical-align: middle;\n",
              "    }\n",
              "\n",
              "    .dataframe tbody tr th {\n",
              "        vertical-align: top;\n",
              "    }\n",
              "\n",
              "    .dataframe thead th {\n",
              "        text-align: right;\n",
              "    }\n",
              "</style>\n",
              "<table border=\"1\" class=\"dataframe\">\n",
              "  <thead>\n",
              "    <tr style=\"text-align: right;\">\n",
              "      <th></th>\n",
              "      <th>sumsquare_error</th>\n",
              "      <th>aic</th>\n",
              "      <th>bic</th>\n",
              "      <th>kl_div</th>\n",
              "      <th>ks_statistic</th>\n",
              "      <th>ks_pvalue</th>\n",
              "    </tr>\n",
              "  </thead>\n",
              "  <tbody>\n",
              "    <tr>\n",
              "      <th>burr</th>\n",
              "      <td>0.064115</td>\n",
              "      <td>19.324469</td>\n",
              "      <td>-184.946908</td>\n",
              "      <td>0.065050</td>\n",
              "      <td>0.348554</td>\n",
              "      <td>0.000559</td>\n",
              "    </tr>\n",
              "    <tr>\n",
              "      <th>gamma</th>\n",
              "      <td>0.078130</td>\n",
              "      <td>14.407517</td>\n",
              "      <td>-182.086528</td>\n",
              "      <td>0.036624</td>\n",
              "      <td>0.359060</td>\n",
              "      <td>0.000336</td>\n",
              "    </tr>\n",
              "    <tr>\n",
              "      <th>lognorm</th>\n",
              "      <td>0.082964</td>\n",
              "      <td>14.436323</td>\n",
              "      <td>-180.165672</td>\n",
              "      <td>0.038814</td>\n",
              "      <td>0.356570</td>\n",
              "      <td>0.000380</td>\n",
              "    </tr>\n",
              "    <tr>\n",
              "      <th>norm</th>\n",
              "      <td>0.093436</td>\n",
              "      <td>12.497812</td>\n",
              "      <td>-179.827310</td>\n",
              "      <td>0.043358</td>\n",
              "      <td>0.352437</td>\n",
              "      <td>0.000464</td>\n",
              "    </tr>\n",
              "    <tr>\n",
              "      <th>beta</th>\n",
              "      <td>inf</td>\n",
              "      <td>inf</td>\n",
              "      <td>inf</td>\n",
              "      <td>inf</td>\n",
              "      <td>NaN</td>\n",
              "      <td>NaN</td>\n",
              "    </tr>\n",
              "  </tbody>\n",
              "</table>\n",
              "</div>\n",
              "      <button class=\"colab-df-convert\" onclick=\"convertToInteractive('df-9e68dab9-3732-4678-9801-95c16b926a7f')\"\n",
              "              title=\"Convert this dataframe to an interactive table.\"\n",
              "              style=\"display:none;\">\n",
              "        \n",
              "  <svg xmlns=\"http://www.w3.org/2000/svg\" height=\"24px\"viewBox=\"0 0 24 24\"\n",
              "       width=\"24px\">\n",
              "    <path d=\"M0 0h24v24H0V0z\" fill=\"none\"/>\n",
              "    <path d=\"M18.56 5.44l.94 2.06.94-2.06 2.06-.94-2.06-.94-.94-2.06-.94 2.06-2.06.94zm-11 1L8.5 8.5l.94-2.06 2.06-.94-2.06-.94L8.5 2.5l-.94 2.06-2.06.94zm10 10l.94 2.06.94-2.06 2.06-.94-2.06-.94-.94-2.06-.94 2.06-2.06.94z\"/><path d=\"M17.41 7.96l-1.37-1.37c-.4-.4-.92-.59-1.43-.59-.52 0-1.04.2-1.43.59L10.3 9.45l-7.72 7.72c-.78.78-.78 2.05 0 2.83L4 21.41c.39.39.9.59 1.41.59.51 0 1.02-.2 1.41-.59l7.78-7.78 2.81-2.81c.8-.78.8-2.07 0-2.86zM5.41 20L4 18.59l7.72-7.72 1.47 1.35L5.41 20z\"/>\n",
              "  </svg>\n",
              "      </button>\n",
              "      \n",
              "  <style>\n",
              "    .colab-df-container {\n",
              "      display:flex;\n",
              "      flex-wrap:wrap;\n",
              "      gap: 12px;\n",
              "    }\n",
              "\n",
              "    .colab-df-convert {\n",
              "      background-color: #E8F0FE;\n",
              "      border: none;\n",
              "      border-radius: 50%;\n",
              "      cursor: pointer;\n",
              "      display: none;\n",
              "      fill: #1967D2;\n",
              "      height: 32px;\n",
              "      padding: 0 0 0 0;\n",
              "      width: 32px;\n",
              "    }\n",
              "\n",
              "    .colab-df-convert:hover {\n",
              "      background-color: #E2EBFA;\n",
              "      box-shadow: 0px 1px 2px rgba(60, 64, 67, 0.3), 0px 1px 3px 1px rgba(60, 64, 67, 0.15);\n",
              "      fill: #174EA6;\n",
              "    }\n",
              "\n",
              "    [theme=dark] .colab-df-convert {\n",
              "      background-color: #3B4455;\n",
              "      fill: #D2E3FC;\n",
              "    }\n",
              "\n",
              "    [theme=dark] .colab-df-convert:hover {\n",
              "      background-color: #434B5C;\n",
              "      box-shadow: 0px 1px 3px 1px rgba(0, 0, 0, 0.15);\n",
              "      filter: drop-shadow(0px 1px 2px rgba(0, 0, 0, 0.3));\n",
              "      fill: #FFFFFF;\n",
              "    }\n",
              "  </style>\n",
              "\n",
              "      <script>\n",
              "        const buttonEl =\n",
              "          document.querySelector('#df-9e68dab9-3732-4678-9801-95c16b926a7f button.colab-df-convert');\n",
              "        buttonEl.style.display =\n",
              "          google.colab.kernel.accessAllowed ? 'block' : 'none';\n",
              "\n",
              "        async function convertToInteractive(key) {\n",
              "          const element = document.querySelector('#df-9e68dab9-3732-4678-9801-95c16b926a7f');\n",
              "          const dataTable =\n",
              "            await google.colab.kernel.invokeFunction('convertToInteractive',\n",
              "                                                     [key], {});\n",
              "          if (!dataTable) return;\n",
              "\n",
              "          const docLinkHtml = 'Like what you see? Visit the ' +\n",
              "            '<a target=\"_blank\" href=https://colab.research.google.com/notebooks/data_table.ipynb>data table notebook</a>'\n",
              "            + ' to learn more about interactive tables.';\n",
              "          element.innerHTML = '';\n",
              "          dataTable['output_type'] = 'display_data';\n",
              "          await google.colab.output.renderOutput(dataTable, element);\n",
              "          const docLink = document.createElement('div');\n",
              "          docLink.innerHTML = docLinkHtml;\n",
              "          element.appendChild(docLink);\n",
              "        }\n",
              "      </script>\n",
              "    </div>\n",
              "  </div>\n",
              "  "
            ]
          },
          "metadata": {},
          "execution_count": 29
        },
        {
          "output_type": "display_data",
          "data": {
            "text/plain": [
              "<Figure size 432x288 with 1 Axes>"
            ],
            "image/png": "[encoded data removed]"
          },
          "metadata": {
            "needs_background": "light"
          }
        }
      ]
    },
    {
      "cell_type": "code",
      "source": [
        "f_income_under_40.get_best(method = 'sumsquare_error')"
      ],
      "metadata": {
        "colab": {
          "base_uri": "https://localhost:8080/"
        },
        "id": "vLWDT3Wh2hvO",
        "outputId": "9d8a571d-dc3b-420d-be2e-606a86692e53"
      },
      "execution_count": 30,
      "outputs": [
        {
          "output_type": "execute_result",
          "data": {
            "text/plain": [
              "{'burr': {'c': 60.57823574710625,\n",
              "  'd': 0.6116436572613504,\n",
              "  'loc': 0.28501362354293047,\n",
              "  'scale': 9.032268658605606}}"
            ]
          },
          "metadata": {},
          "execution_count": 30
        }
      ]
    },
    {
      "cell_type": "markdown",
      "source": [
        " This is not great but better than before. We could maybe fit the NON-TRANSFORMED data for INCOME.... but I think it would be worse"
      ],
      "metadata": {
        "id": "2yz0qFt74Emk"
      }
    },
    {
      "cell_type": "markdown",
      "source": [
        "## Model Fitting: LOG(Annual Income -- between 40,000 and 80,000)"
      ],
      "metadata": {
        "id": "WNo765tx4m-E"
      }
    },
    {
      "cell_type": "code",
      "source": [
        "from fitter import Fitter, get_common_distributions, get_distributions\n",
        "income_bet_40_80 = between_40_80_log.values\n",
        "f_income_bet_40_80 = Fitter(income_bet_40_80,\n",
        "           distributions=['gamma',\n",
        "                          'lognorm',\n",
        "                          \"beta\",\n",
        "                          \"burr\",\n",
        "                          \"norm\"], bins=9)\n",
        "f_income_bet_40_80.fit()\n",
        "f_income_bet_40_80.summary()"
      ],
      "metadata": {
        "colab": {
          "base_uri": "https://localhost:8080/",
          "height": 471
        },
        "id": "eVVIP3Ni4Oyc",
        "outputId": "3ef970e1-fb65-496c-f853-2f168fc40ef5"
      },
      "execution_count": 31,
      "outputs": [
        {
          "output_type": "stream",
          "name": "stderr",
          "text": [
            "Fitting 5 distributions: 100%|██████████| 5/5 [00:01<00:00,  4.58it/s]\n"
          ]
        },
        {
          "output_type": "execute_result",
          "data": {
            "text/plain": [
              "         sumsquare_error       aic        bic    kl_div  ks_statistic  \\\n",
              "norm           12.240176 -2.123173 -60.184093  0.299269      0.168591   \n",
              "gamma          12.315863 -0.147739 -55.990215  0.301735      0.172213   \n",
              "lognorm        12.363164 -0.165363 -55.802385  0.303173      0.174033   \n",
              "beta           13.875896 -1.342610 -46.254404  0.285428      0.160536   \n",
              "burr           13.992410  2.016503 -45.844676  0.343972      0.212155   \n",
              "\n",
              "         ks_pvalue  \n",
              "norm      0.109636  \n",
              "gamma     0.096808  \n",
              "lognorm   0.090849  \n",
              "beta      0.143204  \n",
              "burr      0.020535  "
            ],
            "text/html": [
              "\n",
              "  <div id=\"df-b2f31bdc-81e2-45b2-a2e7-e0be33c1f74e\">\n",
              "    <div class=\"colab-df-container\">\n",
              "      <div>\n",
              "<style scoped>\n",
              "    .dataframe tbody tr th:only-of-type {\n",
              "        vertical-align: middle;\n",
              "    }\n",
              "\n",
              "    .dataframe tbody tr th {\n",
              "        vertical-align: top;\n",
              "    }\n",
              "\n",
              "    .dataframe thead th {\n",
              "        text-align: right;\n",
              "    }\n",
              "</style>\n",
              "<table border=\"1\" class=\"dataframe\">\n",
              "  <thead>\n",
              "    <tr style=\"text-align: right;\">\n",
              "      <th></th>\n",
              "      <th>sumsquare_error</th>\n",
              "      <th>aic</th>\n",
              "      <th>bic</th>\n",
              "      <th>kl_div</th>\n",
              "      <th>ks_statistic</th>\n",
              "      <th>ks_pvalue</th>\n",
              "    </tr>\n",
              "  </thead>\n",
              "  <tbody>\n",
              "    <tr>\n",
              "      <th>norm</th>\n",
              "      <td>12.240176</td>\n",
              "      <td>-2.123173</td>\n",
              "      <td>-60.184093</td>\n",
              "      <td>0.299269</td>\n",
              "      <td>0.168591</td>\n",
              "      <td>0.109636</td>\n",
              "    </tr>\n",
              "    <tr>\n",
              "      <th>gamma</th>\n",
              "      <td>12.315863</td>\n",
              "      <td>-0.147739</td>\n",
              "      <td>-55.990215</td>\n",
              "      <td>0.301735</td>\n",
              "      <td>0.172213</td>\n",
              "      <td>0.096808</td>\n",
              "    </tr>\n",
              "    <tr>\n",
              "      <th>lognorm</th>\n",
              "      <td>12.363164</td>\n",
              "      <td>-0.165363</td>\n",
              "      <td>-55.802385</td>\n",
              "      <td>0.303173</td>\n",
              "      <td>0.174033</td>\n",
              "      <td>0.090849</td>\n",
              "    </tr>\n",
              "    <tr>\n",
              "      <th>beta</th>\n",
              "      <td>13.875896</td>\n",
              "      <td>-1.342610</td>\n",
              "      <td>-46.254404</td>\n",
              "      <td>0.285428</td>\n",
              "      <td>0.160536</td>\n",
              "      <td>0.143204</td>\n",
              "    </tr>\n",
              "    <tr>\n",
              "      <th>burr</th>\n",
              "      <td>13.992410</td>\n",
              "      <td>2.016503</td>\n",
              "      <td>-45.844676</td>\n",
              "      <td>0.343972</td>\n",
              "      <td>0.212155</td>\n",
              "      <td>0.020535</td>\n",
              "    </tr>\n",
              "  </tbody>\n",
              "</table>\n",
              "</div>\n",
              "      <button class=\"colab-df-convert\" onclick=\"convertToInteractive('df-b2f31bdc-81e2-45b2-a2e7-e0be33c1f74e')\"\n",
              "              title=\"Convert this dataframe to an interactive table.\"\n",
              "              style=\"display:none;\">\n",
              "        \n",
              "  <svg xmlns=\"http://www.w3.org/2000/svg\" height=\"24px\"viewBox=\"0 0 24 24\"\n",
              "       width=\"24px\">\n",
              "    <path d=\"M0 0h24v24H0V0z\" fill=\"none\"/>\n",
              "    <path d=\"M18.56 5.44l.94 2.06.94-2.06 2.06-.94-2.06-.94-.94-2.06-.94 2.06-2.06.94zm-11 1L8.5 8.5l.94-2.06 2.06-.94-2.06-.94L8.5 2.5l-.94 2.06-2.06.94zm10 10l.94 2.06.94-2.06 2.06-.94-2.06-.94-.94-2.06-.94 2.06-2.06.94z\"/><path d=\"M17.41 7.96l-1.37-1.37c-.4-.4-.92-.59-1.43-.59-.52 0-1.04.2-1.43.59L10.3 9.45l-7.72 7.72c-.78.78-.78 2.05 0 2.83L4 21.41c.39.39.9.59 1.41.59.51 0 1.02-.2 1.41-.59l7.78-7.78 2.81-2.81c.8-.78.8-2.07 0-2.86zM5.41 20L4 18.59l7.72-7.72 1.47 1.35L5.41 20z\"/>\n",
              "  </svg>\n",
              "      </button>\n",
              "      \n",
              "  <style>\n",
              "    .colab-df-container {\n",
              "      display:flex;\n",
              "      flex-wrap:wrap;\n",
              "      gap: 12px;\n",
              "    }\n",
              "\n",
              "    .colab-df-convert {\n",
              "      background-color: #E8F0FE;\n",
              "      border: none;\n",
              "      border-radius: 50%;\n",
              "      cursor: pointer;\n",
              "      display: none;\n",
              "      fill: #1967D2;\n",
              "      height: 32px;\n",
              "      padding: 0 0 0 0;\n",
              "      width: 32px;\n",
              "    }\n",
              "\n",
              "    .colab-df-convert:hover {\n",
              "      background-color: #E2EBFA;\n",
              "      box-shadow: 0px 1px 2px rgba(60, 64, 67, 0.3), 0px 1px 3px 1px rgba(60, 64, 67, 0.15);\n",
              "      fill: #174EA6;\n",
              "    }\n",
              "\n",
              "    [theme=dark] .colab-df-convert {\n",
              "      background-color: #3B4455;\n",
              "      fill: #D2E3FC;\n",
              "    }\n",
              "\n",
              "    [theme=dark] .colab-df-convert:hover {\n",
              "      background-color: #434B5C;\n",
              "      box-shadow: 0px 1px 3px 1px rgba(0, 0, 0, 0.15);\n",
              "      filter: drop-shadow(0px 1px 2px rgba(0, 0, 0, 0.3));\n",
              "      fill: #FFFFFF;\n",
              "    }\n",
              "  </style>\n",
              "\n",
              "      <script>\n",
              "        const buttonEl =\n",
              "          document.querySelector('#df-b2f31bdc-81e2-45b2-a2e7-e0be33c1f74e button.colab-df-convert');\n",
              "        buttonEl.style.display =\n",
              "          google.colab.kernel.accessAllowed ? 'block' : 'none';\n",
              "\n",
              "        async function convertToInteractive(key) {\n",
              "          const element = document.querySelector('#df-b2f31bdc-81e2-45b2-a2e7-e0be33c1f74e');\n",
              "          const dataTable =\n",
              "            await google.colab.kernel.invokeFunction('convertToInteractive',\n",
              "                                                     [key], {});\n",
              "          if (!dataTable) return;\n",
              "\n",
              "          const docLinkHtml = 'Like what you see? Visit the ' +\n",
              "            '<a target=\"_blank\" href=https://colab.research.google.com/notebooks/data_table.ipynb>data table notebook</a>'\n",
              "            + ' to learn more about interactive tables.';\n",
              "          element.innerHTML = '';\n",
              "          dataTable['output_type'] = 'display_data';\n",
              "          await google.colab.output.renderOutput(dataTable, element);\n",
              "          const docLink = document.createElement('div');\n",
              "          docLink.innerHTML = docLinkHtml;\n",
              "          element.appendChild(docLink);\n",
              "        }\n",
              "      </script>\n",
              "    </div>\n",
              "  </div>\n",
              "  "
            ]
          },
          "metadata": {},
          "execution_count": 31
        },
        {
          "output_type": "display_data",
          "data": {
            "text/plain": [
              "<Figure size 432x288 with 1 Axes>"
            ],
            "image/png": "[encoded data removed]"
          },
          "metadata": {
            "needs_background": "light"
          }
        }
      ]
    },
    {
      "cell_type": "code",
      "source": [
        "f_income_bet_40_80.get_best(method = 'sumsquare_error')"
      ],
      "metadata": {
        "colab": {
          "base_uri": "https://localhost:8080/"
        },
        "id": "CM9-WJip4O03",
        "outputId": "61d538cb-2677-438d-a482-74dc3b029d3a"
      },
      "execution_count": 32,
      "outputs": [
        {
          "output_type": "execute_result",
          "data": {
            "text/plain": [
              "{'norm': {'loc': 10.965571541301834, 'scale': 0.14848366325660692}}"
            ]
          },
          "metadata": {},
          "execution_count": 32
        }
      ]
    },
    {
      "cell_type": "markdown",
      "source": [
        "## Model Fitting: LOG(Annual Income -- over 80,000)"
      ],
      "metadata": {
        "id": "-g7Ihau65jnX"
      }
    },
    {
      "cell_type": "code",
      "source": [
        "from fitter import Fitter, get_common_distributions, get_distributions\n",
        "income_over_80 = over_80_log.values\n",
        "f_income_over_80 = Fitter(income_over_80,\n",
        "           distributions=['gamma',\n",
        "                          'lognorm',\n",
        "                          \"beta\",\n",
        "                          \"burr\",\n",
        "                          \"norm\"], bins=5)\n",
        "f_income_over_80.fit()\n",
        "f_income_over_80.summary()"
      ],
      "metadata": {
        "colab": {
          "base_uri": "https://localhost:8080/",
          "height": 471
        },
        "id": "8PWRCbxe4O4C",
        "outputId": "5d942a62-481b-41a7-faef-750069f23204"
      },
      "execution_count": 33,
      "outputs": [
        {
          "output_type": "stream",
          "name": "stderr",
          "text": [
            "Fitting 5 distributions: 100%|██████████| 5/5 [00:00<00:00,  6.12it/s]\n"
          ]
        },
        {
          "output_type": "execute_result",
          "data": {
            "text/plain": [
              "         sumsquare_error        aic        bic  kl_div  ks_statistic  \\\n",
              "beta           40.506614  13.265255  20.072526     inf      0.419795   \n",
              "lognorm        41.463580   1.830949  18.290068     inf      0.401929   \n",
              "norm           41.467679  -0.185221  16.344849     inf      0.402926   \n",
              "gamma          42.406260   1.689214  18.447431     inf      0.408953   \n",
              "burr           45.520683   3.846207  20.889437     inf      0.397490   \n",
              "\n",
              "         ks_pvalue  \n",
              "beta      0.124146  \n",
              "lognorm   0.155821  \n",
              "norm      0.153892  \n",
              "gamma     0.142655  \n",
              "burr      0.164648  "
            ],
            "text/html": [
              "\n",
              "  <div id=\"df-2e772abb-0355-44cf-a1c1-32bf6a96673b\">\n",
              "    <div class=\"colab-df-container\">\n",
              "      <div>\n",
              "<style scoped>\n",
              "    .dataframe tbody tr th:only-of-type {\n",
              "        vertical-align: middle;\n",
              "    }\n",
              "\n",
              "    .dataframe tbody tr th {\n",
              "        vertical-align: top;\n",
              "    }\n",
              "\n",
              "    .dataframe thead th {\n",
              "        text-align: right;\n",
              "    }\n",
              "</style>\n",
              "<table border=\"1\" class=\"dataframe\">\n",
              "  <thead>\n",
              "    <tr style=\"text-align: right;\">\n",
              "      <th></th>\n",
              "      <th>sumsquare_error</th>\n",
              "      <th>aic</th>\n",
              "      <th>bic</th>\n",
              "      <th>kl_div</th>\n",
              "      <th>ks_statistic</th>\n",
              "      <th>ks_pvalue</th>\n",
              "    </tr>\n",
              "  </thead>\n",
              "  <tbody>\n",
              "    <tr>\n",
              "      <th>beta</th>\n",
              "      <td>40.506614</td>\n",
              "      <td>13.265255</td>\n",
              "      <td>20.072526</td>\n",
              "      <td>inf</td>\n",
              "      <td>0.419795</td>\n",
              "      <td>0.124146</td>\n",
              "    </tr>\n",
              "    <tr>\n",
              "      <th>lognorm</th>\n",
              "      <td>41.463580</td>\n",
              "      <td>1.830949</td>\n",
              "      <td>18.290068</td>\n",
              "      <td>inf</td>\n",
              "      <td>0.401929</td>\n",
              "      <td>0.155821</td>\n",
              "    </tr>\n",
              "    <tr>\n",
              "      <th>norm</th>\n",
              "      <td>41.467679</td>\n",
              "      <td>-0.185221</td>\n",
              "      <td>16.344849</td>\n",
              "      <td>inf</td>\n",
              "      <td>0.402926</td>\n",
              "      <td>0.153892</td>\n",
              "    </tr>\n",
              "    <tr>\n",
              "      <th>gamma</th>\n",
              "      <td>42.406260</td>\n",
              "      <td>1.689214</td>\n",
              "      <td>18.447431</td>\n",
              "      <td>inf</td>\n",
              "      <td>0.408953</td>\n",
              "      <td>0.142655</td>\n",
              "    </tr>\n",
              "    <tr>\n",
              "      <th>burr</th>\n",
              "      <td>45.520683</td>\n",
              "      <td>3.846207</td>\n",
              "      <td>20.889437</td>\n",
              "      <td>inf</td>\n",
              "      <td>0.397490</td>\n",
              "      <td>0.164648</td>\n",
              "    </tr>\n",
              "  </tbody>\n",
              "</table>\n",
              "</div>\n",
              "      <button class=\"colab-df-convert\" onclick=\"convertToInteractive('df-2e772abb-0355-44cf-a1c1-32bf6a96673b')\"\n",
              "              title=\"Convert this dataframe to an interactive table.\"\n",
              "              style=\"display:none;\">\n",
              "        \n",
              "  <svg xmlns=\"http://www.w3.org/2000/svg\" height=\"24px\"viewBox=\"0 0 24 24\"\n",
              "       width=\"24px\">\n",
              "    <path d=\"M0 0h24v24H0V0z\" fill=\"none\"/>\n",
              "    <path d=\"M18.56 5.44l.94 2.06.94-2.06 2.06-.94-2.06-.94-.94-2.06-.94 2.06-2.06.94zm-11 1L8.5 8.5l.94-2.06 2.06-.94-2.06-.94L8.5 2.5l-.94 2.06-2.06.94zm10 10l.94 2.06.94-2.06 2.06-.94-2.06-.94-.94-2.06-.94 2.06-2.06.94z\"/><path d=\"M17.41 7.96l-1.37-1.37c-.4-.4-.92-.59-1.43-.59-.52 0-1.04.2-1.43.59L10.3 9.45l-7.72 7.72c-.78.78-.78 2.05 0 2.83L4 21.41c.39.39.9.59 1.41.59.51 0 1.02-.2 1.41-.59l7.78-7.78 2.81-2.81c.8-.78.8-2.07 0-2.86zM5.41 20L4 18.59l7.72-7.72 1.47 1.35L5.41 20z\"/>\n",
              "  </svg>\n",
              "      </button>\n",
              "      \n",
              "  <style>\n",
              "    .colab-df-container {\n",
              "      display:flex;\n",
              "      flex-wrap:wrap;\n",
              "      gap: 12px;\n",
              "    }\n",
              "\n",
              "    .colab-df-convert {\n",
              "      background-color: #E8F0FE;\n",
              "      border: none;\n",
              "      border-radius: 50%;\n",
              "      cursor: pointer;\n",
              "      display: none;\n",
              "      fill: #1967D2;\n",
              "      height: 32px;\n",
              "      padding: 0 0 0 0;\n",
              "      width: 32px;\n",
              "    }\n",
              "\n",
              "    .colab-df-convert:hover {\n",
              "      background-color: #E2EBFA;\n",
              "      box-shadow: 0px 1px 2px rgba(60, 64, 67, 0.3), 0px 1px 3px 1px rgba(60, 64, 67, 0.15);\n",
              "      fill: #174EA6;\n",
              "    }\n",
              "\n",
              "    [theme=dark] .colab-df-convert {\n",
              "      background-color: #3B4455;\n",
              "      fill: #D2E3FC;\n",
              "    }\n",
              "\n",
              "    [theme=dark] .colab-df-convert:hover {\n",
              "      background-color: #434B5C;\n",
              "      box-shadow: 0px 1px 3px 1px rgba(0, 0, 0, 0.15);\n",
              "      filter: drop-shadow(0px 1px 2px rgba(0, 0, 0, 0.3));\n",
              "      fill: #FFFFFF;\n",
              "    }\n",
              "  </style>\n",
              "\n",
              "      <script>\n",
              "        const buttonEl =\n",
              "          document.querySelector('#df-2e772abb-0355-44cf-a1c1-32bf6a96673b button.colab-df-convert');\n",
              "        buttonEl.style.display =\n",
              "          google.colab.kernel.accessAllowed ? 'block' : 'none';\n",
              "\n",
              "        async function convertToInteractive(key) {\n",
              "          const element = document.querySelector('#df-2e772abb-0355-44cf-a1c1-32bf6a96673b');\n",
              "          const dataTable =\n",
              "            await google.colab.kernel.invokeFunction('convertToInteractive',\n",
              "                                                     [key], {});\n",
              "          if (!dataTable) return;\n",
              "\n",
              "          const docLinkHtml = 'Like what you see? Visit the ' +\n",
              "            '<a target=\"_blank\" href=https://colab.research.google.com/notebooks/data_table.ipynb>data table notebook</a>'\n",
              "            + ' to learn more about interactive tables.';\n",
              "          element.innerHTML = '';\n",
              "          dataTable['output_type'] = 'display_data';\n",
              "          await google.colab.output.renderOutput(dataTable, element);\n",
              "          const docLink = document.createElement('div');\n",
              "          docLink.innerHTML = docLinkHtml;\n",
              "          element.appendChild(docLink);\n",
              "        }\n",
              "      </script>\n",
              "    </div>\n",
              "  </div>\n",
              "  "
            ]
          },
          "metadata": {},
          "execution_count": 33
        },
        {
          "output_type": "display_data",
          "data": {
            "text/plain": [
              "<Figure size 432x288 with 1 Axes>"
            ],
            "image/png": "[encoded data removed]"
          },
          "metadata": {
            "needs_background": "light"
          }
        }
      ]
    },
    {
      "cell_type": "code",
      "source": [
        "f_income_over_80.get_best(method = 'sumsquare_error')"
      ],
      "metadata": {
        "colab": {
          "base_uri": "https://localhost:8080/"
        },
        "id": "YP7YUFoe5roh",
        "outputId": "58cd6468-e494-4e33-9a02-5006e72713aa"
      },
      "execution_count": 34,
      "outputs": [
        {
          "output_type": "execute_result",
          "data": {
            "text/plain": [
              "{'beta': {'a': 0.2560684861762731,\n",
              "  'b': 0.10360116180931805,\n",
              "  'loc': 11.20482456904541,\n",
              "  'scale': 0.5627431142983995}}"
            ]
          },
          "metadata": {},
          "execution_count": 34
        }
      ]
    },
    {
      "cell_type": "markdown",
      "source": [
        "## **CONCLUSION: LET'S DIVIDE THE GROUPS DIFFERENTLY AND TRUNCATE, HONESTLY.... AND REFORM GROUPS**"
      ],
      "metadata": {
        "id": "qzM6c7Ez6F5S"
      }
    },
    {
      "cell_type": "markdown",
      "source": [
        "## Let's divide income into 2 groups and truncate the rest   \n",
        "Group 1: under 40,000   \n",
        "Group 2: between 40,000 and 90,000"
      ],
      "metadata": {
        "id": "rJHJZiQE8mMw"
      }
    },
    {
      "cell_type": "code",
      "source": [
        "under_40 = news.loc[news['Annual Income'] < 40000]\n",
        "between_40_90 = news.loc[news['Annual Income'].between(40000, 90000, 'both')]\n",
        "\n",
        "sns.displot(under_40['Annual Income'], bins=4)\n",
        "sns.displot(between_40_90['Annual Income'])"
      ],
      "metadata": {
        "colab": {
          "base_uri": "https://localhost:8080/",
          "height": 738
        },
        "id": "Pj82VCq-9iv5",
        "outputId": "13bf2620-923b-4033-b6f9-ee6e115ae93e"
      },
      "execution_count": 35,
      "outputs": [
        {
          "output_type": "execute_result",
          "data": {
            "text/plain": [
              "<seaborn.axisgrid.FacetGrid at 0x7fa606549590>"
            ]
          },
          "metadata": {},
          "execution_count": 35
        },
        {
          "output_type": "display_data",
          "data": {
            "text/plain": [
              "<Figure size 360x360 with 1 Axes>"
            ],
            "image/png": "[encoded data removed]"
          },
          "metadata": {
            "needs_background": "light"
          }
        },
        {
          "output_type": "display_data",
          "data": {
            "text/plain": [
              "<Figure size 360x360 with 1 Axes>"
            ],
            "image/png": "[encoded data removed]"
          },
          "metadata": {
            "needs_background": "light"
          }
        }
      ]
    },
    {
      "cell_type": "markdown",
      "source": [
        "Does log transformation help?"
      ],
      "metadata": {
        "id": "jKf1nqGV9z5k"
      }
    },
    {
      "cell_type": "code",
      "source": [
        "under_40_log = np.log(under_40['Annual Income'])\n",
        "sns.displot(data=under_40_log, bins=4)\n",
        "\n",
        "between_40_90_log = np.log(between_40_90['Annual Income'])\n",
        "sns.displot(data=between_40_90_log)"
      ],
      "metadata": {
        "colab": {
          "base_uri": "https://localhost:8080/",
          "height": 738
        },
        "id": "GWKpCFCR8uXe",
        "outputId": "7e43709b-abf3-436d-b259-51e222c10bbe"
      },
      "execution_count": 36,
      "outputs": [
        {
          "output_type": "execute_result",
          "data": {
            "text/plain": [
              "<seaborn.axisgrid.FacetGrid at 0x7fa60639b390>"
            ]
          },
          "metadata": {},
          "execution_count": 36
        },
        {
          "output_type": "display_data",
          "data": {
            "text/plain": [
              "<Figure size 360x360 with 1 Axes>"
            ],
            "image/png": "[encoded data removed]"
          },
          "metadata": {
            "needs_background": "light"
          }
        },
        {
          "output_type": "display_data",
          "data": {
            "text/plain": [
              "<Figure size 360x360 with 1 Axes>"
            ],
            "image/png": "[encoded data removed]"
          },
          "metadata": {
            "needs_background": "light"
          }
        }
      ]
    },
    {
      "cell_type": "markdown",
      "source": [
        "Yes it does.   \n",
        "## Conclusion: truncating the income variable at 90,000 for outliers higher than this value creates a better distribution."
      ],
      "metadata": {
        "id": "52aqxWhf9A6-"
      }
    },
    {
      "cell_type": "markdown",
      "source": [
        "Let's get a model -- LOG(under 40 group 1)"
      ],
      "metadata": {
        "id": "AYHKWPTZ-IVN"
      }
    },
    {
      "cell_type": "code",
      "source": [
        "from fitter import Fitter, get_common_distributions, get_distributions\n",
        "income_under_40 = under_40_log.values\n",
        "f_income_under_40 = Fitter(income_under_40,\n",
        "           distributions=['gamma',\n",
        "                          'lognorm',\n",
        "                          \"beta\",\n",
        "                          \"burr\",\n",
        "                          \"norm\"], bins=5)\n",
        "f_income_under_40.fit()\n",
        "f_income_under_40.summary()"
      ],
      "metadata": {
        "colab": {
          "base_uri": "https://localhost:8080/",
          "height": 506
        },
        "id": "mzxT8LXr808c",
        "outputId": "4dd769f4-0391-421e-abcb-5ffb1144f8bd"
      },
      "execution_count": 37,
      "outputs": [
        {
          "output_type": "stream",
          "name": "stderr",
          "text": [
            "Fitting 5 distributions:  20%|██        | 1/5 [00:00<00:01,  3.68it/s]WARNING:root:SKIPPED beta distribution (taking more than 30 seconds)\n",
            "Fitting 5 distributions: 100%|██████████| 5/5 [00:00<00:00,  8.10it/s]\n",
            "WARNING:fitter.fitter:beta was not fitted. no parameters available\n"
          ]
        },
        {
          "output_type": "execute_result",
          "data": {
            "text/plain": [
              "         sumsquare_error        aic         bic    kl_div  ks_statistic  \\\n",
              "burr            0.595785  22.328565 -113.612645  0.449657      0.348554   \n",
              "norm            1.185211  14.876667  -98.534606  0.605110      0.352437   \n",
              "lognorm         1.212822  16.797070  -94.331935  0.616155      0.356570   \n",
              "gamma           1.228267  16.760349  -93.927013  0.621922      0.359060   \n",
              "beta                 inf        inf         inf       inf           NaN   \n",
              "\n",
              "         ks_pvalue  \n",
              "burr      0.000559  \n",
              "norm      0.000464  \n",
              "lognorm   0.000380  \n",
              "gamma     0.000336  \n",
              "beta           NaN  "
            ],
            "text/html": [
              "\n",
              "  <div id=\"df-1452e5ff-2f17-4b93-857e-c2276978a527\">\n",
              "    <div class=\"colab-df-container\">\n",
              "      <div>\n",
              "<style scoped>\n",
              "    .dataframe tbody tr th:only-of-type {\n",
              "        vertical-align: middle;\n",
              "    }\n",
              "\n",
              "    .dataframe tbody tr th {\n",
              "        vertical-align: top;\n",
              "    }\n",
              "\n",
              "    .dataframe thead th {\n",
              "        text-align: right;\n",
              "    }\n",
              "</style>\n",
              "<table border=\"1\" class=\"dataframe\">\n",
              "  <thead>\n",
              "    <tr style=\"text-align: right;\">\n",
              "      <th></th>\n",
              "      <th>sumsquare_error</th>\n",
              "      <th>aic</th>\n",
              "      <th>bic</th>\n",
              "      <th>kl_div</th>\n",
              "      <th>ks_statistic</th>\n",
              "      <th>ks_pvalue</th>\n",
              "    </tr>\n",
              "  </thead>\n",
              "  <tbody>\n",
              "    <tr>\n",
              "      <th>burr</th>\n",
              "      <td>0.595785</td>\n",
              "      <td>22.328565</td>\n",
              "      <td>-113.612645</td>\n",
              "      <td>0.449657</td>\n",
              "      <td>0.348554</td>\n",
              "      <td>0.000559</td>\n",
              "    </tr>\n",
              "    <tr>\n",
              "      <th>norm</th>\n",
              "      <td>1.185211</td>\n",
              "      <td>14.876667</td>\n",
              "      <td>-98.534606</td>\n",
              "      <td>0.605110</td>\n",
              "      <td>0.352437</td>\n",
              "      <td>0.000464</td>\n",
              "    </tr>\n",
              "    <tr>\n",
              "      <th>lognorm</th>\n",
              "      <td>1.212822</td>\n",
              "      <td>16.797070</td>\n",
              "      <td>-94.331935</td>\n",
              "      <td>0.616155</td>\n",
              "      <td>0.356570</td>\n",
              "      <td>0.000380</td>\n",
              "    </tr>\n",
              "    <tr>\n",
              "      <th>gamma</th>\n",
              "      <td>1.228267</td>\n",
              "      <td>16.760349</td>\n",
              "      <td>-93.927013</td>\n",
              "      <td>0.621922</td>\n",
              "      <td>0.359060</td>\n",
              "      <td>0.000336</td>\n",
              "    </tr>\n",
              "    <tr>\n",
              "      <th>beta</th>\n",
              "      <td>inf</td>\n",
              "      <td>inf</td>\n",
              "      <td>inf</td>\n",
              "      <td>inf</td>\n",
              "      <td>NaN</td>\n",
              "      <td>NaN</td>\n",
              "    </tr>\n",
              "  </tbody>\n",
              "</table>\n",
              "</div>\n",
              "      <button class=\"colab-df-convert\" onclick=\"convertToInteractive('df-1452e5ff-2f17-4b93-857e-c2276978a527')\"\n",
              "              title=\"Convert this dataframe to an interactive table.\"\n",
              "              style=\"display:none;\">\n",
              "        \n",
              "  <svg xmlns=\"http://www.w3.org/2000/svg\" height=\"24px\"viewBox=\"0 0 24 24\"\n",
              "       width=\"24px\">\n",
              "    <path d=\"M0 0h24v24H0V0z\" fill=\"none\"/>\n",
              "    <path d=\"M18.56 5.44l.94 2.06.94-2.06 2.06-.94-2.06-.94-.94-2.06-.94 2.06-2.06.94zm-11 1L8.5 8.5l.94-2.06 2.06-.94-2.06-.94L8.5 2.5l-.94 2.06-2.06.94zm10 10l.94 2.06.94-2.06 2.06-.94-2.06-.94-.94-2.06-.94 2.06-2.06.94z\"/><path d=\"M17.41 7.96l-1.37-1.37c-.4-.4-.92-.59-1.43-.59-.52 0-1.04.2-1.43.59L10.3 9.45l-7.72 7.72c-.78.78-.78 2.05 0 2.83L4 21.41c.39.39.9.59 1.41.59.51 0 1.02-.2 1.41-.59l7.78-7.78 2.81-2.81c.8-.78.8-2.07 0-2.86zM5.41 20L4 18.59l7.72-7.72 1.47 1.35L5.41 20z\"/>\n",
              "  </svg>\n",
              "      </button>\n",
              "      \n",
              "  <style>\n",
              "    .colab-df-container {\n",
              "      display:flex;\n",
              "      flex-wrap:wrap;\n",
              "      gap: 12px;\n",
              "    }\n",
              "\n",
              "    .colab-df-convert {\n",
              "      background-color: #E8F0FE;\n",
              "      border: none;\n",
              "      border-radius: 50%;\n",
              "      cursor: pointer;\n",
              "      display: none;\n",
              "      fill: #1967D2;\n",
              "      height: 32px;\n",
              "      padding: 0 0 0 0;\n",
              "      width: 32px;\n",
              "    }\n",
              "\n",
              "    .colab-df-convert:hover {\n",
              "      background-color: #E2EBFA;\n",
              "      box-shadow: 0px 1px 2px rgba(60, 64, 67, 0.3), 0px 1px 3px 1px rgba(60, 64, 67, 0.15);\n",
              "      fill: #174EA6;\n",
              "    }\n",
              "\n",
              "    [theme=dark] .colab-df-convert {\n",
              "      background-color: #3B4455;\n",
              "      fill: #D2E3FC;\n",
              "    }\n",
              "\n",
              "    [theme=dark] .colab-df-convert:hover {\n",
              "      background-color: #434B5C;\n",
              "      box-shadow: 0px 1px 3px 1px rgba(0, 0, 0, 0.15);\n",
              "      filter: drop-shadow(0px 1px 2px rgba(0, 0, 0, 0.3));\n",
              "      fill: #FFFFFF;\n",
              "    }\n",
              "  </style>\n",
              "\n",
              "      <script>\n",
              "        const buttonEl =\n",
              "          document.querySelector('#df-1452e5ff-2f17-4b93-857e-c2276978a527 button.colab-df-convert');\n",
              "        buttonEl.style.display =\n",
              "          google.colab.kernel.accessAllowed ? 'block' : 'none';\n",
              "\n",
              "        async function convertToInteractive(key) {\n",
              "          const element = document.querySelector('#df-1452e5ff-2f17-4b93-857e-c2276978a527');\n",
              "          const dataTable =\n",
              "            await google.colab.kernel.invokeFunction('convertToInteractive',\n",
              "                                                     [key], {});\n",
              "          if (!dataTable) return;\n",
              "\n",
              "          const docLinkHtml = 'Like what you see? Visit the ' +\n",
              "            '<a target=\"_blank\" href=https://colab.research.google.com/notebooks/data_table.ipynb>data table notebook</a>'\n",
              "            + ' to learn more about interactive tables.';\n",
              "          element.innerHTML = '';\n",
              "          dataTable['output_type'] = 'display_data';\n",
              "          await google.colab.output.renderOutput(dataTable, element);\n",
              "          const docLink = document.createElement('div');\n",
              "          docLink.innerHTML = docLinkHtml;\n",
              "          element.appendChild(docLink);\n",
              "        }\n",
              "      </script>\n",
              "    </div>\n",
              "  </div>\n",
              "  "
            ]
          },
          "metadata": {},
          "execution_count": 37
        },
        {
          "output_type": "display_data",
          "data": {
            "text/plain": [
              "<Figure size 432x288 with 1 Axes>"
            ],
            "image/png": "[encoded data removed]"
          },
          "metadata": {
            "needs_background": "light"
          }
        }
      ]
    },
    {
      "cell_type": "code",
      "source": [
        "f_income_under_40.get_best(method = 'sumsquare_error')"
      ],
      "metadata": {
        "id": "8pqpiJ98_Rmh",
        "colab": {
          "base_uri": "https://localhost:8080/"
        },
        "outputId": "92cd6dcb-a7d8-4366-f083-b3eb2d4d32d8"
      },
      "execution_count": 38,
      "outputs": [
        {
          "output_type": "execute_result",
          "data": {
            "text/plain": [
              "{'burr': {'c': 60.57823574710625,\n",
              "  'd': 0.6116436572613504,\n",
              "  'loc': 0.28501362354293047,\n",
              "  'scale': 9.032268658605606}}"
            ]
          },
          "metadata": {},
          "execution_count": 38
        }
      ]
    },
    {
      "cell_type": "markdown",
      "source": [
        "LOG(GROUP 2-- between 40 and 90)"
      ],
      "metadata": {
        "id": "ADulLDsy-jnR"
      }
    },
    {
      "cell_type": "code",
      "source": [
        "from fitter import Fitter, get_common_distributions, get_distributions\n",
        "income_between_40_90 = between_40_90_log.values\n",
        "f_income_between_40_90 = Fitter(income_between_40_90 ,\n",
        "           distributions=['gamma',\n",
        "                          'lognorm',\n",
        "                          \"beta\",\n",
        "                          \"burr\",\n",
        "                          \"norm\"], bins=6)\n",
        "f_income_between_40_90.fit()\n",
        "f_income_between_40_90.summary()"
      ],
      "metadata": {
        "colab": {
          "base_uri": "https://localhost:8080/",
          "height": 471
        },
        "id": "Chq947P680_D",
        "outputId": "d2e2e6d8-171c-44ea-b0c5-9a12ba399944"
      },
      "execution_count": 39,
      "outputs": [
        {
          "output_type": "stream",
          "name": "stderr",
          "text": [
            "Fitting 5 distributions: 100%|██████████| 5/5 [00:00<00:00,  7.00it/s]\n"
          ]
        },
        {
          "output_type": "execute_result",
          "data": {
            "text/plain": [
              "         sumsquare_error       aic         bic    kl_div  ks_statistic  \\\n",
              "norm            3.516353  3.948058 -124.905883  0.123889      0.148915   \n",
              "gamma           3.831354  5.312071 -116.704173  0.136613      0.179251   \n",
              "lognorm         3.842081  5.426888 -116.564374  0.136520      0.175421   \n",
              "burr            4.128976  7.011970 -109.051592  0.152959      0.201211   \n",
              "beta            6.442360  9.301712  -86.808309  0.370753      0.378191   \n",
              "\n",
              "            ks_pvalue  \n",
              "norm     1.967019e-01  \n",
              "gamma    7.070703e-02  \n",
              "lognorm  8.131429e-02  \n",
              "burr     2.990207e-02  \n",
              "beta     6.180609e-07  "
            ],
            "text/html": [
              "\n",
              "  <div id=\"df-f42ab086-90c2-440d-8d5e-847851d84d74\">\n",
              "    <div class=\"colab-df-container\">\n",
              "      <div>\n",
              "<style scoped>\n",
              "    .dataframe tbody tr th:only-of-type {\n",
              "        vertical-align: middle;\n",
              "    }\n",
              "\n",
              "    .dataframe tbody tr th {\n",
              "        vertical-align: top;\n",
              "    }\n",
              "\n",
              "    .dataframe thead th {\n",
              "        text-align: right;\n",
              "    }\n",
              "</style>\n",
              "<table border=\"1\" class=\"dataframe\">\n",
              "  <thead>\n",
              "    <tr style=\"text-align: right;\">\n",
              "      <th></th>\n",
              "      <th>sumsquare_error</th>\n",
              "      <th>aic</th>\n",
              "      <th>bic</th>\n",
              "      <th>kl_div</th>\n",
              "      <th>ks_statistic</th>\n",
              "      <th>ks_pvalue</th>\n",
              "    </tr>\n",
              "  </thead>\n",
              "  <tbody>\n",
              "    <tr>\n",
              "      <th>norm</th>\n",
              "      <td>3.516353</td>\n",
              "      <td>3.948058</td>\n",
              "      <td>-124.905883</td>\n",
              "      <td>0.123889</td>\n",
              "      <td>0.148915</td>\n",
              "      <td>1.967019e-01</td>\n",
              "    </tr>\n",
              "    <tr>\n",
              "      <th>gamma</th>\n",
              "      <td>3.831354</td>\n",
              "      <td>5.312071</td>\n",
              "      <td>-116.704173</td>\n",
              "      <td>0.136613</td>\n",
              "      <td>0.179251</td>\n",
              "      <td>7.070703e-02</td>\n",
              "    </tr>\n",
              "    <tr>\n",
              "      <th>lognorm</th>\n",
              "      <td>3.842081</td>\n",
              "      <td>5.426888</td>\n",
              "      <td>-116.564374</td>\n",
              "      <td>0.136520</td>\n",
              "      <td>0.175421</td>\n",
              "      <td>8.131429e-02</td>\n",
              "    </tr>\n",
              "    <tr>\n",
              "      <th>burr</th>\n",
              "      <td>4.128976</td>\n",
              "      <td>7.011970</td>\n",
              "      <td>-109.051592</td>\n",
              "      <td>0.152959</td>\n",
              "      <td>0.201211</td>\n",
              "      <td>2.990207e-02</td>\n",
              "    </tr>\n",
              "    <tr>\n",
              "      <th>beta</th>\n",
              "      <td>6.442360</td>\n",
              "      <td>9.301712</td>\n",
              "      <td>-86.808309</td>\n",
              "      <td>0.370753</td>\n",
              "      <td>0.378191</td>\n",
              "      <td>6.180609e-07</td>\n",
              "    </tr>\n",
              "  </tbody>\n",
              "</table>\n",
              "</div>\n",
              "      <button class=\"colab-df-convert\" onclick=\"convertToInteractive('df-f42ab086-90c2-440d-8d5e-847851d84d74')\"\n",
              "              title=\"Convert this dataframe to an interactive table.\"\n",
              "              style=\"display:none;\">\n",
              "        \n",
              "  <svg xmlns=\"http://www.w3.org/2000/svg\" height=\"24px\"viewBox=\"0 0 24 24\"\n",
              "       width=\"24px\">\n",
              "    <path d=\"M0 0h24v24H0V0z\" fill=\"none\"/>\n",
              "    <path d=\"M18.56 5.44l.94 2.06.94-2.06 2.06-.94-2.06-.94-.94-2.06-.94 2.06-2.06.94zm-11 1L8.5 8.5l.94-2.06 2.06-.94-2.06-.94L8.5 2.5l-.94 2.06-2.06.94zm10 10l.94 2.06.94-2.06 2.06-.94-2.06-.94-.94-2.06-.94 2.06-2.06.94z\"/><path d=\"M17.41 7.96l-1.37-1.37c-.4-.4-.92-.59-1.43-.59-.52 0-1.04.2-1.43.59L10.3 9.45l-7.72 7.72c-.78.78-.78 2.05 0 2.83L4 21.41c.39.39.9.59 1.41.59.51 0 1.02-.2 1.41-.59l7.78-7.78 2.81-2.81c.8-.78.8-2.07 0-2.86zM5.41 20L4 18.59l7.72-7.72 1.47 1.35L5.41 20z\"/>\n",
              "  </svg>\n",
              "      </button>\n",
              "      \n",
              "  <style>\n",
              "    .colab-df-container {\n",
              "      display:flex;\n",
              "      flex-wrap:wrap;\n",
              "      gap: 12px;\n",
              "    }\n",
              "\n",
              "    .colab-df-convert {\n",
              "      background-color: #E8F0FE;\n",
              "      border: none;\n",
              "      border-radius: 50%;\n",
              "      cursor: pointer;\n",
              "      display: none;\n",
              "      fill: #1967D2;\n",
              "      height: 32px;\n",
              "      padding: 0 0 0 0;\n",
              "      width: 32px;\n",
              "    }\n",
              "\n",
              "    .colab-df-convert:hover {\n",
              "      background-color: #E2EBFA;\n",
              "      box-shadow: 0px 1px 2px rgba(60, 64, 67, 0.3), 0px 1px 3px 1px rgba(60, 64, 67, 0.15);\n",
              "      fill: #174EA6;\n",
              "    }\n",
              "\n",
              "    [theme=dark] .colab-df-convert {\n",
              "      background-color: #3B4455;\n",
              "      fill: #D2E3FC;\n",
              "    }\n",
              "\n",
              "    [theme=dark] .colab-df-convert:hover {\n",
              "      background-color: #434B5C;\n",
              "      box-shadow: 0px 1px 3px 1px rgba(0, 0, 0, 0.15);\n",
              "      filter: drop-shadow(0px 1px 2px rgba(0, 0, 0, 0.3));\n",
              "      fill: #FFFFFF;\n",
              "    }\n",
              "  </style>\n",
              "\n",
              "      <script>\n",
              "        const buttonEl =\n",
              "          document.querySelector('#df-f42ab086-90c2-440d-8d5e-847851d84d74 button.colab-df-convert');\n",
              "        buttonEl.style.display =\n",
              "          google.colab.kernel.accessAllowed ? 'block' : 'none';\n",
              "\n",
              "        async function convertToInteractive(key) {\n",
              "          const element = document.querySelector('#df-f42ab086-90c2-440d-8d5e-847851d84d74');\n",
              "          const dataTable =\n",
              "            await google.colab.kernel.invokeFunction('convertToInteractive',\n",
              "                                                     [key], {});\n",
              "          if (!dataTable) return;\n",
              "\n",
              "          const docLinkHtml = 'Like what you see? Visit the ' +\n",
              "            '<a target=\"_blank\" href=https://colab.research.google.com/notebooks/data_table.ipynb>data table notebook</a>'\n",
              "            + ' to learn more about interactive tables.';\n",
              "          element.innerHTML = '';\n",
              "          dataTable['output_type'] = 'display_data';\n",
              "          await google.colab.output.renderOutput(dataTable, element);\n",
              "          const docLink = document.createElement('div');\n",
              "          docLink.innerHTML = docLinkHtml;\n",
              "          element.appendChild(docLink);\n",
              "        }\n",
              "      </script>\n",
              "    </div>\n",
              "  </div>\n",
              "  "
            ]
          },
          "metadata": {},
          "execution_count": 39
        },
        {
          "output_type": "display_data",
          "data": {
            "text/plain": [
              "<Figure size 432x288 with 1 Axes>"
            ],
            "image/png": "[encoded data removed]"
          },
          "metadata": {
            "needs_background": "light"
          }
        }
      ]
    },
    {
      "cell_type": "code",
      "source": [
        "f_income_between_40_90.get_best(method = 'sumsquare_error')"
      ],
      "metadata": {
        "colab": {
          "base_uri": "https://localhost:8080/"
        },
        "id": "tkQsAMWn_WtY",
        "outputId": "7a2f01c2-8918-43a3-b0f3-1d374ed66244"
      },
      "execution_count": 40,
      "outputs": [
        {
          "output_type": "execute_result",
          "data": {
            "text/plain": [
              "{'norm': {'loc': 10.974411409462045, 'scale': 0.1594850164574259}}"
            ]
          },
          "metadata": {},
          "execution_count": 40
        }
      ]
    },
    {
      "cell_type": "markdown",
      "source": [
        "## TRUNCATING ANNUAL INCOME TO STOP AT 90,000 IS WAY BETTER FOR THE AIC AND DISTRIBUTION for the second subpopulation!!"
      ],
      "metadata": {
        "id": "ikABiTMK-8bQ"
      }
    },
    {
      "cell_type": "code",
      "source": [],
      "metadata": {
        "id": "b3F8bbIE_DOP"
      },
      "execution_count": 40,
      "outputs": []
    },
    {
      "cell_type": "code",
      "source": [],
      "metadata": {
        "id": "ZC_Sgqdf_DQo"
      },
      "execution_count": 40,
      "outputs": []
    },
    {
      "cell_type": "code",
      "source": [],
      "metadata": {
        "id": "Em9YOW1Y_DTH"
      },
      "execution_count": 40,
      "outputs": []
    },
    {
      "cell_type": "code",
      "source": [],
      "metadata": {
        "id": "NpxT2_cZ_EC0"
      },
      "execution_count": 40,
      "outputs": []
    },
    {
      "cell_type": "markdown",
      "source": [
        "## Hypothesis tests -- STATISTICAL INFERENCE"
      ],
      "metadata": {
        "id": "bFq2sqAhJ3Qe"
      }
    },
    {
      "cell_type": "markdown",
      "source": [
        "## Statistical Inference of one variable  \n",
        "\n",
        "\n",
        "\n"
      ],
      "metadata": {
        "id": "f7DeRitpJxJH"
      }
    },
    {
      "cell_type": "code",
      "source": [
        "fig = plt.figure(figsize=(6,4)) # define plot area\n",
        "ax = fig.gca() # define axis  \n",
        "    \n",
        "counts = news['num_reliable'].value_counts() # find the counts for each unique category\n",
        "counts.plot.bar(ax = ax) # Use the plot.bar method on the counts data frame\n",
        "ax.set_title('Bar plot for Number of Reliable Sources')\n",
        "plt.xticks(rotation=45)"
      ],
      "metadata": {
        "colab": {
          "base_uri": "https://localhost:8080/",
          "height": 300
        },
        "id": "VtIHMufKfnC_",
        "outputId": "48d58019-1992-43c6-c3d3-311a26139e66"
      },
      "execution_count": null,
      "outputs": [
        {
          "output_type": "execute_result",
          "data": {
            "text/plain": [
              "(array([0, 1, 2, 3, 4, 5]), <a list of 6 Text major ticklabel objects>)"
            ]
          },
          "metadata": {},
          "execution_count": 96
        },
        {
          "output_type": "display_data",
          "data": {
            "text/plain": [
              "<Figure size 432x288 with 1 Axes>"
            ],
            "image/png": "[encoded data removed]"
          },
          "metadata": {
            "needs_background": "light"
          }
        }
      ]
    },
    {
      "cell_type": "markdown",
      "source": [
        "## NUM_RELIABLE  \n",
        "According to the news given in https://www.pewresearch.org/journalism/2019/03/26/americans-give-fairly-high-marks-to-their-local-news-media-especially-when-journalists-are-seen-as-connected-to-the-community/, about 71% of adult Americans think that the media reports news accurately. However, it is known that people usually only trust 1 or none of the sources listed out of 4 if 2 are left leaning and 2 are right leaning. (This is different from the number of sources they agree with). So, using data from the survey, I will perform a hypothesis test to see if there is statistical evidence that the mean of this sample for the variable NUM_RELIABLE is equal to the hypothesized or known population mean, 1.  \n",
        "\n",
        " We will assume that NUM_RELIABLE, which is actually just the number of sources the respondants in the survey find reliable, follows a normal distribution with unknown variance. \n",
        "  \n",
        "   If the p-value is smaller than alpha, we can reject the test with a level of significance alpha.   \n",
        "     \n",
        "  **Note: We are able to use a t-test here because of the CENTRAL LIMIT THEOREM which states that if the sample size is large enough, the sample distribution of the MEAN will always be normally distributed or APPROACH A NORMAL DISTRIBUTION. Regardless of whether the population has a normal, Poisson, binomial, or any other distribution, the sampling distribution of the mean will be normal [1].**"
      ],
      "metadata": {
        "id": "lW4URGjzv9W5"
      }
    },
    {
      "cell_type": "code",
      "source": [
        "news[['num_reliable']].agg([np.mean,np.std]).round(2)"
      ],
      "metadata": {
        "colab": {
          "base_uri": "https://localhost:8080/",
          "height": 112
        },
        "id": "yFNBwodHnSKx",
        "outputId": "bfc3d2e6-b4d3-4a48-8752-d8d59330e2bd"
      },
      "execution_count": 41,
      "outputs": [
        {
          "output_type": "execute_result",
          "data": {
            "text/plain": [
              "      num_reliable\n",
              "mean          1.85\n",
              "std           1.24"
            ],
            "text/html": [
              "\n",
              "  <div id=\"df-c7375f47-cd2a-4598-9bc1-7e54f34fcc96\">\n",
              "    <div class=\"colab-df-container\">\n",
              "      <div>\n",
              "<style scoped>\n",
              "    .dataframe tbody tr th:only-of-type {\n",
              "        vertical-align: middle;\n",
              "    }\n",
              "\n",
              "    .dataframe tbody tr th {\n",
              "        vertical-align: top;\n",
              "    }\n",
              "\n",
              "    .dataframe thead th {\n",
              "        text-align: right;\n",
              "    }\n",
              "</style>\n",
              "<table border=\"1\" class=\"dataframe\">\n",
              "  <thead>\n",
              "    <tr style=\"text-align: right;\">\n",
              "      <th></th>\n",
              "      <th>num_reliable</th>\n",
              "    </tr>\n",
              "  </thead>\n",
              "  <tbody>\n",
              "    <tr>\n",
              "      <th>mean</th>\n",
              "      <td>1.85</td>\n",
              "    </tr>\n",
              "    <tr>\n",
              "      <th>std</th>\n",
              "      <td>1.24</td>\n",
              "    </tr>\n",
              "  </tbody>\n",
              "</table>\n",
              "</div>\n",
              "      <button class=\"colab-df-convert\" onclick=\"convertToInteractive('df-c7375f47-cd2a-4598-9bc1-7e54f34fcc96')\"\n",
              "              title=\"Convert this dataframe to an interactive table.\"\n",
              "              style=\"display:none;\">\n",
              "        \n",
              "  <svg xmlns=\"http://www.w3.org/2000/svg\" height=\"24px\"viewBox=\"0 0 24 24\"\n",
              "       width=\"24px\">\n",
              "    <path d=\"M0 0h24v24H0V0z\" fill=\"none\"/>\n",
              "    <path d=\"M18.56 5.44l.94 2.06.94-2.06 2.06-.94-2.06-.94-.94-2.06-.94 2.06-2.06.94zm-11 1L8.5 8.5l.94-2.06 2.06-.94-2.06-.94L8.5 2.5l-.94 2.06-2.06.94zm10 10l.94 2.06.94-2.06 2.06-.94-2.06-.94-.94-2.06-.94 2.06-2.06.94z\"/><path d=\"M17.41 7.96l-1.37-1.37c-.4-.4-.92-.59-1.43-.59-.52 0-1.04.2-1.43.59L10.3 9.45l-7.72 7.72c-.78.78-.78 2.05 0 2.83L4 21.41c.39.39.9.59 1.41.59.51 0 1.02-.2 1.41-.59l7.78-7.78 2.81-2.81c.8-.78.8-2.07 0-2.86zM5.41 20L4 18.59l7.72-7.72 1.47 1.35L5.41 20z\"/>\n",
              "  </svg>\n",
              "      </button>\n",
              "      \n",
              "  <style>\n",
              "    .colab-df-container {\n",
              "      display:flex;\n",
              "      flex-wrap:wrap;\n",
              "      gap: 12px;\n",
              "    }\n",
              "\n",
              "    .colab-df-convert {\n",
              "      background-color: #E8F0FE;\n",
              "      border: none;\n",
              "      border-radius: 50%;\n",
              "      cursor: pointer;\n",
              "      display: none;\n",
              "      fill: #1967D2;\n",
              "      height: 32px;\n",
              "      padding: 0 0 0 0;\n",
              "      width: 32px;\n",
              "    }\n",
              "\n",
              "    .colab-df-convert:hover {\n",
              "      background-color: #E2EBFA;\n",
              "      box-shadow: 0px 1px 2px rgba(60, 64, 67, 0.3), 0px 1px 3px 1px rgba(60, 64, 67, 0.15);\n",
              "      fill: #174EA6;\n",
              "    }\n",
              "\n",
              "    [theme=dark] .colab-df-convert {\n",
              "      background-color: #3B4455;\n",
              "      fill: #D2E3FC;\n",
              "    }\n",
              "\n",
              "    [theme=dark] .colab-df-convert:hover {\n",
              "      background-color: #434B5C;\n",
              "      box-shadow: 0px 1px 3px 1px rgba(0, 0, 0, 0.15);\n",
              "      filter: drop-shadow(0px 1px 2px rgba(0, 0, 0, 0.3));\n",
              "      fill: #FFFFFF;\n",
              "    }\n",
              "  </style>\n",
              "\n",
              "      <script>\n",
              "        const buttonEl =\n",
              "          document.querySelector('#df-c7375f47-cd2a-4598-9bc1-7e54f34fcc96 button.colab-df-convert');\n",
              "        buttonEl.style.display =\n",
              "          google.colab.kernel.accessAllowed ? 'block' : 'none';\n",
              "\n",
              "        async function convertToInteractive(key) {\n",
              "          const element = document.querySelector('#df-c7375f47-cd2a-4598-9bc1-7e54f34fcc96');\n",
              "          const dataTable =\n",
              "            await google.colab.kernel.invokeFunction('convertToInteractive',\n",
              "                                                     [key], {});\n",
              "          if (!dataTable) return;\n",
              "\n",
              "          const docLinkHtml = 'Like what you see? Visit the ' +\n",
              "            '<a target=\"_blank\" href=https://colab.research.google.com/notebooks/data_table.ipynb>data table notebook</a>'\n",
              "            + ' to learn more about interactive tables.';\n",
              "          element.innerHTML = '';\n",
              "          dataTable['output_type'] = 'display_data';\n",
              "          await google.colab.output.renderOutput(dataTable, element);\n",
              "          const docLink = document.createElement('div');\n",
              "          docLink.innerHTML = docLinkHtml;\n",
              "          element.appendChild(docLink);\n",
              "        }\n",
              "      </script>\n",
              "    </div>\n",
              "  </div>\n",
              "  "
            ]
          },
          "metadata": {},
          "execution_count": 41
        }
      ]
    },
    {
      "cell_type": "markdown",
      "source": [
        "We now examine the true population mean, which in the real world is 1, because out of 4 sources (two right leaning and two left leaning), people on average tend to trust only 1 OR 0.  \n",
        "We are interested in rejecting the null hypothesis and finding statistical evidence for the alternative."
      ],
      "metadata": {
        "id": "P2VCU3TUZg7F"
      }
    },
    {
      "cell_type": "markdown",
      "source": [
        "In our sample, on average, people trust 1.85 sources listed.   \n",
        "\n",
        "This is half the number of sources listed in the survey. **We form two hypotheses.**   \n",
        "\n",
        "\n",
        "> **Hypothesis 0:** Sample mean is equal to the hypothesized or known population mean: **mean(num_reliable_sources) = 1**\n",
        "\n",
        "\n",
        "\n",
        "> **Hypothesis 1:** Sample mean is less than the known population mean  \n",
        "**mean(num_reliable_sources) < 1**   \n",
        "\n",
        "> **Hypothesis 2:** Sample mean is greater than the known population mean:   \n",
        "**mean(num_reliable_sources) > 1**  "
      ],
      "metadata": {
        "id": "soT7wUMpGuFz"
      }
    },
    {
      "cell_type": "markdown",
      "source": [
        "The sample t-test formula is:\n"
      ],
      "metadata": {
        "id": "L5GivUl4bo96"
      }
    },
    {
      "cell_type": "markdown",
      "source": [
        "![image.png](data:image/png;base64,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)"
      ],
      "metadata": {
        "id": "43dUwYtObk9c"
      }
    },
    {
      "cell_type": "markdown",
      "source": [
        "and follows approximately a t-distribution with n-1 degrees of freedom. x bar is the sample mean, u is the known mean, s is the sample standard deviation (an estimate of the population standard deviation), and n is the sample size.     \n",
        "  \n",
        "  Our t test also calculates a confidence interval for u, the known population mean, for which the formula is:"
      ],
      "metadata": {
        "id": "oL-9W2ODbsUY"
      }
    },
    {
      "cell_type": "markdown",
      "source": [
        "![image.png](data:image/png;base64,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)"
      ],
      "metadata": {
        "id": "4x3rXt5BcTxf"
      }
    },
    {
      "cell_type": "code",
      "source": [
        "# mean(num_reliable_sources) = 1\n",
        "a = news['num_reliable'].to_numpy()\n",
        "stats.ttest_1samp(a=a, popmean=1, alternative='two-sided')"
      ],
      "metadata": {
        "colab": {
          "base_uri": "https://localhost:8080/"
        },
        "id": "tyLkrGNAPBvx",
        "outputId": "f2c88aab-9ee6-42e9-fd48-53e190f0824a"
      },
      "execution_count": 43,
      "outputs": [
        {
          "output_type": "execute_result",
          "data": {
            "text/plain": [
              "Ttest_1sampResult(statistic=6.378252182095851, pvalue=8.647273902972714e-09)"
            ]
          },
          "metadata": {},
          "execution_count": 43
        }
      ]
    },
    {
      "cell_type": "markdown",
      "source": [
        "**Conclusion:**  \n",
        "\n",
        "The test is not significant for either of the tests. We have p > 0.05. So we will not reject the null hypothesis. So, it is true that Hypothesis 0 can not be rejected, but even so, we can not necessarily find evidence for Hypothesis 1. However, this doesn't mean there is evidence that Hypothesis is true either!!"
      ],
      "metadata": {
        "id": "xEB25_hYQMlZ"
      }
    },
    {
      "cell_type": "markdown",
      "source": [
        "**Confidence Intervals** : Also, we see a confidence interval for the mean of this variable should be between 1.58 and 2.11. This is also NOT the actual variable or its distribution."
      ],
      "metadata": {
        "id": "yJU1_yV9kT5t"
      }
    },
    {
      "cell_type": "code",
      "source": [
        "res = stat()\n",
        "res.ttest(df=news, test_type=1, res='num_reliable', mu=1)\n",
        "print(res.summary)"
      ],
      "metadata": {
        "colab": {
          "base_uri": "https://localhost:8080/"
        },
        "id": "AV5C5oD1tOHU",
        "outputId": "ce1c8dfc-062f-435a-857c-277ccce16da4"
      },
      "execution_count": 45,
      "outputs": [
        {
          "output_type": "stream",
          "name": "stdout",
          "text": [
            "\n",
            "One Sample t-test \n",
            "\n",
            "------------------  ------------\n",
            "Sample size         87\n",
            "Mean                 1.85057\n",
            "t                    6.37825\n",
            "Df                  86\n",
            "p value (one-tail)   4.32364e-09\n",
            "p value (two-tail)   8.64727e-09\n",
            "Lower 95.0%          1.58547\n",
            "Upper 95.0%          2.11568\n",
            "------------------  ------------\n"
          ]
        }
      ]
    },
    {
      "cell_type": "markdown",
      "source": [
        "## ANNUAL INCOME "
      ],
      "metadata": {
        "id": "UgazbnwNf_Oe"
      }
    },
    {
      "cell_type": "code",
      "source": [
        "sns.displot(news['Annual Income'])"
      ],
      "metadata": {
        "colab": {
          "base_uri": "https://localhost:8080/",
          "height": 386
        },
        "id": "tnfyyBr1f8qR",
        "outputId": "cecb2eb7-5f09-4ea5-ffc4-71e915fd1b94"
      },
      "execution_count": null,
      "outputs": [
        {
          "output_type": "execute_result",
          "data": {
            "text/plain": [
              "<seaborn.axisgrid.FacetGrid at 0x7f2689193b10>"
            ]
          },
          "metadata": {},
          "execution_count": 100
        },
        {
          "output_type": "display_data",
          "data": {
            "text/plain": [
              "<Figure size 360x360 with 1 Axes>"
            ],
            "image/png": "[encoded data removed]"
          },
          "metadata": {
            "needs_background": "light"
          }
        }
      ]
    },
    {
      "cell_type": "markdown",
      "source": [
        " According to the news given in https://www.pewresearch.org/journalism/2019/12/12/factors-beyond-party-affiliation-also-connect-with-trust-in-the-news-media/, an average of about 33% of people with at least a college degree (more education) say they trust the news (verses 17% of those with some college or less) [3]. Higher education is related to higher income, so I am using the relationship of these two variables to compare later in the multivariate analysis, as it was NOT POSSIBLE to find research on income level and media trust directly (and surprisingly).  \n",
        "  \n",
        "   In the MULTIVARIATE ANALYSIS where we explore the relationship between 2 variables, we DO confirm that there appears to be a positive trend between ANNUAL INCOME and NUM_RELIABLE (number of sources people trust out of 4 listed). In other words, as ANNUAL INCOME increases, so does trust in the media. Or, this is at least the tendency.  \n",
        "  \n",
        "   Here though, using data from the survey, I will perform a hypothesis test to see if there is statistical evidence that the sample mean for ANNUAL INCOME is equal to the hypothesized or known population mean for ANNUAL INCOME for adults in the US. We know that the average income in the US is $54132 annually."
      ],
      "metadata": {
        "id": "X29oYdRTLME3"
      }
    },
    {
      "cell_type": "markdown",
      "source": [
        "> **Hypothesis 0:**   \n",
        "Sample mean is equal to the hypothesized or known population mean: \n",
        "**mean(Annual Income) = 54132**\n",
        "\n",
        "\n",
        "\n",
        "> **Hypothesis 1:**   \n",
        "Sample mean is less than the known population mean  **mean(Annual Income) < 54132**\n",
        "\n",
        "\n",
        "\n",
        "> \n",
        "> **Hypothesis 2:**   \n",
        "Sample mean is greater than the known population mean  **mean(Annual Income) > 54132**\n",
        "\n"
      ],
      "metadata": {
        "id": "61Oa1ZueUdkF"
      }
    },
    {
      "cell_type": "code",
      "source": [
        "news[['Annual Income']].agg([np.mean,np.std]).round(2)"
      ],
      "metadata": {
        "id": "foNhsrnYL4KW",
        "colab": {
          "base_uri": "https://localhost:8080/",
          "height": 112
        },
        "outputId": "8335112d-6586-40e5-c547-7ee3e4593f95"
      },
      "execution_count": 46,
      "outputs": [
        {
          "output_type": "execute_result",
          "data": {
            "text/plain": [
              "      Annual Income\n",
              "mean       44965.52\n",
              "std        31099.78"
            ],
            "text/html": [
              "\n",
              "  <div id=\"df-a494dcf3-4fa1-4398-a77c-166a6421f5b8\">\n",
              "    <div class=\"colab-df-container\">\n",
              "      <div>\n",
              "<style scoped>\n",
              "    .dataframe tbody tr th:only-of-type {\n",
              "        vertical-align: middle;\n",
              "    }\n",
              "\n",
              "    .dataframe tbody tr th {\n",
              "        vertical-align: top;\n",
              "    }\n",
              "\n",
              "    .dataframe thead th {\n",
              "        text-align: right;\n",
              "    }\n",
              "</style>\n",
              "<table border=\"1\" class=\"dataframe\">\n",
              "  <thead>\n",
              "    <tr style=\"text-align: right;\">\n",
              "      <th></th>\n",
              "      <th>Annual Income</th>\n",
              "    </tr>\n",
              "  </thead>\n",
              "  <tbody>\n",
              "    <tr>\n",
              "      <th>mean</th>\n",
              "      <td>44965.52</td>\n",
              "    </tr>\n",
              "    <tr>\n",
              "      <th>std</th>\n",
              "      <td>31099.78</td>\n",
              "    </tr>\n",
              "  </tbody>\n",
              "</table>\n",
              "</div>\n",
              "      <button class=\"colab-df-convert\" onclick=\"convertToInteractive('df-a494dcf3-4fa1-4398-a77c-166a6421f5b8')\"\n",
              "              title=\"Convert this dataframe to an interactive table.\"\n",
              "              style=\"display:none;\">\n",
              "        \n",
              "  <svg xmlns=\"http://www.w3.org/2000/svg\" height=\"24px\"viewBox=\"0 0 24 24\"\n",
              "       width=\"24px\">\n",
              "    <path d=\"M0 0h24v24H0V0z\" fill=\"none\"/>\n",
              "    <path d=\"M18.56 5.44l.94 2.06.94-2.06 2.06-.94-2.06-.94-.94-2.06-.94 2.06-2.06.94zm-11 1L8.5 8.5l.94-2.06 2.06-.94-2.06-.94L8.5 2.5l-.94 2.06-2.06.94zm10 10l.94 2.06.94-2.06 2.06-.94-2.06-.94-.94-2.06-.94 2.06-2.06.94z\"/><path d=\"M17.41 7.96l-1.37-1.37c-.4-.4-.92-.59-1.43-.59-.52 0-1.04.2-1.43.59L10.3 9.45l-7.72 7.72c-.78.78-.78 2.05 0 2.83L4 21.41c.39.39.9.59 1.41.59.51 0 1.02-.2 1.41-.59l7.78-7.78 2.81-2.81c.8-.78.8-2.07 0-2.86zM5.41 20L4 18.59l7.72-7.72 1.47 1.35L5.41 20z\"/>\n",
              "  </svg>\n",
              "      </button>\n",
              "      \n",
              "  <style>\n",
              "    .colab-df-container {\n",
              "      display:flex;\n",
              "      flex-wrap:wrap;\n",
              "      gap: 12px;\n",
              "    }\n",
              "\n",
              "    .colab-df-convert {\n",
              "      background-color: #E8F0FE;\n",
              "      border: none;\n",
              "      border-radius: 50%;\n",
              "      cursor: pointer;\n",
              "      display: none;\n",
              "      fill: #1967D2;\n",
              "      height: 32px;\n",
              "      padding: 0 0 0 0;\n",
              "      width: 32px;\n",
              "    }\n",
              "\n",
              "    .colab-df-convert:hover {\n",
              "      background-color: #E2EBFA;\n",
              "      box-shadow: 0px 1px 2px rgba(60, 64, 67, 0.3), 0px 1px 3px 1px rgba(60, 64, 67, 0.15);\n",
              "      fill: #174EA6;\n",
              "    }\n",
              "\n",
              "    [theme=dark] .colab-df-convert {\n",
              "      background-color: #3B4455;\n",
              "      fill: #D2E3FC;\n",
              "    }\n",
              "\n",
              "    [theme=dark] .colab-df-convert:hover {\n",
              "      background-color: #434B5C;\n",
              "      box-shadow: 0px 1px 3px 1px rgba(0, 0, 0, 0.15);\n",
              "      filter: drop-shadow(0px 1px 2px rgba(0, 0, 0, 0.3));\n",
              "      fill: #FFFFFF;\n",
              "    }\n",
              "  </style>\n",
              "\n",
              "      <script>\n",
              "        const buttonEl =\n",
              "          document.querySelector('#df-a494dcf3-4fa1-4398-a77c-166a6421f5b8 button.colab-df-convert');\n",
              "        buttonEl.style.display =\n",
              "          google.colab.kernel.accessAllowed ? 'block' : 'none';\n",
              "\n",
              "        async function convertToInteractive(key) {\n",
              "          const element = document.querySelector('#df-a494dcf3-4fa1-4398-a77c-166a6421f5b8');\n",
              "          const dataTable =\n",
              "            await google.colab.kernel.invokeFunction('convertToInteractive',\n",
              "                                                     [key], {});\n",
              "          if (!dataTable) return;\n",
              "\n",
              "          const docLinkHtml = 'Like what you see? Visit the ' +\n",
              "            '<a target=\"_blank\" href=https://colab.research.google.com/notebooks/data_table.ipynb>data table notebook</a>'\n",
              "            + ' to learn more about interactive tables.';\n",
              "          element.innerHTML = '';\n",
              "          dataTable['output_type'] = 'display_data';\n",
              "          await google.colab.output.renderOutput(dataTable, element);\n",
              "          const docLink = document.createElement('div');\n",
              "          docLink.innerHTML = docLinkHtml;\n",
              "          element.appendChild(docLink);\n",
              "        }\n",
              "      </script>\n",
              "    </div>\n",
              "  </div>\n",
              "  "
            ]
          },
          "metadata": {},
          "execution_count": 46
        }
      ]
    },
    {
      "cell_type": "markdown",
      "source": [
        "## Hypothesis 0"
      ],
      "metadata": {
        "id": "y57dJ5r7unq4"
      }
    },
    {
      "cell_type": "code",
      "source": [
        "a = news['Annual Income'].to_numpy()\n",
        "stats.ttest_1samp(a=a, popmean=54132, alternative='two-sided')"
      ],
      "metadata": {
        "colab": {
          "base_uri": "https://localhost:8080/"
        },
        "id": "zqs0U0_dA5ed",
        "outputId": "c8620b63-2c90-463b-ee37-ab6ca4459f71"
      },
      "execution_count": 47,
      "outputs": [
        {
          "output_type": "execute_result",
          "data": {
            "text/plain": [
              "Ttest_1sampResult(statistic=-2.749191550582362, pvalue=0.007280216540823491)"
            ]
          },
          "metadata": {},
          "execution_count": 47
        }
      ]
    },
    {
      "cell_type": "markdown",
      "source": [
        "Okay, the test is significant. It looks like we can reject the null hypothesis that the sample mean is equal to the known population mean and move on to testing Hypothesis 1 against Hypothesis 2."
      ],
      "metadata": {
        "id": "I1yOlQAWA8yp"
      }
    },
    {
      "cell_type": "markdown",
      "source": [
        "## Hypothesis 1"
      ],
      "metadata": {
        "id": "RYOTd1_Ju4Pq"
      }
    },
    {
      "cell_type": "code",
      "source": [
        "a = news['Annual Income'].to_numpy()\n",
        "stats.ttest_1samp(a=a, popmean=54132, alternative='less')"
      ],
      "metadata": {
        "colab": {
          "base_uri": "https://localhost:8080/"
        },
        "id": "2HfnEPVzT4CU",
        "outputId": "5d8f6e1b-d34d-4de9-b543-5c5b3332e7b4"
      },
      "execution_count": 48,
      "outputs": [
        {
          "output_type": "execute_result",
          "data": {
            "text/plain": [
              "Ttest_1sampResult(statistic=-2.749191550582362, pvalue=0.0036401082704117455)"
            ]
          },
          "metadata": {},
          "execution_count": 48
        }
      ]
    },
    {
      "cell_type": "markdown",
      "source": [
        "Okay, the test here is also significant with p  < 0.05 (our alpha). We can therefore reject Hypothesis 1 as well, which should make Hypothesis 2 true.\n",
        "\n",
        "\n"
      ],
      "metadata": {
        "id": "v6T6OYGluSZA"
      }
    },
    {
      "cell_type": "markdown",
      "source": [
        "## Hypothesis 2"
      ],
      "metadata": {
        "id": "PNgp7EoavC9l"
      }
    },
    {
      "cell_type": "code",
      "source": [
        "a = news['Annual Income'].to_numpy()\n",
        "stats.ttest_1samp(a=a, popmean=54132, alternative='greater')"
      ],
      "metadata": {
        "colab": {
          "base_uri": "https://localhost:8080/"
        },
        "id": "-aS2yz_Du_yy",
        "outputId": "079fb03b-b7cd-40c2-edaa-98fbb238a649"
      },
      "execution_count": 49,
      "outputs": [
        {
          "output_type": "execute_result",
          "data": {
            "text/plain": [
              "Ttest_1sampResult(statistic=-2.749191550582362, pvalue=0.9963598917295883)"
            ]
          },
          "metadata": {},
          "execution_count": 49
        }
      ]
    },
    {
      "cell_type": "markdown",
      "source": [
        "Okay, this test is not significant. We have confirmed that we can reject Hypothesis 0 and 1, but not Hypothesis 2.  \n",
        "\n",
        "**CONCLUSION:** **The population mean is greater than the sample mean**"
      ],
      "metadata": {
        "id": "XfITzdgkv07v"
      }
    },
    {
      "cell_type": "code",
      "source": [
        "res = stat()\n",
        "res.ttest(df=news, test_type=1, res='Annual Income', mu=54132)\n",
        "print(res.summary)"
      ],
      "metadata": {
        "colab": {
          "base_uri": "https://localhost:8080/"
        },
        "id": "qbYBmgITVgIU",
        "outputId": "feeb4acd-e41a-4179-f238-531da74ea25a"
      },
      "execution_count": 50,
      "outputs": [
        {
          "output_type": "stream",
          "name": "stdout",
          "text": [
            "\n",
            "One Sample t-test \n",
            "\n",
            "------------------  --------------\n",
            "Sample size            87\n",
            "Mean                44965.5\n",
            "t                      -2.74919\n",
            "Df                     86\n",
            "p value (one-tail)      0.00364011\n",
            "p value (two-tail)      0.00728022\n",
            "Lower 95.0%         38337.3\n",
            "Upper 95.0%         51593.8\n",
            "------------------  --------------\n"
          ]
        }
      ]
    },
    {
      "cell_type": "markdown",
      "source": [
        "**Confidenece Interval:**  It appears that a confidence interval for the mean of this variable should be between about 38,337 USD and 51,593 USD"
      ],
      "metadata": {
        "id": "Y1nN8QGHUGUx"
      }
    },
    {
      "cell_type": "markdown",
      "source": [
        "## AGREE  \n",
        "According to the news given in https://www.pewresearch.org/fact-tank/2021/08/30/partisan-divides-in-media-trust-widen-driven-by-a-decline-among-republicans/, AND from what we know already, most people agree with 2 sources out of 4 listed if 2 are from the right and 2 are from the left.   \n",
        "  \n",
        "  Using data from the survey, I will perform a hypothesis test to see if there is statistical evidence that the sample mean is equal to or smaller than the hypothesized or known population mean for the variable AGREE. We will assume that AGREE follows a normal distribution with unknown variance, just like we have for the last two variables.   \n",
        "\n",
        "  We can do this because of the CENTRAL LIMIT THEOREM which states that if the sample size is large enough, the sample distribution of the MEAN will always be normally distributed or APPROACH A NORMAL DISTRIBUTION.\n",
        "  \n",
        "   If the p-value is smaller than alpha, we can reject the test with a level of significance alpha."
      ],
      "metadata": {
        "id": "1kEO9PmpBnY2"
      }
    },
    {
      "cell_type": "code",
      "source": [
        "news[['agree']].agg([np.mean,np.std]).round(2)"
      ],
      "metadata": {
        "colab": {
          "base_uri": "https://localhost:8080/",
          "height": 112
        },
        "id": "DjGRudD6W2fD",
        "outputId": "1fe7150a-1070-44c2-d807-bd718687e099"
      },
      "execution_count": 51,
      "outputs": [
        {
          "output_type": "execute_result",
          "data": {
            "text/plain": [
              "      agree\n",
              "mean   1.79\n",
              "std    1.18"
            ],
            "text/html": [
              "\n",
              "  <div id=\"df-508bfceb-b943-4f21-96e0-ad547aa1dccf\">\n",
              "    <div class=\"colab-df-container\">\n",
              "      <div>\n",
              "<style scoped>\n",
              "    .dataframe tbody tr th:only-of-type {\n",
              "        vertical-align: middle;\n",
              "    }\n",
              "\n",
              "    .dataframe tbody tr th {\n",
              "        vertical-align: top;\n",
              "    }\n",
              "\n",
              "    .dataframe thead th {\n",
              "        text-align: right;\n",
              "    }\n",
              "</style>\n",
              "<table border=\"1\" class=\"dataframe\">\n",
              "  <thead>\n",
              "    <tr style=\"text-align: right;\">\n",
              "      <th></th>\n",
              "      <th>agree</th>\n",
              "    </tr>\n",
              "  </thead>\n",
              "  <tbody>\n",
              "    <tr>\n",
              "      <th>mean</th>\n",
              "      <td>1.79</td>\n",
              "    </tr>\n",
              "    <tr>\n",
              "      <th>std</th>\n",
              "      <td>1.18</td>\n",
              "    </tr>\n",
              "  </tbody>\n",
              "</table>\n",
              "</div>\n",
              "      <button class=\"colab-df-convert\" onclick=\"convertToInteractive('df-508bfceb-b943-4f21-96e0-ad547aa1dccf')\"\n",
              "              title=\"Convert this dataframe to an interactive table.\"\n",
              "              style=\"display:none;\">\n",
              "        \n",
              "  <svg xmlns=\"http://www.w3.org/2000/svg\" height=\"24px\"viewBox=\"0 0 24 24\"\n",
              "       width=\"24px\">\n",
              "    <path d=\"M0 0h24v24H0V0z\" fill=\"none\"/>\n",
              "    <path d=\"M18.56 5.44l.94 2.06.94-2.06 2.06-.94-2.06-.94-.94-2.06-.94 2.06-2.06.94zm-11 1L8.5 8.5l.94-2.06 2.06-.94-2.06-.94L8.5 2.5l-.94 2.06-2.06.94zm10 10l.94 2.06.94-2.06 2.06-.94-2.06-.94-.94-2.06-.94 2.06-2.06.94z\"/><path d=\"M17.41 7.96l-1.37-1.37c-.4-.4-.92-.59-1.43-.59-.52 0-1.04.2-1.43.59L10.3 9.45l-7.72 7.72c-.78.78-.78 2.05 0 2.83L4 21.41c.39.39.9.59 1.41.59.51 0 1.02-.2 1.41-.59l7.78-7.78 2.81-2.81c.8-.78.8-2.07 0-2.86zM5.41 20L4 18.59l7.72-7.72 1.47 1.35L5.41 20z\"/>\n",
              "  </svg>\n",
              "      </button>\n",
              "      \n",
              "  <style>\n",
              "    .colab-df-container {\n",
              "      display:flex;\n",
              "      flex-wrap:wrap;\n",
              "      gap: 12px;\n",
              "    }\n",
              "\n",
              "    .colab-df-convert {\n",
              "      background-color: #E8F0FE;\n",
              "      border: none;\n",
              "      border-radius: 50%;\n",
              "      cursor: pointer;\n",
              "      display: none;\n",
              "      fill: #1967D2;\n",
              "      height: 32px;\n",
              "      padding: 0 0 0 0;\n",
              "      width: 32px;\n",
              "    }\n",
              "\n",
              "    .colab-df-convert:hover {\n",
              "      background-color: #E2EBFA;\n",
              "      box-shadow: 0px 1px 2px rgba(60, 64, 67, 0.3), 0px 1px 3px 1px rgba(60, 64, 67, 0.15);\n",
              "      fill: #174EA6;\n",
              "    }\n",
              "\n",
              "    [theme=dark] .colab-df-convert {\n",
              "      background-color: #3B4455;\n",
              "      fill: #D2E3FC;\n",
              "    }\n",
              "\n",
              "    [theme=dark] .colab-df-convert:hover {\n",
              "      background-color: #434B5C;\n",
              "      box-shadow: 0px 1px 3px 1px rgba(0, 0, 0, 0.15);\n",
              "      filter: drop-shadow(0px 1px 2px rgba(0, 0, 0, 0.3));\n",
              "      fill: #FFFFFF;\n",
              "    }\n",
              "  </style>\n",
              "\n",
              "      <script>\n",
              "        const buttonEl =\n",
              "          document.querySelector('#df-508bfceb-b943-4f21-96e0-ad547aa1dccf button.colab-df-convert');\n",
              "        buttonEl.style.display =\n",
              "          google.colab.kernel.accessAllowed ? 'block' : 'none';\n",
              "\n",
              "        async function convertToInteractive(key) {\n",
              "          const element = document.querySelector('#df-508bfceb-b943-4f21-96e0-ad547aa1dccf');\n",
              "          const dataTable =\n",
              "            await google.colab.kernel.invokeFunction('convertToInteractive',\n",
              "                                                     [key], {});\n",
              "          if (!dataTable) return;\n",
              "\n",
              "          const docLinkHtml = 'Like what you see? Visit the ' +\n",
              "            '<a target=\"_blank\" href=https://colab.research.google.com/notebooks/data_table.ipynb>data table notebook</a>'\n",
              "            + ' to learn more about interactive tables.';\n",
              "          element.innerHTML = '';\n",
              "          dataTable['output_type'] = 'display_data';\n",
              "          await google.colab.output.renderOutput(dataTable, element);\n",
              "          const docLink = document.createElement('div');\n",
              "          docLink.innerHTML = docLinkHtml;\n",
              "          element.appendChild(docLink);\n",
              "        }\n",
              "      </script>\n",
              "    </div>\n",
              "  </div>\n",
              "  "
            ]
          },
          "metadata": {},
          "execution_count": 51
        }
      ]
    },
    {
      "cell_type": "markdown",
      "source": [
        "In our sample, on average, people agree with 1.79 sources listed in the sample.   \n",
        "\n",
        "**We form two hypotheses.**   \n",
        "\n",
        "\n",
        "> **Hypothesis 0:** Sample mean is equal to the hypothesized or known population mean in the real world: **mean(agree) = 2**\n",
        "\n",
        "\n",
        "\n",
        "> **Hypothesis 1:** Sample mean is less than the known population mean in the real world:  \n",
        "**mean(agree) < 2**   \n",
        "\n",
        "\n",
        ">**Hypothesis 2:** Sample mean is greater than the known population mean in the real world:  \n",
        "**mean(agree) > 2**\n",
        "\n"
      ],
      "metadata": {
        "id": "JGdJWNwtnMq0"
      }
    },
    {
      "cell_type": "markdown",
      "source": [
        "We examine the true population mean, which in the real world is 2, because out of 4 sources (two right leaning and two left leaning), people on average tend to AGREE with the 2 that align with their political options.  \n",
        "We are interested in rejecting the null hypothesis and finding statistical evidence for the alternative."
      ],
      "metadata": {
        "id": "8Z6wf0eXm715"
      }
    },
    {
      "cell_type": "markdown",
      "source": [
        "## Hypothesis 0"
      ],
      "metadata": {
        "id": "-fFbvZ7Qx66T"
      }
    },
    {
      "cell_type": "code",
      "source": [
        "a = news['agree'].to_numpy()\n",
        "stats.ttest_1samp(a=a, popmean=2, alternative='two-sided')"
      ],
      "metadata": {
        "colab": {
          "base_uri": "https://localhost:8080/"
        },
        "id": "ygrLUcXqx5XB",
        "outputId": "24a6e16d-57d9-419d-c998-3b0cd2ea6133"
      },
      "execution_count": 52,
      "outputs": [
        {
          "output_type": "execute_result",
          "data": {
            "text/plain": [
              "Ttest_1sampResult(statistic=-1.6318223054907808, pvalue=0.10637360236080207)"
            ]
          },
          "metadata": {},
          "execution_count": 52
        }
      ]
    },
    {
      "cell_type": "markdown",
      "source": [
        "The test is not significant. Our p value is higher than our desired alpha: 0.05. We can not reject this Hypothesis or say anything definitive about Hypothesis 1 in this case. In other words, just because Hypothesis 0 can not be rejected, does not mean that mean that there is evidence for Hypothesis 1 either!!"
      ],
      "metadata": {
        "id": "-ou7C1olyAmp"
      }
    },
    {
      "cell_type": "markdown",
      "source": [
        "# Hypothesis 1 and 2"
      ],
      "metadata": {
        "id": "_-SRPdFFy3ul"
      }
    },
    {
      "cell_type": "code",
      "source": [
        "# is the population mean less than the sample mean?\n",
        "a = news['agree'].to_numpy()\n",
        "stats.ttest_1samp(a=a, popmean=2, alternative='less')"
      ],
      "metadata": {
        "colab": {
          "base_uri": "https://localhost:8080/"
        },
        "id": "FHDFTRaax5Zb",
        "outputId": "702064cd-1589-4ecd-9184-f24d36a0cecc"
      },
      "execution_count": 53,
      "outputs": [
        {
          "output_type": "execute_result",
          "data": {
            "text/plain": [
              "Ttest_1sampResult(statistic=-1.6318223054907808, pvalue=0.05318680118040103)"
            ]
          },
          "metadata": {},
          "execution_count": 53
        }
      ]
    },
    {
      "cell_type": "markdown",
      "source": [
        "The test is very close to being significant, but because p is still not LESS THAN alpha = 0.05, we still must reject Hypothesis 1, which does not tell us anything about Hypothesis 2."
      ],
      "metadata": {
        "id": "Zd6zvS00zQrN"
      }
    },
    {
      "cell_type": "code",
      "source": [
        "res = stat()\n",
        "res.ttest(df=news, test_type=1, res='agree', mu=2)\n",
        "print(res.summary)"
      ],
      "metadata": {
        "colab": {
          "base_uri": "https://localhost:8080/"
        },
        "id": "3JWLKAtxx5cc",
        "outputId": "2b649e15-4c7d-4cfd-b5df-1bf931ed44ef"
      },
      "execution_count": 55,
      "outputs": [
        {
          "output_type": "stream",
          "name": "stdout",
          "text": [
            "\n",
            "One Sample t-test \n",
            "\n",
            "------------------  ----------\n",
            "Sample size         87\n",
            "Mean                 1.7931\n",
            "t                   -1.63182\n",
            "Df                  86\n",
            "p value (one-tail)   0.0531868\n",
            "p value (two-tail)   0.106374\n",
            "Lower 95.0%          1.54106\n",
            "Upper 95.0%          2.04515\n",
            "------------------  ----------\n"
          ]
        }
      ]
    },
    {
      "cell_type": "markdown",
      "source": [
        "**Confidence Interval:** An appropriate confidence interval for the mean of this variable is (1.54, 2.04). This means that 95% of all ???????????????????????? should be found between ?????????????????_."
      ],
      "metadata": {
        "id": "P-NaF5v7zwcs"
      }
    },
    {
      "cell_type": "markdown",
      "source": [
        "## AGE"
      ],
      "metadata": {
        "id": "V3Q_15ysXLu1"
      }
    },
    {
      "cell_type": "markdown",
      "source": [
        "According to the National Census Bureau, the average age in the US is 38.8 years old.\n",
        "  \n",
        "  Using data from the survey, I will perform a hypothesis test to see if there is statistical evidence that the sample mean is equal to or smaller than the hypothesized or known population mean for the variable AGE. We will assume that AGE, again, follows a normal distribution with unknown variance, just like we have for the last three variables.   \n",
        "\n",
        "  We can do this because of the CENTRAL LIMIT THEOREM which states that if the sample size is large enough, the sample distribution of the MEAN will always be normally distributed or APPROACH A NORMAL DISTRIBUTION.\n",
        "  \n",
        "  Again, if the p-value is smaller than alpha, we can reject the test with a level of significance alpha."
      ],
      "metadata": {
        "id": "f7iyYQx11Bmx"
      }
    },
    {
      "cell_type": "code",
      "source": [
        "news[['Age']].agg([np.mean,np.std])"
      ],
      "metadata": {
        "id": "jKL4uM1m4hJk",
        "colab": {
          "base_uri": "https://localhost:8080/",
          "height": 112
        },
        "outputId": "a7d01940-12f8-4a61-a7c6-bb796a472d4a"
      },
      "execution_count": 58,
      "outputs": [
        {
          "output_type": "execute_result",
          "data": {
            "text/plain": [
              "            Age\n",
              "mean  31.241379\n",
              "std   15.731738"
            ],
            "text/html": [
              "\n",
              "  <div id=\"df-e1050b63-1762-4d51-ac13-55a4f905cbdb\">\n",
              "    <div class=\"colab-df-container\">\n",
              "      <div>\n",
              "<style scoped>\n",
              "    .dataframe tbody tr th:only-of-type {\n",
              "        vertical-align: middle;\n",
              "    }\n",
              "\n",
              "    .dataframe tbody tr th {\n",
              "        vertical-align: top;\n",
              "    }\n",
              "\n",
              "    .dataframe thead th {\n",
              "        text-align: right;\n",
              "    }\n",
              "</style>\n",
              "<table border=\"1\" class=\"dataframe\">\n",
              "  <thead>\n",
              "    <tr style=\"text-align: right;\">\n",
              "      <th></th>\n",
              "      <th>Age</th>\n",
              "    </tr>\n",
              "  </thead>\n",
              "  <tbody>\n",
              "    <tr>\n",
              "      <th>mean</th>\n",
              "      <td>31.241379</td>\n",
              "    </tr>\n",
              "    <tr>\n",
              "      <th>std</th>\n",
              "      <td>15.731738</td>\n",
              "    </tr>\n",
              "  </tbody>\n",
              "</table>\n",
              "</div>\n",
              "      <button class=\"colab-df-convert\" onclick=\"convertToInteractive('df-e1050b63-1762-4d51-ac13-55a4f905cbdb')\"\n",
              "              title=\"Convert this dataframe to an interactive table.\"\n",
              "              style=\"display:none;\">\n",
              "        \n",
              "  <svg xmlns=\"http://www.w3.org/2000/svg\" height=\"24px\"viewBox=\"0 0 24 24\"\n",
              "       width=\"24px\">\n",
              "    <path d=\"M0 0h24v24H0V0z\" fill=\"none\"/>\n",
              "    <path d=\"M18.56 5.44l.94 2.06.94-2.06 2.06-.94-2.06-.94-.94-2.06-.94 2.06-2.06.94zm-11 1L8.5 8.5l.94-2.06 2.06-.94-2.06-.94L8.5 2.5l-.94 2.06-2.06.94zm10 10l.94 2.06.94-2.06 2.06-.94-2.06-.94-.94-2.06-.94 2.06-2.06.94z\"/><path d=\"M17.41 7.96l-1.37-1.37c-.4-.4-.92-.59-1.43-.59-.52 0-1.04.2-1.43.59L10.3 9.45l-7.72 7.72c-.78.78-.78 2.05 0 2.83L4 21.41c.39.39.9.59 1.41.59.51 0 1.02-.2 1.41-.59l7.78-7.78 2.81-2.81c.8-.78.8-2.07 0-2.86zM5.41 20L4 18.59l7.72-7.72 1.47 1.35L5.41 20z\"/>\n",
              "  </svg>\n",
              "      </button>\n",
              "      \n",
              "  <style>\n",
              "    .colab-df-container {\n",
              "      display:flex;\n",
              "      flex-wrap:wrap;\n",
              "      gap: 12px;\n",
              "    }\n",
              "\n",
              "    .colab-df-convert {\n",
              "      background-color: #E8F0FE;\n",
              "      border: none;\n",
              "      border-radius: 50%;\n",
              "      cursor: pointer;\n",
              "      display: none;\n",
              "      fill: #1967D2;\n",
              "      height: 32px;\n",
              "      padding: 0 0 0 0;\n",
              "      width: 32px;\n",
              "    }\n",
              "\n",
              "    .colab-df-convert:hover {\n",
              "      background-color: #E2EBFA;\n",
              "      box-shadow: 0px 1px 2px rgba(60, 64, 67, 0.3), 0px 1px 3px 1px rgba(60, 64, 67, 0.15);\n",
              "      fill: #174EA6;\n",
              "    }\n",
              "\n",
              "    [theme=dark] .colab-df-convert {\n",
              "      background-color: #3B4455;\n",
              "      fill: #D2E3FC;\n",
              "    }\n",
              "\n",
              "    [theme=dark] .colab-df-convert:hover {\n",
              "      background-color: #434B5C;\n",
              "      box-shadow: 0px 1px 3px 1px rgba(0, 0, 0, 0.15);\n",
              "      filter: drop-shadow(0px 1px 2px rgba(0, 0, 0, 0.3));\n",
              "      fill: #FFFFFF;\n",
              "    }\n",
              "  </style>\n",
              "\n",
              "      <script>\n",
              "        const buttonEl =\n",
              "          document.querySelector('#df-e1050b63-1762-4d51-ac13-55a4f905cbdb button.colab-df-convert');\n",
              "        buttonEl.style.display =\n",
              "          google.colab.kernel.accessAllowed ? 'block' : 'none';\n",
              "\n",
              "        async function convertToInteractive(key) {\n",
              "          const element = document.querySelector('#df-e1050b63-1762-4d51-ac13-55a4f905cbdb');\n",
              "          const dataTable =\n",
              "            await google.colab.kernel.invokeFunction('convertToInteractive',\n",
              "                                                     [key], {});\n",
              "          if (!dataTable) return;\n",
              "\n",
              "          const docLinkHtml = 'Like what you see? Visit the ' +\n",
              "            '<a target=\"_blank\" href=https://colab.research.google.com/notebooks/data_table.ipynb>data table notebook</a>'\n",
              "            + ' to learn more about interactive tables.';\n",
              "          element.innerHTML = '';\n",
              "          dataTable['output_type'] = 'display_data';\n",
              "          await google.colab.output.renderOutput(dataTable, element);\n",
              "          const docLink = document.createElement('div');\n",
              "          docLink.innerHTML = docLinkHtml;\n",
              "          element.appendChild(docLink);\n",
              "        }\n",
              "      </script>\n",
              "    </div>\n",
              "  </div>\n",
              "  "
            ]
          },
          "metadata": {},
          "execution_count": 58
        }
      ]
    },
    {
      "cell_type": "markdown",
      "source": [
        "## Hypothesis 0"
      ],
      "metadata": {
        "id": "Ihn14w_z2_yM"
      }
    },
    {
      "cell_type": "code",
      "source": [
        "a = news['Age'].to_numpy()\n",
        "stats.ttest_1samp(a=a, popmean=38.8, alternative='two-sided')"
      ],
      "metadata": {
        "colab": {
          "base_uri": "https://localhost:8080/"
        },
        "id": "nDMgQ8di1wZ3",
        "outputId": "65110b2a-9c38-4a2e-c3ae-f25fdb5ecce1"
      },
      "execution_count": 60,
      "outputs": [
        {
          "output_type": "execute_result",
          "data": {
            "text/plain": [
              "Ttest_1sampResult(statistic=-4.481521479865284, pvalue=2.271128038148699e-05)"
            ]
          },
          "metadata": {},
          "execution_count": 60
        }
      ]
    },
    {
      "cell_type": "markdown",
      "source": [
        "Okay, this test is definitely significant. We can reject Hypothesis 0. Let's see about Hypothesis 1."
      ],
      "metadata": {
        "id": "1n0JPgBF2YHI"
      }
    },
    {
      "cell_type": "markdown",
      "source": [
        "## Hypothesis 1"
      ],
      "metadata": {
        "id": "vXrWrxzV3CiQ"
      }
    },
    {
      "cell_type": "code",
      "source": [
        "# is the average population age less than the mean sample age?\n",
        "a = news['Age'].to_numpy()\n",
        "stats.ttest_1samp(a=a, popmean=38.8, alternative='less')"
      ],
      "metadata": {
        "colab": {
          "base_uri": "https://localhost:8080/"
        },
        "id": "nWusVAh32fM8",
        "outputId": "2ec8fb69-895d-4f7f-d934-c94a13b6eca4"
      },
      "execution_count": 61,
      "outputs": [
        {
          "output_type": "execute_result",
          "data": {
            "text/plain": [
              "Ttest_1sampResult(statistic=-4.481521479865284, pvalue=1.1355640190743495e-05)"
            ]
          },
          "metadata": {},
          "execution_count": 61
        }
      ]
    },
    {
      "cell_type": "markdown",
      "source": [
        "This test is also significant. p is still less than 0.05. Let's reject Hypothesis 1 as well, which would automatically allow us to assume Hypothesis 2 to be true. We can still perform the t-test for Hypothesis 2 to make sure it can not be rejected."
      ],
      "metadata": {
        "id": "hK3PCP5022rt"
      }
    },
    {
      "cell_type": "markdown",
      "source": [
        "## Hypothesis 2"
      ],
      "metadata": {
        "id": "TvzLL5lh3GFc"
      }
    },
    {
      "cell_type": "code",
      "source": [
        "# is the average population age greater than the mean sample age?\n",
        "a = news['Age'].to_numpy()\n",
        "stats.ttest_1samp(a=a, popmean=38.8, alternative='greater')"
      ],
      "metadata": {
        "colab": {
          "base_uri": "https://localhost:8080/"
        },
        "id": "CtjE2stz3I3v",
        "outputId": "ed8a3b4d-b911-4836-d3be-69ceb8ff3068"
      },
      "execution_count": 62,
      "outputs": [
        {
          "output_type": "execute_result",
          "data": {
            "text/plain": [
              "Ttest_1sampResult(statistic=-4.481521479865284, pvalue=0.9999886443598093)"
            ]
          },
          "metadata": {},
          "execution_count": 62
        }
      ]
    },
    {
      "cell_type": "markdown",
      "source": [
        "Indeed, Hypothesis 1 seems to be correct."
      ],
      "metadata": {
        "id": "g7qtodQQ3vQL"
      }
    },
    {
      "cell_type": "code",
      "source": [
        "res = stat()\n",
        "res.ttest(df=news, test_type=1, res='Age', mu=38.8)\n",
        "print(res.summary)"
      ],
      "metadata": {
        "colab": {
          "base_uri": "https://localhost:8080/"
        },
        "id": "jJkfgVxX31bj",
        "outputId": "2907aa53-37c4-4be1-aaea-1ee5d4a4a3c8"
      },
      "execution_count": 63,
      "outputs": [
        {
          "output_type": "stream",
          "name": "stdout",
          "text": [
            "\n",
            "One Sample t-test \n",
            "\n",
            "------------------  ------------\n",
            "Sample size         87\n",
            "Mean                31.2414\n",
            "t                   -4.48152\n",
            "Df                  86\n",
            "p value (one-tail)   1.13556e-05\n",
            "p value (two-tail)   2.27113e-05\n",
            "Lower 95.0%         27.8885\n",
            "Upper 95.0%         34.5943\n",
            "------------------  ------------\n"
          ]
        }
      ]
    },
    {
      "cell_type": "markdown",
      "source": [
        "**Confidence Interval:** An appropriate confidence interval for the mean of this variable is between 27.88 and 34.59. This means that 95% of all ???????????????????????? should be found between ?????????????????_."
      ],
      "metadata": {
        "id": "50WH1OFK3-mk"
      }
    },
    {
      "cell_type": "markdown",
      "source": [
        "## Hypothesis tests -- STATISTICAL INFERENCE"
      ],
      "metadata": {
        "id": "GnOEv4lRYLh2"
      }
    },
    {
      "cell_type": "markdown",
      "source": [
        "## Statistical Inference of two variables  \n"
      ],
      "metadata": {
        "id": "O5jD6pLhYOQ7"
      }
    },
    {
      "cell_type": "markdown",
      "source": [
        "\n",
        "1) Does age influence trust? (age, num_reliable)   \n",
        "\n",
        "2) Does age influence the trusted source? (age, Trusted Source)  \n",
        "\n",
        "3) Does occupation influence trust (students vs other)? (occupation, num_reliable)  \n",
        "\n",
        "4) Does income affect the trusted news source? (income, num_reliable)   \n",
        "\n",
        "5) Does occupation influence agreement with certain news channels? (occupation, Trusted Source)"
      ],
      "metadata": {
        "id": "okFJL6BKJ-us"
      }
    },
    {
      "cell_type": "markdown",
      "source": [
        "*Perform interesting hypothesis test based on two variables.  These can be different depending on yourdata.  For example, you may want to test if two categorical variables are related to one another.  Oryou may want to compare if there are statistical differences in the mean of two (or more) populations.In case you have two paired continuous variables, you may want to test if there exist significant linearcorrelation between them.*"
      ],
      "metadata": {
        "id": "R8Li6dW9iHP_"
      }
    },
    {
      "cell_type": "code",
      "source": [],
      "metadata": {
        "id": "moCstUiP080Y"
      },
      "execution_count": null,
      "outputs": []
    },
    {
      "cell_type": "markdown",
      "source": [
        "## Correlation"
      ],
      "metadata": {
        "id": "N9FPcBTuf-T4"
      }
    },
    {
      "cell_type": "code",
      "source": [
        "#CORRELATION MATRIX AMONG FEATURES\n",
        "corrmat = news.corr()\n",
        "f,ax = plt.subplots(figsize=(5,4))\n",
        "sns.heatmap(corrmat, square=True)"
      ],
      "metadata": {
        "id": "_8CpUtDMKDpM",
        "colab": {
          "base_uri": "https://localhost:8080/",
          "height": 351
        },
        "outputId": "9f1e06a5-231e-428d-86a7-88af15637a77"
      },
      "execution_count": null,
      "outputs": [
        {
          "output_type": "execute_result",
          "data": {
            "text/plain": [
              "<matplotlib.axes._subplots.AxesSubplot at 0x7fb7d8b8ef50>"
            ]
          },
          "metadata": {},
          "execution_count": 155
        },
        {
          "output_type": "display_data",
          "data": {
            "text/plain": [
              "<Figure size 360x288 with 2 Axes>"
            ],
            "image/png": "[encoded data removed]"
          },
          "metadata": {
            "needs_background": "light"
          }
        }
      ]
    },
    {
      "cell_type": "markdown",
      "source": [
        "It is easy to tell which variables could be related to one another when it comes to this multi-variate analysis. We could pretty much answer the above questions just by looking at this correlation matrix, but let's look closer at each of the two variable being compared in the questions"
      ],
      "metadata": {
        "id": "ZLy1TobigAOE"
      }
    },
    {
      "cell_type": "markdown",
      "source": [
        "Inference methods for two qualitative variables:   \n",
        "\n",
        "contingency table  \n",
        "Chi-square distribution  \n",
        "Cramer's V coefficient  \n",
        "  \n",
        "    \n",
        "  Methods for one quantitative / one qualitative:"
      ],
      "metadata": {
        "id": "YDQLNiYNw5V0"
      }
    },
    {
      "cell_type": "code",
      "source": [
        "# 1) Does age influence trust?\n",
        "# one quantitative / one qualitative\n",
        "# boxplot\n",
        "\n",
        "sns.boxplot(x=news['num_reliable'], y='Age', data=news)\n",
        "plt.xlabel('Number of trusted sources') # Set text for the x axis\n",
        "plt.xticks(rotation=45)\n",
        "plt.ylabel('Age')# Set text for y axis\n",
        "plt.show()"
      ],
      "metadata": {
        "colab": {
          "base_uri": "https://localhost:8080/",
          "height": 281
        },
        "id": "JwPb7IZQenY3",
        "outputId": "4d42480c-40e8-4ad8-cb58-375ef6147489"
      },
      "execution_count": null,
      "outputs": [
        {
          "output_type": "display_data",
          "data": {
            "text/plain": [
              "<Figure size 432x288 with 1 Axes>"
            ],
            "image/png": "[encoded data removed]"
          },
          "metadata": {
            "needs_background": "light"
          }
        }
      ]
    },
    {
      "cell_type": "markdown",
      "source": [
        "Pearson Correlation"
      ],
      "metadata": {
        "id": "enF8b-5ixSi3"
      }
    },
    {
      "cell_type": "markdown",
      "source": [
        "Conclusion:"
      ],
      "metadata": {
        "id": "-Dh8ymC__v4z"
      }
    },
    {
      "cell_type": "code",
      "source": [
        "# 2) Does age influence trusted source?\n",
        "# boxplot\n",
        "# one qualitative / one quantitative\n",
        "\n",
        "sns.boxplot(x=news['Trusted Source'], y='Age', data=news)\n",
        "plt.xlabel('Trusted news source') # Set text for the x axis\n",
        "plt.xticks(rotation=45)\n",
        "plt.ylabel('Age')# Set text for y axis\n",
        "plt.show()"
      ],
      "metadata": {
        "colab": {
          "base_uri": "https://localhost:8080/",
          "height": 357
        },
        "id": "xjC14aIwetsH",
        "outputId": "8a56a3c8-67bd-453e-dc68-ea489cfb6775"
      },
      "execution_count": null,
      "outputs": [
        {
          "output_type": "display_data",
          "data": {
            "text/plain": [
              "<Figure size 432x288 with 1 Axes>"
            ],
            "image/png": "[encoded data removed]"
          },
          "metadata": {
            "needs_background": "light"
          }
        }
      ]
    },
    {
      "cell_type": "markdown",
      "source": [
        "Conclusion:"
      ],
      "metadata": {
        "id": "VzwUCxJt_xSl"
      }
    },
    {
      "cell_type": "code",
      "source": [
        "# 3) Does occupation influence trust?\n",
        "# barplot\n",
        "# two qualitative\n",
        "\n",
        "fig = plt.figure(figsize = (6, 6))\n",
        "plt.bar(news['Occupation'], news['num_reliable'],\n",
        "        width = 0.4)\n",
        " \n",
        "plt.xlabel(\"Occupation\")\n",
        "plt.xticks(rotation=90)\n",
        "my_yticks = news['num_reliable'].values\n",
        "plt.yticks(my_yticks)\n",
        "plt.ylabel(\"Number of Sources Trusted\")\n",
        "plt.show()"
      ],
      "metadata": {
        "colab": {
          "base_uri": "https://localhost:8080/",
          "height": 473
        },
        "id": "m2Anh6zPeygi",
        "outputId": "63de413f-3efe-4568-f7f7-3259a230901d"
      },
      "execution_count": null,
      "outputs": [
        {
          "output_type": "display_data",
          "data": {
            "text/plain": [
              "<Figure size 432x432 with 1 Axes>"
            ],
            "image/png": "[encoded data removed]"
          },
          "metadata": {
            "needs_background": "light"
          }
        }
      ]
    },
    {
      "cell_type": "markdown",
      "source": [
        "Conclusion:"
      ],
      "metadata": {
        "id": "CxhLtSxg_ztf"
      }
    },
    {
      "cell_type": "code",
      "source": [
        "# 4) Does income level influence trusted news source?\n",
        "# boxplot\n",
        "# one qualitative / one quantitative \n",
        "\n",
        "sns.boxplot(x=news['Trusted Source'], y='Annual Income', data=news)\n",
        "plt.xlabel('Trusted News Source') # Set text for the x axis\n",
        "plt.xticks(rotation=45)\n",
        "plt.ylabel('Annual Income')# Set text for y axis\n",
        "plt.show()"
      ],
      "metadata": {
        "colab": {
          "base_uri": "https://localhost:8080/",
          "height": 357
        },
        "id": "u-BaptSGe7LT",
        "outputId": "4ae84570-4d98-49ce-fe89-4a99a1d80fac"
      },
      "execution_count": null,
      "outputs": [
        {
          "output_type": "display_data",
          "data": {
            "text/plain": [
              "<Figure size 432x288 with 1 Axes>"
            ],
            "image/png": "[encoded data removed]"
          },
          "metadata": {
            "needs_background": "light"
          }
        }
      ]
    },
    {
      "cell_type": "markdown",
      "source": [
        "Conclusion:"
      ],
      "metadata": {
        "id": "8jIBwei__09k"
      }
    },
    {
      "cell_type": "code",
      "source": [
        "# 5) Does occupation influence agreement?\n",
        "# barplot\n",
        "# two qualitative\n",
        "\n",
        "fig = plt.figure(figsize = (6, 6))\n",
        "plt.bar(news['Occupation'], news['agree'],\n",
        "        width = 0.4)\n",
        " \n",
        "plt.xlabel(\"Occupation\")\n",
        "plt.xticks(rotation=90)\n",
        "my_yticks = news['agree'].values\n",
        "plt.yticks(my_yticks)\n",
        "plt.ylabel(\"Number of Sources Agreed with\")\n",
        "plt.show()"
      ],
      "metadata": {
        "colab": {
          "base_uri": "https://localhost:8080/",
          "height": 473
        },
        "id": "SdkHCyhDfayV",
        "outputId": "36a329f7-317a-453a-da8c-e6d6b974d22e"
      },
      "execution_count": null,
      "outputs": [
        {
          "output_type": "display_data",
          "data": {
            "text/plain": [
              "<Figure size 432x432 with 1 Axes>"
            ],
            "image/png": "[encoded data removed]"
          },
          "metadata": {
            "needs_background": "light"
          }
        }
      ]
    },
    {
      "cell_type": "code",
      "source": [
        "# 6) Does income influence the number of sources people trust?\n",
        "# one qualitative / one quantitative\n",
        "\n",
        "sns.boxplot(x=news['num_reliable'], y='Annual Income', data=news)\n",
        "plt.xlabel('Number of trusted sources') # Set text for the x axis\n",
        "plt.xticks(rotation=45)\n",
        "plt.ylabel('Annual Income')# Set text for y axis\n",
        "plt.show()"
      ],
      "metadata": {
        "colab": {
          "base_uri": "https://localhost:8080/",
          "height": 281
        },
        "id": "HZ3MGi0pQo28",
        "outputId": "e5ed95cb-6887-4d74-e59f-016b79ba0f26"
      },
      "execution_count": null,
      "outputs": [
        {
          "output_type": "display_data",
          "data": {
            "text/plain": [
              "<Figure size 432x288 with 1 Axes>"
            ],
            "image/png": "[encoded data removed]"
          },
          "metadata": {
            "needs_background": "light"
          }
        }
      ]
    },
    {
      "cell_type": "markdown",
      "source": [
        "Conclusion:"
      ],
      "metadata": {
        "id": "CTcYpgLO_5Kg"
      }
    },
    {
      "cell_type": "markdown",
      "source": [
        "## Final Remarks:\n",
        "According to a report found at https://today.yougov.com/topics/politics/articles-reports/2022/04/05/trust-media-2022-where-americans-get-news-poll, The Weather Channel, The Wall Street Journal and Public Service Broadcasting amoung the most reliable. NY Times in the middle and CNN and FoxNews last.  \n",
        "  \n",
        "  Most people trust Fox which is completely the opposite of evidence on the internet, and not many people trust CNN which is right along the lines with what Pew Research says. Very few people in the survey agree with 1 or all of the sources listed and most people agree with 2 or 3. They also mostly trust 2 or 3."
      ],
      "metadata": {
        "id": "FRINhfNBc1es"
      }
    },
    {
      "cell_type": "markdown",
      "source": [
        "References:  \n",
        "[1] scribbr.com/statistics/central-limit-theorem/#:~:text=The%20central%20limit%20theorem%20says,the%20mean%20will%20be%20normal  \n",
        "\n",
        "[2] https://www.reneshbedre.com/blog/ttest.html    \n",
        "\n",
        "[3] https://www.pewresearch.org/journalism/2019/12/12/factors-beyond-party-affiliation-also-connect-with-trust-in-the-news-media/"
      ],
      "metadata": {
        "id": "2Y9Mw4TCzqEc"
      }
    },
    {
      "cell_type": "code",
      "source": [],
      "metadata": {
        "id": "t_R22B4Vf71E"
      },
      "execution_count": null,
      "outputs": []
    }
  ]
}